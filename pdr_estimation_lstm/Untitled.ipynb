{
 "cells": [
  {
   "cell_type": "code",
   "execution_count": 1,
   "id": "4f78d361",
   "metadata": {},
   "outputs": [
    {
     "name": "stderr",
     "output_type": "stream",
     "text": [
      "c:\\python39\\lib\\site-packages\\tqdm\\auto.py:22: TqdmWarning: IProgress not found. Please update jupyter and ipywidgets. See https://ipywidgets.readthedocs.io/en/stable/user_install.html\n",
      "  from .autonotebook import tqdm as notebook_tqdm\n"
     ]
    }
   ],
   "source": [
    "import torch\n",
    "import torch.nn as nn\n",
    "import torch.nn.functional as f\n",
    "# Adam is faster than SGD (Stochastic Gradient Descent)\n",
    "from torch.optim import Adam\n",
    "\n",
    "import lightning as L\n",
    "from torch.utils.data import TensorDataset, DataLoader"
   ]
  },
  {
   "cell_type": "code",
   "execution_count": 59,
   "id": "20ce6113",
   "metadata": {},
   "outputs": [],
   "source": [
    "class LSTMbyHand(L.LightningModule):\n",
    "    \"\"\"\n",
    "    Class created in order to initialize a LSTM RNN model that predicts a stock's value in the 5th day,\n",
    "    having other 4 days as inputs\n",
    "    \"\"\"\n",
    "    \n",
    "    def __init__(self):\n",
    "        \"\"\"\n",
    "        Create and initialize Weight and Bias tensors\n",
    "        \"\"\"\n",
    "        # First, call the initialization method for the parent clas, LightningModule\n",
    "        super().__init__()\n",
    "        \n",
    "        # We initialize the weights and biases around 0 (we make a normal distribution around 0 and a standard \n",
    "        # deviation around 1)\n",
    "        mean = torch.tensor(0.0)\n",
    "        std = torch.tensor(1.0)\n",
    "        \n",
    "        # We initialize the weights/biases for all the gates (all the cells in the LSTM unit)\n",
    "        self.wlr1 = nn.Parameter(torch.normal(mean=mean, std=std), requires_grad=True)\n",
    "        self.wlr2 = nn.Parameter(torch.normal(mean=mean, std=std), requires_grad=True)\n",
    "        self.blr1 = nn.Parameter(torch.tensor(0., requires_grad=True))\n",
    "                                 \n",
    "        self.wpr1 = nn.Parameter(torch.normal(mean=mean, std=std), requires_grad=True)\n",
    "        self.wpr2 = nn.Parameter(torch.normal(mean=mean, std=std), requires_grad=True)\n",
    "        self.bpr1 = nn.Parameter(torch.tensor(0., requires_grad=True))\n",
    "                                 \n",
    "        self.wp1 = nn.Parameter(torch.normal(mean=mean, std=std), requires_grad=True)\n",
    "        self.wp2 = nn.Parameter(torch.normal(mean=mean, std=std), requires_grad=True)\n",
    "        self.bp1 = nn.Parameter(torch.tensor(0., requires_grad=True))\n",
    "                                \n",
    "        self.wo1 = nn.Parameter(torch.normal(mean=mean, std=std), requires_grad=True)\n",
    "        self.wo2 = nn.Parameter(torch.normal(mean=mean, std=std), requires_grad=True)\n",
    "        self.bo1 = nn.Parameter(torch.tensor(0., requires_grad=True))\n",
    "    \n",
    "    def lstm_unit(self, input_value, long_memory, short_memory):\n",
    "        \"\"\"\n",
    "        Do the LSTM math\n",
    "        \"\"\"\n",
    "        # Calculates the percentage of the long-term memory to remember\n",
    "        long_remember_percent = torch.sigmoid((short_memory * self.wlr1) + (input_value * self.wlr2) + self.blr1)\n",
    "        \n",
    "        # Creates a new, potential long-term memory and determines what percentage of it to remember\n",
    "        potential_remember_percent = torch.sigmoid((short_memory * self.wpr1) + (input_value * self.wpr2) + self.bpr1)\n",
    "        potential_memory = torch.tanh((short_memory * self.wp1) + (input_value * self.wp2) + self.bp1)\n",
    "        \n",
    "        # Update the long-term memory\n",
    "        updated_long_memory = ((long_memory * long_remember_percent) + (potential_remember_percent * potential_memory))\n",
    "        \n",
    "        # Create a new short-term memory and determine what percentage to remember\n",
    "        output_percent = torch.sigmoid((short_memory * self.wo1) + (input_value * self.wo2) + self.bo1)\n",
    "        updated_short_memory = torch.tanh(updated_long_memory) * output_percent\n",
    "        \n",
    "        # Return the long and short-term memories\n",
    "        return([updated_long_memory, updated_short_memory])\n",
    "    \n",
    "    def forward(self, input):\n",
    "        \"\"\"\n",
    "        Make a forward pass through unrolled LSTM\n",
    "        \"\"\"\n",
    "        long_memory = 0\n",
    "        short_memory = 0\n",
    "        day1 = input[0]\n",
    "        day2 = input[1]\n",
    "        day3 = input[2]\n",
    "        day4 = input[3]\n",
    "        \n",
    "        # Call LSTM with initial values (Day 1)\n",
    "        long_memory, short_memory = self.lstm_unit(day1, long_memory, short_memory)\n",
    "        \n",
    "        # Call LSTM with values from Day 2\n",
    "        long_memory, short_memory = self.lstm_unit(day2, long_memory, short_memory)\n",
    "        \n",
    "        # LSTM with values from Day 3\n",
    "        long_memory, short_memory = self.lstm_unit(day3, long_memory, short_memory)\n",
    "        \n",
    "        # LSTM with values from Day 4\n",
    "        long_memory, short_memory = self.lstm_unit(day4, long_memory, short_memory)\n",
    "        \n",
    "        return short_memory\n",
    "    \n",
    "    def configure_optimizers(self):\n",
    "        \"\"\"\n",
    "        Configure Adam optimizer\n",
    "        \"\"\"\n",
    "        return Adam(self.parameters())\n",
    "    \n",
    "    def training_step(self, batch, batch_idx):\n",
    "        \"\"\"\n",
    "        Calculate loss and log training progress\n",
    "        \"\"\"\n",
    "        input_i, label_i = batch\n",
    "        output_i = self.forward(input_i[0])\n",
    "        loss = (output_i - label_i)**2\n",
    "        \n",
    "        self.log(\"train_loss\", loss)\n",
    "        \n",
    "        if (label_i == 0):\n",
    "            self.log(\"out_0\", output_i)\n",
    "        else:\n",
    "            self.log(\"out_1\", output_i)\n",
    "            \n",
    "        return loss"
   ]
  },
  {
   "cell_type": "code",
   "execution_count": 60,
   "id": "57377730",
   "metadata": {},
   "outputs": [
    {
     "name": "stdout",
     "output_type": "stream",
     "text": [
      "\n",
      "Now let's compare the observed and predicted values...\n",
      "Company A: Observed = 0, Predicted =  tensor(0.4568)\n"
     ]
    }
   ],
   "source": [
    "model = LSTMbyHand()\n",
    "print(\"\\nNow let's compare the observed and predicted values...\")\n",
    "print(\"Company A: Observed = 0, Predicted = \", model(torch.tensor([0., 0.5, 0.25, 1.])).detach())"
   ]
  },
  {
   "cell_type": "code",
   "execution_count": 61,
   "id": "5318a435",
   "metadata": {},
   "outputs": [
    {
     "name": "stdout",
     "output_type": "stream",
     "text": [
      "Company B: Observed = 1, Predicted =  tensor(0.6164)\n"
     ]
    }
   ],
   "source": [
    "print(\"Company B: Observed = 1, Predicted = \", model(torch.tensor([1., 0.5, 0.25, 1.])).detach())"
   ]
  },
  {
   "cell_type": "code",
   "execution_count": 62,
   "id": "f5c71f91",
   "metadata": {},
   "outputs": [],
   "source": [
    "# Input data, days 1..4\n",
    "inputs = torch.tensor([[0., 0.5, 0.25, 1.], [1., 0.5, 0.25, 1.]])\n",
    "# Label data, what we want to predict (0 for company A, 1 for company B)\n",
    "labels = torch.tensor([0., 1.])\n",
    "\n",
    "dataset = TensorDataset(inputs, labels)\n",
    "dataloader = DataLoader(dataset)"
   ]
  },
  {
   "cell_type": "code",
   "execution_count": 50,
   "id": "30d0b187",
   "metadata": {},
   "outputs": [
    {
     "name": "stderr",
     "output_type": "stream",
     "text": [
      "GPU available: False, used: False\n",
      "TPU available: False, using: 0 TPU cores\n",
      "IPU available: False, using: 0 IPUs\n",
      "HPU available: False, using: 0 HPUs\n",
      "Missing logger folder: C:\\Users\\Enachele\\Desktop\\Dissertatie\\Program\\Disertation_Program\\PROGRAM_FINAL\\indoor-localization-dnn-knn\\pdr_estimation_lstm\\lightning_logs\n",
      "\n",
      "  | Name | Type | Params\n",
      "------------------------------\n",
      "------------------------------\n",
      "12        Trainable params\n",
      "0         Non-trainable params\n",
      "12        Total params\n",
      "0.000     Total estimated model params size (MB)\n",
      "c:\\python39\\lib\\site-packages\\lightning\\pytorch\\trainer\\connectors\\data_connector.py:430: PossibleUserWarning: The dataloader, train_dataloader, does not have many workers which may be a bottleneck. Consider increasing the value of the `num_workers` argument` (try 16 which is the number of cpus on this machine) in the `DataLoader` init to improve performance.\n",
      "  rank_zero_warn(\n",
      "c:\\python39\\lib\\site-packages\\lightning\\pytorch\\loops\\fit_loop.py:280: PossibleUserWarning: The number of training batches (2) is smaller than the logging interval Trainer(log_every_n_steps=50). Set a lower value for log_every_n_steps if you want to see logs for the training epoch.\n",
      "  rank_zero_warn(\n"
     ]
    },
    {
     "name": "stdout",
     "output_type": "stream",
     "text": [
      "Epoch 1999: 100%|███████████████████████████████████████████████████████████████████████████████████████| 2/2 [00:00<00:00, 83.35it/s, v_num=0]"
     ]
    },
    {
     "name": "stderr",
     "output_type": "stream",
     "text": [
      "`Trainer.fit` stopped: `max_epochs=2000` reached.\n"
     ]
    },
    {
     "name": "stdout",
     "output_type": "stream",
     "text": [
      "Epoch 1999: 100%|███████████████████████████████████████████████████████████████████████████████████████| 2/2 [00:00<00:00, 62.51it/s, v_num=0]\n"
     ]
    }
   ],
   "source": [
    "# Training the model\n",
    "trainer = L.Trainer(max_epochs=2000)\n",
    "trainer.fit(model, train_dataloaders=dataloader)"
   ]
  },
  {
   "cell_type": "code",
   "execution_count": 67,
   "id": "73b4abe4",
   "metadata": {},
   "outputs": [
    {
     "name": "stdout",
     "output_type": "stream",
     "text": [
      "\n",
      "Now let's compare the observed and predicted values...\n",
      "Company A: Observed = 0, Predicted =  tensor(0.4568)\n"
     ]
    }
   ],
   "source": [
    "# After training for 2000 epochs\n",
    "print(\"\\nNow let's compare the observed and predicted values...\")\n",
    "print(\"Company A: Observed = 0, Predicted = \", model(torch.tensor([0., 0.5, 0.25, 1.])).detach())"
   ]
  },
  {
   "cell_type": "code",
   "execution_count": 68,
   "id": "5dd9e77d",
   "metadata": {},
   "outputs": [
    {
     "name": "stdout",
     "output_type": "stream",
     "text": [
      "Company B: Observed = 1, Predicted =  tensor(0.6164)\n"
     ]
    }
   ],
   "source": [
    "print(\"Company B: Observed = 1, Predicted = \", model(torch.tensor([1., 0.5, 0.25, 1.])).detach())"
   ]
  },
  {
   "cell_type": "markdown",
   "id": "db5274f5",
   "metadata": {},
   "source": [
    "## In order to see how the epochs evolved, go to the folder with the ligning_logs file and input \n",
    "> vtensorboard --logdir=lightning_logs/"
   ]
  },
  {
   "cell_type": "code",
   "execution_count": 69,
   "id": "cd08b8b7",
   "metadata": {},
   "outputs": [
    {
     "name": "stderr",
     "output_type": "stream",
     "text": [
      "GPU available: False, used: False\n",
      "TPU available: False, using: 0 TPU cores\n",
      "IPU available: False, using: 0 IPUs\n",
      "HPU available: False, using: 0 HPUs\n",
      "Restoring states from the checkpoint path at C:\\Users\\Enachele\\Desktop\\Dissertatie\\Program\\Disertation_Program\\PROGRAM_FINAL\\indoor-localization-dnn-knn\\pdr_estimation_lstm\\lightning_logs\\version_0\\checkpoints\\epoch=1999-step=4000.ckpt\n",
      "c:\\python39\\lib\\site-packages\\lightning\\pytorch\\callbacks\\model_checkpoint.py:337: UserWarning: The dirpath has changed from 'C:\\\\Users\\\\Enachele\\\\Desktop\\\\Dissertatie\\\\Program\\\\Disertation_Program\\\\PROGRAM_FINAL\\\\indoor-localization-dnn-knn\\\\pdr_estimation_lstm\\\\lightning_logs\\\\version_0\\\\checkpoints' to 'C:\\\\Users\\\\Enachele\\\\Desktop\\\\Dissertatie\\\\Program\\\\Disertation_Program\\\\PROGRAM_FINAL\\\\indoor-localization-dnn-knn\\\\pdr_estimation_lstm\\\\lightning_logs\\\\version_1\\\\checkpoints', therefore `best_model_score`, `kth_best_model_path`, `kth_value`, `last_model_path` and `best_k_models` won't be reloaded. Only `best_model_path` will be reloaded.\n",
      "  warnings.warn(\n",
      "\n",
      "  | Name | Type | Params\n",
      "------------------------------\n",
      "------------------------------\n",
      "12        Trainable params\n",
      "0         Non-trainable params\n",
      "12        Total params\n",
      "0.000     Total estimated model params size (MB)\n",
      "Restored all states from the checkpoint at C:\\Users\\Enachele\\Desktop\\Dissertatie\\Program\\Disertation_Program\\PROGRAM_FINAL\\indoor-localization-dnn-knn\\pdr_estimation_lstm\\lightning_logs\\version_0\\checkpoints\\epoch=1999-step=4000.ckpt\n",
      "c:\\python39\\lib\\site-packages\\lightning\\pytorch\\trainer\\connectors\\data_connector.py:430: PossibleUserWarning: The dataloader, train_dataloader, does not have many workers which may be a bottleneck. Consider increasing the value of the `num_workers` argument` (try 16 which is the number of cpus on this machine) in the `DataLoader` init to improve performance.\n",
      "  rank_zero_warn(\n",
      "c:\\python39\\lib\\site-packages\\lightning\\pytorch\\loops\\fit_loop.py:280: PossibleUserWarning: The number of training batches (2) is smaller than the logging interval Trainer(log_every_n_steps=50). Set a lower value for log_every_n_steps if you want to see logs for the training epoch.\n",
      "  rank_zero_warn(\n"
     ]
    },
    {
     "name": "stdout",
     "output_type": "stream",
     "text": [
      "Epoch 2999: 100%|██████████████████████████████████████████████████████████████████████████████████████| 2/2 [00:00<00:00, 105.27it/s, v_num=1]"
     ]
    },
    {
     "name": "stderr",
     "output_type": "stream",
     "text": [
      "`Trainer.fit` stopped: `max_epochs=3000` reached.\n"
     ]
    },
    {
     "name": "stdout",
     "output_type": "stream",
     "text": [
      "Epoch 2999: 100%|███████████████████████████████████████████████████████████████████████████████████████| 2/2 [00:00<00:00, 79.98it/s, v_num=1]\n"
     ]
    }
   ],
   "source": [
    "# Adding additional 1000 epochs to improve teh results\n",
    "path_to_best_checkpoint = trainer.checkpoint_callback.best_model_path\n",
    "\n",
    "trainer = L.Trainer(max_epochs=3000)\n",
    "trainer.fit(model, train_dataloaders=dataloader, ckpt_path=path_to_best_checkpoint)"
   ]
  },
  {
   "cell_type": "code",
   "execution_count": 70,
   "id": "109767b2",
   "metadata": {},
   "outputs": [
    {
     "name": "stdout",
     "output_type": "stream",
     "text": [
      "\n",
      "Now let's compare the observed and predicted values...\n",
      "Company A: Observed = 0, Predicted =  tensor(0.0016)\n"
     ]
    }
   ],
   "source": [
    "# After training for 3000 epochs\n",
    "print(\"\\nNow let's compare the observed and predicted values...\")\n",
    "print(\"Company A: Observed = 0, Predicted = \", model(torch.tensor([0., 0.5, 0.25, 1.])).detach())"
   ]
  },
  {
   "cell_type": "code",
   "execution_count": 71,
   "id": "00f7e0ef",
   "metadata": {},
   "outputs": [
    {
     "name": "stdout",
     "output_type": "stream",
     "text": [
      "Company B: Observed = 1, Predicted =  tensor(0.9624)\n"
     ]
    }
   ],
   "source": [
    "print(\"Company B: Observed = 1, Predicted = \", model(torch.tensor([1., 0.5, 0.25, 1.])).detach())"
   ]
  },
  {
   "cell_type": "markdown",
   "id": "f8bc7848",
   "metadata": {},
   "source": [
    "## Now we create a new class that creates a LSTM model, this time with nn.lstm"
   ]
  },
  {
   "cell_type": "code",
   "execution_count": 73,
   "id": "e21b4947",
   "metadata": {},
   "outputs": [],
   "source": [
    "class LightningLSTM(L.LightningModule):\n",
    "    \n",
    "    def __init__(self):\n",
    "        \"\"\"\n",
    "        Create and initialize the LSTM unit\n",
    "        \"\"\"\n",
    "        super().__init__()\n",
    "        # input_size = number of features (only 1 for us)\n",
    "        # hidden_size = the number of output values we want\n",
    "        self.lstm = nn.LSTM(input_size=1, hidden_size=1)\n",
    "        \n",
    "    def forward(self, input):\n",
    "        \"\"\"\n",
    "        Make a forward pass through unrolled LSTM\n",
    "        \"\"\"\n",
    "        input_trans = input.view(len(input), 1)\n",
    "        \n",
    "        lstm_out, temp = self.lstm(input_trans)\n",
    "        \n",
    "        prediction = lstm_out[-1]\n",
    "        return prediction\n",
    "    \n",
    "    def configure_optimizers(self):\n",
    "        \"\"\"\n",
    "        Create optimizer with learning rate = 0.1\n",
    "        \"\"\"\n",
    "        return Adam(self.parameters(), lr=0.1)\n",
    "    \n",
    "    def training_step(self, batch, batch_idx):\n",
    "        \"\"\"\n",
    "        Calculate loss and log training progress\n",
    "        \"\"\"\n",
    "        input_i, label_i = batch\n",
    "        output_i = self.forward(input_i[0])\n",
    "        loss = (output_i - label_i)**2\n",
    "        \n",
    "        self.log(\"train_loss\", loss)\n",
    "        \n",
    "        if (label_i == 0):\n",
    "            self.log(\"out_0\", output_i)\n",
    "        else:\n",
    "            self.log(\"out_1\", output_i)\n",
    "            \n",
    "        return loss"
   ]
  },
  {
   "cell_type": "code",
   "execution_count": 88,
   "id": "a1f3b5ff",
   "metadata": {},
   "outputs": [
    {
     "name": "stdout",
     "output_type": "stream",
     "text": [
      "\n",
      "Now let's compare the observed and predicted values...\n",
      "Company A: Observed = 0, Predicted =  tensor([0.1081])\n"
     ]
    }
   ],
   "source": [
    "model = LightningLSTM()\n",
    "print(\"\\nNow let's compare the observed and predicted values...\")\n",
    "print(\"Company A: Observed = 0, Predicted = \", model(torch.tensor([0., 0.5, 0.25, 1.])).detach())"
   ]
  },
  {
   "cell_type": "code",
   "execution_count": 89,
   "id": "a0dc7928",
   "metadata": {},
   "outputs": [
    {
     "name": "stdout",
     "output_type": "stream",
     "text": [
      "Company B: Observed = 1, Predicted =  tensor([-0.0979])\n"
     ]
    }
   ],
   "source": [
    "print(\"Company B: Observed = 1, Predicted = \", model(torch.tensor([1., 0.5, 0.25, 1.])).detach())"
   ]
  },
  {
   "cell_type": "code",
   "execution_count": 90,
   "id": "e561f55e",
   "metadata": {},
   "outputs": [
    {
     "name": "stderr",
     "output_type": "stream",
     "text": [
      "GPU available: False, used: False\n",
      "TPU available: False, using: 0 TPU cores\n",
      "IPU available: False, using: 0 IPUs\n",
      "HPU available: False, using: 0 HPUs\n",
      "\n",
      "  | Name | Type | Params\n",
      "------------------------------\n",
      "0 | lstm | LSTM | 16    \n",
      "------------------------------\n",
      "16        Trainable params\n",
      "0         Non-trainable params\n",
      "16        Total params\n",
      "0.000     Total estimated model params size (MB)\n"
     ]
    },
    {
     "name": "stdout",
     "output_type": "stream",
     "text": [
      "Epoch 499: 100%|████████████████████████████████████████████████████████████████████████████████████████| 2/2 [00:00<00:00, 95.23it/s, v_num=6]"
     ]
    },
    {
     "name": "stderr",
     "output_type": "stream",
     "text": [
      "`Trainer.fit` stopped: `max_epochs=500` reached.\n"
     ]
    },
    {
     "name": "stdout",
     "output_type": "stream",
     "text": [
      "Epoch 499: 100%|████████████████████████████████████████████████████████████████████████████████████████| 2/2 [00:00<00:00, 71.42it/s, v_num=6]\n"
     ]
    }
   ],
   "source": [
    "# Lowered the number of epochs because we've increased the learning rate of the optimizer\n",
    "trainer = L.Trainer(max_epochs=500, log_every_n_steps=2)\n",
    "\n",
    "trainer.fit(model, train_dataloaders=dataloader)"
   ]
  },
  {
   "cell_type": "code",
   "execution_count": 91,
   "id": "568956c2",
   "metadata": {},
   "outputs": [
    {
     "name": "stdout",
     "output_type": "stream",
     "text": [
      "\n",
      "Now let's compare the observed and predicted values...\n",
      "Company A: Observed = 0, Predicted =  tensor([0.0064])\n"
     ]
    }
   ],
   "source": [
    "model = LightningLSTM()\n",
    "print(\"\\nNow let's compare the observed and predicted values...\")\n",
    "print(\"Company A: Observed = 0, Predicted = \", model(torch.tensor([0., 0.5, 0.25, 1.])).detach())"
   ]
  },
  {
   "cell_type": "code",
   "execution_count": 92,
   "id": "2811d0a0",
   "metadata": {},
   "outputs": [
    {
     "name": "stdout",
     "output_type": "stream",
     "text": [
      "Company B: Observed = 1, Predicted =  tensor([0.0043])\n"
     ]
    }
   ],
   "source": [
    "print(\"Company B: Observed = 1, Predicted = \", model(torch.tensor([1., 0.5, 0.25, 1.])).detach())"
   ]
  },
  {
   "cell_type": "code",
   "execution_count": null,
   "id": "ad215882",
   "metadata": {},
   "outputs": [],
   "source": []
  }
 ],
 "metadata": {
  "kernelspec": {
   "display_name": "Python 3 (ipykernel)",
   "language": "python",
   "name": "python3"
  },
  "language_info": {
   "codemirror_mode": {
    "name": "ipython",
    "version": 3
   },
   "file_extension": ".py",
   "mimetype": "text/x-python",
   "name": "python",
   "nbconvert_exporter": "python",
   "pygments_lexer": "ipython3",
   "version": "3.9.2"
  }
 },
 "nbformat": 4,
 "nbformat_minor": 5
}
