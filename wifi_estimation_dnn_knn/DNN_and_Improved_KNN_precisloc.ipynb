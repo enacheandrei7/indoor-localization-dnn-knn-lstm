{
 "cells": [
  {
   "cell_type": "markdown",
   "id": "04f1d8c6",
   "metadata": {},
   "source": [
    "# 1. Importing pacakges"
   ]
  },
  {
   "cell_type": "code",
   "execution_count": 2,
   "id": "5636f53a",
   "metadata": {
    "scrolled": true
   },
   "outputs": [],
   "source": [
    "import pandas as pd\n",
    "import numpy as np\n",
    "import os\n",
    "from IPython.display import clear_output\n",
    "import xml.etree.ElementTree as ET\n",
    "import tensorflow as tf\n",
    "import keras\n",
    "from keras.layers import Dense\n",
    "from keras.models import Sequential\n",
    "import torch\n",
    "from sklearn.preprocessing import scale, LabelEncoder, StandardScaler\n",
    "from sklearn.model_selection import train_test_split\n",
    "from sklearn.metrics import confusion_matrix, accuracy_score, mean_squared_error, classification_report\n",
    "from sklearn.neighbors import KNeighborsRegressor\n",
    "import geopy.distance\n",
    "import seaborn as sns\n",
    "import matplotlib\n",
    "import matplotlib.pyplot as plt\n",
    "from matplotlib.colors import ListedColormap\n",
    "%matplotlib inline\n",
    "\n",
    "font = {'family' : 'normal',\n",
    "        'weight' : 'bold',\n",
    "        'size'   : 22}\n",
    "\n",
    "matplotlib.rc('font', **font)"
   ]
  },
  {
   "cell_type": "markdown",
   "id": "d9a2a727",
   "metadata": {},
   "source": [
    "## 2. Importing and vizualizing the data"
   ]
  },
  {
   "cell_type": "code",
   "execution_count": 3,
   "id": "45046b90",
   "metadata": {},
   "outputs": [],
   "source": [
    "wifi_and_loc_file = '../data/Processed/full_wifi_data_and_location_without_1.csv'"
   ]
  },
  {
   "cell_type": "markdown",
   "id": "f1dddd65",
   "metadata": {},
   "source": [
    "## 2.1. Getting details about df"
   ]
  },
  {
   "cell_type": "code",
   "execution_count": 4,
   "id": "38790444",
   "metadata": {},
   "outputs": [
    {
     "data": {
      "text/html": [
       "<div>\n",
       "<style scoped>\n",
       "    .dataframe tbody tr th:only-of-type {\n",
       "        vertical-align: middle;\n",
       "    }\n",
       "\n",
       "    .dataframe tbody tr th {\n",
       "        vertical-align: top;\n",
       "    }\n",
       "\n",
       "    .dataframe thead th {\n",
       "        text-align: right;\n",
       "    }\n",
       "</style>\n",
       "<table border=\"1\" class=\"dataframe\">\n",
       "  <thead>\n",
       "    <tr style=\"text-align: right;\">\n",
       "      <th></th>\n",
       "      <th>32:cd:a7:a0:6d:d8</th>\n",
       "      <th>84:b2:61:56:8a:01</th>\n",
       "      <th>84:b2:61:56:8a:02</th>\n",
       "      <th>84:b2:61:56:8a:00</th>\n",
       "      <th>84:b2:61:6d:3d:22</th>\n",
       "      <th>84:b2:61:6d:3d:21</th>\n",
       "      <th>84:b2:61:6d:3d:20</th>\n",
       "      <th>84:b2:61:5e:44:22</th>\n",
       "      <th>84:b2:61:5e:44:21</th>\n",
       "      <th>84:b2:61:5e:44:20</th>\n",
       "      <th>...</th>\n",
       "      <th>84:b2:61:6d:52:a1</th>\n",
       "      <th>84:b2:61:6d:52:a0</th>\n",
       "      <th>84:b2:61:6d:52:a2</th>\n",
       "      <th>84:b2:61:6d:52:af</th>\n",
       "      <th>84:b2:61:40:75:f1</th>\n",
       "      <th>84:b2:61:40:75:f2</th>\n",
       "      <th>84:b2:61:40:75:f0</th>\n",
       "      <th>c4:71:54:39:70:e4</th>\n",
       "      <th>lat</th>\n",
       "      <th>long</th>\n",
       "    </tr>\n",
       "  </thead>\n",
       "  <tbody>\n",
       "    <tr>\n",
       "      <th>12:15:53:00</th>\n",
       "      <td>-39.0</td>\n",
       "      <td>-58.0</td>\n",
       "      <td>-58.0</td>\n",
       "      <td>-58.0</td>\n",
       "      <td>-70.0</td>\n",
       "      <td>-70.0</td>\n",
       "      <td>-70.0</td>\n",
       "      <td>-73.0</td>\n",
       "      <td>-73.0</td>\n",
       "      <td>-72.0</td>\n",
       "      <td>...</td>\n",
       "      <td>NaN</td>\n",
       "      <td>NaN</td>\n",
       "      <td>NaN</td>\n",
       "      <td>NaN</td>\n",
       "      <td>NaN</td>\n",
       "      <td>NaN</td>\n",
       "      <td>NaN</td>\n",
       "      <td>NaN</td>\n",
       "      <td>44.434937</td>\n",
       "      <td>26.047613</td>\n",
       "    </tr>\n",
       "    <tr>\n",
       "      <th>12:15:54:00</th>\n",
       "      <td>-48.0</td>\n",
       "      <td>-51.0</td>\n",
       "      <td>-52.0</td>\n",
       "      <td>-52.0</td>\n",
       "      <td>-69.0</td>\n",
       "      <td>-71.0</td>\n",
       "      <td>-71.0</td>\n",
       "      <td>-74.0</td>\n",
       "      <td>-74.0</td>\n",
       "      <td>-74.0</td>\n",
       "      <td>...</td>\n",
       "      <td>NaN</td>\n",
       "      <td>NaN</td>\n",
       "      <td>NaN</td>\n",
       "      <td>NaN</td>\n",
       "      <td>NaN</td>\n",
       "      <td>NaN</td>\n",
       "      <td>NaN</td>\n",
       "      <td>NaN</td>\n",
       "      <td>44.434937</td>\n",
       "      <td>26.047624</td>\n",
       "    </tr>\n",
       "    <tr>\n",
       "      <th>12:15:55:00</th>\n",
       "      <td>-45.0</td>\n",
       "      <td>-52.0</td>\n",
       "      <td>-52.0</td>\n",
       "      <td>-52.0</td>\n",
       "      <td>-72.0</td>\n",
       "      <td>-71.0</td>\n",
       "      <td>-71.0</td>\n",
       "      <td>-73.0</td>\n",
       "      <td>-73.0</td>\n",
       "      <td>-73.0</td>\n",
       "      <td>...</td>\n",
       "      <td>NaN</td>\n",
       "      <td>NaN</td>\n",
       "      <td>NaN</td>\n",
       "      <td>NaN</td>\n",
       "      <td>NaN</td>\n",
       "      <td>NaN</td>\n",
       "      <td>NaN</td>\n",
       "      <td>NaN</td>\n",
       "      <td>44.434937</td>\n",
       "      <td>26.047637</td>\n",
       "    </tr>\n",
       "    <tr>\n",
       "      <th>12:15:56:00</th>\n",
       "      <td>-51.0</td>\n",
       "      <td>-42.0</td>\n",
       "      <td>-42.0</td>\n",
       "      <td>-42.0</td>\n",
       "      <td>-75.0</td>\n",
       "      <td>-72.0</td>\n",
       "      <td>-75.0</td>\n",
       "      <td>-79.0</td>\n",
       "      <td>-77.0</td>\n",
       "      <td>-79.0</td>\n",
       "      <td>...</td>\n",
       "      <td>NaN</td>\n",
       "      <td>NaN</td>\n",
       "      <td>NaN</td>\n",
       "      <td>NaN</td>\n",
       "      <td>NaN</td>\n",
       "      <td>NaN</td>\n",
       "      <td>NaN</td>\n",
       "      <td>NaN</td>\n",
       "      <td>44.434937</td>\n",
       "      <td>26.047652</td>\n",
       "    </tr>\n",
       "    <tr>\n",
       "      <th>12:15:59:00</th>\n",
       "      <td>-50.0</td>\n",
       "      <td>-38.0</td>\n",
       "      <td>-37.0</td>\n",
       "      <td>-38.0</td>\n",
       "      <td>NaN</td>\n",
       "      <td>NaN</td>\n",
       "      <td>NaN</td>\n",
       "      <td>-61.0</td>\n",
       "      <td>-61.0</td>\n",
       "      <td>-62.0</td>\n",
       "      <td>...</td>\n",
       "      <td>NaN</td>\n",
       "      <td>NaN</td>\n",
       "      <td>NaN</td>\n",
       "      <td>NaN</td>\n",
       "      <td>NaN</td>\n",
       "      <td>NaN</td>\n",
       "      <td>NaN</td>\n",
       "      <td>NaN</td>\n",
       "      <td>44.434937</td>\n",
       "      <td>26.047674</td>\n",
       "    </tr>\n",
       "    <tr>\n",
       "      <th>...</th>\n",
       "      <td>...</td>\n",
       "      <td>...</td>\n",
       "      <td>...</td>\n",
       "      <td>...</td>\n",
       "      <td>...</td>\n",
       "      <td>...</td>\n",
       "      <td>...</td>\n",
       "      <td>...</td>\n",
       "      <td>...</td>\n",
       "      <td>...</td>\n",
       "      <td>...</td>\n",
       "      <td>...</td>\n",
       "      <td>...</td>\n",
       "      <td>...</td>\n",
       "      <td>...</td>\n",
       "      <td>...</td>\n",
       "      <td>...</td>\n",
       "      <td>...</td>\n",
       "      <td>...</td>\n",
       "      <td>...</td>\n",
       "      <td>...</td>\n",
       "    </tr>\n",
       "    <tr>\n",
       "      <th>19:09:23:00</th>\n",
       "      <td>-56.0</td>\n",
       "      <td>-55.0</td>\n",
       "      <td>-54.0</td>\n",
       "      <td>-55.0</td>\n",
       "      <td>-72.0</td>\n",
       "      <td>-72.0</td>\n",
       "      <td>-73.0</td>\n",
       "      <td>-71.0</td>\n",
       "      <td>-71.0</td>\n",
       "      <td>-71.0</td>\n",
       "      <td>...</td>\n",
       "      <td>NaN</td>\n",
       "      <td>NaN</td>\n",
       "      <td>NaN</td>\n",
       "      <td>NaN</td>\n",
       "      <td>NaN</td>\n",
       "      <td>NaN</td>\n",
       "      <td>NaN</td>\n",
       "      <td>-96.0</td>\n",
       "      <td>44.434937</td>\n",
       "      <td>26.047657</td>\n",
       "    </tr>\n",
       "    <tr>\n",
       "      <th>19:09:24:00</th>\n",
       "      <td>-49.0</td>\n",
       "      <td>-49.0</td>\n",
       "      <td>-49.0</td>\n",
       "      <td>-49.0</td>\n",
       "      <td>-74.0</td>\n",
       "      <td>-74.0</td>\n",
       "      <td>-74.0</td>\n",
       "      <td>-78.0</td>\n",
       "      <td>-77.0</td>\n",
       "      <td>-78.0</td>\n",
       "      <td>...</td>\n",
       "      <td>NaN</td>\n",
       "      <td>NaN</td>\n",
       "      <td>NaN</td>\n",
       "      <td>NaN</td>\n",
       "      <td>NaN</td>\n",
       "      <td>NaN</td>\n",
       "      <td>NaN</td>\n",
       "      <td>NaN</td>\n",
       "      <td>44.434937</td>\n",
       "      <td>26.047642</td>\n",
       "    </tr>\n",
       "    <tr>\n",
       "      <th>19:09:25:00</th>\n",
       "      <td>-49.0</td>\n",
       "      <td>-55.0</td>\n",
       "      <td>-54.0</td>\n",
       "      <td>-54.0</td>\n",
       "      <td>-80.0</td>\n",
       "      <td>-80.0</td>\n",
       "      <td>-79.0</td>\n",
       "      <td>-79.0</td>\n",
       "      <td>-80.0</td>\n",
       "      <td>-79.0</td>\n",
       "      <td>...</td>\n",
       "      <td>NaN</td>\n",
       "      <td>NaN</td>\n",
       "      <td>NaN</td>\n",
       "      <td>NaN</td>\n",
       "      <td>NaN</td>\n",
       "      <td>NaN</td>\n",
       "      <td>NaN</td>\n",
       "      <td>NaN</td>\n",
       "      <td>44.434937</td>\n",
       "      <td>26.047628</td>\n",
       "    </tr>\n",
       "    <tr>\n",
       "      <th>19:09:26:00</th>\n",
       "      <td>-46.0</td>\n",
       "      <td>-61.0</td>\n",
       "      <td>-61.0</td>\n",
       "      <td>-61.0</td>\n",
       "      <td>-72.0</td>\n",
       "      <td>-72.0</td>\n",
       "      <td>-72.0</td>\n",
       "      <td>-74.0</td>\n",
       "      <td>-74.0</td>\n",
       "      <td>-74.0</td>\n",
       "      <td>...</td>\n",
       "      <td>NaN</td>\n",
       "      <td>NaN</td>\n",
       "      <td>NaN</td>\n",
       "      <td>NaN</td>\n",
       "      <td>NaN</td>\n",
       "      <td>NaN</td>\n",
       "      <td>NaN</td>\n",
       "      <td>NaN</td>\n",
       "      <td>44.434937</td>\n",
       "      <td>26.047614</td>\n",
       "    </tr>\n",
       "    <tr>\n",
       "      <th>19:09:27:00</th>\n",
       "      <td>-46.0</td>\n",
       "      <td>-61.0</td>\n",
       "      <td>-61.0</td>\n",
       "      <td>-61.0</td>\n",
       "      <td>-72.0</td>\n",
       "      <td>-72.0</td>\n",
       "      <td>-72.0</td>\n",
       "      <td>-74.0</td>\n",
       "      <td>-74.0</td>\n",
       "      <td>-74.0</td>\n",
       "      <td>...</td>\n",
       "      <td>NaN</td>\n",
       "      <td>NaN</td>\n",
       "      <td>NaN</td>\n",
       "      <td>NaN</td>\n",
       "      <td>NaN</td>\n",
       "      <td>NaN</td>\n",
       "      <td>NaN</td>\n",
       "      <td>NaN</td>\n",
       "      <td>44.434937</td>\n",
       "      <td>26.047602</td>\n",
       "    </tr>\n",
       "  </tbody>\n",
       "</table>\n",
       "<p>530 rows × 43 columns</p>\n",
       "</div>"
      ],
      "text/plain": [
       "             32:cd:a7:a0:6d:d8  84:b2:61:56:8a:01  84:b2:61:56:8a:02  \\\n",
       "12:15:53:00              -39.0              -58.0              -58.0   \n",
       "12:15:54:00              -48.0              -51.0              -52.0   \n",
       "12:15:55:00              -45.0              -52.0              -52.0   \n",
       "12:15:56:00              -51.0              -42.0              -42.0   \n",
       "12:15:59:00              -50.0              -38.0              -37.0   \n",
       "...                        ...                ...                ...   \n",
       "19:09:23:00              -56.0              -55.0              -54.0   \n",
       "19:09:24:00              -49.0              -49.0              -49.0   \n",
       "19:09:25:00              -49.0              -55.0              -54.0   \n",
       "19:09:26:00              -46.0              -61.0              -61.0   \n",
       "19:09:27:00              -46.0              -61.0              -61.0   \n",
       "\n",
       "             84:b2:61:56:8a:00  84:b2:61:6d:3d:22  84:b2:61:6d:3d:21  \\\n",
       "12:15:53:00              -58.0              -70.0              -70.0   \n",
       "12:15:54:00              -52.0              -69.0              -71.0   \n",
       "12:15:55:00              -52.0              -72.0              -71.0   \n",
       "12:15:56:00              -42.0              -75.0              -72.0   \n",
       "12:15:59:00              -38.0                NaN                NaN   \n",
       "...                        ...                ...                ...   \n",
       "19:09:23:00              -55.0              -72.0              -72.0   \n",
       "19:09:24:00              -49.0              -74.0              -74.0   \n",
       "19:09:25:00              -54.0              -80.0              -80.0   \n",
       "19:09:26:00              -61.0              -72.0              -72.0   \n",
       "19:09:27:00              -61.0              -72.0              -72.0   \n",
       "\n",
       "             84:b2:61:6d:3d:20  84:b2:61:5e:44:22  84:b2:61:5e:44:21  \\\n",
       "12:15:53:00              -70.0              -73.0              -73.0   \n",
       "12:15:54:00              -71.0              -74.0              -74.0   \n",
       "12:15:55:00              -71.0              -73.0              -73.0   \n",
       "12:15:56:00              -75.0              -79.0              -77.0   \n",
       "12:15:59:00                NaN              -61.0              -61.0   \n",
       "...                        ...                ...                ...   \n",
       "19:09:23:00              -73.0              -71.0              -71.0   \n",
       "19:09:24:00              -74.0              -78.0              -77.0   \n",
       "19:09:25:00              -79.0              -79.0              -80.0   \n",
       "19:09:26:00              -72.0              -74.0              -74.0   \n",
       "19:09:27:00              -72.0              -74.0              -74.0   \n",
       "\n",
       "             84:b2:61:5e:44:20  ...  84:b2:61:6d:52:a1  84:b2:61:6d:52:a0  \\\n",
       "12:15:53:00              -72.0  ...                NaN                NaN   \n",
       "12:15:54:00              -74.0  ...                NaN                NaN   \n",
       "12:15:55:00              -73.0  ...                NaN                NaN   \n",
       "12:15:56:00              -79.0  ...                NaN                NaN   \n",
       "12:15:59:00              -62.0  ...                NaN                NaN   \n",
       "...                        ...  ...                ...                ...   \n",
       "19:09:23:00              -71.0  ...                NaN                NaN   \n",
       "19:09:24:00              -78.0  ...                NaN                NaN   \n",
       "19:09:25:00              -79.0  ...                NaN                NaN   \n",
       "19:09:26:00              -74.0  ...                NaN                NaN   \n",
       "19:09:27:00              -74.0  ...                NaN                NaN   \n",
       "\n",
       "             84:b2:61:6d:52:a2  84:b2:61:6d:52:af  84:b2:61:40:75:f1  \\\n",
       "12:15:53:00                NaN                NaN                NaN   \n",
       "12:15:54:00                NaN                NaN                NaN   \n",
       "12:15:55:00                NaN                NaN                NaN   \n",
       "12:15:56:00                NaN                NaN                NaN   \n",
       "12:15:59:00                NaN                NaN                NaN   \n",
       "...                        ...                ...                ...   \n",
       "19:09:23:00                NaN                NaN                NaN   \n",
       "19:09:24:00                NaN                NaN                NaN   \n",
       "19:09:25:00                NaN                NaN                NaN   \n",
       "19:09:26:00                NaN                NaN                NaN   \n",
       "19:09:27:00                NaN                NaN                NaN   \n",
       "\n",
       "             84:b2:61:40:75:f2  84:b2:61:40:75:f0  c4:71:54:39:70:e4  \\\n",
       "12:15:53:00                NaN                NaN                NaN   \n",
       "12:15:54:00                NaN                NaN                NaN   \n",
       "12:15:55:00                NaN                NaN                NaN   \n",
       "12:15:56:00                NaN                NaN                NaN   \n",
       "12:15:59:00                NaN                NaN                NaN   \n",
       "...                        ...                ...                ...   \n",
       "19:09:23:00                NaN                NaN              -96.0   \n",
       "19:09:24:00                NaN                NaN                NaN   \n",
       "19:09:25:00                NaN                NaN                NaN   \n",
       "19:09:26:00                NaN                NaN                NaN   \n",
       "19:09:27:00                NaN                NaN                NaN   \n",
       "\n",
       "                   lat       long  \n",
       "12:15:53:00  44.434937  26.047613  \n",
       "12:15:54:00  44.434937  26.047624  \n",
       "12:15:55:00  44.434937  26.047637  \n",
       "12:15:56:00  44.434937  26.047652  \n",
       "12:15:59:00  44.434937  26.047674  \n",
       "...                ...        ...  \n",
       "19:09:23:00  44.434937  26.047657  \n",
       "19:09:24:00  44.434937  26.047642  \n",
       "19:09:25:00  44.434937  26.047628  \n",
       "19:09:26:00  44.434937  26.047614  \n",
       "19:09:27:00  44.434937  26.047602  \n",
       "\n",
       "[530 rows x 43 columns]"
      ]
     },
     "execution_count": 4,
     "metadata": {},
     "output_type": "execute_result"
    }
   ],
   "source": [
    "df_wifi_and_loc_file = pd.read_csv(wifi_and_loc_file, index_col=0)\n",
    "df_wifi_and_loc_file.sample(frac=1)\n",
    "df_wifi_and_loc_file"
   ]
  },
  {
   "cell_type": "code",
   "execution_count": 5,
   "id": "c0c24460",
   "metadata": {},
   "outputs": [],
   "source": [
    "# for i in range(3):\n",
    "#     df_wifi_and_loc_file = pd.concat([df_wifi_and_loc_file, df_wifi_and_loc_file], axis=0)\n",
    "# df_wifi_and_loc_file.sample(frac=1)\n",
    "# df_wifi_and_loc_file"
   ]
  },
  {
   "cell_type": "code",
   "execution_count": 6,
   "id": "9294169f",
   "metadata": {},
   "outputs": [
    {
     "data": {
      "text/plain": [
       "32:cd:a7:a0:6d:d8    float64\n",
       "84:b2:61:56:8a:01    float64\n",
       "84:b2:61:56:8a:02    float64\n",
       "84:b2:61:56:8a:00    float64\n",
       "84:b2:61:6d:3d:22    float64\n",
       "84:b2:61:6d:3d:21    float64\n",
       "84:b2:61:6d:3d:20    float64\n",
       "84:b2:61:5e:44:22    float64\n",
       "84:b2:61:5e:44:21    float64\n",
       "84:b2:61:5e:44:20    float64\n",
       "84:b2:61:47:dd:42    float64\n",
       "84:b2:61:47:dd:41    float64\n",
       "84:b2:61:47:dd:40    float64\n",
       "84:b2:61:47:e2:c0    float64\n",
       "84:b2:61:56:8a:0f    float64\n",
       "84:b2:61:56:8a:0e    float64\n",
       "84:b2:61:56:8a:0d    float64\n",
       "84:b2:61:5e:44:2f    float64\n",
       "84:b2:61:5e:44:2d    float64\n",
       "84:b2:61:6d:3d:2e    float64\n",
       "84:b2:61:5e:44:2e    float64\n",
       "84:b2:61:6d:3d:2d    float64\n",
       "84:b2:61:6d:3d:2f    float64\n",
       "84:b2:61:47:dd:4e    float64\n",
       "84:b2:61:47:dd:4f    float64\n",
       "84:b2:61:47:dd:4d    float64\n",
       "84:b2:61:47:e2:c2    float64\n",
       "84:b2:61:47:e2:c1    float64\n",
       "84:b2:61:6d:5d:70    float64\n",
       "84:b2:61:6d:5d:72    float64\n",
       "84:b2:61:6d:5d:71    float64\n",
       "84:b2:61:47:e2:ce    float64\n",
       "84:b2:61:47:e2:cd    float64\n",
       "84:b2:61:6d:52:a1    float64\n",
       "84:b2:61:6d:52:a0    float64\n",
       "84:b2:61:6d:52:a2    float64\n",
       "84:b2:61:6d:52:af    float64\n",
       "84:b2:61:40:75:f1    float64\n",
       "84:b2:61:40:75:f2    float64\n",
       "84:b2:61:40:75:f0    float64\n",
       "c4:71:54:39:70:e4    float64\n",
       "lat                  float64\n",
       "long                 float64\n",
       "dtype: object"
      ]
     },
     "execution_count": 6,
     "metadata": {},
     "output_type": "execute_result"
    }
   ],
   "source": [
    "df_wifi_and_loc_file.dtypes"
   ]
  },
  {
   "cell_type": "code",
   "execution_count": 7,
   "id": "f2a105ec",
   "metadata": {},
   "outputs": [
    {
     "data": {
      "text/plain": [
       "Index(['32:cd:a7:a0:6d:d8', '84:b2:61:56:8a:01', '84:b2:61:56:8a:02',\n",
       "       '84:b2:61:56:8a:00', '84:b2:61:6d:3d:22', '84:b2:61:6d:3d:21',\n",
       "       '84:b2:61:6d:3d:20', '84:b2:61:5e:44:22', '84:b2:61:5e:44:21',\n",
       "       '84:b2:61:5e:44:20', '84:b2:61:47:dd:42', '84:b2:61:47:dd:41',\n",
       "       '84:b2:61:47:dd:40', '84:b2:61:47:e2:c0', '84:b2:61:56:8a:0f',\n",
       "       '84:b2:61:56:8a:0e', '84:b2:61:56:8a:0d', '84:b2:61:5e:44:2f',\n",
       "       '84:b2:61:5e:44:2d', '84:b2:61:6d:3d:2e', '84:b2:61:5e:44:2e',\n",
       "       '84:b2:61:6d:3d:2d', '84:b2:61:6d:3d:2f', '84:b2:61:47:dd:4e',\n",
       "       '84:b2:61:47:dd:4f', '84:b2:61:47:dd:4d', '84:b2:61:47:e2:c2',\n",
       "       '84:b2:61:47:e2:c1', '84:b2:61:6d:5d:70', '84:b2:61:6d:5d:72',\n",
       "       '84:b2:61:6d:5d:71', '84:b2:61:47:e2:ce', '84:b2:61:47:e2:cd',\n",
       "       '84:b2:61:6d:52:a1', '84:b2:61:6d:52:a0', '84:b2:61:6d:52:a2',\n",
       "       '84:b2:61:6d:52:af', '84:b2:61:40:75:f1', '84:b2:61:40:75:f2',\n",
       "       '84:b2:61:40:75:f0', 'c4:71:54:39:70:e4', 'lat', 'long'],\n",
       "      dtype='object')"
      ]
     },
     "execution_count": 7,
     "metadata": {},
     "output_type": "execute_result"
    }
   ],
   "source": [
    "df_wifi_and_loc_file.columns"
   ]
  },
  {
   "cell_type": "markdown",
   "id": "00afedb1",
   "metadata": {},
   "source": [
    "## 2.2. Vizualizing raw data from wifi and data concatenated file, without the first file (it had many outliers)"
   ]
  },
  {
   "cell_type": "code",
   "execution_count": 8,
   "id": "e55e1449",
   "metadata": {
    "scrolled": false
   },
   "outputs": [
    {
     "name": "stderr",
     "output_type": "stream",
     "text": [
      "No artists with labels found to put in legend.  Note that artists whose label start with an underscore are ignored when legend() is called with no argument.\n",
      "findfont: Font family ['normal'] not found. Falling back to DejaVu Sans.\n",
      "findfont: Font family ['normal'] not found. Falling back to DejaVu Sans.\n"
     ]
    },
    {
     "data": {
      "image/png": "[encoded data removed]",
      "text/plain": [
       "<Figure size 720x720 with 1 Axes>"
      ]
     },
     "metadata": {
      "needs_background": "light"
     },
     "output_type": "display_data"
    }
   ],
   "source": [
    "markers = ('s', 'X', 'o')\n",
    "colors = ('red', 'yellow', 'lightgreen')\n",
    "cmap = ListedColormap(colors[:1])\n",
    "\n",
    "\n",
    "fig = plt.figure(figsize=(10,10))\n",
    "plt.scatter(x=df_wifi_and_loc_file['long'], \n",
    "            y=df_wifi_and_loc_file['lat'],\n",
    "            alpha=0.6, \n",
    "            c=[cmap(1)],\n",
    "            edgecolor='black',\n",
    "            marker=markers[1])\n",
    "\n",
    "plt.xlabel('Longitude')\n",
    "plt.ylabel('Latitude')\n",
    "plt.legend(loc='upper right')\n",
    "plt.tight_layout()"
   ]
  },
  {
   "attachments": {
    "image.png": {
     "image/png": "[encoded data removed]"
    }
   },
   "cell_type": "markdown",
   "id": "5fb2af03",
   "metadata": {},
   "source": [
    "![image.png](attachment:image.png)"
   ]
  },
  {
   "cell_type": "code",
   "execution_count": 9,
   "id": "f1ea4bc3",
   "metadata": {},
   "outputs": [],
   "source": [
    "wifi_and_loc_file1 = '../data/Processed/wifi_data_and_location_1.csv'\n",
    "wifi_and_loc_file2 = '../data/Processed/wifi_data_and_location_2.csv'\n",
    "wifi_and_loc_file3 = '../data/Processed/wifi_data_and_location_3.csv'\n",
    "wifi_and_loc_file4 = '../data/Processed/wifi_data_and_location_4.csv'\n",
    "wifi_and_loc_file5 = '../data/Processed/wifi_data_and_location_5.csv'\n",
    "wifi_and_loc_file6 = '../data/Processed/wifi_data_and_location_6.csv'\n",
    "wifi_and_loc_file7 = '../data/Processed/wifi_data_and_location_7.csv'\n",
    "wifi_and_loc_file8 = '../data/Processed/wifi_data_and_location_8.csv'\n",
    "\n",
    "df_wifi_and_loc_file1 = pd.read_csv(wifi_and_loc_file1, index_col=0)\n",
    "df_wifi_and_loc_file2 = pd.read_csv(wifi_and_loc_file2, index_col=0)\n",
    "df_wifi_and_loc_file3 = pd.read_csv(wifi_and_loc_file3, index_col=0)\n",
    "df_wifi_and_loc_file4 = pd.read_csv(wifi_and_loc_file4, index_col=0)\n",
    "df_wifi_and_loc_file5 = pd.read_csv(wifi_and_loc_file5, index_col=0)\n",
    "df_wifi_and_loc_file6 = pd.read_csv(wifi_and_loc_file6, index_col=0)\n",
    "df_wifi_and_loc_file7 = pd.read_csv(wifi_and_loc_file7, index_col=0)\n",
    "df_wifi_and_loc_file8 = pd.read_csv(wifi_and_loc_file8, index_col=0)"
   ]
  },
  {
   "cell_type": "code",
   "execution_count": 10,
   "id": "20e4e158",
   "metadata": {},
   "outputs": [
    {
     "data": {
      "text/plain": [
       "Text(0.5, 0, 'Latitude')"
      ]
     },
     "execution_count": 10,
     "metadata": {},
     "output_type": "execute_result"
    },
    {
     "data": {
      "image/png": "[encoded data removed]",
      "text/plain": [
       "<Figure size 576x576 with 1 Axes>"
      ]
     },
     "metadata": {
      "needs_background": "light"
     },
     "output_type": "display_data"
    }
   ],
   "source": [
    "ax = df_wifi_and_loc_file1.plot(x='long', y='lat', figsize=(8, 8))\n",
    "df_wifi_and_loc_file2.plot(ax=ax, x='long', y='lat')\n",
    "df_wifi_and_loc_file3.plot(ax=ax, x='long', y='lat')\n",
    "df_wifi_and_loc_file4.plot(ax=ax, x='long', y='lat')\n",
    "df_wifi_and_loc_file5.plot(ax=ax, x='long', y='lat')\n",
    "df_wifi_and_loc_file6.plot(ax=ax, x='long', y='lat')\n",
    "df_wifi_and_loc_file7.plot(ax=ax, x='long', y='lat')\n",
    "df_wifi_and_loc_file8.plot(ax=ax, x='long', y='lat')\n",
    "\n",
    "plt.xlabel('Longitude')\n",
    "plt.xlabel('Latitude')\n",
    "\n",
    "# The first file is different than the rest, too many outliers, we eliminate it"
   ]
  },
  {
   "cell_type": "markdown",
   "id": "60eeb264",
   "metadata": {},
   "source": [
    "## 2.3. Normalizing lat and longitude"
   ]
  },
  {
   "cell_type": "code",
   "execution_count": 11,
   "id": "353177c7",
   "metadata": {},
   "outputs": [],
   "source": [
    "# Function to normalize a column using Min-Max normalization\n",
    "def normalize(column):\n",
    "    min_val = column.min()\n",
    "    max_val = column.max()\n",
    "    normalized = (column - min_val) / (max_val - min_val)\n",
    "    return normalized"
   ]
  },
  {
   "cell_type": "code",
   "execution_count": 12,
   "id": "fefb1ad2",
   "metadata": {},
   "outputs": [],
   "source": [
    "max_lat = df_wifi_and_loc_file['lat'].max()\n",
    "min_lat = df_wifi_and_loc_file['lat'].min()\n",
    "max_long = df_wifi_and_loc_file['long'].max()\n",
    "min_long = df_wifi_and_loc_file['long'].min()\n",
    "df_wifi_and_loc_file['normalized_lat'] = normalize(df_wifi_and_loc_file['lat'])\n",
    "df_wifi_and_loc_file['normalized_long'] = normalize(df_wifi_and_loc_file['long'])"
   ]
  },
  {
   "cell_type": "markdown",
   "id": "50932e91",
   "metadata": {},
   "source": [
    "## 2.4. Vizualizing normalized lat and longitude"
   ]
  },
  {
   "cell_type": "code",
   "execution_count": 13,
   "id": "dbcbb1f7",
   "metadata": {},
   "outputs": [
    {
     "data": {
      "image/png": "[encoded data removed]",
      "text/plain": [
       "<Figure size 720x720 with 1 Axes>"
      ]
     },
     "metadata": {
      "needs_background": "light"
     },
     "output_type": "display_data"
    }
   ],
   "source": [
    "markers = ('s', 'X', 'o')\n",
    "colors = ('blue', 'yellow', 'lightgreen')\n",
    "cmap = ListedColormap(colors[:1])\n",
    "\n",
    "\n",
    "fig = plt.figure(figsize=(10,10))\n",
    "plt.scatter(x=df_wifi_and_loc_file['normalized_long'], \n",
    "            y=df_wifi_and_loc_file['normalized_lat'],\n",
    "            alpha=0.6, \n",
    "            c=[cmap(1)],\n",
    "            edgecolor='black',\n",
    "            marker=markers[1], \n",
    "            label='data')\n",
    "\n",
    "plt.xlabel('Longitude')\n",
    "plt.ylabel('Latitude')\n",
    "plt.legend(loc='upper right')\n",
    "plt.tight_layout()"
   ]
  },
  {
   "cell_type": "markdown",
   "id": "4a0bbb3b",
   "metadata": {},
   "source": [
    "## 2.4. Filling the NaN values with -100 db"
   ]
  },
  {
   "cell_type": "code",
   "execution_count": 14,
   "id": "84b83c31",
   "metadata": {
    "scrolled": false
   },
   "outputs": [],
   "source": [
    "df_wifi_and_loc_file.fillna(-100, inplace=True)"
   ]
  },
  {
   "cell_type": "markdown",
   "id": "7b6767a8",
   "metadata": {},
   "source": [
    "## 2.5. Attributing the values to rooms"
   ]
  },
  {
   "cell_type": "code",
   "execution_count": 15,
   "id": "573e1d06",
   "metadata": {
    "scrolled": true
   },
   "outputs": [
    {
     "data": {
      "text/html": [
       "<div>\n",
       "<style scoped>\n",
       "    .dataframe tbody tr th:only-of-type {\n",
       "        vertical-align: middle;\n",
       "    }\n",
       "\n",
       "    .dataframe tbody tr th {\n",
       "        vertical-align: top;\n",
       "    }\n",
       "\n",
       "    .dataframe thead th {\n",
       "        text-align: right;\n",
       "    }\n",
       "</style>\n",
       "<table border=\"1\" class=\"dataframe\">\n",
       "  <thead>\n",
       "    <tr style=\"text-align: right;\">\n",
       "      <th></th>\n",
       "      <th>32:cd:a7:a0:6d:d8</th>\n",
       "      <th>84:b2:61:56:8a:01</th>\n",
       "      <th>84:b2:61:56:8a:02</th>\n",
       "      <th>84:b2:61:56:8a:00</th>\n",
       "      <th>84:b2:61:6d:3d:22</th>\n",
       "      <th>84:b2:61:6d:3d:21</th>\n",
       "      <th>84:b2:61:6d:3d:20</th>\n",
       "      <th>84:b2:61:5e:44:22</th>\n",
       "      <th>84:b2:61:5e:44:21</th>\n",
       "      <th>84:b2:61:5e:44:20</th>\n",
       "      <th>...</th>\n",
       "      <th>84:b2:61:6d:52:af</th>\n",
       "      <th>84:b2:61:40:75:f1</th>\n",
       "      <th>84:b2:61:40:75:f2</th>\n",
       "      <th>84:b2:61:40:75:f0</th>\n",
       "      <th>c4:71:54:39:70:e4</th>\n",
       "      <th>lat</th>\n",
       "      <th>long</th>\n",
       "      <th>normalized_lat</th>\n",
       "      <th>normalized_long</th>\n",
       "      <th>room</th>\n",
       "    </tr>\n",
       "  </thead>\n",
       "  <tbody>\n",
       "    <tr>\n",
       "      <th>12:15:53:00</th>\n",
       "      <td>-39.0</td>\n",
       "      <td>-58.0</td>\n",
       "      <td>-58.0</td>\n",
       "      <td>-58.0</td>\n",
       "      <td>-70.0</td>\n",
       "      <td>-70.0</td>\n",
       "      <td>-70.0</td>\n",
       "      <td>-73.0</td>\n",
       "      <td>-73.0</td>\n",
       "      <td>-72.0</td>\n",
       "      <td>...</td>\n",
       "      <td>-100.0</td>\n",
       "      <td>-100.0</td>\n",
       "      <td>-100.0</td>\n",
       "      <td>-100.0</td>\n",
       "      <td>-100.0</td>\n",
       "      <td>44.434937</td>\n",
       "      <td>26.047613</td>\n",
       "      <td>0.933334</td>\n",
       "      <td>0.032408</td>\n",
       "      <td>0.0</td>\n",
       "    </tr>\n",
       "    <tr>\n",
       "      <th>12:15:54:00</th>\n",
       "      <td>-48.0</td>\n",
       "      <td>-51.0</td>\n",
       "      <td>-52.0</td>\n",
       "      <td>-52.0</td>\n",
       "      <td>-69.0</td>\n",
       "      <td>-71.0</td>\n",
       "      <td>-71.0</td>\n",
       "      <td>-74.0</td>\n",
       "      <td>-74.0</td>\n",
       "      <td>-74.0</td>\n",
       "      <td>...</td>\n",
       "      <td>-100.0</td>\n",
       "      <td>-100.0</td>\n",
       "      <td>-100.0</td>\n",
       "      <td>-100.0</td>\n",
       "      <td>-100.0</td>\n",
       "      <td>44.434937</td>\n",
       "      <td>26.047624</td>\n",
       "      <td>0.933334</td>\n",
       "      <td>0.066667</td>\n",
       "      <td>0.0</td>\n",
       "    </tr>\n",
       "    <tr>\n",
       "      <th>12:15:55:00</th>\n",
       "      <td>-45.0</td>\n",
       "      <td>-52.0</td>\n",
       "      <td>-52.0</td>\n",
       "      <td>-52.0</td>\n",
       "      <td>-72.0</td>\n",
       "      <td>-71.0</td>\n",
       "      <td>-71.0</td>\n",
       "      <td>-73.0</td>\n",
       "      <td>-73.0</td>\n",
       "      <td>-73.0</td>\n",
       "      <td>...</td>\n",
       "      <td>-100.0</td>\n",
       "      <td>-100.0</td>\n",
       "      <td>-100.0</td>\n",
       "      <td>-100.0</td>\n",
       "      <td>-100.0</td>\n",
       "      <td>44.434937</td>\n",
       "      <td>26.047637</td>\n",
       "      <td>0.933334</td>\n",
       "      <td>0.103704</td>\n",
       "      <td>0.0</td>\n",
       "    </tr>\n",
       "    <tr>\n",
       "      <th>12:15:56:00</th>\n",
       "      <td>-51.0</td>\n",
       "      <td>-42.0</td>\n",
       "      <td>-42.0</td>\n",
       "      <td>-42.0</td>\n",
       "      <td>-75.0</td>\n",
       "      <td>-72.0</td>\n",
       "      <td>-75.0</td>\n",
       "      <td>-79.0</td>\n",
       "      <td>-77.0</td>\n",
       "      <td>-79.0</td>\n",
       "      <td>...</td>\n",
       "      <td>-100.0</td>\n",
       "      <td>-100.0</td>\n",
       "      <td>-100.0</td>\n",
       "      <td>-100.0</td>\n",
       "      <td>-100.0</td>\n",
       "      <td>44.434937</td>\n",
       "      <td>26.047652</td>\n",
       "      <td>0.933334</td>\n",
       "      <td>0.148148</td>\n",
       "      <td>0.0</td>\n",
       "    </tr>\n",
       "    <tr>\n",
       "      <th>12:15:59:00</th>\n",
       "      <td>-50.0</td>\n",
       "      <td>-38.0</td>\n",
       "      <td>-37.0</td>\n",
       "      <td>-38.0</td>\n",
       "      <td>-100.0</td>\n",
       "      <td>-100.0</td>\n",
       "      <td>-100.0</td>\n",
       "      <td>-61.0</td>\n",
       "      <td>-61.0</td>\n",
       "      <td>-62.0</td>\n",
       "      <td>...</td>\n",
       "      <td>-100.0</td>\n",
       "      <td>-100.0</td>\n",
       "      <td>-100.0</td>\n",
       "      <td>-100.0</td>\n",
       "      <td>-100.0</td>\n",
       "      <td>44.434937</td>\n",
       "      <td>26.047674</td>\n",
       "      <td>0.933334</td>\n",
       "      <td>0.212005</td>\n",
       "      <td>1.0</td>\n",
       "    </tr>\n",
       "    <tr>\n",
       "      <th>...</th>\n",
       "      <td>...</td>\n",
       "      <td>...</td>\n",
       "      <td>...</td>\n",
       "      <td>...</td>\n",
       "      <td>...</td>\n",
       "      <td>...</td>\n",
       "      <td>...</td>\n",
       "      <td>...</td>\n",
       "      <td>...</td>\n",
       "      <td>...</td>\n",
       "      <td>...</td>\n",
       "      <td>...</td>\n",
       "      <td>...</td>\n",
       "      <td>...</td>\n",
       "      <td>...</td>\n",
       "      <td>...</td>\n",
       "      <td>...</td>\n",
       "      <td>...</td>\n",
       "      <td>...</td>\n",
       "      <td>...</td>\n",
       "      <td>...</td>\n",
       "    </tr>\n",
       "    <tr>\n",
       "      <th>19:09:23:00</th>\n",
       "      <td>-56.0</td>\n",
       "      <td>-55.0</td>\n",
       "      <td>-54.0</td>\n",
       "      <td>-55.0</td>\n",
       "      <td>-72.0</td>\n",
       "      <td>-72.0</td>\n",
       "      <td>-73.0</td>\n",
       "      <td>-71.0</td>\n",
       "      <td>-71.0</td>\n",
       "      <td>-71.0</td>\n",
       "      <td>...</td>\n",
       "      <td>-100.0</td>\n",
       "      <td>-100.0</td>\n",
       "      <td>-100.0</td>\n",
       "      <td>-100.0</td>\n",
       "      <td>-96.0</td>\n",
       "      <td>44.434937</td>\n",
       "      <td>26.047657</td>\n",
       "      <td>0.933333</td>\n",
       "      <td>0.162963</td>\n",
       "      <td>0.0</td>\n",
       "    </tr>\n",
       "    <tr>\n",
       "      <th>19:09:24:00</th>\n",
       "      <td>-49.0</td>\n",
       "      <td>-49.0</td>\n",
       "      <td>-49.0</td>\n",
       "      <td>-49.0</td>\n",
       "      <td>-74.0</td>\n",
       "      <td>-74.0</td>\n",
       "      <td>-74.0</td>\n",
       "      <td>-78.0</td>\n",
       "      <td>-77.0</td>\n",
       "      <td>-78.0</td>\n",
       "      <td>...</td>\n",
       "      <td>-100.0</td>\n",
       "      <td>-100.0</td>\n",
       "      <td>-100.0</td>\n",
       "      <td>-100.0</td>\n",
       "      <td>-100.0</td>\n",
       "      <td>44.434937</td>\n",
       "      <td>26.047642</td>\n",
       "      <td>0.933333</td>\n",
       "      <td>0.120370</td>\n",
       "      <td>0.0</td>\n",
       "    </tr>\n",
       "    <tr>\n",
       "      <th>19:09:25:00</th>\n",
       "      <td>-49.0</td>\n",
       "      <td>-55.0</td>\n",
       "      <td>-54.0</td>\n",
       "      <td>-54.0</td>\n",
       "      <td>-80.0</td>\n",
       "      <td>-80.0</td>\n",
       "      <td>-79.0</td>\n",
       "      <td>-79.0</td>\n",
       "      <td>-80.0</td>\n",
       "      <td>-79.0</td>\n",
       "      <td>...</td>\n",
       "      <td>-100.0</td>\n",
       "      <td>-100.0</td>\n",
       "      <td>-100.0</td>\n",
       "      <td>-100.0</td>\n",
       "      <td>-100.0</td>\n",
       "      <td>44.434937</td>\n",
       "      <td>26.047628</td>\n",
       "      <td>0.933333</td>\n",
       "      <td>0.078189</td>\n",
       "      <td>0.0</td>\n",
       "    </tr>\n",
       "    <tr>\n",
       "      <th>19:09:26:00</th>\n",
       "      <td>-46.0</td>\n",
       "      <td>-61.0</td>\n",
       "      <td>-61.0</td>\n",
       "      <td>-61.0</td>\n",
       "      <td>-72.0</td>\n",
       "      <td>-72.0</td>\n",
       "      <td>-72.0</td>\n",
       "      <td>-74.0</td>\n",
       "      <td>-74.0</td>\n",
       "      <td>-74.0</td>\n",
       "      <td>...</td>\n",
       "      <td>-100.0</td>\n",
       "      <td>-100.0</td>\n",
       "      <td>-100.0</td>\n",
       "      <td>-100.0</td>\n",
       "      <td>-100.0</td>\n",
       "      <td>44.434937</td>\n",
       "      <td>26.047614</td>\n",
       "      <td>0.933333</td>\n",
       "      <td>0.037037</td>\n",
       "      <td>0.0</td>\n",
       "    </tr>\n",
       "    <tr>\n",
       "      <th>19:09:27:00</th>\n",
       "      <td>-46.0</td>\n",
       "      <td>-61.0</td>\n",
       "      <td>-61.0</td>\n",
       "      <td>-61.0</td>\n",
       "      <td>-72.0</td>\n",
       "      <td>-72.0</td>\n",
       "      <td>-72.0</td>\n",
       "      <td>-74.0</td>\n",
       "      <td>-74.0</td>\n",
       "      <td>-74.0</td>\n",
       "      <td>...</td>\n",
       "      <td>-100.0</td>\n",
       "      <td>-100.0</td>\n",
       "      <td>-100.0</td>\n",
       "      <td>-100.0</td>\n",
       "      <td>-100.0</td>\n",
       "      <td>44.434937</td>\n",
       "      <td>26.047602</td>\n",
       "      <td>0.933333</td>\n",
       "      <td>0.000367</td>\n",
       "      <td>0.0</td>\n",
       "    </tr>\n",
       "  </tbody>\n",
       "</table>\n",
       "<p>530 rows × 46 columns</p>\n",
       "</div>"
      ],
      "text/plain": [
       "             32:cd:a7:a0:6d:d8  84:b2:61:56:8a:01  84:b2:61:56:8a:02  \\\n",
       "12:15:53:00              -39.0              -58.0              -58.0   \n",
       "12:15:54:00              -48.0              -51.0              -52.0   \n",
       "12:15:55:00              -45.0              -52.0              -52.0   \n",
       "12:15:56:00              -51.0              -42.0              -42.0   \n",
       "12:15:59:00              -50.0              -38.0              -37.0   \n",
       "...                        ...                ...                ...   \n",
       "19:09:23:00              -56.0              -55.0              -54.0   \n",
       "19:09:24:00              -49.0              -49.0              -49.0   \n",
       "19:09:25:00              -49.0              -55.0              -54.0   \n",
       "19:09:26:00              -46.0              -61.0              -61.0   \n",
       "19:09:27:00              -46.0              -61.0              -61.0   \n",
       "\n",
       "             84:b2:61:56:8a:00  84:b2:61:6d:3d:22  84:b2:61:6d:3d:21  \\\n",
       "12:15:53:00              -58.0              -70.0              -70.0   \n",
       "12:15:54:00              -52.0              -69.0              -71.0   \n",
       "12:15:55:00              -52.0              -72.0              -71.0   \n",
       "12:15:56:00              -42.0              -75.0              -72.0   \n",
       "12:15:59:00              -38.0             -100.0             -100.0   \n",
       "...                        ...                ...                ...   \n",
       "19:09:23:00              -55.0              -72.0              -72.0   \n",
       "19:09:24:00              -49.0              -74.0              -74.0   \n",
       "19:09:25:00              -54.0              -80.0              -80.0   \n",
       "19:09:26:00              -61.0              -72.0              -72.0   \n",
       "19:09:27:00              -61.0              -72.0              -72.0   \n",
       "\n",
       "             84:b2:61:6d:3d:20  84:b2:61:5e:44:22  84:b2:61:5e:44:21  \\\n",
       "12:15:53:00              -70.0              -73.0              -73.0   \n",
       "12:15:54:00              -71.0              -74.0              -74.0   \n",
       "12:15:55:00              -71.0              -73.0              -73.0   \n",
       "12:15:56:00              -75.0              -79.0              -77.0   \n",
       "12:15:59:00             -100.0              -61.0              -61.0   \n",
       "...                        ...                ...                ...   \n",
       "19:09:23:00              -73.0              -71.0              -71.0   \n",
       "19:09:24:00              -74.0              -78.0              -77.0   \n",
       "19:09:25:00              -79.0              -79.0              -80.0   \n",
       "19:09:26:00              -72.0              -74.0              -74.0   \n",
       "19:09:27:00              -72.0              -74.0              -74.0   \n",
       "\n",
       "             84:b2:61:5e:44:20  ...  84:b2:61:6d:52:af  84:b2:61:40:75:f1  \\\n",
       "12:15:53:00              -72.0  ...             -100.0             -100.0   \n",
       "12:15:54:00              -74.0  ...             -100.0             -100.0   \n",
       "12:15:55:00              -73.0  ...             -100.0             -100.0   \n",
       "12:15:56:00              -79.0  ...             -100.0             -100.0   \n",
       "12:15:59:00              -62.0  ...             -100.0             -100.0   \n",
       "...                        ...  ...                ...                ...   \n",
       "19:09:23:00              -71.0  ...             -100.0             -100.0   \n",
       "19:09:24:00              -78.0  ...             -100.0             -100.0   \n",
       "19:09:25:00              -79.0  ...             -100.0             -100.0   \n",
       "19:09:26:00              -74.0  ...             -100.0             -100.0   \n",
       "19:09:27:00              -74.0  ...             -100.0             -100.0   \n",
       "\n",
       "             84:b2:61:40:75:f2  84:b2:61:40:75:f0  c4:71:54:39:70:e4  \\\n",
       "12:15:53:00             -100.0             -100.0             -100.0   \n",
       "12:15:54:00             -100.0             -100.0             -100.0   \n",
       "12:15:55:00             -100.0             -100.0             -100.0   \n",
       "12:15:56:00             -100.0             -100.0             -100.0   \n",
       "12:15:59:00             -100.0             -100.0             -100.0   \n",
       "...                        ...                ...                ...   \n",
       "19:09:23:00             -100.0             -100.0              -96.0   \n",
       "19:09:24:00             -100.0             -100.0             -100.0   \n",
       "19:09:25:00             -100.0             -100.0             -100.0   \n",
       "19:09:26:00             -100.0             -100.0             -100.0   \n",
       "19:09:27:00             -100.0             -100.0             -100.0   \n",
       "\n",
       "                   lat       long  normalized_lat  normalized_long  room  \n",
       "12:15:53:00  44.434937  26.047613        0.933334         0.032408   0.0  \n",
       "12:15:54:00  44.434937  26.047624        0.933334         0.066667   0.0  \n",
       "12:15:55:00  44.434937  26.047637        0.933334         0.103704   0.0  \n",
       "12:15:56:00  44.434937  26.047652        0.933334         0.148148   0.0  \n",
       "12:15:59:00  44.434937  26.047674        0.933334         0.212005   1.0  \n",
       "...                ...        ...             ...              ...   ...  \n",
       "19:09:23:00  44.434937  26.047657        0.933333         0.162963   0.0  \n",
       "19:09:24:00  44.434937  26.047642        0.933333         0.120370   0.0  \n",
       "19:09:25:00  44.434937  26.047628        0.933333         0.078189   0.0  \n",
       "19:09:26:00  44.434937  26.047614        0.933333         0.037037   0.0  \n",
       "19:09:27:00  44.434937  26.047602        0.933333         0.000367   0.0  \n",
       "\n",
       "[530 rows x 46 columns]"
      ]
     },
     "execution_count": 15,
     "metadata": {},
     "output_type": "execute_result"
    }
   ],
   "source": [
    "df_wifi_and_loc_file['room'] = np.nan\n",
    "\n",
    "df_wifi_and_loc_file.loc[(df_wifi_and_loc_file['normalized_long'] <= 0.2), 'room'] = 0\n",
    "df_wifi_and_loc_file.loc[(df_wifi_and_loc_file['normalized_long'] > 0.2) &\n",
    "                         (df_wifi_and_loc_file['normalized_long'] <= 0.3), 'room'] = 1\n",
    "df_wifi_and_loc_file.loc[(df_wifi_and_loc_file['normalized_long'] > 0.3) &\n",
    "                         (df_wifi_and_loc_file['normalized_long'] < 0.85), 'room'] = 2\n",
    "df_wifi_and_loc_file.loc[(df_wifi_and_loc_file['normalized_long'] >= 0.85), 'room'] = 3\n",
    "df_wifi_and_loc_file"
   ]
  },
  {
   "cell_type": "code",
   "execution_count": 16,
   "id": "037e103d",
   "metadata": {
    "scrolled": false
   },
   "outputs": [
    {
     "name": "stderr",
     "output_type": "stream",
     "text": [
      "C:\\Users\\Enachele\\AppData\\Local\\Temp\\ipykernel_11128\\480135349.py:8: UserWarning: You passed a edgecolor/edgecolors ('black') for an unfilled marker ('x').  Matplotlib is ignoring the edgecolor in favor of the facecolor.  This behavior may change in the future.\n",
      "  plt.scatter(x=df_wifi_and_loc_file.loc[df_wifi_and_loc_file.room== cl]['normalized_long'],\n"
     ]
    },
    {
     "data": {
      "image/png": "[encoded data removed]",
      "text/plain": [
       "<Figure size 720x720 with 1 Axes>"
      ]
     },
     "metadata": {
      "needs_background": "light"
     },
     "output_type": "display_data"
    }
   ],
   "source": [
    "markers = ('s', 'X', 'o', 'x')\n",
    "colors = ('red', 'yellow', 'blue', 'green')\n",
    "cmap = ListedColormap(colors[:len(np.unique(df_wifi_and_loc_file['room']))])\n",
    "\n",
    "\n",
    "fig = plt.figure(figsize=(10,10))\n",
    "for idx, cl in enumerate(np.unique(df_wifi_and_loc_file['room'])):\n",
    "        plt.scatter(x=df_wifi_and_loc_file.loc[df_wifi_and_loc_file.room== cl]['normalized_long'], \n",
    "                    y=df_wifi_and_loc_file.loc[df_wifi_and_loc_file.room== cl]['normalized_lat'],\n",
    "                    alpha=0.6, \n",
    "                    c=[cmap(idx)],\n",
    "                    edgecolor='black',\n",
    "                    marker=markers[idx], \n",
    "                    label=cl)\n",
    "\n",
    "plt.xlabel('Longitude')\n",
    "plt.ylabel('Latitude')\n",
    "plt.legend(loc='upper right')\n",
    "plt.tight_layout()"
   ]
  },
  {
   "cell_type": "markdown",
   "id": "0e2e9434",
   "metadata": {},
   "source": [
    "# 3. Data preprocessing"
   ]
  },
  {
   "cell_type": "markdown",
   "id": "db9b6b16",
   "metadata": {},
   "source": [
    "## 3.1. Splitting data in labels and target for the first DNN (Step 1)"
   ]
  },
  {
   "cell_type": "code",
   "execution_count": 17,
   "id": "e8efff58",
   "metadata": {},
   "outputs": [
    {
     "data": {
      "text/plain": [
       "(array([[ -39.,  -58.,  -58., ..., -100., -100., -100.],\n",
       "        [ -48.,  -51.,  -52., ..., -100., -100., -100.],\n",
       "        [ -45.,  -52.,  -52., ..., -100., -100., -100.],\n",
       "        ...,\n",
       "        [ -49.,  -55.,  -54., ..., -100., -100., -100.],\n",
       "        [ -46.,  -61.,  -61., ..., -100., -100., -100.],\n",
       "        [ -46.,  -61.,  -61., ..., -100., -100., -100.]]),\n",
       " array([0., 0., 0., 0., 1., 1., 1., 1., 1., 1., 1., 1., 1., 1., 1., 1., 1.,\n",
       "        1., 1., 2., 2., 2., 2., 2., 2., 2., 2., 2., 2., 2., 2., 2., 3., 3.,\n",
       "        3., 3., 3., 3., 3., 3., 3., 3., 3., 3., 3., 3., 3., 3., 3., 3., 3.,\n",
       "        3., 2., 2., 2., 2., 2., 2., 2., 2., 2., 2., 2., 2., 2., 2., 1., 1.,\n",
       "        1., 0., 0., 0., 0., 0., 0., 0., 0., 0., 1., 1., 1., 1., 1., 1., 1.,\n",
       "        1., 1., 1., 1., 1., 1., 1., 1., 2., 2., 2., 2., 2., 2., 2., 2., 2.,\n",
       "        2., 2., 2., 2., 3., 3., 3., 3., 3., 3., 3., 3., 3., 3., 3., 3., 3.,\n",
       "        3., 3., 3., 3., 3., 3., 3., 2., 2., 2., 2., 2., 2., 2., 2., 2., 2.,\n",
       "        2., 2., 2., 1., 1., 1., 0., 0., 0., 0., 0., 0., 0., 0., 0., 0., 1.,\n",
       "        1., 1., 1., 1., 1., 1., 1., 1., 1., 1., 1., 1., 1., 1., 2., 2., 2.,\n",
       "        2., 2., 2., 2., 2., 2., 2., 2., 2., 2., 3., 3., 3., 3., 3., 3., 3.,\n",
       "        3., 3., 3., 3., 3., 3., 3., 3., 3., 3., 3., 3., 3., 2., 2., 2., 2.,\n",
       "        2., 2., 2., 2., 2., 2., 2., 2., 2., 1., 1., 1., 1., 0., 0., 0., 0.,\n",
       "        0., 0., 0., 0., 0., 0., 1., 1., 1., 1., 1., 1., 1., 1., 1., 1., 1.,\n",
       "        1., 1., 1., 1., 1., 2., 2., 2., 2., 2., 2., 2., 2., 2., 2., 2., 2.,\n",
       "        2., 2., 2., 3., 3., 3., 3., 3., 3., 3., 3., 3., 3., 3., 3., 3., 3.,\n",
       "        3., 3., 3., 3., 3., 3., 3., 2., 2., 2., 2., 2., 2., 2., 2., 2., 2.,\n",
       "        2., 2., 2., 2., 2., 1., 1., 1., 0., 0., 0., 0., 0., 0., 0., 0., 0.,\n",
       "        0., 1., 1., 1., 1., 1., 1., 1., 1., 1., 1., 1., 1., 1., 1., 2., 2.,\n",
       "        2., 2., 2., 2., 2., 2., 2., 2., 2., 2., 3., 3., 3., 3., 3., 3., 3.,\n",
       "        3., 3., 3., 3., 3., 3., 3., 3., 3., 3., 3., 3., 3., 2., 2., 2., 2.,\n",
       "        2., 2., 2., 2., 2., 2., 2., 2., 2., 1., 1., 1., 1., 0., 0., 0., 0.,\n",
       "        0., 0., 0., 0., 0., 0., 0., 1., 1., 1., 1., 1., 1., 1., 1., 1., 1.,\n",
       "        1., 1., 1., 1., 1., 1., 2., 2., 2., 2., 2., 2., 2., 2., 2., 2., 2.,\n",
       "        2., 2., 3., 3., 3., 3., 3., 3., 3., 3., 3., 3., 3., 3., 3., 3., 3.,\n",
       "        3., 3., 3., 3., 3., 2., 2., 2., 2., 2., 2., 2., 2., 2., 2., 2., 2.,\n",
       "        2., 2., 2., 1., 1., 1., 0., 0., 0., 0., 0., 0., 0., 0., 0., 1., 1.,\n",
       "        1., 1., 1., 1., 1., 1., 1., 1., 1., 1., 1., 1., 1., 1., 2., 2., 2.,\n",
       "        2., 2., 2., 2., 2., 2., 2., 2., 2., 3., 3., 3., 3., 3., 3., 3., 3.,\n",
       "        3., 3., 3., 3., 3., 3., 3., 3., 3., 3., 3., 3., 3., 3., 2., 2., 2.,\n",
       "        2., 2., 2., 2., 2., 2., 2., 2., 2., 2., 2., 1., 1., 1., 0., 0., 0.,\n",
       "        0., 0., 0.]))"
      ]
     },
     "execution_count": 17,
     "metadata": {},
     "output_type": "execute_result"
    }
   ],
   "source": [
    "X = df_wifi_and_loc_file.iloc[:, :41].values\n",
    "y = df_wifi_and_loc_file['room'].values\n",
    "X, y"
   ]
  },
  {
   "cell_type": "markdown",
   "id": "35e7a5a6",
   "metadata": {},
   "source": [
    "## 3.2. Splitting the dataset in Training and Test set"
   ]
  },
  {
   "cell_type": "code",
   "execution_count": 18,
   "id": "e3a98d4b",
   "metadata": {},
   "outputs": [
    {
     "data": {
      "text/plain": [
       "((333, 41), (144, 41), (53, 41), (333,), (144,), (53,))"
      ]
     },
     "execution_count": 18,
     "metadata": {},
     "output_type": "execute_result"
    }
   ],
   "source": [
    "val_limit = int(len(df_wifi_and_loc_file)*0.9)\n",
    "\n",
    "X_val = X[val_limit:, :]\n",
    "y_val = y[val_limit:]\n",
    "\n",
    "X = X[:val_limit, :]\n",
    "y = y[:val_limit]\n",
    "X_train, X_test, y_train, y_test = train_test_split(X, y, test_size = 0.3, random_state = 0)\n",
    "X_train.shape, X_test.shape, X_val.shape, y_train.shape, y_test.shape, y_val.shape"
   ]
  },
  {
   "cell_type": "code",
   "execution_count": 19,
   "id": "ba485e79",
   "metadata": {},
   "outputs": [
    {
     "name": "stdout",
     "output_type": "stream",
     "text": [
      "[[ -68.  -49.  -49. ... -100. -100. -100.]\n",
      " [ -61.  -46.  -46. ... -100. -100. -100.]\n",
      " [ -84.  -80.  -79. ... -100. -100. -100.]\n",
      " ...\n",
      " [ -85.  -81.  -80. ... -100. -100. -100.]\n",
      " [ -70.  -66.  -66. ... -100. -100. -100.]\n",
      " [ -77.  -80.  -80. ... -100. -100. -100.]]\n",
      "X_train number of values:  333\n"
     ]
    }
   ],
   "source": [
    "print(X_train)\n",
    "print('X_train number of values: ', len(X_train))"
   ]
  },
  {
   "cell_type": "markdown",
   "id": "4e012dbd",
   "metadata": {},
   "source": [
    "## 3.3. Features scaling"
   ]
  },
  {
   "cell_type": "code",
   "execution_count": 20,
   "id": "a11be4d8",
   "metadata": {},
   "outputs": [
    {
     "data": {
      "text/plain": [
       "(array([[-0.18074807,  0.90458361,  0.90867257, ..., -0.06211824,\n",
       "         -0.06211824, -0.09361297],\n",
       "        [ 0.38101693,  1.12932348,  1.13431609, ..., -0.06211824,\n",
       "         -0.06211824, -0.09361297],\n",
       "        [-1.46478236, -1.4177284 , -1.34776267, ..., -0.06211824,\n",
       "         -0.06211824, -0.09361297],\n",
       "        ...,\n",
       "        [-1.54503451, -1.49264169, -1.42297718, ..., -0.06211824,\n",
       "         -0.06211824, -0.09361297],\n",
       "        [-0.34125236, -0.36894233, -0.36997407, ..., -0.06211824,\n",
       "         -0.06211824, -0.09361297],\n",
       "        [-0.90301736, -1.4177284 , -1.42297718, ..., -0.06211824,\n",
       "         -0.06211824, -0.09361297]]),\n",
       " array([[ 1.02303408,  0.38019057,  0.38217101, ..., -0.06211824,\n",
       "         -0.06211824, -0.09361297],\n",
       "        [ 0.62177336,  1.12932348,  1.13431609, ..., -0.06211824,\n",
       "         -0.06211824, -0.09361297],\n",
       "        [-0.50175664, -0.06928917, -0.21954505, ..., 10.28056905,\n",
       "         10.28056905, -0.09361297],\n",
       "        ...,\n",
       "        [ 0.1402605 ,  0.53001715,  0.53260003, ..., -0.06211824,\n",
       "         -0.06211824, -0.09361297],\n",
       "        [ 0.70202551,  1.35406335,  1.35995962, ..., -0.06211824,\n",
       "         -0.06211824, -0.09361297],\n",
       "        [ 1.34404265,  0.23036399,  0.231742  , ..., -0.06211824,\n",
       "         -0.06211824, -0.09361297]]),\n",
       " array([[-1.14377379, -1.64246827, -1.6486207 , ..., -0.06211824,\n",
       "         -0.06211824, -0.09361297],\n",
       "        [-1.62528665, -1.49264169, -1.57340619, ..., -0.06211824,\n",
       "         -0.06211824, -0.09361297],\n",
       "        [-1.70553879, -1.56755498, -1.57340619, ..., -0.06211824,\n",
       "         -0.06211824, -0.09361297],\n",
       "        ...,\n",
       "        [ 1.34404265,  0.45510386,  0.53260003, ..., -0.06211824,\n",
       "         -0.06211824, -0.09361297],\n",
       "        [ 1.58479908,  0.00562412,  0.00609847, ..., -0.06211824,\n",
       "         -0.06211824, -0.09361297],\n",
       "        [ 1.58479908,  0.00562412,  0.00609847, ..., -0.06211824,\n",
       "         -0.06211824, -0.09361297]]))"
      ]
     },
     "execution_count": 20,
     "metadata": {},
     "output_type": "execute_result"
    }
   ],
   "source": [
    "sc = StandardScaler()\n",
    "X_train = sc.fit_transform(X_train)\n",
    "X_test = sc.transform(X_test) \n",
    "X_val = sc.transform(X_val)\n",
    "X_train, X_test, X_val"
   ]
  },
  {
   "cell_type": "code",
   "execution_count": 21,
   "id": "7fe783cd",
   "metadata": {},
   "outputs": [
    {
     "data": {
      "text/plain": [
       "(333, 41)"
      ]
     },
     "execution_count": 21,
     "metadata": {},
     "output_type": "execute_result"
    }
   ],
   "source": [
    "X_train.shape"
   ]
  },
  {
   "cell_type": "code",
   "execution_count": 22,
   "id": "0ea871b6",
   "metadata": {},
   "outputs": [
    {
     "data": {
      "text/plain": [
       "(333,)"
      ]
     },
     "execution_count": 22,
     "metadata": {},
     "output_type": "execute_result"
    }
   ],
   "source": [
    "y_train.shape"
   ]
  },
  {
   "cell_type": "markdown",
   "id": "26981ef8",
   "metadata": {},
   "source": [
    "# 4. Building the first DNN model"
   ]
  },
  {
   "cell_type": "markdown",
   "id": "fd052112",
   "metadata": {},
   "source": [
    "### 4.1. Initializing the NN"
   ]
  },
  {
   "cell_type": "code",
   "execution_count": 23,
   "id": "9fcea68d",
   "metadata": {},
   "outputs": [],
   "source": [
    "nn = Sequential()"
   ]
  },
  {
   "cell_type": "markdown",
   "id": "f883bf63",
   "metadata": {},
   "source": [
    "### 4.2. Adding the input layer and the first hidden layer"
   ]
  },
  {
   "cell_type": "code",
   "execution_count": 24,
   "id": "59e478e4",
   "metadata": {},
   "outputs": [],
   "source": [
    "# Adding a fully-connected layer (it automatically create the input layer)\n",
    "# num of neurons = num of features (41 APs)\n",
    "input_size = 41\n",
    "nn.add(Dense(input_dim=input_size, units=256, activation='relu'))"
   ]
  },
  {
   "cell_type": "markdown",
   "id": "751b178c",
   "metadata": {},
   "source": [
    "### 4.3. Adding the second layer"
   ]
  },
  {
   "cell_type": "code",
   "execution_count": 25,
   "id": "539e5cea",
   "metadata": {},
   "outputs": [],
   "source": [
    "# Adding a layer with 128 neurons\n",
    "nn.add(Dense(units=128, activation='relu'))"
   ]
  },
  {
   "cell_type": "markdown",
   "id": "44b42fcb",
   "metadata": {},
   "source": [
    "### 4.4. Adding the output layer"
   ]
  },
  {
   "cell_type": "code",
   "execution_count": 26,
   "id": "58c76990",
   "metadata": {},
   "outputs": [],
   "source": [
    "# sotmax for > 2 categories\n",
    "classes = 4 # number of rooms\n",
    "nn.add(Dense(units=classes, activation='softmax'))"
   ]
  },
  {
   "cell_type": "markdown",
   "id": "b53321c1",
   "metadata": {},
   "source": [
    "# 5. Training the DNN"
   ]
  },
  {
   "cell_type": "markdown",
   "id": "bbb7ef68",
   "metadata": {},
   "source": [
    "### 5.1. Compiling the DNN"
   ]
  },
  {
   "cell_type": "code",
   "execution_count": 27,
   "id": "f4e18f95",
   "metadata": {},
   "outputs": [],
   "source": [
    "class PlotLearning(keras.callbacks.Callback):\n",
    "    \"\"\"\n",
    "    Callback to plot the learning curves of the model during training.\n",
    "    \"\"\"\n",
    "    def on_train_begin(self, logs={}):\n",
    "        self.metrics = {}\n",
    "        for metric in logs:\n",
    "            self.metrics[metric] = []\n",
    "            \n",
    "\n",
    "    def on_epoch_end(self, epoch, logs={}):\n",
    "        # Storing metrics\n",
    "        for metric in logs:\n",
    "            if metric in self.metrics:\n",
    "                self.metrics[metric].append(logs.get(metric))\n",
    "            else:\n",
    "                self.metrics[metric] = [logs.get(metric)]\n",
    "        \n",
    "        # Plotting\n",
    "        metrics = [x for x in logs if 'val' not in x]\n",
    "        \n",
    "        f, axs = plt.subplots(1, len(metrics), figsize=(15,5))\n",
    "        clear_output(wait=True)\n",
    "\n",
    "        for i, metric in enumerate(metrics):\n",
    "            axs[i].plot(range(1, epoch + 2), \n",
    "                        self.metrics[metric], \n",
    "                        label=metric)\n",
    "            if logs['val_' + metric]:\n",
    "                axs[i].plot(range(1, epoch + 2), \n",
    "                            self.metrics['val_' + metric], \n",
    "                            label='val_' + metric)\n",
    "                \n",
    "            axs[i].legend()\n",
    "            axs[i].grid()\n",
    "\n",
    "        plt.tight_layout()\n",
    "        plt.show()"
   ]
  },
  {
   "cell_type": "code",
   "execution_count": 28,
   "id": "e515e533",
   "metadata": {},
   "outputs": [],
   "source": [
    "# Optimizer = Adam ==> Stochastic Gradient Descent\n",
    "nn.compile(optimizer = 'adam',\n",
    "           loss = 'sparse_categorical_crossentropy',\n",
    "           metrics = ['accuracy'])"
   ]
  },
  {
   "cell_type": "markdown",
   "id": "9f095534",
   "metadata": {},
   "source": [
    "### 5.2. Training the NN on the Training set"
   ]
  },
  {
   "cell_type": "code",
   "execution_count": 29,
   "id": "f2bcc02c",
   "metadata": {},
   "outputs": [
    {
     "data": {
      "image/png": "[encoded data removed]",
      "text/plain": [
       "<Figure size 1080x360 with 2 Axes>"
      ]
     },
     "metadata": {
      "needs_background": "light"
     },
     "output_type": "display_data"
    },
    {
     "name": "stdout",
     "output_type": "stream",
     "text": [
      "\b\b\b\b\b\b\b\b\b\b\b\b\b\b\b\b\b\b\b\b\b\b\b\b\b\b\b\b\b\b\b\b\b\b\b\b\b\b\b\b\b\b\b\b\b\b\b\b\b\b\b\b\b\b\b\b\b\b\b\b\b\b\b\b\b\b\b\b\b\b\b\b\b\b\b\b\b\b\b\b\b\b\r",
      "10/10 [==============================] - 0s 33ms/step - loss: 0.0461 - accuracy: 0.9766 - val_loss: 0.1648 - val_accuracy: 0.9118\n"
     ]
    },
    {
     "data": {
      "text/plain": [
       "<keras.callbacks.History at 0x25c89158c70>"
      ]
     },
     "execution_count": 29,
     "metadata": {},
     "output_type": "execute_result"
    }
   ],
   "source": [
    "nn.fit(X_train, \n",
    "       y_train, \n",
    "       batch_size=32, \n",
    "       epochs=30, \n",
    "       validation_split=0.1, \n",
    "       callbacks=[PlotLearning()])"
   ]
  },
  {
   "cell_type": "markdown",
   "id": "feaff4fb",
   "metadata": {},
   "source": [
    "# 6. Making predictions and evaluating the model"
   ]
  },
  {
   "cell_type": "markdown",
   "id": "6d722471",
   "metadata": {},
   "source": [
    "### 6.1. Predicting the test results"
   ]
  },
  {
   "cell_type": "code",
   "execution_count": 30,
   "id": "c0680387",
   "metadata": {},
   "outputs": [
    {
     "name": "stdout",
     "output_type": "stream",
     "text": [
      "5/5 [==============================] - 0s 2ms/step\n"
     ]
    }
   ],
   "source": [
    "y_pred = nn.predict(X_test)"
   ]
  },
  {
   "cell_type": "code",
   "execution_count": 31,
   "id": "cc41cb76",
   "metadata": {
    "scrolled": true
   },
   "outputs": [
    {
     "data": {
      "text/plain": [
       "array([[1.60855798e-05, 9.97197151e-01, 2.78557534e-03, 1.24354335e-06],\n",
       "       [1.25252865e-02, 9.79677737e-01, 7.79455807e-03, 2.43058980e-06],\n",
       "       [4.41442682e-16, 7.04504854e-09, 1.00000000e+00, 2.50220885e-14],\n",
       "       [2.22691342e-05, 1.85727782e-04, 3.26907233e-04, 9.99465048e-01],\n",
       "       [7.35690992e-04, 8.98473322e-01, 1.00605696e-01, 1.85262412e-04],\n",
       "       [5.12380360e-09, 9.99982834e-01, 1.71820338e-05, 9.12068268e-11],\n",
       "       [1.64797007e-06, 1.52252860e-05, 5.05765856e-05, 9.99932528e-01],\n",
       "       [4.01069061e-04, 1.97753474e-01, 8.01837623e-01, 7.77258356e-06],\n",
       "       [2.52204245e-05, 7.52321212e-05, 2.88032065e-03, 9.97019291e-01],\n",
       "       [7.22988852e-06, 7.76663146e-05, 9.99735892e-01, 1.79175506e-04],\n",
       "       [9.94394302e-01, 5.15186088e-03, 4.34363377e-04, 1.95284356e-05],\n",
       "       [1.40204190e-06, 9.99872327e-01, 1.26198895e-04, 4.42714176e-09],\n",
       "       [9.97870803e-01, 8.77049577e-04, 1.24319794e-03, 8.95174617e-06],\n",
       "       [1.11325996e-07, 9.99698877e-01, 3.00873769e-04, 1.62033388e-07],\n",
       "       [1.31123115e-05, 1.55584003e-05, 9.99040663e-01, 9.30699462e-04],\n",
       "       [8.78125720e-04, 9.98978019e-01, 5.57066378e-05, 8.81803498e-05],\n",
       "       [1.30401233e-07, 6.76226273e-06, 3.69691452e-06, 9.99989390e-01],\n",
       "       [3.53737571e-03, 2.66378187e-02, 9.69823003e-01, 1.83809016e-06],\n",
       "       [9.79391098e-01, 1.97035447e-02, 7.04225386e-04, 2.01144547e-04],\n",
       "       [3.48655813e-05, 1.72734726e-04, 8.00486468e-03, 9.91787493e-01],\n",
       "       [9.99902487e-01, 1.90731535e-05, 7.34913920e-05, 4.88523074e-06],\n",
       "       [1.53534711e-05, 6.08587179e-05, 9.77105618e-01, 2.28181649e-02],\n",
       "       [5.67954714e-07, 9.71505582e-01, 2.84936782e-02, 7.24569134e-08],\n",
       "       [3.28802344e-06, 9.31899849e-05, 2.94369936e-04, 9.99609172e-01],\n",
       "       [2.67900687e-05, 1.73284803e-04, 8.01925540e-01, 1.97874352e-01],\n",
       "       [1.43872758e-05, 8.59431602e-05, 9.99803245e-01, 9.64334322e-05],\n",
       "       [2.91266362e-04, 9.99392867e-01, 3.14123841e-04, 1.75270281e-06],\n",
       "       [2.94480211e-04, 1.04125086e-02, 9.89292502e-01, 5.04061461e-07],\n",
       "       [7.28927031e-02, 9.26096618e-01, 9.72246402e-04, 3.84563318e-05],\n",
       "       [4.19546140e-08, 9.75695252e-01, 2.43047234e-02, 1.10126743e-08],\n",
       "       [9.86629486e-01, 1.33355064e-02, 3.47471287e-05, 3.04055845e-07],\n",
       "       [2.61392612e-02, 9.39595044e-01, 3.42479423e-02, 1.76891153e-05],\n",
       "       [2.93354278e-05, 9.99960423e-01, 9.08481525e-06, 1.18365722e-06],\n",
       "       [1.49634834e-05, 1.56973820e-05, 9.87512887e-01, 1.24564786e-02],\n",
       "       [8.18416083e-05, 2.17301204e-04, 9.99069512e-01, 6.31448114e-04],\n",
       "       [4.82212199e-05, 1.90353749e-04, 7.79882260e-03, 9.91962612e-01],\n",
       "       [5.04727174e-13, 9.79704096e-10, 1.00000000e+00, 2.85027887e-11],\n",
       "       [1.20712006e-02, 9.47492123e-01, 4.04277742e-02, 8.96066649e-06],\n",
       "       [1.09998751e-02, 9.24965799e-01, 6.40258864e-02, 8.45885825e-06],\n",
       "       [2.03266845e-05, 4.05419596e-05, 7.06860423e-03, 9.92870510e-01],\n",
       "       [1.55524141e-03, 9.98056948e-01, 3.69265239e-04, 1.85157623e-05],\n",
       "       [3.67669116e-07, 1.44235901e-06, 9.99128282e-01, 8.69960000e-04],\n",
       "       [1.04336231e-03, 2.48445839e-01, 7.50510573e-01, 1.90138280e-07],\n",
       "       [2.40053887e-05, 1.72731525e-04, 6.89309032e-04, 9.99113977e-01],\n",
       "       [3.10224787e-05, 6.17872429e-05, 1.09561626e-02, 9.88951027e-01],\n",
       "       [9.97272313e-01, 1.37941417e-04, 2.58778082e-03, 2.03761374e-06],\n",
       "       [1.00179636e-06, 6.84462566e-06, 6.06385529e-01, 3.93606544e-01],\n",
       "       [3.18921241e-03, 6.57012165e-01, 3.39797795e-01, 7.52031269e-07],\n",
       "       [9.62195568e-09, 9.60633397e-01, 3.93666066e-02, 2.57534061e-09],\n",
       "       [2.39629708e-06, 5.55867991e-05, 3.17863608e-03, 9.96763349e-01],\n",
       "       [9.34422133e-06, 1.29802764e-04, 8.14222768e-02, 9.18438554e-01],\n",
       "       [9.81158564e-07, 9.97554839e-01, 2.44197552e-03, 2.30760020e-06],\n",
       "       [4.38801662e-09, 3.65010910e-09, 1.00000000e+00, 1.63482685e-08],\n",
       "       [5.51564444e-04, 9.99298692e-01, 9.30165115e-05, 5.66723247e-05],\n",
       "       [4.49426298e-04, 9.38619003e-02, 9.05688167e-01, 4.83246936e-07],\n",
       "       [2.38922425e-03, 1.10589596e-03, 8.03297281e-01, 1.93207562e-01],\n",
       "       [2.41333928e-05, 3.66553541e-05, 5.57100214e-03, 9.94368255e-01],\n",
       "       [9.90356863e-01, 9.10392124e-03, 4.83332697e-04, 5.58926004e-05],\n",
       "       [8.62942785e-02, 9.13608789e-01, 3.64630068e-05, 6.04138986e-05],\n",
       "       [1.90914623e-04, 2.92160490e-04, 4.65200424e-01, 5.34316480e-01],\n",
       "       [2.59182798e-07, 8.17838154e-05, 1.60723976e-05, 9.99901891e-01],\n",
       "       [3.41282771e-07, 2.28342851e-05, 5.51210769e-06, 9.99971271e-01],\n",
       "       [2.24480505e-06, 9.99846816e-01, 1.50832464e-04, 8.53702105e-08],\n",
       "       [1.38031533e-06, 9.83343780e-05, 3.59424230e-05, 9.99864340e-01],\n",
       "       [8.88199138e-05, 6.15111145e-04, 5.51218027e-03, 9.93783951e-01],\n",
       "       [2.03640208e-01, 7.96164036e-01, 1.09927110e-04, 8.58011117e-05],\n",
       "       [9.99755085e-01, 9.25462955e-05, 1.50690816e-04, 1.77358299e-06],\n",
       "       [1.04332130e-07, 1.00694042e-05, 9.13734972e-01, 8.62547904e-02],\n",
       "       [1.18160751e-05, 1.15678064e-04, 9.99607742e-01, 2.64859700e-04],\n",
       "       [1.06767565e-02, 9.89275694e-01, 4.13073139e-05, 6.22867356e-06],\n",
       "       [6.35120728e-07, 1.52907626e-06, 9.99941230e-01, 5.65998962e-05],\n",
       "       [4.40498370e-05, 1.24201775e-04, 8.13827012e-03, 9.91693437e-01],\n",
       "       [1.44064597e-05, 3.94800445e-05, 9.94139671e-01, 5.80645679e-03],\n",
       "       [1.20094828e-05, 8.53040619e-05, 2.48883705e-04, 9.99653816e-01],\n",
       "       [9.33684714e-05, 3.12307820e-04, 9.98799562e-01, 7.94786669e-04],\n",
       "       [4.20977594e-04, 5.46348921e-04, 9.92602289e-01, 6.43036049e-03],\n",
       "       [1.37493989e-04, 2.30025151e-04, 9.97144282e-01, 2.48817680e-03],\n",
       "       [9.99852061e-01, 2.84555044e-05, 1.04395876e-04, 1.50070582e-05],\n",
       "       [1.19671586e-05, 3.75173287e-04, 9.99598563e-01, 1.43610559e-05],\n",
       "       [1.51030036e-07, 2.99996100e-05, 4.49884537e-04, 9.99519944e-01],\n",
       "       [9.98188198e-01, 1.73275906e-03, 7.74522850e-05, 1.54618169e-06],\n",
       "       [2.92526794e-32, 2.56196695e-18, 1.00000000e+00, 1.11138879e-29],\n",
       "       [7.13719928e-04, 2.34015077e-01, 7.65271008e-01, 1.04669823e-07],\n",
       "       [3.68540495e-05, 1.56658905e-04, 1.54596671e-01, 8.45209837e-01],\n",
       "       [1.37146431e-04, 6.63148123e-04, 9.99185145e-01, 1.45994736e-05],\n",
       "       [5.38532389e-03, 4.57943743e-03, 9.89971638e-01, 6.35917168e-05],\n",
       "       [5.50418292e-07, 5.48928847e-06, 6.88952804e-01, 3.11041147e-01],\n",
       "       [1.90355280e-07, 9.81288075e-01, 1.87117327e-02, 4.38601546e-08],\n",
       "       [5.45515022e-13, 9.99999285e-01, 7.04855211e-07, 4.77550264e-14],\n",
       "       [1.11402269e-03, 9.98826444e-01, 4.48322826e-05, 1.46018065e-05],\n",
       "       [3.05903723e-06, 9.97335374e-01, 2.66122120e-03, 3.36558742e-07],\n",
       "       [1.29905331e-08, 4.43002136e-06, 1.51351969e-07, 9.99995470e-01],\n",
       "       [2.97637882e-07, 3.04941550e-05, 4.84687218e-04, 9.99484539e-01],\n",
       "       [5.92066499e-05, 3.25602130e-04, 9.99611318e-01, 3.92305310e-06],\n",
       "       [2.24832023e-04, 3.74474970e-04, 4.38265651e-01, 5.61135054e-01],\n",
       "       [6.78028155e-05, 1.33330905e-04, 9.98487234e-01, 1.31153245e-03],\n",
       "       [6.28192283e-05, 5.03444637e-04, 9.99426723e-01, 7.02824082e-06],\n",
       "       [5.81399854e-06, 1.43164216e-04, 9.99847889e-01, 3.09048687e-06],\n",
       "       [9.67000425e-01, 3.17172594e-02, 1.06698717e-03, 2.15278473e-04],\n",
       "       [1.23623188e-03, 9.98739541e-01, 1.18479502e-05, 1.24206435e-05],\n",
       "       [1.65359801e-04, 7.09450394e-02, 9.28889394e-01, 1.73264908e-07],\n",
       "       [1.51206768e-04, 4.98796580e-04, 9.97883379e-01, 1.46663550e-03],\n",
       "       [6.04765257e-04, 9.99225020e-01, 1.25858744e-04, 4.42942692e-05],\n",
       "       [9.94825780e-01, 5.01221884e-03, 1.33385445e-04, 2.85965452e-05],\n",
       "       [1.76647248e-07, 2.30872920e-05, 3.11060194e-06, 9.99973536e-01],\n",
       "       [1.77343842e-03, 9.98179674e-01, 3.34187607e-05, 1.34711718e-05],\n",
       "       [5.33098787e-10, 6.33432355e-04, 9.99366581e-01, 7.33194408e-11],\n",
       "       [7.94240805e-06, 8.43716225e-06, 9.91007149e-01, 8.97647627e-03],\n",
       "       [8.73224214e-02, 9.12606299e-01, 2.94680976e-05, 4.17615629e-05],\n",
       "       [2.28218457e-08, 4.33367006e-07, 9.99371827e-01, 6.27711997e-04],\n",
       "       [1.80503539e-05, 1.17725314e-04, 9.97381628e-01, 2.48257373e-03],\n",
       "       [5.80156484e-05, 6.85276427e-06, 9.92020309e-01, 7.91477971e-03],\n",
       "       [1.48206844e-03, 6.63513597e-03, 9.91509438e-01, 3.73385556e-04],\n",
       "       [1.11445188e-05, 1.59189840e-05, 9.85114574e-01, 1.48583958e-02],\n",
       "       [6.42982079e-03, 8.98181856e-01, 9.53735635e-02, 1.47589908e-05],\n",
       "       [9.99781787e-01, 1.90889681e-04, 2.69062966e-05, 4.50759359e-07],\n",
       "       [1.25602237e-05, 2.90825792e-05, 9.64115262e-01, 3.58430706e-02],\n",
       "       [7.64992013e-29, 3.40877213e-16, 1.00000000e+00, 1.69847993e-26],\n",
       "       [3.41397640e-03, 7.67371237e-01, 2.29202077e-01, 1.27477879e-05],\n",
       "       [2.29564102e-06, 9.94520485e-01, 5.47694601e-03, 3.98583353e-07],\n",
       "       [4.55387053e-05, 2.92977911e-05, 5.85338147e-03, 9.94071782e-01],\n",
       "       [1.31761376e-02, 9.82001007e-01, 4.82280133e-03, 1.03608684e-07],\n",
       "       [5.22014852e-05, 1.36625080e-04, 6.98499521e-03, 9.92826223e-01],\n",
       "       [9.92477715e-01, 7.08305882e-03, 4.08915745e-04, 3.03957895e-05],\n",
       "       [1.08490247e-04, 1.36144372e-04, 6.78599477e-01, 3.21155906e-01],\n",
       "       [9.98995125e-01, 9.80978366e-04, 2.05898850e-05, 3.32759282e-06],\n",
       "       [2.53090889e-06, 7.52103779e-06, 5.12436330e-01, 4.87553656e-01],\n",
       "       [8.78148694e-06, 2.44669227e-05, 1.05623090e-04, 9.99861121e-01],\n",
       "       [8.23948241e-04, 9.99120533e-01, 4.44342440e-05, 1.10338187e-05],\n",
       "       [4.23705515e-10, 9.99383330e-01, 6.16702600e-04, 2.15396745e-09],\n",
       "       [9.99230504e-01, 6.86526881e-04, 8.19135967e-05, 9.66685093e-07],\n",
       "       [1.92416933e-11, 9.99997020e-01, 2.95483937e-06, 8.26738309e-13],\n",
       "       [4.25327889e-04, 1.03702225e-01, 8.95872295e-01, 4.79142024e-08],\n",
       "       [2.95289578e-06, 3.50859386e-06, 9.98219073e-01, 1.77442620e-03],\n",
       "       [1.59674746e-05, 1.68168248e-04, 2.94251312e-02, 9.70390677e-01],\n",
       "       [1.33874797e-04, 2.26653181e-04, 9.84752119e-01, 1.48874456e-02],\n",
       "       [9.99895215e-01, 2.66412080e-05, 6.92028698e-05, 8.93360721e-06],\n",
       "       [2.61390209e-03, 1.97432493e-03, 9.94719863e-01, 6.91967434e-04],\n",
       "       [9.95696425e-01, 4.19170409e-03, 9.60543475e-05, 1.58392613e-05],\n",
       "       [3.32849479e-04, 9.99367893e-01, 2.95922509e-04, 3.33174057e-06],\n",
       "       [8.88043087e-06, 3.83901606e-05, 1.07198517e-04, 9.99845505e-01],\n",
       "       [3.43286251e-06, 5.86094257e-06, 9.99678731e-01, 3.11939162e-04],\n",
       "       [2.54346469e-05, 1.88047029e-02, 9.81169760e-01, 1.87323977e-07],\n",
       "       [1.91636562e-01, 8.08116853e-01, 1.60502299e-04, 8.59990614e-05]],\n",
       "      dtype=float32)"
      ]
     },
     "execution_count": 31,
     "metadata": {},
     "output_type": "execute_result"
    }
   ],
   "source": [
    "y_pred"
   ]
  },
  {
   "cell_type": "code",
   "execution_count": 32,
   "id": "60dd6056",
   "metadata": {},
   "outputs": [
    {
     "data": {
      "text/plain": [
       "(144, 4)"
      ]
     },
     "execution_count": 32,
     "metadata": {},
     "output_type": "execute_result"
    }
   ],
   "source": [
    "y_pred.shape"
   ]
  },
  {
   "cell_type": "markdown",
   "id": "a84b266d",
   "metadata": {},
   "source": [
    "#### 6.1.1. Transforming the encoded data back to room number"
   ]
  },
  {
   "cell_type": "code",
   "execution_count": 33,
   "id": "d83cecef",
   "metadata": {},
   "outputs": [],
   "source": [
    "# tf argmax returns the index of the largest value in the tensor\n",
    "room_pred = tf.argmax(y_pred, axis=1)\n",
    "# This connects to keras backend -- why is here though?\n",
    "# room_pred = tf.keras.backend.eval(room_pred)\n",
    "# print(room_pred)"
   ]
  },
  {
   "cell_type": "code",
   "execution_count": 34,
   "id": "b3d7664d",
   "metadata": {},
   "outputs": [
    {
     "data": {
      "text/plain": [
       "<tf.Tensor: shape=(144,), dtype=int64, numpy=\n",
       "array([1, 1, 2, 3, 1, 1, 3, 2, 3, 2, 0, 1, 0, 1, 2, 1, 3, 2, 0, 3, 0, 2,\n",
       "       1, 3, 2, 2, 1, 2, 1, 1, 0, 1, 1, 2, 2, 3, 2, 1, 1, 3, 1, 2, 2, 3,\n",
       "       3, 0, 2, 1, 1, 3, 3, 1, 2, 1, 2, 2, 3, 0, 1, 3, 3, 3, 1, 3, 3, 1,\n",
       "       0, 2, 2, 1, 2, 3, 2, 3, 2, 2, 2, 0, 2, 3, 0, 2, 2, 3, 2, 2, 2, 1,\n",
       "       1, 1, 1, 3, 3, 2, 3, 2, 2, 2, 0, 1, 2, 2, 1, 0, 3, 1, 2, 2, 1, 2,\n",
       "       2, 2, 2, 2, 1, 0, 2, 2, 1, 1, 3, 1, 3, 0, 2, 0, 2, 3, 1, 1, 0, 1,\n",
       "       2, 2, 3, 2, 0, 2, 0, 1, 3, 2, 2, 1], dtype=int64)>"
      ]
     },
     "execution_count": 34,
     "metadata": {},
     "output_type": "execute_result"
    }
   ],
   "source": [
    "room_pred"
   ]
  },
  {
   "cell_type": "markdown",
   "id": "614629e0",
   "metadata": {},
   "source": [
    "### 6.2. Making the confusion matrix and calculating Accuracy "
   ]
  },
  {
   "cell_type": "code",
   "execution_count": 35,
   "id": "12ecbdf4",
   "metadata": {},
   "outputs": [
    {
     "name": "stdout",
     "output_type": "stream",
     "text": [
      "[[17  0  0  0]\n",
      " [ 1 41  4  0]\n",
      " [ 0  0 49  3]\n",
      " [ 0  0  1 28]]\n",
      "Accuracy:  0.9375\n"
     ]
    }
   ],
   "source": [
    "cm = confusion_matrix(y_test, room_pred)\n",
    "print(cm)\n",
    "accuracy = accuracy_score(y_test, room_pred)\n",
    "print('Accuracy: ', accuracy)"
   ]
  },
  {
   "cell_type": "code",
   "execution_count": 36,
   "id": "d235f58c",
   "metadata": {},
   "outputs": [
    {
     "name": "stdout",
     "output_type": "stream",
     "text": [
      "              precision    recall  f1-score   support\n",
      "\n",
      "         0.0       0.94      1.00      0.97        17\n",
      "         1.0       1.00      0.89      0.94        46\n",
      "         2.0       0.91      0.94      0.92        52\n",
      "         3.0       0.90      0.97      0.93        29\n",
      "\n",
      "    accuracy                           0.94       144\n",
      "   macro avg       0.94      0.95      0.94       144\n",
      "weighted avg       0.94      0.94      0.94       144\n",
      "\n"
     ]
    }
   ],
   "source": [
    "print(classification_report(y_test, room_pred))"
   ]
  },
  {
   "cell_type": "markdown",
   "id": "ab89f2c1",
   "metadata": {},
   "source": [
    "### 6.3. Predicting with the Validation set"
   ]
  },
  {
   "cell_type": "code",
   "execution_count": 37,
   "id": "bee14b58",
   "metadata": {},
   "outputs": [],
   "source": [
    "X_val = sc.fit_transform(X_val)"
   ]
  },
  {
   "cell_type": "code",
   "execution_count": 38,
   "id": "e031c5ff",
   "metadata": {},
   "outputs": [
    {
     "name": "stdout",
     "output_type": "stream",
     "text": [
      "2/2 [==============================] - 0s 2ms/step\n"
     ]
    },
    {
     "data": {
      "text/plain": [
       "array([[3.45835019e-07, 4.34692220e-06, 9.99874234e-01, 1.21077115e-04],\n",
       "       [1.36810982e-07, 1.98973498e-06, 9.99526143e-01, 4.71721869e-04],\n",
       "       [1.29625846e-06, 5.08690482e-06, 9.86902714e-01, 1.30908424e-02],\n",
       "       [1.87544010e-05, 3.54629556e-05, 9.98830259e-01, 1.11546589e-03],\n",
       "       [2.25677827e-11, 1.81250375e-08, 1.00000000e+00, 1.48869847e-10],\n",
       "       [5.23158560e-05, 1.11851485e-04, 9.97400284e-01, 2.43559456e-03],\n",
       "       [1.27372948e-06, 8.72790133e-06, 9.98811722e-01, 1.17827021e-03],\n",
       "       [2.35412081e-04, 1.42914278e-03, 8.28264654e-01, 1.70070872e-01],\n",
       "       [2.35412081e-04, 1.42914278e-03, 8.28264654e-01, 1.70070872e-01],\n",
       "       [5.09498874e-04, 7.14771217e-04, 7.36545026e-02, 9.25121248e-01],\n",
       "       [1.16210744e-04, 9.56029259e-03, 3.29447575e-02, 9.57378745e-01],\n",
       "       [8.22267320e-04, 4.70915023e-04, 5.01251929e-02, 9.48581755e-01],\n",
       "       [5.16026012e-05, 9.75488976e-04, 6.66806998e-04, 9.98306036e-01],\n",
       "       [1.04950035e-04, 1.60266794e-02, 3.26150283e-03, 9.80606973e-01],\n",
       "       [7.82581822e-07, 1.74428642e-04, 1.56765623e-06, 9.99823272e-01],\n",
       "       [7.63711432e-06, 1.20850257e-03, 2.86027844e-05, 9.98755336e-01],\n",
       "       [8.92287517e-06, 1.31377357e-03, 2.61304528e-02, 9.72546816e-01],\n",
       "       [4.09830718e-05, 6.83440873e-03, 2.09380654e-04, 9.92915273e-01],\n",
       "       [4.94135238e-05, 3.62255494e-03, 6.79624975e-02, 9.28365529e-01],\n",
       "       [2.42103124e-05, 1.14549056e-03, 6.08886949e-05, 9.98769343e-01],\n",
       "       [7.13806003e-06, 1.07331865e-03, 5.33662736e-03, 9.93582904e-01],\n",
       "       [1.36871076e-05, 9.05772395e-05, 1.03209110e-04, 9.99792516e-01],\n",
       "       [7.72218336e-04, 8.85703601e-03, 6.12648344e-03, 9.84244227e-01],\n",
       "       [2.94097263e-04, 3.94179486e-03, 1.63721712e-03, 9.94126797e-01],\n",
       "       [2.94097263e-04, 3.94179486e-03, 1.63721712e-03, 9.94126797e-01],\n",
       "       [1.14846276e-03, 9.11542494e-03, 4.05449688e-01, 5.84286392e-01],\n",
       "       [9.08867223e-04, 3.38559668e-03, 4.84942012e-02, 9.47211385e-01],\n",
       "       [9.08867223e-04, 3.38559668e-03, 4.84942012e-02, 9.47211385e-01],\n",
       "       [1.15506479e-03, 2.69868574e-03, 8.81336257e-02, 9.08012569e-01],\n",
       "       [1.15506479e-03, 2.69868574e-03, 8.81336257e-02, 9.08012569e-01],\n",
       "       [1.20254183e-04, 1.16523341e-04, 9.95340586e-01, 4.42272099e-03],\n",
       "       [3.47655732e-05, 6.74841576e-05, 9.99733865e-01, 1.63878547e-04],\n",
       "       [1.13677424e-06, 3.38967948e-06, 9.99989510e-01, 5.90482068e-06],\n",
       "       [2.46742657e-05, 2.09905353e-04, 9.99652982e-01, 1.12461217e-04],\n",
       "       [1.61253600e-04, 7.66390760e-04, 9.98820245e-01, 2.52083730e-04],\n",
       "       [2.58310378e-04, 1.27949833e-03, 9.98403013e-01, 5.91756470e-05],\n",
       "       [6.07185822e-04, 9.65458690e-04, 9.98222530e-01, 2.04817843e-04],\n",
       "       [6.07185822e-04, 9.65458690e-04, 9.98222530e-01, 2.04817843e-04],\n",
       "       [3.38545156e-04, 6.19562948e-03, 9.93464172e-01, 1.54039708e-06],\n",
       "       [2.49306504e-02, 1.71435997e-02, 9.57912803e-01, 1.29167111e-05],\n",
       "       [4.33339551e-02, 3.24359834e-01, 6.32305622e-01, 6.36697337e-07],\n",
       "       [1.10776686e-08, 1.00000000e+00, 2.74236118e-08, 8.49389101e-11],\n",
       "       [1.15461330e-12, 4.05651517e-02, 9.59434807e-01, 5.34898623e-13],\n",
       "       [1.76135765e-03, 5.64980149e-01, 4.33258414e-01, 1.46285302e-07],\n",
       "       [1.01352571e-08, 9.99999881e-01, 7.24540428e-08, 1.52169846e-10],\n",
       "       [7.56381553e-08, 9.99999523e-01, 4.46007078e-07, 7.87251431e-10],\n",
       "       [6.14516810e-03, 9.93853927e-01, 8.88564045e-07, 5.13499572e-08],\n",
       "       [9.99993324e-01, 5.72138561e-06, 9.11677944e-07, 4.79008477e-08],\n",
       "       [9.98917341e-01, 1.07141864e-03, 1.10430901e-05, 2.43879668e-07],\n",
       "       [9.99599040e-01, 3.98586446e-04, 2.32404182e-06, 1.90086027e-08],\n",
       "       [9.89246190e-01, 1.07489740e-02, 4.71768726e-06, 7.20422051e-08],\n",
       "       [9.74343479e-01, 2.56174374e-02, 3.73210787e-05, 1.78179675e-06],\n",
       "       [9.74343479e-01, 2.56174374e-02, 3.73210787e-05, 1.78179675e-06]],\n",
       "      dtype=float32)"
      ]
     },
     "execution_count": 38,
     "metadata": {},
     "output_type": "execute_result"
    }
   ],
   "source": [
    "y_pred_val = nn.predict(X_val)\n",
    "y_pred_val"
   ]
  },
  {
   "cell_type": "code",
   "execution_count": 39,
   "id": "2d1e4d0b",
   "metadata": {},
   "outputs": [
    {
     "data": {
      "text/plain": [
       "(53, 4)"
      ]
     },
     "execution_count": 39,
     "metadata": {},
     "output_type": "execute_result"
    }
   ],
   "source": [
    "y_pred_val.shape"
   ]
  },
  {
   "cell_type": "code",
   "execution_count": 40,
   "id": "f5ce2f60",
   "metadata": {},
   "outputs": [],
   "source": [
    "room_pred_val = tf.argmax(y_pred_val, axis=1)\n",
    "room_pred_val = tf.keras.backend.eval(room_pred_val)"
   ]
  },
  {
   "cell_type": "code",
   "execution_count": 41,
   "id": "d7d8dc34",
   "metadata": {},
   "outputs": [
    {
     "data": {
      "text/plain": [
       "array([2, 2, 2, 2, 2, 2, 2, 2, 2, 3, 3, 3, 3, 3, 3, 3, 3, 3, 3, 3, 3, 3,\n",
       "       3, 3, 3, 3, 3, 3, 3, 3, 2, 2, 2, 2, 2, 2, 2, 2, 2, 2, 2, 1, 2, 1,\n",
       "       1, 1, 1, 0, 0, 0, 0, 0, 0], dtype=int64)"
      ]
     },
     "execution_count": 41,
     "metadata": {},
     "output_type": "execute_result"
    }
   ],
   "source": [
    "room_pred_val"
   ]
  },
  {
   "cell_type": "code",
   "execution_count": 42,
   "id": "a228988e",
   "metadata": {},
   "outputs": [
    {
     "name": "stdout",
     "output_type": "stream",
     "text": [
      "[[ 6  0  0  0]\n",
      " [ 0  3  0  0]\n",
      " [ 0  2 20  0]\n",
      " [ 0  0  1 21]]\n",
      "Accuracy:  0.9433962264150944\n"
     ]
    }
   ],
   "source": [
    "cm = confusion_matrix(y_val, room_pred_val)\n",
    "print(cm)\n",
    "accuracy = accuracy_score(y_val, room_pred_val)\n",
    "print('Accuracy: ', accuracy)"
   ]
  },
  {
   "cell_type": "code",
   "execution_count": 43,
   "id": "dea1e957",
   "metadata": {},
   "outputs": [
    {
     "name": "stdout",
     "output_type": "stream",
     "text": [
      "              precision    recall  f1-score   support\n",
      "\n",
      "         0.0       1.00      1.00      1.00         6\n",
      "         1.0       0.60      1.00      0.75         3\n",
      "         2.0       0.95      0.91      0.93        22\n",
      "         3.0       1.00      0.95      0.98        22\n",
      "\n",
      "    accuracy                           0.94        53\n",
      "   macro avg       0.89      0.97      0.91        53\n",
      "weighted avg       0.96      0.94      0.95        53\n",
      "\n"
     ]
    }
   ],
   "source": [
    "print(classification_report(y_val, room_pred_val))"
   ]
  },
  {
   "cell_type": "markdown",
   "id": "e8c6edff",
   "metadata": {},
   "source": [
    "## 7. Building the KNN regressor"
   ]
  },
  {
   "cell_type": "markdown",
   "id": "76420cb9",
   "metadata": {},
   "source": [
    "### 7.1. Creating the second training dataset"
   ]
  },
  {
   "cell_type": "markdown",
   "id": "8e306eb3",
   "metadata": {},
   "source": [
    "#### 7.1.1. Selecting the cluster to which out values correspond to (the room)"
   ]
  },
  {
   "cell_type": "code",
   "execution_count": 44,
   "id": "b8b5af9b",
   "metadata": {},
   "outputs": [],
   "source": [
    "room = 3\n",
    "# floor = floor_pred_valid[0] # TODO: verify how can we change this so it gets the room by default\n",
    "mask = df_wifi_and_loc_file['room'] == room"
   ]
  },
  {
   "cell_type": "code",
   "execution_count": 45,
   "id": "51bef3f7",
   "metadata": {
    "scrolled": true
   },
   "outputs": [
    {
     "data": {
      "text/plain": [
       "(12:16:33:01    3.0\n",
       " 12:16:34:00    3.0\n",
       " 12:16:36:00    3.0\n",
       " 12:16:37:00    3.0\n",
       " 12:16:38:00    3.0\n",
       "               ... \n",
       " 19:08:54:01    3.0\n",
       " 19:08:55:00    3.0\n",
       " 19:08:56:00    3.0\n",
       " 19:08:57:00    3.0\n",
       " 19:08:58:00    3.0\n",
       " Name: room, Length: 143, dtype: float64,\n",
       "              32:cd:a7:a0:6d:d8  84:b2:61:56:8a:01  84:b2:61:56:8a:02  \\\n",
       " 12:16:33:01              -72.0              -62.0              -62.0   \n",
       " 12:16:34:00              -70.0              -70.0              -72.0   \n",
       " 12:16:36:00              -76.0              -69.0              -66.0   \n",
       " 12:16:37:00              -74.0              -67.0              -69.0   \n",
       " 12:16:38:00              -76.0              -76.0              -76.0   \n",
       " ...                        ...                ...                ...   \n",
       " 19:08:54:01              -81.0              -82.0              -81.0   \n",
       " 19:08:55:00              -74.0              -65.0              -64.0   \n",
       " 19:08:56:00              -74.0              -65.0              -64.0   \n",
       " 19:08:57:00              -66.0              -60.0              -60.0   \n",
       " 19:08:58:00              -66.0              -60.0              -60.0   \n",
       " \n",
       "              84:b2:61:56:8a:00  84:b2:61:6d:3d:22  84:b2:61:6d:3d:21  \\\n",
       " 12:16:33:01              -62.0              -91.0              -90.0   \n",
       " 12:16:34:00              -72.0              -88.0              -88.0   \n",
       " 12:16:36:00              -70.0             -100.0             -100.0   \n",
       " 12:16:37:00              -69.0              -89.0              -89.0   \n",
       " 12:16:38:00              -76.0              -88.0              -87.0   \n",
       " ...                        ...                ...                ...   \n",
       " 19:08:54:01              -81.0              -92.0              -92.0   \n",
       " 19:08:55:00              -64.0              -91.0              -93.0   \n",
       " 19:08:56:00              -64.0              -91.0              -93.0   \n",
       " 19:08:57:00              -60.0              -87.0              -89.0   \n",
       " 19:08:58:00              -60.0              -87.0              -89.0   \n",
       " \n",
       "              84:b2:61:6d:3d:20  84:b2:61:5e:44:22  84:b2:61:5e:44:21  \\\n",
       " 12:16:33:01              -89.0              -49.0              -49.0   \n",
       " 12:16:34:00              -83.0              -51.0              -51.0   \n",
       " 12:16:36:00             -100.0              -58.0              -57.0   \n",
       " 12:16:37:00              -89.0              -61.0              -61.0   \n",
       " 12:16:38:00              -87.0              -59.0              -59.0   \n",
       " ...                        ...                ...                ...   \n",
       " 19:08:54:01              -94.0              -61.0              -61.0   \n",
       " 19:08:55:00              -91.0              -56.0              -56.0   \n",
       " 19:08:56:00              -91.0              -56.0              -56.0   \n",
       " 19:08:57:00              -89.0              -51.0              -50.0   \n",
       " 19:08:58:00              -89.0              -51.0              -50.0   \n",
       " \n",
       "              84:b2:61:5e:44:20  ...  84:b2:61:47:e2:ce  84:b2:61:47:e2:cd  \\\n",
       " 12:16:33:01              -49.0  ...             -100.0             -100.0   \n",
       " 12:16:34:00              -51.0  ...             -100.0             -100.0   \n",
       " 12:16:36:00              -57.0  ...             -100.0             -100.0   \n",
       " 12:16:37:00              -61.0  ...             -100.0             -100.0   \n",
       " 12:16:38:00              -59.0  ...             -100.0             -100.0   \n",
       " ...                        ...  ...                ...                ...   \n",
       " 19:08:54:01              -62.0  ...             -100.0             -100.0   \n",
       " 19:08:55:00              -56.0  ...             -100.0             -100.0   \n",
       " 19:08:56:00              -56.0  ...             -100.0             -100.0   \n",
       " 19:08:57:00              -50.0  ...             -100.0             -100.0   \n",
       " 19:08:58:00              -50.0  ...             -100.0             -100.0   \n",
       " \n",
       "              84:b2:61:6d:52:a1  84:b2:61:6d:52:a0  84:b2:61:6d:52:a2  \\\n",
       " 12:16:33:01              -81.0              -82.0              -82.0   \n",
       " 12:16:34:00              -85.0              -82.0              -83.0   \n",
       " 12:16:36:00             -100.0             -100.0             -100.0   \n",
       " 12:16:37:00              -89.0              -87.0              -88.0   \n",
       " 12:16:38:00              -91.0              -88.0              -90.0   \n",
       " ...                        ...                ...                ...   \n",
       " 19:08:54:01             -100.0             -100.0             -100.0   \n",
       " 19:08:55:00              -89.0              -89.0              -90.0   \n",
       " 19:08:56:00              -89.0              -89.0              -90.0   \n",
       " 19:08:57:00              -85.0              -84.0              -82.0   \n",
       " 19:08:58:00              -85.0              -84.0              -82.0   \n",
       " \n",
       "              84:b2:61:6d:52:af  84:b2:61:40:75:f1  84:b2:61:40:75:f2  \\\n",
       " 12:16:33:01             -100.0             -100.0             -100.0   \n",
       " 12:16:34:00             -100.0             -100.0             -100.0   \n",
       " 12:16:36:00             -100.0             -100.0             -100.0   \n",
       " 12:16:37:00             -100.0             -100.0             -100.0   \n",
       " 12:16:38:00             -100.0             -100.0             -100.0   \n",
       " ...                        ...                ...                ...   \n",
       " 19:08:54:01             -100.0             -100.0             -100.0   \n",
       " 19:08:55:00             -100.0             -100.0             -100.0   \n",
       " 19:08:56:00             -100.0             -100.0             -100.0   \n",
       " 19:08:57:00             -100.0             -100.0             -100.0   \n",
       " 19:08:58:00             -100.0             -100.0             -100.0   \n",
       " \n",
       "              84:b2:61:40:75:f0  c4:71:54:39:70:e4  \n",
       " 12:16:33:01             -100.0             -100.0  \n",
       " 12:16:34:00             -100.0             -100.0  \n",
       " 12:16:36:00             -100.0             -100.0  \n",
       " 12:16:37:00             -100.0             -100.0  \n",
       " 12:16:38:00             -100.0             -100.0  \n",
       " ...                        ...                ...  \n",
       " 19:08:54:01             -100.0             -100.0  \n",
       " 19:08:55:00             -100.0             -100.0  \n",
       " 19:08:56:00             -100.0             -100.0  \n",
       " 19:08:57:00             -100.0             -100.0  \n",
       " 19:08:58:00             -100.0             -100.0  \n",
       " \n",
       " [143 rows x 41 columns])"
      ]
     },
     "execution_count": 45,
     "metadata": {},
     "output_type": "execute_result"
    }
   ],
   "source": [
    "df_ap = df_wifi_and_loc_file.iloc[:, :41][mask]\n",
    "df_floor = df_wifi_and_loc_file['room'][mask]\n",
    "df_floor, df_ap"
   ]
  },
  {
   "cell_type": "code",
   "execution_count": 46,
   "id": "d0906a2a",
   "metadata": {},
   "outputs": [],
   "source": [
    "X_step_2 = pd.concat([df_ap, df_floor], axis=1).values\n",
    "y_step_2 = df_wifi_and_loc_file[['lat', 'long']][mask].values"
   ]
  },
  {
   "cell_type": "code",
   "execution_count": 47,
   "id": "3d2305ef",
   "metadata": {},
   "outputs": [
    {
     "data": {
      "text/plain": [
       "array([[ -72.,  -62.,  -62., ..., -100., -100.,    3.],\n",
       "       [ -70.,  -70.,  -72., ..., -100., -100.,    3.],\n",
       "       [ -76.,  -69.,  -66., ..., -100., -100.,    3.],\n",
       "       ...,\n",
       "       [ -74.,  -65.,  -64., ..., -100., -100.,    3.],\n",
       "       [ -66.,  -60.,  -60., ..., -100., -100.,    3.],\n",
       "       [ -66.,  -60.,  -60., ..., -100., -100.,    3.]])"
      ]
     },
     "execution_count": 47,
     "metadata": {},
     "output_type": "execute_result"
    }
   ],
   "source": [
    "X_step_2"
   ]
  },
  {
   "cell_type": "code",
   "execution_count": 48,
   "id": "626c86c0",
   "metadata": {},
   "outputs": [
    {
     "data": {
      "text/plain": [
       "array([[44.4349375 , 26.04789753],\n",
       "       [44.4349375 , 26.0479032 ],\n",
       "       [44.43493007, 26.04790377],\n",
       "       [44.4349208 , 26.04790377],\n",
       "       [44.43491052, 26.04790377],\n",
       "       [44.43489953, 26.04790377],\n",
       "       [44.43488916, 26.04790377],\n",
       "       [44.43487854, 26.04790377],\n",
       "       [44.43487455, 26.04791457],\n",
       "       [44.43487455, 26.0479277 ],\n",
       "       [44.43487455, 26.0479403 ],\n",
       "       [44.43488599, 26.04794156],\n",
       "       [44.43489453, 26.04794156],\n",
       "       [44.4349049 , 26.04794156],\n",
       "       [44.43491614, 26.04794156],\n",
       "       [44.43492738, 26.04794156],\n",
       "       [44.4349375 , 26.04794143],\n",
       "       [44.4349375 , 26.04792826],\n",
       "       [44.4349375 , 26.04791322],\n",
       "       [44.4349375 , 26.04789748],\n",
       "       [44.4349375 , 26.04789468],\n",
       "       [44.4349375 , 26.04790377],\n",
       "       [44.43493001, 26.04790377],\n",
       "       [44.43492251, 26.04790377],\n",
       "       [44.43491252, 26.04790377],\n",
       "       [44.43490153, 26.04790377],\n",
       "       [44.43489253, 26.04790377],\n",
       "       [44.43488254, 26.04790377],\n",
       "       [44.43487455, 26.04790797],\n",
       "       [44.43487455, 26.04792476],\n",
       "       [44.43487455, 26.04793698],\n",
       "       [44.43488226, 26.04794156],\n",
       "       [44.43489163, 26.04794156],\n",
       "       [44.43490153, 26.04794156],\n",
       "       [44.43491277, 26.04794156],\n",
       "       [44.43492351, 26.04794156],\n",
       "       [44.43493413, 26.04794156],\n",
       "       [44.4349375 , 26.04793369],\n",
       "       [44.4349375 , 26.04791847],\n",
       "       [44.4349375 , 26.04790503],\n",
       "       [44.4349375 , 26.04789636],\n",
       "       [44.4349375 , 26.04790195],\n",
       "       [44.43492913, 26.04790377],\n",
       "       [44.43492131, 26.04790377],\n",
       "       [44.43491052, 26.04790377],\n",
       "       [44.43489853, 26.04790377],\n",
       "       [44.43488854, 26.04790377],\n",
       "       [44.43487712, 26.04790377],\n",
       "       [44.43487455, 26.04791637],\n",
       "       [44.43487455, 26.04793148],\n",
       "       [44.4348768 , 26.04794156],\n",
       "       [44.43488804, 26.04794156],\n",
       "       [44.43489928, 26.04794156],\n",
       "       [44.43491052, 26.04794156],\n",
       "       [44.43492289, 26.04794156],\n",
       "       [44.434933  , 26.04794156],\n",
       "       [44.4349375 , 26.04793526],\n",
       "       [44.4349375 , 26.04791794],\n",
       "       [44.4349375 , 26.04790613],\n",
       "       [44.4349375 , 26.0479001 ],\n",
       "       [44.4349375 , 26.04789534],\n",
       "       [44.4349375 , 26.04790299],\n",
       "       [44.43493046, 26.04790377],\n",
       "       [44.43492401, 26.04790377],\n",
       "       [44.43491389, 26.04790377],\n",
       "       [44.43490265, 26.04790377],\n",
       "       [44.43489253, 26.04790377],\n",
       "       [44.43487455, 26.04790377],\n",
       "       [44.43487455, 26.04791777],\n",
       "       [44.43487455, 26.04793176],\n",
       "       [44.434877  , 26.04794156],\n",
       "       [44.43488611, 26.04794156],\n",
       "       [44.43489753, 26.04794156],\n",
       "       [44.43490752, 26.04794156],\n",
       "       [44.43491752, 26.04794156],\n",
       "       [44.43492851, 26.04794156],\n",
       "       [44.4349375 , 26.04794156],\n",
       "       [44.4349375 , 26.04793166],\n",
       "       [44.4349375 , 26.04791637],\n",
       "       [44.4349375 , 26.04790721],\n",
       "       [44.4349375 , 26.04790062],\n",
       "       [44.4349375 , 26.04789686],\n",
       "       [44.4349375 , 26.04790083],\n",
       "       [44.43493037, 26.04790377],\n",
       "       [44.43492401, 26.04790377],\n",
       "       [44.43491277, 26.04790377],\n",
       "       [44.43490153, 26.04790377],\n",
       "       [44.43489029, 26.04790377],\n",
       "       [44.43487954, 26.04790377],\n",
       "       [44.43487455, 26.04791427],\n",
       "       [44.43487455, 26.0479277 ],\n",
       "       [44.43487455, 26.04794156],\n",
       "       [44.43488579, 26.04794156],\n",
       "       [44.43489767, 26.04794156],\n",
       "       [44.43491063, 26.04794156],\n",
       "       [44.43492176, 26.04794156],\n",
       "       [44.434933  , 26.04794156],\n",
       "       [44.4349375 , 26.04793369],\n",
       "       [44.4349375 , 26.04791889],\n",
       "       [44.4349375 , 26.04790797],\n",
       "       [44.4349375 , 26.04790055],\n",
       "       [44.4349375 , 26.04789676],\n",
       "       [44.4349375 , 26.04790206],\n",
       "       [44.43493085, 26.04790377],\n",
       "       [44.43492401, 26.04790377],\n",
       "       [44.43491453, 26.04790377],\n",
       "       [44.4349049 , 26.04790377],\n",
       "       [44.43489453, 26.04790377],\n",
       "       [44.43488264, 26.04790377],\n",
       "       [44.43487455, 26.04790535],\n",
       "       [44.43487455, 26.04792109],\n",
       "       [44.43487954, 26.04793596],\n",
       "       [44.43488954, 26.04794156],\n",
       "       [44.43489953, 26.04794156],\n",
       "       [44.43491052, 26.04794156],\n",
       "       [44.43492051, 26.04794156],\n",
       "       [44.43493031, 26.04794156],\n",
       "       [44.4349375 , 26.04793946],\n",
       "       [44.4349375 , 26.0479277 ],\n",
       "       [44.4349375 , 26.04791322],\n",
       "       [44.4349375 , 26.04789748],\n",
       "       [44.4349375 , 26.04789666],\n",
       "       [44.4349375 , 26.04790251],\n",
       "       [44.43493046, 26.04790377],\n",
       "       [44.43492351, 26.04790377],\n",
       "       [44.43491277, 26.04790377],\n",
       "       [44.4349004 , 26.04790377],\n",
       "       [44.43488984, 26.04790377],\n",
       "       [44.43488054, 26.04790377],\n",
       "       [44.43487455, 26.04790881],\n",
       "       [44.43487455, 26.04792267],\n",
       "       [44.43487455, 26.04793652],\n",
       "       [44.43487945, 26.04794156],\n",
       "       [44.43488854, 26.04794156],\n",
       "       [44.43489928, 26.04794156],\n",
       "       [44.43490952, 26.04794156],\n",
       "       [44.43492115, 26.04794156],\n",
       "       [44.4349375 , 26.04794156],\n",
       "       [44.4349375 , 26.04794147],\n",
       "       [44.4349375 , 26.04793183],\n",
       "       [44.4349375 , 26.04791987],\n",
       "       [44.4349375 , 26.04790692],\n",
       "       [44.4349375 , 26.04790062]])"
      ]
     },
     "execution_count": 48,
     "metadata": {},
     "output_type": "execute_result"
    }
   ],
   "source": [
    "y_step_2"
   ]
  },
  {
   "cell_type": "markdown",
   "id": "bd738782",
   "metadata": {},
   "source": [
    "### 7.2. Splitting the data in Train and Test"
   ]
  },
  {
   "cell_type": "code",
   "execution_count": 49,
   "id": "3c888d3d",
   "metadata": {},
   "outputs": [],
   "source": [
    "X_train_step_2, X_test_step_2, y_train_step_2, y_test_step_2 = train_test_split(X_step_2,\n",
    "                                                                                y_step_2, \n",
    "                                                                                test_size = 0.2, \n",
    "                                                                                random_state = 0)"
   ]
  },
  {
   "cell_type": "code",
   "execution_count": 50,
   "id": "cfce4965",
   "metadata": {},
   "outputs": [
    {
     "data": {
      "text/plain": [
       "array([[ -80., -100., -100., ..., -100., -100.,    3.],\n",
       "       [ -76.,  -69.,  -66., ..., -100., -100.,    3.],\n",
       "       [ -85.,  -76.,  -76., ..., -100., -100.,    3.],\n",
       "       ...,\n",
       "       [ -85.,  -72.,  -72., ..., -100., -100.,    3.],\n",
       "       [ -86.,  -87.,  -86., ..., -100., -100.,    3.],\n",
       "       [ -79.,  -71.,  -71., ..., -100., -100.,    3.]])"
      ]
     },
     "execution_count": 50,
     "metadata": {},
     "output_type": "execute_result"
    }
   ],
   "source": [
    "X_train_step_2"
   ]
  },
  {
   "cell_type": "code",
   "execution_count": 51,
   "id": "d590a201",
   "metadata": {},
   "outputs": [
    {
     "data": {
      "text/plain": [
       "114"
      ]
     },
     "execution_count": 51,
     "metadata": {},
     "output_type": "execute_result"
    }
   ],
   "source": [
    "len(X_train_step_2)"
   ]
  },
  {
   "cell_type": "code",
   "execution_count": 52,
   "id": "e2d2b890",
   "metadata": {},
   "outputs": [
    {
     "data": {
      "text/plain": [
       "29"
      ]
     },
     "execution_count": 52,
     "metadata": {},
     "output_type": "execute_result"
    }
   ],
   "source": [
    "len(X_test_step_2)"
   ]
  },
  {
   "cell_type": "markdown",
   "id": "312f85fb",
   "metadata": {},
   "source": [
    "### 7.3. Building the model"
   ]
  },
  {
   "cell_type": "code",
   "execution_count": 53,
   "id": "f5a08b73",
   "metadata": {},
   "outputs": [
    {
     "data": {
      "text/html": [
       "<style>#sk-container-id-1 {color: black;background-color: white;}#sk-container-id-1 pre{padding: 0;}#sk-container-id-1 div.sk-toggleable {background-color: white;}#sk-container-id-1 label.sk-toggleable__label {cursor: pointer;display: block;width: 100%;margin-bottom: 0;padding: 0.3em;box-sizing: border-box;text-align: center;}#sk-container-id-1 label.sk-toggleable__label-arrow:before {content: \"▸\";float: left;margin-right: 0.25em;color: #696969;}#sk-container-id-1 label.sk-toggleable__label-arrow:hover:before {color: black;}#sk-container-id-1 div.sk-estimator:hover label.sk-toggleable__label-arrow:before {color: black;}#sk-container-id-1 div.sk-toggleable__content {max-height: 0;max-width: 0;overflow: hidden;text-align: left;background-color: #f0f8ff;}#sk-container-id-1 div.sk-toggleable__content pre {margin: 0.2em;color: black;border-radius: 0.25em;background-color: #f0f8ff;}#sk-container-id-1 input.sk-toggleable__control:checked~div.sk-toggleable__content {max-height: 200px;max-width: 100%;overflow: auto;}#sk-container-id-1 input.sk-toggleable__control:checked~label.sk-toggleable__label-arrow:before {content: \"▾\";}#sk-container-id-1 div.sk-estimator input.sk-toggleable__control:checked~label.sk-toggleable__label {background-color: #d4ebff;}#sk-container-id-1 div.sk-label input.sk-toggleable__control:checked~label.sk-toggleable__label {background-color: #d4ebff;}#sk-container-id-1 input.sk-hidden--visually {border: 0;clip: rect(1px 1px 1px 1px);clip: rect(1px, 1px, 1px, 1px);height: 1px;margin: -1px;overflow: hidden;padding: 0;position: absolute;width: 1px;}#sk-container-id-1 div.sk-estimator {font-family: monospace;background-color: #f0f8ff;border: 1px dotted black;border-radius: 0.25em;box-sizing: border-box;margin-bottom: 0.5em;}#sk-container-id-1 div.sk-estimator:hover {background-color: #d4ebff;}#sk-container-id-1 div.sk-parallel-item::after {content: \"\";width: 100%;border-bottom: 1px solid gray;flex-grow: 1;}#sk-container-id-1 div.sk-label:hover label.sk-toggleable__label {background-color: #d4ebff;}#sk-container-id-1 div.sk-serial::before {content: \"\";position: absolute;border-left: 1px solid gray;box-sizing: border-box;top: 0;bottom: 0;left: 50%;z-index: 0;}#sk-container-id-1 div.sk-serial {display: flex;flex-direction: column;align-items: center;background-color: white;padding-right: 0.2em;padding-left: 0.2em;position: relative;}#sk-container-id-1 div.sk-item {position: relative;z-index: 1;}#sk-container-id-1 div.sk-parallel {display: flex;align-items: stretch;justify-content: center;background-color: white;position: relative;}#sk-container-id-1 div.sk-item::before, #sk-container-id-1 div.sk-parallel-item::before {content: \"\";position: absolute;border-left: 1px solid gray;box-sizing: border-box;top: 0;bottom: 0;left: 50%;z-index: -1;}#sk-container-id-1 div.sk-parallel-item {display: flex;flex-direction: column;z-index: 1;position: relative;background-color: white;}#sk-container-id-1 div.sk-parallel-item:first-child::after {align-self: flex-end;width: 50%;}#sk-container-id-1 div.sk-parallel-item:last-child::after {align-self: flex-start;width: 50%;}#sk-container-id-1 div.sk-parallel-item:only-child::after {width: 0;}#sk-container-id-1 div.sk-dashed-wrapped {border: 1px dashed gray;margin: 0 0.4em 0.5em 0.4em;box-sizing: border-box;padding-bottom: 0.4em;background-color: white;}#sk-container-id-1 div.sk-label label {font-family: monospace;font-weight: bold;display: inline-block;line-height: 1.2em;}#sk-container-id-1 div.sk-label-container {text-align: center;}#sk-container-id-1 div.sk-container {/* jupyter's `normalize.less` sets `[hidden] { display: none; }` but bootstrap.min.css set `[hidden] { display: none !important; }` so we also need the `!important` here to be able to override the default hidden behavior on the sphinx rendered scikit-learn.org. See: https://github.com/scikit-learn/scikit-learn/issues/21755 */display: inline-block !important;position: relative;}#sk-container-id-1 div.sk-text-repr-fallback {display: none;}</style><div id=\"sk-container-id-1\" class=\"sk-top-container\"><div class=\"sk-text-repr-fallback\"><pre>KNeighborsRegressor(n_neighbors=4, weights=&#x27;distance&#x27;)</pre><b>In a Jupyter environment, please rerun this cell to show the HTML representation or trust the notebook. <br />On GitHub, the HTML representation is unable to render, please try loading this page with nbviewer.org.</b></div><div class=\"sk-container\" hidden><div class=\"sk-item\"><div class=\"sk-estimator sk-toggleable\"><input class=\"sk-toggleable__control sk-hidden--visually\" id=\"sk-estimator-id-1\" type=\"checkbox\" checked><label for=\"sk-estimator-id-1\" class=\"sk-toggleable__label sk-toggleable__label-arrow\">KNeighborsRegressor</label><div class=\"sk-toggleable__content\"><pre>KNeighborsRegressor(n_neighbors=4, weights=&#x27;distance&#x27;)</pre></div></div></div></div></div>"
      ],
      "text/plain": [
       "KNeighborsRegressor(n_neighbors=4, weights='distance')"
      ]
     },
     "execution_count": 53,
     "metadata": {},
     "output_type": "execute_result"
    }
   ],
   "source": [
    "knn_regressor = KNeighborsRegressor(n_neighbors=4, weights='distance')\n",
    "knn_regressor.fit(X_train_step_2, y_train_step_2)"
   ]
  },
  {
   "cell_type": "markdown",
   "id": "f7d03f36",
   "metadata": {},
   "source": [
    "### 7.4. Making predictions and evaluating the model"
   ]
  },
  {
   "cell_type": "code",
   "execution_count": 54,
   "id": "c99876f3",
   "metadata": {},
   "outputs": [
    {
     "data": {
      "text/plain": [
       "array([[44.43489467, 26.04790535],\n",
       "       [44.4349375 , 26.04792616],\n",
       "       [44.43493715, 26.04794137],\n",
       "       [44.4349375 , 26.04791794],\n",
       "       [44.43493048, 26.04790377],\n",
       "       [44.43487877, 26.04790377],\n",
       "       [44.4348812 , 26.04791746],\n",
       "       [44.43489652, 26.04794156],\n",
       "       [44.43487455, 26.04792498],\n",
       "       [44.4349375 , 26.04790553],\n",
       "       [44.43491061, 26.04794156],\n",
       "       [44.43488823, 26.04790792],\n",
       "       [44.43487455, 26.04790938],\n",
       "       [44.43493591, 26.04794118],\n",
       "       [44.4349375 , 26.04793183],\n",
       "       [44.43488282, 26.04794156],\n",
       "       [44.43492272, 26.04790377],\n",
       "       [44.4349375 , 26.04790908],\n",
       "       [44.4349375 , 26.04790908],\n",
       "       [44.43490693, 26.04790377],\n",
       "       [44.43492164, 26.04790377],\n",
       "       [44.43489949, 26.047912  ],\n",
       "       [44.4349375 , 26.04789719],\n",
       "       [44.43489293, 26.04790377],\n",
       "       [44.43492979, 26.04790377],\n",
       "       [44.4349375 , 26.04789748],\n",
       "       [44.4348934 , 26.04793208],\n",
       "       [44.43490054, 26.04790377],\n",
       "       [44.43490546, 26.04790377]])"
      ]
     },
     "execution_count": 54,
     "metadata": {},
     "output_type": "execute_result"
    }
   ],
   "source": [
    "y_pred_step_2 = knn_regressor.predict(X_test_step_2)\n",
    "y_pred_step_2"
   ]
  },
  {
   "cell_type": "code",
   "execution_count": 55,
   "id": "a09e8faf",
   "metadata": {},
   "outputs": [
    {
     "data": {
      "text/plain": [
       "array([[44.43489853, 26.04790377],\n",
       "       [44.4349375 , 26.0479277 ],\n",
       "       [44.4349375 , 26.04794143],\n",
       "       [44.4349375 , 26.04793526],\n",
       "       [44.43493001, 26.04790377],\n",
       "       [44.43487854, 26.04790377],\n",
       "       [44.43488264, 26.04790377],\n",
       "       [44.43489928, 26.04794156],\n",
       "       [44.43487455, 26.04792267],\n",
       "       [44.4349375 , 26.04789676],\n",
       "       [44.43491063, 26.04794156],\n",
       "       [44.43488984, 26.04790377],\n",
       "       [44.43487455, 26.04791457],\n",
       "       [44.434933  , 26.04794156],\n",
       "       [44.4349375 , 26.04791987],\n",
       "       [44.43490153, 26.04794156],\n",
       "       [44.43492401, 26.04790377],\n",
       "       [44.4349375 , 26.04789748],\n",
       "       [44.4349375 , 26.04791322],\n",
       "       [44.43491252, 26.04790377],\n",
       "       [44.43492401, 26.04790377],\n",
       "       [44.43490153, 26.04790377],\n",
       "       [44.4349375 , 26.04789534],\n",
       "       [44.43489253, 26.04790377],\n",
       "       [44.43493046, 26.04790377],\n",
       "       [44.4349375 , 26.04791322],\n",
       "       [44.43489953, 26.04794156],\n",
       "       [44.4349049 , 26.04790377],\n",
       "       [44.43491052, 26.04790377]])"
      ]
     },
     "execution_count": 55,
     "metadata": {},
     "output_type": "execute_result"
    }
   ],
   "source": [
    "y_test_step_2"
   ]
  },
  {
   "cell_type": "code",
   "execution_count": 56,
   "id": "596e95d2",
   "metadata": {},
   "outputs": [
    {
     "data": {
      "text/plain": [
       "((29, 2), (29, 2))"
      ]
     },
     "execution_count": 56,
     "metadata": {},
     "output_type": "execute_result"
    }
   ],
   "source": [
    "y_pred_step_2.shape, y_test_step_2.shape"
   ]
  },
  {
   "cell_type": "code",
   "execution_count": 57,
   "id": "ab72bc69",
   "metadata": {},
   "outputs": [
    {
     "name": "stdout",
     "output_type": "stream",
     "text": [
      "3.1615486191472946e-11\n"
     ]
    }
   ],
   "source": [
    "print(mean_squared_error(y_test_step_2, y_pred_step_2))"
   ]
  },
  {
   "cell_type": "code",
   "execution_count": 58,
   "id": "38f37d4a",
   "metadata": {},
   "outputs": [
    {
     "name": "stdout",
     "output_type": "stream",
     "text": [
      "[1.76381344e-11 4.55928380e-11]\n"
     ]
    }
   ],
   "source": [
    "print(mean_squared_error(y_test_step_2, y_pred_step_2, multioutput='raw_values'))"
   ]
  },
  {
   "cell_type": "code",
   "execution_count": 59,
   "id": "8458c13c",
   "metadata": {},
   "outputs": [
    {
     "data": {
      "text/plain": [
       "0    0.000006\n",
       "dtype: float64"
      ]
     },
     "execution_count": 59,
     "metadata": {},
     "output_type": "execute_result"
    }
   ],
   "source": [
    "y_pred_step_2 = pd.DataFrame(y_pred_step_2, columns=['lat1', 'long1'])\n",
    "y_test_step_2 = pd.DataFrame(y_test_step_2, columns=['lat2', 'long2'])\n",
    "\n",
    "# alculating the Euclidian distance between points\n",
    "distance_df = pd.DataFrame((y_test_step_2['lat2']-y_pred_step_2['lat1'])**2 + \n",
    "                           (y_test_step_2['long2']-y_pred_step_2['long1'])**2)**(1/2)\n",
    "sum_dist = distance_df.sum()\n",
    "mean_error = sum_dist/len(distance_df)\n",
    "mean_error"
   ]
  },
  {
   "cell_type": "code",
   "execution_count": 60,
   "id": "bb756f69",
   "metadata": {},
   "outputs": [],
   "source": [
    "from math import radians, cos, sin, asin, acos, sqrt, pi\n",
    "import geopy.distance\n",
    "\n",
    "def calculate_spherical_distance(row):\n",
    "    \" Calculates the distance in km with the haversine method, which assumes the earth is sphere\"\n",
    "    lat1 = row['lat1']\n",
    "    lon1 = row['long1']\n",
    "    lat2 = row['lat2']\n",
    "    lon2 = row['long2']\n",
    "    r=6371\n",
    "    # Convert degrees to radians\n",
    "    coordinates = lat1, lon1, lat2, lon2\n",
    "    phi1, lambda1, phi2, lambda2 = [\n",
    "        radians(c) for c in coordinates\n",
    "    ]\n",
    "    \n",
    "    # Apply the haversine formula\n",
    "    d = r*acos(cos(phi2-phi1) - cos(phi1) * cos(phi2) *\n",
    "              (1-cos(lambda2-lambda1)))\n",
    "    return d\n",
    "\n",
    "def calculate_vincenty_distance(row):\n",
    "    coords_1 = (row['lat1'], row['long1'])\n",
    "    coords_2 = (row['lat2'], row['long2'])\n",
    "    \n",
    "    return geopy.distance.geodesic(coords_1, coords_2).km"
   ]
  },
  {
   "cell_type": "code",
   "execution_count": 61,
   "id": "52562406",
   "metadata": {},
   "outputs": [
    {
     "name": "stdout",
     "output_type": "stream",
     "text": [
      "Mean Squared Error for Haversine is: 0.5059549373181812 m^2\n",
      "Root Mean Squared error for Haversine is: 0.7113050943991482 m\n",
      "Mean Absoulte Deviation for Haversine is: 0.5148702780786004 m\n",
      "Standard Deviation Error for Haversine is: 0.4956371930857948 m\n",
      "\n",
      "Mean Squared Error for Vincenty is: 0.5068064695674335 m^2\n",
      "Root Mean Squared Error for Vincenty is: 0.7119034130887655 m\n",
      "Mean Absoulte Deviation for Vincenty is: 0.5192505626213989 m\n",
      "Standard Deviation Error for Vincenty is: 0.4956371930857948 m\n"
     ]
    },
    {
     "data": {
      "text/html": [
       "<div>\n",
       "<style scoped>\n",
       "    .dataframe tbody tr th:only-of-type {\n",
       "        vertical-align: middle;\n",
       "    }\n",
       "\n",
       "    .dataframe tbody tr th {\n",
       "        vertical-align: top;\n",
       "    }\n",
       "\n",
       "    .dataframe thead th {\n",
       "        text-align: right;\n",
       "    }\n",
       "</style>\n",
       "<table border=\"1\" class=\"dataframe\">\n",
       "  <thead>\n",
       "    <tr style=\"text-align: right;\">\n",
       "      <th></th>\n",
       "      <th>m_difference_vincenty</th>\n",
       "      <th>m_difference_haversine</th>\n",
       "    </tr>\n",
       "  </thead>\n",
       "  <tbody>\n",
       "    <tr>\n",
       "      <th>0</th>\n",
       "      <td>0.446324</td>\n",
       "      <td>0.445286</td>\n",
       "    </tr>\n",
       "    <tr>\n",
       "      <th>1</th>\n",
       "      <td>0.122974</td>\n",
       "      <td>0.134259</td>\n",
       "    </tr>\n",
       "    <tr>\n",
       "      <th>2</th>\n",
       "      <td>0.038873</td>\n",
       "      <td>0.000000</td>\n",
       "    </tr>\n",
       "    <tr>\n",
       "      <th>3</th>\n",
       "      <td>1.378804</td>\n",
       "      <td>1.375743</td>\n",
       "    </tr>\n",
       "    <tr>\n",
       "      <th>4</th>\n",
       "      <td>0.053061</td>\n",
       "      <td>0.000000</td>\n",
       "    </tr>\n",
       "    <tr>\n",
       "      <th>5</th>\n",
       "      <td>0.025215</td>\n",
       "      <td>0.000000</td>\n",
       "    </tr>\n",
       "    <tr>\n",
       "      <th>6</th>\n",
       "      <td>1.100996</td>\n",
       "      <td>1.098956</td>\n",
       "    </tr>\n",
       "    <tr>\n",
       "      <th>7</th>\n",
       "      <td>0.306897</td>\n",
       "      <td>0.300212</td>\n",
       "    </tr>\n",
       "    <tr>\n",
       "      <th>8</th>\n",
       "      <td>0.184096</td>\n",
       "      <td>0.189871</td>\n",
       "    </tr>\n",
       "    <tr>\n",
       "      <th>9</th>\n",
       "      <td>0.698900</td>\n",
       "      <td>0.697629</td>\n",
       "    </tr>\n",
       "    <tr>\n",
       "      <th>10</th>\n",
       "      <td>0.002862</td>\n",
       "      <td>0.000000</td>\n",
       "    </tr>\n",
       "    <tr>\n",
       "      <th>11</th>\n",
       "      <td>0.375060</td>\n",
       "      <td>0.379741</td>\n",
       "    </tr>\n",
       "    <tr>\n",
       "      <th>12</th>\n",
       "      <td>0.413412</td>\n",
       "      <td>0.413813</td>\n",
       "    </tr>\n",
       "    <tr>\n",
       "      <th>13</th>\n",
       "      <td>0.323844</td>\n",
       "      <td>0.328866</td>\n",
       "    </tr>\n",
       "    <tr>\n",
       "      <th>14</th>\n",
       "      <td>0.952122</td>\n",
       "      <td>0.949353</td>\n",
       "    </tr>\n",
       "    <tr>\n",
       "      <th>15</th>\n",
       "      <td>2.078961</td>\n",
       "      <td>2.079928</td>\n",
       "    </tr>\n",
       "    <tr>\n",
       "      <th>16</th>\n",
       "      <td>0.143402</td>\n",
       "      <td>0.134259</td>\n",
       "    </tr>\n",
       "    <tr>\n",
       "      <th>17</th>\n",
       "      <td>0.924214</td>\n",
       "      <td>0.920432</td>\n",
       "    </tr>\n",
       "    <tr>\n",
       "      <th>18</th>\n",
       "      <td>0.329244</td>\n",
       "      <td>0.328866</td>\n",
       "    </tr>\n",
       "    <tr>\n",
       "      <th>19</th>\n",
       "      <td>0.621094</td>\n",
       "      <td>0.622532</td>\n",
       "    </tr>\n",
       "    <tr>\n",
       "      <th>20</th>\n",
       "      <td>0.263221</td>\n",
       "      <td>0.268518</td>\n",
       "    </tr>\n",
       "    <tr>\n",
       "      <th>21</th>\n",
       "      <td>0.692787</td>\n",
       "      <td>0.691139</td>\n",
       "    </tr>\n",
       "    <tr>\n",
       "      <th>22</th>\n",
       "      <td>0.147020</td>\n",
       "      <td>0.164433</td>\n",
       "    </tr>\n",
       "    <tr>\n",
       "      <th>23</th>\n",
       "      <td>0.043694</td>\n",
       "      <td>0.000000</td>\n",
       "    </tr>\n",
       "    <tr>\n",
       "      <th>24</th>\n",
       "      <td>0.074106</td>\n",
       "      <td>0.094935</td>\n",
       "    </tr>\n",
       "    <tr>\n",
       "      <th>25</th>\n",
       "      <td>1.253458</td>\n",
       "      <td>1.248679</td>\n",
       "    </tr>\n",
       "    <tr>\n",
       "      <th>26</th>\n",
       "      <td>1.016846</td>\n",
       "      <td>1.018068</td>\n",
       "    </tr>\n",
       "    <tr>\n",
       "      <th>27</th>\n",
       "      <td>0.484450</td>\n",
       "      <td>0.484077</td>\n",
       "    </tr>\n",
       "    <tr>\n",
       "      <th>28</th>\n",
       "      <td>0.562326</td>\n",
       "      <td>0.561645</td>\n",
       "    </tr>\n",
       "  </tbody>\n",
       "</table>\n",
       "</div>"
      ],
      "text/plain": [
       "    m_difference_vincenty  m_difference_haversine\n",
       "0                0.446324                0.445286\n",
       "1                0.122974                0.134259\n",
       "2                0.038873                0.000000\n",
       "3                1.378804                1.375743\n",
       "4                0.053061                0.000000\n",
       "5                0.025215                0.000000\n",
       "6                1.100996                1.098956\n",
       "7                0.306897                0.300212\n",
       "8                0.184096                0.189871\n",
       "9                0.698900                0.697629\n",
       "10               0.002862                0.000000\n",
       "11               0.375060                0.379741\n",
       "12               0.413412                0.413813\n",
       "13               0.323844                0.328866\n",
       "14               0.952122                0.949353\n",
       "15               2.078961                2.079928\n",
       "16               0.143402                0.134259\n",
       "17               0.924214                0.920432\n",
       "18               0.329244                0.328866\n",
       "19               0.621094                0.622532\n",
       "20               0.263221                0.268518\n",
       "21               0.692787                0.691139\n",
       "22               0.147020                0.164433\n",
       "23               0.043694                0.000000\n",
       "24               0.074106                0.094935\n",
       "25               1.253458                1.248679\n",
       "26               1.016846                1.018068\n",
       "27               0.484450                0.484077\n",
       "28               0.562326                0.561645"
      ]
     },
     "execution_count": 61,
     "metadata": {},
     "output_type": "execute_result"
    }
   ],
   "source": [
    "df_final = pd.DataFrame()\n",
    "df_final = pd.concat([y_pred_step_2, y_test_step_2], axis=1)\n",
    "\n",
    "df_final['km_difference_haversine'] = df_final.apply(calculate_spherical_distance, axis=1)\n",
    "df_final['m_difference_haversine'] = df_final['km_difference_haversine']*1000\n",
    "\n",
    "df_final['km_difference_vincenty'] = df_final.apply(calculate_vincenty_distance, axis=1)\n",
    "df_final['m_difference_vincenty'] = df_final['km_difference_vincenty']*1000\n",
    "\n",
    "# Transform all the differences in positive values for Standard Deviation\n",
    "df_final['m_difference_haversine_module']=np.sqrt(df_final['m_difference_haversine']*df_final['m_difference_haversine'])\n",
    "df_final['m_difference_vincenty_module']=np.sqrt(df_final['m_difference_vincenty']*df_final['m_difference_vincenty'])\n",
    "\n",
    "# Mean Squared Error Haversine\n",
    "mse_h = (df_final['m_difference_haversine']*df_final['m_difference_haversine']).sum()/len(df_final)\n",
    "print(f'Mean Squared Error for Haversine is: {mse_h} m^2')\n",
    "# Root Mean Squared Error Haversine\n",
    "rmse_h = np.sqrt(mse_h)\n",
    "print(f'Root Mean Squared error for Haversine is: {rmse_h} m')\n",
    "# Mean Absoulte Deviation (MAD)\n",
    "mad_h = df_final['m_difference_haversine_module'].sum()/len(df_final)\n",
    "print(f'Mean Absoulte Deviation for Haversine is: {mad_h} m')\n",
    "# Standard Deviation for Haversine\n",
    "haversine_std = df_final['m_difference_vincenty_module'].std()\n",
    "print(f'Standard Deviation Error for Haversine is: {haversine_std} m')\n",
    "print('')\n",
    "\n",
    "# Mean Squared Error Vincenty\n",
    "mse_v = (df_final['m_difference_vincenty']*df_final['m_difference_vincenty']).sum()/len(df_final)\n",
    "print(f'Mean Squared Error for Vincenty is: {mse_v} m^2')\n",
    "# Root Mean Squared Error Haversine\n",
    "rmse_v = np.sqrt(mse_v)\n",
    "print(f'Root Mean Squared Error for Vincenty is: {rmse_v} m')\n",
    "# Mean Absoulte Deviation (MAD)\n",
    "mad_v = df_final['m_difference_vincenty_module'].sum()/len(df_final)\n",
    "print(f'Mean Absoulte Deviation for Vincenty is: {mad_v} m')\n",
    "# Standard Deviation for Vincenty\n",
    "varcity_std = df_final['m_difference_vincenty_module'].std()\n",
    "print(f'Standard Deviation Error for Vincenty is: {varcity_std} m')\n",
    "\n",
    "df_final.loc[:, ['m_difference_vincenty', 'm_difference_haversine']]"
   ]
  },
  {
   "cell_type": "code",
   "execution_count": 89,
   "id": "cc4084bf",
   "metadata": {},
   "outputs": [
    {
     "data": {
      "text/plain": [
       "Text(0.5, 0, 'Difference (m)')"
      ]
     },
     "execution_count": 89,
     "metadata": {},
     "output_type": "execute_result"
    },
    {
     "data": {
      "image/png": "[encoded data removed]",
      "text/plain": [
       "<Figure size 720x720 with 1 Axes>"
      ]
     },
     "metadata": {
      "needs_background": "light"
     },
     "output_type": "display_data"
    },
    {
     "data": {
      "image/png": "[encoded data removed]",
      "text/plain": [
       "<Figure size 720x720 with 1 Axes>"
      ]
     },
     "metadata": {
      "needs_background": "light"
     },
     "output_type": "display_data"
    }
   ],
   "source": [
    "# Data distribution / histograms\n",
    "font = {'size': 20}\n",
    "matplotlib.rc('font', **font)\n",
    "\n",
    "df_final['Vincenty difference distribution'] = df_final['m_difference_vincenty']\n",
    "df_final.hist(column=['Vincenty difference distribution'], figsize=(10, 10))\n",
    "plt.ylabel('Values count')\n",
    "plt.xlabel('Difference (m)')\n",
    "\n",
    "df_final['Haversine difference distribution'] = df_final['m_difference_haversine']\n",
    "df_final.hist(column=['Haversine difference distribution'], figsize=(10, 10))\n",
    "plt.ylabel('Values count')\n",
    "plt.xlabel('Difference (m)')"
   ]
  },
  {
   "cell_type": "code",
   "execution_count": 359,
   "id": "f59c2fab",
   "metadata": {
    "scrolled": false
   },
   "outputs": [
    {
     "data": {
      "application/vnd.jupyter.widget-view+json": {
       "model_id": "1f3bed659b684d198f31bfbbdb1c3f46",
       "version_major": 2,
       "version_minor": 0
      },
      "text/plain": [
       "interactive(children=(IntSlider(value=28, description='row', max=84, min=-28), Output()), _dom_classes=('widge…"
      ]
     },
     "metadata": {},
     "output_type": "display_data"
    },
    {
     "data": {
      "text/plain": [
       "<function __main__.plot_with_steps(row)>"
      ]
     },
     "metadata": {},
     "output_type": "display_data"
    },
    {
     "data": {
      "application/vnd.jupyter.widget-view+json": {
       "model_id": "04c1485a8c2e4d82a300d8df0a450485",
       "version_major": 2,
       "version_minor": 0
      },
      "text/plain": [
       "Output()"
      ]
     },
     "metadata": {},
     "output_type": "display_data"
    }
   ],
   "source": [
    "font = {'family' : 'normal',\n",
    "        'size'   : 20}\n",
    "matplotlib.rc('font', **font)\n",
    "\n",
    "# marker = 'o'\n",
    "# colors = ('red', 'green')\n",
    "# cmap = ListedColormap(colors[:2])\n",
    "\n",
    "\n",
    "# fig = plt.figure(figsize=(10,10))\n",
    "\n",
    "# plt.scatter(x=df_final[f'long1'], \n",
    "#             y=df_final[f'lat1'],\n",
    "#             alpha=0.6, \n",
    "#             c=[cmap(0)],\n",
    "#             marker=marker, \n",
    "#             label='Predicted')\n",
    "\n",
    "# plt.scatter(x=df_final[f'long2'], \n",
    "#             y=df_final[f'lat2'],\n",
    "#             alpha=0.6, \n",
    "#             c=[cmap(1)],\n",
    "#             marker=marker, \n",
    "#             label='Real')\n",
    "\n",
    "\n",
    "# plt.xlabel('Longitude')\n",
    "# plt.ylabel('Latitude')\n",
    "# plt.legend(loc='upper right')\n",
    "# plt.tight_layout()\n",
    "\n",
    "\n",
    "\n",
    "import time\n",
    "import ipywidgets as widgets\n",
    "\n",
    "# fig = plt.figure(figsize=(10,10))\n",
    "\n",
    "def plot_with_steps(row):\n",
    "    fig, ax = plt.subplots(figsize=(10,10))\n",
    "    plt.xlabel('Longitude')\n",
    "    plt.ylabel('Latitude')\n",
    "    plt.legend(loc='upper right')\n",
    "#     plt.ylim(-0.2, 1.2)\n",
    "#     plt.xlim(26.0477, 26.0479)\n",
    "    plt.scatter(x=df_final.iloc[:row, 1], \n",
    "               y=df_final.iloc[:row, 0],\n",
    "               color='black', \n",
    "               label='Real')\n",
    "    plt.scatter(x=df_final.iloc[:row, 3], \n",
    "               y=df_final.iloc[:row, 2],\n",
    "               color='red', \n",
    "               label='Predicted')\n",
    "\n",
    "for i in range(0,len(df_final)):\n",
    "    button = widgets.interact(plot_with_steps, row=i)\n",
    "    output = widgets.Output()\n",
    "\n",
    "    display(button, output)\n",
    "    time.sleep(0.1)\n",
    "    clear_output(wait=True)\n"
   ]
  },
  {
   "cell_type": "code",
   "execution_count": null,
   "id": "6fd2af08",
   "metadata": {},
   "outputs": [],
   "source": []
  }
 ],
 "metadata": {
  "kernelspec": {
   "display_name": "Python 3 (ipykernel)",
   "language": "python",
   "name": "python3"
  },
  "language_info": {
   "codemirror_mode": {
    "name": "ipython",
    "version": 3
   },
   "file_extension": ".py",
   "mimetype": "text/x-python",
   "name": "python",
   "nbconvert_exporter": "python",
   "pygments_lexer": "ipython3",
   "version": "3.9.2"
  }
 },
 "nbformat": 4,
 "nbformat_minor": 5
}
