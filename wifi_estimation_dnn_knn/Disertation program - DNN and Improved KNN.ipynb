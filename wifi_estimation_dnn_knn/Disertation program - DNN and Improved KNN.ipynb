{
 "cells": [
  {
   "cell_type": "markdown",
   "id": "8bdb09ba",
   "metadata": {},
   "source": [
    "# Indoor localization using deep learning with DNN and KNN"
   ]
  },
  {
   "cell_type": "markdown",
   "id": "9015ed1d",
   "metadata": {},
   "source": [
    "## 1. Importing the packages"
   ]
  },
  {
   "cell_type": "code",
   "execution_count": 2,
   "id": "8befe33e",
   "metadata": {},
   "outputs": [
    {
     "name": "stderr",
     "output_type": "stream",
     "text": [
      "c:\\python39\\lib\\site-packages\\tqdm\\auto.py:22: TqdmWarning: IProgress not found. Please update jupyter and ipywidgets. See https://ipywidgets.readthedocs.io/en/stable/user_install.html\n",
      "  from .autonotebook import tqdm as notebook_tqdm\n"
     ]
    }
   ],
   "source": [
    "import pandas as pd\n",
    "import numpy as np\n",
    "import os\n",
    "import xml.etree.ElementTree as ET\n",
    "import tensorflow as tf\n",
    "import torch\n",
    "from sklearn.preprocessing import scale, LabelEncoder, StandardScaler\n",
    "from sklearn.model_selection import train_test_split\n",
    "from sklearn.metrics import confusion_matrix, accuracy_score, mean_squared_error, classification_report\n",
    "from sklearn.neighbors import KNeighborsRegressor\n",
    "import geopy.distance\n",
    "import seaborn as sns\n",
    "import matplotlib\n",
    "import matplotlib.pyplot as plt\n",
    "from matplotlib.colors import ListedColormap\n",
    "%matplotlib inline"
   ]
  },
  {
   "cell_type": "markdown",
   "id": "4aa748e9",
   "metadata": {},
   "source": [
    "## 2. Importing the data"
   ]
  },
  {
   "cell_type": "markdown",
   "id": "7c10c5dc",
   "metadata": {},
   "source": [
    "### 2.1. UJIIndoorLoc dataset\n",
    "* Dataset: UJIIndoorLoc (https://archive.ics.uci.edu/ml/datasets/ujiindoorloc)\n",
    "* 529 attributes and 19937 rows"
   ]
  },
  {
   "cell_type": "code",
   "execution_count": 3,
   "id": "fea39f1a",
   "metadata": {},
   "outputs": [
    {
     "data": {
      "text/html": [
       "<div>\n",
       "<style scoped>\n",
       "    .dataframe tbody tr th:only-of-type {\n",
       "        vertical-align: middle;\n",
       "    }\n",
       "\n",
       "    .dataframe tbody tr th {\n",
       "        vertical-align: top;\n",
       "    }\n",
       "\n",
       "    .dataframe thead th {\n",
       "        text-align: right;\n",
       "    }\n",
       "</style>\n",
       "<table border=\"1\" class=\"dataframe\">\n",
       "  <thead>\n",
       "    <tr style=\"text-align: right;\">\n",
       "      <th></th>\n",
       "      <th>WAP001</th>\n",
       "      <th>WAP002</th>\n",
       "      <th>WAP003</th>\n",
       "      <th>WAP004</th>\n",
       "      <th>WAP005</th>\n",
       "      <th>WAP006</th>\n",
       "      <th>WAP007</th>\n",
       "      <th>WAP008</th>\n",
       "      <th>WAP009</th>\n",
       "      <th>WAP010</th>\n",
       "      <th>...</th>\n",
       "      <th>WAP520</th>\n",
       "      <th>LONGITUDE</th>\n",
       "      <th>LATITUDE</th>\n",
       "      <th>FLOOR</th>\n",
       "      <th>BUILDINGID</th>\n",
       "      <th>SPACEID</th>\n",
       "      <th>RELATIVEPOSITION</th>\n",
       "      <th>USERID</th>\n",
       "      <th>PHONEID</th>\n",
       "      <th>TIMESTAMP</th>\n",
       "    </tr>\n",
       "  </thead>\n",
       "  <tbody>\n",
       "    <tr>\n",
       "      <th>0</th>\n",
       "      <td>100</td>\n",
       "      <td>100</td>\n",
       "      <td>100</td>\n",
       "      <td>100</td>\n",
       "      <td>100</td>\n",
       "      <td>100</td>\n",
       "      <td>100</td>\n",
       "      <td>100</td>\n",
       "      <td>100</td>\n",
       "      <td>100</td>\n",
       "      <td>...</td>\n",
       "      <td>100</td>\n",
       "      <td>-7541.2643</td>\n",
       "      <td>4.864921e+06</td>\n",
       "      <td>2</td>\n",
       "      <td>1</td>\n",
       "      <td>106</td>\n",
       "      <td>2</td>\n",
       "      <td>2</td>\n",
       "      <td>23</td>\n",
       "      <td>1371713733</td>\n",
       "    </tr>\n",
       "    <tr>\n",
       "      <th>1</th>\n",
       "      <td>100</td>\n",
       "      <td>100</td>\n",
       "      <td>100</td>\n",
       "      <td>100</td>\n",
       "      <td>100</td>\n",
       "      <td>100</td>\n",
       "      <td>100</td>\n",
       "      <td>100</td>\n",
       "      <td>100</td>\n",
       "      <td>100</td>\n",
       "      <td>...</td>\n",
       "      <td>100</td>\n",
       "      <td>-7536.6212</td>\n",
       "      <td>4.864934e+06</td>\n",
       "      <td>2</td>\n",
       "      <td>1</td>\n",
       "      <td>106</td>\n",
       "      <td>2</td>\n",
       "      <td>2</td>\n",
       "      <td>23</td>\n",
       "      <td>1371713691</td>\n",
       "    </tr>\n",
       "    <tr>\n",
       "      <th>2</th>\n",
       "      <td>100</td>\n",
       "      <td>100</td>\n",
       "      <td>100</td>\n",
       "      <td>100</td>\n",
       "      <td>100</td>\n",
       "      <td>100</td>\n",
       "      <td>100</td>\n",
       "      <td>-97</td>\n",
       "      <td>100</td>\n",
       "      <td>100</td>\n",
       "      <td>...</td>\n",
       "      <td>100</td>\n",
       "      <td>-7519.1524</td>\n",
       "      <td>4.864950e+06</td>\n",
       "      <td>2</td>\n",
       "      <td>1</td>\n",
       "      <td>103</td>\n",
       "      <td>2</td>\n",
       "      <td>2</td>\n",
       "      <td>23</td>\n",
       "      <td>1371714095</td>\n",
       "    </tr>\n",
       "    <tr>\n",
       "      <th>3</th>\n",
       "      <td>100</td>\n",
       "      <td>100</td>\n",
       "      <td>100</td>\n",
       "      <td>100</td>\n",
       "      <td>100</td>\n",
       "      <td>100</td>\n",
       "      <td>100</td>\n",
       "      <td>100</td>\n",
       "      <td>100</td>\n",
       "      <td>100</td>\n",
       "      <td>...</td>\n",
       "      <td>100</td>\n",
       "      <td>-7524.5704</td>\n",
       "      <td>4.864934e+06</td>\n",
       "      <td>2</td>\n",
       "      <td>1</td>\n",
       "      <td>102</td>\n",
       "      <td>2</td>\n",
       "      <td>2</td>\n",
       "      <td>23</td>\n",
       "      <td>1371713807</td>\n",
       "    </tr>\n",
       "    <tr>\n",
       "      <th>4</th>\n",
       "      <td>100</td>\n",
       "      <td>100</td>\n",
       "      <td>100</td>\n",
       "      <td>100</td>\n",
       "      <td>100</td>\n",
       "      <td>100</td>\n",
       "      <td>100</td>\n",
       "      <td>100</td>\n",
       "      <td>100</td>\n",
       "      <td>100</td>\n",
       "      <td>...</td>\n",
       "      <td>100</td>\n",
       "      <td>-7632.1436</td>\n",
       "      <td>4.864982e+06</td>\n",
       "      <td>0</td>\n",
       "      <td>0</td>\n",
       "      <td>122</td>\n",
       "      <td>2</td>\n",
       "      <td>11</td>\n",
       "      <td>13</td>\n",
       "      <td>1369909710</td>\n",
       "    </tr>\n",
       "  </tbody>\n",
       "</table>\n",
       "<p>5 rows × 529 columns</p>\n",
       "</div>"
      ],
      "text/plain": [
       "   WAP001  WAP002  WAP003  WAP004  WAP005  WAP006  WAP007  WAP008  WAP009  \\\n",
       "0     100     100     100     100     100     100     100     100     100   \n",
       "1     100     100     100     100     100     100     100     100     100   \n",
       "2     100     100     100     100     100     100     100     -97     100   \n",
       "3     100     100     100     100     100     100     100     100     100   \n",
       "4     100     100     100     100     100     100     100     100     100   \n",
       "\n",
       "   WAP010  ...  WAP520  LONGITUDE      LATITUDE  FLOOR  BUILDINGID  SPACEID  \\\n",
       "0     100  ...     100 -7541.2643  4.864921e+06      2           1      106   \n",
       "1     100  ...     100 -7536.6212  4.864934e+06      2           1      106   \n",
       "2     100  ...     100 -7519.1524  4.864950e+06      2           1      103   \n",
       "3     100  ...     100 -7524.5704  4.864934e+06      2           1      102   \n",
       "4     100  ...     100 -7632.1436  4.864982e+06      0           0      122   \n",
       "\n",
       "   RELATIVEPOSITION  USERID  PHONEID   TIMESTAMP  \n",
       "0                 2       2       23  1371713733  \n",
       "1                 2       2       23  1371713691  \n",
       "2                 2       2       23  1371714095  \n",
       "3                 2       2       23  1371713807  \n",
       "4                 2      11       13  1369909710  \n",
       "\n",
       "[5 rows x 529 columns]"
      ]
     },
     "execution_count": 3,
     "metadata": {},
     "output_type": "execute_result"
    }
   ],
   "source": [
    "# UJIIndoorloc dataset\n",
    "dataset_ujloc = pd.read_csv(\"../data/UJIndoorLoc/trainingData.csv\")\n",
    "validation_dataset_ujloc = pd.read_csv(\"../data/UJIndoorLoc/validationData.csv\")\n",
    "dataset_ujloc.head(5)"
   ]
  },
  {
   "cell_type": "code",
   "execution_count": 4,
   "id": "cba90cca",
   "metadata": {},
   "outputs": [],
   "source": [
    "# print(dataset.shape)\n",
    "# print(dataset[dataset['BUILDINGID'] == 0].shape)\n",
    "# print(dataset[dataset['BUILDINGID'] == 1].shape)\n",
    "# print(dataset[dataset['BUILDINGID'] == 2].shape)\n",
    "dataset_ujloc = dataset_ujloc[dataset_ujloc['BUILDINGID'] == 2]\n",
    "validation_dataset_ujloc = validation_dataset_ujloc[validation_dataset_ujloc['BUILDINGID'] == 2]"
   ]
  },
  {
   "cell_type": "markdown",
   "id": "0978b7c9",
   "metadata": {},
   "source": [
    "### 2.2. PrecisLoc dataset"
   ]
  },
  {
   "cell_type": "code",
   "execution_count": 5,
   "id": "4cc75e9c",
   "metadata": {},
   "outputs": [
    {
     "data": {
      "text/plain": [
       "'../../data_PrecisLoc/FINAL_PRECISLOC_DATASET\\\\Scenario_1\\\\11-05-07'"
      ]
     },
     "execution_count": 5,
     "metadata": {},
     "output_type": "execute_result"
    }
   ],
   "source": [
    "# PrecisLoc dataset\n",
    "dataset_dir = \"../../data_PrecisLoc/FINAL_PRECISLOC_DATASET\"\n",
    "dataset_scen_1 = os.path.join(dataset_dir, \"Scenario_1\", \"11-05-07\")\n",
    "dataset_scen_1"
   ]
  },
  {
   "cell_type": "code",
   "execution_count": 6,
   "id": "d5647741",
   "metadata": {},
   "outputs": [
    {
     "name": "stdout",
     "output_type": "stream",
     "text": [
      "Sensor_readings_11-05-07.xml\n",
      "ground_truth_11-05-07.xml\n"
     ]
    }
   ],
   "source": [
    "for filename in os.listdir(dataset_scen_1):\n",
    "    if filename.startswith(\"Sensor\"):\n",
    "        sensor_readings = filename\n",
    "    if filename.startswith(\"ground\"):\n",
    "        ground_truth = filename\n",
    "\n",
    "print(sensor_readings)\n",
    "print(ground_truth)"
   ]
  },
  {
   "cell_type": "code",
   "execution_count": 7,
   "id": "3e578055",
   "metadata": {},
   "outputs": [
    {
     "data": {
      "text/plain": [
       "'../../data_PrecisLoc/FINAL_PRECISLOC_DATASET\\\\Scenario_1\\\\11-05-07\\\\Sensor_readings_11-05-07.xml'"
      ]
     },
     "execution_count": 7,
     "metadata": {},
     "output_type": "execute_result"
    }
   ],
   "source": [
    "sensor_read_scen_1 = os.path.join(dataset_scen_1, sensor_readings)\n",
    "ground_truth_scen_1 = os.path.join(dataset_scen_1, ground_truth)\n",
    "sensor_read_scen_1"
   ]
  },
  {
   "cell_type": "code",
   "execution_count": 8,
   "id": "e046580d",
   "metadata": {},
   "outputs": [
    {
     "data": {
      "text/plain": [
       "{'32:cd:a7:a0:6d:d8',\n",
       " '84:b2:61:40:75:f0',\n",
       " '84:b2:61:40:75:f1',\n",
       " '84:b2:61:40:75:f2',\n",
       " '84:b2:61:47:dd:40',\n",
       " '84:b2:61:47:dd:41',\n",
       " '84:b2:61:47:dd:42',\n",
       " '84:b2:61:47:dd:4d',\n",
       " '84:b2:61:47:dd:4e',\n",
       " '84:b2:61:47:dd:4f',\n",
       " '84:b2:61:47:e2:c0',\n",
       " '84:b2:61:47:e2:c1',\n",
       " '84:b2:61:47:e2:c2',\n",
       " '84:b2:61:47:e2:cd',\n",
       " '84:b2:61:47:e2:ce',\n",
       " '84:b2:61:56:8a:00',\n",
       " '84:b2:61:56:8a:01',\n",
       " '84:b2:61:56:8a:02',\n",
       " '84:b2:61:56:8a:0d',\n",
       " '84:b2:61:56:8a:0e',\n",
       " '84:b2:61:56:8a:0f',\n",
       " '84:b2:61:5e:44:20',\n",
       " '84:b2:61:5e:44:21',\n",
       " '84:b2:61:5e:44:22',\n",
       " '84:b2:61:5e:44:2d',\n",
       " '84:b2:61:5e:44:2e',\n",
       " '84:b2:61:5e:44:2f',\n",
       " '84:b2:61:6d:3d:20',\n",
       " '84:b2:61:6d:3d:21',\n",
       " '84:b2:61:6d:3d:22',\n",
       " '84:b2:61:6d:3d:2d',\n",
       " '84:b2:61:6d:3d:2e',\n",
       " '84:b2:61:6d:3d:2f',\n",
       " '84:b2:61:6d:52:a0',\n",
       " '84:b2:61:6d:52:a1',\n",
       " '84:b2:61:6d:52:a2',\n",
       " '84:b2:61:6d:52:af',\n",
       " '84:b2:61:6d:5d:70',\n",
       " '84:b2:61:6d:5d:71',\n",
       " '84:b2:61:6d:5d:72',\n",
       " 'c4:71:54:39:70:e4'}"
      ]
     },
     "execution_count": 8,
     "metadata": {},
     "output_type": "execute_result"
    }
   ],
   "source": [
    "# Getting the unique MAC addresses of APs\n",
    "tree = ET.parse(sensor_read_scen_1)\n",
    "\n",
    "ap_list = [] \n",
    "for r in tree.iter(tag='r'):\n",
    "    ap_list.append(r.attrib['b'])\n",
    "\n",
    "ap_set = set(ap_list)\n",
    "ap_set"
   ]
  },
  {
   "cell_type": "code",
   "execution_count": 9,
   "id": "53b31f0c",
   "metadata": {},
   "outputs": [
    {
     "data": {
      "text/plain": [
       "{'11:05:09:00': <_elementtree._element_iterator at 0x1b446b1ce00>,\n",
       " '11:05:10:00': <_elementtree._element_iterator at 0x1b446b1cdb0>,\n",
       " '11:05:11:00': <_elementtree._element_iterator at 0x1b446b1cd60>,\n",
       " '11:05:12:00': <_elementtree._element_iterator at 0x1b446b1cd10>,\n",
       " '11:05:13:00': <_elementtree._element_iterator at 0x1b446b1ccc0>,\n",
       " '11:05:14:00': <_elementtree._element_iterator at 0x1b446b1cc70>,\n",
       " '11:05:17:00': <_elementtree._element_iterator at 0x1b446b1cc20>,\n",
       " '11:05:20:00': <_elementtree._element_iterator at 0x1b446b1cbd0>,\n",
       " '11:05:21:00': <_elementtree._element_iterator at 0x1b446b1cb30>,\n",
       " '11:05:22:00': <_elementtree._element_iterator at 0x1b446b1cf90>,\n",
       " '11:05:23:00': <_elementtree._element_iterator at 0x1b446b1cae0>,\n",
       " '11:05:24:00': <_elementtree._element_iterator at 0x1b446b1ca90>,\n",
       " '11:05:25:00': <_elementtree._element_iterator at 0x1b446b1c9f0>,\n",
       " '11:05:26:00': <_elementtree._element_iterator at 0x1b446b1cb80>,\n",
       " '11:05:27:00': <_elementtree._element_iterator at 0x1b446b1c9a0>,\n",
       " '11:05:28:00': <_elementtree._element_iterator at 0x1b446b1c950>,\n",
       " '11:05:29:00': <_elementtree._element_iterator at 0x1b446b1c900>,\n",
       " '11:05:30:00': <_elementtree._element_iterator at 0x1b446b1c8b0>,\n",
       " '11:05:31:00': <_elementtree._element_iterator at 0x1b446b1c860>,\n",
       " '11:05:32:00': <_elementtree._element_iterator at 0x1b446b1c7c0>,\n",
       " '11:05:33:00': <_elementtree._element_iterator at 0x1b446b1ca40>,\n",
       " '11:05:34:00': <_elementtree._element_iterator at 0x1b446b1c770>,\n",
       " '11:05:35:00': <_elementtree._element_iterator at 0x1b446b1c6d0>,\n",
       " '11:05:36:00': <_elementtree._element_iterator at 0x1b446b1c810>,\n",
       " '11:05:37:01': <_elementtree._element_iterator at 0x1b446b1c680>,\n",
       " '11:05:38:00': <_elementtree._element_iterator at 0x1b446b1c630>,\n",
       " '11:05:39:00': <_elementtree._element_iterator at 0x1b446b1c590>,\n",
       " '11:05:40:00': <_elementtree._element_iterator at 0x1b446b1c720>,\n",
       " '11:05:41:00': <_elementtree._element_iterator at 0x1b446b1c540>,\n",
       " '11:05:42:00': <_elementtree._element_iterator at 0x1b446b1c4a0>,\n",
       " '11:05:43:00': <_elementtree._element_iterator at 0x1b446b1c5e0>,\n",
       " '11:05:44:00': <_elementtree._element_iterator at 0x1b446b1c400>,\n",
       " '11:05:48:01': <_elementtree._element_iterator at 0x1b446b1c4f0>,\n",
       " '11:05:49:00': <_elementtree._element_iterator at 0x1b446b1c3b0>,\n",
       " '11:05:51:00': <_elementtree._element_iterator at 0x1b446b1c360>,\n",
       " '11:05:52:00': <_elementtree._element_iterator at 0x1b446b1c310>,\n",
       " '11:05:53:00': <_elementtree._element_iterator at 0x1b446b1c2c0>,\n",
       " '11:05:54:00': <_elementtree._element_iterator at 0x1b446b1c220>,\n",
       " '11:05:55:00': <_elementtree._element_iterator at 0x1b446b1c450>,\n",
       " '11:05:56:00': <_elementtree._element_iterator at 0x1b446b1c130>,\n",
       " '11:05:57:00': <_elementtree._element_iterator at 0x1b446b19f90>,\n",
       " '11:05:58:00': <_elementtree._element_iterator at 0x1b446b1c270>,\n",
       " '11:05:59:00': <_elementtree._element_iterator at 0x1b446b19ef0>,\n",
       " '11:06:00:00': <_elementtree._element_iterator at 0x1b446b19e50>,\n",
       " '11:06:01:00': <_elementtree._element_iterator at 0x1b446b19d10>,\n",
       " '11:06:02:00': <_elementtree._element_iterator at 0x1b446b19db0>,\n",
       " '11:06:03:00': <_elementtree._element_iterator at 0x1b446b19c70>,\n",
       " '11:06:04:00': <_elementtree._element_iterator at 0x1b446b19b30>,\n",
       " '11:06:05:00': <_elementtree._element_iterator at 0x1b446b19bd0>,\n",
       " '11:06:06:00': <_elementtree._element_iterator at 0x1b446b19a90>,\n",
       " '11:06:07:00': <_elementtree._element_iterator at 0x1b446b199f0>,\n",
       " '11:06:08:00': <_elementtree._element_iterator at 0x1b446b19950>,\n",
       " '11:06:11:00': <_elementtree._element_iterator at 0x1b446b198b0>,\n",
       " '11:06:12:00': <_elementtree._element_iterator at 0x1b446b19810>,\n",
       " '11:06:13:00': <_elementtree._element_iterator at 0x1b446b196d0>,\n",
       " '11:06:14:00': <_elementtree._element_iterator at 0x1b446b19770>,\n",
       " '11:06:15:00': <_elementtree._element_iterator at 0x1b446b19630>,\n",
       " '11:06:16:00': <_elementtree._element_iterator at 0x1b446b194f0>,\n",
       " '11:06:17:00': <_elementtree._element_iterator at 0x1b446b19590>,\n",
       " '11:06:18:00': <_elementtree._element_iterator at 0x1b446b193b0>,\n",
       " '11:06:19:00': <_elementtree._element_iterator at 0x1b446b19310>,\n",
       " '11:06:20:00': <_elementtree._element_iterator at 0x1b446b19450>,\n",
       " '11:06:21:00': <_elementtree._element_iterator at 0x1b446b191d0>,\n",
       " '11:06:22:00': <_elementtree._element_iterator at 0x1b446b19270>,\n",
       " '11:06:23:00': <_elementtree._element_iterator at 0x1b446b19090>,\n",
       " '11:06:24:00': <_elementtree._element_iterator at 0x1b446b1c090>,\n",
       " '11:06:25:00': <_elementtree._element_iterator at 0x1b446a87f90>,\n",
       " '11:06:30:00': <_elementtree._element_iterator at 0x1b446a87ef0>,\n",
       " '11:06:31:00': <_elementtree._element_iterator at 0x1b446a87f40>,\n",
       " '11:06:32:00': <_elementtree._element_iterator at 0x1b446a87ea0>,\n",
       " '11:06:33:00': <_elementtree._element_iterator at 0x1b446a87e00>,\n",
       " '11:06:35:00': <_elementtree._element_iterator at 0x1b446a87d60>}"
      ]
     },
     "execution_count": 9,
     "metadata": {},
     "output_type": "execute_result"
    }
   ],
   "source": [
    "# Reading the Sensor Readings for the scenario 1, 11-05-07\n",
    "tree = ET.parse(sensor_read_scen_1)\n",
    "\n",
    "time_data_ap_dict = {}\n",
    "\n",
    "for wr in tree.iter(tag = 'wr'):\n",
    "    time_data_ap_dict[wr.attrib['st']] = wr.iter(tag='r')\n",
    "\n",
    "# for key in time_data_dict:\n",
    "#     print(key, ': ', time_data_dict[key])\n",
    "#     for r in time_data_dict[key]:\n",
    "#         print(r.attrib)\n",
    "time_data_ap_dict"
   ]
  },
  {
   "cell_type": "code",
   "execution_count": 10,
   "id": "0287cd35",
   "metadata": {},
   "outputs": [
    {
     "data": {
      "text/plain": [
       "{'11:05:09:000': {'lat': '44.434918',\n",
       "  'long': '26.047606',\n",
       "  'time': '11:05:09:000'},\n",
       " '11:05:10:600': {'lat': '44.43491799999931',\n",
       "  'long': '26.047618594726657',\n",
       "  'time': '11:05:10:600'},\n",
       " '11:05:11:600': {'lat': '44.43491799999862',\n",
       "  'long': '26.047631189453316',\n",
       "  'time': '11:05:11:600'},\n",
       " '11:05:12:400': {'lat': '44.43491799999792',\n",
       "  'long': '26.047643784179975',\n",
       "  'time': '11:05:12:400'},\n",
       " '11:05:13:200': {'lat': '44.434917999997225',\n",
       "  'long': '26.047656378906634',\n",
       "  'time': '11:05:13:200'},\n",
       " '11:05:14:100': {'lat': '44.43491799999653',\n",
       "  'long': '26.047668973633293',\n",
       "  'time': '11:05:14:100'},\n",
       " '11:05:17:500': {'lat': '44.43491799999584',\n",
       "  'long': '26.047681568359952',\n",
       "  'time': '11:05:17:500'},\n",
       " '11:05:20:000': {'lat': '44.43491799999566',\n",
       "  'long': '26.04768786572328',\n",
       "  'time': '11:05:20:000'},\n",
       " '11:05:21:100': {'lat': '44.434909006779606',\n",
       "  'long': '26.04768786572328',\n",
       "  'time': '11:05:21:100'},\n",
       " '11:05:21:950': {'lat': '44.43490001356355',\n",
       "  'long': '26.04768786572328',\n",
       "  'time': '11:05:21:950'},\n",
       " '11:05:22:700': {'lat': '44.434891020347486',\n",
       "  'long': '26.04768786572328',\n",
       "  'time': '11:05:22:700'},\n",
       " '11:05:23:450': {'lat': '44.43488202713143',\n",
       "  'long': '26.04768786572328',\n",
       "  'time': '11:05:23:450'},\n",
       " '11:05:24:250': {'lat': '44.43487303391537',\n",
       "  'long': '26.04768786572328',\n",
       "  'time': '11:05:24:250'},\n",
       " '11:05:25:100': {'lat': '44.43486404069931',\n",
       "  'long': '26.04768786572328',\n",
       "  'time': '11:05:25:100'},\n",
       " '11:05:25:900': {'lat': '44.434855047483246',\n",
       "  'long': '26.04768786572328',\n",
       "  'time': '11:05:25:900'},\n",
       " '11:05:26:950': {'lat': '44.43485504748256',\n",
       "  'long': '26.04770046043637',\n",
       "  'time': '11:05:26:950'},\n",
       " '11:05:27:900': {'lat': '44.43486404069863',\n",
       "  'long': '26.04770046043637',\n",
       "  'time': '11:05:27:900'},\n",
       " '11:05:28:750': {'lat': '44.43487303391468',\n",
       "  'long': '26.04770046043637',\n",
       "  'time': '11:05:28:750'},\n",
       " '11:05:29:600': {'lat': '44.43488202713073',\n",
       "  'long': '26.04770046043637',\n",
       "  'time': '11:05:29:600'},\n",
       " '11:05:30:400': {'lat': '44.43489102034679',\n",
       "  'long': '26.04770046043637',\n",
       "  'time': '11:05:30:400'},\n",
       " '11:05:31:250': {'lat': '44.43490001356284',\n",
       "  'long': '26.04770046043637',\n",
       "  'time': '11:05:31:250'},\n",
       " '11:05:32:120': {'lat': '44.4349090067789',\n",
       "  'long': '26.04770046043637',\n",
       "  'time': '11:05:32:120'},\n",
       " '11:05:32:520': {'lat': '44.43491350338692',\n",
       "  'long': '26.04770046043637',\n",
       "  'time': '11:05:32:520'},\n",
       " '11:05:33:320': {'lat': '44.434913503386234',\n",
       "  'long': '26.04771305516206',\n",
       "  'time': '11:05:33:320'},\n",
       " '11:05:34:220': {'lat': '44.43491350338554',\n",
       "  'long': '26.04772564988775',\n",
       "  'time': '11:05:34:220'},\n",
       " '11:05:35:000': {'lat': '44.43491350338485',\n",
       "  'long': '26.047738244613438',\n",
       "  'time': '11:05:35:000'},\n",
       " '11:05:35:800': {'lat': '44.434913503384145',\n",
       "  'long': '26.047750839339127',\n",
       "  'time': '11:05:35:800'},\n",
       " '11:05:36:700': {'lat': '44.434913503383456',\n",
       "  'long': '26.047763434064816',\n",
       "  'time': '11:05:36:700'},\n",
       " '11:05:37:500': {'lat': '44.43491350338276',\n",
       "  'long': '26.047776028790505',\n",
       "  'time': '11:05:37:500'},\n",
       " '11:05:38:300': {'lat': '44.43491350338206',\n",
       "  'long': '26.047788623516194',\n",
       "  'time': '11:05:38:300'},\n",
       " '11:05:39:100': {'lat': '44.43491350338137',\n",
       "  'long': '26.047801218241883',\n",
       "  'time': '11:05:39:100'},\n",
       " '11:05:39:900': {'lat': '44.43491350338067',\n",
       "  'long': '26.047813812967572',\n",
       "  'time': '11:05:39:900'},\n",
       " '11:05:40:700': {'lat': '44.43491350337998',\n",
       "  'long': '26.047826407693265',\n",
       "  'time': '11:05:40:700'},\n",
       " '11:05:41:400': {'lat': '44.434913503379285',\n",
       "  'long': '26.047839002418954',\n",
       "  'time': '11:05:41:400'},\n",
       " '11:05:42:100': {'lat': '44.434913503378596',\n",
       "  'long': '26.047851597144643',\n",
       "  'time': '11:05:42:100'},\n",
       " '11:05:42:900': {'lat': '44.43491350337789',\n",
       "  'long': '26.04786419187033',\n",
       "  'time': '11:05:42:900'},\n",
       " '11:05:43:500': {'lat': '44.4349135033772',\n",
       "  'long': '26.04787678659602',\n",
       "  'time': '11:05:43:500'},\n",
       " '11:05:44:300': {'lat': '44.434913503376514',\n",
       "  'long': '26.04788938132171',\n",
       "  'time': '11:05:44:300'},\n",
       " '11:05:44:900': {'lat': '44.43491799998454',\n",
       "  'long': '26.04788938132171',\n",
       "  'time': '11:05:44:900'},\n",
       " '11:05:48:000': {'lat': '44.434917999983846',\n",
       "  'long': '26.04790197604837',\n",
       "  'time': '11:05:48:000'},\n",
       " '11:05:49:000': {'lat': '44.4349374999837',\n",
       "  'long': '26.047903773512555',\n",
       "  'time': '11:05:49:000'},\n",
       " '11:05:51:700': {'lat': '44.43492850676764',\n",
       "  'long': '26.047903773512555',\n",
       "  'time': '11:05:51:700'},\n",
       " '11:05:52:500': {'lat': '44.43491951355158',\n",
       "  'long': '26.047903773512555',\n",
       "  'time': '11:05:52:500'},\n",
       " '11:05:53:400': {'lat': '44.434910520335514',\n",
       "  'long': '26.047903773512555',\n",
       "  'time': '11:05:53:400'},\n",
       " '11:05:54:100': {'lat': '44.43490152711945',\n",
       "  'long': '26.047903773512555',\n",
       "  'time': '11:05:54:100'},\n",
       " '11:05:54:900': {'lat': '44.43489253390339',\n",
       "  'long': '26.047903773512555',\n",
       "  'time': '11:05:54:900'},\n",
       " '11:05:55:600': {'lat': '44.43488354068732',\n",
       "  'long': '26.047903773512555',\n",
       "  'time': '11:05:55:600'},\n",
       " '11:05:56:400': {'lat': '44.43487454747127',\n",
       "  'long': '26.047903773512555',\n",
       "  'time': '11:05:56:400'},\n",
       " '11:05:57:100': {'lat': '44.43487454747057',\n",
       "  'long': '26.047916368229846',\n",
       "  'time': '11:05:57:100'},\n",
       " '11:05:57:900': {'lat': '44.434874547469875',\n",
       "  'long': '26.04792896294714',\n",
       "  'time': '11:05:57:900'},\n",
       " '11:05:58:600': {'lat': '44.434874547469185',\n",
       "  'long': '26.04794155766443',\n",
       "  'time': '11:05:58:600'},\n",
       " '11:05:59:500': {'lat': '44.43488354068524',\n",
       "  'long': '26.04794155766443',\n",
       "  'time': '11:05:59:500'},\n",
       " '11:06:00:400': {'lat': '44.4348925339013',\n",
       "  'long': '26.04794155766443',\n",
       "  'time': '11:06:00:400'},\n",
       " '11:06:01:100': {'lat': '44.43490152711736',\n",
       "  'long': '26.04794155766443',\n",
       "  'time': '11:06:01:100'},\n",
       " '11:06:01:900': {'lat': '44.43491052033342',\n",
       "  'long': '26.04794155766443',\n",
       "  'time': '11:06:01:900'},\n",
       " '11:06:02:600': {'lat': '44.434919513549474',\n",
       "  'long': '26.04794155766443',\n",
       "  'time': '11:06:02:600'},\n",
       " '11:06:03:400': {'lat': '44.43492850676553',\n",
       "  'long': '26.04794155766443',\n",
       "  'time': '11:06:03:400'},\n",
       " '11:06:04:200': {'lat': '44.43493749998159',\n",
       "  'long': '26.04794155766443',\n",
       "  'time': '11:06:04:200'},\n",
       " '11:06:04:500': {'lat': '44.43493749998141',\n",
       "  'long': '26.047935260299',\n",
       "  'time': '11:06:04:500'},\n",
       " '11:06:05:400': {'lat': '44.43493749998072',\n",
       "  'long': '26.04792266556814',\n",
       "  'time': '11:06:05:400'},\n",
       " '11:06:06:200': {'lat': '44.43493749998002',\n",
       "  'long': '26.04791007083728',\n",
       "  'time': '11:06:06:200'},\n",
       " '11:06:07:000': {'lat': '44.434937499979846',\n",
       "  'long': '26.047903773471848',\n",
       "  'time': '11:06:07:000'},\n",
       " '11:06:08:000': {'lat': '44.43493749997967',\n",
       "  'long': '26.04789747610642',\n",
       "  'time': '11:06:08:000'},\n",
       " '11:06:11:400': {'lat': '44.43493749997897',\n",
       "  'long': '26.047884881375563',\n",
       "  'time': '11:06:11:400'},\n",
       " '11:06:12:300': {'lat': '44.434941996587',\n",
       "  'long': '26.047884881375563',\n",
       "  'time': '11:06:12:300'},\n",
       " '11:06:13:000': {'lat': '44.43494199658631',\n",
       "  'long': '26.04787228664373',\n",
       "  'time': '11:06:13:000'},\n",
       " '11:06:13:900': {'lat': '44.43494199658562',\n",
       "  'long': '26.0478596919119',\n",
       "  'time': '11:06:13:900'},\n",
       " '11:06:14:600': {'lat': '44.434941996584925',\n",
       "  'long': '26.04784709718007',\n",
       "  'time': '11:06:14:600'},\n",
       " '11:06:15:500': {'lat': '44.43494199658423',\n",
       "  'long': '26.04783450244824',\n",
       "  'time': '11:06:15:500'},\n",
       " '11:06:16:100': {'lat': '44.43494199658353',\n",
       "  'long': '26.047821907716408',\n",
       "  'time': '11:06:16:100'},\n",
       " '11:06:16:900': {'lat': '44.43494199658284',\n",
       "  'long': '26.04780931298458',\n",
       "  'time': '11:06:16:900'},\n",
       " '11:06:17:500': {'lat': '44.434941996582154',\n",
       "  'long': '26.047796718252748',\n",
       "  'time': '11:06:17:500'},\n",
       " '11:06:18:300': {'lat': '44.43494199658146',\n",
       "  'long': '26.047784123520916',\n",
       "  'time': '11:06:18:300'},\n",
       " '11:06:18:700': {'lat': '44.43494199658128',\n",
       "  'long': '26.047777826155002',\n",
       "  'time': '11:06:18:700'},\n",
       " '11:06:19:000': {'lat': '44.4349419965811',\n",
       "  'long': '26.04777152878909',\n",
       "  'time': '11:06:19:000'},\n",
       " '11:06:19:700': {'lat': '44.43494199658041',\n",
       "  'long': '26.047758934057264',\n",
       "  'time': '11:06:19:700'},\n",
       " '11:06:20:000': {'lat': '44.434941996580235',\n",
       "  'long': '26.04775263669135',\n",
       "  'time': '11:06:20:000'},\n",
       " '11:06:20:400': {'lat': '44.43494199658006',\n",
       "  'long': '26.047746339325435',\n",
       "  'time': '11:06:20:400'},\n",
       " '11:06:20:700': {'lat': '44.43494199657988',\n",
       "  'long': '26.04774004195952',\n",
       "  'time': '11:06:20:700'},\n",
       " '11:06:21:100': {'lat': '44.4349419965797',\n",
       "  'long': '26.047733744593607',\n",
       "  'time': '11:06:21:100'},\n",
       " '11:06:21:800': {'lat': '44.43494199657901',\n",
       "  'long': '26.047721149861776',\n",
       "  'time': '11:06:21:800'},\n",
       " '11:06:22:500': {'lat': '44.434941996578324',\n",
       "  'long': '26.047708555129947',\n",
       "  'time': '11:06:22:500'},\n",
       " '11:06:23:100': {'lat': '44.43494199657763',\n",
       "  'long': '26.047695960398116',\n",
       "  'time': '11:06:23:100'},\n",
       " '11:06:23:600': {'lat': '44.43493749996959',\n",
       "  'long': '26.047695960398116',\n",
       "  'time': '11:06:23:600'},\n",
       " '11:06:24:500': {'lat': '44.434937499968896',\n",
       "  'long': '26.047683365667254',\n",
       "  'time': '11:06:24:500'},\n",
       " '11:06:25:900': {'lat': '44.43493749996872',\n",
       "  'long': '26.047677068301827',\n",
       "  'time': '11:06:25:900'},\n",
       " '11:06:30:000': {'lat': '44.43493749996802',\n",
       "  'long': '26.04766447357097',\n",
       "  'time': '11:06:30:000'},\n",
       " '11:06:30:900': {'lat': '44.434937499967326',\n",
       "  'long': '26.047651878840107',\n",
       "  'time': '11:06:30:900'},\n",
       " '11:06:31:700': {'lat': '44.43493749996664',\n",
       "  'long': '26.04763928410925',\n",
       "  'time': '11:06:31:700'},\n",
       " '11:06:32:700': {'lat': '44.43493749996595',\n",
       "  'long': '26.04762668937839',\n",
       "  'time': '11:06:32:700'},\n",
       " '11:06:33:500': {'lat': '44.43493749996525',\n",
       "  'long': '26.04761409464753',\n",
       "  'time': '11:06:33:500'},\n",
       " '11:06:35:100': {'lat': '44.43493749996456',\n",
       "  'long': '26.04760149991667',\n",
       "  'time': '11:06:35:100'}}"
      ]
     },
     "execution_count": 10,
     "metadata": {},
     "output_type": "execute_result"
    }
   ],
   "source": [
    "# Reading the Ground Truth for the scenario 1, 11-05-07\n",
    "tree1 = ET.parse(ground_truth_scen_1)\n",
    "\n",
    "time_location_dict = {}\n",
    "\n",
    "for position in tree1.iter(tag = 'position'):\n",
    "#     print(position.attrib['time'].split(':')[:-1])\n",
    "    time_location_dict[position.attrib['time']] = position.attrib\n",
    "time_location_dict"
   ]
  },
  {
   "cell_type": "code",
   "execution_count": 11,
   "id": "38432c52",
   "metadata": {},
   "outputs": [],
   "source": [
    "dict_for_df = {'lat': [],\n",
    "               'long': [],\n",
    "               'timestamp': []}\n",
    "\n",
    "for timestamp, location in time_location_dict.items():\n",
    "#     print('key: ', timestamp, ', location:', location)\n",
    "    pass"
   ]
  },
  {
   "cell_type": "markdown",
   "id": "0d902ee6",
   "metadata": {},
   "source": [
    "## 3. Data vizualisation"
   ]
  },
  {
   "cell_type": "code",
   "execution_count": 12,
   "id": "24f96555",
   "metadata": {},
   "outputs": [
    {
     "data": {
      "text/plain": [
       "<seaborn.axisgrid.FacetGrid at 0x1b475359ac0>"
      ]
     },
     "execution_count": 12,
     "metadata": {},
     "output_type": "execute_result"
    },
    {
     "data": {
      "image/png": "[encoded data removed]",
      "text/plain": [
       "<Figure size 455.125x360 with 1 Axes>"
      ]
     },
     "metadata": {
      "needs_background": "light"
     },
     "output_type": "display_data"
    }
   ],
   "source": [
    "# Making the bar chart for buildings\n",
    "sns.displot(dataset_ujloc[['BUILDINGID']], kde=False)"
   ]
  },
  {
   "cell_type": "code",
   "execution_count": 13,
   "id": "47dc7500",
   "metadata": {},
   "outputs": [
    {
     "data": {
      "text/plain": [
       "<seaborn.axisgrid.FacetGrid at 0x1b47531f880>"
      ]
     },
     "execution_count": 13,
     "metadata": {},
     "output_type": "execute_result"
    },
    {
     "data": {
      "image/png": "[encoded data removed]",
      "text/plain": [
       "<Figure size 429.25x360 with 1 Axes>"
      ]
     },
     "metadata": {
      "needs_background": "light"
     },
     "output_type": "display_data"
    }
   ],
   "source": [
    "# Making the bar chart for floors\n",
    "sns.displot(dataset_ujloc[['FLOOR']],kde=False)"
   ]
  },
  {
   "cell_type": "code",
   "execution_count": 14,
   "id": "a043de56",
   "metadata": {},
   "outputs": [
    {
     "data": {
      "image/png": "[encoded data removed]",
      "text/plain": [
       "<Figure size 720x720 with 1 Axes>"
      ]
     },
     "metadata": {
      "needs_background": "light"
     },
     "output_type": "display_data"
    }
   ],
   "source": [
    "# The scatter plot of the available data points | 14,700 m2\n",
    "markers = ('s', 'X', 'o')\n",
    "colors = ('red', 'yellow', 'lightgreen')\n",
    "cmap = ListedColormap(colors[:len(np.unique(dataset_ujloc['BUILDINGID']))])\n",
    "\n",
    "\n",
    "fig = plt.figure(figsize=(10,10))\n",
    "for idx, cl in enumerate(np.unique(dataset_ujloc['BUILDINGID'])):\n",
    "        plt.scatter(x=dataset_ujloc.loc[dataset_ujloc.BUILDINGID== cl]['LATITUDE'], \n",
    "                    y=dataset_ujloc.loc[dataset_ujloc.BUILDINGID== cl]['LONGITUDE'],\n",
    "                    alpha=0.6, \n",
    "                    c=[cmap(idx)],\n",
    "                    edgecolor='black',\n",
    "                    marker=markers[idx], \n",
    "                    label=cl)\n",
    "\n",
    "plt.xlabel('Latitude')\n",
    "plt.ylabel('Longitude')\n",
    "plt.legend(loc='upper right')\n",
    "plt.tight_layout()"
   ]
  },
  {
   "cell_type": "code",
   "execution_count": 15,
   "id": "ca7c5d8e",
   "metadata": {},
   "outputs": [
    {
     "data": {
      "text/plain": [
       "<AxesSubplot:xlabel='FLOOR', ylabel='count'>"
      ]
     },
     "execution_count": 15,
     "metadata": {},
     "output_type": "execute_result"
    },
    {
     "data": {
      "image/png": "[encoded data removed]",
      "text/plain": [
       "<Figure size 432x288 with 1 Axes>"
      ]
     },
     "metadata": {
      "needs_background": "light"
     },
     "output_type": "display_data"
    }
   ],
   "source": [
    "# Buildings 0/1 have 4 floors, building 2 has 5\n",
    "sns.countplot(x=\"FLOOR\", hue=\"BUILDINGID\", data=dataset_ujloc, orient=\"v\")"
   ]
  },
  {
   "cell_type": "code",
   "execution_count": 16,
   "id": "5835b3f3",
   "metadata": {},
   "outputs": [
    {
     "data": {
      "image/png": "[encoded data removed]",
      "text/plain": [
       "<Figure size 1080x1080 with 1 Axes>"
      ]
     },
     "metadata": {
      "needs_background": "light"
     },
     "output_type": "display_data"
    }
   ],
   "source": [
    "fig = plt.figure(figsize=(15,15))\n",
    "ax = fig.add_subplot(111, projection='3d')\n",
    "xs = dataset_ujloc['LONGITUDE']\n",
    "ys = dataset_ujloc['LATITUDE']\n",
    "zs = dataset_ujloc['FLOOR']\n",
    "ax.scatter(xs, ys, zs, alpha=0.5, s=10,marker='o')\n",
    "\n",
    "plt.title(\"Location points with respect to the floor\")\n",
    "\n",
    "plt.xlabel('Latitude')\n",
    "plt.ylabel('Longitude')\n",
    "\n",
    "plt.show()"
   ]
  },
  {
   "cell_type": "markdown",
   "id": "18f8da6e",
   "metadata": {},
   "source": [
    "## 4. Data preprocessing"
   ]
  },
  {
   "cell_type": "code",
   "execution_count": 17,
   "id": "412cfc82",
   "metadata": {},
   "outputs": [],
   "source": [
    "# Removing the unused columns\n",
    "dataset_ujloc.drop([\"SPACEID\", \"RELATIVEPOSITION\", \"USERID\", \"PHONEID\", \"TIMESTAMP\"], axis=1, inplace=True)\n",
    "validation_dataset_ujloc.drop([\"SPACEID\", \"RELATIVEPOSITION\", \"USERID\", \"PHONEID\", \"TIMESTAMP\"], axis=1, inplace=True)"
   ]
  },
  {
   "cell_type": "code",
   "execution_count": 18,
   "id": "aab41b91",
   "metadata": {},
   "outputs": [
    {
     "data": {
      "text/html": [
       "<div>\n",
       "<style scoped>\n",
       "    .dataframe tbody tr th:only-of-type {\n",
       "        vertical-align: middle;\n",
       "    }\n",
       "\n",
       "    .dataframe tbody tr th {\n",
       "        vertical-align: top;\n",
       "    }\n",
       "\n",
       "    .dataframe thead th {\n",
       "        text-align: right;\n",
       "    }\n",
       "</style>\n",
       "<table border=\"1\" class=\"dataframe\">\n",
       "  <thead>\n",
       "    <tr style=\"text-align: right;\">\n",
       "      <th></th>\n",
       "      <th>WAP001</th>\n",
       "      <th>WAP002</th>\n",
       "      <th>WAP003</th>\n",
       "      <th>WAP004</th>\n",
       "      <th>WAP005</th>\n",
       "      <th>WAP006</th>\n",
       "      <th>WAP007</th>\n",
       "      <th>WAP008</th>\n",
       "      <th>WAP009</th>\n",
       "      <th>WAP010</th>\n",
       "      <th>...</th>\n",
       "      <th>WAP515</th>\n",
       "      <th>WAP516</th>\n",
       "      <th>WAP517</th>\n",
       "      <th>WAP518</th>\n",
       "      <th>WAP519</th>\n",
       "      <th>WAP520</th>\n",
       "      <th>LONGITUDE</th>\n",
       "      <th>LATITUDE</th>\n",
       "      <th>FLOOR</th>\n",
       "      <th>BUILDINGID</th>\n",
       "    </tr>\n",
       "  </thead>\n",
       "  <tbody>\n",
       "    <tr>\n",
       "      <th>46</th>\n",
       "      <td>100</td>\n",
       "      <td>100</td>\n",
       "      <td>100</td>\n",
       "      <td>100</td>\n",
       "      <td>100</td>\n",
       "      <td>100</td>\n",
       "      <td>100</td>\n",
       "      <td>100</td>\n",
       "      <td>100</td>\n",
       "      <td>100</td>\n",
       "      <td>...</td>\n",
       "      <td>100</td>\n",
       "      <td>100</td>\n",
       "      <td>-93</td>\n",
       "      <td>100</td>\n",
       "      <td>100</td>\n",
       "      <td>100</td>\n",
       "      <td>-7331.748000</td>\n",
       "      <td>4.864767e+06</td>\n",
       "      <td>3</td>\n",
       "      <td>2</td>\n",
       "    </tr>\n",
       "    <tr>\n",
       "      <th>47</th>\n",
       "      <td>100</td>\n",
       "      <td>100</td>\n",
       "      <td>100</td>\n",
       "      <td>100</td>\n",
       "      <td>100</td>\n",
       "      <td>100</td>\n",
       "      <td>100</td>\n",
       "      <td>100</td>\n",
       "      <td>100</td>\n",
       "      <td>100</td>\n",
       "      <td>...</td>\n",
       "      <td>100</td>\n",
       "      <td>100</td>\n",
       "      <td>-89</td>\n",
       "      <td>100</td>\n",
       "      <td>100</td>\n",
       "      <td>100</td>\n",
       "      <td>-7331.400500</td>\n",
       "      <td>4.864768e+06</td>\n",
       "      <td>3</td>\n",
       "      <td>2</td>\n",
       "    </tr>\n",
       "    <tr>\n",
       "      <th>49</th>\n",
       "      <td>100</td>\n",
       "      <td>100</td>\n",
       "      <td>100</td>\n",
       "      <td>100</td>\n",
       "      <td>100</td>\n",
       "      <td>100</td>\n",
       "      <td>100</td>\n",
       "      <td>100</td>\n",
       "      <td>100</td>\n",
       "      <td>100</td>\n",
       "      <td>...</td>\n",
       "      <td>100</td>\n",
       "      <td>100</td>\n",
       "      <td>100</td>\n",
       "      <td>-91</td>\n",
       "      <td>100</td>\n",
       "      <td>100</td>\n",
       "      <td>-7327.492165</td>\n",
       "      <td>4.864767e+06</td>\n",
       "      <td>3</td>\n",
       "      <td>2</td>\n",
       "    </tr>\n",
       "    <tr>\n",
       "      <th>50</th>\n",
       "      <td>100</td>\n",
       "      <td>100</td>\n",
       "      <td>100</td>\n",
       "      <td>100</td>\n",
       "      <td>100</td>\n",
       "      <td>100</td>\n",
       "      <td>100</td>\n",
       "      <td>100</td>\n",
       "      <td>100</td>\n",
       "      <td>100</td>\n",
       "      <td>...</td>\n",
       "      <td>100</td>\n",
       "      <td>100</td>\n",
       "      <td>-90</td>\n",
       "      <td>100</td>\n",
       "      <td>100</td>\n",
       "      <td>100</td>\n",
       "      <td>-7336.700400</td>\n",
       "      <td>4.864764e+06</td>\n",
       "      <td>3</td>\n",
       "      <td>2</td>\n",
       "    </tr>\n",
       "    <tr>\n",
       "      <th>51</th>\n",
       "      <td>100</td>\n",
       "      <td>100</td>\n",
       "      <td>100</td>\n",
       "      <td>100</td>\n",
       "      <td>100</td>\n",
       "      <td>100</td>\n",
       "      <td>100</td>\n",
       "      <td>100</td>\n",
       "      <td>100</td>\n",
       "      <td>100</td>\n",
       "      <td>...</td>\n",
       "      <td>100</td>\n",
       "      <td>100</td>\n",
       "      <td>-92</td>\n",
       "      <td>100</td>\n",
       "      <td>100</td>\n",
       "      <td>100</td>\n",
       "      <td>-7337.394800</td>\n",
       "      <td>4.864763e+06</td>\n",
       "      <td>3</td>\n",
       "      <td>2</td>\n",
       "    </tr>\n",
       "    <tr>\n",
       "      <th>...</th>\n",
       "      <td>...</td>\n",
       "      <td>...</td>\n",
       "      <td>...</td>\n",
       "      <td>...</td>\n",
       "      <td>...</td>\n",
       "      <td>...</td>\n",
       "      <td>...</td>\n",
       "      <td>...</td>\n",
       "      <td>...</td>\n",
       "      <td>...</td>\n",
       "      <td>...</td>\n",
       "      <td>...</td>\n",
       "      <td>...</td>\n",
       "      <td>...</td>\n",
       "      <td>...</td>\n",
       "      <td>...</td>\n",
       "      <td>...</td>\n",
       "      <td>...</td>\n",
       "      <td>...</td>\n",
       "      <td>...</td>\n",
       "      <td>...</td>\n",
       "    </tr>\n",
       "    <tr>\n",
       "      <th>19926</th>\n",
       "      <td>100</td>\n",
       "      <td>100</td>\n",
       "      <td>100</td>\n",
       "      <td>100</td>\n",
       "      <td>100</td>\n",
       "      <td>100</td>\n",
       "      <td>100</td>\n",
       "      <td>100</td>\n",
       "      <td>100</td>\n",
       "      <td>100</td>\n",
       "      <td>...</td>\n",
       "      <td>100</td>\n",
       "      <td>100</td>\n",
       "      <td>-87</td>\n",
       "      <td>100</td>\n",
       "      <td>100</td>\n",
       "      <td>100</td>\n",
       "      <td>-7331.496600</td>\n",
       "      <td>4.864768e+06</td>\n",
       "      <td>1</td>\n",
       "      <td>2</td>\n",
       "    </tr>\n",
       "    <tr>\n",
       "      <th>19927</th>\n",
       "      <td>100</td>\n",
       "      <td>100</td>\n",
       "      <td>100</td>\n",
       "      <td>100</td>\n",
       "      <td>100</td>\n",
       "      <td>100</td>\n",
       "      <td>100</td>\n",
       "      <td>100</td>\n",
       "      <td>100</td>\n",
       "      <td>100</td>\n",
       "      <td>...</td>\n",
       "      <td>100</td>\n",
       "      <td>-84</td>\n",
       "      <td>-77</td>\n",
       "      <td>100</td>\n",
       "      <td>100</td>\n",
       "      <td>100</td>\n",
       "      <td>-7390.734700</td>\n",
       "      <td>4.864835e+06</td>\n",
       "      <td>1</td>\n",
       "      <td>2</td>\n",
       "    </tr>\n",
       "    <tr>\n",
       "      <th>19928</th>\n",
       "      <td>100</td>\n",
       "      <td>100</td>\n",
       "      <td>100</td>\n",
       "      <td>100</td>\n",
       "      <td>100</td>\n",
       "      <td>100</td>\n",
       "      <td>100</td>\n",
       "      <td>100</td>\n",
       "      <td>100</td>\n",
       "      <td>100</td>\n",
       "      <td>...</td>\n",
       "      <td>100</td>\n",
       "      <td>-90</td>\n",
       "      <td>-87</td>\n",
       "      <td>100</td>\n",
       "      <td>100</td>\n",
       "      <td>100</td>\n",
       "      <td>-7331.463800</td>\n",
       "      <td>4.864769e+06</td>\n",
       "      <td>1</td>\n",
       "      <td>2</td>\n",
       "    </tr>\n",
       "    <tr>\n",
       "      <th>19931</th>\n",
       "      <td>100</td>\n",
       "      <td>100</td>\n",
       "      <td>100</td>\n",
       "      <td>100</td>\n",
       "      <td>100</td>\n",
       "      <td>100</td>\n",
       "      <td>100</td>\n",
       "      <td>100</td>\n",
       "      <td>100</td>\n",
       "      <td>100</td>\n",
       "      <td>...</td>\n",
       "      <td>100</td>\n",
       "      <td>100</td>\n",
       "      <td>-91</td>\n",
       "      <td>100</td>\n",
       "      <td>100</td>\n",
       "      <td>100</td>\n",
       "      <td>-7394.577825</td>\n",
       "      <td>4.864837e+06</td>\n",
       "      <td>1</td>\n",
       "      <td>2</td>\n",
       "    </tr>\n",
       "    <tr>\n",
       "      <th>19933</th>\n",
       "      <td>100</td>\n",
       "      <td>100</td>\n",
       "      <td>100</td>\n",
       "      <td>100</td>\n",
       "      <td>100</td>\n",
       "      <td>100</td>\n",
       "      <td>100</td>\n",
       "      <td>100</td>\n",
       "      <td>100</td>\n",
       "      <td>100</td>\n",
       "      <td>...</td>\n",
       "      <td>100</td>\n",
       "      <td>100</td>\n",
       "      <td>100</td>\n",
       "      <td>100</td>\n",
       "      <td>100</td>\n",
       "      <td>100</td>\n",
       "      <td>-7390.620600</td>\n",
       "      <td>4.864836e+06</td>\n",
       "      <td>1</td>\n",
       "      <td>2</td>\n",
       "    </tr>\n",
       "  </tbody>\n",
       "</table>\n",
       "<p>9492 rows × 524 columns</p>\n",
       "</div>"
      ],
      "text/plain": [
       "       WAP001  WAP002  WAP003  WAP004  WAP005  WAP006  WAP007  WAP008  WAP009  \\\n",
       "46        100     100     100     100     100     100     100     100     100   \n",
       "47        100     100     100     100     100     100     100     100     100   \n",
       "49        100     100     100     100     100     100     100     100     100   \n",
       "50        100     100     100     100     100     100     100     100     100   \n",
       "51        100     100     100     100     100     100     100     100     100   \n",
       "...       ...     ...     ...     ...     ...     ...     ...     ...     ...   \n",
       "19926     100     100     100     100     100     100     100     100     100   \n",
       "19927     100     100     100     100     100     100     100     100     100   \n",
       "19928     100     100     100     100     100     100     100     100     100   \n",
       "19931     100     100     100     100     100     100     100     100     100   \n",
       "19933     100     100     100     100     100     100     100     100     100   \n",
       "\n",
       "       WAP010  ...  WAP515  WAP516  WAP517  WAP518  WAP519  WAP520  \\\n",
       "46        100  ...     100     100     -93     100     100     100   \n",
       "47        100  ...     100     100     -89     100     100     100   \n",
       "49        100  ...     100     100     100     -91     100     100   \n",
       "50        100  ...     100     100     -90     100     100     100   \n",
       "51        100  ...     100     100     -92     100     100     100   \n",
       "...       ...  ...     ...     ...     ...     ...     ...     ...   \n",
       "19926     100  ...     100     100     -87     100     100     100   \n",
       "19927     100  ...     100     -84     -77     100     100     100   \n",
       "19928     100  ...     100     -90     -87     100     100     100   \n",
       "19931     100  ...     100     100     -91     100     100     100   \n",
       "19933     100  ...     100     100     100     100     100     100   \n",
       "\n",
       "         LONGITUDE      LATITUDE  FLOOR  BUILDINGID  \n",
       "46    -7331.748000  4.864767e+06      3           2  \n",
       "47    -7331.400500  4.864768e+06      3           2  \n",
       "49    -7327.492165  4.864767e+06      3           2  \n",
       "50    -7336.700400  4.864764e+06      3           2  \n",
       "51    -7337.394800  4.864763e+06      3           2  \n",
       "...            ...           ...    ...         ...  \n",
       "19926 -7331.496600  4.864768e+06      1           2  \n",
       "19927 -7390.734700  4.864835e+06      1           2  \n",
       "19928 -7331.463800  4.864769e+06      1           2  \n",
       "19931 -7394.577825  4.864837e+06      1           2  \n",
       "19933 -7390.620600  4.864836e+06      1           2  \n",
       "\n",
       "[9492 rows x 524 columns]"
      ]
     },
     "execution_count": 18,
     "metadata": {},
     "output_type": "execute_result"
    }
   ],
   "source": [
    "dataset_ujloc"
   ]
  },
  {
   "cell_type": "markdown",
   "id": "dc6bc37d",
   "metadata": {},
   "source": [
    "### 4.1. Dropping BUILDINGID for cases where we train on a single building"
   ]
  },
  {
   "cell_type": "code",
   "execution_count": 19,
   "id": "734c6054",
   "metadata": {},
   "outputs": [],
   "source": [
    "# Removing the building (for scenario with only a building selected)\n",
    "# dataset_ujloc.drop([\"BUILDINGID\"], axis=1, inplace=True)\n",
    "# validation_dataset_ujloc.drop([\"BUILDINGID\"], axis=1, inplace=True)"
   ]
  },
  {
   "cell_type": "code",
   "execution_count": 20,
   "id": "4fca7ac8",
   "metadata": {},
   "outputs": [],
   "source": [
    "# dataset_ujloc.head(5)"
   ]
  },
  {
   "cell_type": "markdown",
   "id": "f591a033",
   "metadata": {},
   "source": [
    "### 4.2. Encoding a POINT column (FLOOR+BUILDINGID) for cases of multi-building classification"
   ]
  },
  {
   "cell_type": "code",
   "execution_count": 21,
   "id": "36179e79",
   "metadata": {},
   "outputs": [],
   "source": [
    "# Creating the output (target) column for DNN (For the case of FLOOR+Building // otherwise, just floor is enough (for only 1 building seleted))\n",
    "# dataset_ujloc['POINT'] = dataset_ujloc['FLOOR'].astype(str) + dataset_ujloc['BUILDINGID'].astype(str)\n",
    "# validation_dataset_ujloc['POINT'] = validation_dataset_ujloc['FLOOR'].astype(str) + \\\n",
    "#                                     validation_dataset_ujloc['BUILDINGID'].astype(str)"
   ]
  },
  {
   "cell_type": "code",
   "execution_count": 22,
   "id": "d75ef707",
   "metadata": {},
   "outputs": [],
   "source": [
    "# dataset_ujloc.head(5)"
   ]
  },
  {
   "cell_type": "code",
   "execution_count": 23,
   "id": "095488f0",
   "metadata": {},
   "outputs": [],
   "source": [
    "# Encoding the FLOOR+BUILDING (=POINT)\n",
    "# floor_build_encoder = LabelEncoder()\n",
    "# floor_build_encoder.fit(dataset_ujloc[\"POINT\"])"
   ]
  },
  {
   "cell_type": "code",
   "execution_count": 24,
   "id": "93fc89ed",
   "metadata": {},
   "outputs": [],
   "source": [
    "# floor_build_encoder = floor_build_encoder.transform(dataset_ujloc['POINT'])"
   ]
  },
  {
   "cell_type": "code",
   "execution_count": 25,
   "id": "0844567a",
   "metadata": {},
   "outputs": [],
   "source": [
    "# df_point_encoded = pd.DataFrame(floor_build_encoder, columns=['POINT_ENCODED'])"
   ]
  },
  {
   "cell_type": "code",
   "execution_count": 26,
   "id": "bf4d78b5",
   "metadata": {},
   "outputs": [],
   "source": [
    "# dataset_ujloc = pd.concat([dataset_ujloc, df_point_encoded], axis=1)"
   ]
  },
  {
   "cell_type": "code",
   "execution_count": 27,
   "id": "913fc352",
   "metadata": {},
   "outputs": [],
   "source": [
    "# dataset_ujloc"
   ]
  },
  {
   "cell_type": "markdown",
   "id": "8ee2f9a3",
   "metadata": {},
   "source": [
    "## ----------------------- Up until here the dataset and validation are the same -------------------"
   ]
  },
  {
   "cell_type": "markdown",
   "id": "8a2d77f5",
   "metadata": {},
   "source": [
    "### 4.3. Splitting the data in labels and targets for the first DNN (Step 1)"
   ]
  },
  {
   "cell_type": "code",
   "execution_count": 28,
   "id": "6a8ce0ec",
   "metadata": {},
   "outputs": [],
   "source": [
    "X = dataset_ujloc.iloc[:, :520].values\n",
    "y = dataset_ujloc['FLOOR'].values"
   ]
  },
  {
   "cell_type": "code",
   "execution_count": 29,
   "id": "dad09faf",
   "metadata": {},
   "outputs": [
    {
     "data": {
      "text/plain": [
       "array([[100, 100, 100, ..., 100, 100, 100],\n",
       "       [100, 100, 100, ..., 100, 100, 100],\n",
       "       [100, 100, 100, ..., -91, 100, 100],\n",
       "       ...,\n",
       "       [100, 100, 100, ..., 100, 100, 100],\n",
       "       [100, 100, 100, ..., 100, 100, 100],\n",
       "       [100, 100, 100, ..., 100, 100, 100]], dtype=int64)"
      ]
     },
     "execution_count": 29,
     "metadata": {},
     "output_type": "execute_result"
    }
   ],
   "source": [
    "X"
   ]
  },
  {
   "cell_type": "code",
   "execution_count": 30,
   "id": "6ff9aaad",
   "metadata": {},
   "outputs": [
    {
     "data": {
      "text/plain": [
       "array([3, 3, 3, ..., 1, 1, 1], dtype=int64)"
      ]
     },
     "execution_count": 30,
     "metadata": {},
     "output_type": "execute_result"
    }
   ],
   "source": [
    "y"
   ]
  },
  {
   "cell_type": "markdown",
   "id": "a41f1741",
   "metadata": {},
   "source": [
    "### 4.4. Splitting the dataset into Training and Test set"
   ]
  },
  {
   "cell_type": "code",
   "execution_count": 31,
   "id": "87761296",
   "metadata": {},
   "outputs": [],
   "source": [
    "X_train, X_test, y_train, y_test = train_test_split(X, y, test_size = 0.2, random_state = 0)"
   ]
  },
  {
   "cell_type": "code",
   "execution_count": 32,
   "id": "68cc5182",
   "metadata": {},
   "outputs": [
    {
     "data": {
      "text/plain": [
       "array([[100, 100, 100, ..., 100, 100, 100],\n",
       "       [100, 100, 100, ..., 100, 100, 100],\n",
       "       [100, 100, 100, ..., 100, 100, 100],\n",
       "       ...,\n",
       "       [100, 100, 100, ..., 100, 100, 100],\n",
       "       [100, 100, 100, ..., 100, 100, 100],\n",
       "       [100, 100, 100, ..., 100, 100, 100]], dtype=int64)"
      ]
     },
     "execution_count": 32,
     "metadata": {},
     "output_type": "execute_result"
    }
   ],
   "source": [
    "X_train"
   ]
  },
  {
   "cell_type": "markdown",
   "id": "1b54b115",
   "metadata": {},
   "source": [
    "### 4.5. Feature scaling"
   ]
  },
  {
   "cell_type": "code",
   "execution_count": 33,
   "id": "84619c2a",
   "metadata": {},
   "outputs": [],
   "source": [
    "sc = StandardScaler()\n",
    "X_train = sc.fit_transform(X_train)\n",
    "X_test = sc.transform(X_test) "
   ]
  },
  {
   "cell_type": "code",
   "execution_count": 77,
   "id": "1f7894eb",
   "metadata": {},
   "outputs": [
    {
     "data": {
      "text/plain": [
       "(7593, 520)"
      ]
     },
     "execution_count": 77,
     "metadata": {},
     "output_type": "execute_result"
    }
   ],
   "source": [
    "X_train.shape"
   ]
  },
  {
   "cell_type": "code",
   "execution_count": 78,
   "id": "bfdd0886",
   "metadata": {},
   "outputs": [
    {
     "data": {
      "text/plain": [
       "(7593,)"
      ]
     },
     "execution_count": 78,
     "metadata": {},
     "output_type": "execute_result"
    }
   ],
   "source": [
    "y_train.shape"
   ]
  },
  {
   "cell_type": "markdown",
   "id": "a496027a",
   "metadata": {},
   "source": [
    "## 5. Building the first DNN model"
   ]
  },
  {
   "cell_type": "markdown",
   "id": "24865123",
   "metadata": {},
   "source": [
    "### 5.1. Initializing the NN"
   ]
  },
  {
   "cell_type": "code",
   "execution_count": 36,
   "id": "d623c210",
   "metadata": {},
   "outputs": [],
   "source": [
    " nn = tf.keras.models.Sequential()"
   ]
  },
  {
   "cell_type": "markdown",
   "id": "dc295049",
   "metadata": {},
   "source": [
    "### 5.2. Adding the input layer and the first hidden layer"
   ]
  },
  {
   "cell_type": "code",
   "execution_count": 37,
   "id": "3dc1a8f9",
   "metadata": {},
   "outputs": [],
   "source": [
    "# Adding a fully-connected layer (it automatically create the input layer)\n",
    "# num of neurons = num of features (520 APs)\n",
    "input_size = 520\n",
    "nn.add(tf.keras.layers.Dense(input_dim=input_size, units=256, activation='relu'))"
   ]
  },
  {
   "cell_type": "markdown",
   "id": "48f6649a",
   "metadata": {},
   "source": [
    "### 5.3. Adding the second layer"
   ]
  },
  {
   "cell_type": "code",
   "execution_count": 38,
   "id": "1944b0a8",
   "metadata": {},
   "outputs": [],
   "source": [
    "# Adding a layer with 128 neurons\n",
    "nn.add(tf.keras.layers.Dense(units=128, activation='relu'))"
   ]
  },
  {
   "cell_type": "markdown",
   "id": "7c90719e",
   "metadata": {},
   "source": [
    "### 5.4. Adding the output layer"
   ]
  },
  {
   "cell_type": "code",
   "execution_count": 39,
   "id": "7e510126",
   "metadata": {},
   "outputs": [],
   "source": [
    "# sotmax for > 2 categories\n",
    "classes = 5\n",
    "nn.add(tf.keras.layers.Dense(units=classes, activation='softmax'))"
   ]
  },
  {
   "cell_type": "markdown",
   "id": "71f7a36d",
   "metadata": {},
   "source": [
    "## 6. Training the DNN"
   ]
  },
  {
   "cell_type": "markdown",
   "id": "eae2c317",
   "metadata": {},
   "source": [
    "### 6.1. Compiling the DNN"
   ]
  },
  {
   "cell_type": "code",
   "execution_count": 40,
   "id": "77fe096a",
   "metadata": {},
   "outputs": [],
   "source": [
    "# Optimizer = Adam ==> Stochastic Gradient Descent\n",
    "nn.compile(optimizer = 'adam',\n",
    "           loss = 'sparse_categorical_crossentropy',\n",
    "           metrics = ['accuracy'])"
   ]
  },
  {
   "cell_type": "markdown",
   "id": "222212f3",
   "metadata": {},
   "source": [
    "### 6.2. Training the ANN on the Training set"
   ]
  },
  {
   "cell_type": "code",
   "execution_count": 41,
   "id": "dbfe4f24",
   "metadata": {},
   "outputs": [
    {
     "name": "stdout",
     "output_type": "stream",
     "text": [
      "Epoch 1/20\n",
      "238/238 [==============================] - 2s 5ms/step - loss: 0.2556 - accuracy: 0.9170\n",
      "Epoch 2/20\n",
      "238/238 [==============================] - 1s 4ms/step - loss: 0.0637 - accuracy: 0.9792\n",
      "Epoch 3/20\n",
      "238/238 [==============================] - 1s 4ms/step - loss: 0.0387 - accuracy: 0.9870\n",
      "Epoch 4/20\n",
      "238/238 [==============================] - 1s 4ms/step - loss: 0.0235 - accuracy: 0.9922\n",
      "Epoch 5/20\n",
      "238/238 [==============================] - 1s 4ms/step - loss: 0.0159 - accuracy: 0.9960\n",
      "Epoch 6/20\n",
      "238/238 [==============================] - 1s 4ms/step - loss: 0.0122 - accuracy: 0.9974\n",
      "Epoch 7/20\n",
      "238/238 [==============================] - 1s 5ms/step - loss: 0.0105 - accuracy: 0.9967\n",
      "Epoch 8/20\n",
      "238/238 [==============================] - 1s 4ms/step - loss: 0.0047 - accuracy: 0.9991\n",
      "Epoch 9/20\n",
      "238/238 [==============================] - 1s 4ms/step - loss: 0.0109 - accuracy: 0.9962\n",
      "Epoch 10/20\n",
      "238/238 [==============================] - 1s 4ms/step - loss: 0.0027 - accuracy: 0.9995\n",
      "Epoch 11/20\n",
      "238/238 [==============================] - 1s 4ms/step - loss: 0.0014 - accuracy: 0.9999\n",
      "Epoch 12/20\n",
      "238/238 [==============================] - 1s 4ms/step - loss: 6.9143e-04 - accuracy: 1.0000\n",
      "Epoch 13/20\n",
      "238/238 [==============================] - 1s 4ms/step - loss: 5.2581e-04 - accuracy: 1.0000\n",
      "Epoch 14/20\n",
      "238/238 [==============================] - 1s 5ms/step - loss: 0.0015 - accuracy: 0.9993\n",
      "Epoch 15/20\n",
      "238/238 [==============================] - 1s 5ms/step - loss: 3.0527e-04 - accuracy: 1.0000\n",
      "Epoch 16/20\n",
      "238/238 [==============================] - 1s 5ms/step - loss: 2.1112e-04 - accuracy: 1.0000\n",
      "Epoch 17/20\n",
      "238/238 [==============================] - 1s 4ms/step - loss: 1.7524e-04 - accuracy: 1.0000\n",
      "Epoch 18/20\n",
      "238/238 [==============================] - 1s 4ms/step - loss: 1.4323e-04 - accuracy: 1.0000\n",
      "Epoch 19/20\n",
      "238/238 [==============================] - 1s 4ms/step - loss: 1.2143e-04 - accuracy: 1.0000\n",
      "Epoch 20/20\n",
      "238/238 [==============================] - 1s 5ms/step - loss: 1.0302e-04 - accuracy: 1.0000\n"
     ]
    },
    {
     "data": {
      "text/plain": [
       "<keras.callbacks.History at 0x1b4461b0580>"
      ]
     },
     "execution_count": 41,
     "metadata": {},
     "output_type": "execute_result"
    }
   ],
   "source": [
    "nn.fit(X_train, y_train, batch_size=32, epochs=20)"
   ]
  },
  {
   "cell_type": "markdown",
   "id": "b0762c6a",
   "metadata": {},
   "source": [
    "## 7. Making predictions and evaluating the model"
   ]
  },
  {
   "cell_type": "markdown",
   "id": "29c9926a",
   "metadata": {},
   "source": [
    "### 7.1. Predicting the Test set results"
   ]
  },
  {
   "cell_type": "code",
   "execution_count": 42,
   "id": "256c77d6",
   "metadata": {},
   "outputs": [
    {
     "name": "stdout",
     "output_type": "stream",
     "text": [
      "60/60 [==============================] - 0s 2ms/step\n"
     ]
    }
   ],
   "source": [
    "y_pred = nn.predict(X_test)"
   ]
  },
  {
   "cell_type": "code",
   "execution_count": 43,
   "id": "7e2f5db8",
   "metadata": {},
   "outputs": [
    {
     "data": {
      "text/plain": [
       "array([[1.9324547e-14, 1.7435228e-16, 1.0533860e-11, 1.0000000e+00,\n",
       "        7.9445348e-09],\n",
       "       [3.8597559e-11, 1.5383957e-13, 1.3756307e-13, 4.9796736e-06,\n",
       "        9.9999499e-01],\n",
       "       [7.7765190e-16, 1.6892710e-20, 2.7635845e-16, 1.0000000e+00,\n",
       "        6.5185851e-10],\n",
       "       ...,\n",
       "       [5.9375317e-12, 1.9889519e-13, 1.9341524e-09, 1.0000000e+00,\n",
       "        2.3968678e-11],\n",
       "       [1.0000000e+00, 1.0857644e-09, 2.0345569e-14, 7.3603970e-13,\n",
       "        5.7928751e-10],\n",
       "       [4.9696822e-14, 3.2580236e-17, 2.1481585e-10, 1.0000000e+00,\n",
       "        1.8317381e-10]], dtype=float32)"
      ]
     },
     "execution_count": 43,
     "metadata": {},
     "output_type": "execute_result"
    }
   ],
   "source": [
    "y_pred"
   ]
  },
  {
   "cell_type": "code",
   "execution_count": 44,
   "id": "4781b4ee",
   "metadata": {},
   "outputs": [
    {
     "data": {
      "text/plain": [
       "(1899, 5)"
      ]
     },
     "execution_count": 44,
     "metadata": {},
     "output_type": "execute_result"
    }
   ],
   "source": [
    "y_pred.shape"
   ]
  },
  {
   "cell_type": "markdown",
   "id": "b4b5b2e4",
   "metadata": {},
   "source": [
    "#### 7.1.1. Transforming the encoded data back to floor number"
   ]
  },
  {
   "cell_type": "code",
   "execution_count": 45,
   "id": "10c0b8ee",
   "metadata": {},
   "outputs": [],
   "source": [
    "# we transform  the (1899, 5) floor array back to single value (the number of the floor)\n",
    "\n",
    "# floor_pred = []\n",
    "# floors = [i for i in range(5)]\n",
    "# for arr in y_pred:\n",
    "#     max_val = max(arr)\n",
    "#     index_max = np.where(arr == max_val)\n",
    "#     floor_pred.append(floors[index_max[0][0]])\n",
    "# floor_pred = np.array(floor_pred)\n",
    "\n",
    "floor_pred = tf.argmax(y_pred, axis=1)\n",
    "floor_pred = tf.keras.backend.eval(floor_pred)"
   ]
  },
  {
   "cell_type": "code",
   "execution_count": 46,
   "id": "7320dce8",
   "metadata": {},
   "outputs": [
    {
     "data": {
      "text/plain": [
       "array([3, 4, 3, ..., 3, 0, 3], dtype=int64)"
      ]
     },
     "execution_count": 46,
     "metadata": {},
     "output_type": "execute_result"
    }
   ],
   "source": [
    "floor_pred"
   ]
  },
  {
   "cell_type": "code",
   "execution_count": 47,
   "id": "515a5ff3",
   "metadata": {},
   "outputs": [
    {
     "data": {
      "text/plain": [
       "array([3, 4, 3, ..., 3, 0, 3], dtype=int64)"
      ]
     },
     "execution_count": 47,
     "metadata": {},
     "output_type": "execute_result"
    }
   ],
   "source": [
    "y_test"
   ]
  },
  {
   "cell_type": "markdown",
   "id": "ac60d17f",
   "metadata": {},
   "source": [
    "### 7.2. Making the confusion matrix and calculating Accuracy "
   ]
  },
  {
   "cell_type": "code",
   "execution_count": 48,
   "id": "70724f62",
   "metadata": {},
   "outputs": [
    {
     "name": "stdout",
     "output_type": "stream",
     "text": [
      "[[402   4   0   0   0]\n",
      " [  5 410   3   0   0]\n",
      " [  1  12 282   5   0]\n",
      " [  0   0   3 558   0]\n",
      " [  0   0   0   2 212]]\n",
      "Accuracy:  0.9815692469720906\n"
     ]
    }
   ],
   "source": [
    "cm = confusion_matrix(y_test, floor_pred)\n",
    "print(cm)\n",
    "accuracy = accuracy_score(y_test, floor_pred)\n",
    "print('Accuracy: ', accuracy)"
   ]
  },
  {
   "cell_type": "code",
   "execution_count": 49,
   "id": "c399bafb",
   "metadata": {},
   "outputs": [
    {
     "name": "stdout",
     "output_type": "stream",
     "text": [
      "              precision    recall  f1-score   support\n",
      "\n",
      "           0       0.99      0.99      0.99       406\n",
      "           1       0.96      0.98      0.97       418\n",
      "           2       0.98      0.94      0.96       300\n",
      "           3       0.99      0.99      0.99       561\n",
      "           4       1.00      0.99      1.00       214\n",
      "\n",
      "    accuracy                           0.98      1899\n",
      "   macro avg       0.98      0.98      0.98      1899\n",
      "weighted avg       0.98      0.98      0.98      1899\n",
      "\n"
     ]
    }
   ],
   "source": [
    "print(classification_report(y_test, floor_pred))"
   ]
  },
  {
   "cell_type": "markdown",
   "id": "17e0cfdb",
   "metadata": {},
   "source": [
    "### 7.3. Predicting with the Validation set"
   ]
  },
  {
   "cell_type": "code",
   "execution_count": 50,
   "id": "24a77fa4",
   "metadata": {},
   "outputs": [],
   "source": [
    "X_valid = validation_dataset_ujloc.iloc[:, :520].values\n",
    "y_valid = validation_dataset_ujloc['FLOOR'].values"
   ]
  },
  {
   "cell_type": "code",
   "execution_count": 51,
   "id": "1b667bfa",
   "metadata": {},
   "outputs": [],
   "source": [
    "X_valid = sc.fit_transform(X_valid)"
   ]
  },
  {
   "cell_type": "code",
   "execution_count": 52,
   "id": "043971f9",
   "metadata": {},
   "outputs": [
    {
     "name": "stdout",
     "output_type": "stream",
     "text": [
      "9/9 [==============================] - 0s 2ms/step\n"
     ]
    },
    {
     "data": {
      "text/plain": [
       "array([[2.5550360e-08, 1.5716163e-15, 1.6112524e-13, 4.1808191e-01,\n",
       "        5.8191806e-01],\n",
       "       [2.2247174e-10, 3.6091488e-19, 6.8445924e-21, 8.4734908e-10,\n",
       "        1.0000000e+00],\n",
       "       [5.6785360e-13, 1.6776475e-20, 2.3101403e-20, 7.5327133e-10,\n",
       "        1.0000000e+00],\n",
       "       ...,\n",
       "       [4.3560163e-07, 1.1976178e-09, 4.3248883e-07, 9.9999917e-01,\n",
       "        5.2824877e-08],\n",
       "       [1.3465351e-08, 2.1307991e-10, 2.9984504e-10, 1.0000000e+00,\n",
       "        1.8344357e-08],\n",
       "       [2.6688355e-07, 1.8560086e-06, 9.8483929e-07, 9.9999642e-01,\n",
       "        3.8939910e-07]], dtype=float32)"
      ]
     },
     "execution_count": 52,
     "metadata": {},
     "output_type": "execute_result"
    }
   ],
   "source": [
    "y_pred_valid = nn.predict(X_valid)\n",
    "y_pred_valid"
   ]
  },
  {
   "cell_type": "code",
   "execution_count": 53,
   "id": "90b1b9c3",
   "metadata": {},
   "outputs": [
    {
     "data": {
      "text/plain": [
       "(268, 5)"
      ]
     },
     "execution_count": 53,
     "metadata": {},
     "output_type": "execute_result"
    }
   ],
   "source": [
    "y_pred_valid.shape"
   ]
  },
  {
   "cell_type": "code",
   "execution_count": 54,
   "id": "3791292c",
   "metadata": {},
   "outputs": [],
   "source": [
    "floor_pred_valid = tf.argmax(y_pred_valid, axis=1)\n",
    "floor_pred_valid = tf.keras.backend.eval(floor_pred_valid)"
   ]
  },
  {
   "cell_type": "code",
   "execution_count": 55,
   "id": "fbcbaddb",
   "metadata": {},
   "outputs": [
    {
     "data": {
      "text/plain": [
       "array([4, 4, 4, 2, 3, 3, 3, 0, 3, 0, 0, 3, 0, 1, 4, 0, 1, 4, 4, 1, 1, 3,\n",
       "       3, 3, 1, 1, 1, 1, 1, 1, 1, 1, 1, 1, 1, 1, 1, 1, 2, 1, 2, 0, 3, 2,\n",
       "       2, 2, 2, 1, 3, 1, 1, 4, 1, 3, 3, 1, 1, 3, 4, 1, 1, 1, 1, 1, 3, 2,\n",
       "       1, 1, 4, 1, 3, 1, 4, 4, 2, 1, 1, 1, 1, 3, 4, 1, 1, 1, 1, 1, 2, 1,\n",
       "       1, 3, 1, 1, 1, 3, 1, 1, 1, 4, 1, 3, 1, 1, 1, 4, 3, 1, 1, 4, 3, 1,\n",
       "       0, 4, 1, 1, 2, 1, 3, 0, 4, 3, 2, 1, 4, 2, 1, 2, 0, 3, 2, 2, 1, 3,\n",
       "       2, 1, 2, 2, 2, 2, 0, 1, 1, 2, 2, 3, 1, 4, 1, 2, 2, 2, 0, 3, 2, 2,\n",
       "       2, 0, 3, 2, 2, 4, 1, 1, 3, 1, 2, 4, 1, 2, 3, 4, 3, 2, 0, 2, 3, 3,\n",
       "       3, 2, 0, 1, 2, 2, 3, 1, 1, 2, 2, 3, 1, 0, 2, 4, 4, 2, 1, 4, 1, 4,\n",
       "       2, 0, 4, 1, 1, 1, 1, 4, 0, 0, 1, 4, 1, 1, 0, 0, 1, 0, 1, 0, 0, 1,\n",
       "       1, 0, 1, 1, 1, 0, 0, 0, 1, 1, 1, 1, 1, 1, 1, 1, 1, 1, 3, 4, 4, 4,\n",
       "       3, 3, 3, 3, 3, 3, 3, 3, 3, 3, 3, 3, 3, 3, 3, 3, 3, 3, 3, 3, 3, 3,\n",
       "       3, 3, 3, 3], dtype=int64)"
      ]
     },
     "execution_count": 55,
     "metadata": {},
     "output_type": "execute_result"
    }
   ],
   "source": [
    "floor_pred_valid"
   ]
  },
  {
   "cell_type": "code",
   "execution_count": 56,
   "id": "f475a596",
   "metadata": {},
   "outputs": [
    {
     "name": "stdout",
     "output_type": "stream",
     "text": [
      "[[22  2  0  0  0]\n",
      " [ 5 98  7  1  0]\n",
      " [ 0  2 36 15  1]\n",
      " [ 0  0  0 37  3]\n",
      " [ 0  1  0 10 28]]\n",
      "Accuracy:  0.8246268656716418\n"
     ]
    }
   ],
   "source": [
    "cm = confusion_matrix(y_valid, floor_pred_valid)\n",
    "print(cm)\n",
    "accuracy = accuracy_score(y_valid, floor_pred_valid)\n",
    "print('Accuracy: ', accuracy)"
   ]
  },
  {
   "cell_type": "code",
   "execution_count": 57,
   "id": "efd80248",
   "metadata": {},
   "outputs": [
    {
     "name": "stdout",
     "output_type": "stream",
     "text": [
      "              precision    recall  f1-score   support\n",
      "\n",
      "           0       0.81      0.92      0.86        24\n",
      "           1       0.95      0.88      0.92       111\n",
      "           2       0.84      0.67      0.74        54\n",
      "           3       0.59      0.93      0.72        40\n",
      "           4       0.88      0.72      0.79        39\n",
      "\n",
      "    accuracy                           0.82       268\n",
      "   macro avg       0.81      0.82      0.81       268\n",
      "weighted avg       0.85      0.82      0.83       268\n",
      "\n"
     ]
    }
   ],
   "source": [
    "print(classification_report(y_valid, floor_pred_valid))"
   ]
  },
  {
   "cell_type": "markdown",
   "id": "2e4aa1a1",
   "metadata": {},
   "source": [
    "## 8. Building the KNN regressor"
   ]
  },
  {
   "cell_type": "markdown",
   "id": "9d9b79f3",
   "metadata": {},
   "source": [
    "### 8.1. Creating the second training dataset"
   ]
  },
  {
   "cell_type": "markdown",
   "id": "facb803c",
   "metadata": {},
   "source": [
    "#### 8.1.1. Selecting the cluster to which out values correspond to (the Floor)"
   ]
  },
  {
   "cell_type": "code",
   "execution_count": 58,
   "id": "b5e0ca19",
   "metadata": {},
   "outputs": [],
   "source": [
    "floor = 3\n",
    "# floor = floor_pred_valid[0] # TODO: verify how can we change this so it gets the floor by default\n",
    "mask = dataset_ujloc['FLOOR'] == floor"
   ]
  },
  {
   "cell_type": "code",
   "execution_count": 59,
   "id": "ff2b892f",
   "metadata": {},
   "outputs": [],
   "source": [
    "df_ap = dataset_ujloc.iloc[:, :520][mask]\n",
    "df_floor = dataset_ujloc['FLOOR'][mask]"
   ]
  },
  {
   "cell_type": "code",
   "execution_count": 60,
   "id": "8211efb5",
   "metadata": {},
   "outputs": [],
   "source": [
    "X_step_2 = pd.concat([df_ap, df_floor], axis=1).values\n",
    "y_step_2 = dataset_ujloc[['LONGITUDE', 'LATITUDE']][mask].values"
   ]
  },
  {
   "cell_type": "code",
   "execution_count": 61,
   "id": "d0875fde",
   "metadata": {},
   "outputs": [
    {
     "data": {
      "text/plain": [
       "array([[100, 100, 100, ..., 100, 100,   3],\n",
       "       [100, 100, 100, ..., 100, 100,   3],\n",
       "       [100, 100, 100, ..., 100, 100,   3],\n",
       "       ...,\n",
       "       [100, 100, 100, ..., 100, 100,   3],\n",
       "       [100, 100, 100, ..., 100, 100,   3],\n",
       "       [100, 100, 100, ..., 100, 100,   3]], dtype=int64)"
      ]
     },
     "execution_count": 61,
     "metadata": {},
     "output_type": "execute_result"
    }
   ],
   "source": [
    "X_step_2"
   ]
  },
  {
   "cell_type": "code",
   "execution_count": 62,
   "id": "375bf7cf",
   "metadata": {},
   "outputs": [
    {
     "data": {
      "text/plain": [
       "array([[  -7331.748     , 4864767.318     ],\n",
       "       [  -7331.4005    , 4864768.4786    ],\n",
       "       [  -7327.49216509, 4864766.66853056],\n",
       "       ...,\n",
       "       [  -7373.0528    , 4864844.8865    ],\n",
       "       [  -7390.4354    , 4864835.897     ],\n",
       "       [  -7394.57782488, 4864836.92470566]])"
      ]
     },
     "execution_count": 62,
     "metadata": {},
     "output_type": "execute_result"
    }
   ],
   "source": [
    "y_step_2"
   ]
  },
  {
   "cell_type": "markdown",
   "id": "7c2ed717",
   "metadata": {},
   "source": [
    "### 8.3. Splitting the data in Train and Test"
   ]
  },
  {
   "cell_type": "code",
   "execution_count": 63,
   "id": "d69d6964",
   "metadata": {},
   "outputs": [],
   "source": [
    "X_train_step_2, X_test_step_2, y_train_step_2, y_test_step_2 = train_test_split(X_step_2,\n",
    "                                                                                y_step_2, \n",
    "                                                                                test_size = 0.2, \n",
    "                                                                                random_state = 0)"
   ]
  },
  {
   "cell_type": "code",
   "execution_count": 64,
   "id": "f68b4c4e",
   "metadata": {},
   "outputs": [
    {
     "data": {
      "text/plain": [
       "array([[100, 100, 100, ..., 100, 100,   3],\n",
       "       [100, 100, 100, ..., 100, 100,   3],\n",
       "       [100, 100, 100, ..., 100, 100,   3],\n",
       "       ...,\n",
       "       [100, 100, 100, ..., 100, 100,   3],\n",
       "       [100, 100, 100, ..., 100, 100,   3],\n",
       "       [100, 100, 100, ..., 100, 100,   3]], dtype=int64)"
      ]
     },
     "execution_count": 64,
     "metadata": {},
     "output_type": "execute_result"
    }
   ],
   "source": [
    "X_train_step_2"
   ]
  },
  {
   "cell_type": "code",
   "execution_count": 65,
   "id": "084d5a50",
   "metadata": {},
   "outputs": [
    {
     "data": {
      "text/plain": [
       "2167"
      ]
     },
     "execution_count": 65,
     "metadata": {},
     "output_type": "execute_result"
    }
   ],
   "source": [
    "len(X_train_step_2)"
   ]
  },
  {
   "cell_type": "markdown",
   "id": "3ad923b1",
   "metadata": {},
   "source": [
    "### 8.4. Building the model"
   ]
  },
  {
   "cell_type": "code",
   "execution_count": 66,
   "id": "73f1d7e1",
   "metadata": {},
   "outputs": [
    {
     "data": {
      "text/html": [
       "<style>#sk-container-id-1 {color: black;background-color: white;}#sk-container-id-1 pre{padding: 0;}#sk-container-id-1 div.sk-toggleable {background-color: white;}#sk-container-id-1 label.sk-toggleable__label {cursor: pointer;display: block;width: 100%;margin-bottom: 0;padding: 0.3em;box-sizing: border-box;text-align: center;}#sk-container-id-1 label.sk-toggleable__label-arrow:before {content: \"▸\";float: left;margin-right: 0.25em;color: #696969;}#sk-container-id-1 label.sk-toggleable__label-arrow:hover:before {color: black;}#sk-container-id-1 div.sk-estimator:hover label.sk-toggleable__label-arrow:before {color: black;}#sk-container-id-1 div.sk-toggleable__content {max-height: 0;max-width: 0;overflow: hidden;text-align: left;background-color: #f0f8ff;}#sk-container-id-1 div.sk-toggleable__content pre {margin: 0.2em;color: black;border-radius: 0.25em;background-color: #f0f8ff;}#sk-container-id-1 input.sk-toggleable__control:checked~div.sk-toggleable__content {max-height: 200px;max-width: 100%;overflow: auto;}#sk-container-id-1 input.sk-toggleable__control:checked~label.sk-toggleable__label-arrow:before {content: \"▾\";}#sk-container-id-1 div.sk-estimator input.sk-toggleable__control:checked~label.sk-toggleable__label {background-color: #d4ebff;}#sk-container-id-1 div.sk-label input.sk-toggleable__control:checked~label.sk-toggleable__label {background-color: #d4ebff;}#sk-container-id-1 input.sk-hidden--visually {border: 0;clip: rect(1px 1px 1px 1px);clip: rect(1px, 1px, 1px, 1px);height: 1px;margin: -1px;overflow: hidden;padding: 0;position: absolute;width: 1px;}#sk-container-id-1 div.sk-estimator {font-family: monospace;background-color: #f0f8ff;border: 1px dotted black;border-radius: 0.25em;box-sizing: border-box;margin-bottom: 0.5em;}#sk-container-id-1 div.sk-estimator:hover {background-color: #d4ebff;}#sk-container-id-1 div.sk-parallel-item::after {content: \"\";width: 100%;border-bottom: 1px solid gray;flex-grow: 1;}#sk-container-id-1 div.sk-label:hover label.sk-toggleable__label {background-color: #d4ebff;}#sk-container-id-1 div.sk-serial::before {content: \"\";position: absolute;border-left: 1px solid gray;box-sizing: border-box;top: 0;bottom: 0;left: 50%;z-index: 0;}#sk-container-id-1 div.sk-serial {display: flex;flex-direction: column;align-items: center;background-color: white;padding-right: 0.2em;padding-left: 0.2em;position: relative;}#sk-container-id-1 div.sk-item {position: relative;z-index: 1;}#sk-container-id-1 div.sk-parallel {display: flex;align-items: stretch;justify-content: center;background-color: white;position: relative;}#sk-container-id-1 div.sk-item::before, #sk-container-id-1 div.sk-parallel-item::before {content: \"\";position: absolute;border-left: 1px solid gray;box-sizing: border-box;top: 0;bottom: 0;left: 50%;z-index: -1;}#sk-container-id-1 div.sk-parallel-item {display: flex;flex-direction: column;z-index: 1;position: relative;background-color: white;}#sk-container-id-1 div.sk-parallel-item:first-child::after {align-self: flex-end;width: 50%;}#sk-container-id-1 div.sk-parallel-item:last-child::after {align-self: flex-start;width: 50%;}#sk-container-id-1 div.sk-parallel-item:only-child::after {width: 0;}#sk-container-id-1 div.sk-dashed-wrapped {border: 1px dashed gray;margin: 0 0.4em 0.5em 0.4em;box-sizing: border-box;padding-bottom: 0.4em;background-color: white;}#sk-container-id-1 div.sk-label label {font-family: monospace;font-weight: bold;display: inline-block;line-height: 1.2em;}#sk-container-id-1 div.sk-label-container {text-align: center;}#sk-container-id-1 div.sk-container {/* jupyter's `normalize.less` sets `[hidden] { display: none; }` but bootstrap.min.css set `[hidden] { display: none !important; }` so we also need the `!important` here to be able to override the default hidden behavior on the sphinx rendered scikit-learn.org. See: https://github.com/scikit-learn/scikit-learn/issues/21755 */display: inline-block !important;position: relative;}#sk-container-id-1 div.sk-text-repr-fallback {display: none;}</style><div id=\"sk-container-id-1\" class=\"sk-top-container\"><div class=\"sk-text-repr-fallback\"><pre>KNeighborsRegressor(n_neighbors=3, weights=&#x27;distance&#x27;)</pre><b>In a Jupyter environment, please rerun this cell to show the HTML representation or trust the notebook. <br />On GitHub, the HTML representation is unable to render, please try loading this page with nbviewer.org.</b></div><div class=\"sk-container\" hidden><div class=\"sk-item\"><div class=\"sk-estimator sk-toggleable\"><input class=\"sk-toggleable__control sk-hidden--visually\" id=\"sk-estimator-id-1\" type=\"checkbox\" checked><label for=\"sk-estimator-id-1\" class=\"sk-toggleable__label sk-toggleable__label-arrow\">KNeighborsRegressor</label><div class=\"sk-toggleable__content\"><pre>KNeighborsRegressor(n_neighbors=3, weights=&#x27;distance&#x27;)</pre></div></div></div></div></div>"
      ],
      "text/plain": [
       "KNeighborsRegressor(n_neighbors=3, weights='distance')"
      ]
     },
     "execution_count": 66,
     "metadata": {},
     "output_type": "execute_result"
    }
   ],
   "source": [
    "knn_regressor = KNeighborsRegressor(n_neighbors=3, weights='distance')\n",
    "knn_regressor.fit(X_train_step_2, y_train_step_2)"
   ]
  },
  {
   "cell_type": "markdown",
   "id": "9e3b746f",
   "metadata": {},
   "source": [
    "### 8.5. Making predictions and evaluating the model"
   ]
  },
  {
   "cell_type": "code",
   "execution_count": 67,
   "id": "803eb6b9",
   "metadata": {
    "scrolled": true
   },
   "outputs": [
    {
     "data": {
      "text/plain": [
       "array([[  -7373.82773854, 4864852.32047202],\n",
       "       [  -7314.86429868, 4864809.96847438],\n",
       "       [  -7377.0397859 , 4864844.6256713 ],\n",
       "       ...,\n",
       "       [  -7391.3591    , 4864782.1517    ],\n",
       "       [  -7376.87215518, 4864852.89278434],\n",
       "       [  -7407.44802253, 4864789.43363006]])"
      ]
     },
     "execution_count": 67,
     "metadata": {},
     "output_type": "execute_result"
    }
   ],
   "source": [
    "y_pred_step_2 = knn_regressor.predict(X_test_step_2)\n",
    "y_pred_step_2"
   ]
  },
  {
   "cell_type": "code",
   "execution_count": 68,
   "id": "8ec09a03",
   "metadata": {},
   "outputs": [
    {
     "data": {
      "text/plain": [
       "(542, 2)"
      ]
     },
     "execution_count": 68,
     "metadata": {},
     "output_type": "execute_result"
    }
   ],
   "source": [
    "y_pred_step_2.shape"
   ]
  },
  {
   "cell_type": "code",
   "execution_count": 69,
   "id": "8f018bb5",
   "metadata": {},
   "outputs": [
    {
     "data": {
      "text/plain": [
       "(542, 2)"
      ]
     },
     "execution_count": 69,
     "metadata": {},
     "output_type": "execute_result"
    }
   ],
   "source": [
    "y_test_step_2.shape"
   ]
  },
  {
   "cell_type": "code",
   "execution_count": 70,
   "id": "a2ea2d3d",
   "metadata": {},
   "outputs": [
    {
     "name": "stdout",
     "output_type": "stream",
     "text": [
      "11.974727667219259\n"
     ]
    }
   ],
   "source": [
    "print(mean_squared_error(y_test_step_2, y_pred_step_2))"
   ]
  },
  {
   "cell_type": "code",
   "execution_count": 71,
   "id": "f14135ee",
   "metadata": {},
   "outputs": [
    {
     "name": "stdout",
     "output_type": "stream",
     "text": [
      "[11.76600217 12.18345316]\n"
     ]
    }
   ],
   "source": [
    "print(mean_squared_error(y_test_step_2, y_pred_step_2, multioutput='raw_values'))"
   ]
  },
  {
   "cell_type": "code",
   "execution_count": 72,
   "id": "395ecea2",
   "metadata": {},
   "outputs": [
    {
     "data": {
      "text/plain": [
       "0    2.838891\n",
       "dtype: float64"
      ]
     },
     "execution_count": 72,
     "metadata": {},
     "output_type": "execute_result"
    }
   ],
   "source": [
    "y_pred_step_2 = pd.DataFrame(y_pred_step_2, columns=['long1', 'lat1'])\n",
    "y_test_step_2 = pd.DataFrame(y_test_step_2, columns=['long2', 'lat2'])\n",
    "# alculating the Euclidian distance between points\n",
    "distance_df = pd.DataFrame((y_test_step_2['lat2']-y_pred_step_2['lat1'])**2 + \n",
    "                           (y_test_step_2['long2']-y_pred_step_2['long1'])**2)**(1/2)\n",
    "sum_dist = distance_df.sum()\n",
    "mean_error = sum_dist/len(distance_df)\n",
    "mean_error"
   ]
  },
  {
   "cell_type": "code",
   "execution_count": 73,
   "id": "37e90053",
   "metadata": {},
   "outputs": [],
   "source": [
    "# from math import sin, cos, sqrt, atan2, radians\n",
    "\n",
    "# # Approximate radius of earth in km\n",
    "# R = 6373.0\n",
    "\n",
    "# def calc_dist(lat1, lon1, lat2, lon2):\n",
    "#     lat1 = radians(lat1)\n",
    "#     lon1 = radians(lon1)\n",
    "#     lat2 = radians(lat2)\n",
    "#     lon2 = radians(lon2)\n",
    "\n",
    "#     dlon = lon2 - lon1\n",
    "#     dlat = lat2 - lat1\n",
    "\n",
    "#     a = sin(dlat / 2)**2 + cos(lat1) * cos(lat2) * sin(dlon / 2)**2\n",
    "#     c = 2 * atan2(sqrt(a), sqrt(1 - a))\n",
    "\n",
    "#     distance = R * c\n",
    "#     return distance\n",
    "\n",
    "# print(\"Result: \", distance)\n",
    "# print(\"Should be: \", 278.546, \"km\")"
   ]
  },
  {
   "cell_type": "code",
   "execution_count": 74,
   "id": "08436942",
   "metadata": {
    "scrolled": false
   },
   "outputs": [
    {
     "data": {
      "text/html": [
       "<div>\n",
       "<style scoped>\n",
       "    .dataframe tbody tr th:only-of-type {\n",
       "        vertical-align: middle;\n",
       "    }\n",
       "\n",
       "    .dataframe tbody tr th {\n",
       "        vertical-align: top;\n",
       "    }\n",
       "\n",
       "    .dataframe thead th {\n",
       "        text-align: right;\n",
       "    }\n",
       "</style>\n",
       "<table border=\"1\" class=\"dataframe\">\n",
       "  <thead>\n",
       "    <tr style=\"text-align: right;\">\n",
       "      <th></th>\n",
       "      <th>long1</th>\n",
       "      <th>lat1</th>\n",
       "      <th>long2</th>\n",
       "      <th>lat2</th>\n",
       "    </tr>\n",
       "  </thead>\n",
       "  <tbody>\n",
       "    <tr>\n",
       "      <th>0</th>\n",
       "      <td>-7373.827739</td>\n",
       "      <td>4.864852e+06</td>\n",
       "      <td>-7380.934600</td>\n",
       "      <td>4.864847e+06</td>\n",
       "    </tr>\n",
       "    <tr>\n",
       "      <th>1</th>\n",
       "      <td>-7314.864299</td>\n",
       "      <td>4.864810e+06</td>\n",
       "      <td>-7312.662200</td>\n",
       "      <td>4.864808e+06</td>\n",
       "    </tr>\n",
       "    <tr>\n",
       "      <th>2</th>\n",
       "      <td>-7377.039786</td>\n",
       "      <td>4.864845e+06</td>\n",
       "      <td>-7374.347500</td>\n",
       "      <td>4.864846e+06</td>\n",
       "    </tr>\n",
       "    <tr>\n",
       "      <th>3</th>\n",
       "      <td>-7386.709566</td>\n",
       "      <td>4.864847e+06</td>\n",
       "      <td>-7388.263861</td>\n",
       "      <td>4.864840e+06</td>\n",
       "    </tr>\n",
       "    <tr>\n",
       "      <th>4</th>\n",
       "      <td>-7344.496730</td>\n",
       "      <td>4.864750e+06</td>\n",
       "      <td>-7344.968400</td>\n",
       "      <td>4.864750e+06</td>\n",
       "    </tr>\n",
       "    <tr>\n",
       "      <th>...</th>\n",
       "      <td>...</td>\n",
       "      <td>...</td>\n",
       "      <td>...</td>\n",
       "      <td>...</td>\n",
       "    </tr>\n",
       "    <tr>\n",
       "      <th>537</th>\n",
       "      <td>-7336.299000</td>\n",
       "      <td>4.864829e+06</td>\n",
       "      <td>-7336.299000</td>\n",
       "      <td>4.864829e+06</td>\n",
       "    </tr>\n",
       "    <tr>\n",
       "      <th>538</th>\n",
       "      <td>-7325.052900</td>\n",
       "      <td>4.864819e+06</td>\n",
       "      <td>-7325.052900</td>\n",
       "      <td>4.864819e+06</td>\n",
       "    </tr>\n",
       "    <tr>\n",
       "      <th>539</th>\n",
       "      <td>-7391.359100</td>\n",
       "      <td>4.864782e+06</td>\n",
       "      <td>-7391.359100</td>\n",
       "      <td>4.864782e+06</td>\n",
       "    </tr>\n",
       "    <tr>\n",
       "      <th>540</th>\n",
       "      <td>-7376.872155</td>\n",
       "      <td>4.864853e+06</td>\n",
       "      <td>-7381.754700</td>\n",
       "      <td>4.864846e+06</td>\n",
       "    </tr>\n",
       "    <tr>\n",
       "      <th>541</th>\n",
       "      <td>-7407.448023</td>\n",
       "      <td>4.864789e+06</td>\n",
       "      <td>-7405.100900</td>\n",
       "      <td>4.864790e+06</td>\n",
       "    </tr>\n",
       "  </tbody>\n",
       "</table>\n",
       "<p>542 rows × 4 columns</p>\n",
       "</div>"
      ],
      "text/plain": [
       "           long1          lat1        long2          lat2\n",
       "0   -7373.827739  4.864852e+06 -7380.934600  4.864847e+06\n",
       "1   -7314.864299  4.864810e+06 -7312.662200  4.864808e+06\n",
       "2   -7377.039786  4.864845e+06 -7374.347500  4.864846e+06\n",
       "3   -7386.709566  4.864847e+06 -7388.263861  4.864840e+06\n",
       "4   -7344.496730  4.864750e+06 -7344.968400  4.864750e+06\n",
       "..           ...           ...          ...           ...\n",
       "537 -7336.299000  4.864829e+06 -7336.299000  4.864829e+06\n",
       "538 -7325.052900  4.864819e+06 -7325.052900  4.864819e+06\n",
       "539 -7391.359100  4.864782e+06 -7391.359100  4.864782e+06\n",
       "540 -7376.872155  4.864853e+06 -7381.754700  4.864846e+06\n",
       "541 -7407.448023  4.864789e+06 -7405.100900  4.864790e+06\n",
       "\n",
       "[542 rows x 4 columns]"
      ]
     },
     "execution_count": 74,
     "metadata": {},
     "output_type": "execute_result"
    }
   ],
   "source": [
    "df_final = pd.DataFrame()\n",
    "df_final = pd.concat([y_pred_step_2, y_test_step_2], axis=1)\n",
    "df_final"
   ]
  },
  {
   "cell_type": "code",
   "execution_count": 75,
   "id": "10067bbe",
   "metadata": {},
   "outputs": [],
   "source": [
    "# earth_radius=6371\n",
    "\n",
    "# df_final['long1'] = np.radians(df_final['long1'])\n",
    "# df_final['long2'] = np.radians(df_final['long2'])\n",
    "# df_final['lat1'] = np.radians(df_final['lat1'])\n",
    "# df_final['lat2'] = np.radians(df_final['lat2'])\n",
    "\n",
    "\n",
    "# df_final['a'] = np.sin((df_final['lat2']-df_final['lat1'])/2.0)**2 + \\\n",
    "#     np.cos(df_final['lat1']) * np.cos(df_final['lat2']) * np.sin((df_final['long2']-df_final['long1'])/2.0)**2\n",
    "\n",
    "# df_final['DISTANCE'] = earth_radius * 2 * np.arcsin(np.sqrt(df_final['a']))\n",
    "# dist_km = df_final['DISTANCE'].sum().mean()\n",
    "# dist_m = dist_km\n",
    "# dist_m"
   ]
  },
  {
   "cell_type": "code",
   "execution_count": 76,
   "id": "a53105fa",
   "metadata": {},
   "outputs": [
    {
     "data": {
      "text/plain": [
       "<matplotlib.collections.PathCollection at 0x1b4464fc9a0>"
      ]
     },
     "execution_count": 76,
     "metadata": {},
     "output_type": "execute_result"
    },
    {
     "data": {
      "image/png": "[encoded data removed]",
      "text/plain": [
       "<Figure size 1080x1080 with 1 Axes>"
      ]
     },
     "metadata": {
      "needs_background": "light"
     },
     "output_type": "display_data"
    }
   ],
   "source": [
    "plt.figure(figsize=(15,15))\n",
    "plt.scatter(df_final['lat1'], df_final['long1'], color='red')\n",
    "plt.scatter(df_final['lat2'], df_final['long2'], color='green', alpha=0.4)"
   ]
  },
  {
   "cell_type": "code",
   "execution_count": null,
   "id": "ca9590bd",
   "metadata": {},
   "outputs": [],
   "source": []
  },
  {
   "cell_type": "code",
   "execution_count": null,
   "id": "09288e9d",
   "metadata": {},
   "outputs": [],
   "source": []
  }
 ],
 "metadata": {
  "kernelspec": {
   "display_name": "Python 3 (ipykernel)",
   "language": "python",
   "name": "python3"
  },
  "language_info": {
   "codemirror_mode": {
    "name": "ipython",
    "version": 3
   },
   "file_extension": ".py",
   "mimetype": "text/x-python",
   "name": "python",
   "nbconvert_exporter": "python",
   "pygments_lexer": "ipython3",
   "version": "3.9.2"
  }
 },
 "nbformat": 4,
 "nbformat_minor": 5
}
