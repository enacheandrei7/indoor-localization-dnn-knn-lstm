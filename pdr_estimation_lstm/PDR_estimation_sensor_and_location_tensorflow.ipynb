{
 "cells": [
  {
   "cell_type": "code",
   "execution_count": 204,
   "id": "8eeeb381",
   "metadata": {},
   "outputs": [],
   "source": [
    "import numpy as np\n",
    "import matplotlib.pyplot as plt\n",
    "from IPython.display import clear_output\n",
    "import pandas as pd\n",
    "import utm\n",
    "\n",
    "from sklearn.preprocessing import MinMaxScaler\n",
    "from sklearn.decomposition import PCA\n",
    "from sklearn.metrics import r2_score, confusion_matrix, accuracy_score, mean_squared_error, classification_report\n",
    "\n",
    "import tensorflow as tf\n",
    "import keras\n",
    "from keras import optimizers\n",
    "from keras.models import Sequential\n",
    "from keras.layers import LSTM, Dropout, Dense, TimeDistributed, Input, Activation, concatenate\n",
    "from keras.callbacks import History\n",
    "from keras.models import Model\n",
    "\n",
    "# The values have around 15 decimals, so for more clarity in reading we're increasing the number of displayed values\n",
    "pd.set_option('display.float_format', '{:.15f}'.format)"
   ]
  },
  {
   "cell_type": "markdown",
   "id": "c3ea51bc",
   "metadata": {},
   "source": [
    "# 1. Importing the data"
   ]
  },
  {
   "cell_type": "code",
   "execution_count": 2,
   "id": "937b493b",
   "metadata": {},
   "outputs": [],
   "source": [
    "sensor_and_loc_file = '../data/Processed/full_sensor_data_and_location.csv'"
   ]
  },
  {
   "cell_type": "code",
   "execution_count": 92,
   "id": "a4a3b7dd",
   "metadata": {},
   "outputs": [
    {
     "data": {
      "text/html": [
       "<div>\n",
       "<style scoped>\n",
       "    .dataframe tbody tr th:only-of-type {\n",
       "        vertical-align: middle;\n",
       "    }\n",
       "\n",
       "    .dataframe tbody tr th {\n",
       "        vertical-align: top;\n",
       "    }\n",
       "\n",
       "    .dataframe thead th {\n",
       "        text-align: right;\n",
       "    }\n",
       "</style>\n",
       "<table border=\"1\" class=\"dataframe\">\n",
       "  <thead>\n",
       "    <tr style=\"text-align: right;\">\n",
       "      <th></th>\n",
       "      <th>ax</th>\n",
       "      <th>ay</th>\n",
       "      <th>az</th>\n",
       "      <th>gx</th>\n",
       "      <th>gy</th>\n",
       "      <th>gz</th>\n",
       "      <th>mx</th>\n",
       "      <th>my</th>\n",
       "      <th>mz</th>\n",
       "      <th>a_total</th>\n",
       "      <th>g_total</th>\n",
       "      <th>m_total</th>\n",
       "      <th>lat</th>\n",
       "      <th>long</th>\n",
       "    </tr>\n",
       "  </thead>\n",
       "  <tbody>\n",
       "    <tr>\n",
       "      <th>12:15:51:60</th>\n",
       "      <td>0.558120700000000</td>\n",
       "      <td>0.496215820000000</td>\n",
       "      <td>9.361587999999999</td>\n",
       "      <td>0.074188230000000</td>\n",
       "      <td>0.290191650000000</td>\n",
       "      <td>-0.387237550000000</td>\n",
       "      <td>52.349854000000001</td>\n",
       "      <td>-50.549315999999997</td>\n",
       "      <td>-260.850520000000017</td>\n",
       "      <td>9.391328912221676</td>\n",
       "      <td>0.489558992696751</td>\n",
       "      <td>270.811252251747476</td>\n",
       "      <td>44.434937499999997</td>\n",
       "      <td>26.047601499999999</td>\n",
       "    </tr>\n",
       "    <tr>\n",
       "      <th>12:15:51:61</th>\n",
       "      <td>0.412078860000000</td>\n",
       "      <td>0.443542480000000</td>\n",
       "      <td>9.409470000000001</td>\n",
       "      <td>0.032653810000000</td>\n",
       "      <td>0.321075440000000</td>\n",
       "      <td>-0.377655030000000</td>\n",
       "      <td>52.368546000000002</td>\n",
       "      <td>-50.530624000000003</td>\n",
       "      <td>-260.906787500000007</td>\n",
       "      <td>9.428927012090160</td>\n",
       "      <td>0.496768589146909</td>\n",
       "      <td>270.865587926351282</td>\n",
       "      <td>44.434937499999990</td>\n",
       "      <td>26.047601578717067</td>\n",
       "    </tr>\n",
       "    <tr>\n",
       "      <th>12:15:51:62</th>\n",
       "      <td>0.378555300000000</td>\n",
       "      <td>0.465087900000000</td>\n",
       "      <td>9.435805999999999</td>\n",
       "      <td>0.018798828000000</td>\n",
       "      <td>0.324279800000000</td>\n",
       "      <td>-0.366989140000000</td>\n",
       "      <td>52.387238000000004</td>\n",
       "      <td>-50.511932000000002</td>\n",
       "      <td>-260.963054999999997</td>\n",
       "      <td>9.454842449217251</td>\n",
       "      <td>0.490093678290338</td>\n",
       "      <td>270.919923600955030</td>\n",
       "      <td>44.434937499999990</td>\n",
       "      <td>26.047601657434136</td>\n",
       "    </tr>\n",
       "    <tr>\n",
       "      <th>12:15:51:63</th>\n",
       "      <td>0.468096920000000</td>\n",
       "      <td>0.524942020000000</td>\n",
       "      <td>9.467889200000000</td>\n",
       "      <td>0.034353637600000</td>\n",
       "      <td>0.316397106000000</td>\n",
       "      <td>-0.364859012000000</td>\n",
       "      <td>52.405929999999998</td>\n",
       "      <td>-50.493240000000000</td>\n",
       "      <td>-261.019322499999987</td>\n",
       "      <td>9.496275903028236</td>\n",
       "      <td>0.485338498843436</td>\n",
       "      <td>270.974259275558779</td>\n",
       "      <td>44.434937499999982</td>\n",
       "      <td>26.047601736151204</td>\n",
       "    </tr>\n",
       "    <tr>\n",
       "      <th>12:15:51:64</th>\n",
       "      <td>0.557638540000000</td>\n",
       "      <td>0.584796140000000</td>\n",
       "      <td>9.499972400000001</td>\n",
       "      <td>0.049908447200000</td>\n",
       "      <td>0.308514412000000</td>\n",
       "      <td>-0.362728884000000</td>\n",
       "      <td>52.424621999999999</td>\n",
       "      <td>-50.474547999999999</td>\n",
       "      <td>-261.075590000000034</td>\n",
       "      <td>9.537709356839221</td>\n",
       "      <td>0.480583319396533</td>\n",
       "      <td>271.028594950162585</td>\n",
       "      <td>44.434937499999982</td>\n",
       "      <td>26.047601814868269</td>\n",
       "    </tr>\n",
       "    <tr>\n",
       "      <th>...</th>\n",
       "      <td>...</td>\n",
       "      <td>...</td>\n",
       "      <td>...</td>\n",
       "      <td>...</td>\n",
       "      <td>...</td>\n",
       "      <td>...</td>\n",
       "      <td>...</td>\n",
       "      <td>...</td>\n",
       "      <td>...</td>\n",
       "      <td>...</td>\n",
       "      <td>...</td>\n",
       "      <td>...</td>\n",
       "      <td>...</td>\n",
       "      <td>...</td>\n",
       "    </tr>\n",
       "    <tr>\n",
       "      <th>19:09:27:16</th>\n",
       "      <td>1.302719100000000</td>\n",
       "      <td>0.520156860000000</td>\n",
       "      <td>7.142166000000000</td>\n",
       "      <td>-0.118621826000000</td>\n",
       "      <td>-0.505569460000000</td>\n",
       "      <td>0.092132570000000</td>\n",
       "      <td>22.650145999999999</td>\n",
       "      <td>-15.150451500000001</td>\n",
       "      <td>-262.875364999999988</td>\n",
       "      <td>7.278610814164050</td>\n",
       "      <td>0.527408785424618</td>\n",
       "      <td>264.286459212824525</td>\n",
       "      <td>44.434937499964583</td>\n",
       "      <td>26.047601919741037</td>\n",
       "    </tr>\n",
       "    <tr>\n",
       "      <th>19:09:27:17</th>\n",
       "      <td>2.049713100000000</td>\n",
       "      <td>0.280731200000000</td>\n",
       "      <td>8.202788999999999</td>\n",
       "      <td>-0.301849370000000</td>\n",
       "      <td>-0.332992550000000</td>\n",
       "      <td>0.140075680000000</td>\n",
       "      <td>23.100280000000001</td>\n",
       "      <td>-16.200256000000000</td>\n",
       "      <td>-262.800599999999974</td>\n",
       "      <td>8.459662001373697</td>\n",
       "      <td>0.470763503951147</td>\n",
       "      <td>264.310852200404213</td>\n",
       "      <td>44.434937499964576</td>\n",
       "      <td>26.047601814784940</td>\n",
       "    </tr>\n",
       "    <tr>\n",
       "      <th>19:09:27:18</th>\n",
       "      <td>2.140686000000000</td>\n",
       "      <td>0.043701172000000</td>\n",
       "      <td>9.170044000000001</td>\n",
       "      <td>-0.590530400000000</td>\n",
       "      <td>0.304031370000000</td>\n",
       "      <td>0.046325684000000</td>\n",
       "      <td>23.100280000000001</td>\n",
       "      <td>-13.949585000000001</td>\n",
       "      <td>-261.749270000000024</td>\n",
       "      <td>9.416695455676912</td>\n",
       "      <td>0.665813259304968</td>\n",
       "      <td>263.136645496752351</td>\n",
       "      <td>44.434937499964576</td>\n",
       "      <td>26.047601709828850</td>\n",
       "    </tr>\n",
       "    <tr>\n",
       "      <th>19:09:27:19</th>\n",
       "      <td>1.896484400000000</td>\n",
       "      <td>-0.226837160000000</td>\n",
       "      <td>9.799728000000000</td>\n",
       "      <td>-0.686401370000000</td>\n",
       "      <td>0.651306150000000</td>\n",
       "      <td>-0.067657470000000</td>\n",
       "      <td>24.050394333333333</td>\n",
       "      <td>-13.749694999999999</td>\n",
       "      <td>-262.549340000000029</td>\n",
       "      <td>9.984126253738191</td>\n",
       "      <td>0.948643281224560</td>\n",
       "      <td>264.009983987171552</td>\n",
       "      <td>44.434937499964569</td>\n",
       "      <td>26.047601604872760</td>\n",
       "    </tr>\n",
       "    <tr>\n",
       "      <th>19:09:27:20</th>\n",
       "      <td>1.659454300000000</td>\n",
       "      <td>-0.241210940000000</td>\n",
       "      <td>9.857193000000001</td>\n",
       "      <td>-0.760971070000000</td>\n",
       "      <td>0.844131470000000</td>\n",
       "      <td>-0.144348140000000</td>\n",
       "      <td>25.000508666666668</td>\n",
       "      <td>-13.549804999999999</td>\n",
       "      <td>-263.349409999999978</td>\n",
       "      <td>9.998811185866709</td>\n",
       "      <td>1.145631395145387</td>\n",
       "      <td>264.883322477590696</td>\n",
       "      <td>44.434937499964562</td>\n",
       "      <td>26.047601499916670</td>\n",
       "    </tr>\n",
       "  </tbody>\n",
       "</table>\n",
       "<p>63707 rows × 14 columns</p>\n",
       "</div>"
      ],
      "text/plain": [
       "                           ax                 ay                az  \\\n",
       "12:15:51:60 0.558120700000000  0.496215820000000 9.361587999999999   \n",
       "12:15:51:61 0.412078860000000  0.443542480000000 9.409470000000001   \n",
       "12:15:51:62 0.378555300000000  0.465087900000000 9.435805999999999   \n",
       "12:15:51:63 0.468096920000000  0.524942020000000 9.467889200000000   \n",
       "12:15:51:64 0.557638540000000  0.584796140000000 9.499972400000001   \n",
       "...                       ...                ...               ...   \n",
       "19:09:27:16 1.302719100000000  0.520156860000000 7.142166000000000   \n",
       "19:09:27:17 2.049713100000000  0.280731200000000 8.202788999999999   \n",
       "19:09:27:18 2.140686000000000  0.043701172000000 9.170044000000001   \n",
       "19:09:27:19 1.896484400000000 -0.226837160000000 9.799728000000000   \n",
       "19:09:27:20 1.659454300000000 -0.241210940000000 9.857193000000001   \n",
       "\n",
       "                            gx                 gy                 gz  \\\n",
       "12:15:51:60  0.074188230000000  0.290191650000000 -0.387237550000000   \n",
       "12:15:51:61  0.032653810000000  0.321075440000000 -0.377655030000000   \n",
       "12:15:51:62  0.018798828000000  0.324279800000000 -0.366989140000000   \n",
       "12:15:51:63  0.034353637600000  0.316397106000000 -0.364859012000000   \n",
       "12:15:51:64  0.049908447200000  0.308514412000000 -0.362728884000000   \n",
       "...                        ...                ...                ...   \n",
       "19:09:27:16 -0.118621826000000 -0.505569460000000  0.092132570000000   \n",
       "19:09:27:17 -0.301849370000000 -0.332992550000000  0.140075680000000   \n",
       "19:09:27:18 -0.590530400000000  0.304031370000000  0.046325684000000   \n",
       "19:09:27:19 -0.686401370000000  0.651306150000000 -0.067657470000000   \n",
       "19:09:27:20 -0.760971070000000  0.844131470000000 -0.144348140000000   \n",
       "\n",
       "                            mx                  my                   mz  \\\n",
       "12:15:51:60 52.349854000000001 -50.549315999999997 -260.850520000000017   \n",
       "12:15:51:61 52.368546000000002 -50.530624000000003 -260.906787500000007   \n",
       "12:15:51:62 52.387238000000004 -50.511932000000002 -260.963054999999997   \n",
       "12:15:51:63 52.405929999999998 -50.493240000000000 -261.019322499999987   \n",
       "12:15:51:64 52.424621999999999 -50.474547999999999 -261.075590000000034   \n",
       "...                        ...                 ...                  ...   \n",
       "19:09:27:16 22.650145999999999 -15.150451500000001 -262.875364999999988   \n",
       "19:09:27:17 23.100280000000001 -16.200256000000000 -262.800599999999974   \n",
       "19:09:27:18 23.100280000000001 -13.949585000000001 -261.749270000000024   \n",
       "19:09:27:19 24.050394333333333 -13.749694999999999 -262.549340000000029   \n",
       "19:09:27:20 25.000508666666668 -13.549804999999999 -263.349409999999978   \n",
       "\n",
       "                      a_total           g_total             m_total  \\\n",
       "12:15:51:60 9.391328912221676 0.489558992696751 270.811252251747476   \n",
       "12:15:51:61 9.428927012090160 0.496768589146909 270.865587926351282   \n",
       "12:15:51:62 9.454842449217251 0.490093678290338 270.919923600955030   \n",
       "12:15:51:63 9.496275903028236 0.485338498843436 270.974259275558779   \n",
       "12:15:51:64 9.537709356839221 0.480583319396533 271.028594950162585   \n",
       "...                       ...               ...                 ...   \n",
       "19:09:27:16 7.278610814164050 0.527408785424618 264.286459212824525   \n",
       "19:09:27:17 8.459662001373697 0.470763503951147 264.310852200404213   \n",
       "19:09:27:18 9.416695455676912 0.665813259304968 263.136645496752351   \n",
       "19:09:27:19 9.984126253738191 0.948643281224560 264.009983987171552   \n",
       "19:09:27:20 9.998811185866709 1.145631395145387 264.883322477590696   \n",
       "\n",
       "                           lat               long  \n",
       "12:15:51:60 44.434937499999997 26.047601499999999  \n",
       "12:15:51:61 44.434937499999990 26.047601578717067  \n",
       "12:15:51:62 44.434937499999990 26.047601657434136  \n",
       "12:15:51:63 44.434937499999982 26.047601736151204  \n",
       "12:15:51:64 44.434937499999982 26.047601814868269  \n",
       "...                        ...                ...  \n",
       "19:09:27:16 44.434937499964583 26.047601919741037  \n",
       "19:09:27:17 44.434937499964576 26.047601814784940  \n",
       "19:09:27:18 44.434937499964576 26.047601709828850  \n",
       "19:09:27:19 44.434937499964569 26.047601604872760  \n",
       "19:09:27:20 44.434937499964562 26.047601499916670  \n",
       "\n",
       "[63707 rows x 14 columns]"
      ]
     },
     "execution_count": 92,
     "metadata": {},
     "output_type": "execute_result"
    }
   ],
   "source": [
    "df_sensor_and_loc = pd.read_csv(sensor_and_loc_file, index_col=0)\n",
    "df_sensor_and_loc"
   ]
  },
  {
   "cell_type": "markdown",
   "id": "d139960b",
   "metadata": {},
   "source": [
    "## 1.1. Creating x and y"
   ]
  },
  {
   "cell_type": "code",
   "execution_count": 93,
   "id": "d5a43ebd",
   "metadata": {},
   "outputs": [],
   "source": [
    "# df_sensor_and_loc['x'] = np.nan\n",
    "# df_sensor_and_loc['y'] = np.nan\n",
    "# for i in range(len(df_sensor_and_loc)):\n",
    "#     lat = df_sensor_and_loc['lat'].iloc[i]\n",
    "#     long = df_sensor_and_loc['long'].iloc[i]\n",
    "#     df_sensor_and_loc['x'].iloc[i], df_sensor_and_loc['y'].iloc[i], zone, ut = utm.from_latlon(df_sensor_and_loc['lat'].iloc[i], df_sensor_and_loc['long'].iloc[i])\n",
    "# df_sensor_and_loc"
   ]
  },
  {
   "cell_type": "code",
   "execution_count": 94,
   "id": "759085e9",
   "metadata": {},
   "outputs": [],
   "source": [
    "# plt.scatter(x=df_sensor_and_loc['x'], y=df_sensor_and_loc['y'])"
   ]
  },
  {
   "cell_type": "code",
   "execution_count": 225,
   "id": "c34757ca",
   "metadata": {
    "scrolled": true
   },
   "outputs": [
    {
     "name": "stdout",
     "output_type": "stream",
     "text": [
      "(6371, 14)\n"
     ]
    },
    {
     "data": {
      "text/html": [
       "<div>\n",
       "<style scoped>\n",
       "    .dataframe tbody tr th:only-of-type {\n",
       "        vertical-align: middle;\n",
       "    }\n",
       "\n",
       "    .dataframe tbody tr th {\n",
       "        vertical-align: top;\n",
       "    }\n",
       "\n",
       "    .dataframe thead th {\n",
       "        text-align: right;\n",
       "    }\n",
       "</style>\n",
       "<table border=\"1\" class=\"dataframe\">\n",
       "  <thead>\n",
       "    <tr style=\"text-align: right;\">\n",
       "      <th></th>\n",
       "      <th>ax</th>\n",
       "      <th>ay</th>\n",
       "      <th>az</th>\n",
       "      <th>gx</th>\n",
       "      <th>gy</th>\n",
       "      <th>gz</th>\n",
       "      <th>mx</th>\n",
       "      <th>my</th>\n",
       "      <th>mz</th>\n",
       "      <th>a_total</th>\n",
       "      <th>g_total</th>\n",
       "      <th>m_total</th>\n",
       "      <th>lat</th>\n",
       "      <th>long</th>\n",
       "    </tr>\n",
       "  </thead>\n",
       "  <tbody>\n",
       "    <tr>\n",
       "      <th>12:15:51:60</th>\n",
       "      <td>0.558120700000000</td>\n",
       "      <td>0.496215820000000</td>\n",
       "      <td>9.361587999999999</td>\n",
       "      <td>0.074188230000000</td>\n",
       "      <td>0.290191650000000</td>\n",
       "      <td>-0.387237550000000</td>\n",
       "      <td>52.349854000000001</td>\n",
       "      <td>-50.549315999999997</td>\n",
       "      <td>-260.850520000000017</td>\n",
       "      <td>9.391328912221676</td>\n",
       "      <td>0.489558992696751</td>\n",
       "      <td>270.811252251747476</td>\n",
       "      <td>44.434937499999997</td>\n",
       "      <td>26.047601499999999</td>\n",
       "    </tr>\n",
       "    <tr>\n",
       "      <th>12:15:51:70</th>\n",
       "      <td>0.764022800000000</td>\n",
       "      <td>0.639862060000000</td>\n",
       "      <td>8.693603500000000</td>\n",
       "      <td>-0.093048096000000</td>\n",
       "      <td>0.537323000000000</td>\n",
       "      <td>-0.366989140000000</td>\n",
       "      <td>53.250121999999998</td>\n",
       "      <td>-49.650573999999999</td>\n",
       "      <td>-260.699459999999988</td>\n",
       "      <td>8.750536904096773</td>\n",
       "      <td>0.657308894946786</td>\n",
       "      <td>270.675014428439624</td>\n",
       "      <td>44.434937499999954</td>\n",
       "      <td>26.047602287170680</td>\n",
       "    </tr>\n",
       "    <tr>\n",
       "      <th>12:15:51:80</th>\n",
       "      <td>0.558120700000000</td>\n",
       "      <td>0.364532470000000</td>\n",
       "      <td>10.486862000000000</td>\n",
       "      <td>-0.098373410000000</td>\n",
       "      <td>0.309356700000000</td>\n",
       "      <td>-0.109207150000000</td>\n",
       "      <td>55.200195000000001</td>\n",
       "      <td>-48.599243000000001</td>\n",
       "      <td>-260.249329999999986</td>\n",
       "      <td>10.508028228192805</td>\n",
       "      <td>0.342498317136071</td>\n",
       "      <td>270.441604997566856</td>\n",
       "      <td>44.434937499999911</td>\n",
       "      <td>26.047603074341360</td>\n",
       "    </tr>\n",
       "    <tr>\n",
       "      <th>12:15:51:90</th>\n",
       "      <td>0.780777000000000</td>\n",
       "      <td>1.101944000000000</td>\n",
       "      <td>9.859589000000000</td>\n",
       "      <td>-0.254974370000000</td>\n",
       "      <td>-0.464019780000000</td>\n",
       "      <td>-0.092163086000000</td>\n",
       "      <td>56.399535999999998</td>\n",
       "      <td>-50.100707999999997</td>\n",
       "      <td>-261.000060000000019</td>\n",
       "      <td>9.951652553811654</td>\n",
       "      <td>0.537420059180143</td>\n",
       "      <td>271.683676217619222</td>\n",
       "      <td>44.434937499999869</td>\n",
       "      <td>26.047603861512041</td>\n",
       "    </tr>\n",
       "    <tr>\n",
       "      <th>12:15:52:00</th>\n",
       "      <td>0.639526370000000</td>\n",
       "      <td>1.717254600000000</td>\n",
       "      <td>9.689590000000001</td>\n",
       "      <td>-0.199584960000000</td>\n",
       "      <td>-0.171066280000000</td>\n",
       "      <td>-0.063400270000000</td>\n",
       "      <td>55.199431500000003</td>\n",
       "      <td>-49.124908499999997</td>\n",
       "      <td>-260.475160000000017</td>\n",
       "      <td>9.861344315418997</td>\n",
       "      <td>0.270402334766756</td>\n",
       "      <td>270.757870006502344</td>\n",
       "      <td>44.434937499999819</td>\n",
       "      <td>26.047604648682714</td>\n",
       "    </tr>\n",
       "  </tbody>\n",
       "</table>\n",
       "</div>"
      ],
      "text/plain": [
       "                           ax                ay                 az  \\\n",
       "12:15:51:60 0.558120700000000 0.496215820000000  9.361587999999999   \n",
       "12:15:51:70 0.764022800000000 0.639862060000000  8.693603500000000   \n",
       "12:15:51:80 0.558120700000000 0.364532470000000 10.486862000000000   \n",
       "12:15:51:90 0.780777000000000 1.101944000000000  9.859589000000000   \n",
       "12:15:52:00 0.639526370000000 1.717254600000000  9.689590000000001   \n",
       "\n",
       "                            gx                 gy                 gz  \\\n",
       "12:15:51:60  0.074188230000000  0.290191650000000 -0.387237550000000   \n",
       "12:15:51:70 -0.093048096000000  0.537323000000000 -0.366989140000000   \n",
       "12:15:51:80 -0.098373410000000  0.309356700000000 -0.109207150000000   \n",
       "12:15:51:90 -0.254974370000000 -0.464019780000000 -0.092163086000000   \n",
       "12:15:52:00 -0.199584960000000 -0.171066280000000 -0.063400270000000   \n",
       "\n",
       "                            mx                  my                   mz  \\\n",
       "12:15:51:60 52.349854000000001 -50.549315999999997 -260.850520000000017   \n",
       "12:15:51:70 53.250121999999998 -49.650573999999999 -260.699459999999988   \n",
       "12:15:51:80 55.200195000000001 -48.599243000000001 -260.249329999999986   \n",
       "12:15:51:90 56.399535999999998 -50.100707999999997 -261.000060000000019   \n",
       "12:15:52:00 55.199431500000003 -49.124908499999997 -260.475160000000017   \n",
       "\n",
       "                       a_total           g_total             m_total  \\\n",
       "12:15:51:60  9.391328912221676 0.489558992696751 270.811252251747476   \n",
       "12:15:51:70  8.750536904096773 0.657308894946786 270.675014428439624   \n",
       "12:15:51:80 10.508028228192805 0.342498317136071 270.441604997566856   \n",
       "12:15:51:90  9.951652553811654 0.537420059180143 271.683676217619222   \n",
       "12:15:52:00  9.861344315418997 0.270402334766756 270.757870006502344   \n",
       "\n",
       "                           lat               long  \n",
       "12:15:51:60 44.434937499999997 26.047601499999999  \n",
       "12:15:51:70 44.434937499999954 26.047602287170680  \n",
       "12:15:51:80 44.434937499999911 26.047603074341360  \n",
       "12:15:51:90 44.434937499999869 26.047603861512041  \n",
       "12:15:52:00 44.434937499999819 26.047604648682714  "
      ]
     },
     "execution_count": 225,
     "metadata": {},
     "output_type": "execute_result"
    }
   ],
   "source": [
    "data = df_sensor_and_loc.copy(deep=True)[::10]\n",
    "# data = data.iloc[:len(data)//2][::10]\n",
    "# data.reset_index(inplace=True)\n",
    "# data.drop(['index'], axis=1, inplace=True)\n",
    "print(data.shape)\n",
    "data.head()"
   ]
  },
  {
   "cell_type": "code",
   "execution_count": 226,
   "id": "276b2ce7",
   "metadata": {},
   "outputs": [
    {
     "data": {
      "text/plain": [
       "[<matplotlib.lines.Line2D at 0x1a0a5448100>]"
      ]
     },
     "execution_count": 226,
     "metadata": {},
     "output_type": "execute_result"
    },
    {
     "data": {
      "image/png": "[encoded data removed]",
      "text/plain": [
       "<Figure size 432x288 with 1 Axes>"
      ]
     },
     "metadata": {
      "needs_background": "light"
     },
     "output_type": "display_data"
    }
   ],
   "source": [
    "plt.plot(data['long'], data['lat'])"
   ]
  },
  {
   "cell_type": "code",
   "execution_count": 227,
   "id": "79a34ab5",
   "metadata": {},
   "outputs": [],
   "source": [
    "# plt.plot(data['x'], data['y'])"
   ]
  },
  {
   "cell_type": "markdown",
   "id": "7f9d499f",
   "metadata": {},
   "source": [
    "# 2. Creating the LSTM model"
   ]
  },
  {
   "cell_type": "markdown",
   "id": "2d333906",
   "metadata": {},
   "source": [
    "## 2.1. Scaling the data"
   ]
  },
  {
   "cell_type": "code",
   "execution_count": 242,
   "id": "9ed352f4",
   "metadata": {
    "scrolled": false
   },
   "outputs": [],
   "source": [
    "backcandles=100\n",
    "\n",
    "sc_attributes = MinMaxScaler(feature_range=(-1, 1))\n",
    "attributes_scaled = sc_attributes.fit_transform(data.iloc[:, :-5])\n",
    "sc_targets = MinMaxScaler(feature_range=(0, 1))\n",
    "targets_scaled = sc_targets.fit_transform(data.iloc[backcandles:, [-2, -1]])\n",
    "# y_test_1 = data.iloc[:, [-2, -1]]\n",
    "# print(y_test_1)\n",
    "# y_test_sc = sc.fit_transform(data.iloc[:, [-2, -1]])\n",
    "# print(data_scaled)"
   ]
  },
  {
   "cell_type": "code",
   "execution_count": 243,
   "id": "a14c6611",
   "metadata": {},
   "outputs": [
    {
     "name": "stdout",
     "output_type": "stream",
     "text": [
      "6371 9\n"
     ]
    }
   ],
   "source": [
    "print(attributes_scaled.shape[0], attributes_scaled.shape[1])"
   ]
  },
  {
   "cell_type": "markdown",
   "id": "c34ee96c",
   "metadata": {},
   "source": [
    "## 2.2. Principal Component Analysis (PCA)"
   ]
  },
  {
   "cell_type": "code",
   "execution_count": 244,
   "id": "91dd9205",
   "metadata": {},
   "outputs": [],
   "source": [
    "# pca = PCA(n_components=3)"
   ]
  },
  {
   "cell_type": "code",
   "execution_count": 245,
   "id": "e3f3a72f",
   "metadata": {},
   "outputs": [],
   "source": [
    "# pca.fit_transform(attributes_scaled)"
   ]
  },
  {
   "cell_type": "markdown",
   "id": "71576852",
   "metadata": {},
   "source": [
    "## 2.2. Reshaping the data in order to feed it to the model"
   ]
  },
  {
   "cell_type": "code",
   "execution_count": 246,
   "id": "a52b3e63",
   "metadata": {},
   "outputs": [],
   "source": [
    "# The following cell does this:\n",
    "\n",
    "# []\n",
    "# i = 0\n",
    "# X = [[]]\n",
    "# for j in range(30, 8611)\n",
    "#     J = 30\n",
    "#     X[0].append(data_scaled[30-30=0:30, 0]) --> append and array\n",
    "#     J = 31\n",
    "#     X[0].append(31-30=1:31, 0)\n",
    "#     \n",
    "# i = 1\n",
    "# X = [\n",
    "#       [  <-- 12 of those\n",
    "#        [5.5811, 5.4786, .., 5.1232  <--- 30 (backcandles) of those], [], ..., [] <--- 8581 of those\n",
    "#       ],\n",
    "#      [\n",
    "#        [5.5811, 5.4786, .., 5.1232], [], ..., []\n",
    "#      ]\n",
    "#    ]   ---> \n",
    "# for j in range(30, 8611)\n",
    "#     X[0].append(data_scaled[30-30:30, 0])"
   ]
  },
  {
   "cell_type": "code",
   "execution_count": 247,
   "id": "b4836a2c",
   "metadata": {},
   "outputs": [
    {
     "data": {
      "text/plain": [
       "(6271, 100, 9)"
      ]
     },
     "execution_count": 247,
     "metadata": {},
     "output_type": "execute_result"
    }
   ],
   "source": [
    "X = []\n",
    "backcandles=backcandles # number of last values to look into\n",
    "\n",
    "for i in range(9): #number of attributes columns\n",
    "    X.append([])\n",
    "    for j in range(backcandles, attributes_scaled.shape[0]):\n",
    "        X[i].append(attributes_scaled[j-backcandles:j, i])\n",
    "        \n",
    "# move axis from 0 to position 2\n",
    "X = np.moveaxis(X, [0], [2])\n",
    "\n",
    "# We need shape (8581, 30, 12) = (rows, val of past attributes, columns) for LSTM training\n",
    "X.shape"
   ]
  },
  {
   "cell_type": "code",
   "execution_count": 248,
   "id": "abfdbb3d",
   "metadata": {
    "scrolled": true
   },
   "outputs": [
    {
     "name": "stdout",
     "output_type": "stream",
     "text": [
      "X Shape:  (6271, 100, 9)\n",
      "y shape:  (6271, 2)\n"
     ]
    },
    {
     "data": {
      "text/plain": [
       "array([[0.89523834, 0.24074098],\n",
       "       [0.88888913, 0.24074098],\n",
       "       [0.88253993, 0.24074098],\n",
       "       ...,\n",
       "       [0.93333312, 0.00802469],\n",
       "       [0.93333312, 0.00493827],\n",
       "       [0.93333312, 0.00185185]])"
      ]
     },
     "execution_count": 248,
     "metadata": {},
     "output_type": "execute_result"
    }
   ],
   "source": [
    "# Transform X and the targets (lat and long columns) into arrays so the axis can be moved and the data \n",
    "# to be used in the LSTM model\n",
    "X, y = np.array(X), np.array(targets_scaled)\n",
    "\n",
    "# Move the axis for yi, so instead of (8581, 2) we'll have (8581, 1, 2)\n",
    "# I HAVE MODIFIED THIS:\n",
    "# y = np.reshape(yi,(len(yi), 1, 2))\n",
    "# y = np.reshape(yi,(len(yi), 2))\n",
    "\n",
    "print('X Shape: ',X.shape)\n",
    "print('y shape: ', y.shape)\n",
    "targets_scaled"
   ]
  },
  {
   "cell_type": "markdown",
   "id": "1b85bf84",
   "metadata": {},
   "source": [
    "## 2.3. Split the data into train, test and validation sets"
   ]
  },
  {
   "cell_type": "code",
   "execution_count": 249,
   "id": "f71e096f",
   "metadata": {},
   "outputs": [
    {
     "name": "stdout",
     "output_type": "stream",
     "text": [
      "4389 5643\n",
      "(4389, 100, 9)\n",
      "(1254, 100, 9)\n",
      "(628, 100, 9)\n",
      "(4389, 2)\n",
      "(1254, 2)\n",
      "(628, 2)\n"
     ]
    }
   ],
   "source": [
    "splitlimit_test = int(len(X) * 0.7)\n",
    "splitlimit_val = int(len(X) * 0.9)\n",
    "\n",
    "print(splitlimit_test, splitlimit_val)\n",
    "X_train, X_test, X_val = X[:splitlimit_test], X[splitlimit_test:splitlimit_val], X[splitlimit_val:]\n",
    "y_train, y_test, y_val = y[:splitlimit_test], y[splitlimit_test:splitlimit_val], y[splitlimit_val:]\n",
    "print(X_train.shape)\n",
    "print(X_test.shape)\n",
    "print(X_val.shape)\n",
    "print(y_train.shape)\n",
    "print(y_test.shape)\n",
    "print(y_val.shape)"
   ]
  },
  {
   "cell_type": "markdown",
   "id": "475ff548",
   "metadata": {},
   "source": [
    "## 2.4. Creating the LSTM  model"
   ]
  },
  {
   "cell_type": "markdown",
   "id": "98b998a2",
   "metadata": {},
   "source": [
    "### 2.4.1. Create function to plot the training"
   ]
  },
  {
   "cell_type": "code",
   "execution_count": 250,
   "id": "ddb11784",
   "metadata": {},
   "outputs": [],
   "source": [
    "class PlotLearning(keras.callbacks.Callback):\n",
    "    \"\"\"\n",
    "    Callback to plot the learning curves of the model during training.\n",
    "    \"\"\"\n",
    "    def on_train_begin(self, logs={}):\n",
    "        self.metrics = {}\n",
    "        for metric in logs:\n",
    "            self.metrics[metric] = []\n",
    "            \n",
    "\n",
    "    def on_epoch_end(self, epoch, logs={}):\n",
    "        # Storing metrics\n",
    "        for metric in logs:\n",
    "            if metric in self.metrics:\n",
    "                self.metrics[metric].append(logs.get(metric))\n",
    "            else:\n",
    "                self.metrics[metric] = [logs.get(metric)]\n",
    "        \n",
    "        # Plotting\n",
    "        metrics = [x for x in logs if 'val' not in x]\n",
    "        \n",
    "        f, axs = plt.subplots(1, len(metrics), figsize=(15,5))\n",
    "        clear_output(wait=True)\n",
    "\n",
    "        for i, metric in enumerate(metrics):\n",
    "            axs[i].plot(range(1, epoch + 2), \n",
    "                        self.metrics[metric], \n",
    "                        label=metric)\n",
    "            if logs['val_' + metric]:\n",
    "                axs[i].plot(range(1, epoch + 2), \n",
    "                            self.metrics['val_' + metric], \n",
    "                            label='val_' + metric)\n",
    "                \n",
    "            axs[i].legend()\n",
    "            axs[i].grid()\n",
    "\n",
    "        plt.tight_layout()\n",
    "        plt.show()"
   ]
  },
  {
   "cell_type": "markdown",
   "id": "4d4af3e9",
   "metadata": {},
   "source": [
    "### 2.4.2. Parametrizing the model"
   ]
  },
  {
   "cell_type": "code",
   "execution_count": 251,
   "id": "44fb8a39",
   "metadata": {
    "scrolled": true
   },
   "outputs": [
    {
     "data": {
      "image/png": "[encoded data removed]",
      "text/plain": [
       "<Figure size 1080x360 with 4 Axes>"
      ]
     },
     "metadata": {
      "needs_background": "light"
     },
     "output_type": "display_data"
    },
    {
     "name": "stdout",
     "output_type": "stream",
     "text": [
      "\b\b\b\b\b\b\b\b\b\b\b\b\b\b\b\b\b\b\b\b\b\b\b\b\b\b\b\b\b\b\b\b\b\b\b\b\b\b\b\b\b\b\b\b\b\b\b\b\b\b\b\b\b\b\b\b\b\b\b\b\b\b\b\b\b\b\b\b\b\b\b\b\b\b\b\b\b\b\b\b\b\b\b\b\b\b\b\b\b\b\b\b\b\b\b\b\b\b\b\b\b\b\b\b\b\b\b\b\b\b\r",
      "44/44 [==============================] - 8s 193ms/step - loss: 0.0024 - mse: 0.0024 - mae: 0.0357 - accuracy: 0.9601 - val_loss: 0.0025 - val_mse: 0.0025 - val_mae: 0.0369 - val_accuracy: 0.9641\n"
     ]
    },
    {
     "data": {
      "text/plain": [
       "<keras.callbacks.History at 0x1a0a0bf44c0>"
      ]
     },
     "execution_count": 251,
     "metadata": {},
     "output_type": "execute_result"
    }
   ],
   "source": [
    "attributes_cols = 9\n",
    "batch_size=100\n",
    "epochs=50\n",
    "\n",
    "lstm_input = Input(shape=(backcandles, attributes_cols), name='lstm_input')\n",
    "inputs = LSTM(128, name='first_layer', return_sequences=False)(lstm_input)\n",
    "# inputs = LSTM(64, activation='relu', name='second_layer', return_sequences=False)(inputs)\n",
    "inputs = Dense(2, name='dense_layer')(inputs)\n",
    "output = Activation('linear', name='output')(inputs)\n",
    "\n",
    "model = Model(inputs=lstm_input, outputs=output)\n",
    "adam = optimizers.Adam()\n",
    "\n",
    "model.compile(optimizer=adam, loss='mse', metrics=['mse', 'mae', 'accuracy'])\n",
    "model.fit(x=X_train, \n",
    "          y=y_train, \n",
    "          batch_size=batch_size, \n",
    "          epochs=epochs, \n",
    "          shuffle=False, \n",
    "          validation_data=(X_test, y_test), \n",
    "          callbacks=[PlotLearning()])\n",
    "\n",
    "# model = Sequential()\n",
    "# model.add(LSTM(128, activation='relu', name='first_layer', return_sequences=True))\n",
    "# model.add(LSTM(128, activation='relu', name='second_layer', return_sequences=False))\n",
    "# model.add(Dropout(0.2))\n",
    "# model.add(Dense(2, name='dense_layer'))\n",
    "# model.compile(optimizer='adam', loss='mse', metrics=['accuracy'])\n",
    "# model.fit(X_train, y_train, epochs=epochs)"
   ]
  },
  {
   "cell_type": "code",
   "execution_count": 252,
   "id": "77fb167d",
   "metadata": {},
   "outputs": [
    {
     "name": "stdout",
     "output_type": "stream",
     "text": [
      "40/40 [==============================] - 1s 23ms/step\n",
      "[0.91967946 0.1985276 ] [0.93333317 0.19759258]\n",
      "[0.91813886 0.19804165] [0.93333317 0.19666666]\n",
      "[0.917032   0.19864844] [0.93333317 0.19574073]\n",
      "[0.9169028  0.19833069] [0.93333317 0.19481481]\n",
      "[0.91630596 0.19966021] [0.93333317 0.19388888]\n",
      "[0.91837716 0.19795361] [0.93333317 0.19296295]\n",
      "[0.91585493 0.19952597] [0.93333317 0.19203703]\n",
      "[0.9126575  0.20005573] [0.93333317 0.1911111 ]\n",
      "[0.91301036 0.20245689] [0.93333317 0.19018518]\n",
      "[0.91640604 0.20234412] [0.93333317 0.18925925]\n",
      "Mean Squared Error (MSE): 0.0025286545084045146\n",
      "R-squared: 0.9713027599271451\n"
     ]
    }
   ],
   "source": [
    "y_pred = model.predict(X_test)\n",
    "for i in range(10):\n",
    "    print(y_pred[i], y_test[i])\n",
    "len(y_pred), len(y_test)\n",
    "\n",
    "# Calculate Mean Squared Error (MSE)\n",
    "mse = mean_squared_error(y_test, y_pred)\n",
    "print(\"Mean Squared Error (MSE):\", mse)\n",
    "\n",
    "# Calculate R-squared\n",
    "r2 = r2_score(y_test, y_pred)\n",
    "print(\"R-squared:\", r2)"
   ]
  },
  {
   "cell_type": "code",
   "execution_count": 253,
   "id": "41e1dc21",
   "metadata": {
    "scrolled": true
   },
   "outputs": [
    {
     "data": {
      "text/plain": [
       "<matplotlib.collections.PathCollection at 0x1a01fb8ed00>"
      ]
     },
     "execution_count": 253,
     "metadata": {},
     "output_type": "execute_result"
    },
    {
     "data": {
      "image/png": "[encoded data removed]",
      "text/plain": [
       "<Figure size 432x288 with 1 Axes>"
      ]
     },
     "metadata": {
      "needs_background": "light"
     },
     "output_type": "display_data"
    }
   ],
   "source": [
    "plt.scatter(y_test[:, 1], y_test[:, 0], color='black', label='Test')\n",
    "plt.scatter(y_pred[:, 1], y_pred[:, 0], color='blue', label='Pred')\n",
    "# y_test, y_pred"
   ]
  },
  {
   "cell_type": "code",
   "execution_count": 254,
   "id": "ea83b35c",
   "metadata": {},
   "outputs": [
    {
     "name": "stdout",
     "output_type": "stream",
     "text": [
      "Mean Squared Error (MSE): 9.653118501559906e-11\n",
      "R-squared: 0.9664048778145083\n",
      "[[44.4349375  26.04766869]\n",
      " [44.4349375  26.04766838]\n",
      " [44.4349375  26.04766806]\n",
      " ...\n",
      " [44.434933   26.04775484]\n",
      " [44.434933   26.04775642]\n",
      " [44.434933   26.04775799]] [[44.434937 26.047668]\n",
      " [44.434937 26.047668]\n",
      " [44.434937 26.047668]\n",
      " ...\n",
      " [44.43493  26.04774 ]\n",
      " [44.43493  26.047737]\n",
      " [44.43493  26.047735]]\n"
     ]
    },
    {
     "data": {
      "image/png": "[encoded data removed]",
      "text/plain": [
       "<Figure size 432x288 with 1 Axes>"
      ]
     },
     "metadata": {
      "needs_background": "light"
     },
     "output_type": "display_data"
    }
   ],
   "source": [
    "y_test_normalized = sc_targets.inverse_transform(y_test)\n",
    "y_pred_normalized = sc_targets.inverse_transform(y_pred)\n",
    "\n",
    "# Calculate Mean Squared Error (MSE)\n",
    "mse = mean_squared_error(y_test_normalized, y_pred_normalized)\n",
    "print(\"Mean Squared Error (MSE):\", mse)\n",
    "\n",
    "# Calculate R-squared\n",
    "r2 = r2_score(y_test_normalized, y_pred_normalized)\n",
    "print(\"R-squared:\", r2)\n",
    "\n",
    "plt.plot(y_test_normalized[:, 1], y_test_normalized[:, 0], color='black', label='Test')\n",
    "plt.plot(y_pred_normalized[:, 1], y_pred_normalized[:, 0], color='blue', label='Pred')\n",
    "print(y_test_normalized, y_pred_normalized)"
   ]
  },
  {
   "cell_type": "code",
   "execution_count": 255,
   "id": "2073e17d",
   "metadata": {},
   "outputs": [
    {
     "name": "stdout",
     "output_type": "stream",
     "text": [
      "40/40 [==============================] - 1s 23ms/step - loss: 0.0025 - mse: 0.0025 - mae: 0.0369 - accuracy: 0.9641\n"
     ]
    },
    {
     "data": {
      "text/plain": [
       "[0.0025286544114351273,\n",
       " 0.0025286544114351273,\n",
       " 0.03687033802270889,\n",
       " 0.9641148447990417]"
      ]
     },
     "execution_count": 255,
     "metadata": {},
     "output_type": "execute_result"
    }
   ],
   "source": [
    "model.evaluate(X_test, y_test)"
   ]
  },
  {
   "cell_type": "code",
   "execution_count": null,
   "id": "de842cfe",
   "metadata": {},
   "outputs": [],
   "source": []
  }
 ],
 "metadata": {
  "kernelspec": {
   "display_name": "Python 3 (ipykernel)",
   "language": "python",
   "name": "python3"
  },
  "language_info": {
   "codemirror_mode": {
    "name": "ipython",
    "version": 3
   },
   "file_extension": ".py",
   "mimetype": "text/x-python",
   "name": "python",
   "nbconvert_exporter": "python",
   "pygments_lexer": "ipython3",
   "version": "3.9.2"
  }
 },
 "nbformat": 4,
 "nbformat_minor": 5
}
