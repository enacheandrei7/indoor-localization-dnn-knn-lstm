{
 "cells": [
  {
   "cell_type": "markdown",
   "id": "8bdb09ba",
   "metadata": {},
   "source": [
    "# Indoor localization using deep learning with DNN and KNN"
   ]
  },
  {
   "cell_type": "markdown",
   "id": "9015ed1d",
   "metadata": {},
   "source": [
    "## 1. Importing the packages"
   ]
  },
  {
   "cell_type": "code",
   "execution_count": 142,
   "id": "8befe33e",
   "metadata": {},
   "outputs": [],
   "source": [
    "import pandas as pd\n",
    "import numpy as np\n",
    "import os\n",
    "import xml.etree.ElementTree as ET\n",
    "import tensorflow as tf\n",
    "import torch\n",
    "from sklearn.preprocessing import scale, LabelEncoder, StandardScaler\n",
    "from sklearn.model_selection import train_test_split\n",
    "from sklearn.metrics import confusion_matrix, accuracy_score, mean_squared_error, classification_report\n",
    "from sklearn.neighbors import KNeighborsRegressor\n",
    "import geopy.distance\n",
    "import seaborn as sns\n",
    "import matplotlib\n",
    "import matplotlib.pyplot as plt\n",
    "from matplotlib.colors import ListedColormap\n",
    "%matplotlib inline"
   ]
  },
  {
   "cell_type": "markdown",
   "id": "4aa748e9",
   "metadata": {},
   "source": [
    "## 2. Importing the data"
   ]
  },
  {
   "cell_type": "markdown",
   "id": "7c10c5dc",
   "metadata": {},
   "source": [
    "### 2.1. UJIIndoorLoc dataset\n",
    "* Dataset: UJIIndoorLoc (https://archive.ics.uci.edu/ml/datasets/ujiindoorloc)\n",
    "* 529 attributes and 19937 rows"
   ]
  },
  {
   "cell_type": "code",
   "execution_count": 143,
   "id": "fea39f1a",
   "metadata": {},
   "outputs": [
    {
     "data": {
      "text/html": [
       "<div>\n",
       "<style scoped>\n",
       "    .dataframe tbody tr th:only-of-type {\n",
       "        vertical-align: middle;\n",
       "    }\n",
       "\n",
       "    .dataframe tbody tr th {\n",
       "        vertical-align: top;\n",
       "    }\n",
       "\n",
       "    .dataframe thead th {\n",
       "        text-align: right;\n",
       "    }\n",
       "</style>\n",
       "<table border=\"1\" class=\"dataframe\">\n",
       "  <thead>\n",
       "    <tr style=\"text-align: right;\">\n",
       "      <th></th>\n",
       "      <th>WAP001</th>\n",
       "      <th>WAP002</th>\n",
       "      <th>WAP003</th>\n",
       "      <th>WAP004</th>\n",
       "      <th>WAP005</th>\n",
       "      <th>WAP006</th>\n",
       "      <th>WAP007</th>\n",
       "      <th>WAP008</th>\n",
       "      <th>WAP009</th>\n",
       "      <th>WAP010</th>\n",
       "      <th>...</th>\n",
       "      <th>WAP520</th>\n",
       "      <th>LONGITUDE</th>\n",
       "      <th>LATITUDE</th>\n",
       "      <th>FLOOR</th>\n",
       "      <th>BUILDINGID</th>\n",
       "      <th>SPACEID</th>\n",
       "      <th>RELATIVEPOSITION</th>\n",
       "      <th>USERID</th>\n",
       "      <th>PHONEID</th>\n",
       "      <th>TIMESTAMP</th>\n",
       "    </tr>\n",
       "  </thead>\n",
       "  <tbody>\n",
       "    <tr>\n",
       "      <th>0</th>\n",
       "      <td>100</td>\n",
       "      <td>100</td>\n",
       "      <td>100</td>\n",
       "      <td>100</td>\n",
       "      <td>100</td>\n",
       "      <td>100</td>\n",
       "      <td>100</td>\n",
       "      <td>100</td>\n",
       "      <td>100</td>\n",
       "      <td>100</td>\n",
       "      <td>...</td>\n",
       "      <td>100</td>\n",
       "      <td>-7541.2643</td>\n",
       "      <td>4.864921e+06</td>\n",
       "      <td>2</td>\n",
       "      <td>1</td>\n",
       "      <td>106</td>\n",
       "      <td>2</td>\n",
       "      <td>2</td>\n",
       "      <td>23</td>\n",
       "      <td>1371713733</td>\n",
       "    </tr>\n",
       "    <tr>\n",
       "      <th>1</th>\n",
       "      <td>100</td>\n",
       "      <td>100</td>\n",
       "      <td>100</td>\n",
       "      <td>100</td>\n",
       "      <td>100</td>\n",
       "      <td>100</td>\n",
       "      <td>100</td>\n",
       "      <td>100</td>\n",
       "      <td>100</td>\n",
       "      <td>100</td>\n",
       "      <td>...</td>\n",
       "      <td>100</td>\n",
       "      <td>-7536.6212</td>\n",
       "      <td>4.864934e+06</td>\n",
       "      <td>2</td>\n",
       "      <td>1</td>\n",
       "      <td>106</td>\n",
       "      <td>2</td>\n",
       "      <td>2</td>\n",
       "      <td>23</td>\n",
       "      <td>1371713691</td>\n",
       "    </tr>\n",
       "    <tr>\n",
       "      <th>2</th>\n",
       "      <td>100</td>\n",
       "      <td>100</td>\n",
       "      <td>100</td>\n",
       "      <td>100</td>\n",
       "      <td>100</td>\n",
       "      <td>100</td>\n",
       "      <td>100</td>\n",
       "      <td>-97</td>\n",
       "      <td>100</td>\n",
       "      <td>100</td>\n",
       "      <td>...</td>\n",
       "      <td>100</td>\n",
       "      <td>-7519.1524</td>\n",
       "      <td>4.864950e+06</td>\n",
       "      <td>2</td>\n",
       "      <td>1</td>\n",
       "      <td>103</td>\n",
       "      <td>2</td>\n",
       "      <td>2</td>\n",
       "      <td>23</td>\n",
       "      <td>1371714095</td>\n",
       "    </tr>\n",
       "    <tr>\n",
       "      <th>3</th>\n",
       "      <td>100</td>\n",
       "      <td>100</td>\n",
       "      <td>100</td>\n",
       "      <td>100</td>\n",
       "      <td>100</td>\n",
       "      <td>100</td>\n",
       "      <td>100</td>\n",
       "      <td>100</td>\n",
       "      <td>100</td>\n",
       "      <td>100</td>\n",
       "      <td>...</td>\n",
       "      <td>100</td>\n",
       "      <td>-7524.5704</td>\n",
       "      <td>4.864934e+06</td>\n",
       "      <td>2</td>\n",
       "      <td>1</td>\n",
       "      <td>102</td>\n",
       "      <td>2</td>\n",
       "      <td>2</td>\n",
       "      <td>23</td>\n",
       "      <td>1371713807</td>\n",
       "    </tr>\n",
       "    <tr>\n",
       "      <th>4</th>\n",
       "      <td>100</td>\n",
       "      <td>100</td>\n",
       "      <td>100</td>\n",
       "      <td>100</td>\n",
       "      <td>100</td>\n",
       "      <td>100</td>\n",
       "      <td>100</td>\n",
       "      <td>100</td>\n",
       "      <td>100</td>\n",
       "      <td>100</td>\n",
       "      <td>...</td>\n",
       "      <td>100</td>\n",
       "      <td>-7632.1436</td>\n",
       "      <td>4.864982e+06</td>\n",
       "      <td>0</td>\n",
       "      <td>0</td>\n",
       "      <td>122</td>\n",
       "      <td>2</td>\n",
       "      <td>11</td>\n",
       "      <td>13</td>\n",
       "      <td>1369909710</td>\n",
       "    </tr>\n",
       "  </tbody>\n",
       "</table>\n",
       "<p>5 rows × 529 columns</p>\n",
       "</div>"
      ],
      "text/plain": [
       "   WAP001  WAP002  WAP003  WAP004  WAP005  WAP006  WAP007  WAP008  WAP009  \\\n",
       "0     100     100     100     100     100     100     100     100     100   \n",
       "1     100     100     100     100     100     100     100     100     100   \n",
       "2     100     100     100     100     100     100     100     -97     100   \n",
       "3     100     100     100     100     100     100     100     100     100   \n",
       "4     100     100     100     100     100     100     100     100     100   \n",
       "\n",
       "   WAP010  ...  WAP520  LONGITUDE      LATITUDE  FLOOR  BUILDINGID  SPACEID  \\\n",
       "0     100  ...     100 -7541.2643  4.864921e+06      2           1      106   \n",
       "1     100  ...     100 -7536.6212  4.864934e+06      2           1      106   \n",
       "2     100  ...     100 -7519.1524  4.864950e+06      2           1      103   \n",
       "3     100  ...     100 -7524.5704  4.864934e+06      2           1      102   \n",
       "4     100  ...     100 -7632.1436  4.864982e+06      0           0      122   \n",
       "\n",
       "   RELATIVEPOSITION  USERID  PHONEID   TIMESTAMP  \n",
       "0                 2       2       23  1371713733  \n",
       "1                 2       2       23  1371713691  \n",
       "2                 2       2       23  1371714095  \n",
       "3                 2       2       23  1371713807  \n",
       "4                 2      11       13  1369909710  \n",
       "\n",
       "[5 rows x 529 columns]"
      ]
     },
     "execution_count": 143,
     "metadata": {},
     "output_type": "execute_result"
    }
   ],
   "source": [
    "# UJIIndoorloc dataset\n",
    "dataset_ujloc = pd.read_csv(\"../data/UJIndoorLoc/trainingData.csv\")\n",
    "validation_dataset_ujloc = pd.read_csv(\"../data/UJIndoorLoc/validationData.csv\")\n",
    "dataset_ujloc.head(5)"
   ]
  },
  {
   "cell_type": "code",
   "execution_count": 144,
   "id": "cba90cca",
   "metadata": {},
   "outputs": [],
   "source": [
    "# print(dataset.shape)\n",
    "# print(dataset[dataset['BUILDINGID'] == 0].shape)\n",
    "# print(dataset[dataset['BUILDINGID'] == 1].shape)\n",
    "# print(dataset[dataset['BUILDINGID'] == 2].shape)\n",
    "dataset_ujloc = dataset_ujloc[dataset_ujloc['BUILDINGID'] == 2]\n",
    "validation_dataset_ujloc = validation_dataset_ujloc[validation_dataset_ujloc['BUILDINGID'] == 2]"
   ]
  },
  {
   "cell_type": "markdown",
   "id": "0978b7c9",
   "metadata": {},
   "source": [
    "### 2.2. PrecisLoc dataset"
   ]
  },
  {
   "cell_type": "code",
   "execution_count": 145,
   "id": "4cc75e9c",
   "metadata": {},
   "outputs": [
    {
     "data": {
      "text/plain": [
       "'../../data_PrecisLoc/FINAL_PRECISLOC_DATASET\\\\Scenario_1\\\\11-05-07'"
      ]
     },
     "execution_count": 145,
     "metadata": {},
     "output_type": "execute_result"
    }
   ],
   "source": [
    "# PrecisLoc dataset\n",
    "dataset_dir = \"../../data_PrecisLoc/FINAL_PRECISLOC_DATASET\"\n",
    "dataset_scen_1 = os.path.join(dataset_dir, \"Scenario_1\", \"11-05-07\")\n",
    "dataset_scen_1"
   ]
  },
  {
   "cell_type": "code",
   "execution_count": 146,
   "id": "d5647741",
   "metadata": {},
   "outputs": [
    {
     "name": "stdout",
     "output_type": "stream",
     "text": [
      "Sensor_readings_11-05-07.xml\n",
      "ground_truth_11-05-07.xml\n"
     ]
    }
   ],
   "source": [
    "for filename in os.listdir(dataset_scen_1):\n",
    "    if filename.startswith(\"Sensor\"):\n",
    "        sensor_readings = filename\n",
    "    if filename.startswith(\"ground\"):\n",
    "        ground_truth = filename\n",
    "\n",
    "print(sensor_readings)\n",
    "print(ground_truth)"
   ]
  },
  {
   "cell_type": "code",
   "execution_count": 147,
   "id": "3e578055",
   "metadata": {},
   "outputs": [
    {
     "data": {
      "text/plain": [
       "'../../data_PrecisLoc/FINAL_PRECISLOC_DATASET\\\\Scenario_1\\\\11-05-07\\\\Sensor_readings_11-05-07.xml'"
      ]
     },
     "execution_count": 147,
     "metadata": {},
     "output_type": "execute_result"
    }
   ],
   "source": [
    "sensor_read_scen_1 = os.path.join(dataset_scen_1, sensor_readings)\n",
    "ground_truth_scen_1 = os.path.join(dataset_scen_1, ground_truth)\n",
    "sensor_read_scen_1"
   ]
  },
  {
   "cell_type": "code",
   "execution_count": 148,
   "id": "e046580d",
   "metadata": {},
   "outputs": [
    {
     "data": {
      "text/plain": [
       "{'32:cd:a7:a0:6d:d8',\n",
       " '84:b2:61:40:75:f0',\n",
       " '84:b2:61:40:75:f1',\n",
       " '84:b2:61:40:75:f2',\n",
       " '84:b2:61:47:dd:40',\n",
       " '84:b2:61:47:dd:41',\n",
       " '84:b2:61:47:dd:42',\n",
       " '84:b2:61:47:dd:4d',\n",
       " '84:b2:61:47:dd:4e',\n",
       " '84:b2:61:47:dd:4f',\n",
       " '84:b2:61:47:e2:c0',\n",
       " '84:b2:61:47:e2:c1',\n",
       " '84:b2:61:47:e2:c2',\n",
       " '84:b2:61:47:e2:cd',\n",
       " '84:b2:61:47:e2:ce',\n",
       " '84:b2:61:56:8a:00',\n",
       " '84:b2:61:56:8a:01',\n",
       " '84:b2:61:56:8a:02',\n",
       " '84:b2:61:56:8a:0d',\n",
       " '84:b2:61:56:8a:0e',\n",
       " '84:b2:61:56:8a:0f',\n",
       " '84:b2:61:5e:44:20',\n",
       " '84:b2:61:5e:44:21',\n",
       " '84:b2:61:5e:44:22',\n",
       " '84:b2:61:5e:44:2d',\n",
       " '84:b2:61:5e:44:2e',\n",
       " '84:b2:61:5e:44:2f',\n",
       " '84:b2:61:6d:3d:20',\n",
       " '84:b2:61:6d:3d:21',\n",
       " '84:b2:61:6d:3d:22',\n",
       " '84:b2:61:6d:3d:2d',\n",
       " '84:b2:61:6d:3d:2e',\n",
       " '84:b2:61:6d:3d:2f',\n",
       " '84:b2:61:6d:52:a0',\n",
       " '84:b2:61:6d:52:a1',\n",
       " '84:b2:61:6d:52:a2',\n",
       " '84:b2:61:6d:52:af',\n",
       " '84:b2:61:6d:5d:70',\n",
       " '84:b2:61:6d:5d:71',\n",
       " '84:b2:61:6d:5d:72',\n",
       " 'c4:71:54:39:70:e4'}"
      ]
     },
     "execution_count": 148,
     "metadata": {},
     "output_type": "execute_result"
    }
   ],
   "source": [
    "# Getting the unique MAC addresses of APs\n",
    "tree = ET.parse(sensor_read_scen_1)\n",
    "\n",
    "ap_list = [] \n",
    "for r in tree.iter(tag='r'):\n",
    "    ap_list.append(r.attrib['b'])\n",
    "\n",
    "ap_set = set(ap_list)\n",
    "ap_set"
   ]
  },
  {
   "cell_type": "code",
   "execution_count": 149,
   "id": "53b31f0c",
   "metadata": {},
   "outputs": [
    {
     "data": {
      "text/plain": [
       "{'11:05:09:00': <_elementtree._element_iterator at 0x2520c5715e0>,\n",
       " '11:05:10:00': <_elementtree._element_iterator at 0x2520c571590>,\n",
       " '11:05:11:00': <_elementtree._element_iterator at 0x2520c571540>,\n",
       " '11:05:12:00': <_elementtree._element_iterator at 0x2520c5714f0>,\n",
       " '11:05:13:00': <_elementtree._element_iterator at 0x2520c5714a0>,\n",
       " '11:05:14:00': <_elementtree._element_iterator at 0x2520c571450>,\n",
       " '11:05:17:00': <_elementtree._element_iterator at 0x2520c571400>,\n",
       " '11:05:20:00': <_elementtree._element_iterator at 0x2520c5713b0>,\n",
       " '11:05:21:00': <_elementtree._element_iterator at 0x2520c571310>,\n",
       " '11:05:22:00': <_elementtree._element_iterator at 0x2520c5716d0>,\n",
       " '11:05:23:00': <_elementtree._element_iterator at 0x2520c5712c0>,\n",
       " '11:05:24:00': <_elementtree._element_iterator at 0x2520c571270>,\n",
       " '11:05:25:00': <_elementtree._element_iterator at 0x2520c5711d0>,\n",
       " '11:05:26:00': <_elementtree._element_iterator at 0x2520c571360>,\n",
       " '11:05:27:00': <_elementtree._element_iterator at 0x2520c571180>,\n",
       " '11:05:28:00': <_elementtree._element_iterator at 0x2520c571130>,\n",
       " '11:05:29:00': <_elementtree._element_iterator at 0x2520c5710e0>,\n",
       " '11:05:30:00': <_elementtree._element_iterator at 0x2520c571090>,\n",
       " '11:05:31:00': <_elementtree._element_iterator at 0x2520c571040>,\n",
       " '11:05:32:00': <_elementtree._element_iterator at 0x2520c4d3f40>,\n",
       " '11:05:33:00': <_elementtree._element_iterator at 0x2520c4d3f90>,\n",
       " '11:05:34:00': <_elementtree._element_iterator at 0x2520c4d3ef0>,\n",
       " '11:05:35:00': <_elementtree._element_iterator at 0x2520c4d3e50>,\n",
       " '11:05:36:00': <_elementtree._element_iterator at 0x2520c4d3ea0>,\n",
       " '11:05:37:01': <_elementtree._element_iterator at 0x2520c4d3e00>,\n",
       " '11:05:38:00': <_elementtree._element_iterator at 0x2520c4d3db0>,\n",
       " '11:05:39:00': <_elementtree._element_iterator at 0x2520c4d3d10>,\n",
       " '11:05:40:00': <_elementtree._element_iterator at 0x2520c4d3d60>,\n",
       " '11:05:41:00': <_elementtree._element_iterator at 0x2520c4d3cc0>,\n",
       " '11:05:42:00': <_elementtree._element_iterator at 0x2520c4d3c20>,\n",
       " '11:05:43:00': <_elementtree._element_iterator at 0x2520c4d3c70>,\n",
       " '11:05:44:00': <_elementtree._element_iterator at 0x2520c4d3b80>,\n",
       " '11:05:48:01': <_elementtree._element_iterator at 0x2520c4d3bd0>,\n",
       " '11:05:49:00': <_elementtree._element_iterator at 0x2520c4d3b30>,\n",
       " '11:05:51:00': <_elementtree._element_iterator at 0x2520c4d3ae0>,\n",
       " '11:05:52:00': <_elementtree._element_iterator at 0x2520c4d3a90>,\n",
       " '11:05:53:00': <_elementtree._element_iterator at 0x2520c4d3a40>,\n",
       " '11:05:54:00': <_elementtree._element_iterator at 0x2520c4d39a0>,\n",
       " '11:05:55:00': <_elementtree._element_iterator at 0x2520c4d39f0>,\n",
       " '11:05:56:00': <_elementtree._element_iterator at 0x2520c4d3950>,\n",
       " '11:05:57:00': <_elementtree._element_iterator at 0x2520c4d38b0>,\n",
       " '11:05:58:00': <_elementtree._element_iterator at 0x2520c4d3900>,\n",
       " '11:05:59:00': <_elementtree._element_iterator at 0x2520c4d3860>,\n",
       " '11:06:00:00': <_elementtree._element_iterator at 0x2520c4d3810>,\n",
       " '11:06:01:00': <_elementtree._element_iterator at 0x2520c4d3770>,\n",
       " '11:06:02:00': <_elementtree._element_iterator at 0x2520c4d37c0>,\n",
       " '11:06:03:00': <_elementtree._element_iterator at 0x2520c4d3720>,\n",
       " '11:06:04:00': <_elementtree._element_iterator at 0x2520c4d3680>,\n",
       " '11:06:05:00': <_elementtree._element_iterator at 0x2520c4d36d0>,\n",
       " '11:06:06:00': <_elementtree._element_iterator at 0x2520c4d3630>,\n",
       " '11:06:07:00': <_elementtree._element_iterator at 0x2520c4d35e0>,\n",
       " '11:06:08:00': <_elementtree._element_iterator at 0x2520c4d3590>,\n",
       " '11:06:11:00': <_elementtree._element_iterator at 0x2520c4d3540>,\n",
       " '11:06:12:00': <_elementtree._element_iterator at 0x2520c4d34f0>,\n",
       " '11:06:13:00': <_elementtree._element_iterator at 0x2520c4d3450>,\n",
       " '11:06:14:00': <_elementtree._element_iterator at 0x2520c4d34a0>,\n",
       " '11:06:15:00': <_elementtree._element_iterator at 0x2520c4d3400>,\n",
       " '11:06:16:00': <_elementtree._element_iterator at 0x2520c4d3360>,\n",
       " '11:06:17:00': <_elementtree._element_iterator at 0x2520c4d33b0>,\n",
       " '11:06:18:00': <_elementtree._element_iterator at 0x2520c4d31d0>,\n",
       " '11:06:19:00': <_elementtree._element_iterator at 0x2520c4d3130>,\n",
       " '11:06:20:00': <_elementtree._element_iterator at 0x2520c571220>,\n",
       " '11:06:21:00': <_elementtree._element_iterator at 0x2520c4d0130>,\n",
       " '11:06:22:00': <_elementtree._element_iterator at 0x2520c4d3090>,\n",
       " '11:06:23:00': <_elementtree._element_iterator at 0x2520c4d0ef0>,\n",
       " '11:06:24:00': <_elementtree._element_iterator at 0x2520c4d0f90>,\n",
       " '11:06:25:00': <_elementtree._element_iterator at 0x2520c4d0e50>,\n",
       " '11:06:30:00': <_elementtree._element_iterator at 0x2520c4d0d10>,\n",
       " '11:06:31:00': <_elementtree._element_iterator at 0x2520c4d0db0>,\n",
       " '11:06:32:00': <_elementtree._element_iterator at 0x2520c4d0c70>,\n",
       " '11:06:33:00': <_elementtree._element_iterator at 0x2520c4d0bd0>,\n",
       " '11:06:35:00': <_elementtree._element_iterator at 0x2520c4d0b30>}"
      ]
     },
     "execution_count": 149,
     "metadata": {},
     "output_type": "execute_result"
    }
   ],
   "source": [
    "# Reading the Sensor Readings for the scenario 1, 11-05-07\n",
    "tree = ET.parse(sensor_read_scen_1)\n",
    "\n",
    "time_data_ap_dict = {}\n",
    "\n",
    "for wr in tree.iter(tag = 'wr'):\n",
    "    time_data_ap_dict[wr.attrib['st']] = wr.iter(tag='r')\n",
    "\n",
    "# for key in time_data_dict:\n",
    "#     print(key, ': ', time_data_dict[key])\n",
    "#     for r in time_data_dict[key]:\n",
    "#         print(r.attrib)\n",
    "time_data_ap_dict"
   ]
  },
  {
   "cell_type": "code",
   "execution_count": 150,
   "id": "0287cd35",
   "metadata": {},
   "outputs": [
    {
     "data": {
      "text/plain": [
       "{'11:05:09:000': {'lat': '44.434918',\n",
       "  'long': '26.047606',\n",
       "  'time': '11:05:09:000'},\n",
       " '11:05:10:600': {'lat': '44.43491799999931',\n",
       "  'long': '26.047618594726657',\n",
       "  'time': '11:05:10:600'},\n",
       " '11:05:11:600': {'lat': '44.43491799999862',\n",
       "  'long': '26.047631189453316',\n",
       "  'time': '11:05:11:600'},\n",
       " '11:05:12:400': {'lat': '44.43491799999792',\n",
       "  'long': '26.047643784179975',\n",
       "  'time': '11:05:12:400'},\n",
       " '11:05:13:200': {'lat': '44.434917999997225',\n",
       "  'long': '26.047656378906634',\n",
       "  'time': '11:05:13:200'},\n",
       " '11:05:14:100': {'lat': '44.43491799999653',\n",
       "  'long': '26.047668973633293',\n",
       "  'time': '11:05:14:100'},\n",
       " '11:05:17:500': {'lat': '44.43491799999584',\n",
       "  'long': '26.047681568359952',\n",
       "  'time': '11:05:17:500'},\n",
       " '11:05:20:000': {'lat': '44.43491799999566',\n",
       "  'long': '26.04768786572328',\n",
       "  'time': '11:05:20:000'},\n",
       " '11:05:21:100': {'lat': '44.434909006779606',\n",
       "  'long': '26.04768786572328',\n",
       "  'time': '11:05:21:100'},\n",
       " '11:05:21:950': {'lat': '44.43490001356355',\n",
       "  'long': '26.04768786572328',\n",
       "  'time': '11:05:21:950'},\n",
       " '11:05:22:700': {'lat': '44.434891020347486',\n",
       "  'long': '26.04768786572328',\n",
       "  'time': '11:05:22:700'},\n",
       " '11:05:23:450': {'lat': '44.43488202713143',\n",
       "  'long': '26.04768786572328',\n",
       "  'time': '11:05:23:450'},\n",
       " '11:05:24:250': {'lat': '44.43487303391537',\n",
       "  'long': '26.04768786572328',\n",
       "  'time': '11:05:24:250'},\n",
       " '11:05:25:100': {'lat': '44.43486404069931',\n",
       "  'long': '26.04768786572328',\n",
       "  'time': '11:05:25:100'},\n",
       " '11:05:25:900': {'lat': '44.434855047483246',\n",
       "  'long': '26.04768786572328',\n",
       "  'time': '11:05:25:900'},\n",
       " '11:05:26:950': {'lat': '44.43485504748256',\n",
       "  'long': '26.04770046043637',\n",
       "  'time': '11:05:26:950'},\n",
       " '11:05:27:900': {'lat': '44.43486404069863',\n",
       "  'long': '26.04770046043637',\n",
       "  'time': '11:05:27:900'},\n",
       " '11:05:28:750': {'lat': '44.43487303391468',\n",
       "  'long': '26.04770046043637',\n",
       "  'time': '11:05:28:750'},\n",
       " '11:05:29:600': {'lat': '44.43488202713073',\n",
       "  'long': '26.04770046043637',\n",
       "  'time': '11:05:29:600'},\n",
       " '11:05:30:400': {'lat': '44.43489102034679',\n",
       "  'long': '26.04770046043637',\n",
       "  'time': '11:05:30:400'},\n",
       " '11:05:31:250': {'lat': '44.43490001356284',\n",
       "  'long': '26.04770046043637',\n",
       "  'time': '11:05:31:250'},\n",
       " '11:05:32:120': {'lat': '44.4349090067789',\n",
       "  'long': '26.04770046043637',\n",
       "  'time': '11:05:32:120'},\n",
       " '11:05:32:520': {'lat': '44.43491350338692',\n",
       "  'long': '26.04770046043637',\n",
       "  'time': '11:05:32:520'},\n",
       " '11:05:33:320': {'lat': '44.434913503386234',\n",
       "  'long': '26.04771305516206',\n",
       "  'time': '11:05:33:320'},\n",
       " '11:05:34:220': {'lat': '44.43491350338554',\n",
       "  'long': '26.04772564988775',\n",
       "  'time': '11:05:34:220'},\n",
       " '11:05:35:000': {'lat': '44.43491350338485',\n",
       "  'long': '26.047738244613438',\n",
       "  'time': '11:05:35:000'},\n",
       " '11:05:35:800': {'lat': '44.434913503384145',\n",
       "  'long': '26.047750839339127',\n",
       "  'time': '11:05:35:800'},\n",
       " '11:05:36:700': {'lat': '44.434913503383456',\n",
       "  'long': '26.047763434064816',\n",
       "  'time': '11:05:36:700'},\n",
       " '11:05:37:500': {'lat': '44.43491350338276',\n",
       "  'long': '26.047776028790505',\n",
       "  'time': '11:05:37:500'},\n",
       " '11:05:38:300': {'lat': '44.43491350338206',\n",
       "  'long': '26.047788623516194',\n",
       "  'time': '11:05:38:300'},\n",
       " '11:05:39:100': {'lat': '44.43491350338137',\n",
       "  'long': '26.047801218241883',\n",
       "  'time': '11:05:39:100'},\n",
       " '11:05:39:900': {'lat': '44.43491350338067',\n",
       "  'long': '26.047813812967572',\n",
       "  'time': '11:05:39:900'},\n",
       " '11:05:40:700': {'lat': '44.43491350337998',\n",
       "  'long': '26.047826407693265',\n",
       "  'time': '11:05:40:700'},\n",
       " '11:05:41:400': {'lat': '44.434913503379285',\n",
       "  'long': '26.047839002418954',\n",
       "  'time': '11:05:41:400'},\n",
       " '11:05:42:100': {'lat': '44.434913503378596',\n",
       "  'long': '26.047851597144643',\n",
       "  'time': '11:05:42:100'},\n",
       " '11:05:42:900': {'lat': '44.43491350337789',\n",
       "  'long': '26.04786419187033',\n",
       "  'time': '11:05:42:900'},\n",
       " '11:05:43:500': {'lat': '44.4349135033772',\n",
       "  'long': '26.04787678659602',\n",
       "  'time': '11:05:43:500'},\n",
       " '11:05:44:300': {'lat': '44.434913503376514',\n",
       "  'long': '26.04788938132171',\n",
       "  'time': '11:05:44:300'},\n",
       " '11:05:44:900': {'lat': '44.43491799998454',\n",
       "  'long': '26.04788938132171',\n",
       "  'time': '11:05:44:900'},\n",
       " '11:05:48:000': {'lat': '44.434917999983846',\n",
       "  'long': '26.04790197604837',\n",
       "  'time': '11:05:48:000'},\n",
       " '11:05:49:000': {'lat': '44.4349374999837',\n",
       "  'long': '26.047903773512555',\n",
       "  'time': '11:05:49:000'},\n",
       " '11:05:51:700': {'lat': '44.43492850676764',\n",
       "  'long': '26.047903773512555',\n",
       "  'time': '11:05:51:700'},\n",
       " '11:05:52:500': {'lat': '44.43491951355158',\n",
       "  'long': '26.047903773512555',\n",
       "  'time': '11:05:52:500'},\n",
       " '11:05:53:400': {'lat': '44.434910520335514',\n",
       "  'long': '26.047903773512555',\n",
       "  'time': '11:05:53:400'},\n",
       " '11:05:54:100': {'lat': '44.43490152711945',\n",
       "  'long': '26.047903773512555',\n",
       "  'time': '11:05:54:100'},\n",
       " '11:05:54:900': {'lat': '44.43489253390339',\n",
       "  'long': '26.047903773512555',\n",
       "  'time': '11:05:54:900'},\n",
       " '11:05:55:600': {'lat': '44.43488354068732',\n",
       "  'long': '26.047903773512555',\n",
       "  'time': '11:05:55:600'},\n",
       " '11:05:56:400': {'lat': '44.43487454747127',\n",
       "  'long': '26.047903773512555',\n",
       "  'time': '11:05:56:400'},\n",
       " '11:05:57:100': {'lat': '44.43487454747057',\n",
       "  'long': '26.047916368229846',\n",
       "  'time': '11:05:57:100'},\n",
       " '11:05:57:900': {'lat': '44.434874547469875',\n",
       "  'long': '26.04792896294714',\n",
       "  'time': '11:05:57:900'},\n",
       " '11:05:58:600': {'lat': '44.434874547469185',\n",
       "  'long': '26.04794155766443',\n",
       "  'time': '11:05:58:600'},\n",
       " '11:05:59:500': {'lat': '44.43488354068524',\n",
       "  'long': '26.04794155766443',\n",
       "  'time': '11:05:59:500'},\n",
       " '11:06:00:400': {'lat': '44.4348925339013',\n",
       "  'long': '26.04794155766443',\n",
       "  'time': '11:06:00:400'},\n",
       " '11:06:01:100': {'lat': '44.43490152711736',\n",
       "  'long': '26.04794155766443',\n",
       "  'time': '11:06:01:100'},\n",
       " '11:06:01:900': {'lat': '44.43491052033342',\n",
       "  'long': '26.04794155766443',\n",
       "  'time': '11:06:01:900'},\n",
       " '11:06:02:600': {'lat': '44.434919513549474',\n",
       "  'long': '26.04794155766443',\n",
       "  'time': '11:06:02:600'},\n",
       " '11:06:03:400': {'lat': '44.43492850676553',\n",
       "  'long': '26.04794155766443',\n",
       "  'time': '11:06:03:400'},\n",
       " '11:06:04:200': {'lat': '44.43493749998159',\n",
       "  'long': '26.04794155766443',\n",
       "  'time': '11:06:04:200'},\n",
       " '11:06:04:500': {'lat': '44.43493749998141',\n",
       "  'long': '26.047935260299',\n",
       "  'time': '11:06:04:500'},\n",
       " '11:06:05:400': {'lat': '44.43493749998072',\n",
       "  'long': '26.04792266556814',\n",
       "  'time': '11:06:05:400'},\n",
       " '11:06:06:200': {'lat': '44.43493749998002',\n",
       "  'long': '26.04791007083728',\n",
       "  'time': '11:06:06:200'},\n",
       " '11:06:07:000': {'lat': '44.434937499979846',\n",
       "  'long': '26.047903773471848',\n",
       "  'time': '11:06:07:000'},\n",
       " '11:06:08:000': {'lat': '44.43493749997967',\n",
       "  'long': '26.04789747610642',\n",
       "  'time': '11:06:08:000'},\n",
       " '11:06:11:400': {'lat': '44.43493749997897',\n",
       "  'long': '26.047884881375563',\n",
       "  'time': '11:06:11:400'},\n",
       " '11:06:12:300': {'lat': '44.434941996587',\n",
       "  'long': '26.047884881375563',\n",
       "  'time': '11:06:12:300'},\n",
       " '11:06:13:000': {'lat': '44.43494199658631',\n",
       "  'long': '26.04787228664373',\n",
       "  'time': '11:06:13:000'},\n",
       " '11:06:13:900': {'lat': '44.43494199658562',\n",
       "  'long': '26.0478596919119',\n",
       "  'time': '11:06:13:900'},\n",
       " '11:06:14:600': {'lat': '44.434941996584925',\n",
       "  'long': '26.04784709718007',\n",
       "  'time': '11:06:14:600'},\n",
       " '11:06:15:500': {'lat': '44.43494199658423',\n",
       "  'long': '26.04783450244824',\n",
       "  'time': '11:06:15:500'},\n",
       " '11:06:16:100': {'lat': '44.43494199658353',\n",
       "  'long': '26.047821907716408',\n",
       "  'time': '11:06:16:100'},\n",
       " '11:06:16:900': {'lat': '44.43494199658284',\n",
       "  'long': '26.04780931298458',\n",
       "  'time': '11:06:16:900'},\n",
       " '11:06:17:500': {'lat': '44.434941996582154',\n",
       "  'long': '26.047796718252748',\n",
       "  'time': '11:06:17:500'},\n",
       " '11:06:18:300': {'lat': '44.43494199658146',\n",
       "  'long': '26.047784123520916',\n",
       "  'time': '11:06:18:300'},\n",
       " '11:06:18:700': {'lat': '44.43494199658128',\n",
       "  'long': '26.047777826155002',\n",
       "  'time': '11:06:18:700'},\n",
       " '11:06:19:000': {'lat': '44.4349419965811',\n",
       "  'long': '26.04777152878909',\n",
       "  'time': '11:06:19:000'},\n",
       " '11:06:19:700': {'lat': '44.43494199658041',\n",
       "  'long': '26.047758934057264',\n",
       "  'time': '11:06:19:700'},\n",
       " '11:06:20:000': {'lat': '44.434941996580235',\n",
       "  'long': '26.04775263669135',\n",
       "  'time': '11:06:20:000'},\n",
       " '11:06:20:400': {'lat': '44.43494199658006',\n",
       "  'long': '26.047746339325435',\n",
       "  'time': '11:06:20:400'},\n",
       " '11:06:20:700': {'lat': '44.43494199657988',\n",
       "  'long': '26.04774004195952',\n",
       "  'time': '11:06:20:700'},\n",
       " '11:06:21:100': {'lat': '44.4349419965797',\n",
       "  'long': '26.047733744593607',\n",
       "  'time': '11:06:21:100'},\n",
       " '11:06:21:800': {'lat': '44.43494199657901',\n",
       "  'long': '26.047721149861776',\n",
       "  'time': '11:06:21:800'},\n",
       " '11:06:22:500': {'lat': '44.434941996578324',\n",
       "  'long': '26.047708555129947',\n",
       "  'time': '11:06:22:500'},\n",
       " '11:06:23:100': {'lat': '44.43494199657763',\n",
       "  'long': '26.047695960398116',\n",
       "  'time': '11:06:23:100'},\n",
       " '11:06:23:600': {'lat': '44.43493749996959',\n",
       "  'long': '26.047695960398116',\n",
       "  'time': '11:06:23:600'},\n",
       " '11:06:24:500': {'lat': '44.434937499968896',\n",
       "  'long': '26.047683365667254',\n",
       "  'time': '11:06:24:500'},\n",
       " '11:06:25:900': {'lat': '44.43493749996872',\n",
       "  'long': '26.047677068301827',\n",
       "  'time': '11:06:25:900'},\n",
       " '11:06:30:000': {'lat': '44.43493749996802',\n",
       "  'long': '26.04766447357097',\n",
       "  'time': '11:06:30:000'},\n",
       " '11:06:30:900': {'lat': '44.434937499967326',\n",
       "  'long': '26.047651878840107',\n",
       "  'time': '11:06:30:900'},\n",
       " '11:06:31:700': {'lat': '44.43493749996664',\n",
       "  'long': '26.04763928410925',\n",
       "  'time': '11:06:31:700'},\n",
       " '11:06:32:700': {'lat': '44.43493749996595',\n",
       "  'long': '26.04762668937839',\n",
       "  'time': '11:06:32:700'},\n",
       " '11:06:33:500': {'lat': '44.43493749996525',\n",
       "  'long': '26.04761409464753',\n",
       "  'time': '11:06:33:500'},\n",
       " '11:06:35:100': {'lat': '44.43493749996456',\n",
       "  'long': '26.04760149991667',\n",
       "  'time': '11:06:35:100'}}"
      ]
     },
     "execution_count": 150,
     "metadata": {},
     "output_type": "execute_result"
    }
   ],
   "source": [
    "# Reading the Ground Truth for the scenario 1, 11-05-07\n",
    "tree1 = ET.parse(ground_truth_scen_1)\n",
    "\n",
    "time_location_dict = {}\n",
    "\n",
    "for position in tree1.iter(tag = 'position'):\n",
    "#     print(position.attrib['time'].split(':')[:-1])\n",
    "    time_location_dict[position.attrib['time']] = position.attrib\n",
    "time_location_dict"
   ]
  },
  {
   "cell_type": "code",
   "execution_count": 151,
   "id": "38432c52",
   "metadata": {},
   "outputs": [],
   "source": [
    "dict_for_df = {'lat': [],\n",
    "               'long': [],\n",
    "               'timestamp': []}\n",
    "\n",
    "for timestamp, location in time_location_dict.items():\n",
    "#     print('key: ', timestamp, ', location:', location)\n",
    "    pass"
   ]
  },
  {
   "cell_type": "markdown",
   "id": "0d902ee6",
   "metadata": {},
   "source": [
    "## 3. Data vizualisation"
   ]
  },
  {
   "cell_type": "code",
   "execution_count": 152,
   "id": "24f96555",
   "metadata": {},
   "outputs": [
    {
     "name": "stderr",
     "output_type": "stream",
     "text": [
      "findfont: Font family ['normal'] not found. Falling back to DejaVu Sans.\n"
     ]
    },
    {
     "data": {
      "text/plain": [
       "<seaborn.axisgrid.FacetGrid at 0x25198487f10>"
      ]
     },
     "execution_count": 152,
     "metadata": {},
     "output_type": "execute_result"
    },
    {
     "data": {
      "image/png": "[encoded data removed]",
      "text/plain": [
       "<Figure size 455.125x360 with 1 Axes>"
      ]
     },
     "metadata": {
      "needs_background": "light"
     },
     "output_type": "display_data"
    }
   ],
   "source": [
    "# Making the bar chart for buildings\n",
    "sns.displot(dataset_ujloc[['BUILDINGID']], kde=False)"
   ]
  },
  {
   "cell_type": "code",
   "execution_count": 153,
   "id": "47dc7500",
   "metadata": {},
   "outputs": [
    {
     "data": {
      "text/plain": [
       "<seaborn.axisgrid.FacetGrid at 0x251984e0310>"
      ]
     },
     "execution_count": 153,
     "metadata": {},
     "output_type": "execute_result"
    },
    {
     "data": {
      "image/png": "[encoded data removed]",
      "text/plain": [
       "<Figure size 429.25x360 with 1 Axes>"
      ]
     },
     "metadata": {
      "needs_background": "light"
     },
     "output_type": "display_data"
    }
   ],
   "source": [
    "# Making the bar chart for floors\n",
    "sns.displot(dataset_ujloc[['FLOOR']],kde=False)"
   ]
  },
  {
   "cell_type": "code",
   "execution_count": 154,
   "id": "a043de56",
   "metadata": {},
   "outputs": [
    {
     "data": {
      "image/png": "[encoded data removed]",
      "text/plain": [
       "<Figure size 720x720 with 1 Axes>"
      ]
     },
     "metadata": {
      "needs_background": "light"
     },
     "output_type": "display_data"
    }
   ],
   "source": [
    "# The scatter plot of the available data points | 14,700 m2\n",
    "markers = ('s', 'X', 'o')\n",
    "colors = ('red', 'yellow', 'lightgreen')\n",
    "cmap = ListedColormap(colors[:len(np.unique(dataset_ujloc['BUILDINGID']))])\n",
    "\n",
    "\n",
    "fig = plt.figure(figsize=(10,10))\n",
    "for idx, cl in enumerate(np.unique(dataset_ujloc['BUILDINGID'])):\n",
    "        plt.scatter(x=dataset_ujloc.loc[dataset_ujloc.BUILDINGID== cl]['LATITUDE'], \n",
    "                    y=dataset_ujloc.loc[dataset_ujloc.BUILDINGID== cl]['LONGITUDE'],\n",
    "                    alpha=0.6, \n",
    "                    c=[cmap(idx)],\n",
    "                    edgecolor='black',\n",
    "                    marker=markers[idx], \n",
    "                    label=cl)\n",
    "\n",
    "plt.xlabel('Latitude')\n",
    "plt.ylabel('Longitude')\n",
    "plt.legend(loc='upper right')\n",
    "plt.tight_layout()"
   ]
  },
  {
   "cell_type": "code",
   "execution_count": 155,
   "id": "ca7c5d8e",
   "metadata": {},
   "outputs": [
    {
     "data": {
      "text/plain": [
       "<AxesSubplot:xlabel='FLOOR', ylabel='count'>"
      ]
     },
     "execution_count": 155,
     "metadata": {},
     "output_type": "execute_result"
    },
    {
     "data": {
      "image/png": "[encoded data removed]",
      "text/plain": [
       "<Figure size 432x288 with 1 Axes>"
      ]
     },
     "metadata": {
      "needs_background": "light"
     },
     "output_type": "display_data"
    }
   ],
   "source": [
    "# Buildings 0/1 have 4 floors, building 2 has 5\n",
    "sns.countplot(x=\"FLOOR\", hue=\"BUILDINGID\", data=dataset_ujloc, orient=\"v\")"
   ]
  },
  {
   "cell_type": "code",
   "execution_count": 156,
   "id": "5835b3f3",
   "metadata": {},
   "outputs": [
    {
     "name": "stderr",
     "output_type": "stream",
     "text": [
      "findfont: Font family ['normal'] not found. Falling back to DejaVu Sans.\n"
     ]
    },
    {
     "data": {
      "image/png": "[encoded data removed]",
      "text/plain": [
       "<Figure size 1080x1080 with 1 Axes>"
      ]
     },
     "metadata": {
      "needs_background": "light"
     },
     "output_type": "display_data"
    }
   ],
   "source": [
    "fig = plt.figure(figsize=(15,15))\n",
    "ax = fig.add_subplot(111, projection='3d')\n",
    "xs = dataset_ujloc['LONGITUDE']\n",
    "ys = dataset_ujloc['LATITUDE']\n",
    "zs = dataset_ujloc['FLOOR']\n",
    "ax.scatter(xs, ys, zs, alpha=0.5, s=10,marker='o')\n",
    "\n",
    "plt.title(\"Location points with respect to the floor\")\n",
    "\n",
    "plt.xlabel('Latitude')\n",
    "plt.ylabel('Longitude')\n",
    "\n",
    "plt.show()"
   ]
  },
  {
   "cell_type": "markdown",
   "id": "18f8da6e",
   "metadata": {},
   "source": [
    "## 4. Data preprocessing"
   ]
  },
  {
   "cell_type": "code",
   "execution_count": 157,
   "id": "412cfc82",
   "metadata": {},
   "outputs": [],
   "source": [
    "# Removing the unused columns\n",
    "dataset_ujloc.drop([\"SPACEID\", \"RELATIVEPOSITION\", \"USERID\", \"PHONEID\", \"TIMESTAMP\"], axis=1, inplace=True)\n",
    "validation_dataset_ujloc.drop([\"SPACEID\", \"RELATIVEPOSITION\", \"USERID\", \"PHONEID\", \"TIMESTAMP\"], axis=1, inplace=True)"
   ]
  },
  {
   "cell_type": "code",
   "execution_count": 158,
   "id": "aab41b91",
   "metadata": {},
   "outputs": [
    {
     "data": {
      "text/html": [
       "<div>\n",
       "<style scoped>\n",
       "    .dataframe tbody tr th:only-of-type {\n",
       "        vertical-align: middle;\n",
       "    }\n",
       "\n",
       "    .dataframe tbody tr th {\n",
       "        vertical-align: top;\n",
       "    }\n",
       "\n",
       "    .dataframe thead th {\n",
       "        text-align: right;\n",
       "    }\n",
       "</style>\n",
       "<table border=\"1\" class=\"dataframe\">\n",
       "  <thead>\n",
       "    <tr style=\"text-align: right;\">\n",
       "      <th></th>\n",
       "      <th>WAP001</th>\n",
       "      <th>WAP002</th>\n",
       "      <th>WAP003</th>\n",
       "      <th>WAP004</th>\n",
       "      <th>WAP005</th>\n",
       "      <th>WAP006</th>\n",
       "      <th>WAP007</th>\n",
       "      <th>WAP008</th>\n",
       "      <th>WAP009</th>\n",
       "      <th>WAP010</th>\n",
       "      <th>...</th>\n",
       "      <th>WAP515</th>\n",
       "      <th>WAP516</th>\n",
       "      <th>WAP517</th>\n",
       "      <th>WAP518</th>\n",
       "      <th>WAP519</th>\n",
       "      <th>WAP520</th>\n",
       "      <th>LONGITUDE</th>\n",
       "      <th>LATITUDE</th>\n",
       "      <th>FLOOR</th>\n",
       "      <th>BUILDINGID</th>\n",
       "    </tr>\n",
       "  </thead>\n",
       "  <tbody>\n",
       "    <tr>\n",
       "      <th>46</th>\n",
       "      <td>100</td>\n",
       "      <td>100</td>\n",
       "      <td>100</td>\n",
       "      <td>100</td>\n",
       "      <td>100</td>\n",
       "      <td>100</td>\n",
       "      <td>100</td>\n",
       "      <td>100</td>\n",
       "      <td>100</td>\n",
       "      <td>100</td>\n",
       "      <td>...</td>\n",
       "      <td>100</td>\n",
       "      <td>100</td>\n",
       "      <td>-93</td>\n",
       "      <td>100</td>\n",
       "      <td>100</td>\n",
       "      <td>100</td>\n",
       "      <td>-7331.748000</td>\n",
       "      <td>4.864767e+06</td>\n",
       "      <td>3</td>\n",
       "      <td>2</td>\n",
       "    </tr>\n",
       "    <tr>\n",
       "      <th>47</th>\n",
       "      <td>100</td>\n",
       "      <td>100</td>\n",
       "      <td>100</td>\n",
       "      <td>100</td>\n",
       "      <td>100</td>\n",
       "      <td>100</td>\n",
       "      <td>100</td>\n",
       "      <td>100</td>\n",
       "      <td>100</td>\n",
       "      <td>100</td>\n",
       "      <td>...</td>\n",
       "      <td>100</td>\n",
       "      <td>100</td>\n",
       "      <td>-89</td>\n",
       "      <td>100</td>\n",
       "      <td>100</td>\n",
       "      <td>100</td>\n",
       "      <td>-7331.400500</td>\n",
       "      <td>4.864768e+06</td>\n",
       "      <td>3</td>\n",
       "      <td>2</td>\n",
       "    </tr>\n",
       "    <tr>\n",
       "      <th>49</th>\n",
       "      <td>100</td>\n",
       "      <td>100</td>\n",
       "      <td>100</td>\n",
       "      <td>100</td>\n",
       "      <td>100</td>\n",
       "      <td>100</td>\n",
       "      <td>100</td>\n",
       "      <td>100</td>\n",
       "      <td>100</td>\n",
       "      <td>100</td>\n",
       "      <td>...</td>\n",
       "      <td>100</td>\n",
       "      <td>100</td>\n",
       "      <td>100</td>\n",
       "      <td>-91</td>\n",
       "      <td>100</td>\n",
       "      <td>100</td>\n",
       "      <td>-7327.492165</td>\n",
       "      <td>4.864767e+06</td>\n",
       "      <td>3</td>\n",
       "      <td>2</td>\n",
       "    </tr>\n",
       "    <tr>\n",
       "      <th>50</th>\n",
       "      <td>100</td>\n",
       "      <td>100</td>\n",
       "      <td>100</td>\n",
       "      <td>100</td>\n",
       "      <td>100</td>\n",
       "      <td>100</td>\n",
       "      <td>100</td>\n",
       "      <td>100</td>\n",
       "      <td>100</td>\n",
       "      <td>100</td>\n",
       "      <td>...</td>\n",
       "      <td>100</td>\n",
       "      <td>100</td>\n",
       "      <td>-90</td>\n",
       "      <td>100</td>\n",
       "      <td>100</td>\n",
       "      <td>100</td>\n",
       "      <td>-7336.700400</td>\n",
       "      <td>4.864764e+06</td>\n",
       "      <td>3</td>\n",
       "      <td>2</td>\n",
       "    </tr>\n",
       "    <tr>\n",
       "      <th>51</th>\n",
       "      <td>100</td>\n",
       "      <td>100</td>\n",
       "      <td>100</td>\n",
       "      <td>100</td>\n",
       "      <td>100</td>\n",
       "      <td>100</td>\n",
       "      <td>100</td>\n",
       "      <td>100</td>\n",
       "      <td>100</td>\n",
       "      <td>100</td>\n",
       "      <td>...</td>\n",
       "      <td>100</td>\n",
       "      <td>100</td>\n",
       "      <td>-92</td>\n",
       "      <td>100</td>\n",
       "      <td>100</td>\n",
       "      <td>100</td>\n",
       "      <td>-7337.394800</td>\n",
       "      <td>4.864763e+06</td>\n",
       "      <td>3</td>\n",
       "      <td>2</td>\n",
       "    </tr>\n",
       "    <tr>\n",
       "      <th>...</th>\n",
       "      <td>...</td>\n",
       "      <td>...</td>\n",
       "      <td>...</td>\n",
       "      <td>...</td>\n",
       "      <td>...</td>\n",
       "      <td>...</td>\n",
       "      <td>...</td>\n",
       "      <td>...</td>\n",
       "      <td>...</td>\n",
       "      <td>...</td>\n",
       "      <td>...</td>\n",
       "      <td>...</td>\n",
       "      <td>...</td>\n",
       "      <td>...</td>\n",
       "      <td>...</td>\n",
       "      <td>...</td>\n",
       "      <td>...</td>\n",
       "      <td>...</td>\n",
       "      <td>...</td>\n",
       "      <td>...</td>\n",
       "      <td>...</td>\n",
       "    </tr>\n",
       "    <tr>\n",
       "      <th>19926</th>\n",
       "      <td>100</td>\n",
       "      <td>100</td>\n",
       "      <td>100</td>\n",
       "      <td>100</td>\n",
       "      <td>100</td>\n",
       "      <td>100</td>\n",
       "      <td>100</td>\n",
       "      <td>100</td>\n",
       "      <td>100</td>\n",
       "      <td>100</td>\n",
       "      <td>...</td>\n",
       "      <td>100</td>\n",
       "      <td>100</td>\n",
       "      <td>-87</td>\n",
       "      <td>100</td>\n",
       "      <td>100</td>\n",
       "      <td>100</td>\n",
       "      <td>-7331.496600</td>\n",
       "      <td>4.864768e+06</td>\n",
       "      <td>1</td>\n",
       "      <td>2</td>\n",
       "    </tr>\n",
       "    <tr>\n",
       "      <th>19927</th>\n",
       "      <td>100</td>\n",
       "      <td>100</td>\n",
       "      <td>100</td>\n",
       "      <td>100</td>\n",
       "      <td>100</td>\n",
       "      <td>100</td>\n",
       "      <td>100</td>\n",
       "      <td>100</td>\n",
       "      <td>100</td>\n",
       "      <td>100</td>\n",
       "      <td>...</td>\n",
       "      <td>100</td>\n",
       "      <td>-84</td>\n",
       "      <td>-77</td>\n",
       "      <td>100</td>\n",
       "      <td>100</td>\n",
       "      <td>100</td>\n",
       "      <td>-7390.734700</td>\n",
       "      <td>4.864835e+06</td>\n",
       "      <td>1</td>\n",
       "      <td>2</td>\n",
       "    </tr>\n",
       "    <tr>\n",
       "      <th>19928</th>\n",
       "      <td>100</td>\n",
       "      <td>100</td>\n",
       "      <td>100</td>\n",
       "      <td>100</td>\n",
       "      <td>100</td>\n",
       "      <td>100</td>\n",
       "      <td>100</td>\n",
       "      <td>100</td>\n",
       "      <td>100</td>\n",
       "      <td>100</td>\n",
       "      <td>...</td>\n",
       "      <td>100</td>\n",
       "      <td>-90</td>\n",
       "      <td>-87</td>\n",
       "      <td>100</td>\n",
       "      <td>100</td>\n",
       "      <td>100</td>\n",
       "      <td>-7331.463800</td>\n",
       "      <td>4.864769e+06</td>\n",
       "      <td>1</td>\n",
       "      <td>2</td>\n",
       "    </tr>\n",
       "    <tr>\n",
       "      <th>19931</th>\n",
       "      <td>100</td>\n",
       "      <td>100</td>\n",
       "      <td>100</td>\n",
       "      <td>100</td>\n",
       "      <td>100</td>\n",
       "      <td>100</td>\n",
       "      <td>100</td>\n",
       "      <td>100</td>\n",
       "      <td>100</td>\n",
       "      <td>100</td>\n",
       "      <td>...</td>\n",
       "      <td>100</td>\n",
       "      <td>100</td>\n",
       "      <td>-91</td>\n",
       "      <td>100</td>\n",
       "      <td>100</td>\n",
       "      <td>100</td>\n",
       "      <td>-7394.577825</td>\n",
       "      <td>4.864837e+06</td>\n",
       "      <td>1</td>\n",
       "      <td>2</td>\n",
       "    </tr>\n",
       "    <tr>\n",
       "      <th>19933</th>\n",
       "      <td>100</td>\n",
       "      <td>100</td>\n",
       "      <td>100</td>\n",
       "      <td>100</td>\n",
       "      <td>100</td>\n",
       "      <td>100</td>\n",
       "      <td>100</td>\n",
       "      <td>100</td>\n",
       "      <td>100</td>\n",
       "      <td>100</td>\n",
       "      <td>...</td>\n",
       "      <td>100</td>\n",
       "      <td>100</td>\n",
       "      <td>100</td>\n",
       "      <td>100</td>\n",
       "      <td>100</td>\n",
       "      <td>100</td>\n",
       "      <td>-7390.620600</td>\n",
       "      <td>4.864836e+06</td>\n",
       "      <td>1</td>\n",
       "      <td>2</td>\n",
       "    </tr>\n",
       "  </tbody>\n",
       "</table>\n",
       "<p>9492 rows × 524 columns</p>\n",
       "</div>"
      ],
      "text/plain": [
       "       WAP001  WAP002  WAP003  WAP004  WAP005  WAP006  WAP007  WAP008  WAP009  \\\n",
       "46        100     100     100     100     100     100     100     100     100   \n",
       "47        100     100     100     100     100     100     100     100     100   \n",
       "49        100     100     100     100     100     100     100     100     100   \n",
       "50        100     100     100     100     100     100     100     100     100   \n",
       "51        100     100     100     100     100     100     100     100     100   \n",
       "...       ...     ...     ...     ...     ...     ...     ...     ...     ...   \n",
       "19926     100     100     100     100     100     100     100     100     100   \n",
       "19927     100     100     100     100     100     100     100     100     100   \n",
       "19928     100     100     100     100     100     100     100     100     100   \n",
       "19931     100     100     100     100     100     100     100     100     100   \n",
       "19933     100     100     100     100     100     100     100     100     100   \n",
       "\n",
       "       WAP010  ...  WAP515  WAP516  WAP517  WAP518  WAP519  WAP520  \\\n",
       "46        100  ...     100     100     -93     100     100     100   \n",
       "47        100  ...     100     100     -89     100     100     100   \n",
       "49        100  ...     100     100     100     -91     100     100   \n",
       "50        100  ...     100     100     -90     100     100     100   \n",
       "51        100  ...     100     100     -92     100     100     100   \n",
       "...       ...  ...     ...     ...     ...     ...     ...     ...   \n",
       "19926     100  ...     100     100     -87     100     100     100   \n",
       "19927     100  ...     100     -84     -77     100     100     100   \n",
       "19928     100  ...     100     -90     -87     100     100     100   \n",
       "19931     100  ...     100     100     -91     100     100     100   \n",
       "19933     100  ...     100     100     100     100     100     100   \n",
       "\n",
       "         LONGITUDE      LATITUDE  FLOOR  BUILDINGID  \n",
       "46    -7331.748000  4.864767e+06      3           2  \n",
       "47    -7331.400500  4.864768e+06      3           2  \n",
       "49    -7327.492165  4.864767e+06      3           2  \n",
       "50    -7336.700400  4.864764e+06      3           2  \n",
       "51    -7337.394800  4.864763e+06      3           2  \n",
       "...            ...           ...    ...         ...  \n",
       "19926 -7331.496600  4.864768e+06      1           2  \n",
       "19927 -7390.734700  4.864835e+06      1           2  \n",
       "19928 -7331.463800  4.864769e+06      1           2  \n",
       "19931 -7394.577825  4.864837e+06      1           2  \n",
       "19933 -7390.620600  4.864836e+06      1           2  \n",
       "\n",
       "[9492 rows x 524 columns]"
      ]
     },
     "execution_count": 158,
     "metadata": {},
     "output_type": "execute_result"
    }
   ],
   "source": [
    "dataset_ujloc"
   ]
  },
  {
   "cell_type": "markdown",
   "id": "dc6bc37d",
   "metadata": {},
   "source": [
    "### 4.1. Dropping BUILDINGID for cases where we train on a single building"
   ]
  },
  {
   "cell_type": "code",
   "execution_count": 159,
   "id": "734c6054",
   "metadata": {},
   "outputs": [],
   "source": [
    "# Removing the building (for scenario with only a building selected)\n",
    "# dataset_ujloc.drop([\"BUILDINGID\"], axis=1, inplace=True)\n",
    "# validation_dataset_ujloc.drop([\"BUILDINGID\"], axis=1, inplace=True)"
   ]
  },
  {
   "cell_type": "code",
   "execution_count": 160,
   "id": "4fca7ac8",
   "metadata": {},
   "outputs": [],
   "source": [
    "# dataset_ujloc.head(5)"
   ]
  },
  {
   "cell_type": "markdown",
   "id": "f591a033",
   "metadata": {},
   "source": [
    "### 4.2. Encoding a POINT column (FLOOR+BUILDINGID) for cases of multi-building classification"
   ]
  },
  {
   "cell_type": "code",
   "execution_count": 161,
   "id": "36179e79",
   "metadata": {},
   "outputs": [],
   "source": [
    "# Creating the output (target) column for DNN (For the case of FLOOR+Building // otherwise, just floor is enough (for only 1 building seleted))\n",
    "# dataset_ujloc['POINT'] = dataset_ujloc['FLOOR'].astype(str) + dataset_ujloc['BUILDINGID'].astype(str)\n",
    "# validation_dataset_ujloc['POINT'] = validation_dataset_ujloc['FLOOR'].astype(str) + \\\n",
    "#                                     validation_dataset_ujloc['BUILDINGID'].astype(str)"
   ]
  },
  {
   "cell_type": "code",
   "execution_count": 162,
   "id": "d75ef707",
   "metadata": {},
   "outputs": [],
   "source": [
    "# dataset_ujloc.head(5)"
   ]
  },
  {
   "cell_type": "code",
   "execution_count": 163,
   "id": "095488f0",
   "metadata": {},
   "outputs": [],
   "source": [
    "# Encoding the FLOOR+BUILDING (=POINT)\n",
    "# floor_build_encoder = LabelEncoder()\n",
    "# floor_build_encoder.fit(dataset_ujloc[\"POINT\"])"
   ]
  },
  {
   "cell_type": "code",
   "execution_count": 164,
   "id": "93fc89ed",
   "metadata": {},
   "outputs": [],
   "source": [
    "# floor_build_encoder = floor_build_encoder.transform(dataset_ujloc['POINT'])"
   ]
  },
  {
   "cell_type": "code",
   "execution_count": 165,
   "id": "0844567a",
   "metadata": {},
   "outputs": [],
   "source": [
    "# df_point_encoded = pd.DataFrame(floor_build_encoder, columns=['POINT_ENCODED'])"
   ]
  },
  {
   "cell_type": "code",
   "execution_count": 166,
   "id": "bf4d78b5",
   "metadata": {},
   "outputs": [],
   "source": [
    "# dataset_ujloc = pd.concat([dataset_ujloc, df_point_encoded], axis=1)"
   ]
  },
  {
   "cell_type": "code",
   "execution_count": 167,
   "id": "913fc352",
   "metadata": {},
   "outputs": [],
   "source": [
    "# dataset_ujloc"
   ]
  },
  {
   "cell_type": "markdown",
   "id": "8ee2f9a3",
   "metadata": {},
   "source": [
    "## ----------------------- Up until here the dataset and validation are the same -------------------"
   ]
  },
  {
   "cell_type": "markdown",
   "id": "8a2d77f5",
   "metadata": {},
   "source": [
    "### 4.3. Splitting the data in labels and targets for the first DNN (Step 1)"
   ]
  },
  {
   "cell_type": "code",
   "execution_count": 168,
   "id": "6a8ce0ec",
   "metadata": {},
   "outputs": [],
   "source": [
    "X = dataset_ujloc.iloc[:, :520].values\n",
    "y = dataset_ujloc['FLOOR'].values"
   ]
  },
  {
   "cell_type": "code",
   "execution_count": 169,
   "id": "dad09faf",
   "metadata": {},
   "outputs": [
    {
     "data": {
      "text/plain": [
       "array([[100, 100, 100, ..., 100, 100, 100],\n",
       "       [100, 100, 100, ..., 100, 100, 100],\n",
       "       [100, 100, 100, ..., -91, 100, 100],\n",
       "       ...,\n",
       "       [100, 100, 100, ..., 100, 100, 100],\n",
       "       [100, 100, 100, ..., 100, 100, 100],\n",
       "       [100, 100, 100, ..., 100, 100, 100]], dtype=int64)"
      ]
     },
     "execution_count": 169,
     "metadata": {},
     "output_type": "execute_result"
    }
   ],
   "source": [
    "X"
   ]
  },
  {
   "cell_type": "code",
   "execution_count": 170,
   "id": "6ff9aaad",
   "metadata": {},
   "outputs": [
    {
     "data": {
      "text/plain": [
       "array([3, 3, 3, ..., 1, 1, 1], dtype=int64)"
      ]
     },
     "execution_count": 170,
     "metadata": {},
     "output_type": "execute_result"
    }
   ],
   "source": [
    "y"
   ]
  },
  {
   "cell_type": "markdown",
   "id": "a41f1741",
   "metadata": {},
   "source": [
    "### 4.4. Splitting the dataset into Training and Test set"
   ]
  },
  {
   "cell_type": "code",
   "execution_count": 171,
   "id": "87761296",
   "metadata": {},
   "outputs": [],
   "source": [
    "X_train, X_test, y_train, y_test = train_test_split(X, y, test_size = 0.2, random_state = 0)"
   ]
  },
  {
   "cell_type": "code",
   "execution_count": 172,
   "id": "68cc5182",
   "metadata": {},
   "outputs": [
    {
     "data": {
      "text/plain": [
       "array([[100, 100, 100, ..., 100, 100, 100],\n",
       "       [100, 100, 100, ..., 100, 100, 100],\n",
       "       [100, 100, 100, ..., 100, 100, 100],\n",
       "       ...,\n",
       "       [100, 100, 100, ..., 100, 100, 100],\n",
       "       [100, 100, 100, ..., 100, 100, 100],\n",
       "       [100, 100, 100, ..., 100, 100, 100]], dtype=int64)"
      ]
     },
     "execution_count": 172,
     "metadata": {},
     "output_type": "execute_result"
    }
   ],
   "source": [
    "X_train"
   ]
  },
  {
   "cell_type": "markdown",
   "id": "1b54b115",
   "metadata": {},
   "source": [
    "### 4.5. Feature scaling"
   ]
  },
  {
   "cell_type": "code",
   "execution_count": 173,
   "id": "84619c2a",
   "metadata": {},
   "outputs": [],
   "source": [
    "sc = StandardScaler()\n",
    "X_train = sc.fit_transform(X_train)\n",
    "X_test = sc.transform(X_test) "
   ]
  },
  {
   "cell_type": "code",
   "execution_count": 174,
   "id": "1f7894eb",
   "metadata": {},
   "outputs": [
    {
     "data": {
      "text/plain": [
       "(7593, 520)"
      ]
     },
     "execution_count": 174,
     "metadata": {},
     "output_type": "execute_result"
    }
   ],
   "source": [
    "X_train.shape"
   ]
  },
  {
   "cell_type": "code",
   "execution_count": 175,
   "id": "bfdd0886",
   "metadata": {},
   "outputs": [
    {
     "data": {
      "text/plain": [
       "(7593,)"
      ]
     },
     "execution_count": 175,
     "metadata": {},
     "output_type": "execute_result"
    }
   ],
   "source": [
    "y_train.shape"
   ]
  },
  {
   "cell_type": "markdown",
   "id": "a496027a",
   "metadata": {},
   "source": [
    "## 5. Building the first DNN model"
   ]
  },
  {
   "cell_type": "markdown",
   "id": "24865123",
   "metadata": {},
   "source": [
    "### 5.1. Initializing the NN"
   ]
  },
  {
   "cell_type": "code",
   "execution_count": 176,
   "id": "d623c210",
   "metadata": {},
   "outputs": [],
   "source": [
    " nn = tf.keras.models.Sequential()"
   ]
  },
  {
   "cell_type": "markdown",
   "id": "dc295049",
   "metadata": {},
   "source": [
    "### 5.2. Adding the input layer and the first hidden layer"
   ]
  },
  {
   "cell_type": "code",
   "execution_count": 177,
   "id": "3dc1a8f9",
   "metadata": {},
   "outputs": [],
   "source": [
    "# Adding a fully-connected layer (it automatically create the input layer)\n",
    "# num of neurons = num of features (520 APs)\n",
    "input_size = 520\n",
    "nn.add(tf.keras.layers.Dense(input_dim=input_size, units=256, activation='relu'))"
   ]
  },
  {
   "cell_type": "markdown",
   "id": "48f6649a",
   "metadata": {},
   "source": [
    "### 5.3. Adding the second layer"
   ]
  },
  {
   "cell_type": "code",
   "execution_count": 178,
   "id": "1944b0a8",
   "metadata": {},
   "outputs": [],
   "source": [
    "# Adding a layer with 128 neurons\n",
    "nn.add(tf.keras.layers.Dense(units=128, activation='relu'))"
   ]
  },
  {
   "cell_type": "markdown",
   "id": "7c90719e",
   "metadata": {},
   "source": [
    "### 5.4. Adding the output layer"
   ]
  },
  {
   "cell_type": "code",
   "execution_count": 179,
   "id": "7e510126",
   "metadata": {},
   "outputs": [],
   "source": [
    "# sotmax for > 2 categories\n",
    "classes = 5\n",
    "nn.add(tf.keras.layers.Dense(units=classes, activation='softmax'))"
   ]
  },
  {
   "cell_type": "markdown",
   "id": "71f7a36d",
   "metadata": {},
   "source": [
    "## 6. Training the DNN"
   ]
  },
  {
   "cell_type": "markdown",
   "id": "eae2c317",
   "metadata": {},
   "source": [
    "### 6.1. Compiling the DNN"
   ]
  },
  {
   "cell_type": "code",
   "execution_count": 180,
   "id": "77fe096a",
   "metadata": {},
   "outputs": [],
   "source": [
    "# Optimizer = Adam ==> Stochastic Gradient Descent\n",
    "nn.compile(optimizer = 'adam',\n",
    "           loss = 'sparse_categorical_crossentropy',\n",
    "           metrics = ['accuracy'])"
   ]
  },
  {
   "cell_type": "markdown",
   "id": "222212f3",
   "metadata": {},
   "source": [
    "### 6.2. Training the ANN on the Training set"
   ]
  },
  {
   "cell_type": "code",
   "execution_count": 181,
   "id": "dbfe4f24",
   "metadata": {},
   "outputs": [
    {
     "name": "stdout",
     "output_type": "stream",
     "text": [
      "Epoch 1/20\n",
      "238/238 [==============================] - 2s 4ms/step - loss: 0.2545 - accuracy: 0.9169\n",
      "Epoch 2/20\n",
      "238/238 [==============================] - 1s 3ms/step - loss: 0.0657 - accuracy: 0.9767\n",
      "Epoch 3/20\n",
      "238/238 [==============================] - 1s 3ms/step - loss: 0.0361 - accuracy: 0.9866\n",
      "Epoch 4/20\n",
      "238/238 [==============================] - 1s 3ms/step - loss: 0.0223 - accuracy: 0.9935\n",
      "Epoch 5/20\n",
      "238/238 [==============================] - 1s 3ms/step - loss: 0.0168 - accuracy: 0.9953\n",
      "Epoch 6/20\n",
      "238/238 [==============================] - 1s 3ms/step - loss: 0.0124 - accuracy: 0.9964\n",
      "Epoch 7/20\n",
      "238/238 [==============================] - 1s 3ms/step - loss: 0.0143 - accuracy: 0.9953\n",
      "Epoch 8/20\n",
      "238/238 [==============================] - 1s 3ms/step - loss: 0.0108 - accuracy: 0.9967\n",
      "Epoch 9/20\n",
      "238/238 [==============================] - 1s 3ms/step - loss: 0.0053 - accuracy: 0.9982\n",
      "Epoch 10/20\n",
      "238/238 [==============================] - 1s 3ms/step - loss: 0.0017 - accuracy: 0.9997\n",
      "Epoch 11/20\n",
      "238/238 [==============================] - 1s 3ms/step - loss: 6.7063e-04 - accuracy: 1.0000\n",
      "Epoch 12/20\n",
      "238/238 [==============================] - 1s 3ms/step - loss: 6.4882e-04 - accuracy: 0.9999\n",
      "Epoch 13/20\n",
      "238/238 [==============================] - 1s 4ms/step - loss: 5.2401e-04 - accuracy: 0.9999\n",
      "Epoch 14/20\n",
      "238/238 [==============================] - 1s 4ms/step - loss: 0.0012 - accuracy: 0.9997\n",
      "Epoch 15/20\n",
      "238/238 [==============================] - 1s 4ms/step - loss: 0.0114 - accuracy: 0.9964\n",
      "Epoch 16/20\n",
      "238/238 [==============================] - 1s 3ms/step - loss: 0.0744 - accuracy: 0.9822\n",
      "Epoch 17/20\n",
      "238/238 [==============================] - 1s 3ms/step - loss: 0.0452 - accuracy: 0.9888\n",
      "Epoch 18/20\n",
      "238/238 [==============================] - 1s 3ms/step - loss: 0.0100 - accuracy: 0.9970\n",
      "Epoch 19/20\n",
      "238/238 [==============================] - 1s 3ms/step - loss: 0.0025 - accuracy: 0.9989\n",
      "Epoch 20/20\n",
      "238/238 [==============================] - 1s 3ms/step - loss: 9.2837e-04 - accuracy: 0.9999\n"
     ]
    },
    {
     "data": {
      "text/plain": [
       "<keras.callbacks.History at 0x2520c333460>"
      ]
     },
     "execution_count": 181,
     "metadata": {},
     "output_type": "execute_result"
    }
   ],
   "source": [
    "nn.fit(X_train, y_train, batch_size=32, epochs=20)"
   ]
  },
  {
   "cell_type": "markdown",
   "id": "b0762c6a",
   "metadata": {},
   "source": [
    "## 7. Making predictions and evaluating the model"
   ]
  },
  {
   "cell_type": "markdown",
   "id": "29c9926a",
   "metadata": {},
   "source": [
    "### 7.1. Predicting the Test set results"
   ]
  },
  {
   "cell_type": "code",
   "execution_count": 182,
   "id": "256c77d6",
   "metadata": {},
   "outputs": [
    {
     "name": "stdout",
     "output_type": "stream",
     "text": [
      "60/60 [==============================] - 0s 1ms/step\n"
     ]
    }
   ],
   "source": [
    "y_pred = nn.predict(X_test)"
   ]
  },
  {
   "cell_type": "code",
   "execution_count": 183,
   "id": "7e2f5db8",
   "metadata": {},
   "outputs": [
    {
     "data": {
      "text/plain": [
       "array([[5.4171813e-14, 1.8739997e-14, 1.4652157e-10, 9.9999988e-01,\n",
       "        6.8081803e-08],\n",
       "       [2.7637604e-11, 1.3993844e-12, 1.1552467e-11, 1.7184017e-05,\n",
       "        9.9998283e-01],\n",
       "       [2.6561916e-17, 1.1898964e-15, 2.0448296e-12, 1.0000000e+00,\n",
       "        4.6856803e-09],\n",
       "       ...,\n",
       "       [3.2139203e-13, 2.0213815e-12, 3.5805431e-05, 9.9996424e-01,\n",
       "        1.9084718e-13],\n",
       "       [9.9999893e-01, 1.1006819e-06, 7.9586081e-11, 2.1819846e-10,\n",
       "        3.5352637e-11],\n",
       "       [3.6024791e-18, 6.1717828e-16, 2.3809919e-08, 1.0000000e+00,\n",
       "        3.6641559e-10]], dtype=float32)"
      ]
     },
     "execution_count": 183,
     "metadata": {},
     "output_type": "execute_result"
    }
   ],
   "source": [
    "y_pred"
   ]
  },
  {
   "cell_type": "code",
   "execution_count": 184,
   "id": "4781b4ee",
   "metadata": {},
   "outputs": [
    {
     "data": {
      "text/plain": [
       "(1899, 5)"
      ]
     },
     "execution_count": 184,
     "metadata": {},
     "output_type": "execute_result"
    }
   ],
   "source": [
    "y_pred.shape"
   ]
  },
  {
   "cell_type": "markdown",
   "id": "b4b5b2e4",
   "metadata": {},
   "source": [
    "#### 7.1.1. Transforming the encoded data back to floor number"
   ]
  },
  {
   "cell_type": "code",
   "execution_count": 185,
   "id": "10c0b8ee",
   "metadata": {},
   "outputs": [],
   "source": [
    "# we transform  the (1899, 5) floor array back to single value (the number of the floor)\n",
    "\n",
    "# floor_pred = []\n",
    "# floors = [i for i in range(5)]\n",
    "# for arr in y_pred:\n",
    "#     max_val = max(arr)\n",
    "#     index_max = np.where(arr == max_val)\n",
    "#     floor_pred.append(floors[index_max[0][0]])\n",
    "# floor_pred = np.array(floor_pred)\n",
    "\n",
    "floor_pred = tf.argmax(y_pred, axis=1)\n",
    "floor_pred = tf.keras.backend.eval(floor_pred)"
   ]
  },
  {
   "cell_type": "code",
   "execution_count": 186,
   "id": "7320dce8",
   "metadata": {},
   "outputs": [
    {
     "data": {
      "text/plain": [
       "array([3, 4, 3, ..., 3, 0, 3], dtype=int64)"
      ]
     },
     "execution_count": 186,
     "metadata": {},
     "output_type": "execute_result"
    }
   ],
   "source": [
    "floor_pred"
   ]
  },
  {
   "cell_type": "code",
   "execution_count": 187,
   "id": "515a5ff3",
   "metadata": {},
   "outputs": [
    {
     "data": {
      "text/plain": [
       "array([3, 4, 3, ..., 3, 0, 3], dtype=int64)"
      ]
     },
     "execution_count": 187,
     "metadata": {},
     "output_type": "execute_result"
    }
   ],
   "source": [
    "y_test"
   ]
  },
  {
   "cell_type": "markdown",
   "id": "ac60d17f",
   "metadata": {},
   "source": [
    "### 7.2. Making the confusion matrix and calculating Accuracy "
   ]
  },
  {
   "cell_type": "code",
   "execution_count": 188,
   "id": "70724f62",
   "metadata": {},
   "outputs": [
    {
     "name": "stdout",
     "output_type": "stream",
     "text": [
      "[[401   5   0   0   0]\n",
      " [  7 408   3   0   0]\n",
      " [  1  11 281   7   0]\n",
      " [  0   0   3 557   1]\n",
      " [  0   0   0   3 211]]\n",
      "Accuracy:  0.9784096893101633\n"
     ]
    }
   ],
   "source": [
    "cm = confusion_matrix(y_test, floor_pred)\n",
    "print(cm)\n",
    "accuracy = accuracy_score(y_test, floor_pred)\n",
    "print('Accuracy: ', accuracy)"
   ]
  },
  {
   "cell_type": "code",
   "execution_count": 189,
   "id": "c399bafb",
   "metadata": {},
   "outputs": [
    {
     "name": "stdout",
     "output_type": "stream",
     "text": [
      "              precision    recall  f1-score   support\n",
      "\n",
      "           0       0.98      0.99      0.98       406\n",
      "           1       0.96      0.98      0.97       418\n",
      "           2       0.98      0.94      0.96       300\n",
      "           3       0.98      0.99      0.99       561\n",
      "           4       1.00      0.99      0.99       214\n",
      "\n",
      "    accuracy                           0.98      1899\n",
      "   macro avg       0.98      0.98      0.98      1899\n",
      "weighted avg       0.98      0.98      0.98      1899\n",
      "\n"
     ]
    }
   ],
   "source": [
    "print(classification_report(y_test, floor_pred))"
   ]
  },
  {
   "cell_type": "markdown",
   "id": "17e0cfdb",
   "metadata": {},
   "source": [
    "### 7.3. Predicting with the Validation set"
   ]
  },
  {
   "cell_type": "code",
   "execution_count": 190,
   "id": "24a77fa4",
   "metadata": {},
   "outputs": [],
   "source": [
    "X_valid = validation_dataset_ujloc.iloc[:, :520].values\n",
    "y_valid = validation_dataset_ujloc['FLOOR'].values"
   ]
  },
  {
   "cell_type": "code",
   "execution_count": 191,
   "id": "1b667bfa",
   "metadata": {},
   "outputs": [],
   "source": [
    "X_valid = sc.fit_transform(X_valid)"
   ]
  },
  {
   "cell_type": "code",
   "execution_count": 192,
   "id": "043971f9",
   "metadata": {},
   "outputs": [
    {
     "name": "stdout",
     "output_type": "stream",
     "text": [
      "9/9 [==============================] - 0s 2ms/step\n"
     ]
    },
    {
     "data": {
      "text/plain": [
       "array([[1.23883019e-08, 1.16272714e-10, 8.14276824e-09, 7.52376795e-01,\n",
       "        2.47623175e-01],\n",
       "       [2.78817872e-19, 4.47791599e-21, 1.06832325e-21, 1.90840535e-13,\n",
       "        1.00000000e+00],\n",
       "       [1.63753169e-12, 6.44573226e-15, 2.37010385e-15, 3.62540732e-07,\n",
       "        9.99999642e-01],\n",
       "       ...,\n",
       "       [1.31269005e-07, 9.64923359e-08, 2.14209256e-04, 9.99785125e-01,\n",
       "        5.15248757e-07],\n",
       "       [5.24992227e-09, 1.86067950e-07, 1.08813138e-05, 9.99987960e-01,\n",
       "        9.90830017e-07],\n",
       "       [2.02540396e-05, 2.09577745e-04, 4.73624503e-04, 9.99213815e-01,\n",
       "        8.27762851e-05]], dtype=float32)"
      ]
     },
     "execution_count": 192,
     "metadata": {},
     "output_type": "execute_result"
    }
   ],
   "source": [
    "y_pred_valid = nn.predict(X_valid)\n",
    "y_pred_valid"
   ]
  },
  {
   "cell_type": "code",
   "execution_count": 193,
   "id": "90b1b9c3",
   "metadata": {},
   "outputs": [
    {
     "data": {
      "text/plain": [
       "(268, 5)"
      ]
     },
     "execution_count": 193,
     "metadata": {},
     "output_type": "execute_result"
    }
   ],
   "source": [
    "y_pred_valid.shape"
   ]
  },
  {
   "cell_type": "code",
   "execution_count": 194,
   "id": "3791292c",
   "metadata": {},
   "outputs": [],
   "source": [
    "floor_pred_valid = tf.argmax(y_pred_valid, axis=1)\n",
    "floor_pred_valid = tf.keras.backend.eval(floor_pred_valid)"
   ]
  },
  {
   "cell_type": "code",
   "execution_count": 195,
   "id": "fbcbaddb",
   "metadata": {},
   "outputs": [
    {
     "data": {
      "text/plain": [
       "array([3, 4, 4, 2, 3, 3, 3, 0, 3, 0, 0, 2, 0, 1, 4, 1, 1, 4, 4, 1, 1, 3,\n",
       "       3, 3, 1, 1, 2, 1, 1, 1, 1, 1, 1, 0, 3, 1, 1, 1, 2, 1, 2, 1, 3, 2,\n",
       "       2, 2, 2, 1, 3, 1, 1, 4, 1, 3, 3, 1, 1, 3, 4, 1, 1, 1, 1, 1, 3, 2,\n",
       "       1, 1, 4, 1, 3, 1, 4, 2, 2, 1, 1, 1, 1, 3, 4, 1, 1, 1, 1, 1, 2, 1,\n",
       "       1, 4, 1, 1, 1, 3, 1, 1, 1, 4, 1, 3, 1, 1, 1, 4, 3, 1, 1, 4, 3, 1,\n",
       "       0, 4, 1, 1, 3, 1, 3, 0, 4, 3, 2, 1, 4, 2, 1, 2, 1, 3, 2, 2, 1, 3,\n",
       "       2, 1, 2, 2, 2, 2, 0, 1, 1, 2, 2, 3, 1, 4, 1, 2, 2, 2, 0, 3, 2, 2,\n",
       "       2, 1, 3, 2, 2, 4, 1, 1, 3, 1, 1, 4, 2, 2, 2, 4, 3, 2, 0, 2, 3, 3,\n",
       "       3, 2, 0, 1, 2, 2, 3, 1, 1, 2, 2, 3, 1, 0, 2, 4, 4, 1, 1, 4, 1, 4,\n",
       "       1, 0, 4, 1, 2, 1, 1, 4, 0, 0, 1, 4, 1, 1, 0, 0, 1, 0, 1, 0, 0, 1,\n",
       "       1, 0, 1, 1, 1, 0, 1, 0, 1, 1, 1, 1, 2, 1, 1, 1, 1, 1, 3, 4, 4, 4,\n",
       "       3, 3, 3, 3, 3, 3, 3, 3, 3, 3, 3, 3, 3, 3, 3, 3, 3, 3, 3, 3, 3, 3,\n",
       "       3, 3, 3, 3], dtype=int64)"
      ]
     },
     "execution_count": 195,
     "metadata": {},
     "output_type": "execute_result"
    }
   ],
   "source": [
    "floor_pred_valid"
   ]
  },
  {
   "cell_type": "code",
   "execution_count": 196,
   "id": "f475a596",
   "metadata": {},
   "outputs": [
    {
     "name": "stdout",
     "output_type": "stream",
     "text": [
      "[[21  3  0  0  0]\n",
      " [ 2 99  8  2  0]\n",
      " [ 0  2 38 14  0]\n",
      " [ 0  0  0 37  3]\n",
      " [ 0  1  0 10 28]]\n",
      "Accuracy:  0.832089552238806\n"
     ]
    }
   ],
   "source": [
    "cm = confusion_matrix(y_valid, floor_pred_valid)\n",
    "print(cm)\n",
    "accuracy = accuracy_score(y_valid, floor_pred_valid)\n",
    "print('Accuracy: ', accuracy)"
   ]
  },
  {
   "cell_type": "code",
   "execution_count": 197,
   "id": "efd80248",
   "metadata": {},
   "outputs": [
    {
     "name": "stdout",
     "output_type": "stream",
     "text": [
      "              precision    recall  f1-score   support\n",
      "\n",
      "           0       0.91      0.88      0.89        24\n",
      "           1       0.94      0.89      0.92       111\n",
      "           2       0.83      0.70      0.76        54\n",
      "           3       0.59      0.93      0.72        40\n",
      "           4       0.90      0.72      0.80        39\n",
      "\n",
      "    accuracy                           0.83       268\n",
      "   macro avg       0.83      0.82      0.82       268\n",
      "weighted avg       0.86      0.83      0.84       268\n",
      "\n"
     ]
    }
   ],
   "source": [
    "print(classification_report(y_valid, floor_pred_valid))"
   ]
  },
  {
   "cell_type": "markdown",
   "id": "2e4aa1a1",
   "metadata": {},
   "source": [
    "## 8. Building the KNN regressor"
   ]
  },
  {
   "cell_type": "markdown",
   "id": "9d9b79f3",
   "metadata": {},
   "source": [
    "### 8.1. Creating the second training dataset"
   ]
  },
  {
   "cell_type": "markdown",
   "id": "facb803c",
   "metadata": {},
   "source": [
    "#### 8.1.1. Selecting the cluster to which out values correspond to (the Floor)"
   ]
  },
  {
   "cell_type": "code",
   "execution_count": 255,
   "id": "b5e0ca19",
   "metadata": {},
   "outputs": [],
   "source": [
    "floor = 0\n",
    "# floor = floor_pred_valid[0] # TODO: verify how can we change this so it gets the floor by default\n",
    "mask = dataset_ujloc['FLOOR'] == floor"
   ]
  },
  {
   "cell_type": "code",
   "execution_count": 256,
   "id": "ff2b892f",
   "metadata": {},
   "outputs": [],
   "source": [
    "df_ap = dataset_ujloc.iloc[:, :520][mask]\n",
    "df_floor = dataset_ujloc['FLOOR'][mask]"
   ]
  },
  {
   "cell_type": "code",
   "execution_count": 257,
   "id": "8211efb5",
   "metadata": {},
   "outputs": [],
   "source": [
    "X_step_2 = pd.concat([df_ap, df_floor], axis=1).values\n",
    "y_step_2 = dataset_ujloc[['LONGITUDE', 'LATITUDE']][mask].values"
   ]
  },
  {
   "cell_type": "code",
   "execution_count": 258,
   "id": "d0875fde",
   "metadata": {},
   "outputs": [
    {
     "data": {
      "text/plain": [
       "array([[100, 100, 100, ..., 100, 100,   0],\n",
       "       [100, 100, 100, ..., 100, 100,   0],\n",
       "       [100, 100, 100, ..., 100, 100,   0],\n",
       "       ...,\n",
       "       [100, 100, 100, ..., 100, 100,   0],\n",
       "       [100, 100, 100, ..., 100, 100,   0],\n",
       "       [100, 100, 100, ..., 100, 100,   0]], dtype=int64)"
      ]
     },
     "execution_count": 258,
     "metadata": {},
     "output_type": "execute_result"
    }
   ],
   "source": [
    "X_step_2"
   ]
  },
  {
   "cell_type": "code",
   "execution_count": 259,
   "id": "375bf7cf",
   "metadata": {},
   "outputs": [
    {
     "data": {
      "text/plain": [
       "array([[  -7404.8357, 4864808.159 ],\n",
       "       [  -7404.4362, 4864808.8699],\n",
       "       [  -7405.6817, 4864801.9057],\n",
       "       ...,\n",
       "       [  -7314.6117, 4864800.7124],\n",
       "       [  -7320.0789, 4864794.3278],\n",
       "       [  -7320.0789, 4864794.3278]])"
      ]
     },
     "execution_count": 259,
     "metadata": {},
     "output_type": "execute_result"
    }
   ],
   "source": [
    "y_step_2"
   ]
  },
  {
   "cell_type": "markdown",
   "id": "7c2ed717",
   "metadata": {},
   "source": [
    "### 8.3. Splitting the data in Train and Test"
   ]
  },
  {
   "cell_type": "code",
   "execution_count": 260,
   "id": "d69d6964",
   "metadata": {},
   "outputs": [],
   "source": [
    "X_train_step_2, X_test_step_2, y_train_step_2, y_test_step_2 = train_test_split(X_step_2,\n",
    "                                                                                y_step_2, \n",
    "                                                                                test_size = 0.2, \n",
    "                                                                                random_state = 0)"
   ]
  },
  {
   "cell_type": "code",
   "execution_count": 261,
   "id": "f68b4c4e",
   "metadata": {},
   "outputs": [
    {
     "data": {
      "text/plain": [
       "array([[100, 100, 100, ..., 100, 100,   0],\n",
       "       [100, 100, 100, ..., 100, 100,   0],\n",
       "       [100, 100, 100, ..., 100, 100,   0],\n",
       "       ...,\n",
       "       [100, 100, 100, ..., 100, 100,   0],\n",
       "       [100, 100, 100, ..., 100, 100,   0],\n",
       "       [100, 100, 100, ..., 100, 100,   0]], dtype=int64)"
      ]
     },
     "execution_count": 261,
     "metadata": {},
     "output_type": "execute_result"
    }
   ],
   "source": [
    "X_train_step_2"
   ]
  },
  {
   "cell_type": "code",
   "execution_count": 262,
   "id": "084d5a50",
   "metadata": {},
   "outputs": [
    {
     "data": {
      "text/plain": [
       "1553"
      ]
     },
     "execution_count": 262,
     "metadata": {},
     "output_type": "execute_result"
    }
   ],
   "source": [
    "len(X_train_step_2)"
   ]
  },
  {
   "cell_type": "markdown",
   "id": "3ad923b1",
   "metadata": {},
   "source": [
    "### 8.4. Building the model"
   ]
  },
  {
   "cell_type": "code",
   "execution_count": 263,
   "id": "73f1d7e1",
   "metadata": {},
   "outputs": [
    {
     "data": {
      "text/html": [
       "<style>#sk-container-id-8 {color: black;background-color: white;}#sk-container-id-8 pre{padding: 0;}#sk-container-id-8 div.sk-toggleable {background-color: white;}#sk-container-id-8 label.sk-toggleable__label {cursor: pointer;display: block;width: 100%;margin-bottom: 0;padding: 0.3em;box-sizing: border-box;text-align: center;}#sk-container-id-8 label.sk-toggleable__label-arrow:before {content: \"▸\";float: left;margin-right: 0.25em;color: #696969;}#sk-container-id-8 label.sk-toggleable__label-arrow:hover:before {color: black;}#sk-container-id-8 div.sk-estimator:hover label.sk-toggleable__label-arrow:before {color: black;}#sk-container-id-8 div.sk-toggleable__content {max-height: 0;max-width: 0;overflow: hidden;text-align: left;background-color: #f0f8ff;}#sk-container-id-8 div.sk-toggleable__content pre {margin: 0.2em;color: black;border-radius: 0.25em;background-color: #f0f8ff;}#sk-container-id-8 input.sk-toggleable__control:checked~div.sk-toggleable__content {max-height: 200px;max-width: 100%;overflow: auto;}#sk-container-id-8 input.sk-toggleable__control:checked~label.sk-toggleable__label-arrow:before {content: \"▾\";}#sk-container-id-8 div.sk-estimator input.sk-toggleable__control:checked~label.sk-toggleable__label {background-color: #d4ebff;}#sk-container-id-8 div.sk-label input.sk-toggleable__control:checked~label.sk-toggleable__label {background-color: #d4ebff;}#sk-container-id-8 input.sk-hidden--visually {border: 0;clip: rect(1px 1px 1px 1px);clip: rect(1px, 1px, 1px, 1px);height: 1px;margin: -1px;overflow: hidden;padding: 0;position: absolute;width: 1px;}#sk-container-id-8 div.sk-estimator {font-family: monospace;background-color: #f0f8ff;border: 1px dotted black;border-radius: 0.25em;box-sizing: border-box;margin-bottom: 0.5em;}#sk-container-id-8 div.sk-estimator:hover {background-color: #d4ebff;}#sk-container-id-8 div.sk-parallel-item::after {content: \"\";width: 100%;border-bottom: 1px solid gray;flex-grow: 1;}#sk-container-id-8 div.sk-label:hover label.sk-toggleable__label {background-color: #d4ebff;}#sk-container-id-8 div.sk-serial::before {content: \"\";position: absolute;border-left: 1px solid gray;box-sizing: border-box;top: 0;bottom: 0;left: 50%;z-index: 0;}#sk-container-id-8 div.sk-serial {display: flex;flex-direction: column;align-items: center;background-color: white;padding-right: 0.2em;padding-left: 0.2em;position: relative;}#sk-container-id-8 div.sk-item {position: relative;z-index: 1;}#sk-container-id-8 div.sk-parallel {display: flex;align-items: stretch;justify-content: center;background-color: white;position: relative;}#sk-container-id-8 div.sk-item::before, #sk-container-id-8 div.sk-parallel-item::before {content: \"\";position: absolute;border-left: 1px solid gray;box-sizing: border-box;top: 0;bottom: 0;left: 50%;z-index: -1;}#sk-container-id-8 div.sk-parallel-item {display: flex;flex-direction: column;z-index: 1;position: relative;background-color: white;}#sk-container-id-8 div.sk-parallel-item:first-child::after {align-self: flex-end;width: 50%;}#sk-container-id-8 div.sk-parallel-item:last-child::after {align-self: flex-start;width: 50%;}#sk-container-id-8 div.sk-parallel-item:only-child::after {width: 0;}#sk-container-id-8 div.sk-dashed-wrapped {border: 1px dashed gray;margin: 0 0.4em 0.5em 0.4em;box-sizing: border-box;padding-bottom: 0.4em;background-color: white;}#sk-container-id-8 div.sk-label label {font-family: monospace;font-weight: bold;display: inline-block;line-height: 1.2em;}#sk-container-id-8 div.sk-label-container {text-align: center;}#sk-container-id-8 div.sk-container {/* jupyter's `normalize.less` sets `[hidden] { display: none; }` but bootstrap.min.css set `[hidden] { display: none !important; }` so we also need the `!important` here to be able to override the default hidden behavior on the sphinx rendered scikit-learn.org. See: https://github.com/scikit-learn/scikit-learn/issues/21755 */display: inline-block !important;position: relative;}#sk-container-id-8 div.sk-text-repr-fallback {display: none;}</style><div id=\"sk-container-id-8\" class=\"sk-top-container\"><div class=\"sk-text-repr-fallback\"><pre>KNeighborsRegressor(n_neighbors=3, weights=&#x27;distance&#x27;)</pre><b>In a Jupyter environment, please rerun this cell to show the HTML representation or trust the notebook. <br />On GitHub, the HTML representation is unable to render, please try loading this page with nbviewer.org.</b></div><div class=\"sk-container\" hidden><div class=\"sk-item\"><div class=\"sk-estimator sk-toggleable\"><input class=\"sk-toggleable__control sk-hidden--visually\" id=\"sk-estimator-id-8\" type=\"checkbox\" checked><label for=\"sk-estimator-id-8\" class=\"sk-toggleable__label sk-toggleable__label-arrow\">KNeighborsRegressor</label><div class=\"sk-toggleable__content\"><pre>KNeighborsRegressor(n_neighbors=3, weights=&#x27;distance&#x27;)</pre></div></div></div></div></div>"
      ],
      "text/plain": [
       "KNeighborsRegressor(n_neighbors=3, weights='distance')"
      ]
     },
     "execution_count": 263,
     "metadata": {},
     "output_type": "execute_result"
    }
   ],
   "source": [
    "knn_regressor = KNeighborsRegressor(n_neighbors=3, weights='distance')\n",
    "knn_regressor.fit(X_train_step_2, y_train_step_2)"
   ]
  },
  {
   "cell_type": "markdown",
   "id": "9e3b746f",
   "metadata": {},
   "source": [
    "### 8.5. Making predictions and evaluating the model"
   ]
  },
  {
   "cell_type": "code",
   "execution_count": 264,
   "id": "803eb6b9",
   "metadata": {
    "scrolled": true
   },
   "outputs": [
    {
     "data": {
      "text/plain": [
       "array([[  -7318.70920733, 4864795.29195835],\n",
       "       [  -7346.1826    , 4864759.0534    ],\n",
       "       [  -7345.4118    , 4864829.5512    ],\n",
       "       [  -7406.937921  , 4864806.47221702],\n",
       "       [  -7377.07826999, 4864842.961439  ],\n",
       "       [  -7381.2929    , 4864778.5325    ],\n",
       "       [  -7304.4836    , 4864820.8753    ],\n",
       "       [  -7317.42084175, 4864822.9448589 ],\n",
       "       [  -7388.4434234 , 4864817.97127512],\n",
       "       [  -7378.71011408, 4864849.68237942],\n",
       "       [  -7343.39910693, 4864749.42992774],\n",
       "       [  -7369.64020883, 4864844.42724446],\n",
       "       [  -7343.56913033, 4864828.52878284],\n",
       "       [  -7313.30854488, 4864803.06128391],\n",
       "       [  -7345.4118    , 4864829.5512    ],\n",
       "       [  -7335.57600583, 4864829.28792882],\n",
       "       [  -7366.2566    , 4864841.1159    ],\n",
       "       [  -7311.16579563, 4864806.92346359],\n",
       "       [  -7318.6948    , 4864795.3021    ],\n",
       "       [  -7307.7743    , 4864814.5994    ],\n",
       "       [  -7369.22354488, 4864761.38187774],\n",
       "       [  -7310.7649    , 4864807.6461    ],\n",
       "       [  -7315.7665022 , 4864799.18223264],\n",
       "       [  -7388.69649808, 4864843.85942745],\n",
       "       [  -7360.99839998, 4864846.61895358],\n",
       "       [  -7401.9962    , 4864790.0184    ],\n",
       "       [  -7398.4282    , 4864788.039     ],\n",
       "       [  -7404.4362    , 4864808.8699    ],\n",
       "       [  -7373.4262499 , 4864846.6151941 ],\n",
       "       [  -7307.7743    , 4864814.5994    ],\n",
       "       [  -7360.5393    , 4864837.9438    ],\n",
       "       [  -7387.00443342, 4864845.6745847 ],\n",
       "       [  -7411.35313582, 4864802.92953087],\n",
       "       [  -7353.6953    , 4864834.147     ],\n",
       "       [  -7351.32522602, 4864837.85739667],\n",
       "       [  -7351.74463619, 4864841.46126352],\n",
       "       [  -7353.05419611, 4864751.40903563],\n",
       "       [  -7377.21893572, 4864859.98568317],\n",
       "       [  -7371.6595    , 4864848.6683    ],\n",
       "       [  -7408.33887019, 4864811.52982535],\n",
       "       [  -7304.4836    , 4864820.8753    ],\n",
       "       [  -7401.76536785, 4864795.14805262],\n",
       "       [  -7318.36095155, 4864815.7514351 ],\n",
       "       [  -7310.7649    , 4864807.6461    ],\n",
       "       [  -7373.63113564, 4864845.38258687],\n",
       "       [  -7305.90580969, 4864814.58537886],\n",
       "       [  -7359.2979    , 4864837.2551    ],\n",
       "       [  -7364.94530206, 4864844.7547214 ],\n",
       "       [  -7345.4118    , 4864829.5512    ],\n",
       "       [  -7375.09635956, 4864847.13819673],\n",
       "       [  -7376.56415399, 4864847.3958533 ],\n",
       "       [  -7405.6817    , 4864801.9057    ],\n",
       "       [  -7404.4362    , 4864808.8699    ],\n",
       "       [  -7388.4434234 , 4864817.97127512],\n",
       "       [  -7359.2979    , 4864837.2551    ],\n",
       "       [  -7317.02152006, 4864813.94761084],\n",
       "       [  -7325.99664062, 4864821.86932442],\n",
       "       [  -7385.64387763, 4864847.66437087],\n",
       "       [  -7371.0890812 , 4864845.29961003],\n",
       "       [  -7336.24984637, 4864762.30484406],\n",
       "       [  -7359.2979    , 4864837.2551    ],\n",
       "       [  -7353.6953    , 4864834.147     ],\n",
       "       [  -7323.29962325, 4864818.79627265],\n",
       "       [  -7365.71961488, 4864851.11348962],\n",
       "       [  -7353.2781711 , 4864833.14044144],\n",
       "       [  -7355.59093431, 4864835.1984897 ],\n",
       "       [  -7398.4282    , 4864788.039     ],\n",
       "       [  -7304.4836    , 4864820.8753    ],\n",
       "       [  -7369.6543309 , 4864765.44935098],\n",
       "       [  -7404.8357    , 4864808.159     ],\n",
       "       [  -7400.73327572, 4864789.31777435],\n",
       "       [  -7359.2979    , 4864837.2551    ],\n",
       "       [  -7359.61654541, 4864837.4318771 ],\n",
       "       [  -7320.82044241, 4864816.84065305],\n",
       "       [  -7332.15422926, 4864832.49394025],\n",
       "       [  -7345.4118    , 4864829.5512    ],\n",
       "       [  -7338.69457284, 4864825.82452019],\n",
       "       [  -7360.13004235, 4864837.71675332],\n",
       "       [  -7374.3125    , 4864845.5853    ],\n",
       "       [  -7351.9811253 , 4864843.4933441 ],\n",
       "       [  -7352.48029942, 4864754.97280045],\n",
       "       [  -7394.57782488, 4864836.92470566],\n",
       "       [  -7322.5876    , 4864821.4435    ],\n",
       "       [  -7357.6982    , 4864840.9226    ],\n",
       "       [  -7370.76486885, 4864847.80550331],\n",
       "       [  -7317.17890519, 4864797.31073209],\n",
       "       [  -7408.33887019, 4864811.52982535],\n",
       "       [  -7346.1826    , 4864759.0534    ],\n",
       "       [  -7411.35313582, 4864802.92953087],\n",
       "       [  -7399.55465175, 4864788.66391553],\n",
       "       [  -7356.17271006, 4864845.81823474],\n",
       "       [  -7320.82439253, 4864813.02550198],\n",
       "       [  -7352.53277255, 4864840.48554973],\n",
       "       [  -7321.84626103, 4864826.77339722],\n",
       "       [  -7401.9962    , 4864790.0184    ],\n",
       "       [  -7311.0489871 , 4864807.65875742],\n",
       "       [  -7371.38866244, 4864848.4070999 ],\n",
       "       [  -7307.7743    , 4864814.5994    ],\n",
       "       [  -7362.62411515, 4864839.10050721],\n",
       "       [  -7352.66476895, 4864829.44932691],\n",
       "       [  -7303.6741353 , 4864812.45214962],\n",
       "       [  -7398.4282    , 4864788.039     ],\n",
       "       [  -7310.7649    , 4864807.6461    ],\n",
       "       [  -7385.4261    , 4864839.0156    ],\n",
       "       [  -7316.8358    , 4864813.6975    ],\n",
       "       [  -7365.14891603, 4864847.07694104],\n",
       "       [  -7310.7649    , 4864807.6461    ],\n",
       "       [  -7311.20145703, 4864806.85918196],\n",
       "       [  -7330.81385801, 4864831.75008353],\n",
       "       [  -7371.06463078, 4864845.27023764],\n",
       "       [  -7353.44457286, 4864833.00406098],\n",
       "       [  -7351.2667    , 4864837.3545    ],\n",
       "       [  -7411.35313582, 4864802.92953087],\n",
       "       [  -7386.89589751, 4864840.01715262],\n",
       "       [  -7322.6209478 , 4864812.72281837],\n",
       "       [  -7307.7743    , 4864814.5994    ],\n",
       "       [  -7351.9811253 , 4864843.4933441 ],\n",
       "       [  -7314.6117    , 4864800.7124    ],\n",
       "       [  -7345.4118    , 4864829.5512    ],\n",
       "       [  -7360.5393    , 4864837.9438    ],\n",
       "       [  -7390.65937345, 4864835.70894586],\n",
       "       [  -7316.86637754, 4864816.76866527],\n",
       "       [  -7370.05820536, 4864846.47665107],\n",
       "       [  -7388.4434234 , 4864817.97127512],\n",
       "       [  -7302.63127238, 4864816.8176927 ],\n",
       "       [  -7404.8357    , 4864808.159     ],\n",
       "       [  -7364.8389    , 4864844.8842    ],\n",
       "       [  -7374.55489514, 4864849.20026607],\n",
       "       [  -7393.1979429 , 4864836.62171877],\n",
       "       [  -7401.90198225, 4864795.74402124],\n",
       "       [  -7398.4282    , 4864788.039     ],\n",
       "       [  -7398.4282    , 4864788.039     ],\n",
       "       [  -7327.70364875, 4864779.52945326],\n",
       "       [  -7330.57720767, 4864821.32103452],\n",
       "       [  -7320.0789    , 4864794.3278    ],\n",
       "       [  -7352.66476895, 4864829.44932691],\n",
       "       [  -7316.8358    , 4864813.6975    ],\n",
       "       [  -7332.15422926, 4864832.49394025],\n",
       "       [  -7357.79059546, 4864836.41877696],\n",
       "       [  -7313.77824783, 4864814.00182117],\n",
       "       [  -7362.72269866, 4864840.40794001],\n",
       "       [  -7366.96716059, 4864848.15441288],\n",
       "       [  -7385.4261    , 4864839.0156    ],\n",
       "       [  -7342.4353    , 4864756.9576    ],\n",
       "       [  -7376.31419497, 4864849.78373954],\n",
       "       [  -7319.64377756, 4864794.63409275],\n",
       "       [  -7384.86218217, 4864792.11466215],\n",
       "       [  -7394.40288122, 4864836.8862925 ],\n",
       "       [  -7319.26229427, 4864823.93256792],\n",
       "       [  -7370.63691638, 4864848.42023303],\n",
       "       [  -7364.8389    , 4864844.8842    ],\n",
       "       [  -7325.40118388, 4864821.79494572],\n",
       "       [  -7326.96609977, 4864821.99041989],\n",
       "       [  -7388.4434234 , 4864817.97127512],\n",
       "       [  -7316.86692841, 4864816.82399405],\n",
       "       [  -7388.63131447, 4864843.90631899],\n",
       "       [  -7352.5552    , 4864833.5141    ],\n",
       "       [  -7374.3125    , 4864845.5853    ],\n",
       "       [  -7316.8358    , 4864813.6975    ],\n",
       "       [  -7357.74199713, 4864832.23110217],\n",
       "       [  -7394.57782488, 4864836.92470566],\n",
       "       [  -7349.9661257 , 4864832.07783063],\n",
       "       [  -7366.21286277, 4864847.23783178],\n",
       "       [  -7310.7649    , 4864807.6461    ],\n",
       "       [  -7336.79927188, 4864823.06577298],\n",
       "       [  -7326.03472107, 4864821.87408106],\n",
       "       [  -7345.4118    , 4864829.5512    ],\n",
       "       [  -7365.13799951, 4864846.99972851],\n",
       "       [  -7333.0691    , 4864769.2163    ],\n",
       "       [  -7377.46965576, 4864851.48683566],\n",
       "       [  -7394.57782488, 4864836.92470566],\n",
       "       [  -7359.2979    , 4864837.2551    ],\n",
       "       [  -7364.8389    , 4864844.8842    ],\n",
       "       [  -7354.15669767, 4864832.68638598],\n",
       "       [  -7366.15409371, 4864842.35852718],\n",
       "       [  -7404.8357    , 4864808.159     ],\n",
       "       [  -7359.91336009, 4864833.42077566],\n",
       "       [  -7342.84867384, 4864753.72900445],\n",
       "       [  -7408.33887019, 4864811.52982535],\n",
       "       [  -7307.85824261, 4864814.63330204],\n",
       "       [  -7333.0691    , 4864769.2163    ],\n",
       "       [  -7404.8357    , 4864808.159     ],\n",
       "       [  -7359.2979    , 4864837.2551    ],\n",
       "       [  -7343.8709053 , 4864745.74501597],\n",
       "       [  -7367.4099    , 4864841.7556    ],\n",
       "       [  -7383.81035432, 4864847.83319705],\n",
       "       [  -7333.0691    , 4864771.1511    ],\n",
       "       [  -7370.12782457, 4864839.08759504],\n",
       "       [  -7359.2979    , 4864837.2551    ],\n",
       "       [  -7318.6948    , 4864795.3021    ],\n",
       "       [  -7371.6595    , 4864848.6683    ],\n",
       "       [  -7307.7743    , 4864814.5994    ],\n",
       "       [  -7365.12042417, 4864846.87541833],\n",
       "       [  -7313.90964381, 4864821.9121592 ],\n",
       "       [  -7360.29735812, 4864841.14553715],\n",
       "       [  -7407.47518557, 4864802.22946738],\n",
       "       [  -7328.71509437, 4864824.84284309],\n",
       "       [  -7333.0691    , 4864769.2163    ],\n",
       "       [  -7307.7743    , 4864814.5994    ],\n",
       "       [  -7360.2178033 , 4864841.13871351],\n",
       "       [  -7366.2566    , 4864841.1159    ],\n",
       "       [  -7358.31264129, 4864783.88642434],\n",
       "       [  -7382.69914658, 4864843.93091854],\n",
       "       [  -7359.2979    , 4864837.2551    ],\n",
       "       [  -7304.37199287, 4864817.74063315],\n",
       "       [  -7357.6982    , 4864840.9226    ],\n",
       "       [  -7373.12289434, 4864849.49495473],\n",
       "       [  -7333.0691    , 4864769.2163    ],\n",
       "       [  -7366.75143697, 4864837.2146493 ],\n",
       "       [  -7366.88318861, 4864844.67162105],\n",
       "       [  -7333.1832    , 4864822.767     ],\n",
       "       [  -7388.4434234 , 4864817.97127512],\n",
       "       [  -7321.84626103, 4864826.77339722],\n",
       "       [  -7372.92737282, 4864845.63631654],\n",
       "       [  -7355.58768582, 4864835.19668707],\n",
       "       [  -7371.6595    , 4864848.6683    ],\n",
       "       [  -7371.6595    , 4864848.6683    ],\n",
       "       [  -7351.2667    , 4864837.3545    ],\n",
       "       [  -7322.6209478 , 4864812.72281837],\n",
       "       [  -7368.2639628 , 4864847.22805934],\n",
       "       [  -7377.07826999, 4864842.961439  ],\n",
       "       [  -7342.74079196, 4864832.62428325],\n",
       "       [  -7352.03259779, 4864750.77893983],\n",
       "       [  -7388.4434234 , 4864817.97127512],\n",
       "       [  -7342.89739341, 4864753.34848742],\n",
       "       [  -7390.6975868 , 4864836.07270434],\n",
       "       [  -7320.0789    , 4864794.3278    ],\n",
       "       [  -7381.68      , 4864845.7678    ],\n",
       "       [  -7386.90015139, 4864840.01214224],\n",
       "       [  -7303.84714464, 4864814.25245504],\n",
       "       [  -7370.3999    , 4864772.489     ],\n",
       "       [  -7369.28705323, 4864842.79708201],\n",
       "       [  -7335.76354297, 4864787.77110325],\n",
       "       [  -7354.74970116, 4864834.73165808],\n",
       "       [  -7382.86670586, 4864843.62880791],\n",
       "       [  -7372.80388052, 4864842.61369772],\n",
       "       [  -7318.6948    , 4864795.3021    ],\n",
       "       [  -7333.0691    , 4864769.2163    ],\n",
       "       [  -7309.76246015, 4864809.97682461],\n",
       "       [  -7356.35404245, 4864841.52701489],\n",
       "       [  -7324.88320815, 4864820.0454311 ],\n",
       "       [  -7315.14023047, 4864819.54799978],\n",
       "       [  -7366.17606388, 4864842.42165525],\n",
       "       [  -7400.72156231, 4864789.31127616],\n",
       "       [  -7366.2566    , 4864841.1159    ],\n",
       "       [  -7320.29529974, 4864815.90204947],\n",
       "       [  -7343.8709053 , 4864745.74501597],\n",
       "       [  -7387.9152812 , 4864782.58276701],\n",
       "       [  -7408.33887019, 4864811.52982535],\n",
       "       [  -7359.2979    , 4864837.2551    ],\n",
       "       [  -7377.6723643 , 4864848.4741415 ],\n",
       "       [  -7333.0691    , 4864771.1511    ],\n",
       "       [  -7383.56190179, 4864777.56454745],\n",
       "       [  -7322.6209478 , 4864812.72281837],\n",
       "       [  -7370.3999    , 4864772.489     ],\n",
       "       [  -7331.76849303, 4864832.27987084],\n",
       "       [  -7353.0011319 , 4864830.98263657],\n",
       "       [  -7365.69033579, 4864850.90639886],\n",
       "       [  -7300.81899009, 4864817.59936702],\n",
       "       [  -7352.5552    , 4864833.5141    ],\n",
       "       [  -7316.93289093, 4864813.77408696],\n",
       "       [  -7357.6982    , 4864840.9226    ],\n",
       "       [  -7357.46667117, 4864833.45180728],\n",
       "       [  -7323.0520194 , 4864787.39482424],\n",
       "       [  -7304.4836    , 4864820.8753    ],\n",
       "       [  -7349.36847621, 4864758.68072363],\n",
       "       [  -7360.86798166, 4864846.49479701],\n",
       "       [  -7358.80042446, 4864783.51335912],\n",
       "       [  -7378.88432671, 4864840.83681368],\n",
       "       [  -7360.17221594, 4864837.74015026],\n",
       "       [  -7394.57782488, 4864836.92470566],\n",
       "       [  -7335.60833235, 4864787.8395846 ],\n",
       "       [  -7333.0691    , 4864769.2163    ],\n",
       "       [  -7411.35313582, 4864802.92953087],\n",
       "       [  -7374.72923932, 4864843.73963519],\n",
       "       [  -7351.2667    , 4864837.3545    ],\n",
       "       [  -7364.8389    , 4864844.8842    ],\n",
       "       [  -7312.85552694, 4864819.38704791],\n",
       "       [  -7318.84639577, 4864817.9840267 ],\n",
       "       [  -7338.7533    , 4864825.8571    ],\n",
       "       [  -7410.3552343 , 4864805.77674078],\n",
       "       [  -7318.95823495, 4864816.55580195],\n",
       "       [  -7357.79843532, 4864763.85762127],\n",
       "       [  -7384.673     , 4864840.3733    ],\n",
       "       [  -7405.6817    , 4864801.9057    ],\n",
       "       [  -7365.4258928 , 4864849.03599557],\n",
       "       [  -7333.1832    , 4864822.767     ],\n",
       "       [  -7365.69765119, 4864843.83920235],\n",
       "       [  -7388.4434234 , 4864817.97127512],\n",
       "       [  -7354.72911304, 4864836.31678833],\n",
       "       [  -7353.98743139, 4864839.22001719],\n",
       "       [  -7365.71961488, 4864851.11348962],\n",
       "       [  -7333.0691    , 4864769.2163    ],\n",
       "       [  -7411.35313582, 4864802.92953087],\n",
       "       [  -7320.6766074 , 4864815.94566962],\n",
       "       [  -7369.54186934, 4864840.39894148],\n",
       "       [  -7307.7743    , 4864814.5994    ],\n",
       "       [  -7335.67396765, 4864827.78994417],\n",
       "       [  -7393.2332213 , 4864838.11493643],\n",
       "       [  -7403.17710112, 4864797.56277569],\n",
       "       [  -7333.0691    , 4864769.2163    ],\n",
       "       [  -7318.6948    , 4864795.3021    ],\n",
       "       [  -7333.0691    , 4864769.2163    ],\n",
       "       [  -7388.4434234 , 4864817.97127512],\n",
       "       [  -7321.84626103, 4864826.77339722],\n",
       "       [  -7401.9962    , 4864790.0184    ],\n",
       "       [  -7316.8358    , 4864813.6975    ],\n",
       "       [  -7388.4434234 , 4864817.97127512],\n",
       "       [  -7353.67210888, 4864832.93683963],\n",
       "       [  -7321.84626103, 4864826.77339722],\n",
       "       [  -7303.17033109, 4864819.7013194 ],\n",
       "       [  -7326.5429321 , 4864821.93756188],\n",
       "       [  -7316.37069866, 4864822.03635447],\n",
       "       [  -7332.15422926, 4864832.49394025],\n",
       "       [  -7388.63131447, 4864843.90631899],\n",
       "       [  -7319.76216235, 4864793.19334412],\n",
       "       [  -7312.05468901, 4864805.32130795],\n",
       "       [  -7336.30461243, 4864764.98158622],\n",
       "       [  -7300.81899009, 4864817.59936702],\n",
       "       [  -7369.87475512, 4864841.73294399],\n",
       "       [  -7398.4282    , 4864788.039     ],\n",
       "       [  -7352.59150729, 4864832.16717739],\n",
       "       [  -7315.79500636, 4864799.14446328],\n",
       "       [  -7324.88169488, 4864828.4579513 ],\n",
       "       [  -7346.1826    , 4864759.0534    ],\n",
       "       [  -7370.12782457, 4864839.08759504],\n",
       "       [  -7357.48059855, 4864774.81469437],\n",
       "       [  -7332.15422926, 4864832.49394025],\n",
       "       [  -7304.16107248, 4864817.64858962],\n",
       "       [  -7360.5393    , 4864837.9438    ],\n",
       "       [  -7380.13568574, 4864843.01848348],\n",
       "       [  -7388.4434234 , 4864817.97127512],\n",
       "       [  -7351.2667    , 4864837.3545    ],\n",
       "       [  -7331.93849375, 4864826.63118764],\n",
       "       [  -7357.10412119, 4864846.33484818],\n",
       "       [  -7319.05534766, 4864795.04830216],\n",
       "       [  -7360.95649101, 4864846.57905678],\n",
       "       [  -7320.0789    , 4864794.3278    ],\n",
       "       [  -7375.5845902 , 4864846.40689789],\n",
       "       [  -7359.91336009, 4864833.42077566],\n",
       "       [  -7306.66083811, 4864816.72295288],\n",
       "       [  -7345.4118    , 4864829.5512    ],\n",
       "       [  -7318.39335914, 4864817.86851179],\n",
       "       [  -7333.0691    , 4864769.2163    ],\n",
       "       [  -7322.35297361, 4864821.31313341],\n",
       "       [  -7333.0691    , 4864770.5093608 ],\n",
       "       [  -7349.74778497, 4864838.75350381],\n",
       "       [  -7302.68554723, 4864816.79428285],\n",
       "       [  -7315.15749939, 4864821.50205951],\n",
       "       [  -7346.1826    , 4864759.0534    ],\n",
       "       [  -7360.52810258, 4864837.93758794],\n",
       "       [  -7394.54494724, 4864836.91748657],\n",
       "       [  -7377.1335    , 4864851.7605    ],\n",
       "       [  -7388.4434234 , 4864817.97127512],\n",
       "       [  -7317.77875602, 4864796.76210017],\n",
       "       [  -7314.6117    , 4864800.7124    ],\n",
       "       [  -7364.8389    , 4864844.8842    ],\n",
       "       [  -7351.56900438, 4864831.55458339],\n",
       "       [  -7350.53608809, 4864832.3940981 ],\n",
       "       [  -7375.78179462, 4864851.19283228],\n",
       "       [  -7370.3999    , 4864772.489     ],\n",
       "       [  -7408.33887019, 4864811.52982535],\n",
       "       [  -7369.22354488, 4864761.38187774],\n",
       "       [  -7333.0691    , 4864769.2163    ],\n",
       "       [  -7384.50264506, 4864840.68034301],\n",
       "       [  -7352.66476895, 4864829.44932691],\n",
       "       [  -7304.01153958, 4864814.95295925],\n",
       "       [  -7392.18329437, 4864783.30611359],\n",
       "       [  -7316.8358    , 4864813.6975    ],\n",
       "       [  -7317.35785651, 4864797.83972107],\n",
       "       [  -7388.4434234 , 4864817.97127512],\n",
       "       [  -7378.69057759, 4864840.34713278],\n",
       "       [  -7351.71722808, 4864841.22575377],\n",
       "       [  -7313.37694163, 4864803.91108238],\n",
       "       [  -7390.70142287, 4864835.33278593],\n",
       "       [  -7331.91889673, 4864822.06548647],\n",
       "       [  -7316.8358    , 4864813.6975    ],\n",
       "       [  -7318.62664033, 4864819.24582058],\n",
       "       [  -7366.2566    , 4864841.1159    ],\n",
       "       [  -7321.8137438 , 4864817.9472258 ],\n",
       "       [  -7303.6741353 , 4864812.45214962],\n",
       "       [  -7381.2929    , 4864778.5325    ],\n",
       "       [  -7311.8295    , 4864805.7271    ],\n",
       "       [  -7303.31759275, 4864819.83296215],\n",
       "       [  -7377.1335    , 4864851.7605    ],\n",
       "       [  -7390.6206    , 4864836.0558    ],\n",
       "       [  -7390.48537366, 4864840.60966078],\n",
       "       [  -7358.26170688, 4864841.23524142],\n",
       "       [  -7360.92946784, 4864846.55333106]])"
      ]
     },
     "execution_count": 264,
     "metadata": {},
     "output_type": "execute_result"
    }
   ],
   "source": [
    "y_pred_step_2 = knn_regressor.predict(X_test_step_2)\n",
    "y_pred_step_2"
   ]
  },
  {
   "cell_type": "code",
   "execution_count": 265,
   "id": "8ec09a03",
   "metadata": {},
   "outputs": [
    {
     "data": {
      "text/plain": [
       "(389, 2)"
      ]
     },
     "execution_count": 265,
     "metadata": {},
     "output_type": "execute_result"
    }
   ],
   "source": [
    "y_pred_step_2.shape"
   ]
  },
  {
   "cell_type": "code",
   "execution_count": 266,
   "id": "8f018bb5",
   "metadata": {},
   "outputs": [
    {
     "data": {
      "text/plain": [
       "(389, 2)"
      ]
     },
     "execution_count": 266,
     "metadata": {},
     "output_type": "execute_result"
    }
   ],
   "source": [
    "y_test_step_2.shape"
   ]
  },
  {
   "cell_type": "code",
   "execution_count": 267,
   "id": "a2ea2d3d",
   "metadata": {},
   "outputs": [
    {
     "name": "stdout",
     "output_type": "stream",
     "text": [
      "103.91153052620609\n"
     ]
    }
   ],
   "source": [
    "print(mean_squared_error(y_test_step_2, y_pred_step_2))"
   ]
  },
  {
   "cell_type": "code",
   "execution_count": 268,
   "id": "f14135ee",
   "metadata": {},
   "outputs": [
    {
     "name": "stdout",
     "output_type": "stream",
     "text": [
      "[164.56680158  43.25625947]\n"
     ]
    }
   ],
   "source": [
    "print(mean_squared_error(y_test_step_2, y_pred_step_2, multioutput='raw_values'))"
   ]
  },
  {
   "cell_type": "code",
   "execution_count": 269,
   "id": "395ecea2",
   "metadata": {},
   "outputs": [
    {
     "data": {
      "text/plain": [
       "0    5.952121\n",
       "dtype: float64"
      ]
     },
     "execution_count": 269,
     "metadata": {},
     "output_type": "execute_result"
    }
   ],
   "source": [
    "y_pred_step_2 = pd.DataFrame(y_pred_step_2, columns=['long1', 'lat1'])\n",
    "y_test_step_2 = pd.DataFrame(y_test_step_2, columns=['long2', 'lat2'])\n",
    "# alculating the Euclidian distance between points\n",
    "distance_df = pd.DataFrame((y_test_step_2['lat2']-y_pred_step_2['lat1'])**2 + \n",
    "                           (y_test_step_2['long2']-y_pred_step_2['long1'])**2)**(1/2)\n",
    "sum_dist = distance_df.sum()\n",
    "mean_error = sum_dist/len(distance_df)\n",
    "mean_error"
   ]
  },
  {
   "cell_type": "code",
   "execution_count": 270,
   "id": "37e90053",
   "metadata": {},
   "outputs": [],
   "source": [
    "# from math import sin, cos, sqrt, atan2, radians\n",
    "\n",
    "# # Approximate radius of earth in km\n",
    "# R = 6373.0\n",
    "\n",
    "# def calc_dist(lat1, lon1, lat2, lon2):\n",
    "#     lat1 = radians(lat1)\n",
    "#     lon1 = radians(lon1)\n",
    "#     lat2 = radians(lat2)\n",
    "#     lon2 = radians(lon2)\n",
    "\n",
    "#     dlon = lon2 - lon1\n",
    "#     dlat = lat2 - lat1\n",
    "\n",
    "#     a = sin(dlat / 2)**2 + cos(lat1) * cos(lat2) * sin(dlon / 2)**2\n",
    "#     c = 2 * atan2(sqrt(a), sqrt(1 - a))\n",
    "\n",
    "#     distance = R * c\n",
    "#     return distance\n",
    "\n",
    "# print(\"Result: \", distance)\n",
    "# print(\"Should be: \", 278.546, \"km\")"
   ]
  },
  {
   "cell_type": "code",
   "execution_count": 271,
   "id": "08436942",
   "metadata": {
    "scrolled": false
   },
   "outputs": [
    {
     "data": {
      "text/html": [
       "<div>\n",
       "<style scoped>\n",
       "    .dataframe tbody tr th:only-of-type {\n",
       "        vertical-align: middle;\n",
       "    }\n",
       "\n",
       "    .dataframe tbody tr th {\n",
       "        vertical-align: top;\n",
       "    }\n",
       "\n",
       "    .dataframe thead th {\n",
       "        text-align: right;\n",
       "    }\n",
       "</style>\n",
       "<table border=\"1\" class=\"dataframe\">\n",
       "  <thead>\n",
       "    <tr style=\"text-align: right;\">\n",
       "      <th></th>\n",
       "      <th>long1</th>\n",
       "      <th>lat1</th>\n",
       "      <th>long2</th>\n",
       "      <th>lat2</th>\n",
       "    </tr>\n",
       "  </thead>\n",
       "  <tbody>\n",
       "    <tr>\n",
       "      <th>0</th>\n",
       "      <td>-7318.709207</td>\n",
       "      <td>4.864795e+06</td>\n",
       "      <td>-7318.694800</td>\n",
       "      <td>4.864795e+06</td>\n",
       "    </tr>\n",
       "    <tr>\n",
       "      <th>1</th>\n",
       "      <td>-7346.182600</td>\n",
       "      <td>4.864759e+06</td>\n",
       "      <td>-7346.182600</td>\n",
       "      <td>4.864759e+06</td>\n",
       "    </tr>\n",
       "    <tr>\n",
       "      <th>2</th>\n",
       "      <td>-7345.411800</td>\n",
       "      <td>4.864830e+06</td>\n",
       "      <td>-7345.411800</td>\n",
       "      <td>4.864830e+06</td>\n",
       "    </tr>\n",
       "    <tr>\n",
       "      <th>3</th>\n",
       "      <td>-7406.937921</td>\n",
       "      <td>4.864806e+06</td>\n",
       "      <td>-7404.835700</td>\n",
       "      <td>4.864808e+06</td>\n",
       "    </tr>\n",
       "    <tr>\n",
       "      <th>4</th>\n",
       "      <td>-7377.078270</td>\n",
       "      <td>4.864843e+06</td>\n",
       "      <td>-7377.078270</td>\n",
       "      <td>4.864843e+06</td>\n",
       "    </tr>\n",
       "    <tr>\n",
       "      <th>...</th>\n",
       "      <td>...</td>\n",
       "      <td>...</td>\n",
       "      <td>...</td>\n",
       "      <td>...</td>\n",
       "    </tr>\n",
       "    <tr>\n",
       "      <th>384</th>\n",
       "      <td>-7377.133500</td>\n",
       "      <td>4.864852e+06</td>\n",
       "      <td>-7377.133500</td>\n",
       "      <td>4.864852e+06</td>\n",
       "    </tr>\n",
       "    <tr>\n",
       "      <th>385</th>\n",
       "      <td>-7390.620600</td>\n",
       "      <td>4.864836e+06</td>\n",
       "      <td>-7390.620600</td>\n",
       "      <td>4.864836e+06</td>\n",
       "    </tr>\n",
       "    <tr>\n",
       "      <th>386</th>\n",
       "      <td>-7390.485374</td>\n",
       "      <td>4.864841e+06</td>\n",
       "      <td>-7390.548551</td>\n",
       "      <td>4.864840e+06</td>\n",
       "    </tr>\n",
       "    <tr>\n",
       "      <th>387</th>\n",
       "      <td>-7358.261707</td>\n",
       "      <td>4.864841e+06</td>\n",
       "      <td>-7360.539300</td>\n",
       "      <td>4.864838e+06</td>\n",
       "    </tr>\n",
       "    <tr>\n",
       "      <th>388</th>\n",
       "      <td>-7360.929468</td>\n",
       "      <td>4.864847e+06</td>\n",
       "      <td>-7357.698200</td>\n",
       "      <td>4.864841e+06</td>\n",
       "    </tr>\n",
       "  </tbody>\n",
       "</table>\n",
       "<p>389 rows × 4 columns</p>\n",
       "</div>"
      ],
      "text/plain": [
       "           long1          lat1        long2          lat2\n",
       "0   -7318.709207  4.864795e+06 -7318.694800  4.864795e+06\n",
       "1   -7346.182600  4.864759e+06 -7346.182600  4.864759e+06\n",
       "2   -7345.411800  4.864830e+06 -7345.411800  4.864830e+06\n",
       "3   -7406.937921  4.864806e+06 -7404.835700  4.864808e+06\n",
       "4   -7377.078270  4.864843e+06 -7377.078270  4.864843e+06\n",
       "..           ...           ...          ...           ...\n",
       "384 -7377.133500  4.864852e+06 -7377.133500  4.864852e+06\n",
       "385 -7390.620600  4.864836e+06 -7390.620600  4.864836e+06\n",
       "386 -7390.485374  4.864841e+06 -7390.548551  4.864840e+06\n",
       "387 -7358.261707  4.864841e+06 -7360.539300  4.864838e+06\n",
       "388 -7360.929468  4.864847e+06 -7357.698200  4.864841e+06\n",
       "\n",
       "[389 rows x 4 columns]"
      ]
     },
     "execution_count": 271,
     "metadata": {},
     "output_type": "execute_result"
    }
   ],
   "source": [
    "df_final = pd.DataFrame()\n",
    "df_final = pd.concat([y_pred_step_2, y_test_step_2], axis=1)\n",
    "df_final"
   ]
  },
  {
   "cell_type": "code",
   "execution_count": 272,
   "id": "10067bbe",
   "metadata": {},
   "outputs": [],
   "source": [
    "# earth_radius=6371\n",
    "\n",
    "# df_final['long1'] = np.radians(df_final['long1'])\n",
    "# df_final['long2'] = np.radians(df_final['long2'])\n",
    "# df_final['lat1'] = np.radians(df_final['lat1'])\n",
    "# df_final['lat2'] = np.radians(df_final['lat2'])\n",
    "\n",
    "\n",
    "# df_final['a'] = np.sin((df_final['lat2']-df_final['lat1'])/2.0)**2 + \\\n",
    "#     np.cos(df_final['lat1']) * np.cos(df_final['lat2']) * np.sin((df_final['long2']-df_final['long1'])/2.0)**2\n",
    "\n",
    "# df_final['DISTANCE'] = earth_radius * 2 * np.arcsin(np.sqrt(df_final['a']))\n",
    "# dist_km = df_final['DISTANCE'].sum().mean()\n",
    "# dist_m = dist_km\n",
    "# dist_m"
   ]
  },
  {
   "cell_type": "code",
   "execution_count": 273,
   "id": "a53105fa",
   "metadata": {},
   "outputs": [
    {
     "data": {
      "image/png": "[encoded data removed]",
      "text/plain": [
       "<Figure size 720x720 with 1 Axes>"
      ]
     },
     "metadata": {
      "needs_background": "light"
     },
     "output_type": "display_data"
    }
   ],
   "source": [
    "font = {'family' : 'normal',\n",
    "        'size'   : 20}\n",
    "matplotlib.rc('font', **font)\n",
    "\n",
    "\n",
    "fig = plt.figure(figsize=(10,10))\n",
    "plt.scatter(x=df_final['long1'], \n",
    "            y=df_final['lat1'],\n",
    "            alpha=0.6, \n",
    "            color='red',\n",
    "            label='predicted data')\n",
    "\n",
    "plt.scatter(x=df_final['long2'], \n",
    "            y=df_final['lat2'],\n",
    "            alpha=0.6, \n",
    "            color='green',\n",
    "            label='ground truth')\n",
    "\n",
    "plt.xlabel('Longitude')\n",
    "plt.ylabel('Latitude')\n",
    "plt.legend(loc='upper right')\n",
    "plt.tight_layout()"
   ]
  },
  {
   "cell_type": "code",
   "execution_count": null,
   "id": "ca9590bd",
   "metadata": {},
   "outputs": [],
   "source": []
  },
  {
   "cell_type": "code",
   "execution_count": null,
   "id": "09288e9d",
   "metadata": {},
   "outputs": [],
   "source": []
  }
 ],
 "metadata": {
  "kernelspec": {
   "display_name": "Python 3 (ipykernel)",
   "language": "python",
   "name": "python3"
  },
  "language_info": {
   "codemirror_mode": {
    "name": "ipython",
    "version": 3
   },
   "file_extension": ".py",
   "mimetype": "text/x-python",
   "name": "python",
   "nbconvert_exporter": "python",
   "pygments_lexer": "ipython3",
   "version": "3.9.2"
  }
 },
 "nbformat": 4,
 "nbformat_minor": 5
}
