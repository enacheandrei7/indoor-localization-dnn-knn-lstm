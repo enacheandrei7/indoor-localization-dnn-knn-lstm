{
 "cells": [
  {
   "cell_type": "code",
   "execution_count": 3,
   "id": "8eeeb381",
   "metadata": {},
   "outputs": [],
   "source": [
    "import numpy as np\n",
    "import matplotlib.pyplot as plt\n",
    "from IPython.display import clear_output\n",
    "import pandas as pd\n",
    "import utm\n",
    "\n",
    "from sklearn.preprocessing import MinMaxScaler\n",
    "from sklearn.decomposition import PCA\n",
    "from sklearn.metrics import r2_score, confusion_matrix, accuracy_score, mean_squared_error, classification_report\n",
    "\n",
    "import tensorflow as tf\n",
    "import keras\n",
    "from keras import optimizers\n",
    "from keras.models import Sequential\n",
    "from keras.layers import LSTM, Dropout, Dense, TimeDistributed, Input, Activation, concatenate\n",
    "from keras.callbacks import History\n",
    "from keras.models import Model\n",
    "\n",
    "# The values have around 15 decimals, so for more clarity in reading we're increasing the number of displayed values\n",
    "pd.set_option('display.float_format', '{:.15f}'.format)"
   ]
  },
  {
   "cell_type": "markdown",
   "id": "c3ea51bc",
   "metadata": {},
   "source": [
    "# 1. Importing the data"
   ]
  },
  {
   "cell_type": "code",
   "execution_count": 222,
   "id": "937b493b",
   "metadata": {},
   "outputs": [],
   "source": [
    "sensor_and_loc_file = '../data/Processed/full_sensor_data_no_interpol_and_location.csv'"
   ]
  },
  {
   "cell_type": "code",
   "execution_count": 223,
   "id": "a4a3b7dd",
   "metadata": {},
   "outputs": [
    {
     "data": {
      "text/html": [
       "<div>\n",
       "<style scoped>\n",
       "    .dataframe tbody tr th:only-of-type {\n",
       "        vertical-align: middle;\n",
       "    }\n",
       "\n",
       "    .dataframe tbody tr th {\n",
       "        vertical-align: top;\n",
       "    }\n",
       "\n",
       "    .dataframe thead th {\n",
       "        text-align: right;\n",
       "    }\n",
       "</style>\n",
       "<table border=\"1\" class=\"dataframe\">\n",
       "  <thead>\n",
       "    <tr style=\"text-align: right;\">\n",
       "      <th></th>\n",
       "      <th>ax</th>\n",
       "      <th>ay</th>\n",
       "      <th>az</th>\n",
       "      <th>gx</th>\n",
       "      <th>gy</th>\n",
       "      <th>gz</th>\n",
       "      <th>mx</th>\n",
       "      <th>my</th>\n",
       "      <th>mz</th>\n",
       "      <th>a_total</th>\n",
       "      <th>g_total</th>\n",
       "      <th>m_total</th>\n",
       "      <th>lat</th>\n",
       "      <th>long</th>\n",
       "    </tr>\n",
       "  </thead>\n",
       "  <tbody>\n",
       "    <tr>\n",
       "      <th>12:15:51:60</th>\n",
       "      <td>0.558120700000000</td>\n",
       "      <td>0.496215820000000</td>\n",
       "      <td>9.361587999999999</td>\n",
       "      <td>0.074188230000000</td>\n",
       "      <td>0.290191650000000</td>\n",
       "      <td>-0.387237550000000</td>\n",
       "      <td>52.349854000000001</td>\n",
       "      <td>-50.549315999999997</td>\n",
       "      <td>-260.850520000000017</td>\n",
       "      <td>9.391328912221676</td>\n",
       "      <td>0.489558992696751</td>\n",
       "      <td>270.811252251747476</td>\n",
       "      <td>44.434937499999997</td>\n",
       "      <td>26.047601499999999</td>\n",
       "    </tr>\n",
       "    <tr>\n",
       "      <th>12:15:51:61</th>\n",
       "      <td>0.412078860000000</td>\n",
       "      <td>0.443542480000000</td>\n",
       "      <td>9.409470000000001</td>\n",
       "      <td>0.032653810000000</td>\n",
       "      <td>0.321075440000000</td>\n",
       "      <td>-0.377655030000000</td>\n",
       "      <td>NaN</td>\n",
       "      <td>NaN</td>\n",
       "      <td>NaN</td>\n",
       "      <td>9.428927012090160</td>\n",
       "      <td>0.496768589146909</td>\n",
       "      <td>NaN</td>\n",
       "      <td>NaN</td>\n",
       "      <td>NaN</td>\n",
       "    </tr>\n",
       "    <tr>\n",
       "      <th>12:15:51:62</th>\n",
       "      <td>0.378555300000000</td>\n",
       "      <td>0.465087900000000</td>\n",
       "      <td>9.435805999999999</td>\n",
       "      <td>0.018798828000000</td>\n",
       "      <td>0.324279800000000</td>\n",
       "      <td>-0.366989140000000</td>\n",
       "      <td>NaN</td>\n",
       "      <td>NaN</td>\n",
       "      <td>NaN</td>\n",
       "      <td>9.454842449217251</td>\n",
       "      <td>0.490093678290338</td>\n",
       "      <td>NaN</td>\n",
       "      <td>NaN</td>\n",
       "      <td>NaN</td>\n",
       "    </tr>\n",
       "    <tr>\n",
       "      <th>12:15:51:63</th>\n",
       "      <td>NaN</td>\n",
       "      <td>NaN</td>\n",
       "      <td>NaN</td>\n",
       "      <td>NaN</td>\n",
       "      <td>NaN</td>\n",
       "      <td>NaN</td>\n",
       "      <td>NaN</td>\n",
       "      <td>NaN</td>\n",
       "      <td>NaN</td>\n",
       "      <td>NaN</td>\n",
       "      <td>NaN</td>\n",
       "      <td>NaN</td>\n",
       "      <td>NaN</td>\n",
       "      <td>NaN</td>\n",
       "    </tr>\n",
       "    <tr>\n",
       "      <th>12:15:51:64</th>\n",
       "      <td>NaN</td>\n",
       "      <td>NaN</td>\n",
       "      <td>NaN</td>\n",
       "      <td>NaN</td>\n",
       "      <td>NaN</td>\n",
       "      <td>NaN</td>\n",
       "      <td>NaN</td>\n",
       "      <td>NaN</td>\n",
       "      <td>NaN</td>\n",
       "      <td>NaN</td>\n",
       "      <td>NaN</td>\n",
       "      <td>NaN</td>\n",
       "      <td>NaN</td>\n",
       "      <td>NaN</td>\n",
       "    </tr>\n",
       "    <tr>\n",
       "      <th>...</th>\n",
       "      <td>...</td>\n",
       "      <td>...</td>\n",
       "      <td>...</td>\n",
       "      <td>...</td>\n",
       "      <td>...</td>\n",
       "      <td>...</td>\n",
       "      <td>...</td>\n",
       "      <td>...</td>\n",
       "      <td>...</td>\n",
       "      <td>...</td>\n",
       "      <td>...</td>\n",
       "      <td>...</td>\n",
       "      <td>...</td>\n",
       "      <td>...</td>\n",
       "    </tr>\n",
       "    <tr>\n",
       "      <th>19:09:27:16</th>\n",
       "      <td>1.302719100000000</td>\n",
       "      <td>0.520156860000000</td>\n",
       "      <td>7.142166000000000</td>\n",
       "      <td>-0.118621826000000</td>\n",
       "      <td>-0.505569460000000</td>\n",
       "      <td>0.092132570000000</td>\n",
       "      <td>NaN</td>\n",
       "      <td>NaN</td>\n",
       "      <td>NaN</td>\n",
       "      <td>7.278610814164050</td>\n",
       "      <td>0.527408785424618</td>\n",
       "      <td>NaN</td>\n",
       "      <td>NaN</td>\n",
       "      <td>NaN</td>\n",
       "    </tr>\n",
       "    <tr>\n",
       "      <th>19:09:27:17</th>\n",
       "      <td>2.049713100000000</td>\n",
       "      <td>0.280731200000000</td>\n",
       "      <td>8.202788999999999</td>\n",
       "      <td>-0.301849370000000</td>\n",
       "      <td>-0.332992550000000</td>\n",
       "      <td>0.140075680000000</td>\n",
       "      <td>23.100280000000001</td>\n",
       "      <td>-16.200256000000000</td>\n",
       "      <td>-262.800599999999974</td>\n",
       "      <td>8.459662001373697</td>\n",
       "      <td>0.470763503951147</td>\n",
       "      <td>264.310852200404213</td>\n",
       "      <td>NaN</td>\n",
       "      <td>NaN</td>\n",
       "    </tr>\n",
       "    <tr>\n",
       "      <th>19:09:27:18</th>\n",
       "      <td>2.140686000000000</td>\n",
       "      <td>0.043701172000000</td>\n",
       "      <td>9.170044000000001</td>\n",
       "      <td>-0.590530400000000</td>\n",
       "      <td>0.304031370000000</td>\n",
       "      <td>0.046325684000000</td>\n",
       "      <td>23.100280000000001</td>\n",
       "      <td>-13.949585000000001</td>\n",
       "      <td>-261.749270000000024</td>\n",
       "      <td>9.416695455676912</td>\n",
       "      <td>0.665813259304968</td>\n",
       "      <td>263.136645496752351</td>\n",
       "      <td>NaN</td>\n",
       "      <td>NaN</td>\n",
       "    </tr>\n",
       "    <tr>\n",
       "      <th>19:09:27:19</th>\n",
       "      <td>1.896484400000000</td>\n",
       "      <td>-0.226837160000000</td>\n",
       "      <td>9.799728000000000</td>\n",
       "      <td>-0.686401370000000</td>\n",
       "      <td>0.651306150000000</td>\n",
       "      <td>-0.067657470000000</td>\n",
       "      <td>NaN</td>\n",
       "      <td>NaN</td>\n",
       "      <td>NaN</td>\n",
       "      <td>9.984126253738191</td>\n",
       "      <td>0.948643281224560</td>\n",
       "      <td>NaN</td>\n",
       "      <td>NaN</td>\n",
       "      <td>NaN</td>\n",
       "    </tr>\n",
       "    <tr>\n",
       "      <th>19:09:27:20</th>\n",
       "      <td>1.659454300000000</td>\n",
       "      <td>-0.241210940000000</td>\n",
       "      <td>9.857193000000001</td>\n",
       "      <td>-0.760971070000000</td>\n",
       "      <td>0.844131470000000</td>\n",
       "      <td>-0.144348140000000</td>\n",
       "      <td>NaN</td>\n",
       "      <td>NaN</td>\n",
       "      <td>NaN</td>\n",
       "      <td>9.998811185866709</td>\n",
       "      <td>1.145631395145387</td>\n",
       "      <td>NaN</td>\n",
       "      <td>44.434937499964562</td>\n",
       "      <td>26.047601499916670</td>\n",
       "    </tr>\n",
       "  </tbody>\n",
       "</table>\n",
       "<p>63707 rows × 14 columns</p>\n",
       "</div>"
      ],
      "text/plain": [
       "                           ax                 ay                az  \\\n",
       "12:15:51:60 0.558120700000000  0.496215820000000 9.361587999999999   \n",
       "12:15:51:61 0.412078860000000  0.443542480000000 9.409470000000001   \n",
       "12:15:51:62 0.378555300000000  0.465087900000000 9.435805999999999   \n",
       "12:15:51:63               NaN                NaN               NaN   \n",
       "12:15:51:64               NaN                NaN               NaN   \n",
       "...                       ...                ...               ...   \n",
       "19:09:27:16 1.302719100000000  0.520156860000000 7.142166000000000   \n",
       "19:09:27:17 2.049713100000000  0.280731200000000 8.202788999999999   \n",
       "19:09:27:18 2.140686000000000  0.043701172000000 9.170044000000001   \n",
       "19:09:27:19 1.896484400000000 -0.226837160000000 9.799728000000000   \n",
       "19:09:27:20 1.659454300000000 -0.241210940000000 9.857193000000001   \n",
       "\n",
       "                            gx                 gy                 gz  \\\n",
       "12:15:51:60  0.074188230000000  0.290191650000000 -0.387237550000000   \n",
       "12:15:51:61  0.032653810000000  0.321075440000000 -0.377655030000000   \n",
       "12:15:51:62  0.018798828000000  0.324279800000000 -0.366989140000000   \n",
       "12:15:51:63                NaN                NaN                NaN   \n",
       "12:15:51:64                NaN                NaN                NaN   \n",
       "...                        ...                ...                ...   \n",
       "19:09:27:16 -0.118621826000000 -0.505569460000000  0.092132570000000   \n",
       "19:09:27:17 -0.301849370000000 -0.332992550000000  0.140075680000000   \n",
       "19:09:27:18 -0.590530400000000  0.304031370000000  0.046325684000000   \n",
       "19:09:27:19 -0.686401370000000  0.651306150000000 -0.067657470000000   \n",
       "19:09:27:20 -0.760971070000000  0.844131470000000 -0.144348140000000   \n",
       "\n",
       "                            mx                  my                   mz  \\\n",
       "12:15:51:60 52.349854000000001 -50.549315999999997 -260.850520000000017   \n",
       "12:15:51:61                NaN                 NaN                  NaN   \n",
       "12:15:51:62                NaN                 NaN                  NaN   \n",
       "12:15:51:63                NaN                 NaN                  NaN   \n",
       "12:15:51:64                NaN                 NaN                  NaN   \n",
       "...                        ...                 ...                  ...   \n",
       "19:09:27:16                NaN                 NaN                  NaN   \n",
       "19:09:27:17 23.100280000000001 -16.200256000000000 -262.800599999999974   \n",
       "19:09:27:18 23.100280000000001 -13.949585000000001 -261.749270000000024   \n",
       "19:09:27:19                NaN                 NaN                  NaN   \n",
       "19:09:27:20                NaN                 NaN                  NaN   \n",
       "\n",
       "                      a_total           g_total             m_total  \\\n",
       "12:15:51:60 9.391328912221676 0.489558992696751 270.811252251747476   \n",
       "12:15:51:61 9.428927012090160 0.496768589146909                 NaN   \n",
       "12:15:51:62 9.454842449217251 0.490093678290338                 NaN   \n",
       "12:15:51:63               NaN               NaN                 NaN   \n",
       "12:15:51:64               NaN               NaN                 NaN   \n",
       "...                       ...               ...                 ...   \n",
       "19:09:27:16 7.278610814164050 0.527408785424618                 NaN   \n",
       "19:09:27:17 8.459662001373697 0.470763503951147 264.310852200404213   \n",
       "19:09:27:18 9.416695455676912 0.665813259304968 263.136645496752351   \n",
       "19:09:27:19 9.984126253738191 0.948643281224560                 NaN   \n",
       "19:09:27:20 9.998811185866709 1.145631395145387                 NaN   \n",
       "\n",
       "                           lat               long  \n",
       "12:15:51:60 44.434937499999997 26.047601499999999  \n",
       "12:15:51:61                NaN                NaN  \n",
       "12:15:51:62                NaN                NaN  \n",
       "12:15:51:63                NaN                NaN  \n",
       "12:15:51:64                NaN                NaN  \n",
       "...                        ...                ...  \n",
       "19:09:27:16                NaN                NaN  \n",
       "19:09:27:17                NaN                NaN  \n",
       "19:09:27:18                NaN                NaN  \n",
       "19:09:27:19                NaN                NaN  \n",
       "19:09:27:20 44.434937499964562 26.047601499916670  \n",
       "\n",
       "[63707 rows x 14 columns]"
      ]
     },
     "execution_count": 223,
     "metadata": {},
     "output_type": "execute_result"
    }
   ],
   "source": [
    "df_sensor_and_loc = pd.read_csv(sensor_and_loc_file, index_col=0)\n",
    "df_sensor_and_loc"
   ]
  },
  {
   "cell_type": "code",
   "execution_count": 224,
   "id": "2e49be53",
   "metadata": {},
   "outputs": [
    {
     "data": {
      "text/plain": [
       "(31074, 14)"
      ]
     },
     "execution_count": 224,
     "metadata": {},
     "output_type": "execute_result"
    }
   ],
   "source": [
    "df_sensor_and_loc.loc[:, 'lat'].interpolate(method='linear', inplace=True)\n",
    "df_sensor_and_loc.loc[:, 'long'].interpolate(method='linear', inplace=True)\n",
    "df_sensor_and_loc.dropna(inplace=True)\n",
    "df_sensor_and_loc.shape"
   ]
  },
  {
   "cell_type": "markdown",
   "id": "d139960b",
   "metadata": {},
   "source": [
    "## 1.1. Creating x and y"
   ]
  },
  {
   "cell_type": "code",
   "execution_count": 225,
   "id": "d5a43ebd",
   "metadata": {},
   "outputs": [],
   "source": [
    "# df_sensor_and_loc['x'] = np.nan\n",
    "# df_sensor_and_loc['y'] = np.nan\n",
    "# for i in range(len(df_sensor_and_loc)):\n",
    "#     lat = df_sensor_and_loc['lat'].iloc[i]\n",
    "#     long = df_sensor_and_loc['long'].iloc[i]\n",
    "#     df_sensor_and_loc['x'].iloc[i], df_sensor_and_loc['y'].iloc[i], zone, ut = utm.from_latlon(df_sensor_and_loc['lat'].iloc[i], df_sensor_and_loc['long'].iloc[i])\n",
    "# df_sensor_and_loc"
   ]
  },
  {
   "cell_type": "code",
   "execution_count": 226,
   "id": "759085e9",
   "metadata": {},
   "outputs": [],
   "source": [
    "# plt.scatter(x=df_sensor_and_loc['x'], y=df_sensor_and_loc['y'])"
   ]
  },
  {
   "cell_type": "code",
   "execution_count": 270,
   "id": "c34757ca",
   "metadata": {
    "scrolled": true
   },
   "outputs": [
    {
     "ename": "InvalidIndexError",
     "evalue": "(slice(None, 2071, None), slice(None, None, None))",
     "output_type": "error",
     "traceback": [
      "\u001b[1;31m---------------------------------------------------------------------------\u001b[0m",
      "\u001b[1;31mTypeError\u001b[0m                                 Traceback (most recent call last)",
      "File \u001b[1;32mc:\\python39\\lib\\site-packages\\pandas\\core\\indexes\\base.py:3621\u001b[0m, in \u001b[0;36mIndex.get_loc\u001b[1;34m(self, key, method, tolerance)\u001b[0m\n\u001b[0;32m   3620\u001b[0m \u001b[38;5;28;01mtry\u001b[39;00m:\n\u001b[1;32m-> 3621\u001b[0m     \u001b[38;5;28;01mreturn\u001b[39;00m \u001b[38;5;28;43mself\u001b[39;49m\u001b[38;5;241;43m.\u001b[39;49m\u001b[43m_engine\u001b[49m\u001b[38;5;241;43m.\u001b[39;49m\u001b[43mget_loc\u001b[49m\u001b[43m(\u001b[49m\u001b[43mcasted_key\u001b[49m\u001b[43m)\u001b[49m\n\u001b[0;32m   3622\u001b[0m \u001b[38;5;28;01mexcept\u001b[39;00m \u001b[38;5;167;01mKeyError\u001b[39;00m \u001b[38;5;28;01mas\u001b[39;00m err:\n",
      "File \u001b[1;32mc:\\python39\\lib\\site-packages\\pandas\\_libs\\index.pyx:136\u001b[0m, in \u001b[0;36mpandas._libs.index.IndexEngine.get_loc\u001b[1;34m()\u001b[0m\n",
      "File \u001b[1;32mc:\\python39\\lib\\site-packages\\pandas\\_libs\\index.pyx:142\u001b[0m, in \u001b[0;36mpandas._libs.index.IndexEngine.get_loc\u001b[1;34m()\u001b[0m\n",
      "\u001b[1;31mTypeError\u001b[0m: '(slice(None, 2071, None), slice(None, None, None))' is an invalid key",
      "\nDuring handling of the above exception, another exception occurred:\n",
      "\u001b[1;31mInvalidIndexError\u001b[0m                         Traceback (most recent call last)",
      "Input \u001b[1;32mIn [270]\u001b[0m, in \u001b[0;36m<cell line: 2>\u001b[1;34m()\u001b[0m\n\u001b[0;32m      1\u001b[0m data \u001b[38;5;241m=\u001b[39m df_sensor_and_loc\u001b[38;5;241m.\u001b[39mcopy(deep\u001b[38;5;241m=\u001b[39m\u001b[38;5;28;01mTrue\u001b[39;00m)[::\u001b[38;5;241m5\u001b[39m]\n\u001b[1;32m----> 2\u001b[0m data \u001b[38;5;241m=\u001b[39m \u001b[43mdata\u001b[49m\u001b[43m[\u001b[49m\u001b[43m:\u001b[49m\u001b[38;5;28;43mlen\u001b[39;49m\u001b[43m(\u001b[49m\u001b[43mdata\u001b[49m\u001b[43m)\u001b[49m\u001b[38;5;241;43m/\u001b[39;49m\u001b[38;5;241;43m/\u001b[39;49m\u001b[38;5;241;43m3\u001b[39;49m\u001b[43m,\u001b[49m\u001b[43m \u001b[49m\u001b[43m:\u001b[49m\u001b[43m]\u001b[49m\n\u001b[0;32m      3\u001b[0m \u001b[38;5;28mprint\u001b[39m(data\u001b[38;5;241m.\u001b[39mshape)\n\u001b[0;32m      4\u001b[0m data\n",
      "File \u001b[1;32mc:\\python39\\lib\\site-packages\\pandas\\core\\frame.py:3505\u001b[0m, in \u001b[0;36mDataFrame.__getitem__\u001b[1;34m(self, key)\u001b[0m\n\u001b[0;32m   3503\u001b[0m \u001b[38;5;28;01mif\u001b[39;00m \u001b[38;5;28mself\u001b[39m\u001b[38;5;241m.\u001b[39mcolumns\u001b[38;5;241m.\u001b[39mnlevels \u001b[38;5;241m>\u001b[39m \u001b[38;5;241m1\u001b[39m:\n\u001b[0;32m   3504\u001b[0m     \u001b[38;5;28;01mreturn\u001b[39;00m \u001b[38;5;28mself\u001b[39m\u001b[38;5;241m.\u001b[39m_getitem_multilevel(key)\n\u001b[1;32m-> 3505\u001b[0m indexer \u001b[38;5;241m=\u001b[39m \u001b[38;5;28;43mself\u001b[39;49m\u001b[38;5;241;43m.\u001b[39;49m\u001b[43mcolumns\u001b[49m\u001b[38;5;241;43m.\u001b[39;49m\u001b[43mget_loc\u001b[49m\u001b[43m(\u001b[49m\u001b[43mkey\u001b[49m\u001b[43m)\u001b[49m\n\u001b[0;32m   3506\u001b[0m \u001b[38;5;28;01mif\u001b[39;00m is_integer(indexer):\n\u001b[0;32m   3507\u001b[0m     indexer \u001b[38;5;241m=\u001b[39m [indexer]\n",
      "File \u001b[1;32mc:\\python39\\lib\\site-packages\\pandas\\core\\indexes\\base.py:3628\u001b[0m, in \u001b[0;36mIndex.get_loc\u001b[1;34m(self, key, method, tolerance)\u001b[0m\n\u001b[0;32m   3623\u001b[0m         \u001b[38;5;28;01mraise\u001b[39;00m \u001b[38;5;167;01mKeyError\u001b[39;00m(key) \u001b[38;5;28;01mfrom\u001b[39;00m \u001b[38;5;21;01merr\u001b[39;00m\n\u001b[0;32m   3624\u001b[0m     \u001b[38;5;28;01mexcept\u001b[39;00m \u001b[38;5;167;01mTypeError\u001b[39;00m:\n\u001b[0;32m   3625\u001b[0m         \u001b[38;5;66;03m# If we have a listlike key, _check_indexing_error will raise\u001b[39;00m\n\u001b[0;32m   3626\u001b[0m         \u001b[38;5;66;03m#  InvalidIndexError. Otherwise we fall through and re-raise\u001b[39;00m\n\u001b[0;32m   3627\u001b[0m         \u001b[38;5;66;03m#  the TypeError.\u001b[39;00m\n\u001b[1;32m-> 3628\u001b[0m         \u001b[38;5;28;43mself\u001b[39;49m\u001b[38;5;241;43m.\u001b[39;49m\u001b[43m_check_indexing_error\u001b[49m\u001b[43m(\u001b[49m\u001b[43mkey\u001b[49m\u001b[43m)\u001b[49m\n\u001b[0;32m   3629\u001b[0m         \u001b[38;5;28;01mraise\u001b[39;00m\n\u001b[0;32m   3631\u001b[0m \u001b[38;5;66;03m# GH#42269\u001b[39;00m\n",
      "File \u001b[1;32mc:\\python39\\lib\\site-packages\\pandas\\core\\indexes\\base.py:5637\u001b[0m, in \u001b[0;36mIndex._check_indexing_error\u001b[1;34m(self, key)\u001b[0m\n\u001b[0;32m   5633\u001b[0m \u001b[38;5;28;01mdef\u001b[39;00m \u001b[38;5;21m_check_indexing_error\u001b[39m(\u001b[38;5;28mself\u001b[39m, key):\n\u001b[0;32m   5634\u001b[0m     \u001b[38;5;28;01mif\u001b[39;00m \u001b[38;5;129;01mnot\u001b[39;00m is_scalar(key):\n\u001b[0;32m   5635\u001b[0m         \u001b[38;5;66;03m# if key is not a scalar, directly raise an error (the code below\u001b[39;00m\n\u001b[0;32m   5636\u001b[0m         \u001b[38;5;66;03m# would convert to numpy arrays and raise later any way) - GH29926\u001b[39;00m\n\u001b[1;32m-> 5637\u001b[0m         \u001b[38;5;28;01mraise\u001b[39;00m InvalidIndexError(key)\n",
      "\u001b[1;31mInvalidIndexError\u001b[0m: (slice(None, 2071, None), slice(None, None, None))"
     ]
    }
   ],
   "source": [
    "data = df_sensor_and_loc.copy(deep=True)[::5]\n",
    "data = data[:len(data)//3, :]\n",
    "print(data.shape)\n",
    "data"
   ]
  },
  {
   "cell_type": "code",
   "execution_count": 254,
   "id": "276b2ce7",
   "metadata": {},
   "outputs": [
    {
     "data": {
      "text/plain": [
       "[<matplotlib.lines.Line2D at 0x2178650be20>]"
      ]
     },
     "execution_count": 254,
     "metadata": {},
     "output_type": "execute_result"
    },
    {
     "data": {
      "image/png": "[encoded data removed]",
      "text/plain": [
       "<Figure size 432x288 with 1 Axes>"
      ]
     },
     "metadata": {
      "needs_background": "light"
     },
     "output_type": "display_data"
    }
   ],
   "source": [
    "plt.plot(data['long'], data['lat'])"
   ]
  },
  {
   "cell_type": "code",
   "execution_count": 255,
   "id": "79a34ab5",
   "metadata": {},
   "outputs": [],
   "source": [
    "# plt.plot(data['x'], data['y'])"
   ]
  },
  {
   "cell_type": "markdown",
   "id": "7f9d499f",
   "metadata": {},
   "source": [
    "# 2. Creating the LSTM model"
   ]
  },
  {
   "cell_type": "markdown",
   "id": "2d333906",
   "metadata": {},
   "source": [
    "## 2.1. Scaling the data"
   ]
  },
  {
   "cell_type": "code",
   "execution_count": 256,
   "id": "9ed352f4",
   "metadata": {
    "scrolled": false
   },
   "outputs": [],
   "source": [
    "backcandles=100\n",
    "\n",
    "sc_attributes = MinMaxScaler(feature_range=(-1, 1))\n",
    "attributes_scaled = sc_attributes.fit_transform(data.iloc[:, :-2])\n",
    "\n",
    "sc_targets = MinMaxScaler(feature_range=(0, 1))\n",
    "targets_scaled = sc_targets.fit_transform(data.iloc[backcandles:, [-2, -1]])\n",
    "# y_test_1 = data.iloc[:, [-2, -1]]\n",
    "# print(y_test_1)\n",
    "# y_test_sc = sc.fit_transform(data.iloc[:, [-2, -1]])\n",
    "# print(data_scaled)"
   ]
  },
  {
   "cell_type": "code",
   "execution_count": 257,
   "id": "a14c6611",
   "metadata": {},
   "outputs": [
    {
     "name": "stdout",
     "output_type": "stream",
     "text": [
      "6215 12 (6115, 2)\n"
     ]
    }
   ],
   "source": [
    "print(attributes_scaled.shape[0], attributes_scaled.shape[1], targets_scaled.shape)"
   ]
  },
  {
   "cell_type": "markdown",
   "id": "c34ee96c",
   "metadata": {},
   "source": [
    "## 2.2. Principal Component Analysis (PCA)"
   ]
  },
  {
   "cell_type": "code",
   "execution_count": 258,
   "id": "91dd9205",
   "metadata": {},
   "outputs": [],
   "source": [
    "# pca = PCA(n_components=3)"
   ]
  },
  {
   "cell_type": "code",
   "execution_count": 259,
   "id": "e3f3a72f",
   "metadata": {},
   "outputs": [],
   "source": [
    "# pca.fit_transform(attributes_scaled)"
   ]
  },
  {
   "cell_type": "markdown",
   "id": "71576852",
   "metadata": {},
   "source": [
    "## 2.2. Reshaping the data in order to feed it to the model"
   ]
  },
  {
   "cell_type": "code",
   "execution_count": 260,
   "id": "a52b3e63",
   "metadata": {},
   "outputs": [],
   "source": [
    "# The following cell does this:\n",
    "\n",
    "# []\n",
    "# i = 0\n",
    "# X = [[]]\n",
    "# for j in range(30, 8611)\n",
    "#     J = 30\n",
    "#     X[0].append(data_scaled[30-30=0:30, 0]) --> append and array\n",
    "#     J = 31\n",
    "#     X[0].append(31-30=1:31, 0)\n",
    "#     \n",
    "# i = 1\n",
    "# X = [\n",
    "#       [  <-- 12 of those\n",
    "#        [5.5811, 5.4786, .., 5.1232  <--- 30 (backcandles) of those], [], ..., [] <--- 8581 of those\n",
    "#       ],\n",
    "#      [\n",
    "#        [5.5811, 5.4786, .., 5.1232], [], ..., []\n",
    "#      ]\n",
    "#    ]   ---> \n",
    "# for j in range(30, 8611)\n",
    "#     X[0].append(data_scaled[30-30:30, 0])"
   ]
  },
  {
   "cell_type": "code",
   "execution_count": 261,
   "id": "b4836a2c",
   "metadata": {},
   "outputs": [
    {
     "data": {
      "text/plain": [
       "(6115, 100, 12)"
      ]
     },
     "execution_count": 261,
     "metadata": {},
     "output_type": "execute_result"
    }
   ],
   "source": [
    "X = []\n",
    "backcandles=backcandles # number of last values to look into\n",
    "\n",
    "for i in range(12): #number of attributes columns\n",
    "    X.append([])\n",
    "    for j in range(backcandles, attributes_scaled.shape[0]):\n",
    "        X[i].append(attributes_scaled[j-backcandles:j, i])\n",
    "        \n",
    "# move axis from 0 to position 2\n",
    "X = np.moveaxis(X, [0], [2])\n",
    "\n",
    "# We need shape (8581, 30, 12) = (rows, val of past attributes, columns) for LSTM training\n",
    "X.shape"
   ]
  },
  {
   "cell_type": "code",
   "execution_count": 262,
   "id": "abfdbb3d",
   "metadata": {
    "scrolled": true
   },
   "outputs": [
    {
     "name": "stdout",
     "output_type": "stream",
     "text": [
      "X Shape:  (6115, 100, 12)\n",
      "y shape:  (6115, 2)\n"
     ]
    },
    {
     "data": {
      "text/plain": [
       "array([[0.86857167, 0.24055327],\n",
       "       [0.86222246, 0.24055327],\n",
       "       [0.85587326, 0.24055327],\n",
       "       ...,\n",
       "       [0.93333312, 0.00839689],\n",
       "       [0.93333312, 0.00530971],\n",
       "       [0.93333312, 0.00222253]])"
      ]
     },
     "execution_count": 262,
     "metadata": {},
     "output_type": "execute_result"
    }
   ],
   "source": [
    "# Transform X and the targets (lat and long columns) into arrays so the axis can be moved and the data \n",
    "# to be used in the LSTM model\n",
    "X, y = np.array(X), np.array(targets_scaled)\n",
    "\n",
    "# Move the axis for yi, so instead of (8581, 2) we'll have (8581, 1, 2)\n",
    "# I HAVE MODIFIED THIS:\n",
    "# y = np.reshape(yi,(len(yi), 1, 2))\n",
    "# y = np.reshape(yi,(len(yi), 2))\n",
    "\n",
    "print('X Shape: ',X.shape)\n",
    "print('y shape: ', y.shape)\n",
    "targets_scaled"
   ]
  },
  {
   "cell_type": "markdown",
   "id": "1b85bf84",
   "metadata": {},
   "source": [
    "## 2.3. Split the data into train, test and validation sets"
   ]
  },
  {
   "cell_type": "code",
   "execution_count": 263,
   "id": "f71e096f",
   "metadata": {},
   "outputs": [
    {
     "name": "stdout",
     "output_type": "stream",
     "text": [
      "4280 5503\n",
      "(4280, 100, 12)\n",
      "(1223, 100, 12)\n",
      "(612, 100, 12)\n",
      "(4280, 2)\n",
      "(1223, 2)\n",
      "(612, 2)\n"
     ]
    }
   ],
   "source": [
    "splitlimit_test = int(len(X) * 0.7)\n",
    "splitlimit_val = int(len(X) * 0.9)\n",
    "\n",
    "print(splitlimit_test, splitlimit_val)\n",
    "X_train, X_test, X_val = X[:splitlimit_test], X[splitlimit_test:splitlimit_val], X[splitlimit_val:]\n",
    "y_train, y_test, y_val = y[:splitlimit_test], y[splitlimit_test:splitlimit_val], y[splitlimit_val:]\n",
    "print(X_train.shape)\n",
    "print(X_test.shape)\n",
    "print(X_val.shape)\n",
    "print(y_train.shape)\n",
    "print(y_test.shape)\n",
    "print(y_val.shape)"
   ]
  },
  {
   "cell_type": "markdown",
   "id": "475ff548",
   "metadata": {},
   "source": [
    "## 2.4. Creating the LSTM  model"
   ]
  },
  {
   "cell_type": "markdown",
   "id": "98b998a2",
   "metadata": {},
   "source": [
    "### 2.4.1. Create function to plot the training"
   ]
  },
  {
   "cell_type": "code",
   "execution_count": 264,
   "id": "ddb11784",
   "metadata": {},
   "outputs": [],
   "source": [
    "class PlotLearning(keras.callbacks.Callback):\n",
    "    \"\"\"\n",
    "    Callback to plot the learning curves of the model during training.\n",
    "    \"\"\"\n",
    "    def on_train_begin(self, logs={}):\n",
    "        self.metrics = {}\n",
    "        for metric in logs:\n",
    "            self.metrics[metric] = []\n",
    "            \n",
    "\n",
    "    def on_epoch_end(self, epoch, logs={}):\n",
    "        # Storing metrics\n",
    "        for metric in logs:\n",
    "            if metric in self.metrics:\n",
    "                self.metrics[metric].append(logs.get(metric))\n",
    "            else:\n",
    "                self.metrics[metric] = [logs.get(metric)]\n",
    "        \n",
    "        # Plotting\n",
    "        metrics = [x for x in logs if 'val' not in x]\n",
    "        \n",
    "        f, axs = plt.subplots(1, len(metrics), figsize=(15,5))\n",
    "        clear_output(wait=True)\n",
    "\n",
    "        for i, metric in enumerate(metrics):\n",
    "            axs[i].plot(range(1, epoch + 2), \n",
    "                        self.metrics[metric], \n",
    "                        label=metric)\n",
    "            if logs['val_' + metric]:\n",
    "                axs[i].plot(range(1, epoch + 2), \n",
    "                            self.metrics['val_' + metric], \n",
    "                            label='val_' + metric)\n",
    "                \n",
    "            axs[i].legend()\n",
    "            axs[i].grid()\n",
    "\n",
    "        plt.tight_layout()\n",
    "        plt.show()"
   ]
  },
  {
   "cell_type": "markdown",
   "id": "4d4af3e9",
   "metadata": {},
   "source": [
    "### 2.4.2. Parametrizing the model"
   ]
  },
  {
   "cell_type": "code",
   "execution_count": 265,
   "id": "44fb8a39",
   "metadata": {
    "scrolled": true
   },
   "outputs": [
    {
     "data": {
      "image/png": "[encoded data removed]",
      "text/plain": [
       "<Figure size 1080x360 with 4 Axes>"
      ]
     },
     "metadata": {
      "needs_background": "light"
     },
     "output_type": "display_data"
    },
    {
     "name": "stdout",
     "output_type": "stream",
     "text": [
      "\b\b\b\b\b\b\b\b\b\b\b\b\b\b\b\b\b\b\b\b\b\b\b\b\b\b\b\b\b\b\b\b\b\b\b\b\b\b\b\b\b\b\b\b\b\b\b\b\b\b\b\b\b\b\b\b\b\b\b\b\b\b\b\b\b\b\b\b\b\b\b\b\b\b\b\b\b\b\b\b\b\b\b\b\b\b\b\b\b\b\b\b\b\b\b\b\b\b\b\b\b\b\b\b\b\b\b\b\b\b\r",
      "43/43 [==============================] - 18s 422ms/step - loss: 0.0017 - mse: 0.0017 - mae: 0.0286 - accuracy: 0.9629 - val_loss: 0.0034 - val_mse: 0.0034 - val_mae: 0.0416 - val_accuracy: 0.9689\n"
     ]
    },
    {
     "data": {
      "text/plain": [
       "<keras.callbacks.History at 0x217865e2730>"
      ]
     },
     "execution_count": 265,
     "metadata": {},
     "output_type": "execute_result"
    }
   ],
   "source": [
    "attributes_cols = 12\n",
    "batch_size=100\n",
    "epochs=50\n",
    "\n",
    "lstm_input = Input(shape=(backcandles, attributes_cols), name='lstm_input')\n",
    "inputs = LSTM(128, name='first_layer', return_sequences=False)(lstm_input)\n",
    "# inputs = LSTM(64, activation='relu', name='second_layer', return_sequences=False)(inputs)\n",
    "inputs = Dense(2, name='dense_layer')(inputs)\n",
    "output = Activation('linear', name='output')(inputs)\n",
    "\n",
    "model = Model(inputs=lstm_input, outputs=output)\n",
    "adam = optimizers.Adam()\n",
    "\n",
    "model.compile(optimizer=adam, loss='mse', metrics=['mse', 'mae', 'accuracy'])\n",
    "model.fit(x=X_train, \n",
    "          y=y_train, \n",
    "          batch_size=batch_size, \n",
    "          epochs=epochs, \n",
    "          shuffle=False, \n",
    "          validation_data=(X_test, y_test), \n",
    "          callbacks=[PlotLearning()])\n",
    "\n",
    "# model = Sequential()\n",
    "# model.add(LSTM(128, activation='relu', name='first_layer', return_sequences=True))\n",
    "# model.add(LSTM(128, activation='relu', name='second_layer', return_sequences=False))\n",
    "# model.add(Dropout(0.2))\n",
    "# model.add(Dense(2, name='dense_layer'))\n",
    "# model.compile(optimizer='adam', loss='mse', metrics=['accuracy'])\n",
    "# model.fit(X_train, y_train, epochs=epochs)"
   ]
  },
  {
   "cell_type": "code",
   "execution_count": 266,
   "id": "77fb167d",
   "metadata": {},
   "outputs": [
    {
     "name": "stdout",
     "output_type": "stream",
     "text": [
      "39/39 [==============================] - 4s 64ms/step\n",
      "[0.9048888  0.19953269] [0.93333317 0.19304129]\n",
      "[0.8973755 0.1961086] [0.93333317 0.19211513]\n",
      "[0.8958091  0.19758809] [0.93333317 0.19091113]\n",
      "[0.897525   0.20641327] [0.93333317 0.18998497]\n",
      "[0.917206   0.22069654] [0.93333317 0.18915144]\n",
      "[0.93062025 0.21837178] [0.93333317 0.18822528]\n",
      "[0.93178695 0.21651307] [0.93333317 0.18729913]\n",
      "[0.9205816  0.21727817] [0.93333317 0.18637297]\n",
      "[0.9131591  0.21057013] [0.93333317 0.1853542 ]\n",
      "[0.90075994 0.19383004] [0.93333317 0.18292562]\n",
      "Mean Squared Error (MSE): 0.003442119785065868\n",
      "R-squared: 0.960883599651192\n"
     ]
    }
   ],
   "source": [
    "y_pred = model.predict(X_test)\n",
    "for i in range(10):\n",
    "    print(y_pred[i], y_test[i])\n",
    "len(y_pred), len(y_test)\n",
    "\n",
    "# Calculate Mean Squared Error (MSE)\n",
    "mse = mean_squared_error(y_test, y_pred)\n",
    "print(\"Mean Squared Error (MSE):\", mse)\n",
    "\n",
    "# Calculate R-squared\n",
    "r2 = r2_score(y_test, y_pred)\n",
    "print(\"R-squared:\", r2)"
   ]
  },
  {
   "cell_type": "code",
   "execution_count": 267,
   "id": "41e1dc21",
   "metadata": {
    "scrolled": true
   },
   "outputs": [
    {
     "data": {
      "text/plain": [
       "<matplotlib.collections.PathCollection at 0x21787aac7c0>"
      ]
     },
     "execution_count": 267,
     "metadata": {},
     "output_type": "execute_result"
    },
    {
     "data": {
      "image/png": "[encoded data removed]",
      "text/plain": [
       "<Figure size 432x288 with 1 Axes>"
      ]
     },
     "metadata": {
      "needs_background": "light"
     },
     "output_type": "display_data"
    }
   ],
   "source": [
    "plt.scatter(y_test[:, 1], y_test[:, 0], color='black', label='Test')\n",
    "plt.scatter(y_pred[:, 1], y_pred[:, 0], color='blue', label='Pred')"
   ]
  },
  {
   "cell_type": "code",
   "execution_count": 268,
   "id": "ea83b35c",
   "metadata": {},
   "outputs": [
    {
     "name": "stdout",
     "output_type": "stream",
     "text": [
      "Mean Squared Error (MSE): 1.0970261426987987e-10\n",
      "R-squared: 0.954518613488762\n",
      "[[44.4349375  26.04766721]\n",
      " [44.4349375  26.0476669 ]\n",
      " [44.4349375  26.04766649]\n",
      " ...\n",
      " [44.434933   26.04775736]\n",
      " [44.434933   26.04775909]\n",
      " [44.434933   26.04776098]] [[44.434937 26.047668]\n",
      " [44.434937 26.047668]\n",
      " [44.434937 26.047668]\n",
      " ...\n",
      " [44.43493  26.047747]\n",
      " [44.43493  26.047743]\n",
      " [44.43493  26.047743]]\n"
     ]
    },
    {
     "data": {
      "image/png": "[encoded data removed]",
      "text/plain": [
       "<Figure size 432x288 with 1 Axes>"
      ]
     },
     "metadata": {
      "needs_background": "light"
     },
     "output_type": "display_data"
    }
   ],
   "source": [
    "y_test_normalized = sc_targets.inverse_transform(y_test)\n",
    "y_pred_normalized = sc_targets.inverse_transform(y_pred)\n",
    "\n",
    "# Calculate Mean Squared Error (MSE)\n",
    "mse = mean_squared_error(y_test_normalized, y_pred_normalized)\n",
    "print(\"Mean Squared Error (MSE):\", mse)\n",
    "\n",
    "# Calculate R-squared\n",
    "r2 = r2_score(y_test_normalized, y_pred_normalized)\n",
    "print(\"R-squared:\", r2)\n",
    "\n",
    "plt.plot(y_test_normalized[:, 1], y_test_normalized[:, 0], color='black', label='Test')\n",
    "plt.plot(y_pred_normalized[:, 1], y_pred_normalized[:, 0], color='blue', label='Pred')\n",
    "print(y_test_normalized, y_pred_normalized)"
   ]
  },
  {
   "cell_type": "code",
   "execution_count": 269,
   "id": "2073e17d",
   "metadata": {},
   "outputs": [
    {
     "name": "stdout",
     "output_type": "stream",
     "text": [
      "39/39 [==============================] - 3s 64ms/step - loss: 0.0034 - mse: 0.0034 - mae: 0.0416 - accuracy: 0.9689\n"
     ]
    },
    {
     "data": {
      "text/plain": [
       "[0.0034421198070049286,\n",
       " 0.0034421198070049286,\n",
       " 0.041637908667325974,\n",
       " 0.968928873538971]"
      ]
     },
     "execution_count": 269,
     "metadata": {},
     "output_type": "execute_result"
    }
   ],
   "source": [
    "model.evaluate(X_test, y_test)"
   ]
  },
  {
   "cell_type": "code",
   "execution_count": null,
   "id": "de842cfe",
   "metadata": {},
   "outputs": [],
   "source": []
  }
 ],
 "metadata": {
  "kernelspec": {
   "display_name": "Python 3 (ipykernel)",
   "language": "python",
   "name": "python3"
  },
  "language_info": {
   "codemirror_mode": {
    "name": "ipython",
    "version": 3
   },
   "file_extension": ".py",
   "mimetype": "text/x-python",
   "name": "python",
   "nbconvert_exporter": "python",
   "pygments_lexer": "ipython3",
   "version": "3.9.2"
  }
 },
 "nbformat": 4,
 "nbformat_minor": 5
}
