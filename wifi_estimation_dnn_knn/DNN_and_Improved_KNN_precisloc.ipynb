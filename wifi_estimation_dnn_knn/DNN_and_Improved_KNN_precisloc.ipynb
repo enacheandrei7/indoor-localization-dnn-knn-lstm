{
 "cells": [
  {
   "cell_type": "markdown",
   "id": "04f1d8c6",
   "metadata": {},
   "source": [
    "# 1. Importing pacakges"
   ]
  },
  {
   "cell_type": "code",
   "execution_count": 599,
   "id": "5636f53a",
   "metadata": {
    "scrolled": true
   },
   "outputs": [],
   "source": [
    "import pandas as pd\n",
    "import numpy as np\n",
    "import os\n",
    "from IPython.display import clear_output\n",
    "import xml.etree.ElementTree as ET\n",
    "import tensorflow as tf\n",
    "import keras\n",
    "from keras.layers import Dense\n",
    "from keras.models import Sequential\n",
    "import torch\n",
    "from sklearn.preprocessing import scale, LabelEncoder, StandardScaler\n",
    "from sklearn.model_selection import train_test_split\n",
    "from sklearn.metrics import confusion_matrix, accuracy_score, mean_squared_error, classification_report\n",
    "from sklearn.neighbors import KNeighborsRegressor\n",
    "import geopy.distance\n",
    "import seaborn as sns\n",
    "import matplotlib\n",
    "import matplotlib.pyplot as plt\n",
    "from matplotlib.colors import ListedColormap\n",
    "%matplotlib inline"
   ]
  },
  {
   "cell_type": "markdown",
   "id": "d9a2a727",
   "metadata": {},
   "source": [
    "## 2. Importing and vizualizing the data"
   ]
  },
  {
   "cell_type": "code",
   "execution_count": 700,
   "id": "45046b90",
   "metadata": {},
   "outputs": [],
   "source": [
    "wifi_and_loc_file = '../data/Processed/full_wifi_data_and_location_without_1.csv'"
   ]
  },
  {
   "cell_type": "markdown",
   "id": "f1dddd65",
   "metadata": {},
   "source": [
    "## 2.1. Getting details about df"
   ]
  },
  {
   "cell_type": "code",
   "execution_count": 701,
   "id": "38790444",
   "metadata": {},
   "outputs": [
    {
     "data": {
      "text/html": [
       "<div>\n",
       "<style scoped>\n",
       "    .dataframe tbody tr th:only-of-type {\n",
       "        vertical-align: middle;\n",
       "    }\n",
       "\n",
       "    .dataframe tbody tr th {\n",
       "        vertical-align: top;\n",
       "    }\n",
       "\n",
       "    .dataframe thead th {\n",
       "        text-align: right;\n",
       "    }\n",
       "</style>\n",
       "<table border=\"1\" class=\"dataframe\">\n",
       "  <thead>\n",
       "    <tr style=\"text-align: right;\">\n",
       "      <th></th>\n",
       "      <th>32:cd:a7:a0:6d:d8</th>\n",
       "      <th>84:b2:61:56:8a:01</th>\n",
       "      <th>84:b2:61:56:8a:02</th>\n",
       "      <th>84:b2:61:56:8a:00</th>\n",
       "      <th>84:b2:61:6d:3d:22</th>\n",
       "      <th>84:b2:61:6d:3d:21</th>\n",
       "      <th>84:b2:61:6d:3d:20</th>\n",
       "      <th>84:b2:61:5e:44:22</th>\n",
       "      <th>84:b2:61:5e:44:21</th>\n",
       "      <th>84:b2:61:5e:44:20</th>\n",
       "      <th>...</th>\n",
       "      <th>84:b2:61:6d:52:a1</th>\n",
       "      <th>84:b2:61:6d:52:a0</th>\n",
       "      <th>84:b2:61:6d:52:a2</th>\n",
       "      <th>84:b2:61:6d:52:af</th>\n",
       "      <th>84:b2:61:40:75:f1</th>\n",
       "      <th>84:b2:61:40:75:f2</th>\n",
       "      <th>84:b2:61:40:75:f0</th>\n",
       "      <th>c4:71:54:39:70:e4</th>\n",
       "      <th>lat</th>\n",
       "      <th>long</th>\n",
       "    </tr>\n",
       "  </thead>\n",
       "  <tbody>\n",
       "    <tr>\n",
       "      <th>12:15:53:00</th>\n",
       "      <td>-39.0</td>\n",
       "      <td>-58.0</td>\n",
       "      <td>-58.0</td>\n",
       "      <td>-58.0</td>\n",
       "      <td>-70.0</td>\n",
       "      <td>-70.0</td>\n",
       "      <td>-70.0</td>\n",
       "      <td>-73.0</td>\n",
       "      <td>-73.0</td>\n",
       "      <td>-72.0</td>\n",
       "      <td>...</td>\n",
       "      <td>NaN</td>\n",
       "      <td>NaN</td>\n",
       "      <td>NaN</td>\n",
       "      <td>NaN</td>\n",
       "      <td>NaN</td>\n",
       "      <td>NaN</td>\n",
       "      <td>NaN</td>\n",
       "      <td>NaN</td>\n",
       "      <td>44.434937</td>\n",
       "      <td>26.047613</td>\n",
       "    </tr>\n",
       "    <tr>\n",
       "      <th>12:15:54:00</th>\n",
       "      <td>-48.0</td>\n",
       "      <td>-51.0</td>\n",
       "      <td>-52.0</td>\n",
       "      <td>-52.0</td>\n",
       "      <td>-69.0</td>\n",
       "      <td>-71.0</td>\n",
       "      <td>-71.0</td>\n",
       "      <td>-74.0</td>\n",
       "      <td>-74.0</td>\n",
       "      <td>-74.0</td>\n",
       "      <td>...</td>\n",
       "      <td>NaN</td>\n",
       "      <td>NaN</td>\n",
       "      <td>NaN</td>\n",
       "      <td>NaN</td>\n",
       "      <td>NaN</td>\n",
       "      <td>NaN</td>\n",
       "      <td>NaN</td>\n",
       "      <td>NaN</td>\n",
       "      <td>44.434937</td>\n",
       "      <td>26.047624</td>\n",
       "    </tr>\n",
       "    <tr>\n",
       "      <th>12:15:55:00</th>\n",
       "      <td>-45.0</td>\n",
       "      <td>-52.0</td>\n",
       "      <td>-52.0</td>\n",
       "      <td>-52.0</td>\n",
       "      <td>-72.0</td>\n",
       "      <td>-71.0</td>\n",
       "      <td>-71.0</td>\n",
       "      <td>-73.0</td>\n",
       "      <td>-73.0</td>\n",
       "      <td>-73.0</td>\n",
       "      <td>...</td>\n",
       "      <td>NaN</td>\n",
       "      <td>NaN</td>\n",
       "      <td>NaN</td>\n",
       "      <td>NaN</td>\n",
       "      <td>NaN</td>\n",
       "      <td>NaN</td>\n",
       "      <td>NaN</td>\n",
       "      <td>NaN</td>\n",
       "      <td>44.434937</td>\n",
       "      <td>26.047637</td>\n",
       "    </tr>\n",
       "    <tr>\n",
       "      <th>12:15:56:00</th>\n",
       "      <td>-51.0</td>\n",
       "      <td>-42.0</td>\n",
       "      <td>-42.0</td>\n",
       "      <td>-42.0</td>\n",
       "      <td>-75.0</td>\n",
       "      <td>-72.0</td>\n",
       "      <td>-75.0</td>\n",
       "      <td>-79.0</td>\n",
       "      <td>-77.0</td>\n",
       "      <td>-79.0</td>\n",
       "      <td>...</td>\n",
       "      <td>NaN</td>\n",
       "      <td>NaN</td>\n",
       "      <td>NaN</td>\n",
       "      <td>NaN</td>\n",
       "      <td>NaN</td>\n",
       "      <td>NaN</td>\n",
       "      <td>NaN</td>\n",
       "      <td>NaN</td>\n",
       "      <td>44.434937</td>\n",
       "      <td>26.047652</td>\n",
       "    </tr>\n",
       "    <tr>\n",
       "      <th>12:15:59:00</th>\n",
       "      <td>-50.0</td>\n",
       "      <td>-38.0</td>\n",
       "      <td>-37.0</td>\n",
       "      <td>-38.0</td>\n",
       "      <td>NaN</td>\n",
       "      <td>NaN</td>\n",
       "      <td>NaN</td>\n",
       "      <td>-61.0</td>\n",
       "      <td>-61.0</td>\n",
       "      <td>-62.0</td>\n",
       "      <td>...</td>\n",
       "      <td>NaN</td>\n",
       "      <td>NaN</td>\n",
       "      <td>NaN</td>\n",
       "      <td>NaN</td>\n",
       "      <td>NaN</td>\n",
       "      <td>NaN</td>\n",
       "      <td>NaN</td>\n",
       "      <td>NaN</td>\n",
       "      <td>44.434937</td>\n",
       "      <td>26.047674</td>\n",
       "    </tr>\n",
       "  </tbody>\n",
       "</table>\n",
       "<p>5 rows × 43 columns</p>\n",
       "</div>"
      ],
      "text/plain": [
       "             32:cd:a7:a0:6d:d8  84:b2:61:56:8a:01  84:b2:61:56:8a:02  \\\n",
       "12:15:53:00              -39.0              -58.0              -58.0   \n",
       "12:15:54:00              -48.0              -51.0              -52.0   \n",
       "12:15:55:00              -45.0              -52.0              -52.0   \n",
       "12:15:56:00              -51.0              -42.0              -42.0   \n",
       "12:15:59:00              -50.0              -38.0              -37.0   \n",
       "\n",
       "             84:b2:61:56:8a:00  84:b2:61:6d:3d:22  84:b2:61:6d:3d:21  \\\n",
       "12:15:53:00              -58.0              -70.0              -70.0   \n",
       "12:15:54:00              -52.0              -69.0              -71.0   \n",
       "12:15:55:00              -52.0              -72.0              -71.0   \n",
       "12:15:56:00              -42.0              -75.0              -72.0   \n",
       "12:15:59:00              -38.0                NaN                NaN   \n",
       "\n",
       "             84:b2:61:6d:3d:20  84:b2:61:5e:44:22  84:b2:61:5e:44:21  \\\n",
       "12:15:53:00              -70.0              -73.0              -73.0   \n",
       "12:15:54:00              -71.0              -74.0              -74.0   \n",
       "12:15:55:00              -71.0              -73.0              -73.0   \n",
       "12:15:56:00              -75.0              -79.0              -77.0   \n",
       "12:15:59:00                NaN              -61.0              -61.0   \n",
       "\n",
       "             84:b2:61:5e:44:20  ...  84:b2:61:6d:52:a1  84:b2:61:6d:52:a0  \\\n",
       "12:15:53:00              -72.0  ...                NaN                NaN   \n",
       "12:15:54:00              -74.0  ...                NaN                NaN   \n",
       "12:15:55:00              -73.0  ...                NaN                NaN   \n",
       "12:15:56:00              -79.0  ...                NaN                NaN   \n",
       "12:15:59:00              -62.0  ...                NaN                NaN   \n",
       "\n",
       "             84:b2:61:6d:52:a2  84:b2:61:6d:52:af  84:b2:61:40:75:f1  \\\n",
       "12:15:53:00                NaN                NaN                NaN   \n",
       "12:15:54:00                NaN                NaN                NaN   \n",
       "12:15:55:00                NaN                NaN                NaN   \n",
       "12:15:56:00                NaN                NaN                NaN   \n",
       "12:15:59:00                NaN                NaN                NaN   \n",
       "\n",
       "             84:b2:61:40:75:f2  84:b2:61:40:75:f0  c4:71:54:39:70:e4  \\\n",
       "12:15:53:00                NaN                NaN                NaN   \n",
       "12:15:54:00                NaN                NaN                NaN   \n",
       "12:15:55:00                NaN                NaN                NaN   \n",
       "12:15:56:00                NaN                NaN                NaN   \n",
       "12:15:59:00                NaN                NaN                NaN   \n",
       "\n",
       "                   lat       long  \n",
       "12:15:53:00  44.434937  26.047613  \n",
       "12:15:54:00  44.434937  26.047624  \n",
       "12:15:55:00  44.434937  26.047637  \n",
       "12:15:56:00  44.434937  26.047652  \n",
       "12:15:59:00  44.434937  26.047674  \n",
       "\n",
       "[5 rows x 43 columns]"
      ]
     },
     "execution_count": 701,
     "metadata": {},
     "output_type": "execute_result"
    }
   ],
   "source": [
    "df_wifi_and_loc_file = pd.read_csv(wifi_and_loc_file, index_col=0)\n",
    "df_wifi_and_loc_file.sample(frac=1)\n",
    "df_wifi_and_loc_file.head()"
   ]
  },
  {
   "cell_type": "code",
   "execution_count": 702,
   "id": "c729f18d",
   "metadata": {},
   "outputs": [],
   "source": [
    "# for i in range(3):\n",
    "#     df_wifi_and_loc_file = pd.concat([df_wifi_and_loc_file, df_wifi_and_loc_file], axis=0)\n",
    "# df_wifi_and_loc_file.sample(frac=1)\n",
    "# df_wifi_and_loc_file"
   ]
  },
  {
   "cell_type": "code",
   "execution_count": 703,
   "id": "9294169f",
   "metadata": {},
   "outputs": [
    {
     "data": {
      "text/plain": [
       "32:cd:a7:a0:6d:d8    float64\n",
       "84:b2:61:56:8a:01    float64\n",
       "84:b2:61:56:8a:02    float64\n",
       "84:b2:61:56:8a:00    float64\n",
       "84:b2:61:6d:3d:22    float64\n",
       "84:b2:61:6d:3d:21    float64\n",
       "84:b2:61:6d:3d:20    float64\n",
       "84:b2:61:5e:44:22    float64\n",
       "84:b2:61:5e:44:21    float64\n",
       "84:b2:61:5e:44:20    float64\n",
       "84:b2:61:47:dd:42    float64\n",
       "84:b2:61:47:dd:41    float64\n",
       "84:b2:61:47:dd:40    float64\n",
       "84:b2:61:47:e2:c0    float64\n",
       "84:b2:61:56:8a:0f    float64\n",
       "84:b2:61:56:8a:0e    float64\n",
       "84:b2:61:56:8a:0d    float64\n",
       "84:b2:61:5e:44:2f    float64\n",
       "84:b2:61:5e:44:2d    float64\n",
       "84:b2:61:6d:3d:2e    float64\n",
       "84:b2:61:5e:44:2e    float64\n",
       "84:b2:61:6d:3d:2d    float64\n",
       "84:b2:61:6d:3d:2f    float64\n",
       "84:b2:61:47:dd:4e    float64\n",
       "84:b2:61:47:dd:4f    float64\n",
       "84:b2:61:47:dd:4d    float64\n",
       "84:b2:61:47:e2:c2    float64\n",
       "84:b2:61:47:e2:c1    float64\n",
       "84:b2:61:6d:5d:70    float64\n",
       "84:b2:61:6d:5d:72    float64\n",
       "84:b2:61:6d:5d:71    float64\n",
       "84:b2:61:47:e2:ce    float64\n",
       "84:b2:61:47:e2:cd    float64\n",
       "84:b2:61:6d:52:a1    float64\n",
       "84:b2:61:6d:52:a0    float64\n",
       "84:b2:61:6d:52:a2    float64\n",
       "84:b2:61:6d:52:af    float64\n",
       "84:b2:61:40:75:f1    float64\n",
       "84:b2:61:40:75:f2    float64\n",
       "84:b2:61:40:75:f0    float64\n",
       "c4:71:54:39:70:e4    float64\n",
       "lat                  float64\n",
       "long                 float64\n",
       "dtype: object"
      ]
     },
     "execution_count": 703,
     "metadata": {},
     "output_type": "execute_result"
    }
   ],
   "source": [
    "df_wifi_and_loc_file.dtypes"
   ]
  },
  {
   "cell_type": "code",
   "execution_count": 704,
   "id": "f2a105ec",
   "metadata": {},
   "outputs": [
    {
     "data": {
      "text/plain": [
       "Index(['32:cd:a7:a0:6d:d8', '84:b2:61:56:8a:01', '84:b2:61:56:8a:02',\n",
       "       '84:b2:61:56:8a:00', '84:b2:61:6d:3d:22', '84:b2:61:6d:3d:21',\n",
       "       '84:b2:61:6d:3d:20', '84:b2:61:5e:44:22', '84:b2:61:5e:44:21',\n",
       "       '84:b2:61:5e:44:20', '84:b2:61:47:dd:42', '84:b2:61:47:dd:41',\n",
       "       '84:b2:61:47:dd:40', '84:b2:61:47:e2:c0', '84:b2:61:56:8a:0f',\n",
       "       '84:b2:61:56:8a:0e', '84:b2:61:56:8a:0d', '84:b2:61:5e:44:2f',\n",
       "       '84:b2:61:5e:44:2d', '84:b2:61:6d:3d:2e', '84:b2:61:5e:44:2e',\n",
       "       '84:b2:61:6d:3d:2d', '84:b2:61:6d:3d:2f', '84:b2:61:47:dd:4e',\n",
       "       '84:b2:61:47:dd:4f', '84:b2:61:47:dd:4d', '84:b2:61:47:e2:c2',\n",
       "       '84:b2:61:47:e2:c1', '84:b2:61:6d:5d:70', '84:b2:61:6d:5d:72',\n",
       "       '84:b2:61:6d:5d:71', '84:b2:61:47:e2:ce', '84:b2:61:47:e2:cd',\n",
       "       '84:b2:61:6d:52:a1', '84:b2:61:6d:52:a0', '84:b2:61:6d:52:a2',\n",
       "       '84:b2:61:6d:52:af', '84:b2:61:40:75:f1', '84:b2:61:40:75:f2',\n",
       "       '84:b2:61:40:75:f0', 'c4:71:54:39:70:e4', 'lat', 'long'],\n",
       "      dtype='object')"
      ]
     },
     "execution_count": 704,
     "metadata": {},
     "output_type": "execute_result"
    }
   ],
   "source": [
    "df_wifi_and_loc_file.columns"
   ]
  },
  {
   "cell_type": "markdown",
   "id": "f91fa7ba",
   "metadata": {},
   "source": [
    "## 2.2. Vizualizing raw data from wifi and data concatenated file, without the first file (it had many outliers)"
   ]
  },
  {
   "cell_type": "code",
   "execution_count": 705,
   "id": "b916e285",
   "metadata": {
    "scrolled": false
   },
   "outputs": [
    {
     "data": {
      "image/png": "[encoded data removed]",
      "text/plain": [
       "<Figure size 720x720 with 1 Axes>"
      ]
     },
     "metadata": {
      "needs_background": "light"
     },
     "output_type": "display_data"
    }
   ],
   "source": [
    "markers = ('s', 'X', 'o')\n",
    "colors = ('red', 'yellow', 'lightgreen')\n",
    "cmap = ListedColormap(colors[:1])\n",
    "\n",
    "\n",
    "fig = plt.figure(figsize=(10,10))\n",
    "plt.scatter(x=df_wifi_and_loc_file['long'], \n",
    "            y=df_wifi_and_loc_file['lat'],\n",
    "            alpha=0.6, \n",
    "            c=[cmap(1)],\n",
    "            edgecolor='black',\n",
    "            marker=markers[1], \n",
    "            label='data')\n",
    "\n",
    "plt.xlabel('Longitude')\n",
    "plt.ylabel('Latitude')\n",
    "plt.legend(loc='upper right')\n",
    "plt.tight_layout()"
   ]
  },
  {
   "attachments": {
    "image.png": {
     "image/png": "[encoded data removed]"
    }
   },
   "cell_type": "markdown",
   "id": "9d860f2c",
   "metadata": {},
   "source": [
    "![image.png](attachment:image.png)"
   ]
  },
  {
   "cell_type": "code",
   "execution_count": 706,
   "id": "eb873a94",
   "metadata": {},
   "outputs": [],
   "source": [
    "wifi_and_loc_file1 = '../data/Processed/wifi_data_and_location_1.csv'\n",
    "wifi_and_loc_file2 = '../data/Processed/wifi_data_and_location_2.csv'\n",
    "wifi_and_loc_file3 = '../data/Processed/wifi_data_and_location_3.csv'\n",
    "wifi_and_loc_file4 = '../data/Processed/wifi_data_and_location_4.csv'\n",
    "wifi_and_loc_file5 = '../data/Processed/wifi_data_and_location_5.csv'\n",
    "wifi_and_loc_file6 = '../data/Processed/wifi_data_and_location_6.csv'\n",
    "wifi_and_loc_file7 = '../data/Processed/wifi_data_and_location_7.csv'\n",
    "wifi_and_loc_file8 = '../data/Processed/wifi_data_and_location_8.csv'\n",
    "\n",
    "df_wifi_and_loc_file1 = pd.read_csv(wifi_and_loc_file1, index_col=0)\n",
    "df_wifi_and_loc_file2 = pd.read_csv(wifi_and_loc_file2, index_col=0)\n",
    "df_wifi_and_loc_file3 = pd.read_csv(wifi_and_loc_file3, index_col=0)\n",
    "df_wifi_and_loc_file4 = pd.read_csv(wifi_and_loc_file4, index_col=0)\n",
    "df_wifi_and_loc_file5 = pd.read_csv(wifi_and_loc_file5, index_col=0)\n",
    "df_wifi_and_loc_file6 = pd.read_csv(wifi_and_loc_file6, index_col=0)\n",
    "df_wifi_and_loc_file7 = pd.read_csv(wifi_and_loc_file7, index_col=0)\n",
    "df_wifi_and_loc_file8 = pd.read_csv(wifi_and_loc_file8, index_col=0)"
   ]
  },
  {
   "cell_type": "code",
   "execution_count": 707,
   "id": "a6d1fb97",
   "metadata": {},
   "outputs": [
    {
     "data": {
      "text/plain": [
       "Text(0.5, 0, 'Latitude')"
      ]
     },
     "execution_count": 707,
     "metadata": {},
     "output_type": "execute_result"
    },
    {
     "data": {
      "image/png": "[encoded data removed]",
      "text/plain": [
       "<Figure size 576x576 with 1 Axes>"
      ]
     },
     "metadata": {
      "needs_background": "light"
     },
     "output_type": "display_data"
    }
   ],
   "source": [
    "ax = df_wifi_and_loc_file1.plot(x='long', y='lat', figsize=(8, 8))\n",
    "df_wifi_and_loc_file2.plot(ax=ax, x='long', y='lat')\n",
    "df_wifi_and_loc_file3.plot(ax=ax, x='long', y='lat')\n",
    "df_wifi_and_loc_file4.plot(ax=ax, x='long', y='lat')\n",
    "df_wifi_and_loc_file5.plot(ax=ax, x='long', y='lat')\n",
    "df_wifi_and_loc_file6.plot(ax=ax, x='long', y='lat')\n",
    "df_wifi_and_loc_file7.plot(ax=ax, x='long', y='lat')\n",
    "df_wifi_and_loc_file8.plot(ax=ax, x='long', y='lat')\n",
    "\n",
    "plt.xlabel('Longitude')\n",
    "plt.xlabel('Latitude')\n",
    "\n",
    "# The first file is different than the rest, too many outliers, we eliminate it"
   ]
  },
  {
   "cell_type": "markdown",
   "id": "c9abebfa",
   "metadata": {},
   "source": [
    "## 2.3. Normalizing lat and longitude"
   ]
  },
  {
   "cell_type": "code",
   "execution_count": 708,
   "id": "5f7cc98f",
   "metadata": {},
   "outputs": [],
   "source": [
    "# Function to normalize a column using Min-Max normalization\n",
    "def normalize(column):\n",
    "    min_val = column.min()\n",
    "    max_val = column.max()\n",
    "    normalized = (column - min_val) / (max_val - min_val)\n",
    "    return normalized"
   ]
  },
  {
   "cell_type": "code",
   "execution_count": 709,
   "id": "3fcac0e8",
   "metadata": {},
   "outputs": [],
   "source": [
    "max_lat = df_wifi_and_loc_file['lat'].max()\n",
    "min_lat = df_wifi_and_loc_file['lat'].min()\n",
    "max_long = df_wifi_and_loc_file['long'].max()\n",
    "min_long = df_wifi_and_loc_file['long'].min()\n",
    "df_wifi_and_loc_file['normalized_lat'] = normalize(df_wifi_and_loc_file['lat'])\n",
    "df_wifi_and_loc_file['normalized_long'] = normalize(df_wifi_and_loc_file['long'])"
   ]
  },
  {
   "cell_type": "markdown",
   "id": "3b11caf4",
   "metadata": {},
   "source": [
    "## 2.4. Vizualizing normalized lat and longitude"
   ]
  },
  {
   "cell_type": "code",
   "execution_count": 710,
   "id": "019e0de4",
   "metadata": {},
   "outputs": [
    {
     "data": {
      "image/png": "[encoded data removed]",
      "text/plain": [
       "<Figure size 720x720 with 1 Axes>"
      ]
     },
     "metadata": {
      "needs_background": "light"
     },
     "output_type": "display_data"
    }
   ],
   "source": [
    "markers = ('s', 'X', 'o')\n",
    "colors = ('blue', 'yellow', 'lightgreen')\n",
    "cmap = ListedColormap(colors[:1])\n",
    "\n",
    "\n",
    "fig = plt.figure(figsize=(10,10))\n",
    "plt.scatter(x=df_wifi_and_loc_file['normalized_long'], \n",
    "            y=df_wifi_and_loc_file['normalized_lat'],\n",
    "            alpha=0.6, \n",
    "            c=[cmap(1)],\n",
    "            edgecolor='black',\n",
    "            marker=markers[1], \n",
    "            label='data')\n",
    "\n",
    "plt.xlabel('Longitude')\n",
    "plt.ylabel('Latitude')\n",
    "plt.legend(loc='upper right')\n",
    "plt.tight_layout()"
   ]
  },
  {
   "cell_type": "markdown",
   "id": "4a0bbb3b",
   "metadata": {},
   "source": [
    "## 2.4. Filling the NaN values with -100 db"
   ]
  },
  {
   "cell_type": "code",
   "execution_count": 711,
   "id": "84b83c31",
   "metadata": {
    "scrolled": false
   },
   "outputs": [],
   "source": [
    "df_wifi_and_loc_file.fillna(-100, inplace=True)"
   ]
  },
  {
   "cell_type": "markdown",
   "id": "4c621770",
   "metadata": {},
   "source": [
    "## 2.5. Attributing the values to rooms"
   ]
  },
  {
   "cell_type": "code",
   "execution_count": 712,
   "id": "8f0c92cb",
   "metadata": {
    "scrolled": true
   },
   "outputs": [
    {
     "data": {
      "text/html": [
       "<div>\n",
       "<style scoped>\n",
       "    .dataframe tbody tr th:only-of-type {\n",
       "        vertical-align: middle;\n",
       "    }\n",
       "\n",
       "    .dataframe tbody tr th {\n",
       "        vertical-align: top;\n",
       "    }\n",
       "\n",
       "    .dataframe thead th {\n",
       "        text-align: right;\n",
       "    }\n",
       "</style>\n",
       "<table border=\"1\" class=\"dataframe\">\n",
       "  <thead>\n",
       "    <tr style=\"text-align: right;\">\n",
       "      <th></th>\n",
       "      <th>32:cd:a7:a0:6d:d8</th>\n",
       "      <th>84:b2:61:56:8a:01</th>\n",
       "      <th>84:b2:61:56:8a:02</th>\n",
       "      <th>84:b2:61:56:8a:00</th>\n",
       "      <th>84:b2:61:6d:3d:22</th>\n",
       "      <th>84:b2:61:6d:3d:21</th>\n",
       "      <th>84:b2:61:6d:3d:20</th>\n",
       "      <th>84:b2:61:5e:44:22</th>\n",
       "      <th>84:b2:61:5e:44:21</th>\n",
       "      <th>84:b2:61:5e:44:20</th>\n",
       "      <th>...</th>\n",
       "      <th>84:b2:61:6d:52:af</th>\n",
       "      <th>84:b2:61:40:75:f1</th>\n",
       "      <th>84:b2:61:40:75:f2</th>\n",
       "      <th>84:b2:61:40:75:f0</th>\n",
       "      <th>c4:71:54:39:70:e4</th>\n",
       "      <th>lat</th>\n",
       "      <th>long</th>\n",
       "      <th>normalized_lat</th>\n",
       "      <th>normalized_long</th>\n",
       "      <th>room</th>\n",
       "    </tr>\n",
       "  </thead>\n",
       "  <tbody>\n",
       "    <tr>\n",
       "      <th>12:15:53:00</th>\n",
       "      <td>-39.0</td>\n",
       "      <td>-58.0</td>\n",
       "      <td>-58.0</td>\n",
       "      <td>-58.0</td>\n",
       "      <td>-70.0</td>\n",
       "      <td>-70.0</td>\n",
       "      <td>-70.0</td>\n",
       "      <td>-73.0</td>\n",
       "      <td>-73.0</td>\n",
       "      <td>-72.0</td>\n",
       "      <td>...</td>\n",
       "      <td>-100.0</td>\n",
       "      <td>-100.0</td>\n",
       "      <td>-100.0</td>\n",
       "      <td>-100.0</td>\n",
       "      <td>-100.0</td>\n",
       "      <td>44.434937</td>\n",
       "      <td>26.047613</td>\n",
       "      <td>0.933334</td>\n",
       "      <td>0.032408</td>\n",
       "      <td>0.0</td>\n",
       "    </tr>\n",
       "    <tr>\n",
       "      <th>12:15:54:00</th>\n",
       "      <td>-48.0</td>\n",
       "      <td>-51.0</td>\n",
       "      <td>-52.0</td>\n",
       "      <td>-52.0</td>\n",
       "      <td>-69.0</td>\n",
       "      <td>-71.0</td>\n",
       "      <td>-71.0</td>\n",
       "      <td>-74.0</td>\n",
       "      <td>-74.0</td>\n",
       "      <td>-74.0</td>\n",
       "      <td>...</td>\n",
       "      <td>-100.0</td>\n",
       "      <td>-100.0</td>\n",
       "      <td>-100.0</td>\n",
       "      <td>-100.0</td>\n",
       "      <td>-100.0</td>\n",
       "      <td>44.434937</td>\n",
       "      <td>26.047624</td>\n",
       "      <td>0.933334</td>\n",
       "      <td>0.066667</td>\n",
       "      <td>0.0</td>\n",
       "    </tr>\n",
       "    <tr>\n",
       "      <th>12:15:55:00</th>\n",
       "      <td>-45.0</td>\n",
       "      <td>-52.0</td>\n",
       "      <td>-52.0</td>\n",
       "      <td>-52.0</td>\n",
       "      <td>-72.0</td>\n",
       "      <td>-71.0</td>\n",
       "      <td>-71.0</td>\n",
       "      <td>-73.0</td>\n",
       "      <td>-73.0</td>\n",
       "      <td>-73.0</td>\n",
       "      <td>...</td>\n",
       "      <td>-100.0</td>\n",
       "      <td>-100.0</td>\n",
       "      <td>-100.0</td>\n",
       "      <td>-100.0</td>\n",
       "      <td>-100.0</td>\n",
       "      <td>44.434937</td>\n",
       "      <td>26.047637</td>\n",
       "      <td>0.933334</td>\n",
       "      <td>0.103704</td>\n",
       "      <td>0.0</td>\n",
       "    </tr>\n",
       "    <tr>\n",
       "      <th>12:15:56:00</th>\n",
       "      <td>-51.0</td>\n",
       "      <td>-42.0</td>\n",
       "      <td>-42.0</td>\n",
       "      <td>-42.0</td>\n",
       "      <td>-75.0</td>\n",
       "      <td>-72.0</td>\n",
       "      <td>-75.0</td>\n",
       "      <td>-79.0</td>\n",
       "      <td>-77.0</td>\n",
       "      <td>-79.0</td>\n",
       "      <td>...</td>\n",
       "      <td>-100.0</td>\n",
       "      <td>-100.0</td>\n",
       "      <td>-100.0</td>\n",
       "      <td>-100.0</td>\n",
       "      <td>-100.0</td>\n",
       "      <td>44.434937</td>\n",
       "      <td>26.047652</td>\n",
       "      <td>0.933334</td>\n",
       "      <td>0.148148</td>\n",
       "      <td>0.0</td>\n",
       "    </tr>\n",
       "    <tr>\n",
       "      <th>12:15:59:00</th>\n",
       "      <td>-50.0</td>\n",
       "      <td>-38.0</td>\n",
       "      <td>-37.0</td>\n",
       "      <td>-38.0</td>\n",
       "      <td>-100.0</td>\n",
       "      <td>-100.0</td>\n",
       "      <td>-100.0</td>\n",
       "      <td>-61.0</td>\n",
       "      <td>-61.0</td>\n",
       "      <td>-62.0</td>\n",
       "      <td>...</td>\n",
       "      <td>-100.0</td>\n",
       "      <td>-100.0</td>\n",
       "      <td>-100.0</td>\n",
       "      <td>-100.0</td>\n",
       "      <td>-100.0</td>\n",
       "      <td>44.434937</td>\n",
       "      <td>26.047674</td>\n",
       "      <td>0.933334</td>\n",
       "      <td>0.212005</td>\n",
       "      <td>1.0</td>\n",
       "    </tr>\n",
       "    <tr>\n",
       "      <th>...</th>\n",
       "      <td>...</td>\n",
       "      <td>...</td>\n",
       "      <td>...</td>\n",
       "      <td>...</td>\n",
       "      <td>...</td>\n",
       "      <td>...</td>\n",
       "      <td>...</td>\n",
       "      <td>...</td>\n",
       "      <td>...</td>\n",
       "      <td>...</td>\n",
       "      <td>...</td>\n",
       "      <td>...</td>\n",
       "      <td>...</td>\n",
       "      <td>...</td>\n",
       "      <td>...</td>\n",
       "      <td>...</td>\n",
       "      <td>...</td>\n",
       "      <td>...</td>\n",
       "      <td>...</td>\n",
       "      <td>...</td>\n",
       "      <td>...</td>\n",
       "    </tr>\n",
       "    <tr>\n",
       "      <th>19:09:23:00</th>\n",
       "      <td>-56.0</td>\n",
       "      <td>-55.0</td>\n",
       "      <td>-54.0</td>\n",
       "      <td>-55.0</td>\n",
       "      <td>-72.0</td>\n",
       "      <td>-72.0</td>\n",
       "      <td>-73.0</td>\n",
       "      <td>-71.0</td>\n",
       "      <td>-71.0</td>\n",
       "      <td>-71.0</td>\n",
       "      <td>...</td>\n",
       "      <td>-100.0</td>\n",
       "      <td>-100.0</td>\n",
       "      <td>-100.0</td>\n",
       "      <td>-100.0</td>\n",
       "      <td>-96.0</td>\n",
       "      <td>44.434937</td>\n",
       "      <td>26.047657</td>\n",
       "      <td>0.933333</td>\n",
       "      <td>0.162963</td>\n",
       "      <td>0.0</td>\n",
       "    </tr>\n",
       "    <tr>\n",
       "      <th>19:09:24:00</th>\n",
       "      <td>-49.0</td>\n",
       "      <td>-49.0</td>\n",
       "      <td>-49.0</td>\n",
       "      <td>-49.0</td>\n",
       "      <td>-74.0</td>\n",
       "      <td>-74.0</td>\n",
       "      <td>-74.0</td>\n",
       "      <td>-78.0</td>\n",
       "      <td>-77.0</td>\n",
       "      <td>-78.0</td>\n",
       "      <td>...</td>\n",
       "      <td>-100.0</td>\n",
       "      <td>-100.0</td>\n",
       "      <td>-100.0</td>\n",
       "      <td>-100.0</td>\n",
       "      <td>-100.0</td>\n",
       "      <td>44.434937</td>\n",
       "      <td>26.047642</td>\n",
       "      <td>0.933333</td>\n",
       "      <td>0.120370</td>\n",
       "      <td>0.0</td>\n",
       "    </tr>\n",
       "    <tr>\n",
       "      <th>19:09:25:00</th>\n",
       "      <td>-49.0</td>\n",
       "      <td>-55.0</td>\n",
       "      <td>-54.0</td>\n",
       "      <td>-54.0</td>\n",
       "      <td>-80.0</td>\n",
       "      <td>-80.0</td>\n",
       "      <td>-79.0</td>\n",
       "      <td>-79.0</td>\n",
       "      <td>-80.0</td>\n",
       "      <td>-79.0</td>\n",
       "      <td>...</td>\n",
       "      <td>-100.0</td>\n",
       "      <td>-100.0</td>\n",
       "      <td>-100.0</td>\n",
       "      <td>-100.0</td>\n",
       "      <td>-100.0</td>\n",
       "      <td>44.434937</td>\n",
       "      <td>26.047628</td>\n",
       "      <td>0.933333</td>\n",
       "      <td>0.078189</td>\n",
       "      <td>0.0</td>\n",
       "    </tr>\n",
       "    <tr>\n",
       "      <th>19:09:26:00</th>\n",
       "      <td>-46.0</td>\n",
       "      <td>-61.0</td>\n",
       "      <td>-61.0</td>\n",
       "      <td>-61.0</td>\n",
       "      <td>-72.0</td>\n",
       "      <td>-72.0</td>\n",
       "      <td>-72.0</td>\n",
       "      <td>-74.0</td>\n",
       "      <td>-74.0</td>\n",
       "      <td>-74.0</td>\n",
       "      <td>...</td>\n",
       "      <td>-100.0</td>\n",
       "      <td>-100.0</td>\n",
       "      <td>-100.0</td>\n",
       "      <td>-100.0</td>\n",
       "      <td>-100.0</td>\n",
       "      <td>44.434937</td>\n",
       "      <td>26.047614</td>\n",
       "      <td>0.933333</td>\n",
       "      <td>0.037037</td>\n",
       "      <td>0.0</td>\n",
       "    </tr>\n",
       "    <tr>\n",
       "      <th>19:09:27:00</th>\n",
       "      <td>-46.0</td>\n",
       "      <td>-61.0</td>\n",
       "      <td>-61.0</td>\n",
       "      <td>-61.0</td>\n",
       "      <td>-72.0</td>\n",
       "      <td>-72.0</td>\n",
       "      <td>-72.0</td>\n",
       "      <td>-74.0</td>\n",
       "      <td>-74.0</td>\n",
       "      <td>-74.0</td>\n",
       "      <td>...</td>\n",
       "      <td>-100.0</td>\n",
       "      <td>-100.0</td>\n",
       "      <td>-100.0</td>\n",
       "      <td>-100.0</td>\n",
       "      <td>-100.0</td>\n",
       "      <td>44.434937</td>\n",
       "      <td>26.047602</td>\n",
       "      <td>0.933333</td>\n",
       "      <td>0.000367</td>\n",
       "      <td>0.0</td>\n",
       "    </tr>\n",
       "  </tbody>\n",
       "</table>\n",
       "<p>530 rows × 46 columns</p>\n",
       "</div>"
      ],
      "text/plain": [
       "             32:cd:a7:a0:6d:d8  84:b2:61:56:8a:01  84:b2:61:56:8a:02  \\\n",
       "12:15:53:00              -39.0              -58.0              -58.0   \n",
       "12:15:54:00              -48.0              -51.0              -52.0   \n",
       "12:15:55:00              -45.0              -52.0              -52.0   \n",
       "12:15:56:00              -51.0              -42.0              -42.0   \n",
       "12:15:59:00              -50.0              -38.0              -37.0   \n",
       "...                        ...                ...                ...   \n",
       "19:09:23:00              -56.0              -55.0              -54.0   \n",
       "19:09:24:00              -49.0              -49.0              -49.0   \n",
       "19:09:25:00              -49.0              -55.0              -54.0   \n",
       "19:09:26:00              -46.0              -61.0              -61.0   \n",
       "19:09:27:00              -46.0              -61.0              -61.0   \n",
       "\n",
       "             84:b2:61:56:8a:00  84:b2:61:6d:3d:22  84:b2:61:6d:3d:21  \\\n",
       "12:15:53:00              -58.0              -70.0              -70.0   \n",
       "12:15:54:00              -52.0              -69.0              -71.0   \n",
       "12:15:55:00              -52.0              -72.0              -71.0   \n",
       "12:15:56:00              -42.0              -75.0              -72.0   \n",
       "12:15:59:00              -38.0             -100.0             -100.0   \n",
       "...                        ...                ...                ...   \n",
       "19:09:23:00              -55.0              -72.0              -72.0   \n",
       "19:09:24:00              -49.0              -74.0              -74.0   \n",
       "19:09:25:00              -54.0              -80.0              -80.0   \n",
       "19:09:26:00              -61.0              -72.0              -72.0   \n",
       "19:09:27:00              -61.0              -72.0              -72.0   \n",
       "\n",
       "             84:b2:61:6d:3d:20  84:b2:61:5e:44:22  84:b2:61:5e:44:21  \\\n",
       "12:15:53:00              -70.0              -73.0              -73.0   \n",
       "12:15:54:00              -71.0              -74.0              -74.0   \n",
       "12:15:55:00              -71.0              -73.0              -73.0   \n",
       "12:15:56:00              -75.0              -79.0              -77.0   \n",
       "12:15:59:00             -100.0              -61.0              -61.0   \n",
       "...                        ...                ...                ...   \n",
       "19:09:23:00              -73.0              -71.0              -71.0   \n",
       "19:09:24:00              -74.0              -78.0              -77.0   \n",
       "19:09:25:00              -79.0              -79.0              -80.0   \n",
       "19:09:26:00              -72.0              -74.0              -74.0   \n",
       "19:09:27:00              -72.0              -74.0              -74.0   \n",
       "\n",
       "             84:b2:61:5e:44:20  ...  84:b2:61:6d:52:af  84:b2:61:40:75:f1  \\\n",
       "12:15:53:00              -72.0  ...             -100.0             -100.0   \n",
       "12:15:54:00              -74.0  ...             -100.0             -100.0   \n",
       "12:15:55:00              -73.0  ...             -100.0             -100.0   \n",
       "12:15:56:00              -79.0  ...             -100.0             -100.0   \n",
       "12:15:59:00              -62.0  ...             -100.0             -100.0   \n",
       "...                        ...  ...                ...                ...   \n",
       "19:09:23:00              -71.0  ...             -100.0             -100.0   \n",
       "19:09:24:00              -78.0  ...             -100.0             -100.0   \n",
       "19:09:25:00              -79.0  ...             -100.0             -100.0   \n",
       "19:09:26:00              -74.0  ...             -100.0             -100.0   \n",
       "19:09:27:00              -74.0  ...             -100.0             -100.0   \n",
       "\n",
       "             84:b2:61:40:75:f2  84:b2:61:40:75:f0  c4:71:54:39:70:e4  \\\n",
       "12:15:53:00             -100.0             -100.0             -100.0   \n",
       "12:15:54:00             -100.0             -100.0             -100.0   \n",
       "12:15:55:00             -100.0             -100.0             -100.0   \n",
       "12:15:56:00             -100.0             -100.0             -100.0   \n",
       "12:15:59:00             -100.0             -100.0             -100.0   \n",
       "...                        ...                ...                ...   \n",
       "19:09:23:00             -100.0             -100.0              -96.0   \n",
       "19:09:24:00             -100.0             -100.0             -100.0   \n",
       "19:09:25:00             -100.0             -100.0             -100.0   \n",
       "19:09:26:00             -100.0             -100.0             -100.0   \n",
       "19:09:27:00             -100.0             -100.0             -100.0   \n",
       "\n",
       "                   lat       long  normalized_lat  normalized_long  room  \n",
       "12:15:53:00  44.434937  26.047613        0.933334         0.032408   0.0  \n",
       "12:15:54:00  44.434937  26.047624        0.933334         0.066667   0.0  \n",
       "12:15:55:00  44.434937  26.047637        0.933334         0.103704   0.0  \n",
       "12:15:56:00  44.434937  26.047652        0.933334         0.148148   0.0  \n",
       "12:15:59:00  44.434937  26.047674        0.933334         0.212005   1.0  \n",
       "...                ...        ...             ...              ...   ...  \n",
       "19:09:23:00  44.434937  26.047657        0.933333         0.162963   0.0  \n",
       "19:09:24:00  44.434937  26.047642        0.933333         0.120370   0.0  \n",
       "19:09:25:00  44.434937  26.047628        0.933333         0.078189   0.0  \n",
       "19:09:26:00  44.434937  26.047614        0.933333         0.037037   0.0  \n",
       "19:09:27:00  44.434937  26.047602        0.933333         0.000367   0.0  \n",
       "\n",
       "[530 rows x 46 columns]"
      ]
     },
     "execution_count": 712,
     "metadata": {},
     "output_type": "execute_result"
    }
   ],
   "source": [
    "df_wifi_and_loc_file['room'] = np.nan\n",
    "\n",
    "df_wifi_and_loc_file.loc[(df_wifi_and_loc_file['normalized_long'] <= 0.2), 'room'] = 0\n",
    "df_wifi_and_loc_file.loc[(df_wifi_and_loc_file['normalized_long'] > 0.2) &\n",
    "                         (df_wifi_and_loc_file['normalized_long'] <= 0.3), 'room'] = 1\n",
    "df_wifi_and_loc_file.loc[(df_wifi_and_loc_file['normalized_long'] > 0.3) &\n",
    "                         (df_wifi_and_loc_file['normalized_long'] < 0.85), 'room'] = 2\n",
    "df_wifi_and_loc_file.loc[(df_wifi_and_loc_file['normalized_long'] >= 0.85), 'room'] = 3\n",
    "df_wifi_and_loc_file"
   ]
  },
  {
   "cell_type": "code",
   "execution_count": 713,
   "id": "3fefc362",
   "metadata": {
    "scrolled": false
   },
   "outputs": [
    {
     "name": "stderr",
     "output_type": "stream",
     "text": [
      "C:\\Users\\Enachele\\AppData\\Local\\Temp\\ipykernel_1708\\480135349.py:8: UserWarning: You passed a edgecolor/edgecolors ('black') for an unfilled marker ('x').  Matplotlib is ignoring the edgecolor in favor of the facecolor.  This behavior may change in the future.\n",
      "  plt.scatter(x=df_wifi_and_loc_file.loc[df_wifi_and_loc_file.room== cl]['normalized_long'],\n"
     ]
    },
    {
     "data": {
      "image/png": "[encoded data removed]",
      "text/plain": [
       "<Figure size 720x720 with 1 Axes>"
      ]
     },
     "metadata": {
      "needs_background": "light"
     },
     "output_type": "display_data"
    }
   ],
   "source": [
    "markers = ('s', 'X', 'o', 'x')\n",
    "colors = ('red', 'yellow', 'blue', 'green')\n",
    "cmap = ListedColormap(colors[:len(np.unique(df_wifi_and_loc_file['room']))])\n",
    "\n",
    "\n",
    "fig = plt.figure(figsize=(10,10))\n",
    "for idx, cl in enumerate(np.unique(df_wifi_and_loc_file['room'])):\n",
    "        plt.scatter(x=df_wifi_and_loc_file.loc[df_wifi_and_loc_file.room== cl]['normalized_long'], \n",
    "                    y=df_wifi_and_loc_file.loc[df_wifi_and_loc_file.room== cl]['normalized_lat'],\n",
    "                    alpha=0.6, \n",
    "                    c=[cmap(idx)],\n",
    "                    edgecolor='black',\n",
    "                    marker=markers[idx], \n",
    "                    label=cl)\n",
    "\n",
    "plt.xlabel('Longitude')\n",
    "plt.ylabel('Latitude')\n",
    "plt.legend(loc='upper right')\n",
    "plt.tight_layout()"
   ]
  },
  {
   "cell_type": "markdown",
   "id": "c3531e23",
   "metadata": {},
   "source": [
    "# 3. Data preprocessing"
   ]
  },
  {
   "cell_type": "markdown",
   "id": "db9b6b16",
   "metadata": {},
   "source": [
    "## 3.1. Splitting data in labels and target for the first DNN (Step 1)"
   ]
  },
  {
   "cell_type": "code",
   "execution_count": 714,
   "id": "97758e1b",
   "metadata": {},
   "outputs": [
    {
     "data": {
      "text/plain": [
       "(array([[ -39.,  -58.,  -58., ..., -100., -100., -100.],\n",
       "        [ -48.,  -51.,  -52., ..., -100., -100., -100.],\n",
       "        [ -45.,  -52.,  -52., ..., -100., -100., -100.],\n",
       "        ...,\n",
       "        [ -49.,  -55.,  -54., ..., -100., -100., -100.],\n",
       "        [ -46.,  -61.,  -61., ..., -100., -100., -100.],\n",
       "        [ -46.,  -61.,  -61., ..., -100., -100., -100.]]),\n",
       " array([0., 0., 0., 0., 1., 1., 1., 1., 1., 1., 1., 1., 1., 1., 1., 1., 1.,\n",
       "        1., 1., 2., 2., 2., 2., 2., 2., 2., 2., 2., 2., 2., 2., 2., 3., 3.,\n",
       "        3., 3., 3., 3., 3., 3., 3., 3., 3., 3., 3., 3., 3., 3., 3., 3., 3.,\n",
       "        3., 2., 2., 2., 2., 2., 2., 2., 2., 2., 2., 2., 2., 2., 2., 1., 1.,\n",
       "        1., 0., 0., 0., 0., 0., 0., 0., 0., 0., 1., 1., 1., 1., 1., 1., 1.,\n",
       "        1., 1., 1., 1., 1., 1., 1., 1., 2., 2., 2., 2., 2., 2., 2., 2., 2.,\n",
       "        2., 2., 2., 2., 3., 3., 3., 3., 3., 3., 3., 3., 3., 3., 3., 3., 3.,\n",
       "        3., 3., 3., 3., 3., 3., 3., 2., 2., 2., 2., 2., 2., 2., 2., 2., 2.,\n",
       "        2., 2., 2., 1., 1., 1., 0., 0., 0., 0., 0., 0., 0., 0., 0., 0., 1.,\n",
       "        1., 1., 1., 1., 1., 1., 1., 1., 1., 1., 1., 1., 1., 1., 2., 2., 2.,\n",
       "        2., 2., 2., 2., 2., 2., 2., 2., 2., 2., 3., 3., 3., 3., 3., 3., 3.,\n",
       "        3., 3., 3., 3., 3., 3., 3., 3., 3., 3., 3., 3., 3., 2., 2., 2., 2.,\n",
       "        2., 2., 2., 2., 2., 2., 2., 2., 2., 1., 1., 1., 1., 0., 0., 0., 0.,\n",
       "        0., 0., 0., 0., 0., 0., 1., 1., 1., 1., 1., 1., 1., 1., 1., 1., 1.,\n",
       "        1., 1., 1., 1., 1., 2., 2., 2., 2., 2., 2., 2., 2., 2., 2., 2., 2.,\n",
       "        2., 2., 2., 3., 3., 3., 3., 3., 3., 3., 3., 3., 3., 3., 3., 3., 3.,\n",
       "        3., 3., 3., 3., 3., 3., 3., 2., 2., 2., 2., 2., 2., 2., 2., 2., 2.,\n",
       "        2., 2., 2., 2., 2., 1., 1., 1., 0., 0., 0., 0., 0., 0., 0., 0., 0.,\n",
       "        0., 1., 1., 1., 1., 1., 1., 1., 1., 1., 1., 1., 1., 1., 1., 2., 2.,\n",
       "        2., 2., 2., 2., 2., 2., 2., 2., 2., 2., 3., 3., 3., 3., 3., 3., 3.,\n",
       "        3., 3., 3., 3., 3., 3., 3., 3., 3., 3., 3., 3., 3., 2., 2., 2., 2.,\n",
       "        2., 2., 2., 2., 2., 2., 2., 2., 2., 1., 1., 1., 1., 0., 0., 0., 0.,\n",
       "        0., 0., 0., 0., 0., 0., 0., 1., 1., 1., 1., 1., 1., 1., 1., 1., 1.,\n",
       "        1., 1., 1., 1., 1., 1., 2., 2., 2., 2., 2., 2., 2., 2., 2., 2., 2.,\n",
       "        2., 2., 3., 3., 3., 3., 3., 3., 3., 3., 3., 3., 3., 3., 3., 3., 3.,\n",
       "        3., 3., 3., 3., 3., 2., 2., 2., 2., 2., 2., 2., 2., 2., 2., 2., 2.,\n",
       "        2., 2., 2., 1., 1., 1., 0., 0., 0., 0., 0., 0., 0., 0., 0., 1., 1.,\n",
       "        1., 1., 1., 1., 1., 1., 1., 1., 1., 1., 1., 1., 1., 1., 2., 2., 2.,\n",
       "        2., 2., 2., 2., 2., 2., 2., 2., 2., 3., 3., 3., 3., 3., 3., 3., 3.,\n",
       "        3., 3., 3., 3., 3., 3., 3., 3., 3., 3., 3., 3., 3., 3., 2., 2., 2.,\n",
       "        2., 2., 2., 2., 2., 2., 2., 2., 2., 2., 2., 1., 1., 1., 0., 0., 0.,\n",
       "        0., 0., 0.]))"
      ]
     },
     "execution_count": 714,
     "metadata": {},
     "output_type": "execute_result"
    }
   ],
   "source": [
    "X = df_wifi_and_loc_file.iloc[:, :41].values\n",
    "y = df_wifi_and_loc_file['room'].values\n",
    "X, y"
   ]
  },
  {
   "cell_type": "markdown",
   "id": "20abf739",
   "metadata": {},
   "source": [
    "## 3.2. Splitting the dataset in Training and Test set"
   ]
  },
  {
   "cell_type": "code",
   "execution_count": 715,
   "id": "c98f0a5c",
   "metadata": {},
   "outputs": [
    {
     "data": {
      "text/plain": [
       "((333, 41), (144, 41), (53, 41), (333,), (144,), (53,))"
      ]
     },
     "execution_count": 715,
     "metadata": {},
     "output_type": "execute_result"
    }
   ],
   "source": [
    "val_limit = int(len(df_wifi_and_loc_file)*0.9)\n",
    "\n",
    "X_val = X[val_limit:, :]\n",
    "y_val = y[val_limit:]\n",
    "\n",
    "X = X[:val_limit, :]\n",
    "y = y[:val_limit]\n",
    "X_train, X_test, y_train, y_test = train_test_split(X, y, test_size = 0.3, random_state = 0)\n",
    "X_train.shape, X_test.shape, X_val.shape, y_train.shape, y_test.shape, y_val.shape"
   ]
  },
  {
   "cell_type": "code",
   "execution_count": 716,
   "id": "d5a0994a",
   "metadata": {},
   "outputs": [
    {
     "name": "stdout",
     "output_type": "stream",
     "text": [
      "[[ -68.  -49.  -49. ... -100. -100. -100.]\n",
      " [ -61.  -46.  -46. ... -100. -100. -100.]\n",
      " [ -84.  -80.  -79. ... -100. -100. -100.]\n",
      " ...\n",
      " [ -85.  -81.  -80. ... -100. -100. -100.]\n",
      " [ -70.  -66.  -66. ... -100. -100. -100.]\n",
      " [ -77.  -80.  -80. ... -100. -100. -100.]]\n",
      "X_train number of values:  333\n"
     ]
    }
   ],
   "source": [
    "print(X_train)\n",
    "print('X_train number of values: ', len(X_train))"
   ]
  },
  {
   "cell_type": "markdown",
   "id": "d7ab0209",
   "metadata": {},
   "source": [
    "## 3.3. Features scaling"
   ]
  },
  {
   "cell_type": "code",
   "execution_count": 717,
   "id": "ba0c9eea",
   "metadata": {},
   "outputs": [
    {
     "data": {
      "text/plain": [
       "(array([[-0.18074807,  0.90458361,  0.90867257, ..., -0.06211824,\n",
       "         -0.06211824, -0.09361297],\n",
       "        [ 0.38101693,  1.12932348,  1.13431609, ..., -0.06211824,\n",
       "         -0.06211824, -0.09361297],\n",
       "        [-1.46478236, -1.4177284 , -1.34776267, ..., -0.06211824,\n",
       "         -0.06211824, -0.09361297],\n",
       "        ...,\n",
       "        [-1.54503451, -1.49264169, -1.42297718, ..., -0.06211824,\n",
       "         -0.06211824, -0.09361297],\n",
       "        [-0.34125236, -0.36894233, -0.36997407, ..., -0.06211824,\n",
       "         -0.06211824, -0.09361297],\n",
       "        [-0.90301736, -1.4177284 , -1.42297718, ..., -0.06211824,\n",
       "         -0.06211824, -0.09361297]]),\n",
       " array([[ 1.02303408,  0.38019057,  0.38217101, ..., -0.06211824,\n",
       "         -0.06211824, -0.09361297],\n",
       "        [ 0.62177336,  1.12932348,  1.13431609, ..., -0.06211824,\n",
       "         -0.06211824, -0.09361297],\n",
       "        [-0.50175664, -0.06928917, -0.21954505, ..., 10.28056905,\n",
       "         10.28056905, -0.09361297],\n",
       "        ...,\n",
       "        [ 0.1402605 ,  0.53001715,  0.53260003, ..., -0.06211824,\n",
       "         -0.06211824, -0.09361297],\n",
       "        [ 0.70202551,  1.35406335,  1.35995962, ..., -0.06211824,\n",
       "         -0.06211824, -0.09361297],\n",
       "        [ 1.34404265,  0.23036399,  0.231742  , ..., -0.06211824,\n",
       "         -0.06211824, -0.09361297]]),\n",
       " array([[-1.14377379, -1.64246827, -1.6486207 , ..., -0.06211824,\n",
       "         -0.06211824, -0.09361297],\n",
       "        [-1.62528665, -1.49264169, -1.57340619, ..., -0.06211824,\n",
       "         -0.06211824, -0.09361297],\n",
       "        [-1.70553879, -1.56755498, -1.57340619, ..., -0.06211824,\n",
       "         -0.06211824, -0.09361297],\n",
       "        ...,\n",
       "        [ 1.34404265,  0.45510386,  0.53260003, ..., -0.06211824,\n",
       "         -0.06211824, -0.09361297],\n",
       "        [ 1.58479908,  0.00562412,  0.00609847, ..., -0.06211824,\n",
       "         -0.06211824, -0.09361297],\n",
       "        [ 1.58479908,  0.00562412,  0.00609847, ..., -0.06211824,\n",
       "         -0.06211824, -0.09361297]]))"
      ]
     },
     "execution_count": 717,
     "metadata": {},
     "output_type": "execute_result"
    }
   ],
   "source": [
    "sc = StandardScaler()\n",
    "X_train = sc.fit_transform(X_train)\n",
    "X_test = sc.transform(X_test) \n",
    "X_val = sc.transform(X_val)\n",
    "X_train, X_test, X_val"
   ]
  },
  {
   "cell_type": "code",
   "execution_count": 718,
   "id": "07318cec",
   "metadata": {},
   "outputs": [
    {
     "data": {
      "text/plain": [
       "(333, 41)"
      ]
     },
     "execution_count": 718,
     "metadata": {},
     "output_type": "execute_result"
    }
   ],
   "source": [
    "X_train.shape"
   ]
  },
  {
   "cell_type": "code",
   "execution_count": 719,
   "id": "32906d22",
   "metadata": {},
   "outputs": [
    {
     "data": {
      "text/plain": [
       "(333,)"
      ]
     },
     "execution_count": 719,
     "metadata": {},
     "output_type": "execute_result"
    }
   ],
   "source": [
    "y_train.shape"
   ]
  },
  {
   "cell_type": "markdown",
   "id": "bcedb78d",
   "metadata": {},
   "source": [
    "# 4. Building the first DNN model"
   ]
  },
  {
   "cell_type": "markdown",
   "id": "469af9c1",
   "metadata": {},
   "source": [
    "### 4.1. Initializing the NN"
   ]
  },
  {
   "cell_type": "code",
   "execution_count": 720,
   "id": "75fc7b4a",
   "metadata": {},
   "outputs": [],
   "source": [
    "nn = Sequential()"
   ]
  },
  {
   "cell_type": "markdown",
   "id": "aa8c7958",
   "metadata": {},
   "source": [
    "### 4.2. Adding the input layer and the first hidden layer"
   ]
  },
  {
   "cell_type": "code",
   "execution_count": 721,
   "id": "fc188628",
   "metadata": {},
   "outputs": [],
   "source": [
    "# Adding a fully-connected layer (it automatically create the input layer)\n",
    "# num of neurons = num of features (41 APs)\n",
    "input_size = 41\n",
    "nn.add(Dense(input_dim=input_size, units=256, activation='relu'))"
   ]
  },
  {
   "cell_type": "markdown",
   "id": "0f455c46",
   "metadata": {},
   "source": [
    "### 4.3. Adding the second layer"
   ]
  },
  {
   "cell_type": "code",
   "execution_count": 722,
   "id": "f3369343",
   "metadata": {},
   "outputs": [],
   "source": [
    "# Adding a layer with 128 neurons\n",
    "nn.add(Dense(units=128, activation='relu'))"
   ]
  },
  {
   "cell_type": "markdown",
   "id": "90ba0868",
   "metadata": {},
   "source": [
    "### 4.4. Adding the output layer"
   ]
  },
  {
   "cell_type": "code",
   "execution_count": 723,
   "id": "ba0747f9",
   "metadata": {},
   "outputs": [],
   "source": [
    "# sotmax for > 2 categories\n",
    "classes = 4 # number of rooms\n",
    "nn.add(Dense(units=classes, activation='softmax'))"
   ]
  },
  {
   "cell_type": "markdown",
   "id": "287ab78b",
   "metadata": {},
   "source": [
    "# 5. Training the DNN"
   ]
  },
  {
   "cell_type": "markdown",
   "id": "923736a1",
   "metadata": {},
   "source": [
    "### 5.1. Compiling the DNN"
   ]
  },
  {
   "cell_type": "code",
   "execution_count": 724,
   "id": "71a601e5",
   "metadata": {},
   "outputs": [],
   "source": [
    "class PlotLearning(keras.callbacks.Callback):\n",
    "    \"\"\"\n",
    "    Callback to plot the learning curves of the model during training.\n",
    "    \"\"\"\n",
    "    def on_train_begin(self, logs={}):\n",
    "        self.metrics = {}\n",
    "        for metric in logs:\n",
    "            self.metrics[metric] = []\n",
    "            \n",
    "\n",
    "    def on_epoch_end(self, epoch, logs={}):\n",
    "        # Storing metrics\n",
    "        for metric in logs:\n",
    "            if metric in self.metrics:\n",
    "                self.metrics[metric].append(logs.get(metric))\n",
    "            else:\n",
    "                self.metrics[metric] = [logs.get(metric)]\n",
    "        \n",
    "        # Plotting\n",
    "        metrics = [x for x in logs if 'val' not in x]\n",
    "        \n",
    "        f, axs = plt.subplots(1, len(metrics), figsize=(15,5))\n",
    "        clear_output(wait=True)\n",
    "\n",
    "        for i, metric in enumerate(metrics):\n",
    "            axs[i].plot(range(1, epoch + 2), \n",
    "                        self.metrics[metric], \n",
    "                        label=metric)\n",
    "            if logs['val_' + metric]:\n",
    "                axs[i].plot(range(1, epoch + 2), \n",
    "                            self.metrics['val_' + metric], \n",
    "                            label='val_' + metric)\n",
    "                \n",
    "            axs[i].legend()\n",
    "            axs[i].grid()\n",
    "\n",
    "        plt.tight_layout()\n",
    "        plt.show()"
   ]
  },
  {
   "cell_type": "code",
   "execution_count": 725,
   "id": "4aaba77c",
   "metadata": {},
   "outputs": [],
   "source": [
    "# Optimizer = Adam ==> Stochastic Gradient Descent\n",
    "nn.compile(optimizer = 'adam',\n",
    "           loss = 'sparse_categorical_crossentropy',\n",
    "           metrics = ['accuracy'])"
   ]
  },
  {
   "cell_type": "markdown",
   "id": "b78b1510",
   "metadata": {},
   "source": [
    "### 5.2. Training the NN on the Training set"
   ]
  },
  {
   "cell_type": "code",
   "execution_count": 726,
   "id": "b2783bad",
   "metadata": {},
   "outputs": [
    {
     "data": {
      "image/png": "[encoded data removed]",
      "text/plain": [
       "<Figure size 1080x360 with 2 Axes>"
      ]
     },
     "metadata": {
      "needs_background": "light"
     },
     "output_type": "display_data"
    },
    {
     "name": "stdout",
     "output_type": "stream",
     "text": [
      "\b\b\b\b\b\b\b\b\b\b\b\b\b\b\b\b\b\b\b\b\b\b\b\b\b\b\b\b\b\b\b\b\b\b\b\b\b\b\b\b\b\b\b\b\b\b\b\b\b\b\b\b\b\b\b\b\b\b\b\b\b\b\b\b\b\b\b\b\b\b\b\b\b\b\b\b\b\b\b\b\b\b\r",
      "10/10 [==============================] - 0s 32ms/step - loss: 0.0352 - accuracy: 0.9866 - val_loss: 0.2285 - val_accuracy: 0.9118\n"
     ]
    },
    {
     "data": {
      "text/plain": [
       "<keras.callbacks.History at 0x1ce6b6f9430>"
      ]
     },
     "execution_count": 726,
     "metadata": {},
     "output_type": "execute_result"
    }
   ],
   "source": [
    "nn.fit(X_train, \n",
    "       y_train, \n",
    "       batch_size=32, \n",
    "       epochs=30, \n",
    "       validation_split=0.1, \n",
    "       callbacks=[PlotLearning()])"
   ]
  },
  {
   "cell_type": "markdown",
   "id": "ee1a0ef1",
   "metadata": {},
   "source": [
    "# 6. Making predictions and evaluating the model"
   ]
  },
  {
   "cell_type": "markdown",
   "id": "cbcaa03e",
   "metadata": {},
   "source": [
    "### 6.1. Predicting the test results"
   ]
  },
  {
   "cell_type": "code",
   "execution_count": 727,
   "id": "2b5449c5",
   "metadata": {},
   "outputs": [
    {
     "name": "stdout",
     "output_type": "stream",
     "text": [
      "5/5 [==============================] - 0s 4ms/step\n"
     ]
    }
   ],
   "source": [
    "y_pred = nn.predict(X_test)"
   ]
  },
  {
   "cell_type": "code",
   "execution_count": 728,
   "id": "2d2241c2",
   "metadata": {
    "scrolled": true
   },
   "outputs": [
    {
     "data": {
      "text/plain": [
       "array([[2.52788368e-06, 9.99940991e-01, 5.62962086e-05, 2.83310328e-07],\n",
       "       [9.27271787e-03, 9.87331331e-01, 3.38618108e-03, 9.75695821e-06],\n",
       "       [6.19427317e-15, 2.29776356e-06, 9.99997735e-01, 1.18099150e-12],\n",
       "       [4.86189310e-06, 6.28425914e-05, 1.95046974e-04, 9.99737322e-01],\n",
       "       [5.67657931e-04, 9.41769361e-01, 5.73805384e-02, 2.82457651e-04],\n",
       "       [2.33843707e-07, 9.99987602e-01, 1.19866681e-05, 1.04849406e-07],\n",
       "       [3.64157216e-07, 3.25015222e-04, 3.55181874e-05, 9.99639153e-01],\n",
       "       [7.83060852e-04, 1.80436268e-01, 8.18772852e-01, 7.73909142e-06],\n",
       "       [1.24320313e-05, 2.47238000e-04, 1.20951645e-02, 9.87645209e-01],\n",
       "       [3.60961712e-05, 1.48344872e-04, 9.99512434e-01, 3.03089124e-04],\n",
       "       [9.89870965e-01, 7.28451507e-03, 2.73938267e-03, 1.05110252e-04],\n",
       "       [1.73215103e-05, 9.99881387e-01, 9.97392781e-05, 1.59582453e-06],\n",
       "       [9.90400732e-01, 1.56611821e-03, 7.99048599e-03, 4.26193546e-05],\n",
       "       [5.89267188e-07, 9.99938011e-01, 6.09508133e-05, 4.21013823e-07],\n",
       "       [5.07157938e-06, 3.04196983e-05, 9.99580443e-01, 3.83975945e-04],\n",
       "       [2.12307656e-04, 9.99670625e-01, 1.34558022e-05, 1.03642531e-04],\n",
       "       [6.59212631e-08, 6.23066444e-05, 7.70538190e-06, 9.99929905e-01],\n",
       "       [2.41539860e-03, 1.53477406e-02, 9.82232451e-01, 4.41791917e-06],\n",
       "       [9.75738227e-01, 2.17834730e-02, 1.46608066e-03, 1.01226103e-03],\n",
       "       [5.04934542e-05, 1.96304591e-05, 1.58856306e-02, 9.84044313e-01],\n",
       "       [9.99667168e-01, 4.53862922e-05, 2.63037567e-04, 2.44731891e-05],\n",
       "       [1.92664374e-05, 7.79658785e-06, 9.87189353e-01, 1.27835823e-02],\n",
       "       [2.29724264e-06, 9.78731513e-01, 2.12655850e-02, 6.18625336e-07],\n",
       "       [3.58741249e-06, 1.33464026e-04, 5.92424651e-04, 9.99270618e-01],\n",
       "       [1.43319839e-05, 5.18440065e-05, 9.14213598e-01, 8.57202336e-02],\n",
       "       [7.62469645e-05, 6.49459485e-04, 9.98863935e-01, 4.10452223e-04],\n",
       "       [1.03064325e-04, 9.99829650e-01, 6.45818654e-05, 2.59039166e-06],\n",
       "       [3.59831116e-04, 8.73377454e-03, 9.90902126e-01, 4.25427788e-06],\n",
       "       [3.38664986e-02, 9.65634048e-01, 4.40641365e-04, 5.88681396e-05],\n",
       "       [3.93910653e-07, 9.96874094e-01, 3.12553672e-03, 3.46031790e-08],\n",
       "       [9.80023265e-01, 1.98031534e-02, 1.55330010e-04, 1.82067470e-05],\n",
       "       [1.07803848e-02, 9.80472982e-01, 8.70407186e-03, 4.25098406e-05],\n",
       "       [3.97356962e-05, 9.99958158e-01, 7.83829535e-07, 1.31220315e-06],\n",
       "       [2.08872916e-06, 3.02853259e-05, 9.92443025e-01, 7.52455415e-03],\n",
       "       [1.65375881e-04, 1.11303540e-04, 9.98822987e-01, 9.00321058e-04],\n",
       "       [6.30385330e-05, 2.29310481e-05, 1.51538029e-02, 9.84760225e-01],\n",
       "       [4.02164370e-12, 1.04681639e-07, 9.99999881e-01, 4.74578710e-10],\n",
       "       [5.52565791e-03, 9.85114753e-01, 9.33370739e-03, 2.58862237e-05],\n",
       "       [5.03088860e-03, 9.78247821e-01, 1.66967567e-02, 2.45042156e-05],\n",
       "       [1.34867414e-05, 3.24215625e-06, 1.20078390e-02, 9.87975299e-01],\n",
       "       [7.78533344e-04, 9.99115765e-01, 8.37447733e-05, 2.18922196e-05],\n",
       "       [2.06927803e-06, 1.16410422e-06, 9.99392033e-01, 6.04803441e-04],\n",
       "       [1.31322746e-03, 5.69507003e-01, 4.29175109e-01, 4.63908191e-06],\n",
       "       [3.31548035e-05, 1.11761654e-03, 2.23347591e-03, 9.96615827e-01],\n",
       "       [5.49694460e-06, 1.36673334e-05, 2.85893455e-02, 9.71391559e-01],\n",
       "       [9.96392667e-01, 1.46180711e-04, 3.44918249e-03, 1.18923836e-05],\n",
       "       [3.12600946e-06, 1.42525550e-06, 6.72378838e-01, 3.27616602e-01],\n",
       "       [2.38453387e-03, 8.49152863e-01, 1.48454964e-01, 7.62044647e-06],\n",
       "       [1.26208406e-07, 9.93741453e-01, 6.25844765e-03, 1.22348176e-08],\n",
       "       [3.25592737e-06, 5.36612824e-05, 4.18830197e-03, 9.95754838e-01],\n",
       "       [2.03735435e-05, 2.33608334e-05, 1.45509571e-01, 8.54446769e-01],\n",
       "       [2.16139006e-06, 9.99684215e-01, 3.13394528e-04, 2.16428290e-07],\n",
       "       [1.03779367e-08, 4.50447430e-07, 9.99999285e-01, 2.28180312e-07],\n",
       "       [1.46214021e-04, 9.99736369e-01, 2.81232824e-05, 8.92269090e-05],\n",
       "       [7.46123551e-04, 1.75595373e-01, 8.23652864e-01, 5.65429218e-06],\n",
       "       [2.69202888e-03, 2.92627490e-04, 6.73837364e-01, 3.23177993e-01],\n",
       "       [1.15147122e-05, 2.63166089e-06, 8.13864730e-03, 9.91847277e-01],\n",
       "       [9.82493579e-01, 1.57455467e-02, 1.39962335e-03, 3.61184007e-04],\n",
       "       [4.85637374e-02, 9.51322973e-01, 1.06530661e-05, 1.02630009e-04],\n",
       "       [1.55022062e-04, 4.33199602e-05, 6.28587365e-01, 3.71214211e-01],\n",
       "       [9.61426423e-08, 8.43896923e-05, 1.31765055e-05, 9.99902368e-01],\n",
       "       [1.43905211e-07, 7.74392684e-05, 5.05879916e-06, 9.99917269e-01],\n",
       "       [3.66234826e-06, 9.99920368e-01, 7.55324509e-05, 4.68071562e-07],\n",
       "       [3.70772653e-07, 4.45853620e-05, 2.23080024e-05, 9.99932766e-01],\n",
       "       [5.41451409e-05, 5.37053158e-04, 5.39739802e-03, 9.94011462e-01],\n",
       "       [1.06163606e-01, 8.93578053e-01, 5.19973728e-05, 2.06289449e-04],\n",
       "       [9.99122679e-01, 8.30453137e-05, 7.88737088e-04, 5.62068908e-06],\n",
       "       [6.89931767e-07, 1.23066447e-05, 9.20852363e-01, 7.91346356e-02],\n",
       "       [5.37120432e-05, 1.96540583e-04, 9.99336064e-01, 4.13622125e-04],\n",
       "       [3.57449637e-03, 9.96379912e-01, 1.11392274e-05, 3.43978281e-05],\n",
       "       [3.22026551e-07, 3.58556372e-06, 9.99868751e-01, 1.27263935e-04],\n",
       "       [3.69016416e-05, 1.85834324e-05, 1.67561583e-02, 9.83188331e-01],\n",
       "       [4.32289999e-05, 1.60773125e-05, 9.94117737e-01, 5.82292024e-03],\n",
       "       [5.09621896e-06, 6.38563506e-05, 1.80880525e-04, 9.99750197e-01],\n",
       "       [1.62273820e-04, 1.52804147e-04, 9.98743355e-01, 9.41568287e-04],\n",
       "       [2.41776797e-04, 7.12522306e-04, 9.95851517e-01, 3.19412863e-03],\n",
       "       [6.81727688e-05, 3.59180325e-04, 9.97878790e-01, 1.69390335e-03],\n",
       "       [9.99527931e-01, 5.76222628e-05, 3.81997204e-04, 3.24131433e-05],\n",
       "       [3.15232683e-05, 7.59302289e-04, 9.99196947e-01, 1.22169258e-05],\n",
       "       [1.71517485e-07, 4.13481175e-05, 6.04689529e-04, 9.99353826e-01],\n",
       "       [9.97517824e-01, 2.23911204e-03, 2.15377135e-04, 2.77243544e-05],\n",
       "       [3.66761821e-28, 1.08431601e-12, 1.00000000e+00, 5.45551365e-26],\n",
       "       [1.03113172e-03, 5.82681715e-01, 4.16283101e-01, 4.03804870e-06],\n",
       "       [6.63239507e-06, 5.46626616e-05, 2.83718467e-01, 7.16220260e-01],\n",
       "       [5.51725097e-04, 7.57451344e-04, 9.98646080e-01, 4.48217506e-05],\n",
       "       [5.91871981e-03, 3.92692350e-03, 9.90023434e-01, 1.30965796e-04],\n",
       "       [2.26081420e-06, 1.31349850e-06, 7.08976924e-01, 2.91019469e-01],\n",
       "       [1.67822009e-06, 9.97280359e-01, 2.71779275e-03, 9.26851840e-08],\n",
       "       [2.49722798e-10, 9.99998569e-01, 1.41361704e-06, 5.23917132e-10],\n",
       "       [4.50473250e-04, 9.99516845e-01, 1.63590903e-05, 1.63604927e-05],\n",
       "       [5.81439053e-07, 9.99952078e-01, 4.72205611e-05, 9.02828745e-08],\n",
       "       [3.36997852e-09, 3.75630443e-05, 1.61612888e-07, 9.99962330e-01],\n",
       "       [3.76604419e-07, 4.02922851e-05, 6.64993015e-04, 9.99294400e-01],\n",
       "       [8.20906716e-05, 3.62760184e-04, 9.99550045e-01, 5.04142145e-06],\n",
       "       [2.20713046e-04, 4.69935039e-05, 5.95066309e-01, 4.04665977e-01],\n",
       "       [3.08206800e-05, 2.11557839e-04, 9.98853087e-01, 9.04532615e-04],\n",
       "       [1.25466046e-04, 8.76692706e-04, 9.98987019e-01, 1.07752594e-05],\n",
       "       [2.63229977e-05, 4.88023419e-04, 9.99477684e-01, 8.02056820e-06],\n",
       "       [9.54135954e-01, 4.24509309e-02, 2.12880271e-03, 1.28426997e-03],\n",
       "       [4.96566063e-04, 9.99487281e-01, 3.46474008e-06, 1.26728773e-05],\n",
       "       [3.23527318e-04, 1.57305941e-01, 8.42367351e-01, 3.15590660e-06],\n",
       "       [1.98853610e-04, 4.09174943e-04, 9.97673810e-01, 1.71815755e-03],\n",
       "       [1.67700942e-04, 9.99692559e-01, 4.50118241e-05, 9.47980297e-05],\n",
       "       [9.93868530e-01, 5.67907328e-03, 3.65032698e-04, 8.73843092e-05],\n",
       "       [7.10781052e-08, 9.49726746e-05, 2.69842053e-06, 9.99902248e-01],\n",
       "       [7.89069396e-04, 9.99181449e-01, 1.25350934e-05, 1.69346549e-05],\n",
       "       [6.65929845e-09, 9.76338284e-04, 9.99023676e-01, 9.23576882e-10],\n",
       "       [1.97839995e-06, 1.51376380e-05, 9.97257531e-01, 2.72530131e-03],\n",
       "       [4.84534614e-02, 9.51463342e-01, 7.05855655e-06, 7.61046467e-05],\n",
       "       [2.65740141e-07, 3.54901005e-07, 9.99290824e-01, 7.08562729e-04],\n",
       "       [2.20451875e-05, 1.01640624e-04, 9.97055292e-01, 2.82105641e-03],\n",
       "       [5.87648465e-05, 2.23985080e-06, 9.92440820e-01, 7.49811158e-03],\n",
       "       [1.00405421e-03, 2.28807470e-03, 9.96423662e-01, 2.84197566e-04],\n",
       "       [7.48251864e-07, 1.68513234e-05, 9.92469490e-01, 7.51302019e-03],\n",
       "       [4.16367222e-03, 9.76547897e-01, 1.92851424e-02, 3.21413791e-06],\n",
       "       [9.99560297e-01, 2.27012832e-04, 2.08872516e-04, 3.83047472e-06],\n",
       "       [1.07910373e-05, 4.94345441e-05, 9.66125607e-01, 3.38141210e-02],\n",
       "       [2.04227473e-25, 3.25552398e-11, 1.00000000e+00, 3.33745182e-23],\n",
       "       [2.77702697e-03, 9.27347898e-01, 6.98724538e-02, 2.60648744e-06],\n",
       "       [9.53477684e-06, 9.96176720e-01, 3.81248025e-03, 1.28733370e-06],\n",
       "       [1.37815014e-05, 2.64280220e-06, 6.69668568e-03, 9.93286908e-01],\n",
       "       [2.71483813e-03, 9.96496499e-01, 7.84848933e-04, 3.77107017e-06],\n",
       "       [4.58607683e-05, 1.75314835e-05, 1.28312940e-02, 9.87105370e-01],\n",
       "       [9.89700079e-01, 8.15468747e-03, 2.01822072e-03, 1.27011415e-04],\n",
       "       [4.99359267e-05, 2.28309600e-05, 8.39436889e-01, 1.60490334e-01],\n",
       "       [9.98769224e-01, 1.15036638e-03, 6.13348238e-05, 1.91241506e-05],\n",
       "       [5.49726428e-06, 1.14737986e-06, 6.05469823e-01, 3.94523442e-01],\n",
       "       [7.53982567e-06, 2.11305756e-04, 1.89847808e-04, 9.99591410e-01],\n",
       "       [3.08854884e-04, 9.99662161e-01, 1.48498248e-05, 1.42120398e-05],\n",
       "       [1.15234746e-08, 9.99681115e-01, 3.18918290e-04, 1.67606746e-08],\n",
       "       [9.97707248e-01, 1.59094750e-03, 6.81285863e-04, 2.04584576e-05],\n",
       "       [3.71553099e-09, 9.99995708e-01, 4.27659370e-06, 4.11092227e-09],\n",
       "       [7.29825173e-04, 3.56127262e-01, 6.43140137e-01, 2.74387185e-06],\n",
       "       [1.68230290e-05, 3.90031300e-06, 9.98340726e-01, 1.63852109e-03],\n",
       "       [3.44236541e-05, 2.81367938e-05, 5.01628257e-02, 9.49774504e-01],\n",
       "       [4.86191246e-04, 1.04354156e-04, 9.77376103e-01, 2.20333878e-02],\n",
       "       [9.99664903e-01, 5.16238324e-05, 2.60360801e-04, 2.31100767e-05],\n",
       "       [2.64097145e-03, 1.21164636e-03, 9.95084822e-01, 1.06248457e-03],\n",
       "       [9.95198905e-01, 4.53991350e-03, 2.10671133e-04, 5.04900927e-05],\n",
       "       [1.20278419e-04, 9.99810398e-01, 6.55634067e-05, 3.83082624e-06],\n",
       "       [3.41579153e-06, 2.18188070e-04, 1.31523091e-04, 9.99646902e-01],\n",
       "       [7.64004369e-07, 8.51887125e-06, 9.99791801e-01, 1.99015398e-04],\n",
       "       [4.19861535e-05, 2.84880903e-02, 9.71469045e-01, 8.13697682e-07],\n",
       "       [7.78780505e-02, 9.21849787e-01, 7.55246583e-05, 1.96755806e-04]],\n",
       "      dtype=float32)"
      ]
     },
     "execution_count": 728,
     "metadata": {},
     "output_type": "execute_result"
    }
   ],
   "source": [
    "y_pred"
   ]
  },
  {
   "cell_type": "code",
   "execution_count": 729,
   "id": "0f184fce",
   "metadata": {},
   "outputs": [
    {
     "data": {
      "text/plain": [
       "(144, 4)"
      ]
     },
     "execution_count": 729,
     "metadata": {},
     "output_type": "execute_result"
    }
   ],
   "source": [
    "y_pred.shape"
   ]
  },
  {
   "cell_type": "markdown",
   "id": "4aa23109",
   "metadata": {},
   "source": [
    "#### 6.1.1. Transforming the encoded data back to room number"
   ]
  },
  {
   "cell_type": "code",
   "execution_count": 730,
   "id": "acea1918",
   "metadata": {},
   "outputs": [],
   "source": [
    "# tf argmax returns the index of the largest value in the tensor\n",
    "room_pred = tf.argmax(y_pred, axis=1)\n",
    "# This connects to keras backend -- why is here though?\n",
    "# room_pred = tf.keras.backend.eval(room_pred)\n",
    "# print(room_pred)"
   ]
  },
  {
   "cell_type": "code",
   "execution_count": 731,
   "id": "2b1961bd",
   "metadata": {},
   "outputs": [
    {
     "data": {
      "text/plain": [
       "<tf.Tensor: shape=(144,), dtype=int64, numpy=\n",
       "array([1, 1, 2, 3, 1, 1, 3, 2, 3, 2, 0, 1, 0, 1, 2, 1, 3, 2, 0, 3, 0, 2,\n",
       "       1, 3, 2, 2, 1, 2, 1, 1, 0, 1, 1, 2, 2, 3, 2, 1, 1, 3, 1, 2, 1, 3,\n",
       "       3, 0, 2, 1, 1, 3, 3, 1, 2, 1, 2, 2, 3, 0, 1, 2, 3, 3, 1, 3, 3, 1,\n",
       "       0, 2, 2, 1, 2, 3, 2, 3, 2, 2, 2, 0, 2, 3, 0, 2, 1, 3, 2, 2, 2, 1,\n",
       "       1, 1, 1, 3, 3, 2, 2, 2, 2, 2, 0, 1, 2, 2, 1, 0, 3, 1, 2, 2, 1, 2,\n",
       "       2, 2, 2, 2, 1, 0, 2, 2, 1, 1, 3, 1, 3, 0, 2, 0, 2, 3, 1, 1, 0, 1,\n",
       "       2, 2, 3, 2, 0, 2, 0, 1, 3, 2, 2, 1], dtype=int64)>"
      ]
     },
     "execution_count": 731,
     "metadata": {},
     "output_type": "execute_result"
    }
   ],
   "source": [
    "room_pred"
   ]
  },
  {
   "cell_type": "markdown",
   "id": "99b479a7",
   "metadata": {},
   "source": [
    "### 6.2. Making the confusion matrix and calculating Accuracy "
   ]
  },
  {
   "cell_type": "code",
   "execution_count": 732,
   "id": "d131950e",
   "metadata": {},
   "outputs": [
    {
     "name": "stdout",
     "output_type": "stream",
     "text": [
      "[[17  0  0  0]\n",
      " [ 1 43  2  0]\n",
      " [ 0  0 51  1]\n",
      " [ 0  0  1 28]]\n",
      "Accuracy:  0.9652777777777778\n"
     ]
    }
   ],
   "source": [
    "cm = confusion_matrix(y_test, room_pred)\n",
    "print(cm)\n",
    "accuracy = accuracy_score(y_test, room_pred)\n",
    "print('Accuracy: ', accuracy)"
   ]
  },
  {
   "cell_type": "code",
   "execution_count": 733,
   "id": "376a8b1c",
   "metadata": {},
   "outputs": [
    {
     "name": "stdout",
     "output_type": "stream",
     "text": [
      "              precision    recall  f1-score   support\n",
      "\n",
      "         0.0       0.94      1.00      0.97        17\n",
      "         1.0       1.00      0.93      0.97        46\n",
      "         2.0       0.94      0.98      0.96        52\n",
      "         3.0       0.97      0.97      0.97        29\n",
      "\n",
      "    accuracy                           0.97       144\n",
      "   macro avg       0.96      0.97      0.97       144\n",
      "weighted avg       0.97      0.97      0.97       144\n",
      "\n"
     ]
    }
   ],
   "source": [
    "print(classification_report(y_test, room_pred))"
   ]
  },
  {
   "cell_type": "markdown",
   "id": "508a8b51",
   "metadata": {},
   "source": [
    "### 6.3. Predicting with the Validation set"
   ]
  },
  {
   "cell_type": "code",
   "execution_count": 734,
   "id": "6f7b50f4",
   "metadata": {},
   "outputs": [],
   "source": [
    "X_val = sc.fit_transform(X_val)"
   ]
  },
  {
   "cell_type": "code",
   "execution_count": 735,
   "id": "3ee9c372",
   "metadata": {},
   "outputs": [
    {
     "name": "stdout",
     "output_type": "stream",
     "text": [
      "2/2 [==============================] - 0s 7ms/step\n"
     ]
    },
    {
     "data": {
      "text/plain": [
       "array([[4.62320259e-06, 6.13276188e-06, 9.99787271e-01, 2.02008596e-04],\n",
       "       [2.34969048e-06, 8.09415360e-06, 9.98727143e-01, 1.26231613e-03],\n",
       "       [6.38923302e-06, 2.79955066e-06, 9.81068075e-01, 1.89226735e-02],\n",
       "       [1.67819635e-05, 1.28069878e-04, 9.98961926e-01, 8.93261342e-04],\n",
       "       [5.73020485e-11, 1.24829842e-06, 9.99998808e-01, 1.85279858e-09],\n",
       "       [6.70302143e-06, 1.81441879e-04, 9.96901751e-01, 2.91016349e-03],\n",
       "       [2.33122501e-06, 7.60571857e-06, 9.99305487e-01, 6.84496481e-04],\n",
       "       [7.13098270e-05, 6.51718001e-04, 9.11821365e-01, 8.74556378e-02],\n",
       "       [7.13098270e-05, 6.51718001e-04, 9.11821365e-01, 8.74556378e-02],\n",
       "       [3.04083631e-04, 1.45705300e-04, 6.95124716e-02, 9.30037796e-01],\n",
       "       [1.05194558e-04, 4.56229178e-03, 7.73144793e-03, 9.87601042e-01],\n",
       "       [2.78904889e-04, 7.76649176e-05, 3.94180566e-02, 9.60225403e-01],\n",
       "       [2.92331351e-05, 6.04935782e-03, 1.72929757e-03, 9.92192090e-01],\n",
       "       [1.28752916e-04, 3.46515439e-02, 3.85056972e-03, 9.61369097e-01],\n",
       "       [2.42493996e-07, 6.62437780e-03, 9.63330194e-07, 9.93374407e-01],\n",
       "       [3.11813710e-06, 5.40001923e-03, 1.67525777e-05, 9.94580030e-01],\n",
       "       [2.65233721e-05, 3.13058356e-03, 7.36059695e-02, 9.23236907e-01],\n",
       "       [1.17173740e-05, 4.23277402e-03, 1.01491969e-04, 9.95653987e-01],\n",
       "       [2.55526757e-05, 1.07110785e-02, 3.63394134e-02, 9.52923894e-01],\n",
       "       [1.18964890e-05, 1.08624622e-02, 6.25856483e-05, 9.89062965e-01],\n",
       "       [5.11465259e-06, 1.04027078e-03, 2.79333955e-03, 9.96161222e-01],\n",
       "       [6.36137020e-06, 3.15792131e-04, 1.63784876e-04, 9.99514103e-01],\n",
       "       [1.08017866e-03, 7.67416805e-02, 1.16438223e-02, 9.10534322e-01],\n",
       "       [6.46456829e-05, 3.00006708e-03, 4.83315031e-04, 9.96451974e-01],\n",
       "       [6.46456829e-05, 3.00006708e-03, 4.83315031e-04, 9.96451974e-01],\n",
       "       [2.24853656e-03, 2.11617094e-03, 3.46640289e-01, 6.48994982e-01],\n",
       "       [1.16118637e-03, 6.53500087e-04, 6.95992783e-02, 9.28586006e-01],\n",
       "       [1.16118637e-03, 6.53500087e-04, 6.95992783e-02, 9.28586006e-01],\n",
       "       [3.31780524e-04, 8.80622771e-04, 1.40281633e-01, 8.58505905e-01],\n",
       "       [3.31780524e-04, 8.80622771e-04, 1.40281633e-01, 8.58505905e-01],\n",
       "       [1.39932381e-04, 1.01860271e-04, 9.91638243e-01, 8.11989792e-03],\n",
       "       [1.67785238e-05, 1.79351249e-04, 9.99511838e-01, 2.92069919e-04],\n",
       "       [8.51849677e-07, 1.52516468e-05, 9.99962926e-01, 2.09935079e-05],\n",
       "       [5.87218528e-05, 4.79963113e-04, 9.99103963e-01, 3.57309997e-04],\n",
       "       [1.66929647e-04, 1.35403161e-03, 9.98199940e-01, 2.79000029e-04],\n",
       "       [6.24783977e-04, 3.15792346e-03, 9.96055365e-01, 1.61888500e-04],\n",
       "       [8.50200944e-04, 7.61561212e-04, 9.98134434e-01, 2.53886887e-04],\n",
       "       [8.50200944e-04, 7.61561212e-04, 9.98134434e-01, 2.53886887e-04],\n",
       "       [4.60135430e-04, 9.86689050e-03, 9.89668012e-01, 5.03006186e-06],\n",
       "       [2.51838304e-02, 6.99103624e-03, 9.67793882e-01, 3.13566234e-05],\n",
       "       [2.23789457e-02, 3.76604766e-01, 6.01013184e-01, 3.12230122e-06],\n",
       "       [1.37734499e-08, 1.00000000e+00, 1.32397793e-09, 1.85367033e-09],\n",
       "       [6.33740421e-11, 3.48094590e-02, 9.65190530e-01, 3.58928490e-12],\n",
       "       [1.68793078e-03, 5.59919834e-01, 4.38391894e-01, 4.07121121e-07],\n",
       "       [5.92170668e-09, 1.00000000e+00, 4.16227142e-09, 5.10674925e-09],\n",
       "       [6.92121276e-08, 9.99999881e-01, 6.13412396e-08, 1.68843730e-08],\n",
       "       [8.49804550e-04, 9.99148726e-01, 1.47133292e-07, 1.31050592e-06],\n",
       "       [9.99978304e-01, 1.42567769e-05, 7.19553873e-06, 2.56685865e-07],\n",
       "       [9.94226813e-01, 5.72913606e-03, 3.37590864e-05, 1.01880387e-05],\n",
       "       [9.98909354e-01, 1.05958187e-03, 3.05923895e-05, 4.06775570e-07],\n",
       "       [9.81332183e-01, 1.86527111e-02, 1.22996908e-05, 2.81764983e-06],\n",
       "       [9.31216419e-01, 6.86013773e-02, 1.72766813e-04, 9.48107481e-06],\n",
       "       [9.31216419e-01, 6.86013773e-02, 1.72766813e-04, 9.48107481e-06]],\n",
       "      dtype=float32)"
      ]
     },
     "execution_count": 735,
     "metadata": {},
     "output_type": "execute_result"
    }
   ],
   "source": [
    "y_pred_val = nn.predict(X_val)\n",
    "y_pred_val"
   ]
  },
  {
   "cell_type": "code",
   "execution_count": 736,
   "id": "ffd71479",
   "metadata": {},
   "outputs": [
    {
     "data": {
      "text/plain": [
       "(53, 4)"
      ]
     },
     "execution_count": 736,
     "metadata": {},
     "output_type": "execute_result"
    }
   ],
   "source": [
    "y_pred_val.shape"
   ]
  },
  {
   "cell_type": "code",
   "execution_count": 737,
   "id": "c723764c",
   "metadata": {},
   "outputs": [],
   "source": [
    "room_pred_val = tf.argmax(y_pred_val, axis=1)\n",
    "room_pred_val = tf.keras.backend.eval(room_pred_val)"
   ]
  },
  {
   "cell_type": "code",
   "execution_count": 738,
   "id": "0a545a0f",
   "metadata": {},
   "outputs": [
    {
     "data": {
      "text/plain": [
       "array([2, 2, 2, 2, 2, 2, 2, 2, 2, 3, 3, 3, 3, 3, 3, 3, 3, 3, 3, 3, 3, 3,\n",
       "       3, 3, 3, 3, 3, 3, 3, 3, 2, 2, 2, 2, 2, 2, 2, 2, 2, 2, 2, 1, 2, 1,\n",
       "       1, 1, 1, 0, 0, 0, 0, 0, 0], dtype=int64)"
      ]
     },
     "execution_count": 738,
     "metadata": {},
     "output_type": "execute_result"
    }
   ],
   "source": [
    "room_pred_val"
   ]
  },
  {
   "cell_type": "code",
   "execution_count": 739,
   "id": "c36c223c",
   "metadata": {},
   "outputs": [
    {
     "name": "stdout",
     "output_type": "stream",
     "text": [
      "[[ 6  0  0  0]\n",
      " [ 0  3  0  0]\n",
      " [ 0  2 20  0]\n",
      " [ 0  0  1 21]]\n",
      "Accuracy:  0.9433962264150944\n"
     ]
    }
   ],
   "source": [
    "cm = confusion_matrix(y_val, room_pred_val)\n",
    "print(cm)\n",
    "accuracy = accuracy_score(y_val, room_pred_val)\n",
    "print('Accuracy: ', accuracy)"
   ]
  },
  {
   "cell_type": "code",
   "execution_count": 740,
   "id": "fc06466d",
   "metadata": {},
   "outputs": [
    {
     "name": "stdout",
     "output_type": "stream",
     "text": [
      "              precision    recall  f1-score   support\n",
      "\n",
      "         0.0       1.00      1.00      1.00         6\n",
      "         1.0       0.60      1.00      0.75         3\n",
      "         2.0       0.95      0.91      0.93        22\n",
      "         3.0       1.00      0.95      0.98        22\n",
      "\n",
      "    accuracy                           0.94        53\n",
      "   macro avg       0.89      0.97      0.91        53\n",
      "weighted avg       0.96      0.94      0.95        53\n",
      "\n"
     ]
    }
   ],
   "source": [
    "print(classification_report(y_val, room_pred_val))"
   ]
  },
  {
   "cell_type": "markdown",
   "id": "e8b26046",
   "metadata": {},
   "source": [
    "## 7. Building the KNN regressor"
   ]
  },
  {
   "cell_type": "markdown",
   "id": "78b62b08",
   "metadata": {},
   "source": [
    "### 7.1. Creating the second training dataset"
   ]
  },
  {
   "cell_type": "markdown",
   "id": "3246e031",
   "metadata": {},
   "source": [
    "#### 7.1.1. Selecting the cluster to which out values correspond to (the room)"
   ]
  },
  {
   "cell_type": "code",
   "execution_count": 777,
   "id": "e874825d",
   "metadata": {},
   "outputs": [],
   "source": [
    "room = 3\n",
    "# floor = floor_pred_valid[0] # TODO: verify how can we change this so it gets the room by default\n",
    "mask = df_wifi_and_loc_file['room'] == room"
   ]
  },
  {
   "cell_type": "code",
   "execution_count": 778,
   "id": "6a72c6c3",
   "metadata": {
    "scrolled": true
   },
   "outputs": [
    {
     "data": {
      "text/plain": [
       "(12:16:33:01    3.0\n",
       " 12:16:34:00    3.0\n",
       " 12:16:36:00    3.0\n",
       " 12:16:37:00    3.0\n",
       " 12:16:38:00    3.0\n",
       "               ... \n",
       " 19:08:54:01    3.0\n",
       " 19:08:55:00    3.0\n",
       " 19:08:56:00    3.0\n",
       " 19:08:57:00    3.0\n",
       " 19:08:58:00    3.0\n",
       " Name: room, Length: 143, dtype: float64,\n",
       "              32:cd:a7:a0:6d:d8  84:b2:61:56:8a:01  84:b2:61:56:8a:02  \\\n",
       " 12:16:33:01              -72.0              -62.0              -62.0   \n",
       " 12:16:34:00              -70.0              -70.0              -72.0   \n",
       " 12:16:36:00              -76.0              -69.0              -66.0   \n",
       " 12:16:37:00              -74.0              -67.0              -69.0   \n",
       " 12:16:38:00              -76.0              -76.0              -76.0   \n",
       " ...                        ...                ...                ...   \n",
       " 19:08:54:01              -81.0              -82.0              -81.0   \n",
       " 19:08:55:00              -74.0              -65.0              -64.0   \n",
       " 19:08:56:00              -74.0              -65.0              -64.0   \n",
       " 19:08:57:00              -66.0              -60.0              -60.0   \n",
       " 19:08:58:00              -66.0              -60.0              -60.0   \n",
       " \n",
       "              84:b2:61:56:8a:00  84:b2:61:6d:3d:22  84:b2:61:6d:3d:21  \\\n",
       " 12:16:33:01              -62.0              -91.0              -90.0   \n",
       " 12:16:34:00              -72.0              -88.0              -88.0   \n",
       " 12:16:36:00              -70.0             -100.0             -100.0   \n",
       " 12:16:37:00              -69.0              -89.0              -89.0   \n",
       " 12:16:38:00              -76.0              -88.0              -87.0   \n",
       " ...                        ...                ...                ...   \n",
       " 19:08:54:01              -81.0              -92.0              -92.0   \n",
       " 19:08:55:00              -64.0              -91.0              -93.0   \n",
       " 19:08:56:00              -64.0              -91.0              -93.0   \n",
       " 19:08:57:00              -60.0              -87.0              -89.0   \n",
       " 19:08:58:00              -60.0              -87.0              -89.0   \n",
       " \n",
       "              84:b2:61:6d:3d:20  84:b2:61:5e:44:22  84:b2:61:5e:44:21  \\\n",
       " 12:16:33:01              -89.0              -49.0              -49.0   \n",
       " 12:16:34:00              -83.0              -51.0              -51.0   \n",
       " 12:16:36:00             -100.0              -58.0              -57.0   \n",
       " 12:16:37:00              -89.0              -61.0              -61.0   \n",
       " 12:16:38:00              -87.0              -59.0              -59.0   \n",
       " ...                        ...                ...                ...   \n",
       " 19:08:54:01              -94.0              -61.0              -61.0   \n",
       " 19:08:55:00              -91.0              -56.0              -56.0   \n",
       " 19:08:56:00              -91.0              -56.0              -56.0   \n",
       " 19:08:57:00              -89.0              -51.0              -50.0   \n",
       " 19:08:58:00              -89.0              -51.0              -50.0   \n",
       " \n",
       "              84:b2:61:5e:44:20  ...  84:b2:61:47:e2:ce  84:b2:61:47:e2:cd  \\\n",
       " 12:16:33:01              -49.0  ...             -100.0             -100.0   \n",
       " 12:16:34:00              -51.0  ...             -100.0             -100.0   \n",
       " 12:16:36:00              -57.0  ...             -100.0             -100.0   \n",
       " 12:16:37:00              -61.0  ...             -100.0             -100.0   \n",
       " 12:16:38:00              -59.0  ...             -100.0             -100.0   \n",
       " ...                        ...  ...                ...                ...   \n",
       " 19:08:54:01              -62.0  ...             -100.0             -100.0   \n",
       " 19:08:55:00              -56.0  ...             -100.0             -100.0   \n",
       " 19:08:56:00              -56.0  ...             -100.0             -100.0   \n",
       " 19:08:57:00              -50.0  ...             -100.0             -100.0   \n",
       " 19:08:58:00              -50.0  ...             -100.0             -100.0   \n",
       " \n",
       "              84:b2:61:6d:52:a1  84:b2:61:6d:52:a0  84:b2:61:6d:52:a2  \\\n",
       " 12:16:33:01              -81.0              -82.0              -82.0   \n",
       " 12:16:34:00              -85.0              -82.0              -83.0   \n",
       " 12:16:36:00             -100.0             -100.0             -100.0   \n",
       " 12:16:37:00              -89.0              -87.0              -88.0   \n",
       " 12:16:38:00              -91.0              -88.0              -90.0   \n",
       " ...                        ...                ...                ...   \n",
       " 19:08:54:01             -100.0             -100.0             -100.0   \n",
       " 19:08:55:00              -89.0              -89.0              -90.0   \n",
       " 19:08:56:00              -89.0              -89.0              -90.0   \n",
       " 19:08:57:00              -85.0              -84.0              -82.0   \n",
       " 19:08:58:00              -85.0              -84.0              -82.0   \n",
       " \n",
       "              84:b2:61:6d:52:af  84:b2:61:40:75:f1  84:b2:61:40:75:f2  \\\n",
       " 12:16:33:01             -100.0             -100.0             -100.0   \n",
       " 12:16:34:00             -100.0             -100.0             -100.0   \n",
       " 12:16:36:00             -100.0             -100.0             -100.0   \n",
       " 12:16:37:00             -100.0             -100.0             -100.0   \n",
       " 12:16:38:00             -100.0             -100.0             -100.0   \n",
       " ...                        ...                ...                ...   \n",
       " 19:08:54:01             -100.0             -100.0             -100.0   \n",
       " 19:08:55:00             -100.0             -100.0             -100.0   \n",
       " 19:08:56:00             -100.0             -100.0             -100.0   \n",
       " 19:08:57:00             -100.0             -100.0             -100.0   \n",
       " 19:08:58:00             -100.0             -100.0             -100.0   \n",
       " \n",
       "              84:b2:61:40:75:f0  c4:71:54:39:70:e4  \n",
       " 12:16:33:01             -100.0             -100.0  \n",
       " 12:16:34:00             -100.0             -100.0  \n",
       " 12:16:36:00             -100.0             -100.0  \n",
       " 12:16:37:00             -100.0             -100.0  \n",
       " 12:16:38:00             -100.0             -100.0  \n",
       " ...                        ...                ...  \n",
       " 19:08:54:01             -100.0             -100.0  \n",
       " 19:08:55:00             -100.0             -100.0  \n",
       " 19:08:56:00             -100.0             -100.0  \n",
       " 19:08:57:00             -100.0             -100.0  \n",
       " 19:08:58:00             -100.0             -100.0  \n",
       " \n",
       " [143 rows x 41 columns])"
      ]
     },
     "execution_count": 778,
     "metadata": {},
     "output_type": "execute_result"
    }
   ],
   "source": [
    "df_ap = df_wifi_and_loc_file.iloc[:, :41][mask]\n",
    "df_floor = df_wifi_and_loc_file['room'][mask]\n",
    "df_floor, df_ap"
   ]
  },
  {
   "cell_type": "code",
   "execution_count": 779,
   "id": "fa45b8a3",
   "metadata": {},
   "outputs": [],
   "source": [
    "X_step_2 = pd.concat([df_ap, df_floor], axis=1).values\n",
    "y_step_2 = df_wifi_and_loc_file[['lat', 'long']][mask].values"
   ]
  },
  {
   "cell_type": "code",
   "execution_count": 780,
   "id": "e988305e",
   "metadata": {},
   "outputs": [
    {
     "data": {
      "text/plain": [
       "array([[ -72.,  -62.,  -62., ..., -100., -100.,    3.],\n",
       "       [ -70.,  -70.,  -72., ..., -100., -100.,    3.],\n",
       "       [ -76.,  -69.,  -66., ..., -100., -100.,    3.],\n",
       "       ...,\n",
       "       [ -74.,  -65.,  -64., ..., -100., -100.,    3.],\n",
       "       [ -66.,  -60.,  -60., ..., -100., -100.,    3.],\n",
       "       [ -66.,  -60.,  -60., ..., -100., -100.,    3.]])"
      ]
     },
     "execution_count": 780,
     "metadata": {},
     "output_type": "execute_result"
    }
   ],
   "source": [
    "X_step_2"
   ]
  },
  {
   "cell_type": "code",
   "execution_count": 781,
   "id": "e5c959b0",
   "metadata": {},
   "outputs": [
    {
     "data": {
      "text/plain": [
       "array([[44.4349375 , 26.04789753],\n",
       "       [44.4349375 , 26.0479032 ],\n",
       "       [44.43493007, 26.04790377],\n",
       "       [44.4349208 , 26.04790377],\n",
       "       [44.43491052, 26.04790377],\n",
       "       [44.43489953, 26.04790377],\n",
       "       [44.43488916, 26.04790377],\n",
       "       [44.43487854, 26.04790377],\n",
       "       [44.43487455, 26.04791457],\n",
       "       [44.43487455, 26.0479277 ],\n",
       "       [44.43487455, 26.0479403 ],\n",
       "       [44.43488599, 26.04794156],\n",
       "       [44.43489453, 26.04794156],\n",
       "       [44.4349049 , 26.04794156],\n",
       "       [44.43491614, 26.04794156],\n",
       "       [44.43492738, 26.04794156],\n",
       "       [44.4349375 , 26.04794143],\n",
       "       [44.4349375 , 26.04792826],\n",
       "       [44.4349375 , 26.04791322],\n",
       "       [44.4349375 , 26.04789748],\n",
       "       [44.4349375 , 26.04789468],\n",
       "       [44.4349375 , 26.04790377],\n",
       "       [44.43493001, 26.04790377],\n",
       "       [44.43492251, 26.04790377],\n",
       "       [44.43491252, 26.04790377],\n",
       "       [44.43490153, 26.04790377],\n",
       "       [44.43489253, 26.04790377],\n",
       "       [44.43488254, 26.04790377],\n",
       "       [44.43487455, 26.04790797],\n",
       "       [44.43487455, 26.04792476],\n",
       "       [44.43487455, 26.04793698],\n",
       "       [44.43488226, 26.04794156],\n",
       "       [44.43489163, 26.04794156],\n",
       "       [44.43490153, 26.04794156],\n",
       "       [44.43491277, 26.04794156],\n",
       "       [44.43492351, 26.04794156],\n",
       "       [44.43493413, 26.04794156],\n",
       "       [44.4349375 , 26.04793369],\n",
       "       [44.4349375 , 26.04791847],\n",
       "       [44.4349375 , 26.04790503],\n",
       "       [44.4349375 , 26.04789636],\n",
       "       [44.4349375 , 26.04790195],\n",
       "       [44.43492913, 26.04790377],\n",
       "       [44.43492131, 26.04790377],\n",
       "       [44.43491052, 26.04790377],\n",
       "       [44.43489853, 26.04790377],\n",
       "       [44.43488854, 26.04790377],\n",
       "       [44.43487712, 26.04790377],\n",
       "       [44.43487455, 26.04791637],\n",
       "       [44.43487455, 26.04793148],\n",
       "       [44.4348768 , 26.04794156],\n",
       "       [44.43488804, 26.04794156],\n",
       "       [44.43489928, 26.04794156],\n",
       "       [44.43491052, 26.04794156],\n",
       "       [44.43492289, 26.04794156],\n",
       "       [44.434933  , 26.04794156],\n",
       "       [44.4349375 , 26.04793526],\n",
       "       [44.4349375 , 26.04791794],\n",
       "       [44.4349375 , 26.04790613],\n",
       "       [44.4349375 , 26.0479001 ],\n",
       "       [44.4349375 , 26.04789534],\n",
       "       [44.4349375 , 26.04790299],\n",
       "       [44.43493046, 26.04790377],\n",
       "       [44.43492401, 26.04790377],\n",
       "       [44.43491389, 26.04790377],\n",
       "       [44.43490265, 26.04790377],\n",
       "       [44.43489253, 26.04790377],\n",
       "       [44.43487455, 26.04790377],\n",
       "       [44.43487455, 26.04791777],\n",
       "       [44.43487455, 26.04793176],\n",
       "       [44.434877  , 26.04794156],\n",
       "       [44.43488611, 26.04794156],\n",
       "       [44.43489753, 26.04794156],\n",
       "       [44.43490752, 26.04794156],\n",
       "       [44.43491752, 26.04794156],\n",
       "       [44.43492851, 26.04794156],\n",
       "       [44.4349375 , 26.04794156],\n",
       "       [44.4349375 , 26.04793166],\n",
       "       [44.4349375 , 26.04791637],\n",
       "       [44.4349375 , 26.04790721],\n",
       "       [44.4349375 , 26.04790062],\n",
       "       [44.4349375 , 26.04789686],\n",
       "       [44.4349375 , 26.04790083],\n",
       "       [44.43493037, 26.04790377],\n",
       "       [44.43492401, 26.04790377],\n",
       "       [44.43491277, 26.04790377],\n",
       "       [44.43490153, 26.04790377],\n",
       "       [44.43489029, 26.04790377],\n",
       "       [44.43487954, 26.04790377],\n",
       "       [44.43487455, 26.04791427],\n",
       "       [44.43487455, 26.0479277 ],\n",
       "       [44.43487455, 26.04794156],\n",
       "       [44.43488579, 26.04794156],\n",
       "       [44.43489767, 26.04794156],\n",
       "       [44.43491063, 26.04794156],\n",
       "       [44.43492176, 26.04794156],\n",
       "       [44.434933  , 26.04794156],\n",
       "       [44.4349375 , 26.04793369],\n",
       "       [44.4349375 , 26.04791889],\n",
       "       [44.4349375 , 26.04790797],\n",
       "       [44.4349375 , 26.04790055],\n",
       "       [44.4349375 , 26.04789676],\n",
       "       [44.4349375 , 26.04790206],\n",
       "       [44.43493085, 26.04790377],\n",
       "       [44.43492401, 26.04790377],\n",
       "       [44.43491453, 26.04790377],\n",
       "       [44.4349049 , 26.04790377],\n",
       "       [44.43489453, 26.04790377],\n",
       "       [44.43488264, 26.04790377],\n",
       "       [44.43487455, 26.04790535],\n",
       "       [44.43487455, 26.04792109],\n",
       "       [44.43487954, 26.04793596],\n",
       "       [44.43488954, 26.04794156],\n",
       "       [44.43489953, 26.04794156],\n",
       "       [44.43491052, 26.04794156],\n",
       "       [44.43492051, 26.04794156],\n",
       "       [44.43493031, 26.04794156],\n",
       "       [44.4349375 , 26.04793946],\n",
       "       [44.4349375 , 26.0479277 ],\n",
       "       [44.4349375 , 26.04791322],\n",
       "       [44.4349375 , 26.04789748],\n",
       "       [44.4349375 , 26.04789666],\n",
       "       [44.4349375 , 26.04790251],\n",
       "       [44.43493046, 26.04790377],\n",
       "       [44.43492351, 26.04790377],\n",
       "       [44.43491277, 26.04790377],\n",
       "       [44.4349004 , 26.04790377],\n",
       "       [44.43488984, 26.04790377],\n",
       "       [44.43488054, 26.04790377],\n",
       "       [44.43487455, 26.04790881],\n",
       "       [44.43487455, 26.04792267],\n",
       "       [44.43487455, 26.04793652],\n",
       "       [44.43487945, 26.04794156],\n",
       "       [44.43488854, 26.04794156],\n",
       "       [44.43489928, 26.04794156],\n",
       "       [44.43490952, 26.04794156],\n",
       "       [44.43492115, 26.04794156],\n",
       "       [44.4349375 , 26.04794156],\n",
       "       [44.4349375 , 26.04794147],\n",
       "       [44.4349375 , 26.04793183],\n",
       "       [44.4349375 , 26.04791987],\n",
       "       [44.4349375 , 26.04790692],\n",
       "       [44.4349375 , 26.04790062]])"
      ]
     },
     "execution_count": 781,
     "metadata": {},
     "output_type": "execute_result"
    }
   ],
   "source": [
    "y_step_2"
   ]
  },
  {
   "cell_type": "markdown",
   "id": "03321c53",
   "metadata": {},
   "source": [
    "### 7.2. Splitting the data in Train and Test"
   ]
  },
  {
   "cell_type": "code",
   "execution_count": 782,
   "id": "ba26cba6",
   "metadata": {},
   "outputs": [],
   "source": [
    "X_train_step_2, X_test_step_2, y_train_step_2, y_test_step_2 = train_test_split(X_step_2,\n",
    "                                                                                y_step_2, \n",
    "                                                                                test_size = 0.2, \n",
    "                                                                                random_state = 0)"
   ]
  },
  {
   "cell_type": "code",
   "execution_count": 783,
   "id": "2d9c7eae",
   "metadata": {},
   "outputs": [
    {
     "data": {
      "text/plain": [
       "array([[ -80., -100., -100., ..., -100., -100.,    3.],\n",
       "       [ -76.,  -69.,  -66., ..., -100., -100.,    3.],\n",
       "       [ -85.,  -76.,  -76., ..., -100., -100.,    3.],\n",
       "       ...,\n",
       "       [ -85.,  -72.,  -72., ..., -100., -100.,    3.],\n",
       "       [ -86.,  -87.,  -86., ..., -100., -100.,    3.],\n",
       "       [ -79.,  -71.,  -71., ..., -100., -100.,    3.]])"
      ]
     },
     "execution_count": 783,
     "metadata": {},
     "output_type": "execute_result"
    }
   ],
   "source": [
    "X_train_step_2"
   ]
  },
  {
   "cell_type": "code",
   "execution_count": 784,
   "id": "6dd5f035",
   "metadata": {},
   "outputs": [
    {
     "data": {
      "text/plain": [
       "114"
      ]
     },
     "execution_count": 784,
     "metadata": {},
     "output_type": "execute_result"
    }
   ],
   "source": [
    "len(X_train_step_2)"
   ]
  },
  {
   "cell_type": "markdown",
   "id": "ab805dc3",
   "metadata": {},
   "source": [
    "### 7.3. Building the model"
   ]
  },
  {
   "cell_type": "code",
   "execution_count": 785,
   "id": "7982c95f",
   "metadata": {},
   "outputs": [
    {
     "data": {
      "text/html": [
       "<style>#sk-container-id-10 {color: black;background-color: white;}#sk-container-id-10 pre{padding: 0;}#sk-container-id-10 div.sk-toggleable {background-color: white;}#sk-container-id-10 label.sk-toggleable__label {cursor: pointer;display: block;width: 100%;margin-bottom: 0;padding: 0.3em;box-sizing: border-box;text-align: center;}#sk-container-id-10 label.sk-toggleable__label-arrow:before {content: \"▸\";float: left;margin-right: 0.25em;color: #696969;}#sk-container-id-10 label.sk-toggleable__label-arrow:hover:before {color: black;}#sk-container-id-10 div.sk-estimator:hover label.sk-toggleable__label-arrow:before {color: black;}#sk-container-id-10 div.sk-toggleable__content {max-height: 0;max-width: 0;overflow: hidden;text-align: left;background-color: #f0f8ff;}#sk-container-id-10 div.sk-toggleable__content pre {margin: 0.2em;color: black;border-radius: 0.25em;background-color: #f0f8ff;}#sk-container-id-10 input.sk-toggleable__control:checked~div.sk-toggleable__content {max-height: 200px;max-width: 100%;overflow: auto;}#sk-container-id-10 input.sk-toggleable__control:checked~label.sk-toggleable__label-arrow:before {content: \"▾\";}#sk-container-id-10 div.sk-estimator input.sk-toggleable__control:checked~label.sk-toggleable__label {background-color: #d4ebff;}#sk-container-id-10 div.sk-label input.sk-toggleable__control:checked~label.sk-toggleable__label {background-color: #d4ebff;}#sk-container-id-10 input.sk-hidden--visually {border: 0;clip: rect(1px 1px 1px 1px);clip: rect(1px, 1px, 1px, 1px);height: 1px;margin: -1px;overflow: hidden;padding: 0;position: absolute;width: 1px;}#sk-container-id-10 div.sk-estimator {font-family: monospace;background-color: #f0f8ff;border: 1px dotted black;border-radius: 0.25em;box-sizing: border-box;margin-bottom: 0.5em;}#sk-container-id-10 div.sk-estimator:hover {background-color: #d4ebff;}#sk-container-id-10 div.sk-parallel-item::after {content: \"\";width: 100%;border-bottom: 1px solid gray;flex-grow: 1;}#sk-container-id-10 div.sk-label:hover label.sk-toggleable__label {background-color: #d4ebff;}#sk-container-id-10 div.sk-serial::before {content: \"\";position: absolute;border-left: 1px solid gray;box-sizing: border-box;top: 0;bottom: 0;left: 50%;z-index: 0;}#sk-container-id-10 div.sk-serial {display: flex;flex-direction: column;align-items: center;background-color: white;padding-right: 0.2em;padding-left: 0.2em;position: relative;}#sk-container-id-10 div.sk-item {position: relative;z-index: 1;}#sk-container-id-10 div.sk-parallel {display: flex;align-items: stretch;justify-content: center;background-color: white;position: relative;}#sk-container-id-10 div.sk-item::before, #sk-container-id-10 div.sk-parallel-item::before {content: \"\";position: absolute;border-left: 1px solid gray;box-sizing: border-box;top: 0;bottom: 0;left: 50%;z-index: -1;}#sk-container-id-10 div.sk-parallel-item {display: flex;flex-direction: column;z-index: 1;position: relative;background-color: white;}#sk-container-id-10 div.sk-parallel-item:first-child::after {align-self: flex-end;width: 50%;}#sk-container-id-10 div.sk-parallel-item:last-child::after {align-self: flex-start;width: 50%;}#sk-container-id-10 div.sk-parallel-item:only-child::after {width: 0;}#sk-container-id-10 div.sk-dashed-wrapped {border: 1px dashed gray;margin: 0 0.4em 0.5em 0.4em;box-sizing: border-box;padding-bottom: 0.4em;background-color: white;}#sk-container-id-10 div.sk-label label {font-family: monospace;font-weight: bold;display: inline-block;line-height: 1.2em;}#sk-container-id-10 div.sk-label-container {text-align: center;}#sk-container-id-10 div.sk-container {/* jupyter's `normalize.less` sets `[hidden] { display: none; }` but bootstrap.min.css set `[hidden] { display: none !important; }` so we also need the `!important` here to be able to override the default hidden behavior on the sphinx rendered scikit-learn.org. See: https://github.com/scikit-learn/scikit-learn/issues/21755 */display: inline-block !important;position: relative;}#sk-container-id-10 div.sk-text-repr-fallback {display: none;}</style><div id=\"sk-container-id-10\" class=\"sk-top-container\"><div class=\"sk-text-repr-fallback\"><pre>KNeighborsRegressor(n_neighbors=3, weights=&#x27;distance&#x27;)</pre><b>In a Jupyter environment, please rerun this cell to show the HTML representation or trust the notebook. <br />On GitHub, the HTML representation is unable to render, please try loading this page with nbviewer.org.</b></div><div class=\"sk-container\" hidden><div class=\"sk-item\"><div class=\"sk-estimator sk-toggleable\"><input class=\"sk-toggleable__control sk-hidden--visually\" id=\"sk-estimator-id-10\" type=\"checkbox\" checked><label for=\"sk-estimator-id-10\" class=\"sk-toggleable__label sk-toggleable__label-arrow\">KNeighborsRegressor</label><div class=\"sk-toggleable__content\"><pre>KNeighborsRegressor(n_neighbors=3, weights=&#x27;distance&#x27;)</pre></div></div></div></div></div>"
      ],
      "text/plain": [
       "KNeighborsRegressor(n_neighbors=3, weights='distance')"
      ]
     },
     "execution_count": 785,
     "metadata": {},
     "output_type": "execute_result"
    }
   ],
   "source": [
    "knn_regressor = KNeighborsRegressor(n_neighbors=3, weights='distance')\n",
    "knn_regressor.fit(X_train_step_2, y_train_step_2)"
   ]
  },
  {
   "cell_type": "markdown",
   "id": "f69ae02f",
   "metadata": {},
   "source": [
    "### 7.4. Making predictions and evaluating the model"
   ]
  },
  {
   "cell_type": "code",
   "execution_count": 786,
   "id": "92daf177",
   "metadata": {},
   "outputs": [
    {
     "data": {
      "text/plain": [
       "array([[44.43489687, 26.04790437],\n",
       "       [44.4349375 , 26.04792793],\n",
       "       [44.43493713, 26.04794152],\n",
       "       [44.4349375 , 26.04791794],\n",
       "       [44.43493054, 26.04790377],\n",
       "       [44.4348794 , 26.04790377],\n",
       "       [44.43488159, 26.04791315],\n",
       "       [44.43489602, 26.04794156],\n",
       "       [44.43487455, 26.04792501],\n",
       "       [44.4349375 , 26.04790002],\n",
       "       [44.43491062, 26.04794156],\n",
       "       [44.43488931, 26.04790377],\n",
       "       [44.43487455, 26.04790979],\n",
       "       [44.43493568, 26.04794113],\n",
       "       [44.4349375 , 26.04793183],\n",
       "       [44.43487864, 26.04794156],\n",
       "       [44.43492308, 26.04790377],\n",
       "       [44.4349375 , 26.04790461],\n",
       "       [44.4349375 , 26.04790461],\n",
       "       [44.43490912, 26.04790377],\n",
       "       [44.43492158, 26.04790377],\n",
       "       [44.43489642, 26.04790377],\n",
       "       [44.4349375 , 26.04789684],\n",
       "       [44.43489508, 26.04790377],\n",
       "       [44.43492974, 26.04790377],\n",
       "       [44.4349375 , 26.04789748],\n",
       "       [44.4348876 , 26.04793984],\n",
       "       [44.4349027 , 26.04790377],\n",
       "       [44.43490655, 26.04790377]])"
      ]
     },
     "execution_count": 786,
     "metadata": {},
     "output_type": "execute_result"
    }
   ],
   "source": [
    "y_pred_step_2 = knn_regressor.predict(X_test_step_2)\n",
    "y_pred_step_2"
   ]
  },
  {
   "cell_type": "code",
   "execution_count": 787,
   "id": "a6215b23",
   "metadata": {},
   "outputs": [
    {
     "data": {
      "text/plain": [
       "array([[44.43489853, 26.04790377],\n",
       "       [44.4349375 , 26.0479277 ],\n",
       "       [44.4349375 , 26.04794143],\n",
       "       [44.4349375 , 26.04793526],\n",
       "       [44.43493001, 26.04790377],\n",
       "       [44.43487854, 26.04790377],\n",
       "       [44.43488264, 26.04790377],\n",
       "       [44.43489928, 26.04794156],\n",
       "       [44.43487455, 26.04792267],\n",
       "       [44.4349375 , 26.04789676],\n",
       "       [44.43491063, 26.04794156],\n",
       "       [44.43488984, 26.04790377],\n",
       "       [44.43487455, 26.04791457],\n",
       "       [44.434933  , 26.04794156],\n",
       "       [44.4349375 , 26.04791987],\n",
       "       [44.43490153, 26.04794156],\n",
       "       [44.43492401, 26.04790377],\n",
       "       [44.4349375 , 26.04789748],\n",
       "       [44.4349375 , 26.04791322],\n",
       "       [44.43491252, 26.04790377],\n",
       "       [44.43492401, 26.04790377],\n",
       "       [44.43490153, 26.04790377],\n",
       "       [44.4349375 , 26.04789534],\n",
       "       [44.43489253, 26.04790377],\n",
       "       [44.43493046, 26.04790377],\n",
       "       [44.4349375 , 26.04791322],\n",
       "       [44.43489953, 26.04794156],\n",
       "       [44.4349049 , 26.04790377],\n",
       "       [44.43491052, 26.04790377]])"
      ]
     },
     "execution_count": 787,
     "metadata": {},
     "output_type": "execute_result"
    }
   ],
   "source": [
    "y_test_step_2"
   ]
  },
  {
   "cell_type": "code",
   "execution_count": 788,
   "id": "84212a7e",
   "metadata": {},
   "outputs": [
    {
     "data": {
      "text/plain": [
       "((29, 2), (29, 2))"
      ]
     },
     "execution_count": 788,
     "metadata": {},
     "output_type": "execute_result"
    }
   ],
   "source": [
    "y_pred_step_2.shape, y_test_step_2.shape"
   ]
  },
  {
   "cell_type": "code",
   "execution_count": 789,
   "id": "5a26832e",
   "metadata": {},
   "outputs": [
    {
     "name": "stdout",
     "output_type": "stream",
     "text": [
      "2.947909014333602e-11\n"
     ]
    }
   ],
   "source": [
    "print(mean_squared_error(y_test_step_2, y_pred_step_2))"
   ]
  },
  {
   "cell_type": "code",
   "execution_count": 790,
   "id": "c54c4c7f",
   "metadata": {},
   "outputs": [
    {
     "name": "stdout",
     "output_type": "stream",
     "text": [
      "[2.62518611e-11 3.27063192e-11]\n"
     ]
    }
   ],
   "source": [
    "print(mean_squared_error(y_test_step_2, y_pred_step_2, multioutput='raw_values'))"
   ]
  },
  {
   "cell_type": "code",
   "execution_count": 791,
   "id": "d527dc5e",
   "metadata": {},
   "outputs": [
    {
     "data": {
      "text/plain": [
       "0    0.000005\n",
       "dtype: float64"
      ]
     },
     "execution_count": 791,
     "metadata": {},
     "output_type": "execute_result"
    }
   ],
   "source": [
    "y_pred_step_2 = pd.DataFrame(y_pred_step_2, columns=['lat1', 'long1'])\n",
    "y_test_step_2 = pd.DataFrame(y_test_step_2, columns=['lat2', 'long2'])\n",
    "\n",
    "# alculating the Euclidian distance between points\n",
    "distance_df = pd.DataFrame((y_test_step_2['lat2']-y_pred_step_2['lat1'])**2 + \n",
    "                           (y_test_step_2['long2']-y_pred_step_2['long1'])**2)**(1/2)\n",
    "sum_dist = distance_df.sum()\n",
    "mean_error = sum_dist/len(distance_df)\n",
    "mean_error"
   ]
  },
  {
   "cell_type": "code",
   "execution_count": 792,
   "id": "c661de37",
   "metadata": {},
   "outputs": [],
   "source": [
    "from math import radians, cos, sin, asin, acos, sqrt, pi\n",
    "import geopy.distance\n",
    "\n",
    "def calculate_spherical_distance(row):\n",
    "    \" Calculates the distance in km with the haversine method, which assumes the earth is sphere\"\n",
    "    lat1 = row['lat1']\n",
    "    lon1 = row['long1']\n",
    "    lat2 = row['lat2']\n",
    "    lon2 = row['long2']\n",
    "    r=6371\n",
    "    # Convert degrees to radians\n",
    "    coordinates = lat1, lon1, lat2, lon2\n",
    "    phi1, lambda1, phi2, lambda2 = [\n",
    "        radians(c) for c in coordinates\n",
    "    ]\n",
    "    \n",
    "    # Apply the haversine formula\n",
    "    d = r*acos(cos(phi2-phi1) - cos(phi1) * cos(phi2) *\n",
    "              (1-cos(lambda2-lambda1)))\n",
    "    return d\n",
    "\n",
    "def calculate_vincenty_distance(row):\n",
    "    coords_1 = (row['lat1'], row['long1'])\n",
    "    coords_2 = (row['lat2'], row['long2'])\n",
    "    \n",
    "    return geopy.distance.geodesic(coords_1, coords_2).km"
   ]
  },
  {
   "cell_type": "code",
   "execution_count": 793,
   "id": "d3e69d00",
   "metadata": {},
   "outputs": [
    {
     "name": "stdout",
     "output_type": "stream",
     "text": [
      "Mean Squared error for Haversine is: 0.5317499371937411 m\n",
      "Mean Squared error for Vincenty is: 0.531479219370009 m\n"
     ]
    },
    {
     "data": {
      "text/html": [
       "<div>\n",
       "<style scoped>\n",
       "    .dataframe tbody tr th:only-of-type {\n",
       "        vertical-align: middle;\n",
       "    }\n",
       "\n",
       "    .dataframe tbody tr th {\n",
       "        vertical-align: top;\n",
       "    }\n",
       "\n",
       "    .dataframe thead th {\n",
       "        text-align: right;\n",
       "    }\n",
       "</style>\n",
       "<table border=\"1\" class=\"dataframe\">\n",
       "  <thead>\n",
       "    <tr style=\"text-align: right;\">\n",
       "      <th></th>\n",
       "      <th>lat1</th>\n",
       "      <th>long1</th>\n",
       "      <th>lat2</th>\n",
       "      <th>long2</th>\n",
       "      <th>km_difference_haversine</th>\n",
       "      <th>m_difference_haversine</th>\n",
       "      <th>km_difference_vincenty</th>\n",
       "      <th>m_difference_vincenty</th>\n",
       "    </tr>\n",
       "  </thead>\n",
       "  <tbody>\n",
       "    <tr>\n",
       "      <th>0</th>\n",
       "      <td>44.434897</td>\n",
       "      <td>26.047904</td>\n",
       "      <td>44.434899</td>\n",
       "      <td>26.047904</td>\n",
       "      <td>0.000190</td>\n",
       "      <td>0.189871</td>\n",
       "      <td>1.908508e-04</td>\n",
       "      <td>0.190851</td>\n",
       "    </tr>\n",
       "    <tr>\n",
       "      <th>1</th>\n",
       "      <td>44.434937</td>\n",
       "      <td>26.047928</td>\n",
       "      <td>44.434937</td>\n",
       "      <td>26.047928</td>\n",
       "      <td>0.000000</td>\n",
       "      <td>0.000000</td>\n",
       "      <td>1.811613e-05</td>\n",
       "      <td>0.018116</td>\n",
       "    </tr>\n",
       "    <tr>\n",
       "      <th>2</th>\n",
       "      <td>44.434937</td>\n",
       "      <td>26.047942</td>\n",
       "      <td>44.434937</td>\n",
       "      <td>26.047941</td>\n",
       "      <td>0.000000</td>\n",
       "      <td>0.000000</td>\n",
       "      <td>4.203668e-05</td>\n",
       "      <td>0.042037</td>\n",
       "    </tr>\n",
       "    <tr>\n",
       "      <th>3</th>\n",
       "      <td>44.434937</td>\n",
       "      <td>26.047918</td>\n",
       "      <td>44.434937</td>\n",
       "      <td>26.047935</td>\n",
       "      <td>0.001376</td>\n",
       "      <td>1.375743</td>\n",
       "      <td>1.378804e-03</td>\n",
       "      <td>1.378804</td>\n",
       "    </tr>\n",
       "    <tr>\n",
       "      <th>4</th>\n",
       "      <td>44.434931</td>\n",
       "      <td>26.047904</td>\n",
       "      <td>44.434930</td>\n",
       "      <td>26.047904</td>\n",
       "      <td>0.000000</td>\n",
       "      <td>0.000000</td>\n",
       "      <td>5.939214e-05</td>\n",
       "      <td>0.059392</td>\n",
       "    </tr>\n",
       "    <tr>\n",
       "      <th>5</th>\n",
       "      <td>44.434879</td>\n",
       "      <td>26.047904</td>\n",
       "      <td>44.434879</td>\n",
       "      <td>26.047904</td>\n",
       "      <td>0.000095</td>\n",
       "      <td>0.094935</td>\n",
       "      <td>9.496980e-05</td>\n",
       "      <td>0.094970</td>\n",
       "    </tr>\n",
       "    <tr>\n",
       "      <th>6</th>\n",
       "      <td>44.434882</td>\n",
       "      <td>26.047913</td>\n",
       "      <td>44.434883</td>\n",
       "      <td>26.047904</td>\n",
       "      <td>0.000759</td>\n",
       "      <td>0.759482</td>\n",
       "      <td>7.557050e-04</td>\n",
       "      <td>0.755705</td>\n",
       "    </tr>\n",
       "    <tr>\n",
       "      <th>7</th>\n",
       "      <td>44.434896</td>\n",
       "      <td>26.047942</td>\n",
       "      <td>44.434899</td>\n",
       "      <td>26.047942</td>\n",
       "      <td>0.000368</td>\n",
       "      <td>0.367683</td>\n",
       "      <td>3.619337e-04</td>\n",
       "      <td>0.361934</td>\n",
       "    </tr>\n",
       "    <tr>\n",
       "      <th>8</th>\n",
       "      <td>44.434875</td>\n",
       "      <td>26.047925</td>\n",
       "      <td>44.434875</td>\n",
       "      <td>26.047923</td>\n",
       "      <td>0.000190</td>\n",
       "      <td>0.189871</td>\n",
       "      <td>1.867336e-04</td>\n",
       "      <td>0.186734</td>\n",
       "    </tr>\n",
       "    <tr>\n",
       "      <th>9</th>\n",
       "      <td>44.434937</td>\n",
       "      <td>26.047900</td>\n",
       "      <td>44.434937</td>\n",
       "      <td>26.047897</td>\n",
       "      <td>0.000269</td>\n",
       "      <td>0.268518</td>\n",
       "      <td>2.596590e-04</td>\n",
       "      <td>0.259659</td>\n",
       "    </tr>\n",
       "    <tr>\n",
       "      <th>10</th>\n",
       "      <td>44.434911</td>\n",
       "      <td>26.047942</td>\n",
       "      <td>44.434911</td>\n",
       "      <td>26.047942</td>\n",
       "      <td>0.000000</td>\n",
       "      <td>0.000000</td>\n",
       "      <td>9.194289e-07</td>\n",
       "      <td>0.000919</td>\n",
       "    </tr>\n",
       "    <tr>\n",
       "      <th>11</th>\n",
       "      <td>44.434889</td>\n",
       "      <td>26.047904</td>\n",
       "      <td>44.434890</td>\n",
       "      <td>26.047904</td>\n",
       "      <td>0.000000</td>\n",
       "      <td>0.000000</td>\n",
       "      <td>5.838727e-05</td>\n",
       "      <td>0.058387</td>\n",
       "    </tr>\n",
       "    <tr>\n",
       "      <th>12</th>\n",
       "      <td>44.434875</td>\n",
       "      <td>26.047910</td>\n",
       "      <td>44.434875</td>\n",
       "      <td>26.047915</td>\n",
       "      <td>0.000380</td>\n",
       "      <td>0.379741</td>\n",
       "      <td>3.801902e-04</td>\n",
       "      <td>0.380190</td>\n",
       "    </tr>\n",
       "    <tr>\n",
       "      <th>13</th>\n",
       "      <td>44.434936</td>\n",
       "      <td>26.047941</td>\n",
       "      <td>44.434933</td>\n",
       "      <td>26.047942</td>\n",
       "      <td>0.000300</td>\n",
       "      <td>0.300212</td>\n",
       "      <td>2.991131e-04</td>\n",
       "      <td>0.299113</td>\n",
       "    </tr>\n",
       "    <tr>\n",
       "      <th>14</th>\n",
       "      <td>44.434937</td>\n",
       "      <td>26.047932</td>\n",
       "      <td>44.434937</td>\n",
       "      <td>26.047920</td>\n",
       "      <td>0.000949</td>\n",
       "      <td>0.949353</td>\n",
       "      <td>9.521219e-04</td>\n",
       "      <td>0.952122</td>\n",
       "    </tr>\n",
       "    <tr>\n",
       "      <th>15</th>\n",
       "      <td>44.434879</td>\n",
       "      <td>26.047942</td>\n",
       "      <td>44.434902</td>\n",
       "      <td>26.047942</td>\n",
       "      <td>0.002546</td>\n",
       "      <td>2.545612</td>\n",
       "      <td>2.543691e-03</td>\n",
       "      <td>2.543691</td>\n",
       "    </tr>\n",
       "    <tr>\n",
       "      <th>16</th>\n",
       "      <td>44.434923</td>\n",
       "      <td>26.047904</td>\n",
       "      <td>44.434924</td>\n",
       "      <td>26.047904</td>\n",
       "      <td>0.000095</td>\n",
       "      <td>0.094935</td>\n",
       "      <td>1.029997e-04</td>\n",
       "      <td>0.103000</td>\n",
       "    </tr>\n",
       "    <tr>\n",
       "      <th>17</th>\n",
       "      <td>44.434937</td>\n",
       "      <td>26.047905</td>\n",
       "      <td>44.434937</td>\n",
       "      <td>26.047897</td>\n",
       "      <td>0.000570</td>\n",
       "      <td>0.569612</td>\n",
       "      <td>5.676545e-04</td>\n",
       "      <td>0.567654</td>\n",
       "    </tr>\n",
       "    <tr>\n",
       "      <th>18</th>\n",
       "      <td>44.434937</td>\n",
       "      <td>26.047905</td>\n",
       "      <td>44.434937</td>\n",
       "      <td>26.047913</td>\n",
       "      <td>0.000685</td>\n",
       "      <td>0.684588</td>\n",
       "      <td>6.858039e-04</td>\n",
       "      <td>0.685804</td>\n",
       "    </tr>\n",
       "    <tr>\n",
       "      <th>19</th>\n",
       "      <td>44.434909</td>\n",
       "      <td>26.047904</td>\n",
       "      <td>44.434913</td>\n",
       "      <td>26.047904</td>\n",
       "      <td>0.000380</td>\n",
       "      <td>0.379741</td>\n",
       "      <td>3.771624e-04</td>\n",
       "      <td>0.377162</td>\n",
       "    </tr>\n",
       "    <tr>\n",
       "      <th>20</th>\n",
       "      <td>44.434922</td>\n",
       "      <td>26.047904</td>\n",
       "      <td>44.434924</td>\n",
       "      <td>26.047904</td>\n",
       "      <td>0.000269</td>\n",
       "      <td>0.268518</td>\n",
       "      <td>2.704515e-04</td>\n",
       "      <td>0.270452</td>\n",
       "    </tr>\n",
       "    <tr>\n",
       "      <th>21</th>\n",
       "      <td>44.434896</td>\n",
       "      <td>26.047904</td>\n",
       "      <td>44.434902</td>\n",
       "      <td>26.047904</td>\n",
       "      <td>0.000570</td>\n",
       "      <td>0.569612</td>\n",
       "      <td>5.676021e-04</td>\n",
       "      <td>0.567602</td>\n",
       "    </tr>\n",
       "    <tr>\n",
       "      <th>22</th>\n",
       "      <td>44.434937</td>\n",
       "      <td>26.047897</td>\n",
       "      <td>44.434937</td>\n",
       "      <td>26.047895</td>\n",
       "      <td>0.000134</td>\n",
       "      <td>0.134259</td>\n",
       "      <td>1.198509e-04</td>\n",
       "      <td>0.119851</td>\n",
       "    </tr>\n",
       "    <tr>\n",
       "      <th>23</th>\n",
       "      <td>44.434895</td>\n",
       "      <td>26.047904</td>\n",
       "      <td>44.434893</td>\n",
       "      <td>26.047904</td>\n",
       "      <td>0.000285</td>\n",
       "      <td>0.284806</td>\n",
       "      <td>2.826318e-04</td>\n",
       "      <td>0.282632</td>\n",
       "    </tr>\n",
       "    <tr>\n",
       "      <th>24</th>\n",
       "      <td>44.434930</td>\n",
       "      <td>26.047904</td>\n",
       "      <td>44.434930</td>\n",
       "      <td>26.047904</td>\n",
       "      <td>0.000095</td>\n",
       "      <td>0.094935</td>\n",
       "      <td>8.002283e-05</td>\n",
       "      <td>0.080023</td>\n",
       "    </tr>\n",
       "    <tr>\n",
       "      <th>25</th>\n",
       "      <td>44.434937</td>\n",
       "      <td>26.047897</td>\n",
       "      <td>44.434937</td>\n",
       "      <td>26.047913</td>\n",
       "      <td>0.001249</td>\n",
       "      <td>1.248679</td>\n",
       "      <td>1.253458e-03</td>\n",
       "      <td>1.253458</td>\n",
       "    </tr>\n",
       "    <tr>\n",
       "      <th>26</th>\n",
       "      <td>44.434888</td>\n",
       "      <td>26.047940</td>\n",
       "      <td>44.434900</td>\n",
       "      <td>26.047942</td>\n",
       "      <td>0.001332</td>\n",
       "      <td>1.332480</td>\n",
       "      <td>1.332339e-03</td>\n",
       "      <td>1.332339</td>\n",
       "    </tr>\n",
       "    <tr>\n",
       "      <th>27</th>\n",
       "      <td>44.434903</td>\n",
       "      <td>26.047904</td>\n",
       "      <td>44.434905</td>\n",
       "      <td>26.047904</td>\n",
       "      <td>0.000251</td>\n",
       "      <td>0.251175</td>\n",
       "      <td>2.447137e-04</td>\n",
       "      <td>0.244714</td>\n",
       "    </tr>\n",
       "    <tr>\n",
       "      <th>28</th>\n",
       "      <td>44.434907</td>\n",
       "      <td>26.047904</td>\n",
       "      <td>44.434911</td>\n",
       "      <td>26.047904</td>\n",
       "      <td>0.000445</td>\n",
       "      <td>0.445286</td>\n",
       "      <td>4.409924e-04</td>\n",
       "      <td>0.440992</td>\n",
       "    </tr>\n",
       "  </tbody>\n",
       "</table>\n",
       "</div>"
      ],
      "text/plain": [
       "         lat1      long1       lat2      long2  km_difference_haversine  \\\n",
       "0   44.434897  26.047904  44.434899  26.047904                 0.000190   \n",
       "1   44.434937  26.047928  44.434937  26.047928                 0.000000   \n",
       "2   44.434937  26.047942  44.434937  26.047941                 0.000000   \n",
       "3   44.434937  26.047918  44.434937  26.047935                 0.001376   \n",
       "4   44.434931  26.047904  44.434930  26.047904                 0.000000   \n",
       "5   44.434879  26.047904  44.434879  26.047904                 0.000095   \n",
       "6   44.434882  26.047913  44.434883  26.047904                 0.000759   \n",
       "7   44.434896  26.047942  44.434899  26.047942                 0.000368   \n",
       "8   44.434875  26.047925  44.434875  26.047923                 0.000190   \n",
       "9   44.434937  26.047900  44.434937  26.047897                 0.000269   \n",
       "10  44.434911  26.047942  44.434911  26.047942                 0.000000   \n",
       "11  44.434889  26.047904  44.434890  26.047904                 0.000000   \n",
       "12  44.434875  26.047910  44.434875  26.047915                 0.000380   \n",
       "13  44.434936  26.047941  44.434933  26.047942                 0.000300   \n",
       "14  44.434937  26.047932  44.434937  26.047920                 0.000949   \n",
       "15  44.434879  26.047942  44.434902  26.047942                 0.002546   \n",
       "16  44.434923  26.047904  44.434924  26.047904                 0.000095   \n",
       "17  44.434937  26.047905  44.434937  26.047897                 0.000570   \n",
       "18  44.434937  26.047905  44.434937  26.047913                 0.000685   \n",
       "19  44.434909  26.047904  44.434913  26.047904                 0.000380   \n",
       "20  44.434922  26.047904  44.434924  26.047904                 0.000269   \n",
       "21  44.434896  26.047904  44.434902  26.047904                 0.000570   \n",
       "22  44.434937  26.047897  44.434937  26.047895                 0.000134   \n",
       "23  44.434895  26.047904  44.434893  26.047904                 0.000285   \n",
       "24  44.434930  26.047904  44.434930  26.047904                 0.000095   \n",
       "25  44.434937  26.047897  44.434937  26.047913                 0.001249   \n",
       "26  44.434888  26.047940  44.434900  26.047942                 0.001332   \n",
       "27  44.434903  26.047904  44.434905  26.047904                 0.000251   \n",
       "28  44.434907  26.047904  44.434911  26.047904                 0.000445   \n",
       "\n",
       "    m_difference_haversine  km_difference_vincenty  m_difference_vincenty  \n",
       "0                 0.189871            1.908508e-04               0.190851  \n",
       "1                 0.000000            1.811613e-05               0.018116  \n",
       "2                 0.000000            4.203668e-05               0.042037  \n",
       "3                 1.375743            1.378804e-03               1.378804  \n",
       "4                 0.000000            5.939214e-05               0.059392  \n",
       "5                 0.094935            9.496980e-05               0.094970  \n",
       "6                 0.759482            7.557050e-04               0.755705  \n",
       "7                 0.367683            3.619337e-04               0.361934  \n",
       "8                 0.189871            1.867336e-04               0.186734  \n",
       "9                 0.268518            2.596590e-04               0.259659  \n",
       "10                0.000000            9.194289e-07               0.000919  \n",
       "11                0.000000            5.838727e-05               0.058387  \n",
       "12                0.379741            3.801902e-04               0.380190  \n",
       "13                0.300212            2.991131e-04               0.299113  \n",
       "14                0.949353            9.521219e-04               0.952122  \n",
       "15                2.545612            2.543691e-03               2.543691  \n",
       "16                0.094935            1.029997e-04               0.103000  \n",
       "17                0.569612            5.676545e-04               0.567654  \n",
       "18                0.684588            6.858039e-04               0.685804  \n",
       "19                0.379741            3.771624e-04               0.377162  \n",
       "20                0.268518            2.704515e-04               0.270452  \n",
       "21                0.569612            5.676021e-04               0.567602  \n",
       "22                0.134259            1.198509e-04               0.119851  \n",
       "23                0.284806            2.826318e-04               0.282632  \n",
       "24                0.094935            8.002283e-05               0.080023  \n",
       "25                1.248679            1.253458e-03               1.253458  \n",
       "26                1.332480            1.332339e-03               1.332339  \n",
       "27                0.251175            2.447137e-04               0.244714  \n",
       "28                0.445286            4.409924e-04               0.440992  "
      ]
     },
     "execution_count": 793,
     "metadata": {},
     "output_type": "execute_result"
    }
   ],
   "source": [
    "df_final = pd.DataFrame()\n",
    "df_final = pd.concat([y_pred_step_2, y_test_step_2], axis=1)\n",
    "\n",
    "df_final['km_difference_haversine'] = df_final.apply(calculate_spherical_distance, axis=1)\n",
    "df_final['m_difference_haversine'] = df_final['km_difference_haversine']*1000\n",
    "\n",
    "df_final['km_difference_vincenty'] = df_final.apply(calculate_vincenty_distance, axis=1)\n",
    "df_final['m_difference_vincenty'] = df_final['km_difference_vincenty']*1000\n",
    "\n",
    "# Mean Squared Error Haversine\n",
    "mse_h = (df_final['m_difference_haversine']*df_final['m_difference_haversine']).sum()/len(df_final)\n",
    "print(f'Mean Squared error for Haversine is: {mse_h} m')\n",
    "\n",
    "# Mean Squared Error Vincenty\n",
    "mse_v = (df_final['m_difference_vincenty']*df_final['m_difference_vincenty']).sum()/len(df_final)\n",
    "print(f'Mean Squared error for Vincenty is: {mse_v} m')\n",
    "\n",
    "df_final"
   ]
  },
  {
   "cell_type": "code",
   "execution_count": 794,
   "id": "fb00d0ae",
   "metadata": {},
   "outputs": [
    {
     "data": {
      "text/plain": [
       "<matplotlib.collections.PathCollection at 0x1ce9503b490>"
      ]
     },
     "execution_count": 794,
     "metadata": {},
     "output_type": "execute_result"
    },
    {
     "data": {
      "image/png": "[encoded data removed]",
      "text/plain": [
       "<Figure size 720x720 with 1 Axes>"
      ]
     },
     "metadata": {
      "needs_background": "light"
     },
     "output_type": "display_data"
    }
   ],
   "source": [
    "plt.figure(figsize=(10,10))\n",
    "plt.scatter(df_final['long1'], df_final['lat1'], color='red')\n",
    "plt.scatter(df_final['long2'], df_final['lat2'], color='green', alpha=0.4)"
   ]
  },
  {
   "cell_type": "code",
   "execution_count": null,
   "id": "9491216c",
   "metadata": {},
   "outputs": [],
   "source": []
  }
 ],
 "metadata": {
  "kernelspec": {
   "display_name": "Python 3 (ipykernel)",
   "language": "python",
   "name": "python3"
  },
  "language_info": {
   "codemirror_mode": {
    "name": "ipython",
    "version": 3
   },
   "file_extension": ".py",
   "mimetype": "text/x-python",
   "name": "python",
   "nbconvert_exporter": "python",
   "pygments_lexer": "ipython3",
   "version": "3.9.2"
  }
 },
 "nbformat": 4,
 "nbformat_minor": 5
}
