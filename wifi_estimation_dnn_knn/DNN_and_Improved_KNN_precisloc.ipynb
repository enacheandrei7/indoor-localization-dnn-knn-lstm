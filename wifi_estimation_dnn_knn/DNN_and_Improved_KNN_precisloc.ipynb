{
 "cells": [
  {
   "cell_type": "markdown",
   "id": "04f1d8c6",
   "metadata": {},
   "source": [
    "# 1. Importing pacakges"
   ]
  },
  {
   "cell_type": "code",
   "execution_count": 196,
   "id": "5636f53a",
   "metadata": {
    "scrolled": true
   },
   "outputs": [],
   "source": [
    "import pandas as pd\n",
    "import numpy as np\n",
    "import os\n",
    "import xml.etree.ElementTree as ET\n",
    "import tensorflow as tf\n",
    "from keras.layers import Dense\n",
    "from keras.models import Sequential\n",
    "import torch\n",
    "from sklearn.preprocessing import scale, LabelEncoder, StandardScaler\n",
    "from sklearn.model_selection import train_test_split\n",
    "from sklearn.metrics import confusion_matrix, accuracy_score, mean_squared_error, classification_report\n",
    "from sklearn.neighbors import KNeighborsRegressor\n",
    "import geopy.distance\n",
    "import seaborn as sns\n",
    "import matplotlib\n",
    "import matplotlib.pyplot as plt\n",
    "from matplotlib.colors import ListedColormap\n",
    "%matplotlib inline"
   ]
  },
  {
   "cell_type": "markdown",
   "id": "d9a2a727",
   "metadata": {},
   "source": [
    "## 2. Importing and vizualizing the data"
   ]
  },
  {
   "cell_type": "code",
   "execution_count": 197,
   "id": "45046b90",
   "metadata": {},
   "outputs": [],
   "source": [
    "wifi_and_loc_file = '../data/Processed/full_wifi_data_and_location_without_1.csv'"
   ]
  },
  {
   "cell_type": "markdown",
   "id": "f1dddd65",
   "metadata": {},
   "source": [
    "## 2.1. Getting details about df"
   ]
  },
  {
   "cell_type": "code",
   "execution_count": 198,
   "id": "38790444",
   "metadata": {},
   "outputs": [
    {
     "data": {
      "text/html": [
       "<div>\n",
       "<style scoped>\n",
       "    .dataframe tbody tr th:only-of-type {\n",
       "        vertical-align: middle;\n",
       "    }\n",
       "\n",
       "    .dataframe tbody tr th {\n",
       "        vertical-align: top;\n",
       "    }\n",
       "\n",
       "    .dataframe thead th {\n",
       "        text-align: right;\n",
       "    }\n",
       "</style>\n",
       "<table border=\"1\" class=\"dataframe\">\n",
       "  <thead>\n",
       "    <tr style=\"text-align: right;\">\n",
       "      <th></th>\n",
       "      <th>32:cd:a7:a0:6d:d8</th>\n",
       "      <th>84:b2:61:56:8a:01</th>\n",
       "      <th>84:b2:61:56:8a:02</th>\n",
       "      <th>84:b2:61:56:8a:00</th>\n",
       "      <th>84:b2:61:6d:3d:22</th>\n",
       "      <th>84:b2:61:6d:3d:21</th>\n",
       "      <th>84:b2:61:6d:3d:20</th>\n",
       "      <th>84:b2:61:5e:44:22</th>\n",
       "      <th>84:b2:61:5e:44:21</th>\n",
       "      <th>84:b2:61:5e:44:20</th>\n",
       "      <th>...</th>\n",
       "      <th>84:b2:61:6d:52:a1</th>\n",
       "      <th>84:b2:61:6d:52:a0</th>\n",
       "      <th>84:b2:61:6d:52:a2</th>\n",
       "      <th>84:b2:61:6d:52:af</th>\n",
       "      <th>84:b2:61:40:75:f1</th>\n",
       "      <th>84:b2:61:40:75:f2</th>\n",
       "      <th>84:b2:61:40:75:f0</th>\n",
       "      <th>c4:71:54:39:70:e4</th>\n",
       "      <th>lat</th>\n",
       "      <th>long</th>\n",
       "    </tr>\n",
       "  </thead>\n",
       "  <tbody>\n",
       "    <tr>\n",
       "      <th>12:15:53:00</th>\n",
       "      <td>-39.0</td>\n",
       "      <td>-58.0</td>\n",
       "      <td>-58.0</td>\n",
       "      <td>-58.0</td>\n",
       "      <td>-70.0</td>\n",
       "      <td>-70.0</td>\n",
       "      <td>-70.0</td>\n",
       "      <td>-73.0</td>\n",
       "      <td>-73.0</td>\n",
       "      <td>-72.0</td>\n",
       "      <td>...</td>\n",
       "      <td>NaN</td>\n",
       "      <td>NaN</td>\n",
       "      <td>NaN</td>\n",
       "      <td>NaN</td>\n",
       "      <td>NaN</td>\n",
       "      <td>NaN</td>\n",
       "      <td>NaN</td>\n",
       "      <td>NaN</td>\n",
       "      <td>44.434937</td>\n",
       "      <td>26.047613</td>\n",
       "    </tr>\n",
       "    <tr>\n",
       "      <th>12:15:54:00</th>\n",
       "      <td>-48.0</td>\n",
       "      <td>-51.0</td>\n",
       "      <td>-52.0</td>\n",
       "      <td>-52.0</td>\n",
       "      <td>-69.0</td>\n",
       "      <td>-71.0</td>\n",
       "      <td>-71.0</td>\n",
       "      <td>-74.0</td>\n",
       "      <td>-74.0</td>\n",
       "      <td>-74.0</td>\n",
       "      <td>...</td>\n",
       "      <td>NaN</td>\n",
       "      <td>NaN</td>\n",
       "      <td>NaN</td>\n",
       "      <td>NaN</td>\n",
       "      <td>NaN</td>\n",
       "      <td>NaN</td>\n",
       "      <td>NaN</td>\n",
       "      <td>NaN</td>\n",
       "      <td>44.434937</td>\n",
       "      <td>26.047624</td>\n",
       "    </tr>\n",
       "    <tr>\n",
       "      <th>12:15:55:00</th>\n",
       "      <td>-45.0</td>\n",
       "      <td>-52.0</td>\n",
       "      <td>-52.0</td>\n",
       "      <td>-52.0</td>\n",
       "      <td>-72.0</td>\n",
       "      <td>-71.0</td>\n",
       "      <td>-71.0</td>\n",
       "      <td>-73.0</td>\n",
       "      <td>-73.0</td>\n",
       "      <td>-73.0</td>\n",
       "      <td>...</td>\n",
       "      <td>NaN</td>\n",
       "      <td>NaN</td>\n",
       "      <td>NaN</td>\n",
       "      <td>NaN</td>\n",
       "      <td>NaN</td>\n",
       "      <td>NaN</td>\n",
       "      <td>NaN</td>\n",
       "      <td>NaN</td>\n",
       "      <td>44.434937</td>\n",
       "      <td>26.047637</td>\n",
       "    </tr>\n",
       "    <tr>\n",
       "      <th>12:15:56:00</th>\n",
       "      <td>-51.0</td>\n",
       "      <td>-42.0</td>\n",
       "      <td>-42.0</td>\n",
       "      <td>-42.0</td>\n",
       "      <td>-75.0</td>\n",
       "      <td>-72.0</td>\n",
       "      <td>-75.0</td>\n",
       "      <td>-79.0</td>\n",
       "      <td>-77.0</td>\n",
       "      <td>-79.0</td>\n",
       "      <td>...</td>\n",
       "      <td>NaN</td>\n",
       "      <td>NaN</td>\n",
       "      <td>NaN</td>\n",
       "      <td>NaN</td>\n",
       "      <td>NaN</td>\n",
       "      <td>NaN</td>\n",
       "      <td>NaN</td>\n",
       "      <td>NaN</td>\n",
       "      <td>44.434937</td>\n",
       "      <td>26.047652</td>\n",
       "    </tr>\n",
       "    <tr>\n",
       "      <th>12:15:59:00</th>\n",
       "      <td>-50.0</td>\n",
       "      <td>-38.0</td>\n",
       "      <td>-37.0</td>\n",
       "      <td>-38.0</td>\n",
       "      <td>NaN</td>\n",
       "      <td>NaN</td>\n",
       "      <td>NaN</td>\n",
       "      <td>-61.0</td>\n",
       "      <td>-61.0</td>\n",
       "      <td>-62.0</td>\n",
       "      <td>...</td>\n",
       "      <td>NaN</td>\n",
       "      <td>NaN</td>\n",
       "      <td>NaN</td>\n",
       "      <td>NaN</td>\n",
       "      <td>NaN</td>\n",
       "      <td>NaN</td>\n",
       "      <td>NaN</td>\n",
       "      <td>NaN</td>\n",
       "      <td>44.434937</td>\n",
       "      <td>26.047674</td>\n",
       "    </tr>\n",
       "  </tbody>\n",
       "</table>\n",
       "<p>5 rows × 43 columns</p>\n",
       "</div>"
      ],
      "text/plain": [
       "             32:cd:a7:a0:6d:d8  84:b2:61:56:8a:01  84:b2:61:56:8a:02  \\\n",
       "12:15:53:00              -39.0              -58.0              -58.0   \n",
       "12:15:54:00              -48.0              -51.0              -52.0   \n",
       "12:15:55:00              -45.0              -52.0              -52.0   \n",
       "12:15:56:00              -51.0              -42.0              -42.0   \n",
       "12:15:59:00              -50.0              -38.0              -37.0   \n",
       "\n",
       "             84:b2:61:56:8a:00  84:b2:61:6d:3d:22  84:b2:61:6d:3d:21  \\\n",
       "12:15:53:00              -58.0              -70.0              -70.0   \n",
       "12:15:54:00              -52.0              -69.0              -71.0   \n",
       "12:15:55:00              -52.0              -72.0              -71.0   \n",
       "12:15:56:00              -42.0              -75.0              -72.0   \n",
       "12:15:59:00              -38.0                NaN                NaN   \n",
       "\n",
       "             84:b2:61:6d:3d:20  84:b2:61:5e:44:22  84:b2:61:5e:44:21  \\\n",
       "12:15:53:00              -70.0              -73.0              -73.0   \n",
       "12:15:54:00              -71.0              -74.0              -74.0   \n",
       "12:15:55:00              -71.0              -73.0              -73.0   \n",
       "12:15:56:00              -75.0              -79.0              -77.0   \n",
       "12:15:59:00                NaN              -61.0              -61.0   \n",
       "\n",
       "             84:b2:61:5e:44:20  ...  84:b2:61:6d:52:a1  84:b2:61:6d:52:a0  \\\n",
       "12:15:53:00              -72.0  ...                NaN                NaN   \n",
       "12:15:54:00              -74.0  ...                NaN                NaN   \n",
       "12:15:55:00              -73.0  ...                NaN                NaN   \n",
       "12:15:56:00              -79.0  ...                NaN                NaN   \n",
       "12:15:59:00              -62.0  ...                NaN                NaN   \n",
       "\n",
       "             84:b2:61:6d:52:a2  84:b2:61:6d:52:af  84:b2:61:40:75:f1  \\\n",
       "12:15:53:00                NaN                NaN                NaN   \n",
       "12:15:54:00                NaN                NaN                NaN   \n",
       "12:15:55:00                NaN                NaN                NaN   \n",
       "12:15:56:00                NaN                NaN                NaN   \n",
       "12:15:59:00                NaN                NaN                NaN   \n",
       "\n",
       "             84:b2:61:40:75:f2  84:b2:61:40:75:f0  c4:71:54:39:70:e4  \\\n",
       "12:15:53:00                NaN                NaN                NaN   \n",
       "12:15:54:00                NaN                NaN                NaN   \n",
       "12:15:55:00                NaN                NaN                NaN   \n",
       "12:15:56:00                NaN                NaN                NaN   \n",
       "12:15:59:00                NaN                NaN                NaN   \n",
       "\n",
       "                   lat       long  \n",
       "12:15:53:00  44.434937  26.047613  \n",
       "12:15:54:00  44.434937  26.047624  \n",
       "12:15:55:00  44.434937  26.047637  \n",
       "12:15:56:00  44.434937  26.047652  \n",
       "12:15:59:00  44.434937  26.047674  \n",
       "\n",
       "[5 rows x 43 columns]"
      ]
     },
     "execution_count": 198,
     "metadata": {},
     "output_type": "execute_result"
    }
   ],
   "source": [
    "df_wifi_and_loc_file = pd.read_csv(wifi_and_loc_file, index_col=0)\n",
    "df_wifi_and_loc_file.head()"
   ]
  },
  {
   "cell_type": "code",
   "execution_count": 199,
   "id": "9294169f",
   "metadata": {},
   "outputs": [
    {
     "data": {
      "text/plain": [
       "32:cd:a7:a0:6d:d8    float64\n",
       "84:b2:61:56:8a:01    float64\n",
       "84:b2:61:56:8a:02    float64\n",
       "84:b2:61:56:8a:00    float64\n",
       "84:b2:61:6d:3d:22    float64\n",
       "84:b2:61:6d:3d:21    float64\n",
       "84:b2:61:6d:3d:20    float64\n",
       "84:b2:61:5e:44:22    float64\n",
       "84:b2:61:5e:44:21    float64\n",
       "84:b2:61:5e:44:20    float64\n",
       "84:b2:61:47:dd:42    float64\n",
       "84:b2:61:47:dd:41    float64\n",
       "84:b2:61:47:dd:40    float64\n",
       "84:b2:61:47:e2:c0    float64\n",
       "84:b2:61:56:8a:0f    float64\n",
       "84:b2:61:56:8a:0e    float64\n",
       "84:b2:61:56:8a:0d    float64\n",
       "84:b2:61:5e:44:2f    float64\n",
       "84:b2:61:5e:44:2d    float64\n",
       "84:b2:61:6d:3d:2e    float64\n",
       "84:b2:61:5e:44:2e    float64\n",
       "84:b2:61:6d:3d:2d    float64\n",
       "84:b2:61:6d:3d:2f    float64\n",
       "84:b2:61:47:dd:4e    float64\n",
       "84:b2:61:47:dd:4f    float64\n",
       "84:b2:61:47:dd:4d    float64\n",
       "84:b2:61:47:e2:c2    float64\n",
       "84:b2:61:47:e2:c1    float64\n",
       "84:b2:61:6d:5d:70    float64\n",
       "84:b2:61:6d:5d:72    float64\n",
       "84:b2:61:6d:5d:71    float64\n",
       "84:b2:61:47:e2:ce    float64\n",
       "84:b2:61:47:e2:cd    float64\n",
       "84:b2:61:6d:52:a1    float64\n",
       "84:b2:61:6d:52:a0    float64\n",
       "84:b2:61:6d:52:a2    float64\n",
       "84:b2:61:6d:52:af    float64\n",
       "84:b2:61:40:75:f1    float64\n",
       "84:b2:61:40:75:f2    float64\n",
       "84:b2:61:40:75:f0    float64\n",
       "c4:71:54:39:70:e4    float64\n",
       "lat                  float64\n",
       "long                 float64\n",
       "dtype: object"
      ]
     },
     "execution_count": 199,
     "metadata": {},
     "output_type": "execute_result"
    }
   ],
   "source": [
    "df_wifi_and_loc_file.dtypes"
   ]
  },
  {
   "cell_type": "code",
   "execution_count": 200,
   "id": "f2a105ec",
   "metadata": {},
   "outputs": [
    {
     "data": {
      "text/plain": [
       "Index(['32:cd:a7:a0:6d:d8', '84:b2:61:56:8a:01', '84:b2:61:56:8a:02',\n",
       "       '84:b2:61:56:8a:00', '84:b2:61:6d:3d:22', '84:b2:61:6d:3d:21',\n",
       "       '84:b2:61:6d:3d:20', '84:b2:61:5e:44:22', '84:b2:61:5e:44:21',\n",
       "       '84:b2:61:5e:44:20', '84:b2:61:47:dd:42', '84:b2:61:47:dd:41',\n",
       "       '84:b2:61:47:dd:40', '84:b2:61:47:e2:c0', '84:b2:61:56:8a:0f',\n",
       "       '84:b2:61:56:8a:0e', '84:b2:61:56:8a:0d', '84:b2:61:5e:44:2f',\n",
       "       '84:b2:61:5e:44:2d', '84:b2:61:6d:3d:2e', '84:b2:61:5e:44:2e',\n",
       "       '84:b2:61:6d:3d:2d', '84:b2:61:6d:3d:2f', '84:b2:61:47:dd:4e',\n",
       "       '84:b2:61:47:dd:4f', '84:b2:61:47:dd:4d', '84:b2:61:47:e2:c2',\n",
       "       '84:b2:61:47:e2:c1', '84:b2:61:6d:5d:70', '84:b2:61:6d:5d:72',\n",
       "       '84:b2:61:6d:5d:71', '84:b2:61:47:e2:ce', '84:b2:61:47:e2:cd',\n",
       "       '84:b2:61:6d:52:a1', '84:b2:61:6d:52:a0', '84:b2:61:6d:52:a2',\n",
       "       '84:b2:61:6d:52:af', '84:b2:61:40:75:f1', '84:b2:61:40:75:f2',\n",
       "       '84:b2:61:40:75:f0', 'c4:71:54:39:70:e4', 'lat', 'long'],\n",
       "      dtype='object')"
      ]
     },
     "execution_count": 200,
     "metadata": {},
     "output_type": "execute_result"
    }
   ],
   "source": [
    "df_wifi_and_loc_file.columns"
   ]
  },
  {
   "cell_type": "markdown",
   "id": "2519d175",
   "metadata": {},
   "source": [
    "## 2.2. Vizualizing raw data from wifi and data concatenated file, without the first file (it had many outliers)"
   ]
  },
  {
   "cell_type": "code",
   "execution_count": 201,
   "id": "6242ca18",
   "metadata": {
    "scrolled": false
   },
   "outputs": [
    {
     "data": {
      "image/png": "[encoded data removed]",
      "text/plain": [
       "<Figure size 720x720 with 1 Axes>"
      ]
     },
     "metadata": {
      "needs_background": "light"
     },
     "output_type": "display_data"
    }
   ],
   "source": [
    "markers = ('s', 'X', 'o')\n",
    "colors = ('red', 'yellow', 'lightgreen')\n",
    "cmap = ListedColormap(colors[:1])\n",
    "\n",
    "\n",
    "fig = plt.figure(figsize=(10,10))\n",
    "plt.scatter(x=df_wifi_and_loc_file['long'], \n",
    "            y=df_wifi_and_loc_file['lat'],\n",
    "            alpha=0.6, \n",
    "            c=[cmap(1)],\n",
    "            edgecolor='black',\n",
    "            marker=markers[1], \n",
    "            label='data')\n",
    "\n",
    "plt.xlabel('Longitude')\n",
    "plt.ylabel('Latitude')\n",
    "plt.legend(loc='upper right')\n",
    "plt.tight_layout()"
   ]
  },
  {
   "attachments": {
    "image.png": {
     "image/png": "[encoded data removed]"
    }
   },
   "cell_type": "markdown",
   "id": "9613433d",
   "metadata": {},
   "source": [
    "![image.png](attachment:image.png)"
   ]
  },
  {
   "cell_type": "code",
   "execution_count": 202,
   "id": "15a7fc72",
   "metadata": {},
   "outputs": [],
   "source": [
    "wifi_and_loc_file1 = '../data/Processed/wifi_data_and_location_1.csv'\n",
    "wifi_and_loc_file2 = '../data/Processed/wifi_data_and_location_2.csv'\n",
    "wifi_and_loc_file3 = '../data/Processed/wifi_data_and_location_3.csv'\n",
    "wifi_and_loc_file4 = '../data/Processed/wifi_data_and_location_4.csv'\n",
    "wifi_and_loc_file5 = '../data/Processed/wifi_data_and_location_5.csv'\n",
    "wifi_and_loc_file6 = '../data/Processed/wifi_data_and_location_6.csv'\n",
    "wifi_and_loc_file7 = '../data/Processed/wifi_data_and_location_7.csv'\n",
    "wifi_and_loc_file8 = '../data/Processed/wifi_data_and_location_8.csv'\n",
    "\n",
    "df_wifi_and_loc_file1 = pd.read_csv(wifi_and_loc_file1, index_col=0)\n",
    "df_wifi_and_loc_file2 = pd.read_csv(wifi_and_loc_file2, index_col=0)\n",
    "df_wifi_and_loc_file3 = pd.read_csv(wifi_and_loc_file3, index_col=0)\n",
    "df_wifi_and_loc_file4 = pd.read_csv(wifi_and_loc_file4, index_col=0)\n",
    "df_wifi_and_loc_file5 = pd.read_csv(wifi_and_loc_file5, index_col=0)\n",
    "df_wifi_and_loc_file6 = pd.read_csv(wifi_and_loc_file6, index_col=0)\n",
    "df_wifi_and_loc_file7 = pd.read_csv(wifi_and_loc_file7, index_col=0)\n",
    "df_wifi_and_loc_file8 = pd.read_csv(wifi_and_loc_file8, index_col=0)"
   ]
  },
  {
   "cell_type": "code",
   "execution_count": 203,
   "id": "60a2d066",
   "metadata": {},
   "outputs": [
    {
     "data": {
      "text/plain": [
       "<AxesSubplot:xlabel='long'>"
      ]
     },
     "execution_count": 203,
     "metadata": {},
     "output_type": "execute_result"
    },
    {
     "data": {
      "image/png": "[encoded data removed]",
      "text/plain": [
       "<Figure size 576x576 with 1 Axes>"
      ]
     },
     "metadata": {
      "needs_background": "light"
     },
     "output_type": "display_data"
    }
   ],
   "source": [
    "ax = df_wifi_and_loc_file1.plot(x='long', y='lat', figsize=(8, 8))\n",
    "df_wifi_and_loc_file2.plot(ax=ax, x='long', y='lat')\n",
    "df_wifi_and_loc_file3.plot(ax=ax, x='long', y='lat')\n",
    "df_wifi_and_loc_file4.plot(ax=ax, x='long', y='lat')\n",
    "df_wifi_and_loc_file5.plot(ax=ax, x='long', y='lat')\n",
    "df_wifi_and_loc_file6.plot(ax=ax, x='long', y='lat')\n",
    "df_wifi_and_loc_file7.plot(ax=ax, x='long', y='lat')\n",
    "df_wifi_and_loc_file8.plot(ax=ax, x='long', y='lat')\n",
    "\n",
    "# The first file is different than the rest"
   ]
  },
  {
   "cell_type": "markdown",
   "id": "bd7f27e4",
   "metadata": {},
   "source": [
    "## 2.3. Normalizing lat and longitude"
   ]
  },
  {
   "cell_type": "code",
   "execution_count": 204,
   "id": "aa805e74",
   "metadata": {},
   "outputs": [],
   "source": [
    "# Function to normalize a column using Min-Max normalization\n",
    "def normalize(column):\n",
    "    min_val = column.min()\n",
    "    max_val = column.max()\n",
    "    normalized = (column - min_val) / (max_val - min_val)\n",
    "    return normalized"
   ]
  },
  {
   "cell_type": "code",
   "execution_count": 205,
   "id": "a1a6a0aa",
   "metadata": {},
   "outputs": [],
   "source": [
    "max_lat = df_wifi_and_loc_file['lat'].max()\n",
    "min_lat = df_wifi_and_loc_file['lat'].min()\n",
    "max_long = df_wifi_and_loc_file['long'].max()\n",
    "min_long = df_wifi_and_loc_file['long'].min()\n",
    "df_wifi_and_loc_file['normalized_lat'] = normalize(df_wifi_and_loc_file['lat'])\n",
    "df_wifi_and_loc_file['normalized_long'] = normalize(df_wifi_and_loc_file['long'])"
   ]
  },
  {
   "cell_type": "markdown",
   "id": "64b85cb8",
   "metadata": {},
   "source": [
    "## 2.4. Vizualizing normalized lat and longitude"
   ]
  },
  {
   "cell_type": "code",
   "execution_count": 206,
   "id": "29160ec0",
   "metadata": {},
   "outputs": [
    {
     "data": {
      "image/png": "[encoded data removed]",
      "text/plain": [
       "<Figure size 720x720 with 1 Axes>"
      ]
     },
     "metadata": {
      "needs_background": "light"
     },
     "output_type": "display_data"
    }
   ],
   "source": [
    "markers = ('s', 'X', 'o')\n",
    "colors = ('blue', 'yellow', 'lightgreen')\n",
    "cmap = ListedColormap(colors[:1])\n",
    "\n",
    "\n",
    "fig = plt.figure(figsize=(10,10))\n",
    "plt.scatter(x=df_wifi_and_loc_file['normalized_long'], \n",
    "            y=df_wifi_and_loc_file['normalized_lat'],\n",
    "            alpha=0.6, \n",
    "            c=[cmap(1)],\n",
    "            edgecolor='black',\n",
    "            marker=markers[1], \n",
    "            label='data')\n",
    "\n",
    "plt.xlabel('Longitude')\n",
    "plt.ylabel('Latitude')\n",
    "plt.legend(loc='upper right')\n",
    "plt.tight_layout()"
   ]
  },
  {
   "cell_type": "markdown",
   "id": "4a0bbb3b",
   "metadata": {},
   "source": [
    "## 2.4. Filling the NaN values with -100 db"
   ]
  },
  {
   "cell_type": "code",
   "execution_count": 207,
   "id": "84b83c31",
   "metadata": {
    "scrolled": false
   },
   "outputs": [],
   "source": [
    "df_wifi_and_loc_file.fillna(-100, inplace=True)"
   ]
  },
  {
   "cell_type": "markdown",
   "id": "4d9bed82",
   "metadata": {},
   "source": [
    "## 2.5. Attributing the values to rooms"
   ]
  },
  {
   "cell_type": "code",
   "execution_count": 208,
   "id": "980fe50f",
   "metadata": {
    "scrolled": true
   },
   "outputs": [
    {
     "data": {
      "text/html": [
       "<div>\n",
       "<style scoped>\n",
       "    .dataframe tbody tr th:only-of-type {\n",
       "        vertical-align: middle;\n",
       "    }\n",
       "\n",
       "    .dataframe tbody tr th {\n",
       "        vertical-align: top;\n",
       "    }\n",
       "\n",
       "    .dataframe thead th {\n",
       "        text-align: right;\n",
       "    }\n",
       "</style>\n",
       "<table border=\"1\" class=\"dataframe\">\n",
       "  <thead>\n",
       "    <tr style=\"text-align: right;\">\n",
       "      <th></th>\n",
       "      <th>32:cd:a7:a0:6d:d8</th>\n",
       "      <th>84:b2:61:56:8a:01</th>\n",
       "      <th>84:b2:61:56:8a:02</th>\n",
       "      <th>84:b2:61:56:8a:00</th>\n",
       "      <th>84:b2:61:6d:3d:22</th>\n",
       "      <th>84:b2:61:6d:3d:21</th>\n",
       "      <th>84:b2:61:6d:3d:20</th>\n",
       "      <th>84:b2:61:5e:44:22</th>\n",
       "      <th>84:b2:61:5e:44:21</th>\n",
       "      <th>84:b2:61:5e:44:20</th>\n",
       "      <th>...</th>\n",
       "      <th>84:b2:61:6d:52:af</th>\n",
       "      <th>84:b2:61:40:75:f1</th>\n",
       "      <th>84:b2:61:40:75:f2</th>\n",
       "      <th>84:b2:61:40:75:f0</th>\n",
       "      <th>c4:71:54:39:70:e4</th>\n",
       "      <th>lat</th>\n",
       "      <th>long</th>\n",
       "      <th>normalized_lat</th>\n",
       "      <th>normalized_long</th>\n",
       "      <th>room</th>\n",
       "    </tr>\n",
       "  </thead>\n",
       "  <tbody>\n",
       "    <tr>\n",
       "      <th>12:15:53:00</th>\n",
       "      <td>-39.0</td>\n",
       "      <td>-58.0</td>\n",
       "      <td>-58.0</td>\n",
       "      <td>-58.0</td>\n",
       "      <td>-70.0</td>\n",
       "      <td>-70.0</td>\n",
       "      <td>-70.0</td>\n",
       "      <td>-73.0</td>\n",
       "      <td>-73.0</td>\n",
       "      <td>-72.0</td>\n",
       "      <td>...</td>\n",
       "      <td>-100.0</td>\n",
       "      <td>-100.0</td>\n",
       "      <td>-100.0</td>\n",
       "      <td>-100.0</td>\n",
       "      <td>-100.0</td>\n",
       "      <td>44.434937</td>\n",
       "      <td>26.047613</td>\n",
       "      <td>0.933334</td>\n",
       "      <td>0.032408</td>\n",
       "      <td>0.0</td>\n",
       "    </tr>\n",
       "    <tr>\n",
       "      <th>12:15:54:00</th>\n",
       "      <td>-48.0</td>\n",
       "      <td>-51.0</td>\n",
       "      <td>-52.0</td>\n",
       "      <td>-52.0</td>\n",
       "      <td>-69.0</td>\n",
       "      <td>-71.0</td>\n",
       "      <td>-71.0</td>\n",
       "      <td>-74.0</td>\n",
       "      <td>-74.0</td>\n",
       "      <td>-74.0</td>\n",
       "      <td>...</td>\n",
       "      <td>-100.0</td>\n",
       "      <td>-100.0</td>\n",
       "      <td>-100.0</td>\n",
       "      <td>-100.0</td>\n",
       "      <td>-100.0</td>\n",
       "      <td>44.434937</td>\n",
       "      <td>26.047624</td>\n",
       "      <td>0.933334</td>\n",
       "      <td>0.066667</td>\n",
       "      <td>0.0</td>\n",
       "    </tr>\n",
       "    <tr>\n",
       "      <th>12:15:55:00</th>\n",
       "      <td>-45.0</td>\n",
       "      <td>-52.0</td>\n",
       "      <td>-52.0</td>\n",
       "      <td>-52.0</td>\n",
       "      <td>-72.0</td>\n",
       "      <td>-71.0</td>\n",
       "      <td>-71.0</td>\n",
       "      <td>-73.0</td>\n",
       "      <td>-73.0</td>\n",
       "      <td>-73.0</td>\n",
       "      <td>...</td>\n",
       "      <td>-100.0</td>\n",
       "      <td>-100.0</td>\n",
       "      <td>-100.0</td>\n",
       "      <td>-100.0</td>\n",
       "      <td>-100.0</td>\n",
       "      <td>44.434937</td>\n",
       "      <td>26.047637</td>\n",
       "      <td>0.933334</td>\n",
       "      <td>0.103704</td>\n",
       "      <td>0.0</td>\n",
       "    </tr>\n",
       "    <tr>\n",
       "      <th>12:15:56:00</th>\n",
       "      <td>-51.0</td>\n",
       "      <td>-42.0</td>\n",
       "      <td>-42.0</td>\n",
       "      <td>-42.0</td>\n",
       "      <td>-75.0</td>\n",
       "      <td>-72.0</td>\n",
       "      <td>-75.0</td>\n",
       "      <td>-79.0</td>\n",
       "      <td>-77.0</td>\n",
       "      <td>-79.0</td>\n",
       "      <td>...</td>\n",
       "      <td>-100.0</td>\n",
       "      <td>-100.0</td>\n",
       "      <td>-100.0</td>\n",
       "      <td>-100.0</td>\n",
       "      <td>-100.0</td>\n",
       "      <td>44.434937</td>\n",
       "      <td>26.047652</td>\n",
       "      <td>0.933334</td>\n",
       "      <td>0.148148</td>\n",
       "      <td>0.0</td>\n",
       "    </tr>\n",
       "    <tr>\n",
       "      <th>12:15:59:00</th>\n",
       "      <td>-50.0</td>\n",
       "      <td>-38.0</td>\n",
       "      <td>-37.0</td>\n",
       "      <td>-38.0</td>\n",
       "      <td>-100.0</td>\n",
       "      <td>-100.0</td>\n",
       "      <td>-100.0</td>\n",
       "      <td>-61.0</td>\n",
       "      <td>-61.0</td>\n",
       "      <td>-62.0</td>\n",
       "      <td>...</td>\n",
       "      <td>-100.0</td>\n",
       "      <td>-100.0</td>\n",
       "      <td>-100.0</td>\n",
       "      <td>-100.0</td>\n",
       "      <td>-100.0</td>\n",
       "      <td>44.434937</td>\n",
       "      <td>26.047674</td>\n",
       "      <td>0.933334</td>\n",
       "      <td>0.212005</td>\n",
       "      <td>1.0</td>\n",
       "    </tr>\n",
       "    <tr>\n",
       "      <th>...</th>\n",
       "      <td>...</td>\n",
       "      <td>...</td>\n",
       "      <td>...</td>\n",
       "      <td>...</td>\n",
       "      <td>...</td>\n",
       "      <td>...</td>\n",
       "      <td>...</td>\n",
       "      <td>...</td>\n",
       "      <td>...</td>\n",
       "      <td>...</td>\n",
       "      <td>...</td>\n",
       "      <td>...</td>\n",
       "      <td>...</td>\n",
       "      <td>...</td>\n",
       "      <td>...</td>\n",
       "      <td>...</td>\n",
       "      <td>...</td>\n",
       "      <td>...</td>\n",
       "      <td>...</td>\n",
       "      <td>...</td>\n",
       "      <td>...</td>\n",
       "    </tr>\n",
       "    <tr>\n",
       "      <th>19:09:23:00</th>\n",
       "      <td>-56.0</td>\n",
       "      <td>-55.0</td>\n",
       "      <td>-54.0</td>\n",
       "      <td>-55.0</td>\n",
       "      <td>-72.0</td>\n",
       "      <td>-72.0</td>\n",
       "      <td>-73.0</td>\n",
       "      <td>-71.0</td>\n",
       "      <td>-71.0</td>\n",
       "      <td>-71.0</td>\n",
       "      <td>...</td>\n",
       "      <td>-100.0</td>\n",
       "      <td>-100.0</td>\n",
       "      <td>-100.0</td>\n",
       "      <td>-100.0</td>\n",
       "      <td>-96.0</td>\n",
       "      <td>44.434937</td>\n",
       "      <td>26.047657</td>\n",
       "      <td>0.933333</td>\n",
       "      <td>0.162963</td>\n",
       "      <td>0.0</td>\n",
       "    </tr>\n",
       "    <tr>\n",
       "      <th>19:09:24:00</th>\n",
       "      <td>-49.0</td>\n",
       "      <td>-49.0</td>\n",
       "      <td>-49.0</td>\n",
       "      <td>-49.0</td>\n",
       "      <td>-74.0</td>\n",
       "      <td>-74.0</td>\n",
       "      <td>-74.0</td>\n",
       "      <td>-78.0</td>\n",
       "      <td>-77.0</td>\n",
       "      <td>-78.0</td>\n",
       "      <td>...</td>\n",
       "      <td>-100.0</td>\n",
       "      <td>-100.0</td>\n",
       "      <td>-100.0</td>\n",
       "      <td>-100.0</td>\n",
       "      <td>-100.0</td>\n",
       "      <td>44.434937</td>\n",
       "      <td>26.047642</td>\n",
       "      <td>0.933333</td>\n",
       "      <td>0.120370</td>\n",
       "      <td>0.0</td>\n",
       "    </tr>\n",
       "    <tr>\n",
       "      <th>19:09:25:00</th>\n",
       "      <td>-49.0</td>\n",
       "      <td>-55.0</td>\n",
       "      <td>-54.0</td>\n",
       "      <td>-54.0</td>\n",
       "      <td>-80.0</td>\n",
       "      <td>-80.0</td>\n",
       "      <td>-79.0</td>\n",
       "      <td>-79.0</td>\n",
       "      <td>-80.0</td>\n",
       "      <td>-79.0</td>\n",
       "      <td>...</td>\n",
       "      <td>-100.0</td>\n",
       "      <td>-100.0</td>\n",
       "      <td>-100.0</td>\n",
       "      <td>-100.0</td>\n",
       "      <td>-100.0</td>\n",
       "      <td>44.434937</td>\n",
       "      <td>26.047628</td>\n",
       "      <td>0.933333</td>\n",
       "      <td>0.078189</td>\n",
       "      <td>0.0</td>\n",
       "    </tr>\n",
       "    <tr>\n",
       "      <th>19:09:26:00</th>\n",
       "      <td>-46.0</td>\n",
       "      <td>-61.0</td>\n",
       "      <td>-61.0</td>\n",
       "      <td>-61.0</td>\n",
       "      <td>-72.0</td>\n",
       "      <td>-72.0</td>\n",
       "      <td>-72.0</td>\n",
       "      <td>-74.0</td>\n",
       "      <td>-74.0</td>\n",
       "      <td>-74.0</td>\n",
       "      <td>...</td>\n",
       "      <td>-100.0</td>\n",
       "      <td>-100.0</td>\n",
       "      <td>-100.0</td>\n",
       "      <td>-100.0</td>\n",
       "      <td>-100.0</td>\n",
       "      <td>44.434937</td>\n",
       "      <td>26.047614</td>\n",
       "      <td>0.933333</td>\n",
       "      <td>0.037037</td>\n",
       "      <td>0.0</td>\n",
       "    </tr>\n",
       "    <tr>\n",
       "      <th>19:09:27:00</th>\n",
       "      <td>-46.0</td>\n",
       "      <td>-61.0</td>\n",
       "      <td>-61.0</td>\n",
       "      <td>-61.0</td>\n",
       "      <td>-72.0</td>\n",
       "      <td>-72.0</td>\n",
       "      <td>-72.0</td>\n",
       "      <td>-74.0</td>\n",
       "      <td>-74.0</td>\n",
       "      <td>-74.0</td>\n",
       "      <td>...</td>\n",
       "      <td>-100.0</td>\n",
       "      <td>-100.0</td>\n",
       "      <td>-100.0</td>\n",
       "      <td>-100.0</td>\n",
       "      <td>-100.0</td>\n",
       "      <td>44.434937</td>\n",
       "      <td>26.047602</td>\n",
       "      <td>0.933333</td>\n",
       "      <td>0.000367</td>\n",
       "      <td>0.0</td>\n",
       "    </tr>\n",
       "  </tbody>\n",
       "</table>\n",
       "<p>530 rows × 46 columns</p>\n",
       "</div>"
      ],
      "text/plain": [
       "             32:cd:a7:a0:6d:d8  84:b2:61:56:8a:01  84:b2:61:56:8a:02  \\\n",
       "12:15:53:00              -39.0              -58.0              -58.0   \n",
       "12:15:54:00              -48.0              -51.0              -52.0   \n",
       "12:15:55:00              -45.0              -52.0              -52.0   \n",
       "12:15:56:00              -51.0              -42.0              -42.0   \n",
       "12:15:59:00              -50.0              -38.0              -37.0   \n",
       "...                        ...                ...                ...   \n",
       "19:09:23:00              -56.0              -55.0              -54.0   \n",
       "19:09:24:00              -49.0              -49.0              -49.0   \n",
       "19:09:25:00              -49.0              -55.0              -54.0   \n",
       "19:09:26:00              -46.0              -61.0              -61.0   \n",
       "19:09:27:00              -46.0              -61.0              -61.0   \n",
       "\n",
       "             84:b2:61:56:8a:00  84:b2:61:6d:3d:22  84:b2:61:6d:3d:21  \\\n",
       "12:15:53:00              -58.0              -70.0              -70.0   \n",
       "12:15:54:00              -52.0              -69.0              -71.0   \n",
       "12:15:55:00              -52.0              -72.0              -71.0   \n",
       "12:15:56:00              -42.0              -75.0              -72.0   \n",
       "12:15:59:00              -38.0             -100.0             -100.0   \n",
       "...                        ...                ...                ...   \n",
       "19:09:23:00              -55.0              -72.0              -72.0   \n",
       "19:09:24:00              -49.0              -74.0              -74.0   \n",
       "19:09:25:00              -54.0              -80.0              -80.0   \n",
       "19:09:26:00              -61.0              -72.0              -72.0   \n",
       "19:09:27:00              -61.0              -72.0              -72.0   \n",
       "\n",
       "             84:b2:61:6d:3d:20  84:b2:61:5e:44:22  84:b2:61:5e:44:21  \\\n",
       "12:15:53:00              -70.0              -73.0              -73.0   \n",
       "12:15:54:00              -71.0              -74.0              -74.0   \n",
       "12:15:55:00              -71.0              -73.0              -73.0   \n",
       "12:15:56:00              -75.0              -79.0              -77.0   \n",
       "12:15:59:00             -100.0              -61.0              -61.0   \n",
       "...                        ...                ...                ...   \n",
       "19:09:23:00              -73.0              -71.0              -71.0   \n",
       "19:09:24:00              -74.0              -78.0              -77.0   \n",
       "19:09:25:00              -79.0              -79.0              -80.0   \n",
       "19:09:26:00              -72.0              -74.0              -74.0   \n",
       "19:09:27:00              -72.0              -74.0              -74.0   \n",
       "\n",
       "             84:b2:61:5e:44:20  ...  84:b2:61:6d:52:af  84:b2:61:40:75:f1  \\\n",
       "12:15:53:00              -72.0  ...             -100.0             -100.0   \n",
       "12:15:54:00              -74.0  ...             -100.0             -100.0   \n",
       "12:15:55:00              -73.0  ...             -100.0             -100.0   \n",
       "12:15:56:00              -79.0  ...             -100.0             -100.0   \n",
       "12:15:59:00              -62.0  ...             -100.0             -100.0   \n",
       "...                        ...  ...                ...                ...   \n",
       "19:09:23:00              -71.0  ...             -100.0             -100.0   \n",
       "19:09:24:00              -78.0  ...             -100.0             -100.0   \n",
       "19:09:25:00              -79.0  ...             -100.0             -100.0   \n",
       "19:09:26:00              -74.0  ...             -100.0             -100.0   \n",
       "19:09:27:00              -74.0  ...             -100.0             -100.0   \n",
       "\n",
       "             84:b2:61:40:75:f2  84:b2:61:40:75:f0  c4:71:54:39:70:e4  \\\n",
       "12:15:53:00             -100.0             -100.0             -100.0   \n",
       "12:15:54:00             -100.0             -100.0             -100.0   \n",
       "12:15:55:00             -100.0             -100.0             -100.0   \n",
       "12:15:56:00             -100.0             -100.0             -100.0   \n",
       "12:15:59:00             -100.0             -100.0             -100.0   \n",
       "...                        ...                ...                ...   \n",
       "19:09:23:00             -100.0             -100.0              -96.0   \n",
       "19:09:24:00             -100.0             -100.0             -100.0   \n",
       "19:09:25:00             -100.0             -100.0             -100.0   \n",
       "19:09:26:00             -100.0             -100.0             -100.0   \n",
       "19:09:27:00             -100.0             -100.0             -100.0   \n",
       "\n",
       "                   lat       long  normalized_lat  normalized_long  room  \n",
       "12:15:53:00  44.434937  26.047613        0.933334         0.032408   0.0  \n",
       "12:15:54:00  44.434937  26.047624        0.933334         0.066667   0.0  \n",
       "12:15:55:00  44.434937  26.047637        0.933334         0.103704   0.0  \n",
       "12:15:56:00  44.434937  26.047652        0.933334         0.148148   0.0  \n",
       "12:15:59:00  44.434937  26.047674        0.933334         0.212005   1.0  \n",
       "...                ...        ...             ...              ...   ...  \n",
       "19:09:23:00  44.434937  26.047657        0.933333         0.162963   0.0  \n",
       "19:09:24:00  44.434937  26.047642        0.933333         0.120370   0.0  \n",
       "19:09:25:00  44.434937  26.047628        0.933333         0.078189   0.0  \n",
       "19:09:26:00  44.434937  26.047614        0.933333         0.037037   0.0  \n",
       "19:09:27:00  44.434937  26.047602        0.933333         0.000367   0.0  \n",
       "\n",
       "[530 rows x 46 columns]"
      ]
     },
     "execution_count": 208,
     "metadata": {},
     "output_type": "execute_result"
    }
   ],
   "source": [
    "df_wifi_and_loc_file['room'] = np.nan\n",
    "\n",
    "df_wifi_and_loc_file.loc[(df_wifi_and_loc_file['normalized_long'] <= 0.2), 'room'] = 0\n",
    "df_wifi_and_loc_file.loc[(df_wifi_and_loc_file['normalized_long'] > 0.2) &\n",
    "                         (df_wifi_and_loc_file['normalized_long'] <= 0.3), 'room'] = 1\n",
    "df_wifi_and_loc_file.loc[(df_wifi_and_loc_file['normalized_long'] > 0.3) &\n",
    "                         (df_wifi_and_loc_file['normalized_long'] < 0.85), 'room'] = 2\n",
    "df_wifi_and_loc_file.loc[(df_wifi_and_loc_file['normalized_long'] >= 0.85), 'room'] = 3\n",
    "df_wifi_and_loc_file"
   ]
  },
  {
   "cell_type": "code",
   "execution_count": 209,
   "id": "0ef03608",
   "metadata": {
    "scrolled": false
   },
   "outputs": [
    {
     "name": "stderr",
     "output_type": "stream",
     "text": [
      "C:\\Users\\Enachele\\AppData\\Local\\Temp\\ipykernel_1708\\480135349.py:8: UserWarning: You passed a edgecolor/edgecolors ('black') for an unfilled marker ('x').  Matplotlib is ignoring the edgecolor in favor of the facecolor.  This behavior may change in the future.\n",
      "  plt.scatter(x=df_wifi_and_loc_file.loc[df_wifi_and_loc_file.room== cl]['normalized_long'],\n"
     ]
    },
    {
     "data": {
      "image/png": "[encoded data removed]",
      "text/plain": [
       "<Figure size 720x720 with 1 Axes>"
      ]
     },
     "metadata": {
      "needs_background": "light"
     },
     "output_type": "display_data"
    }
   ],
   "source": [
    "markers = ('s', 'X', 'o', 'x')\n",
    "colors = ('red', 'yellow', 'blue', 'green')\n",
    "cmap = ListedColormap(colors[:len(np.unique(df_wifi_and_loc_file['room']))])\n",
    "\n",
    "\n",
    "fig = plt.figure(figsize=(10,10))\n",
    "for idx, cl in enumerate(np.unique(df_wifi_and_loc_file['room'])):\n",
    "        plt.scatter(x=df_wifi_and_loc_file.loc[df_wifi_and_loc_file.room== cl]['normalized_long'], \n",
    "                    y=df_wifi_and_loc_file.loc[df_wifi_and_loc_file.room== cl]['normalized_lat'],\n",
    "                    alpha=0.6, \n",
    "                    c=[cmap(idx)],\n",
    "                    edgecolor='black',\n",
    "                    marker=markers[idx], \n",
    "                    label=cl)\n",
    "\n",
    "plt.xlabel('Longitude')\n",
    "plt.ylabel('Latitude')\n",
    "plt.legend(loc='upper right')\n",
    "plt.tight_layout()"
   ]
  },
  {
   "cell_type": "markdown",
   "id": "b6ff93d8",
   "metadata": {},
   "source": [
    "# 3. Data preprocessing"
   ]
  },
  {
   "cell_type": "markdown",
   "id": "db9b6b16",
   "metadata": {},
   "source": [
    "## 3.1. Splitting data in labels and target for the first DNN (Step 1)"
   ]
  },
  {
   "cell_type": "code",
   "execution_count": 254,
   "id": "1e214413",
   "metadata": {},
   "outputs": [
    {
     "data": {
      "text/plain": [
       "(array([[ -39.,  -58.,  -58., ..., -100., -100., -100.],\n",
       "        [ -48.,  -51.,  -52., ..., -100., -100., -100.],\n",
       "        [ -45.,  -52.,  -52., ..., -100., -100., -100.],\n",
       "        ...,\n",
       "        [ -49.,  -55.,  -54., ..., -100., -100., -100.],\n",
       "        [ -46.,  -61.,  -61., ..., -100., -100., -100.],\n",
       "        [ -46.,  -61.,  -61., ..., -100., -100., -100.]]),\n",
       " array([0., 0., 0., 0., 1., 1., 1., 1., 1., 1., 1., 1., 1., 1., 1., 1., 1.,\n",
       "        1., 1., 2., 2., 2., 2., 2., 2., 2., 2., 2., 2., 2., 2., 2., 3., 3.,\n",
       "        3., 3., 3., 3., 3., 3., 3., 3., 3., 3., 3., 3., 3., 3., 3., 3., 3.,\n",
       "        3., 2., 2., 2., 2., 2., 2., 2., 2., 2., 2., 2., 2., 2., 2., 1., 1.,\n",
       "        1., 0., 0., 0., 0., 0., 0., 0., 0., 0., 1., 1., 1., 1., 1., 1., 1.,\n",
       "        1., 1., 1., 1., 1., 1., 1., 1., 2., 2., 2., 2., 2., 2., 2., 2., 2.,\n",
       "        2., 2., 2., 2., 3., 3., 3., 3., 3., 3., 3., 3., 3., 3., 3., 3., 3.,\n",
       "        3., 3., 3., 3., 3., 3., 3., 2., 2., 2., 2., 2., 2., 2., 2., 2., 2.,\n",
       "        2., 2., 2., 1., 1., 1., 0., 0., 0., 0., 0., 0., 0., 0., 0., 0., 1.,\n",
       "        1., 1., 1., 1., 1., 1., 1., 1., 1., 1., 1., 1., 1., 1., 2., 2., 2.,\n",
       "        2., 2., 2., 2., 2., 2., 2., 2., 2., 2., 3., 3., 3., 3., 3., 3., 3.,\n",
       "        3., 3., 3., 3., 3., 3., 3., 3., 3., 3., 3., 3., 3., 2., 2., 2., 2.,\n",
       "        2., 2., 2., 2., 2., 2., 2., 2., 2., 1., 1., 1., 1., 0., 0., 0., 0.,\n",
       "        0., 0., 0., 0., 0., 0., 1., 1., 1., 1., 1., 1., 1., 1., 1., 1., 1.,\n",
       "        1., 1., 1., 1., 1., 2., 2., 2., 2., 2., 2., 2., 2., 2., 2., 2., 2.,\n",
       "        2., 2., 2., 3., 3., 3., 3., 3., 3., 3., 3., 3., 3., 3., 3., 3., 3.,\n",
       "        3., 3., 3., 3., 3., 3., 3., 2., 2., 2., 2., 2., 2., 2., 2., 2., 2.,\n",
       "        2., 2., 2., 2., 2., 1., 1., 1., 0., 0., 0., 0., 0., 0., 0., 0., 0.,\n",
       "        0., 1., 1., 1., 1., 1., 1., 1., 1., 1., 1., 1., 1., 1., 1., 2., 2.,\n",
       "        2., 2., 2., 2., 2., 2., 2., 2., 2., 2., 3., 3., 3., 3., 3., 3., 3.,\n",
       "        3., 3., 3., 3., 3., 3., 3., 3., 3., 3., 3., 3., 3., 2., 2., 2., 2.,\n",
       "        2., 2., 2., 2., 2., 2., 2., 2., 2., 1., 1., 1., 1., 0., 0., 0., 0.,\n",
       "        0., 0., 0., 0., 0., 0., 0., 1., 1., 1., 1., 1., 1., 1., 1., 1., 1.,\n",
       "        1., 1., 1., 1., 1., 1., 2., 2., 2., 2., 2., 2., 2., 2., 2., 2., 2.,\n",
       "        2., 2., 3., 3., 3., 3., 3., 3., 3., 3., 3., 3., 3., 3., 3., 3., 3.,\n",
       "        3., 3., 3., 3., 3., 2., 2., 2., 2., 2., 2., 2., 2., 2., 2., 2., 2.,\n",
       "        2., 2., 2., 1., 1., 1., 0., 0., 0., 0., 0., 0., 0., 0., 0., 1., 1.,\n",
       "        1., 1., 1., 1., 1., 1., 1., 1., 1., 1., 1., 1., 1., 1., 2., 2., 2.,\n",
       "        2., 2., 2., 2., 2., 2., 2., 2., 2., 3., 3., 3., 3., 3., 3., 3., 3.,\n",
       "        3., 3., 3., 3., 3., 3., 3., 3., 3., 3., 3., 3., 3., 3., 2., 2., 2.,\n",
       "        2., 2., 2., 2., 2., 2., 2., 2., 2., 2., 2., 1., 1., 1., 0., 0., 0.,\n",
       "        0., 0., 0.]))"
      ]
     },
     "execution_count": 254,
     "metadata": {},
     "output_type": "execute_result"
    }
   ],
   "source": [
    "X = df_wifi_and_loc_file.iloc[:, :41].values\n",
    "y = df_wifi_and_loc_file['room'].values\n",
    "X, y"
   ]
  },
  {
   "cell_type": "markdown",
   "id": "bb83f13c",
   "metadata": {},
   "source": [
    "## 3.2. Splitting the dataset in Training and Test set"
   ]
  },
  {
   "cell_type": "code",
   "execution_count": 255,
   "id": "12f2600e",
   "metadata": {},
   "outputs": [
    {
     "name": "stdout",
     "output_type": "stream",
     "text": [
      "[[ -80.  -83.  -83. ... -100. -100. -100.]\n",
      " [ -86.  -81.  -82. ... -100. -100. -100.]\n",
      " [ -87.  -82.  -82. ... -100. -100. -100.]\n",
      " ...\n",
      " [ -49.  -55.  -54. ... -100. -100. -100.]\n",
      " [ -46.  -61.  -61. ... -100. -100. -100.]\n",
      " [ -46.  -61.  -61. ... -100. -100. -100.]]\n"
     ]
    },
    {
     "data": {
      "text/plain": [
       "((381, 41), (96, 41), (53, 41), (381,), (96,), (53,))"
      ]
     },
     "execution_count": 255,
     "metadata": {},
     "output_type": "execute_result"
    }
   ],
   "source": [
    "val_limit = int(len(df_wifi_and_loc_file)*0.9)\n",
    "X_val = X[val_limit:, :]\n",
    "y_val = y[val_limit:]\n",
    "X = X[:val_limit, :]\n",
    "y = y[:val_limit]\n",
    "X_train, X_test, y_train, y_test = train_test_split(X, y, test_size = 0.2, random_state = 0)\n",
    "X_train.shape, X_test.shape, X_val.shape, y_train.shape, y_test.shape, y_val.shape"
   ]
  },
  {
   "cell_type": "code",
   "execution_count": 256,
   "id": "808e9f31",
   "metadata": {},
   "outputs": [
    {
     "name": "stdout",
     "output_type": "stream",
     "text": [
      "[[ -65.  -53.  -53. ... -100. -100. -100.]\n",
      " [ -60.  -49.  -49. ... -100. -100. -100.]\n",
      " [ -56.  -61.  -61. ... -100. -100. -100.]\n",
      " ...\n",
      " [ -85.  -81.  -80. ... -100. -100. -100.]\n",
      " [ -70.  -66.  -66. ... -100. -100. -100.]\n",
      " [ -77.  -80.  -80. ... -100. -100. -100.]]\n",
      "X_train number of values:  381\n"
     ]
    }
   ],
   "source": [
    "print(X_train)\n",
    "print('X_train number of values: ', len(X_train))"
   ]
  },
  {
   "cell_type": "markdown",
   "id": "586bc5cd",
   "metadata": {},
   "source": [
    "## 3.3. Features scaling"
   ]
  },
  {
   "cell_type": "code",
   "execution_count": 257,
   "id": "7cfcb4a5",
   "metadata": {},
   "outputs": [],
   "source": [
    "sc = StandardScaler()\n",
    "X_train = sc.fit_transform(X_train)\n",
    "X_test = sc.transform(X_test) "
   ]
  },
  {
   "cell_type": "code",
   "execution_count": 258,
   "id": "f7de9f0c",
   "metadata": {},
   "outputs": [
    {
     "data": {
      "text/plain": [
       "(381, 41)"
      ]
     },
     "execution_count": 258,
     "metadata": {},
     "output_type": "execute_result"
    }
   ],
   "source": [
    "X_train.shape"
   ]
  },
  {
   "cell_type": "code",
   "execution_count": 259,
   "id": "4d5818fa",
   "metadata": {},
   "outputs": [
    {
     "data": {
      "text/plain": [
       "(381,)"
      ]
     },
     "execution_count": 259,
     "metadata": {},
     "output_type": "execute_result"
    }
   ],
   "source": [
    "y_train.shape"
   ]
  },
  {
   "cell_type": "markdown",
   "id": "3ef0b98e",
   "metadata": {},
   "source": [
    "# 4. Building the first DNN model"
   ]
  },
  {
   "cell_type": "markdown",
   "id": "555b7dcc",
   "metadata": {},
   "source": [
    "### 4.1. Initializing the NN"
   ]
  },
  {
   "cell_type": "code",
   "execution_count": 260,
   "id": "65ab4df2",
   "metadata": {},
   "outputs": [],
   "source": [
    "nn = Sequential()"
   ]
  },
  {
   "cell_type": "markdown",
   "id": "2d1910a2",
   "metadata": {},
   "source": [
    "### 4.2. Adding the input layer and the first hidden layer"
   ]
  },
  {
   "cell_type": "code",
   "execution_count": 261,
   "id": "7abd5249",
   "metadata": {},
   "outputs": [],
   "source": [
    "# Adding a fully-connected layer (it automatically create the input layer)\n",
    "# num of neurons = num of features (41 APs)\n",
    "input_size = 41\n",
    "nn.add(Dense(input_dim=input_size, units=256, activation='relu'))"
   ]
  },
  {
   "cell_type": "markdown",
   "id": "4032c075",
   "metadata": {},
   "source": [
    "### 4.3. Adding the second layer"
   ]
  },
  {
   "cell_type": "code",
   "execution_count": 262,
   "id": "d5b2a3ad",
   "metadata": {},
   "outputs": [],
   "source": [
    "# Adding a layer with 128 neurons\n",
    "nn.add(Dense(units=128, activation='relu'))"
   ]
  },
  {
   "cell_type": "markdown",
   "id": "e54f9c21",
   "metadata": {},
   "source": [
    "### 4.4. Adding the output layer"
   ]
  },
  {
   "cell_type": "code",
   "execution_count": 263,
   "id": "9210f43e",
   "metadata": {},
   "outputs": [],
   "source": [
    "# sotmax for > 2 categories\n",
    "classes = 4 # number of rooms\n",
    "nn.add(Dense(units=classes, activation='softmax'))"
   ]
  },
  {
   "cell_type": "markdown",
   "id": "1d652f03",
   "metadata": {},
   "source": [
    "# 5. Training the DNN"
   ]
  },
  {
   "cell_type": "markdown",
   "id": "002eb615",
   "metadata": {},
   "source": [
    "### 5.1. Compiling the DNN"
   ]
  },
  {
   "cell_type": "code",
   "execution_count": 264,
   "id": "f5f2ad95",
   "metadata": {},
   "outputs": [],
   "source": [
    "# Optimizer = Adam ==> Stochastic Gradient Descent\n",
    "nn.compile(optimizer = 'adam',\n",
    "           loss = 'sparse_categorical_crossentropy',\n",
    "           metrics = ['accuracy'])"
   ]
  },
  {
   "cell_type": "markdown",
   "id": "0a8b236d",
   "metadata": {},
   "source": [
    "### 5.2. Training the NN on the Training set"
   ]
  },
  {
   "cell_type": "code",
   "execution_count": 305,
   "id": "561d4cde",
   "metadata": {},
   "outputs": [
    {
     "name": "stdout",
     "output_type": "stream",
     "text": [
      "Epoch 1/30\n",
      "12/12 [==============================] - 0s 3ms/step - loss: 0.0341 - accuracy: 0.9843\n",
      "Epoch 2/30\n",
      "12/12 [==============================] - 0s 3ms/step - loss: 0.0336 - accuracy: 0.9843\n",
      "Epoch 3/30\n",
      "12/12 [==============================] - 0s 2ms/step - loss: 0.0315 - accuracy: 0.9869\n",
      "Epoch 4/30\n",
      "12/12 [==============================] - 0s 2ms/step - loss: 0.0351 - accuracy: 0.9816\n",
      "Epoch 5/30\n",
      "12/12 [==============================] - 0s 2ms/step - loss: 0.0329 - accuracy: 0.9816\n",
      "Epoch 6/30\n",
      "12/12 [==============================] - 0s 2ms/step - loss: 0.0307 - accuracy: 0.9764\n",
      "Epoch 7/30\n",
      "12/12 [==============================] - 0s 2ms/step - loss: 0.0273 - accuracy: 0.9869\n",
      "Epoch 8/30\n",
      "12/12 [==============================] - 0s 2ms/step - loss: 0.0365 - accuracy: 0.9816\n",
      "Epoch 9/30\n",
      "12/12 [==============================] - 0s 2ms/step - loss: 0.0373 - accuracy: 0.9869\n",
      "Epoch 10/30\n",
      "12/12 [==============================] - 0s 3ms/step - loss: 0.0321 - accuracy: 0.9843\n",
      "Epoch 11/30\n",
      "12/12 [==============================] - 0s 3ms/step - loss: 0.0321 - accuracy: 0.9843\n",
      "Epoch 12/30\n",
      "12/12 [==============================] - 0s 3ms/step - loss: 0.0364 - accuracy: 0.9790\n",
      "Epoch 13/30\n",
      "12/12 [==============================] - 0s 2ms/step - loss: 0.0286 - accuracy: 0.9895\n",
      "Epoch 14/30\n",
      "12/12 [==============================] - 0s 3ms/step - loss: 0.0286 - accuracy: 0.9869\n",
      "Epoch 15/30\n",
      "12/12 [==============================] - 0s 2ms/step - loss: 0.0287 - accuracy: 0.9869\n",
      "Epoch 16/30\n",
      "12/12 [==============================] - 0s 2ms/step - loss: 0.0299 - accuracy: 0.9869\n",
      "Epoch 17/30\n",
      "12/12 [==============================] - 0s 2ms/step - loss: 0.0300 - accuracy: 0.9816\n",
      "Epoch 18/30\n",
      "12/12 [==============================] - 0s 3ms/step - loss: 0.0280 - accuracy: 0.9843\n",
      "Epoch 19/30\n",
      "12/12 [==============================] - 0s 2ms/step - loss: 0.0263 - accuracy: 0.9843\n",
      "Epoch 20/30\n",
      "12/12 [==============================] - 0s 2ms/step - loss: 0.0282 - accuracy: 0.9843\n",
      "Epoch 21/30\n",
      "12/12 [==============================] - 0s 2ms/step - loss: 0.0302 - accuracy: 0.9843\n",
      "Epoch 22/30\n",
      "12/12 [==============================] - 0s 2ms/step - loss: 0.0276 - accuracy: 0.9816\n",
      "Epoch 23/30\n",
      "12/12 [==============================] - 0s 2ms/step - loss: 0.0255 - accuracy: 0.9895\n",
      "Epoch 24/30\n",
      "12/12 [==============================] - 0s 3ms/step - loss: 0.0314 - accuracy: 0.9790\n",
      "Epoch 25/30\n",
      "12/12 [==============================] - 0s 2ms/step - loss: 0.0257 - accuracy: 0.9843\n",
      "Epoch 26/30\n",
      "12/12 [==============================] - 0s 3ms/step - loss: 0.0238 - accuracy: 0.9895\n",
      "Epoch 27/30\n",
      "12/12 [==============================] - 0s 3ms/step - loss: 0.0256 - accuracy: 0.9869\n",
      "Epoch 28/30\n",
      "12/12 [==============================] - 0s 3ms/step - loss: 0.0224 - accuracy: 0.9895\n",
      "Epoch 29/30\n",
      "12/12 [==============================] - 0s 3ms/step - loss: 0.0326 - accuracy: 0.9790\n",
      "Epoch 30/30\n",
      "12/12 [==============================] - 0s 3ms/step - loss: 0.0235 - accuracy: 0.9869\n"
     ]
    },
    {
     "data": {
      "text/plain": [
       "<keras.callbacks.History at 0x1ce6b89a2b0>"
      ]
     },
     "execution_count": 305,
     "metadata": {},
     "output_type": "execute_result"
    }
   ],
   "source": [
    "nn.fit(X_train, y_train, batch_size=32, epochs=30)"
   ]
  },
  {
   "cell_type": "markdown",
   "id": "1ffa4e88",
   "metadata": {},
   "source": [
    "# 6. Making predictions and evaluating the model"
   ]
  },
  {
   "cell_type": "markdown",
   "id": "83f5652b",
   "metadata": {},
   "source": [
    "### 6.1. Predicting the test results"
   ]
  },
  {
   "cell_type": "code",
   "execution_count": 266,
   "id": "61e19364",
   "metadata": {},
   "outputs": [
    {
     "name": "stdout",
     "output_type": "stream",
     "text": [
      "3/3 [==============================] - 0s 2ms/step\n"
     ]
    }
   ],
   "source": [
    "y_pred = nn.predict(X_test)"
   ]
  },
  {
   "cell_type": "code",
   "execution_count": 267,
   "id": "e6452606",
   "metadata": {
    "scrolled": true
   },
   "outputs": [
    {
     "data": {
      "text/plain": [
       "array([[6.03058993e-07, 9.99996185e-01, 3.05572439e-06, 1.26565084e-07],\n",
       "       [6.13288535e-03, 9.93396759e-01, 4.70123283e-04, 2.45713892e-07],\n",
       "       [1.20278895e-12, 6.42761297e-05, 9.99935746e-01, 5.11967191e-10],\n",
       "       [5.57356202e-07, 1.03785525e-04, 6.85585064e-06, 9.99888778e-01],\n",
       "       [1.12756283e-03, 5.37125349e-01, 4.61339533e-01, 4.07572748e-04],\n",
       "       [3.73503930e-08, 1.00000000e+00, 4.42952341e-09, 1.64289448e-12],\n",
       "       [1.14392662e-09, 5.53078962e-07, 4.09479526e-08, 9.99999404e-01],\n",
       "       [5.77809078e-05, 1.90262180e-02, 9.80915308e-01, 7.53346342e-07],\n",
       "       [4.82448627e-07, 1.15725952e-05, 1.95691013e-04, 9.99792278e-01],\n",
       "       [7.34434889e-06, 1.92352163e-05, 9.99903321e-01, 7.00723540e-05],\n",
       "       [9.98347521e-01, 1.60487997e-03, 4.66224301e-05, 9.15107194e-07],\n",
       "       [2.26597531e-05, 9.99976516e-01, 8.00388477e-07, 5.55363588e-10],\n",
       "       [9.98889267e-01, 5.24284958e-04, 5.85952657e-04, 5.18145669e-07],\n",
       "       [4.53585500e-07, 9.99989390e-01, 9.79265042e-06, 4.01650624e-07],\n",
       "       [5.66020708e-06, 1.35262517e-05, 9.99407172e-01, 5.73554484e-04],\n",
       "       [6.40430881e-05, 9.99920726e-01, 1.48073784e-08, 1.52596313e-05],\n",
       "       [5.71202197e-10, 4.12376664e-07, 4.91600272e-09, 9.99999642e-01],\n",
       "       [1.76937538e-04, 2.56828452e-03, 9.97254789e-01, 9.25252692e-08],\n",
       "       [9.91618097e-01, 8.28161743e-03, 4.60651172e-05, 5.42472299e-05],\n",
       "       [2.01964667e-06, 7.60815192e-06, 2.62576528e-03, 9.97364581e-01],\n",
       "       [8.81098568e-01, 1.18232526e-01, 4.45065205e-04, 2.23946568e-04],\n",
       "       [1.55444519e-04, 3.58791789e-04, 9.75708961e-01, 2.37769037e-02],\n",
       "       [2.63119915e-07, 9.98050451e-01, 1.94924569e-03, 1.06966560e-08],\n",
       "       [1.48085732e-07, 9.80023644e-04, 6.56012571e-06, 9.99013305e-01],\n",
       "       [9.03424916e-06, 1.05934349e-04, 7.12527335e-01, 2.87357688e-01],\n",
       "       [8.34808452e-06, 1.55319969e-04, 9.99754012e-01, 8.22812872e-05],\n",
       "       [2.70117152e-06, 9.99997139e-01, 1.47193361e-07, 3.65772514e-08],\n",
       "       [1.47234270e-04, 5.33335656e-02, 9.46519017e-01, 1.92387759e-07],\n",
       "       [5.53803798e-03, 9.94459748e-01, 1.77991228e-06, 4.92324148e-07],\n",
       "       [2.93908684e-08, 9.98409569e-01, 1.59034133e-03, 6.16963618e-08],\n",
       "       [9.96608853e-01, 3.39065492e-03, 4.28692857e-07, 3.73466724e-09],\n",
       "       [8.31836741e-03, 9.87430274e-01, 4.25052503e-03, 8.19222919e-07],\n",
       "       [3.50012670e-06, 9.99996543e-01, 2.16659068e-09, 4.97490582e-08],\n",
       "       [2.55007876e-06, 1.94602653e-05, 9.91430581e-01, 8.54733307e-03],\n",
       "       [6.62942621e-05, 4.64681070e-05, 9.99779999e-01, 1.07254076e-04],\n",
       "       [2.76651735e-06, 9.25297172e-06, 2.39902688e-03, 9.97588992e-01],\n",
       "       [7.72300071e-11, 4.17774331e-08, 1.00000000e+00, 1.15465149e-08],\n",
       "       [5.47974277e-03, 9.88413632e-01, 6.10601576e-03, 5.31277749e-07],\n",
       "       [6.92982925e-03, 9.79145169e-01, 1.39245493e-02, 4.89646027e-07],\n",
       "       [2.28846216e-06, 4.48871742e-06, 1.03634298e-02, 9.89629805e-01],\n",
       "       [8.29659111e-05, 9.99915719e-01, 7.93269862e-07, 4.45029883e-07],\n",
       "       [4.48518193e-07, 6.89828937e-07, 9.99737442e-01, 2.61409994e-04],\n",
       "       [2.20205518e-04, 9.98977900e-01, 8.01888702e-04, 2.84499624e-09],\n",
       "       [2.62800228e-07, 9.79767628e-06, 4.36257824e-06, 9.99985576e-01],\n",
       "       [2.07951666e-06, 7.36109587e-06, 6.03589974e-03, 9.93954718e-01],\n",
       "       [9.97648299e-01, 5.02482617e-05, 2.30122893e-03, 1.58789987e-07],\n",
       "       [4.81964761e-08, 3.06036441e-07, 9.66449976e-01, 3.35497074e-02],\n",
       "       [6.28588605e-04, 9.98186409e-01, 1.18498341e-03, 1.13599237e-08],\n",
       "       [1.37836036e-08, 9.93394554e-01, 6.60547335e-03, 3.05672003e-08],\n",
       "       [6.55045724e-08, 2.03206446e-06, 8.62071320e-05, 9.99911666e-01],\n",
       "       [4.58064420e-07, 1.28255515e-05, 3.52479108e-02, 9.64738727e-01],\n",
       "       [1.84432398e-08, 9.99999046e-01, 8.26974258e-07, 1.09099354e-07],\n",
       "       [3.12390895e-08, 4.43465694e-07, 9.99999523e-01, 4.30790728e-08],\n",
       "       [2.61573750e-05, 9.99968290e-01, 3.32537482e-08, 5.53038308e-06],\n",
       "       [4.58878494e-04, 9.72861111e-01, 2.66799182e-02, 8.20379213e-08],\n",
       "       [1.16395741e-03, 6.18211401e-04, 7.62974024e-01, 2.35243842e-01],\n",
       "       [2.03103446e-06, 3.69556051e-06, 7.68388761e-03, 9.92310405e-01],\n",
       "       [9.98040020e-01, 1.93499913e-03, 1.73024291e-05, 7.69937560e-06],\n",
       "       [3.24736116e-03, 9.96751547e-01, 3.76685350e-09, 1.05342508e-06],\n",
       "       [2.76738192e-05, 3.98915545e-05, 9.20879483e-01, 7.90529624e-02],\n",
       "       [5.18740118e-09, 1.15389106e-04, 5.93284588e-10, 9.99884605e-01],\n",
       "       [1.33711764e-09, 4.58919931e-06, 1.15839138e-09, 9.99995470e-01],\n",
       "       [4.30921209e-05, 9.99835372e-01, 1.21399848e-04, 7.48144160e-08],\n",
       "       [1.46525094e-08, 7.24135461e-05, 6.66470124e-09, 9.99927640e-01],\n",
       "       [1.08305915e-06, 1.38724272e-05, 1.56122580e-04, 9.99828935e-01],\n",
       "       [5.14875026e-03, 9.94849861e-01, 6.64558542e-08, 1.34214895e-06],\n",
       "       [9.99870658e-01, 5.30269645e-05, 7.62165218e-05, 1.05203917e-07],\n",
       "       [2.08758081e-07, 9.15883902e-06, 9.13923919e-01, 8.60666707e-02],\n",
       "       [8.81051437e-06, 2.84232538e-05, 9.99830008e-01, 1.32732996e-04],\n",
       "       [2.31079198e-03, 9.97688770e-01, 3.62359103e-08, 3.13554551e-07],\n",
       "       [2.49868208e-07, 3.07704909e-06, 9.99982119e-01, 1.45471477e-05],\n",
       "       [4.23383790e-06, 9.77257878e-06, 4.12159273e-03, 9.95864391e-01],\n",
       "       [2.03453765e-05, 3.81678183e-05, 9.94371355e-01, 5.57008199e-03],\n",
       "       [4.44144206e-08, 1.28889735e-06, 1.29751197e-06, 9.99997377e-01],\n",
       "       [6.10678107e-05, 7.18338924e-05, 9.99723256e-01, 1.43875310e-04],\n",
       "       [1.17457115e-04, 4.00491699e-04, 9.96286869e-01, 3.19512910e-03],\n",
       "       [3.52579009e-05, 1.91252620e-04, 9.98459101e-01, 1.31445448e-03],\n",
       "       [3.90433997e-01, 6.04448080e-01, 3.70702660e-03, 1.41091458e-03],\n",
       "       [1.84713110e-06, 2.43189221e-04, 9.99752820e-01, 2.17011848e-06],\n",
       "       [8.11053980e-09, 3.56337682e-06, 1.39053111e-06, 9.99994993e-01],\n",
       "       [9.99955654e-01, 4.32583947e-05, 1.04439255e-06, 1.58322884e-08],\n",
       "       [5.77496417e-23, 1.55593980e-07, 9.99999881e-01, 4.27132675e-20],\n",
       "       [1.43032215e-04, 9.99483466e-01, 3.73451010e-04, 1.34521783e-09],\n",
       "       [2.21195819e-06, 5.38105996e-05, 1.88833237e-01, 8.11110675e-01],\n",
       "       [2.02325082e-05, 6.92885777e-04, 9.99285877e-01, 1.01945079e-06],\n",
       "       [1.10811088e-03, 4.60262294e-04, 9.98429954e-01, 1.66460757e-06],\n",
       "       [3.52360736e-08, 2.44652142e-07, 9.73749220e-01, 2.62505412e-02],\n",
       "       [9.05212758e-08, 9.98958111e-01, 1.04171177e-03, 1.23842540e-07],\n",
       "       [4.10660742e-12, 1.00000000e+00, 8.49200744e-12, 7.87418702e-17],\n",
       "       [1.86997961e-04, 9.99812782e-01, 4.55577194e-08, 2.82989959e-07],\n",
       "       [2.32523249e-07, 9.99996305e-01, 3.33559115e-06, 6.13549389e-08],\n",
       "       [2.58135353e-11, 9.05450634e-07, 3.93878766e-12, 9.99999046e-01],\n",
       "       [9.78369474e-09, 1.76409424e-06, 1.88949673e-06, 9.99996305e-01],\n",
       "       [4.20823835e-06, 7.95019514e-06, 9.99987841e-01, 8.26080253e-08],\n",
       "       [4.30373548e-05, 4.38946481e-05, 8.83094549e-01, 1.16818465e-01],\n",
       "       [1.62639153e-05, 1.11095156e-04, 9.99250710e-01, 6.21861953e-04]],\n",
       "      dtype=float32)"
      ]
     },
     "execution_count": 267,
     "metadata": {},
     "output_type": "execute_result"
    }
   ],
   "source": [
    "y_pred"
   ]
  },
  {
   "cell_type": "code",
   "execution_count": 268,
   "id": "b1deea7d",
   "metadata": {},
   "outputs": [
    {
     "data": {
      "text/plain": [
       "(96, 4)"
      ]
     },
     "execution_count": 268,
     "metadata": {},
     "output_type": "execute_result"
    }
   ],
   "source": [
    "y_pred.shape"
   ]
  },
  {
   "cell_type": "markdown",
   "id": "9f6692af",
   "metadata": {},
   "source": [
    "#### 6.1.1. Transforming the encoded data back to room number"
   ]
  },
  {
   "cell_type": "code",
   "execution_count": 309,
   "id": "66479c52",
   "metadata": {},
   "outputs": [],
   "source": [
    "# tf argmax returns the index of the largest value in the tensor\n",
    "room_pred = tf.argmax(y_pred, axis=1)\n",
    "# This connects to keras backend -- why is here though?\n",
    "# room_pred = tf.keras.backend.eval(room_pred)\n",
    "# print(room_pred)"
   ]
  },
  {
   "cell_type": "code",
   "execution_count": 310,
   "id": "32f9f30c",
   "metadata": {},
   "outputs": [
    {
     "data": {
      "text/plain": [
       "<tf.Tensor: shape=(96,), dtype=int64, numpy=\n",
       "array([1, 1, 2, 3, 1, 1, 3, 2, 3, 2, 0, 1, 0, 1, 2, 1, 3, 2, 0, 3, 0, 2,\n",
       "       1, 3, 2, 2, 1, 2, 1, 1, 0, 1, 1, 2, 2, 3, 2, 1, 1, 3, 1, 2, 1, 3,\n",
       "       3, 0, 2, 1, 1, 3, 3, 1, 2, 1, 1, 2, 3, 0, 1, 2, 3, 3, 1, 3, 3, 1,\n",
       "       0, 2, 2, 1, 2, 3, 2, 3, 2, 2, 2, 1, 2, 3, 0, 2, 1, 3, 2, 2, 2, 1,\n",
       "       1, 1, 1, 3, 3, 2, 2, 2], dtype=int64)>"
      ]
     },
     "execution_count": 310,
     "metadata": {},
     "output_type": "execute_result"
    }
   ],
   "source": [
    "room_pred"
   ]
  },
  {
   "cell_type": "markdown",
   "id": "7bc14644",
   "metadata": {},
   "source": [
    "### 6.2. Making the confusion matrix and calculating Accuracy "
   ]
  },
  {
   "cell_type": "code",
   "execution_count": 311,
   "id": "b53e8fc6",
   "metadata": {},
   "outputs": [
    {
     "name": "stdout",
     "output_type": "stream",
     "text": [
      "[[ 9  1  0  0]\n",
      " [ 0 30  0  0]\n",
      " [ 0  1 31  1]\n",
      " [ 0  0  1 22]]\n",
      "Accuracy:  0.9583333333333334\n"
     ]
    }
   ],
   "source": [
    "cm = confusion_matrix(y_test, room_pred)\n",
    "print(cm)\n",
    "accuracy = accuracy_score(y_test, room_pred)\n",
    "print('Accuracy: ', accuracy)"
   ]
  },
  {
   "cell_type": "code",
   "execution_count": 272,
   "id": "dc6ec78c",
   "metadata": {},
   "outputs": [
    {
     "name": "stdout",
     "output_type": "stream",
     "text": [
      "              precision    recall  f1-score   support\n",
      "\n",
      "         0.0       1.00      0.90      0.95        10\n",
      "         1.0       0.94      1.00      0.97        30\n",
      "         2.0       0.97      0.94      0.95        33\n",
      "         3.0       0.96      0.96      0.96        23\n",
      "\n",
      "    accuracy                           0.96        96\n",
      "   macro avg       0.97      0.95      0.96        96\n",
      "weighted avg       0.96      0.96      0.96        96\n",
      "\n"
     ]
    }
   ],
   "source": [
    "print(classification_report(y_test, room_pred))"
   ]
  },
  {
   "cell_type": "markdown",
   "id": "3b587bf0",
   "metadata": {},
   "source": [
    "### TODO : 6.3. Predicting with the Validation set"
   ]
  },
  {
   "cell_type": "code",
   "execution_count": 276,
   "id": "d1cc7085",
   "metadata": {},
   "outputs": [],
   "source": [
    "X_val = sc.fit_transform(X_val)"
   ]
  },
  {
   "cell_type": "code",
   "execution_count": 277,
   "id": "b0c58c5f",
   "metadata": {},
   "outputs": [
    {
     "name": "stdout",
     "output_type": "stream",
     "text": [
      "2/2 [==============================] - 0s 3ms/step\n"
     ]
    },
    {
     "data": {
      "text/plain": [
       "array([[2.35828850e-07, 6.74575858e-07, 9.99955177e-01, 4.39591240e-05],\n",
       "       [3.86810797e-07, 3.38004747e-06, 9.99465287e-01, 5.30958059e-04],\n",
       "       [8.23764097e-08, 3.04659210e-07, 9.99242187e-01, 7.57398782e-04],\n",
       "       [6.51061009e-06, 1.51304757e-05, 9.99730289e-01, 2.48043740e-04],\n",
       "       [1.48171440e-11, 2.74837873e-07, 9.99999762e-01, 3.95038890e-10],\n",
       "       [1.60463169e-05, 1.85245604e-04, 9.98320282e-01, 1.47834141e-03],\n",
       "       [1.24401492e-06, 7.43087139e-06, 9.99682903e-01, 3.08512739e-04],\n",
       "       [6.35563047e-05, 1.17112452e-03, 7.74915159e-01, 2.23850086e-01],\n",
       "       [6.35563047e-05, 1.17112452e-03, 7.74915159e-01, 2.23850086e-01],\n",
       "       [8.34926395e-05, 1.61084157e-04, 6.87219948e-02, 9.31033492e-01],\n",
       "       [6.69073279e-06, 2.22807706e-04, 1.24175777e-03, 9.98528719e-01],\n",
       "       [7.26383587e-05, 2.06441575e-04, 1.55318333e-02, 9.84188974e-01],\n",
       "       [1.04491517e-06, 1.96267036e-04, 6.62913772e-06, 9.99796093e-01],\n",
       "       [7.98808924e-06, 4.40384895e-01, 2.63342372e-06, 5.59604466e-01],\n",
       "       [1.76630224e-10, 3.82861726e-05, 1.21324244e-11, 9.99961734e-01],\n",
       "       [3.35699681e-08, 1.47255685e-03, 2.10882711e-09, 9.98527408e-01],\n",
       "       [1.48568256e-06, 3.15274373e-02, 2.73110869e-04, 9.68198001e-01],\n",
       "       [6.37369681e-07, 1.89399570e-02, 2.32319124e-08, 9.81059372e-01],\n",
       "       [2.25139709e-04, 6.20086677e-02, 5.11655526e-04, 9.37254608e-01],\n",
       "       [2.37604723e-07, 6.20812876e-04, 1.77504571e-08, 9.99378920e-01],\n",
       "       [4.36060446e-07, 5.58196516e-05, 1.24935696e-05, 9.99931335e-01],\n",
       "       [5.45605246e-07, 3.73711991e-05, 2.64273763e-06, 9.99959350e-01],\n",
       "       [2.83781301e-05, 2.14748224e-03, 3.83503393e-05, 9.97785807e-01],\n",
       "       [2.11519750e-06, 1.00712910e-04, 4.93124435e-06, 9.99892235e-01],\n",
       "       [2.11519750e-06, 1.00712910e-04, 4.93124435e-06, 9.99892235e-01],\n",
       "       [1.01692174e-04, 8.98218423e-04, 1.03537790e-01, 8.95462334e-01],\n",
       "       [1.84954857e-04, 4.40972508e-04, 2.10342426e-02, 9.78339851e-01],\n",
       "       [1.84954857e-04, 4.40972508e-04, 2.10342426e-02, 9.78339851e-01],\n",
       "       [1.98568436e-04, 5.59121778e-04, 4.72842529e-02, 9.51958060e-01],\n",
       "       [1.98568436e-04, 5.59121778e-04, 4.72842529e-02, 9.51958060e-01],\n",
       "       [1.10187402e-05, 3.79939775e-05, 9.99717295e-01, 2.33763465e-04],\n",
       "       [2.24205723e-05, 8.97491991e-05, 9.99790609e-01, 9.72423077e-05],\n",
       "       [7.68428663e-07, 8.57930718e-06, 9.99988914e-01, 1.79613858e-06],\n",
       "       [1.89309067e-05, 2.78888881e-04, 9.99619603e-01, 8.25271854e-05],\n",
       "       [6.31712610e-05, 6.86092360e-04, 9.99151945e-01, 9.87841049e-05],\n",
       "       [5.08850208e-05, 4.25916136e-04, 9.99506593e-01, 1.65708825e-05],\n",
       "       [1.73967681e-04, 2.31616388e-04, 9.99572814e-01, 2.15561322e-05],\n",
       "       [1.73967681e-04, 2.31616388e-04, 9.99572814e-01, 2.15561322e-05],\n",
       "       [1.03635412e-05, 5.07165038e-04, 9.99482393e-01, 9.16248410e-08],\n",
       "       [7.26930564e-03, 8.39377195e-03, 9.84336495e-01, 4.00628352e-07],\n",
       "       [1.84097886e-02, 7.21248031e-01, 2.60342181e-01, 1.55266697e-08],\n",
       "       [4.51301635e-11, 1.00000000e+00, 5.99378064e-14, 1.98540051e-13],\n",
       "       [2.21722095e-13, 1.31256267e-04, 9.99868751e-01, 1.24412064e-13],\n",
       "       [3.55148851e-03, 8.36209595e-01, 1.60238892e-01, 1.14016920e-08],\n",
       "       [2.60628807e-09, 1.00000000e+00, 3.14200423e-12, 3.97063621e-13],\n",
       "       [1.11113401e-07, 9.99999881e-01, 4.11883277e-10, 8.19326898e-12],\n",
       "       [8.77166050e-04, 9.99122798e-01, 4.50722619e-11, 3.68384628e-10],\n",
       "       [8.19126725e-01, 1.80864066e-01, 7.67939309e-06, 1.43947898e-06],\n",
       "       [9.99203980e-01, 7.95883418e-04, 6.18180422e-08, 2.56504791e-08],\n",
       "       [9.99815047e-01, 1.84835822e-04, 1.70418204e-07, 2.15308091e-10],\n",
       "       [9.99850512e-01, 1.49428481e-04, 2.28423946e-09, 1.34827524e-10],\n",
       "       [8.85126173e-01, 1.14872448e-01, 1.29446687e-06, 8.67145999e-08],\n",
       "       [8.85126173e-01, 1.14872448e-01, 1.29446687e-06, 8.67145999e-08]],\n",
       "      dtype=float32)"
      ]
     },
     "execution_count": 277,
     "metadata": {},
     "output_type": "execute_result"
    }
   ],
   "source": [
    "y_pred_val = nn.predict(X_val)\n",
    "y_pred_val"
   ]
  },
  {
   "cell_type": "code",
   "execution_count": 278,
   "id": "f4ac79d0",
   "metadata": {},
   "outputs": [
    {
     "data": {
      "text/plain": [
       "(53, 4)"
      ]
     },
     "execution_count": 278,
     "metadata": {},
     "output_type": "execute_result"
    }
   ],
   "source": [
    "y_pred_val.shape"
   ]
  },
  {
   "cell_type": "code",
   "execution_count": 316,
   "id": "a049df44",
   "metadata": {},
   "outputs": [],
   "source": [
    "room_pred_val = tf.argmax(y_pred_val, axis=1)\n",
    "room_pred_val = tf.keras.backend.eval(room_pred_val)"
   ]
  },
  {
   "cell_type": "code",
   "execution_count": 317,
   "id": "bc48c9f7",
   "metadata": {},
   "outputs": [
    {
     "data": {
      "text/plain": [
       "array([2, 2, 2, 2, 2, 2, 2, 2, 2, 3, 3, 3, 3, 3, 3, 3, 3, 3, 3, 3, 3, 3,\n",
       "       3, 3, 3, 3, 3, 3, 3, 3, 2, 2, 2, 2, 2, 2, 2, 2, 2, 2, 1, 1, 2, 1,\n",
       "       1, 1, 1, 0, 0, 0, 0, 0, 0], dtype=int64)"
      ]
     },
     "execution_count": 317,
     "metadata": {},
     "output_type": "execute_result"
    }
   ],
   "source": [
    "room_pred_val"
   ]
  },
  {
   "cell_type": "code",
   "execution_count": 281,
   "id": "8e3c013e",
   "metadata": {},
   "outputs": [
    {
     "name": "stdout",
     "output_type": "stream",
     "text": [
      "[[ 6  0  0  0]\n",
      " [ 0  3  0  0]\n",
      " [ 0  3 19  0]\n",
      " [ 0  0  1 21]]\n",
      "Accuracy:  0.9245283018867925\n"
     ]
    }
   ],
   "source": [
    "cm = confusion_matrix(y_val, room_pred_val)\n",
    "print(cm)\n",
    "accuracy = accuracy_score(y_val, room_pred_val)\n",
    "print('Accuracy: ', accuracy)"
   ]
  },
  {
   "cell_type": "code",
   "execution_count": 282,
   "id": "9effb1b0",
   "metadata": {},
   "outputs": [
    {
     "name": "stdout",
     "output_type": "stream",
     "text": [
      "              precision    recall  f1-score   support\n",
      "\n",
      "         0.0       1.00      1.00      1.00         6\n",
      "         1.0       0.50      1.00      0.67         3\n",
      "         2.0       0.95      0.86      0.90        22\n",
      "         3.0       1.00      0.95      0.98        22\n",
      "\n",
      "    accuracy                           0.92        53\n",
      "   macro avg       0.86      0.95      0.89        53\n",
      "weighted avg       0.95      0.92      0.93        53\n",
      "\n"
     ]
    }
   ],
   "source": [
    "print(classification_report(y_val, room_pred_val))"
   ]
  },
  {
   "cell_type": "markdown",
   "id": "5cf387b7",
   "metadata": {},
   "source": [
    "## 7. Building the KNN regressor"
   ]
  },
  {
   "cell_type": "markdown",
   "id": "e711acfd",
   "metadata": {},
   "source": [
    "### 7.1. Creating the second training dataset"
   ]
  },
  {
   "cell_type": "markdown",
   "id": "46a4ef91",
   "metadata": {},
   "source": [
    "#### 7.1.1. Selecting the cluster to which out values correspond to (the room)"
   ]
  },
  {
   "cell_type": "code",
   "execution_count": 283,
   "id": "27fb2863",
   "metadata": {},
   "outputs": [],
   "source": [
    "room = 2\n",
    "# floor = floor_pred_valid[0] # TODO: verify how can we change this so it gets the room by default\n",
    "mask = df_wifi_and_loc_file['room'] == room"
   ]
  },
  {
   "cell_type": "code",
   "execution_count": 288,
   "id": "71efaf3c",
   "metadata": {
    "scrolled": true
   },
   "outputs": [
    {
     "data": {
      "text/plain": [
       "(12:16:16:00    2.0\n",
       " 12:16:17:00    2.0\n",
       " 12:16:18:00    2.0\n",
       " 12:16:19:00    2.0\n",
       " 12:16:20:00    2.0\n",
       "               ... \n",
       " 19:09:11:00    2.0\n",
       " 19:09:12:00    2.0\n",
       " 19:09:13:00    2.0\n",
       " 19:09:14:00    2.0\n",
       " 19:09:15:00    2.0\n",
       " Name: room, Length: 188, dtype: float64,\n",
       "              32:cd:a7:a0:6d:d8  84:b2:61:56:8a:01  84:b2:61:56:8a:02  \\\n",
       " 12:16:16:00              -72.0              -64.0              -64.0   \n",
       " 12:16:17:00              -74.0              -59.0              -63.0   \n",
       " 12:16:18:00              -76.0              -65.0              -66.0   \n",
       " 12:16:19:00              -77.0              -74.0              -74.0   \n",
       " 12:16:20:00              -76.0              -73.0              -73.0   \n",
       " ...                        ...                ...                ...   \n",
       " 19:09:11:00              -64.0              -49.0              -49.0   \n",
       " 19:09:12:00              -63.0              -39.0              -39.0   \n",
       " 19:09:13:00              -59.0              -41.0              -42.0   \n",
       " 19:09:14:00              -57.0              -49.0              -49.0   \n",
       " 19:09:15:00              -53.0              -42.0              -42.0   \n",
       " \n",
       "              84:b2:61:56:8a:00  84:b2:61:6d:3d:22  84:b2:61:6d:3d:21  \\\n",
       " 12:16:16:00              -64.0              -91.0              -92.0   \n",
       " 12:16:17:00              -59.0              -88.0              -88.0   \n",
       " 12:16:18:00              -65.0              -91.0              -89.0   \n",
       " 12:16:19:00              -75.0              -88.0              -88.0   \n",
       " 12:16:20:00              -73.0              -92.0              -92.0   \n",
       " ...                        ...                ...                ...   \n",
       " 19:09:11:00              -49.0              -82.0              -81.0   \n",
       " 19:09:12:00              -39.0              -73.0              -73.0   \n",
       " 19:09:13:00              -42.0             -100.0             -100.0   \n",
       " 19:09:14:00              -49.0              -62.0              -63.0   \n",
       " 19:09:15:00              -42.0              -64.0              -65.0   \n",
       " \n",
       "              84:b2:61:6d:3d:20  84:b2:61:5e:44:22  84:b2:61:5e:44:21  \\\n",
       " 12:16:16:00              -90.0              -74.0              -75.0   \n",
       " 12:16:17:00              -89.0              -71.0              -71.0   \n",
       " 12:16:18:00              -89.0              -59.0              -60.0   \n",
       " 12:16:19:00              -88.0              -64.0              -64.0   \n",
       " 12:16:20:00              -91.0              -71.0              -71.0   \n",
       " ...                        ...                ...                ...   \n",
       " 19:09:11:00              -82.0              -66.0              -66.0   \n",
       " 19:09:12:00              -68.0              -71.0              -71.0   \n",
       " 19:09:13:00             -100.0              -66.0              -67.0   \n",
       " 19:09:14:00              -62.0              -65.0              -64.0   \n",
       " 19:09:15:00              -65.0              -63.0              -63.0   \n",
       " \n",
       "              84:b2:61:5e:44:20  ...  84:b2:61:47:e2:ce  84:b2:61:47:e2:cd  \\\n",
       " 12:16:16:00              -74.0  ...             -100.0             -100.0   \n",
       " 12:16:17:00              -71.0  ...             -100.0             -100.0   \n",
       " 12:16:18:00              -59.0  ...             -100.0             -100.0   \n",
       " 12:16:19:00              -64.0  ...             -100.0             -100.0   \n",
       " 12:16:20:00              -71.0  ...             -100.0             -100.0   \n",
       " ...                        ...  ...                ...                ...   \n",
       " 19:09:11:00              -66.0  ...             -100.0             -100.0   \n",
       " 19:09:12:00              -72.0  ...             -100.0             -100.0   \n",
       " 19:09:13:00              -66.0  ...             -100.0             -100.0   \n",
       " 19:09:14:00              -65.0  ...             -100.0             -100.0   \n",
       " 19:09:15:00              -63.0  ...             -100.0             -100.0   \n",
       " \n",
       "              84:b2:61:6d:52:a1  84:b2:61:6d:52:a0  84:b2:61:6d:52:a2  \\\n",
       " 12:16:16:00             -100.0             -100.0             -100.0   \n",
       " 12:16:17:00             -100.0             -100.0             -100.0   \n",
       " 12:16:18:00             -100.0             -100.0             -100.0   \n",
       " 12:16:19:00             -100.0             -100.0             -100.0   \n",
       " 12:16:20:00             -100.0             -100.0             -100.0   \n",
       " ...                        ...                ...                ...   \n",
       " 19:09:11:00              -94.0             -100.0              -95.0   \n",
       " 19:09:12:00             -100.0             -100.0              -94.0   \n",
       " 19:09:13:00             -100.0             -100.0             -100.0   \n",
       " 19:09:14:00             -100.0             -100.0              -94.0   \n",
       " 19:09:15:00             -100.0             -100.0             -100.0   \n",
       " \n",
       "              84:b2:61:6d:52:af  84:b2:61:40:75:f1  84:b2:61:40:75:f2  \\\n",
       " 12:16:16:00             -100.0             -100.0             -100.0   \n",
       " 12:16:17:00             -100.0             -100.0             -100.0   \n",
       " 12:16:18:00             -100.0             -100.0             -100.0   \n",
       " 12:16:19:00             -100.0             -100.0             -100.0   \n",
       " 12:16:20:00             -100.0             -100.0             -100.0   \n",
       " ...                        ...                ...                ...   \n",
       " 19:09:11:00             -100.0             -100.0             -100.0   \n",
       " 19:09:12:00             -100.0             -100.0             -100.0   \n",
       " 19:09:13:00             -100.0             -100.0             -100.0   \n",
       " 19:09:14:00             -100.0             -100.0             -100.0   \n",
       " 19:09:15:00             -100.0             -100.0             -100.0   \n",
       " \n",
       "              84:b2:61:40:75:f0  c4:71:54:39:70:e4  \n",
       " 12:16:16:00             -100.0             -100.0  \n",
       " 12:16:17:00             -100.0             -100.0  \n",
       " 12:16:18:00             -100.0             -100.0  \n",
       " 12:16:19:00             -100.0             -100.0  \n",
       " 12:16:20:00             -100.0             -100.0  \n",
       " ...                        ...                ...  \n",
       " 19:09:11:00             -100.0             -100.0  \n",
       " 19:09:12:00             -100.0             -100.0  \n",
       " 19:09:13:00             -100.0             -100.0  \n",
       " 19:09:14:00             -100.0             -100.0  \n",
       " 19:09:15:00             -100.0             -100.0  \n",
       " \n",
       " [188 rows x 41 columns])"
      ]
     },
     "execution_count": 288,
     "metadata": {},
     "output_type": "execute_result"
    }
   ],
   "source": [
    "df_ap = df_wifi_and_loc_file.iloc[:, :41][mask]\n",
    "df_floor = df_wifi_and_loc_file['room'][mask]\n",
    "df_floor, df_ap"
   ]
  },
  {
   "cell_type": "code",
   "execution_count": 289,
   "id": "f7c01ecf",
   "metadata": {},
   "outputs": [],
   "source": [
    "X_step_2 = pd.concat([df_ap, df_floor], axis=1).values\n",
    "y_step_2 = df_wifi_and_loc_file[['lat', 'long']][mask].values"
   ]
  },
  {
   "cell_type": "code",
   "execution_count": 290,
   "id": "c586c89e",
   "metadata": {},
   "outputs": [
    {
     "data": {
      "text/plain": [
       "array([[ -72.,  -64.,  -64., ..., -100., -100.,    2.],\n",
       "       [ -74.,  -59.,  -63., ..., -100., -100.,    2.],\n",
       "       [ -76.,  -65.,  -66., ..., -100., -100.,    2.],\n",
       "       ...,\n",
       "       [ -59.,  -41.,  -42., ..., -100., -100.,    2.],\n",
       "       [ -57.,  -49.,  -49., ..., -100., -100.,    2.],\n",
       "       [ -53.,  -42.,  -42., ..., -100., -100.,    2.]])"
      ]
     },
     "execution_count": 290,
     "metadata": {},
     "output_type": "execute_result"
    }
   ],
   "source": [
    "X_step_2"
   ]
  },
  {
   "cell_type": "code",
   "execution_count": 291,
   "id": "7785010b",
   "metadata": {},
   "outputs": [
    {
     "data": {
      "text/plain": [
       "array([[44.434933  , 26.04770856],\n",
       "       [44.434933  , 26.04772272],\n",
       "       [44.434933  , 26.04773847],\n",
       "       [44.434933  , 26.04775421],\n",
       "       [44.434933  , 26.04776873],\n",
       "       [44.434933  , 26.04778412],\n",
       "       [44.434933  , 26.04779829],\n",
       "       [44.434933  , 26.04781351],\n",
       "       [44.434933  , 26.0478291 ],\n",
       "       [44.434933  , 26.04784552],\n",
       "       [44.434933  , 26.04786149],\n",
       "       [44.434933  , 26.04787858],\n",
       "       [44.43493643, 26.04788488],\n",
       "       [44.4349375 , 26.04788603],\n",
       "       [44.43494143, 26.04788488],\n",
       "       [44.434942  , 26.04787089],\n",
       "       [44.434942  , 26.04785654],\n",
       "       [44.434942  , 26.0478408 ],\n",
       "       [44.434942  , 26.04782611],\n",
       "       [44.434942  , 26.04781309],\n",
       "       [44.434942  , 26.0478013 ],\n",
       "       [44.434942  , 26.04778592],\n",
       "       [44.434942  , 26.04777405],\n",
       "       [44.434942  , 26.04775778],\n",
       "       [44.434942  , 26.04774476],\n",
       "       [44.434942  , 26.04773123],\n",
       "       [44.434942  , 26.04771835],\n",
       "       [44.434933  , 26.04771107],\n",
       "       [44.434933  , 26.04772395],\n",
       "       [44.434933  , 26.04773847],\n",
       "       [44.434933  , 26.04775421],\n",
       "       [44.434933  , 26.04776995],\n",
       "       [44.434933  , 26.0477857 ],\n",
       "       [44.434933  , 26.04780144],\n",
       "       [44.434933  , 26.04781718],\n",
       "       [44.434933  , 26.0478317 ],\n",
       "       [44.434933  , 26.0478471 ],\n",
       "       [44.434933  , 26.04786249],\n",
       "       [44.434933  , 26.04787572],\n",
       "       [44.43493686, 26.04788488],\n",
       "       [44.4349375 , 26.04788488],\n",
       "       [44.434942  , 26.04787858],\n",
       "       [44.434942  , 26.04786389],\n",
       "       [44.434942  , 26.04784867],\n",
       "       [44.434942  , 26.0478345 ],\n",
       "       [44.434942  , 26.04781911],\n",
       "       [44.434942  , 26.04780459],\n",
       "       [44.434942  , 26.04778885],\n",
       "       [44.434942  , 26.04777405],\n",
       "       [44.434942  , 26.04775767],\n",
       "       [44.434942  , 26.04774214],\n",
       "       [44.434942  , 26.04772745],\n",
       "       [44.434942  , 26.04771275],\n",
       "       [44.434933  , 26.04771501],\n",
       "       [44.434933  , 26.04772955],\n",
       "       [44.434933  , 26.04774477],\n",
       "       [44.434933  , 26.04775893],\n",
       "       [44.434933  , 26.04777433],\n",
       "       [44.434933  , 26.04778885],\n",
       "       [44.434933  , 26.04780372],\n",
       "       [44.434933  , 26.04782011],\n",
       "       [44.434933  , 26.0478359 ],\n",
       "       [44.434933  , 26.04785025],\n",
       "       [44.434933  , 26.04786529],\n",
       "       [44.434933  , 26.04788016],\n",
       "       [44.43493497, 26.04788488],\n",
       "       [44.4349375 , 26.04788488],\n",
       "       [44.434942  , 26.04788348],\n",
       "       [44.434942  , 26.04786914],\n",
       "       [44.434942  , 26.04785339],\n",
       "       [44.434942  , 26.0478387 ],\n",
       "       [44.434942  , 26.04782191],\n",
       "       [44.434942  , 26.04780774],\n",
       "       [44.434942  , 26.04779252],\n",
       "       [44.434942  , 26.04777783],\n",
       "       [44.434942  , 26.04776103],\n",
       "       [44.434942  , 26.04774776],\n",
       "       [44.434942  , 26.04773095],\n",
       "       [44.434942  , 26.04771643],\n",
       "       [44.434933  , 26.04770478],\n",
       "       [44.434933  , 26.0477159 ],\n",
       "       [44.434933  , 26.04772745],\n",
       "       [44.434933  , 26.04774274],\n",
       "       [44.434933  , 26.04775893],\n",
       "       [44.434933  , 26.04777153],\n",
       "       [44.434933  , 26.04778552],\n",
       "       [44.434933  , 26.04779952],\n",
       "       [44.434933  , 26.04781351],\n",
       "       [44.434933  , 26.04782695],\n",
       "       [44.434933  , 26.0478408 ],\n",
       "       [44.434933  , 26.04785549],\n",
       "       [44.434933  , 26.04787071],\n",
       "       [44.434933  , 26.04788488],\n",
       "       [44.43493646, 26.04788488],\n",
       "       [44.4349375 , 26.04788585],\n",
       "       [44.434942  , 26.04788488],\n",
       "       [44.434942  , 26.04787343],\n",
       "       [44.434942  , 26.04785829],\n",
       "       [44.434942  , 26.0478443 ],\n",
       "       [44.434942  , 26.04783072],\n",
       "       [44.434942  , 26.04781718],\n",
       "       [44.434942  , 26.04780302],\n",
       "       [44.434942  , 26.04778885],\n",
       "       [44.434942  , 26.04777573],\n",
       "       [44.434942  , 26.04775893],\n",
       "       [44.434942  , 26.04774844],\n",
       "       [44.434942  , 26.04773249],\n",
       "       [44.434942  , 26.04771958],\n",
       "       [44.434942  , 26.04770512],\n",
       "       [44.434933  , 26.0477117 ],\n",
       "       [44.434933  , 26.04772745],\n",
       "       [44.434933  , 26.04774319],\n",
       "       [44.434933  , 26.04775893],\n",
       "       [44.434933  , 26.04777625],\n",
       "       [44.434933  , 26.04779312],\n",
       "       [44.434933  , 26.04780931],\n",
       "       [44.434933  , 26.04782506],\n",
       "       [44.434933  , 26.0478417 ],\n",
       "       [44.434933  , 26.04785689],\n",
       "       [44.434933  , 26.04787409],\n",
       "       [44.4349366 , 26.04788488],\n",
       "       [44.4349375 , 26.04788755],\n",
       "       [44.43493975, 26.04788488],\n",
       "       [44.434942  , 26.04787607],\n",
       "       [44.434942  , 26.04785969],\n",
       "       [44.434942  , 26.0478443 ],\n",
       "       [44.434942  , 26.0478291 ],\n",
       "       [44.434942  , 26.04781111],\n",
       "       [44.434942  , 26.04779672],\n",
       "       [44.434942  , 26.04777909],\n",
       "       [44.434942  , 26.04776433],\n",
       "       [44.434942  , 26.04774949],\n",
       "       [44.434942  , 26.04773217],\n",
       "       [44.434942  , 26.04771695],\n",
       "       [44.434933  , 26.04771215],\n",
       "       [44.434933  , 26.04772902],\n",
       "       [44.434933  , 26.04774477],\n",
       "       [44.434933  , 26.04775893],\n",
       "       [44.434933  , 26.04777279],\n",
       "       [44.434933  , 26.0477857 ],\n",
       "       [44.434933  , 26.04780144],\n",
       "       [44.434933  , 26.04781718],\n",
       "       [44.434933  , 26.04783072],\n",
       "       [44.434933  , 26.04784552],\n",
       "       [44.434933  , 26.04785969],\n",
       "       [44.434933  , 26.04787458],\n",
       "       [44.43493357, 26.04788488],\n",
       "       [44.4349375 , 26.04788779],\n",
       "       [44.43493806, 26.04788488],\n",
       "       [44.434942  , 26.04788068],\n",
       "       [44.434942  , 26.04786669],\n",
       "       [44.434942  , 26.04785269],\n",
       "       [44.434942  , 26.0478387 ],\n",
       "       [44.434942  , 26.04782348],\n",
       "       [44.434942  , 26.04780774],\n",
       "       [44.434942  , 26.04779252],\n",
       "       [44.434942  , 26.04777909],\n",
       "       [44.434942  , 26.04776433],\n",
       "       [44.434942  , 26.04774949],\n",
       "       [44.434942  , 26.04773374],\n",
       "       [44.434942  , 26.04771835],\n",
       "       [44.434942  , 26.04770383],\n",
       "       [44.434933  , 26.04772115],\n",
       "       [44.434933  , 26.04773689],\n",
       "       [44.434933  , 26.04775264],\n",
       "       [44.434933  , 26.04776838],\n",
       "       [44.434933  , 26.04778412],\n",
       "       [44.434933  , 26.04779987],\n",
       "       [44.434933  , 26.04781561],\n",
       "       [44.434933  , 26.0478327 ],\n",
       "       [44.434933  , 26.0478471 ],\n",
       "       [44.434933  , 26.04786509],\n",
       "       [44.434933  , 26.04787984],\n",
       "       [44.43493686, 26.04788488],\n",
       "       [44.4349375 , 26.04788624],\n",
       "       [44.43494135, 26.04788488],\n",
       "       [44.434942  , 26.04787229],\n",
       "       [44.434942  , 26.04785429],\n",
       "       [44.434942  , 26.0478387 ],\n",
       "       [44.434942  , 26.04782348],\n",
       "       [44.434942  , 26.04781057],\n",
       "       [44.434942  , 26.04779532],\n",
       "       [44.434942  , 26.04777951],\n",
       "       [44.434942  , 26.04776613],\n",
       "       [44.434942  , 26.04775012],\n",
       "       [44.434942  , 26.04773584],\n",
       "       [44.434942  , 26.04772115],\n",
       "       [44.434942  , 26.04770436]])"
      ]
     },
     "execution_count": 291,
     "metadata": {},
     "output_type": "execute_result"
    }
   ],
   "source": [
    "y_step_2"
   ]
  },
  {
   "cell_type": "markdown",
   "id": "4885a851",
   "metadata": {},
   "source": [
    "### 7.2. Splitting the data in Train and Test"
   ]
  },
  {
   "cell_type": "code",
   "execution_count": 292,
   "id": "a58809f2",
   "metadata": {},
   "outputs": [],
   "source": [
    "X_train_step_2, X_test_step_2, y_train_step_2, y_test_step_2 = train_test_split(X_step_2,\n",
    "                                                                                y_step_2, \n",
    "                                                                                test_size = 0.2, \n",
    "                                                                                random_state = 0)"
   ]
  },
  {
   "cell_type": "code",
   "execution_count": 293,
   "id": "70ddf54d",
   "metadata": {},
   "outputs": [
    {
     "data": {
      "text/plain": [
       "array([[ -68.,  -63.,  -62., ..., -100., -100.,    2.],\n",
       "       [ -80.,  -70.,  -70., ..., -100., -100.,    2.],\n",
       "       [ -69.,  -63.,  -63., ..., -100., -100.,    2.],\n",
       "       ...,\n",
       "       [ -72.,  -62.,  -64., ...,  -96., -100.,    2.],\n",
       "       [ -65.,  -53.,  -53., ..., -100., -100.,    2.],\n",
       "       [ -63.,  -76.,  -73., ..., -100., -100.,    2.]])"
      ]
     },
     "execution_count": 293,
     "metadata": {},
     "output_type": "execute_result"
    }
   ],
   "source": [
    "X_train_step_2"
   ]
  },
  {
   "cell_type": "code",
   "execution_count": 294,
   "id": "aef95361",
   "metadata": {},
   "outputs": [
    {
     "data": {
      "text/plain": [
       "150"
      ]
     },
     "execution_count": 294,
     "metadata": {},
     "output_type": "execute_result"
    }
   ],
   "source": [
    "len(X_train_step_2)"
   ]
  },
  {
   "cell_type": "markdown",
   "id": "973d5723",
   "metadata": {},
   "source": [
    "### 7.3. Building the model"
   ]
  },
  {
   "cell_type": "code",
   "execution_count": 295,
   "id": "0faf53b0",
   "metadata": {},
   "outputs": [
    {
     "data": {
      "text/html": [
       "<style>#sk-container-id-1 {color: black;background-color: white;}#sk-container-id-1 pre{padding: 0;}#sk-container-id-1 div.sk-toggleable {background-color: white;}#sk-container-id-1 label.sk-toggleable__label {cursor: pointer;display: block;width: 100%;margin-bottom: 0;padding: 0.3em;box-sizing: border-box;text-align: center;}#sk-container-id-1 label.sk-toggleable__label-arrow:before {content: \"▸\";float: left;margin-right: 0.25em;color: #696969;}#sk-container-id-1 label.sk-toggleable__label-arrow:hover:before {color: black;}#sk-container-id-1 div.sk-estimator:hover label.sk-toggleable__label-arrow:before {color: black;}#sk-container-id-1 div.sk-toggleable__content {max-height: 0;max-width: 0;overflow: hidden;text-align: left;background-color: #f0f8ff;}#sk-container-id-1 div.sk-toggleable__content pre {margin: 0.2em;color: black;border-radius: 0.25em;background-color: #f0f8ff;}#sk-container-id-1 input.sk-toggleable__control:checked~div.sk-toggleable__content {max-height: 200px;max-width: 100%;overflow: auto;}#sk-container-id-1 input.sk-toggleable__control:checked~label.sk-toggleable__label-arrow:before {content: \"▾\";}#sk-container-id-1 div.sk-estimator input.sk-toggleable__control:checked~label.sk-toggleable__label {background-color: #d4ebff;}#sk-container-id-1 div.sk-label input.sk-toggleable__control:checked~label.sk-toggleable__label {background-color: #d4ebff;}#sk-container-id-1 input.sk-hidden--visually {border: 0;clip: rect(1px 1px 1px 1px);clip: rect(1px, 1px, 1px, 1px);height: 1px;margin: -1px;overflow: hidden;padding: 0;position: absolute;width: 1px;}#sk-container-id-1 div.sk-estimator {font-family: monospace;background-color: #f0f8ff;border: 1px dotted black;border-radius: 0.25em;box-sizing: border-box;margin-bottom: 0.5em;}#sk-container-id-1 div.sk-estimator:hover {background-color: #d4ebff;}#sk-container-id-1 div.sk-parallel-item::after {content: \"\";width: 100%;border-bottom: 1px solid gray;flex-grow: 1;}#sk-container-id-1 div.sk-label:hover label.sk-toggleable__label {background-color: #d4ebff;}#sk-container-id-1 div.sk-serial::before {content: \"\";position: absolute;border-left: 1px solid gray;box-sizing: border-box;top: 0;bottom: 0;left: 50%;z-index: 0;}#sk-container-id-1 div.sk-serial {display: flex;flex-direction: column;align-items: center;background-color: white;padding-right: 0.2em;padding-left: 0.2em;position: relative;}#sk-container-id-1 div.sk-item {position: relative;z-index: 1;}#sk-container-id-1 div.sk-parallel {display: flex;align-items: stretch;justify-content: center;background-color: white;position: relative;}#sk-container-id-1 div.sk-item::before, #sk-container-id-1 div.sk-parallel-item::before {content: \"\";position: absolute;border-left: 1px solid gray;box-sizing: border-box;top: 0;bottom: 0;left: 50%;z-index: -1;}#sk-container-id-1 div.sk-parallel-item {display: flex;flex-direction: column;z-index: 1;position: relative;background-color: white;}#sk-container-id-1 div.sk-parallel-item:first-child::after {align-self: flex-end;width: 50%;}#sk-container-id-1 div.sk-parallel-item:last-child::after {align-self: flex-start;width: 50%;}#sk-container-id-1 div.sk-parallel-item:only-child::after {width: 0;}#sk-container-id-1 div.sk-dashed-wrapped {border: 1px dashed gray;margin: 0 0.4em 0.5em 0.4em;box-sizing: border-box;padding-bottom: 0.4em;background-color: white;}#sk-container-id-1 div.sk-label label {font-family: monospace;font-weight: bold;display: inline-block;line-height: 1.2em;}#sk-container-id-1 div.sk-label-container {text-align: center;}#sk-container-id-1 div.sk-container {/* jupyter's `normalize.less` sets `[hidden] { display: none; }` but bootstrap.min.css set `[hidden] { display: none !important; }` so we also need the `!important` here to be able to override the default hidden behavior on the sphinx rendered scikit-learn.org. See: https://github.com/scikit-learn/scikit-learn/issues/21755 */display: inline-block !important;position: relative;}#sk-container-id-1 div.sk-text-repr-fallback {display: none;}</style><div id=\"sk-container-id-1\" class=\"sk-top-container\"><div class=\"sk-text-repr-fallback\"><pre>KNeighborsRegressor(n_neighbors=3, weights=&#x27;distance&#x27;)</pre><b>In a Jupyter environment, please rerun this cell to show the HTML representation or trust the notebook. <br />On GitHub, the HTML representation is unable to render, please try loading this page with nbviewer.org.</b></div><div class=\"sk-container\" hidden><div class=\"sk-item\"><div class=\"sk-estimator sk-toggleable\"><input class=\"sk-toggleable__control sk-hidden--visually\" id=\"sk-estimator-id-1\" type=\"checkbox\" checked><label for=\"sk-estimator-id-1\" class=\"sk-toggleable__label sk-toggleable__label-arrow\">KNeighborsRegressor</label><div class=\"sk-toggleable__content\"><pre>KNeighborsRegressor(n_neighbors=3, weights=&#x27;distance&#x27;)</pre></div></div></div></div></div>"
      ],
      "text/plain": [
       "KNeighborsRegressor(n_neighbors=3, weights='distance')"
      ]
     },
     "execution_count": 295,
     "metadata": {},
     "output_type": "execute_result"
    }
   ],
   "source": [
    "knn_regressor = KNeighborsRegressor(n_neighbors=3, weights='distance')\n",
    "knn_regressor.fit(X_train_step_2, y_train_step_2)"
   ]
  },
  {
   "cell_type": "markdown",
   "id": "07fc71f4",
   "metadata": {},
   "source": [
    "### 7.4. Making predictions and evaluating the model"
   ]
  },
  {
   "cell_type": "code",
   "execution_count": 296,
   "id": "32ae9259",
   "metadata": {},
   "outputs": [
    {
     "data": {
      "text/plain": [
       "array([[44.434942  , 26.04771801],\n",
       "       [44.434942  , 26.04780459],\n",
       "       [44.434942  , 26.04771469],\n",
       "       [44.434933  , 26.04786692],\n",
       "       [44.43493861, 26.04788488],\n",
       "       [44.434933  , 26.04774981],\n",
       "       [44.434942  , 26.047827  ],\n",
       "       [44.434933  , 26.04772311],\n",
       "       [44.434942  , 26.04776668],\n",
       "       [44.434933  , 26.0478138 ],\n",
       "       [44.434933  , 26.04778538],\n",
       "       [44.434933  , 26.04783096],\n",
       "       [44.434942  , 26.04781561],\n",
       "       [44.434942  , 26.04780013],\n",
       "       [44.434942  , 26.04773154],\n",
       "       [44.434942  , 26.04783937],\n",
       "       [44.434933  , 26.04786151],\n",
       "       [44.43493811, 26.04788184],\n",
       "       [44.434933  , 26.04771786],\n",
       "       [44.434942  , 26.04777599],\n",
       "       [44.434933  , 26.04774046],\n",
       "       [44.434942  , 26.04776046],\n",
       "       [44.434933  , 26.0477555 ],\n",
       "       [44.43493589, 26.04788488],\n",
       "       [44.434933  , 26.04782672],\n",
       "       [44.43494093, 26.04787716],\n",
       "       [44.434933  , 26.04786233],\n",
       "       [44.434933  , 26.04773935],\n",
       "       [44.434942  , 26.04772495],\n",
       "       [44.434933  , 26.04780026],\n",
       "       [44.434933  , 26.04776661],\n",
       "       [44.43494133, 26.04787803],\n",
       "       [44.434933  , 26.04775204],\n",
       "       [44.434933  , 26.04784143],\n",
       "       [44.434942  , 26.04781673],\n",
       "       [44.434942  , 26.04771911],\n",
       "       [44.43493806, 26.04788278],\n",
       "       [44.434933  , 26.04776003]])"
      ]
     },
     "execution_count": 296,
     "metadata": {},
     "output_type": "execute_result"
    }
   ],
   "source": [
    "y_pred_step_2 = knn_regressor.predict(X_test_step_2)\n",
    "y_pred_step_2"
   ]
  },
  {
   "cell_type": "code",
   "execution_count": 298,
   "id": "b79317a3",
   "metadata": {},
   "outputs": [
    {
     "data": {
      "text/plain": [
       "((38, 2), (38, 2))"
      ]
     },
     "execution_count": 298,
     "metadata": {},
     "output_type": "execute_result"
    }
   ],
   "source": [
    "y_pred_step_2.shape, y_test_step_2.shape"
   ]
  },
  {
   "cell_type": "code",
   "execution_count": 299,
   "id": "45a4bb1a",
   "metadata": {},
   "outputs": [
    {
     "name": "stdout",
     "output_type": "stream",
     "text": [
      "4.1906906521086845e-11\n"
     ]
    }
   ],
   "source": [
    "print(mean_squared_error(y_test_step_2, y_pred_step_2))"
   ]
  },
  {
   "cell_type": "code",
   "execution_count": 300,
   "id": "f7ac247b",
   "metadata": {},
   "outputs": [
    {
     "name": "stdout",
     "output_type": "stream",
     "text": [
      "[1.02485349e-13 8.37113277e-11]\n"
     ]
    }
   ],
   "source": [
    "print(mean_squared_error(y_test_step_2, y_pred_step_2, multioutput='raw_values'))"
   ]
  },
  {
   "cell_type": "code",
   "execution_count": 301,
   "id": "73d47d18",
   "metadata": {},
   "outputs": [
    {
     "data": {
      "text/plain": [
       "0    0.000006\n",
       "dtype: float64"
      ]
     },
     "execution_count": 301,
     "metadata": {},
     "output_type": "execute_result"
    }
   ],
   "source": [
    "y_pred_step_2 = pd.DataFrame(y_pred_step_2, columns=['long1', 'lat1'])\n",
    "y_test_step_2 = pd.DataFrame(y_test_step_2, columns=['long2', 'lat2'])\n",
    "# alculating the Euclidian distance between points\n",
    "distance_df = pd.DataFrame((y_test_step_2['lat2']-y_pred_step_2['lat1'])**2 + \n",
    "                           (y_test_step_2['long2']-y_pred_step_2['long1'])**2)**(1/2)\n",
    "sum_dist = distance_df.sum()\n",
    "mean_error = sum_dist/len(distance_df)\n",
    "mean_error"
   ]
  },
  {
   "cell_type": "code",
   "execution_count": 302,
   "id": "eb358ed5",
   "metadata": {},
   "outputs": [
    {
     "data": {
      "text/html": [
       "<div>\n",
       "<style scoped>\n",
       "    .dataframe tbody tr th:only-of-type {\n",
       "        vertical-align: middle;\n",
       "    }\n",
       "\n",
       "    .dataframe tbody tr th {\n",
       "        vertical-align: top;\n",
       "    }\n",
       "\n",
       "    .dataframe thead th {\n",
       "        text-align: right;\n",
       "    }\n",
       "</style>\n",
       "<table border=\"1\" class=\"dataframe\">\n",
       "  <thead>\n",
       "    <tr style=\"text-align: right;\">\n",
       "      <th></th>\n",
       "      <th>long1</th>\n",
       "      <th>lat1</th>\n",
       "      <th>long2</th>\n",
       "      <th>lat2</th>\n",
       "    </tr>\n",
       "  </thead>\n",
       "  <tbody>\n",
       "    <tr>\n",
       "      <th>0</th>\n",
       "      <td>44.434942</td>\n",
       "      <td>26.047718</td>\n",
       "      <td>44.434942</td>\n",
       "      <td>26.047720</td>\n",
       "    </tr>\n",
       "    <tr>\n",
       "      <th>1</th>\n",
       "      <td>44.434942</td>\n",
       "      <td>26.047805</td>\n",
       "      <td>44.434942</td>\n",
       "      <td>26.047819</td>\n",
       "    </tr>\n",
       "    <tr>\n",
       "      <th>2</th>\n",
       "      <td>44.434942</td>\n",
       "      <td>26.047715</td>\n",
       "      <td>44.434942</td>\n",
       "      <td>26.047718</td>\n",
       "    </tr>\n",
       "    <tr>\n",
       "      <th>3</th>\n",
       "      <td>44.434933</td>\n",
       "      <td>26.047867</td>\n",
       "      <td>44.434933</td>\n",
       "      <td>26.047865</td>\n",
       "    </tr>\n",
       "    <tr>\n",
       "      <th>4</th>\n",
       "      <td>44.434939</td>\n",
       "      <td>26.047885</td>\n",
       "      <td>44.434940</td>\n",
       "      <td>26.047885</td>\n",
       "    </tr>\n",
       "    <tr>\n",
       "      <th>5</th>\n",
       "      <td>44.434933</td>\n",
       "      <td>26.047750</td>\n",
       "      <td>44.434933</td>\n",
       "      <td>26.047759</td>\n",
       "    </tr>\n",
       "    <tr>\n",
       "      <th>6</th>\n",
       "      <td>44.434942</td>\n",
       "      <td>26.047827</td>\n",
       "      <td>44.434942</td>\n",
       "      <td>26.047826</td>\n",
       "    </tr>\n",
       "    <tr>\n",
       "      <th>7</th>\n",
       "      <td>44.434933</td>\n",
       "      <td>26.047723</td>\n",
       "      <td>44.434933</td>\n",
       "      <td>26.047727</td>\n",
       "    </tr>\n",
       "    <tr>\n",
       "      <th>8</th>\n",
       "      <td>44.434942</td>\n",
       "      <td>26.047767</td>\n",
       "      <td>44.434942</td>\n",
       "      <td>26.047764</td>\n",
       "    </tr>\n",
       "    <tr>\n",
       "      <th>9</th>\n",
       "      <td>44.434933</td>\n",
       "      <td>26.047814</td>\n",
       "      <td>44.434933</td>\n",
       "      <td>26.047814</td>\n",
       "    </tr>\n",
       "    <tr>\n",
       "      <th>10</th>\n",
       "      <td>44.434933</td>\n",
       "      <td>26.047785</td>\n",
       "      <td>44.434933</td>\n",
       "      <td>26.047784</td>\n",
       "    </tr>\n",
       "    <tr>\n",
       "      <th>11</th>\n",
       "      <td>44.434933</td>\n",
       "      <td>26.047831</td>\n",
       "      <td>44.434933</td>\n",
       "      <td>26.047825</td>\n",
       "    </tr>\n",
       "    <tr>\n",
       "      <th>12</th>\n",
       "      <td>44.434942</td>\n",
       "      <td>26.047816</td>\n",
       "      <td>44.434942</td>\n",
       "      <td>26.047793</td>\n",
       "    </tr>\n",
       "    <tr>\n",
       "      <th>13</th>\n",
       "      <td>44.434942</td>\n",
       "      <td>26.047800</td>\n",
       "      <td>44.434942</td>\n",
       "      <td>26.047822</td>\n",
       "    </tr>\n",
       "    <tr>\n",
       "      <th>14</th>\n",
       "      <td>44.434942</td>\n",
       "      <td>26.047732</td>\n",
       "      <td>44.434942</td>\n",
       "      <td>26.047705</td>\n",
       "    </tr>\n",
       "    <tr>\n",
       "      <th>15</th>\n",
       "      <td>44.434942</td>\n",
       "      <td>26.047839</td>\n",
       "      <td>44.434942</td>\n",
       "      <td>26.047844</td>\n",
       "    </tr>\n",
       "    <tr>\n",
       "      <th>16</th>\n",
       "      <td>44.434933</td>\n",
       "      <td>26.047862</td>\n",
       "      <td>44.434933</td>\n",
       "      <td>26.047862</td>\n",
       "    </tr>\n",
       "    <tr>\n",
       "      <th>17</th>\n",
       "      <td>44.434938</td>\n",
       "      <td>26.047882</td>\n",
       "      <td>44.434937</td>\n",
       "      <td>26.047886</td>\n",
       "    </tr>\n",
       "    <tr>\n",
       "      <th>18</th>\n",
       "      <td>44.434933</td>\n",
       "      <td>26.047718</td>\n",
       "      <td>44.434933</td>\n",
       "      <td>26.047729</td>\n",
       "    </tr>\n",
       "    <tr>\n",
       "      <th>19</th>\n",
       "      <td>44.434942</td>\n",
       "      <td>26.047776</td>\n",
       "      <td>44.434942</td>\n",
       "      <td>26.047778</td>\n",
       "    </tr>\n",
       "    <tr>\n",
       "      <th>20</th>\n",
       "      <td>44.434933</td>\n",
       "      <td>26.047740</td>\n",
       "      <td>44.434933</td>\n",
       "      <td>26.047745</td>\n",
       "    </tr>\n",
       "    <tr>\n",
       "      <th>21</th>\n",
       "      <td>44.434942</td>\n",
       "      <td>26.047760</td>\n",
       "      <td>44.434942</td>\n",
       "      <td>26.047764</td>\n",
       "    </tr>\n",
       "    <tr>\n",
       "      <th>22</th>\n",
       "      <td>44.434933</td>\n",
       "      <td>26.047756</td>\n",
       "      <td>44.434933</td>\n",
       "      <td>26.047759</td>\n",
       "    </tr>\n",
       "    <tr>\n",
       "      <th>23</th>\n",
       "      <td>44.434936</td>\n",
       "      <td>26.047885</td>\n",
       "      <td>44.434936</td>\n",
       "      <td>26.047885</td>\n",
       "    </tr>\n",
       "    <tr>\n",
       "      <th>24</th>\n",
       "      <td>44.434933</td>\n",
       "      <td>26.047827</td>\n",
       "      <td>44.434933</td>\n",
       "      <td>26.047833</td>\n",
       "    </tr>\n",
       "    <tr>\n",
       "      <th>25</th>\n",
       "      <td>44.434941</td>\n",
       "      <td>26.047877</td>\n",
       "      <td>44.434942</td>\n",
       "      <td>26.047881</td>\n",
       "    </tr>\n",
       "    <tr>\n",
       "      <th>26</th>\n",
       "      <td>44.434933</td>\n",
       "      <td>26.047862</td>\n",
       "      <td>44.434933</td>\n",
       "      <td>26.047857</td>\n",
       "    </tr>\n",
       "    <tr>\n",
       "      <th>27</th>\n",
       "      <td>44.434933</td>\n",
       "      <td>26.047739</td>\n",
       "      <td>44.434933</td>\n",
       "      <td>26.047743</td>\n",
       "    </tr>\n",
       "    <tr>\n",
       "      <th>28</th>\n",
       "      <td>44.434942</td>\n",
       "      <td>26.047725</td>\n",
       "      <td>44.434942</td>\n",
       "      <td>26.047704</td>\n",
       "    </tr>\n",
       "    <tr>\n",
       "      <th>29</th>\n",
       "      <td>44.434933</td>\n",
       "      <td>26.047800</td>\n",
       "      <td>44.434933</td>\n",
       "      <td>26.047801</td>\n",
       "    </tr>\n",
       "    <tr>\n",
       "      <th>30</th>\n",
       "      <td>44.434933</td>\n",
       "      <td>26.047767</td>\n",
       "      <td>44.434933</td>\n",
       "      <td>26.047769</td>\n",
       "    </tr>\n",
       "    <tr>\n",
       "      <th>31</th>\n",
       "      <td>44.434941</td>\n",
       "      <td>26.047878</td>\n",
       "      <td>44.434942</td>\n",
       "      <td>26.047876</td>\n",
       "    </tr>\n",
       "    <tr>\n",
       "      <th>32</th>\n",
       "      <td>44.434933</td>\n",
       "      <td>26.047752</td>\n",
       "      <td>44.434933</td>\n",
       "      <td>26.047753</td>\n",
       "    </tr>\n",
       "    <tr>\n",
       "      <th>33</th>\n",
       "      <td>44.434933</td>\n",
       "      <td>26.047841</td>\n",
       "      <td>44.434933</td>\n",
       "      <td>26.047836</td>\n",
       "    </tr>\n",
       "    <tr>\n",
       "      <th>34</th>\n",
       "      <td>44.434942</td>\n",
       "      <td>26.047817</td>\n",
       "      <td>44.434942</td>\n",
       "      <td>26.047835</td>\n",
       "    </tr>\n",
       "    <tr>\n",
       "      <th>35</th>\n",
       "      <td>44.434942</td>\n",
       "      <td>26.047719</td>\n",
       "      <td>44.434942</td>\n",
       "      <td>26.047718</td>\n",
       "    </tr>\n",
       "    <tr>\n",
       "      <th>36</th>\n",
       "      <td>44.434938</td>\n",
       "      <td>26.047883</td>\n",
       "      <td>44.434937</td>\n",
       "      <td>26.047886</td>\n",
       "    </tr>\n",
       "    <tr>\n",
       "      <th>37</th>\n",
       "      <td>44.434933</td>\n",
       "      <td>26.047760</td>\n",
       "      <td>44.434933</td>\n",
       "      <td>26.047759</td>\n",
       "    </tr>\n",
       "  </tbody>\n",
       "</table>\n",
       "</div>"
      ],
      "text/plain": [
       "        long1       lat1      long2       lat2\n",
       "0   44.434942  26.047718  44.434942  26.047720\n",
       "1   44.434942  26.047805  44.434942  26.047819\n",
       "2   44.434942  26.047715  44.434942  26.047718\n",
       "3   44.434933  26.047867  44.434933  26.047865\n",
       "4   44.434939  26.047885  44.434940  26.047885\n",
       "5   44.434933  26.047750  44.434933  26.047759\n",
       "6   44.434942  26.047827  44.434942  26.047826\n",
       "7   44.434933  26.047723  44.434933  26.047727\n",
       "8   44.434942  26.047767  44.434942  26.047764\n",
       "9   44.434933  26.047814  44.434933  26.047814\n",
       "10  44.434933  26.047785  44.434933  26.047784\n",
       "11  44.434933  26.047831  44.434933  26.047825\n",
       "12  44.434942  26.047816  44.434942  26.047793\n",
       "13  44.434942  26.047800  44.434942  26.047822\n",
       "14  44.434942  26.047732  44.434942  26.047705\n",
       "15  44.434942  26.047839  44.434942  26.047844\n",
       "16  44.434933  26.047862  44.434933  26.047862\n",
       "17  44.434938  26.047882  44.434937  26.047886\n",
       "18  44.434933  26.047718  44.434933  26.047729\n",
       "19  44.434942  26.047776  44.434942  26.047778\n",
       "20  44.434933  26.047740  44.434933  26.047745\n",
       "21  44.434942  26.047760  44.434942  26.047764\n",
       "22  44.434933  26.047756  44.434933  26.047759\n",
       "23  44.434936  26.047885  44.434936  26.047885\n",
       "24  44.434933  26.047827  44.434933  26.047833\n",
       "25  44.434941  26.047877  44.434942  26.047881\n",
       "26  44.434933  26.047862  44.434933  26.047857\n",
       "27  44.434933  26.047739  44.434933  26.047743\n",
       "28  44.434942  26.047725  44.434942  26.047704\n",
       "29  44.434933  26.047800  44.434933  26.047801\n",
       "30  44.434933  26.047767  44.434933  26.047769\n",
       "31  44.434941  26.047878  44.434942  26.047876\n",
       "32  44.434933  26.047752  44.434933  26.047753\n",
       "33  44.434933  26.047841  44.434933  26.047836\n",
       "34  44.434942  26.047817  44.434942  26.047835\n",
       "35  44.434942  26.047719  44.434942  26.047718\n",
       "36  44.434938  26.047883  44.434937  26.047886\n",
       "37  44.434933  26.047760  44.434933  26.047759"
      ]
     },
     "execution_count": 302,
     "metadata": {},
     "output_type": "execute_result"
    }
   ],
   "source": [
    "df_final = pd.DataFrame()\n",
    "df_final = pd.concat([y_pred_step_2, y_test_step_2], axis=1)\n",
    "df_final"
   ]
  },
  {
   "cell_type": "code",
   "execution_count": 304,
   "id": "a723459c",
   "metadata": {},
   "outputs": [
    {
     "data": {
      "text/plain": [
       "<matplotlib.collections.PathCollection at 0x1ce6b870e50>"
      ]
     },
     "execution_count": 304,
     "metadata": {},
     "output_type": "execute_result"
    },
    {
     "data": {
      "image/png": "[encoded data removed]",
      "text/plain": [
       "<Figure size 720x720 with 1 Axes>"
      ]
     },
     "metadata": {
      "needs_background": "light"
     },
     "output_type": "display_data"
    }
   ],
   "source": [
    "plt.figure(figsize=(10,10))\n",
    "plt.scatter(df_final['lat1'], df_final['long1'], color='red')\n",
    "plt.scatter(df_final['lat2'], df_final['long2'], color='green', alpha=0.4)"
   ]
  },
  {
   "cell_type": "code",
   "execution_count": null,
   "id": "49e33f6d",
   "metadata": {},
   "outputs": [],
   "source": []
  }
 ],
 "metadata": {
  "kernelspec": {
   "display_name": "Python 3 (ipykernel)",
   "language": "python",
   "name": "python3"
  },
  "language_info": {
   "codemirror_mode": {
    "name": "ipython",
    "version": 3
   },
   "file_extension": ".py",
   "mimetype": "text/x-python",
   "name": "python",
   "nbconvert_exporter": "python",
   "pygments_lexer": "ipython3",
   "version": "3.9.2"
  }
 },
 "nbformat": 4,
 "nbformat_minor": 5
}
