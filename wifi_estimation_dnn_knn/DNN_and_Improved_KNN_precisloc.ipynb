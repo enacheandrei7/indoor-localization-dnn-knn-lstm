{
 "cells": [
  {
   "cell_type": "markdown",
   "id": "04f1d8c6",
   "metadata": {},
   "source": [
    "# 1. Importing pacakges"
   ]
  },
  {
   "cell_type": "code",
   "execution_count": 79,
   "id": "5636f53a",
   "metadata": {
    "scrolled": true
   },
   "outputs": [],
   "source": [
    "import pandas as pd\n",
    "import numpy as np\n",
    "import os\n",
    "from IPython.display import clear_output\n",
    "import xml.etree.ElementTree as ET\n",
    "import tensorflow as tf\n",
    "import keras\n",
    "from keras.layers import Dense\n",
    "from keras.models import Sequential\n",
    "import torch\n",
    "from sklearn.preprocessing import scale, LabelEncoder, StandardScaler\n",
    "from sklearn.model_selection import train_test_split\n",
    "from sklearn.metrics import confusion_matrix, accuracy_score, mean_squared_error, classification_report\n",
    "from sklearn.neighbors import KNeighborsRegressor\n",
    "import geopy.distance\n",
    "import seaborn as sns\n",
    "import matplotlib\n",
    "import matplotlib.pyplot as plt\n",
    "from matplotlib.colors import ListedColormap\n",
    "%matplotlib inline\n",
    "\n",
    "font = {'family' : 'normal',\n",
    "        'weight' : 'bold',\n",
    "        'size'   : 22}\n",
    "\n",
    "matplotlib.rc('font', **font)"
   ]
  },
  {
   "cell_type": "markdown",
   "id": "d9a2a727",
   "metadata": {},
   "source": [
    "## 2. Importing and vizualizing the data"
   ]
  },
  {
   "cell_type": "code",
   "execution_count": 80,
   "id": "45046b90",
   "metadata": {},
   "outputs": [],
   "source": [
    "wifi_and_loc_file = '../data/Processed/full_wifi_data_and_location_without_1.csv'"
   ]
  },
  {
   "cell_type": "markdown",
   "id": "f1dddd65",
   "metadata": {},
   "source": [
    "## 2.1. Getting details about df"
   ]
  },
  {
   "cell_type": "code",
   "execution_count": 81,
   "id": "38790444",
   "metadata": {},
   "outputs": [
    {
     "data": {
      "text/html": [
       "<div>\n",
       "<style scoped>\n",
       "    .dataframe tbody tr th:only-of-type {\n",
       "        vertical-align: middle;\n",
       "    }\n",
       "\n",
       "    .dataframe tbody tr th {\n",
       "        vertical-align: top;\n",
       "    }\n",
       "\n",
       "    .dataframe thead th {\n",
       "        text-align: right;\n",
       "    }\n",
       "</style>\n",
       "<table border=\"1\" class=\"dataframe\">\n",
       "  <thead>\n",
       "    <tr style=\"text-align: right;\">\n",
       "      <th></th>\n",
       "      <th>32:cd:a7:a0:6d:d8</th>\n",
       "      <th>84:b2:61:56:8a:01</th>\n",
       "      <th>84:b2:61:56:8a:02</th>\n",
       "      <th>84:b2:61:56:8a:00</th>\n",
       "      <th>84:b2:61:6d:3d:22</th>\n",
       "      <th>84:b2:61:6d:3d:21</th>\n",
       "      <th>84:b2:61:6d:3d:20</th>\n",
       "      <th>84:b2:61:5e:44:22</th>\n",
       "      <th>84:b2:61:5e:44:21</th>\n",
       "      <th>84:b2:61:5e:44:20</th>\n",
       "      <th>...</th>\n",
       "      <th>84:b2:61:6d:52:a1</th>\n",
       "      <th>84:b2:61:6d:52:a0</th>\n",
       "      <th>84:b2:61:6d:52:a2</th>\n",
       "      <th>84:b2:61:6d:52:af</th>\n",
       "      <th>84:b2:61:40:75:f1</th>\n",
       "      <th>84:b2:61:40:75:f2</th>\n",
       "      <th>84:b2:61:40:75:f0</th>\n",
       "      <th>c4:71:54:39:70:e4</th>\n",
       "      <th>lat</th>\n",
       "      <th>long</th>\n",
       "    </tr>\n",
       "  </thead>\n",
       "  <tbody>\n",
       "    <tr>\n",
       "      <th>12:15:53:00</th>\n",
       "      <td>-39.0</td>\n",
       "      <td>-58.0</td>\n",
       "      <td>-58.0</td>\n",
       "      <td>-58.0</td>\n",
       "      <td>-70.0</td>\n",
       "      <td>-70.0</td>\n",
       "      <td>-70.0</td>\n",
       "      <td>-73.0</td>\n",
       "      <td>-73.0</td>\n",
       "      <td>-72.0</td>\n",
       "      <td>...</td>\n",
       "      <td>NaN</td>\n",
       "      <td>NaN</td>\n",
       "      <td>NaN</td>\n",
       "      <td>NaN</td>\n",
       "      <td>NaN</td>\n",
       "      <td>NaN</td>\n",
       "      <td>NaN</td>\n",
       "      <td>NaN</td>\n",
       "      <td>44.434937</td>\n",
       "      <td>26.047613</td>\n",
       "    </tr>\n",
       "    <tr>\n",
       "      <th>12:15:54:00</th>\n",
       "      <td>-48.0</td>\n",
       "      <td>-51.0</td>\n",
       "      <td>-52.0</td>\n",
       "      <td>-52.0</td>\n",
       "      <td>-69.0</td>\n",
       "      <td>-71.0</td>\n",
       "      <td>-71.0</td>\n",
       "      <td>-74.0</td>\n",
       "      <td>-74.0</td>\n",
       "      <td>-74.0</td>\n",
       "      <td>...</td>\n",
       "      <td>NaN</td>\n",
       "      <td>NaN</td>\n",
       "      <td>NaN</td>\n",
       "      <td>NaN</td>\n",
       "      <td>NaN</td>\n",
       "      <td>NaN</td>\n",
       "      <td>NaN</td>\n",
       "      <td>NaN</td>\n",
       "      <td>44.434937</td>\n",
       "      <td>26.047624</td>\n",
       "    </tr>\n",
       "    <tr>\n",
       "      <th>12:15:55:00</th>\n",
       "      <td>-45.0</td>\n",
       "      <td>-52.0</td>\n",
       "      <td>-52.0</td>\n",
       "      <td>-52.0</td>\n",
       "      <td>-72.0</td>\n",
       "      <td>-71.0</td>\n",
       "      <td>-71.0</td>\n",
       "      <td>-73.0</td>\n",
       "      <td>-73.0</td>\n",
       "      <td>-73.0</td>\n",
       "      <td>...</td>\n",
       "      <td>NaN</td>\n",
       "      <td>NaN</td>\n",
       "      <td>NaN</td>\n",
       "      <td>NaN</td>\n",
       "      <td>NaN</td>\n",
       "      <td>NaN</td>\n",
       "      <td>NaN</td>\n",
       "      <td>NaN</td>\n",
       "      <td>44.434937</td>\n",
       "      <td>26.047637</td>\n",
       "    </tr>\n",
       "    <tr>\n",
       "      <th>12:15:56:00</th>\n",
       "      <td>-51.0</td>\n",
       "      <td>-42.0</td>\n",
       "      <td>-42.0</td>\n",
       "      <td>-42.0</td>\n",
       "      <td>-75.0</td>\n",
       "      <td>-72.0</td>\n",
       "      <td>-75.0</td>\n",
       "      <td>-79.0</td>\n",
       "      <td>-77.0</td>\n",
       "      <td>-79.0</td>\n",
       "      <td>...</td>\n",
       "      <td>NaN</td>\n",
       "      <td>NaN</td>\n",
       "      <td>NaN</td>\n",
       "      <td>NaN</td>\n",
       "      <td>NaN</td>\n",
       "      <td>NaN</td>\n",
       "      <td>NaN</td>\n",
       "      <td>NaN</td>\n",
       "      <td>44.434937</td>\n",
       "      <td>26.047652</td>\n",
       "    </tr>\n",
       "    <tr>\n",
       "      <th>12:15:59:00</th>\n",
       "      <td>-50.0</td>\n",
       "      <td>-38.0</td>\n",
       "      <td>-37.0</td>\n",
       "      <td>-38.0</td>\n",
       "      <td>NaN</td>\n",
       "      <td>NaN</td>\n",
       "      <td>NaN</td>\n",
       "      <td>-61.0</td>\n",
       "      <td>-61.0</td>\n",
       "      <td>-62.0</td>\n",
       "      <td>...</td>\n",
       "      <td>NaN</td>\n",
       "      <td>NaN</td>\n",
       "      <td>NaN</td>\n",
       "      <td>NaN</td>\n",
       "      <td>NaN</td>\n",
       "      <td>NaN</td>\n",
       "      <td>NaN</td>\n",
       "      <td>NaN</td>\n",
       "      <td>44.434937</td>\n",
       "      <td>26.047674</td>\n",
       "    </tr>\n",
       "    <tr>\n",
       "      <th>...</th>\n",
       "      <td>...</td>\n",
       "      <td>...</td>\n",
       "      <td>...</td>\n",
       "      <td>...</td>\n",
       "      <td>...</td>\n",
       "      <td>...</td>\n",
       "      <td>...</td>\n",
       "      <td>...</td>\n",
       "      <td>...</td>\n",
       "      <td>...</td>\n",
       "      <td>...</td>\n",
       "      <td>...</td>\n",
       "      <td>...</td>\n",
       "      <td>...</td>\n",
       "      <td>...</td>\n",
       "      <td>...</td>\n",
       "      <td>...</td>\n",
       "      <td>...</td>\n",
       "      <td>...</td>\n",
       "      <td>...</td>\n",
       "      <td>...</td>\n",
       "    </tr>\n",
       "    <tr>\n",
       "      <th>19:09:23:00</th>\n",
       "      <td>-56.0</td>\n",
       "      <td>-55.0</td>\n",
       "      <td>-54.0</td>\n",
       "      <td>-55.0</td>\n",
       "      <td>-72.0</td>\n",
       "      <td>-72.0</td>\n",
       "      <td>-73.0</td>\n",
       "      <td>-71.0</td>\n",
       "      <td>-71.0</td>\n",
       "      <td>-71.0</td>\n",
       "      <td>...</td>\n",
       "      <td>NaN</td>\n",
       "      <td>NaN</td>\n",
       "      <td>NaN</td>\n",
       "      <td>NaN</td>\n",
       "      <td>NaN</td>\n",
       "      <td>NaN</td>\n",
       "      <td>NaN</td>\n",
       "      <td>-96.0</td>\n",
       "      <td>44.434937</td>\n",
       "      <td>26.047657</td>\n",
       "    </tr>\n",
       "    <tr>\n",
       "      <th>19:09:24:00</th>\n",
       "      <td>-49.0</td>\n",
       "      <td>-49.0</td>\n",
       "      <td>-49.0</td>\n",
       "      <td>-49.0</td>\n",
       "      <td>-74.0</td>\n",
       "      <td>-74.0</td>\n",
       "      <td>-74.0</td>\n",
       "      <td>-78.0</td>\n",
       "      <td>-77.0</td>\n",
       "      <td>-78.0</td>\n",
       "      <td>...</td>\n",
       "      <td>NaN</td>\n",
       "      <td>NaN</td>\n",
       "      <td>NaN</td>\n",
       "      <td>NaN</td>\n",
       "      <td>NaN</td>\n",
       "      <td>NaN</td>\n",
       "      <td>NaN</td>\n",
       "      <td>NaN</td>\n",
       "      <td>44.434937</td>\n",
       "      <td>26.047642</td>\n",
       "    </tr>\n",
       "    <tr>\n",
       "      <th>19:09:25:00</th>\n",
       "      <td>-49.0</td>\n",
       "      <td>-55.0</td>\n",
       "      <td>-54.0</td>\n",
       "      <td>-54.0</td>\n",
       "      <td>-80.0</td>\n",
       "      <td>-80.0</td>\n",
       "      <td>-79.0</td>\n",
       "      <td>-79.0</td>\n",
       "      <td>-80.0</td>\n",
       "      <td>-79.0</td>\n",
       "      <td>...</td>\n",
       "      <td>NaN</td>\n",
       "      <td>NaN</td>\n",
       "      <td>NaN</td>\n",
       "      <td>NaN</td>\n",
       "      <td>NaN</td>\n",
       "      <td>NaN</td>\n",
       "      <td>NaN</td>\n",
       "      <td>NaN</td>\n",
       "      <td>44.434937</td>\n",
       "      <td>26.047628</td>\n",
       "    </tr>\n",
       "    <tr>\n",
       "      <th>19:09:26:00</th>\n",
       "      <td>-46.0</td>\n",
       "      <td>-61.0</td>\n",
       "      <td>-61.0</td>\n",
       "      <td>-61.0</td>\n",
       "      <td>-72.0</td>\n",
       "      <td>-72.0</td>\n",
       "      <td>-72.0</td>\n",
       "      <td>-74.0</td>\n",
       "      <td>-74.0</td>\n",
       "      <td>-74.0</td>\n",
       "      <td>...</td>\n",
       "      <td>NaN</td>\n",
       "      <td>NaN</td>\n",
       "      <td>NaN</td>\n",
       "      <td>NaN</td>\n",
       "      <td>NaN</td>\n",
       "      <td>NaN</td>\n",
       "      <td>NaN</td>\n",
       "      <td>NaN</td>\n",
       "      <td>44.434937</td>\n",
       "      <td>26.047614</td>\n",
       "    </tr>\n",
       "    <tr>\n",
       "      <th>19:09:27:00</th>\n",
       "      <td>-46.0</td>\n",
       "      <td>-61.0</td>\n",
       "      <td>-61.0</td>\n",
       "      <td>-61.0</td>\n",
       "      <td>-72.0</td>\n",
       "      <td>-72.0</td>\n",
       "      <td>-72.0</td>\n",
       "      <td>-74.0</td>\n",
       "      <td>-74.0</td>\n",
       "      <td>-74.0</td>\n",
       "      <td>...</td>\n",
       "      <td>NaN</td>\n",
       "      <td>NaN</td>\n",
       "      <td>NaN</td>\n",
       "      <td>NaN</td>\n",
       "      <td>NaN</td>\n",
       "      <td>NaN</td>\n",
       "      <td>NaN</td>\n",
       "      <td>NaN</td>\n",
       "      <td>44.434937</td>\n",
       "      <td>26.047602</td>\n",
       "    </tr>\n",
       "  </tbody>\n",
       "</table>\n",
       "<p>530 rows × 43 columns</p>\n",
       "</div>"
      ],
      "text/plain": [
       "             32:cd:a7:a0:6d:d8  84:b2:61:56:8a:01  84:b2:61:56:8a:02  \\\n",
       "12:15:53:00              -39.0              -58.0              -58.0   \n",
       "12:15:54:00              -48.0              -51.0              -52.0   \n",
       "12:15:55:00              -45.0              -52.0              -52.0   \n",
       "12:15:56:00              -51.0              -42.0              -42.0   \n",
       "12:15:59:00              -50.0              -38.0              -37.0   \n",
       "...                        ...                ...                ...   \n",
       "19:09:23:00              -56.0              -55.0              -54.0   \n",
       "19:09:24:00              -49.0              -49.0              -49.0   \n",
       "19:09:25:00              -49.0              -55.0              -54.0   \n",
       "19:09:26:00              -46.0              -61.0              -61.0   \n",
       "19:09:27:00              -46.0              -61.0              -61.0   \n",
       "\n",
       "             84:b2:61:56:8a:00  84:b2:61:6d:3d:22  84:b2:61:6d:3d:21  \\\n",
       "12:15:53:00              -58.0              -70.0              -70.0   \n",
       "12:15:54:00              -52.0              -69.0              -71.0   \n",
       "12:15:55:00              -52.0              -72.0              -71.0   \n",
       "12:15:56:00              -42.0              -75.0              -72.0   \n",
       "12:15:59:00              -38.0                NaN                NaN   \n",
       "...                        ...                ...                ...   \n",
       "19:09:23:00              -55.0              -72.0              -72.0   \n",
       "19:09:24:00              -49.0              -74.0              -74.0   \n",
       "19:09:25:00              -54.0              -80.0              -80.0   \n",
       "19:09:26:00              -61.0              -72.0              -72.0   \n",
       "19:09:27:00              -61.0              -72.0              -72.0   \n",
       "\n",
       "             84:b2:61:6d:3d:20  84:b2:61:5e:44:22  84:b2:61:5e:44:21  \\\n",
       "12:15:53:00              -70.0              -73.0              -73.0   \n",
       "12:15:54:00              -71.0              -74.0              -74.0   \n",
       "12:15:55:00              -71.0              -73.0              -73.0   \n",
       "12:15:56:00              -75.0              -79.0              -77.0   \n",
       "12:15:59:00                NaN              -61.0              -61.0   \n",
       "...                        ...                ...                ...   \n",
       "19:09:23:00              -73.0              -71.0              -71.0   \n",
       "19:09:24:00              -74.0              -78.0              -77.0   \n",
       "19:09:25:00              -79.0              -79.0              -80.0   \n",
       "19:09:26:00              -72.0              -74.0              -74.0   \n",
       "19:09:27:00              -72.0              -74.0              -74.0   \n",
       "\n",
       "             84:b2:61:5e:44:20  ...  84:b2:61:6d:52:a1  84:b2:61:6d:52:a0  \\\n",
       "12:15:53:00              -72.0  ...                NaN                NaN   \n",
       "12:15:54:00              -74.0  ...                NaN                NaN   \n",
       "12:15:55:00              -73.0  ...                NaN                NaN   \n",
       "12:15:56:00              -79.0  ...                NaN                NaN   \n",
       "12:15:59:00              -62.0  ...                NaN                NaN   \n",
       "...                        ...  ...                ...                ...   \n",
       "19:09:23:00              -71.0  ...                NaN                NaN   \n",
       "19:09:24:00              -78.0  ...                NaN                NaN   \n",
       "19:09:25:00              -79.0  ...                NaN                NaN   \n",
       "19:09:26:00              -74.0  ...                NaN                NaN   \n",
       "19:09:27:00              -74.0  ...                NaN                NaN   \n",
       "\n",
       "             84:b2:61:6d:52:a2  84:b2:61:6d:52:af  84:b2:61:40:75:f1  \\\n",
       "12:15:53:00                NaN                NaN                NaN   \n",
       "12:15:54:00                NaN                NaN                NaN   \n",
       "12:15:55:00                NaN                NaN                NaN   \n",
       "12:15:56:00                NaN                NaN                NaN   \n",
       "12:15:59:00                NaN                NaN                NaN   \n",
       "...                        ...                ...                ...   \n",
       "19:09:23:00                NaN                NaN                NaN   \n",
       "19:09:24:00                NaN                NaN                NaN   \n",
       "19:09:25:00                NaN                NaN                NaN   \n",
       "19:09:26:00                NaN                NaN                NaN   \n",
       "19:09:27:00                NaN                NaN                NaN   \n",
       "\n",
       "             84:b2:61:40:75:f2  84:b2:61:40:75:f0  c4:71:54:39:70:e4  \\\n",
       "12:15:53:00                NaN                NaN                NaN   \n",
       "12:15:54:00                NaN                NaN                NaN   \n",
       "12:15:55:00                NaN                NaN                NaN   \n",
       "12:15:56:00                NaN                NaN                NaN   \n",
       "12:15:59:00                NaN                NaN                NaN   \n",
       "...                        ...                ...                ...   \n",
       "19:09:23:00                NaN                NaN              -96.0   \n",
       "19:09:24:00                NaN                NaN                NaN   \n",
       "19:09:25:00                NaN                NaN                NaN   \n",
       "19:09:26:00                NaN                NaN                NaN   \n",
       "19:09:27:00                NaN                NaN                NaN   \n",
       "\n",
       "                   lat       long  \n",
       "12:15:53:00  44.434937  26.047613  \n",
       "12:15:54:00  44.434937  26.047624  \n",
       "12:15:55:00  44.434937  26.047637  \n",
       "12:15:56:00  44.434937  26.047652  \n",
       "12:15:59:00  44.434937  26.047674  \n",
       "...                ...        ...  \n",
       "19:09:23:00  44.434937  26.047657  \n",
       "19:09:24:00  44.434937  26.047642  \n",
       "19:09:25:00  44.434937  26.047628  \n",
       "19:09:26:00  44.434937  26.047614  \n",
       "19:09:27:00  44.434937  26.047602  \n",
       "\n",
       "[530 rows x 43 columns]"
      ]
     },
     "execution_count": 81,
     "metadata": {},
     "output_type": "execute_result"
    }
   ],
   "source": [
    "df_wifi_and_loc_file = pd.read_csv(wifi_and_loc_file, index_col=0)\n",
    "df_wifi_and_loc_file.sample(frac=1)\n",
    "df_wifi_and_loc_file"
   ]
  },
  {
   "cell_type": "code",
   "execution_count": 82,
   "id": "c0c24460",
   "metadata": {},
   "outputs": [],
   "source": [
    "# for i in range(3):\n",
    "#     df_wifi_and_loc_file = pd.concat([df_wifi_and_loc_file, df_wifi_and_loc_file], axis=0)\n",
    "# df_wifi_and_loc_file.sample(frac=1)\n",
    "# df_wifi_and_loc_file"
   ]
  },
  {
   "cell_type": "code",
   "execution_count": 83,
   "id": "9294169f",
   "metadata": {},
   "outputs": [
    {
     "data": {
      "text/plain": [
       "32:cd:a7:a0:6d:d8    float64\n",
       "84:b2:61:56:8a:01    float64\n",
       "84:b2:61:56:8a:02    float64\n",
       "84:b2:61:56:8a:00    float64\n",
       "84:b2:61:6d:3d:22    float64\n",
       "84:b2:61:6d:3d:21    float64\n",
       "84:b2:61:6d:3d:20    float64\n",
       "84:b2:61:5e:44:22    float64\n",
       "84:b2:61:5e:44:21    float64\n",
       "84:b2:61:5e:44:20    float64\n",
       "84:b2:61:47:dd:42    float64\n",
       "84:b2:61:47:dd:41    float64\n",
       "84:b2:61:47:dd:40    float64\n",
       "84:b2:61:47:e2:c0    float64\n",
       "84:b2:61:56:8a:0f    float64\n",
       "84:b2:61:56:8a:0e    float64\n",
       "84:b2:61:56:8a:0d    float64\n",
       "84:b2:61:5e:44:2f    float64\n",
       "84:b2:61:5e:44:2d    float64\n",
       "84:b2:61:6d:3d:2e    float64\n",
       "84:b2:61:5e:44:2e    float64\n",
       "84:b2:61:6d:3d:2d    float64\n",
       "84:b2:61:6d:3d:2f    float64\n",
       "84:b2:61:47:dd:4e    float64\n",
       "84:b2:61:47:dd:4f    float64\n",
       "84:b2:61:47:dd:4d    float64\n",
       "84:b2:61:47:e2:c2    float64\n",
       "84:b2:61:47:e2:c1    float64\n",
       "84:b2:61:6d:5d:70    float64\n",
       "84:b2:61:6d:5d:72    float64\n",
       "84:b2:61:6d:5d:71    float64\n",
       "84:b2:61:47:e2:ce    float64\n",
       "84:b2:61:47:e2:cd    float64\n",
       "84:b2:61:6d:52:a1    float64\n",
       "84:b2:61:6d:52:a0    float64\n",
       "84:b2:61:6d:52:a2    float64\n",
       "84:b2:61:6d:52:af    float64\n",
       "84:b2:61:40:75:f1    float64\n",
       "84:b2:61:40:75:f2    float64\n",
       "84:b2:61:40:75:f0    float64\n",
       "c4:71:54:39:70:e4    float64\n",
       "lat                  float64\n",
       "long                 float64\n",
       "dtype: object"
      ]
     },
     "execution_count": 83,
     "metadata": {},
     "output_type": "execute_result"
    }
   ],
   "source": [
    "df_wifi_and_loc_file.dtypes"
   ]
  },
  {
   "cell_type": "code",
   "execution_count": 84,
   "id": "f2a105ec",
   "metadata": {},
   "outputs": [
    {
     "data": {
      "text/plain": [
       "Index(['32:cd:a7:a0:6d:d8', '84:b2:61:56:8a:01', '84:b2:61:56:8a:02',\n",
       "       '84:b2:61:56:8a:00', '84:b2:61:6d:3d:22', '84:b2:61:6d:3d:21',\n",
       "       '84:b2:61:6d:3d:20', '84:b2:61:5e:44:22', '84:b2:61:5e:44:21',\n",
       "       '84:b2:61:5e:44:20', '84:b2:61:47:dd:42', '84:b2:61:47:dd:41',\n",
       "       '84:b2:61:47:dd:40', '84:b2:61:47:e2:c0', '84:b2:61:56:8a:0f',\n",
       "       '84:b2:61:56:8a:0e', '84:b2:61:56:8a:0d', '84:b2:61:5e:44:2f',\n",
       "       '84:b2:61:5e:44:2d', '84:b2:61:6d:3d:2e', '84:b2:61:5e:44:2e',\n",
       "       '84:b2:61:6d:3d:2d', '84:b2:61:6d:3d:2f', '84:b2:61:47:dd:4e',\n",
       "       '84:b2:61:47:dd:4f', '84:b2:61:47:dd:4d', '84:b2:61:47:e2:c2',\n",
       "       '84:b2:61:47:e2:c1', '84:b2:61:6d:5d:70', '84:b2:61:6d:5d:72',\n",
       "       '84:b2:61:6d:5d:71', '84:b2:61:47:e2:ce', '84:b2:61:47:e2:cd',\n",
       "       '84:b2:61:6d:52:a1', '84:b2:61:6d:52:a0', '84:b2:61:6d:52:a2',\n",
       "       '84:b2:61:6d:52:af', '84:b2:61:40:75:f1', '84:b2:61:40:75:f2',\n",
       "       '84:b2:61:40:75:f0', 'c4:71:54:39:70:e4', 'lat', 'long'],\n",
       "      dtype='object')"
      ]
     },
     "execution_count": 84,
     "metadata": {},
     "output_type": "execute_result"
    }
   ],
   "source": [
    "df_wifi_and_loc_file.columns"
   ]
  },
  {
   "cell_type": "markdown",
   "id": "00afedb1",
   "metadata": {},
   "source": [
    "## 2.2. Vizualizing raw data from wifi and data concatenated file, without the first file (it had many outliers)"
   ]
  },
  {
   "cell_type": "code",
   "execution_count": 146,
   "id": "e55e1449",
   "metadata": {
    "scrolled": false
   },
   "outputs": [
    {
     "name": "stderr",
     "output_type": "stream",
     "text": [
      "No artists with labels found to put in legend.  Note that artists whose label start with an underscore are ignored when legend() is called with no argument.\n"
     ]
    },
    {
     "data": {
      "image/png": "[encoded data removed]",
      "text/plain": [
       "<Figure size 720x720 with 1 Axes>"
      ]
     },
     "metadata": {
      "needs_background": "light"
     },
     "output_type": "display_data"
    }
   ],
   "source": [
    "markers = ('s', 'X', 'o')\n",
    "colors = ('red', 'yellow', 'lightgreen')\n",
    "cmap = ListedColormap(colors[:1])\n",
    "\n",
    "\n",
    "fig = plt.figure(figsize=(10,10))\n",
    "plt.scatter(x=df_wifi_and_loc_file['long'], \n",
    "            y=df_wifi_and_loc_file['lat'],\n",
    "            alpha=0.6, \n",
    "            c=[cmap(1)],\n",
    "            edgecolor='black',\n",
    "            marker=markers[1])\n",
    "\n",
    "plt.xlabel('Longitude')\n",
    "plt.ylabel('Latitude')\n",
    "plt.legend(loc='upper right')\n",
    "plt.tight_layout()"
   ]
  },
  {
   "attachments": {
    "image.png": {
     "image/png": "[encoded data removed]"
    }
   },
   "cell_type": "markdown",
   "id": "5fb2af03",
   "metadata": {},
   "source": [
    "![image.png](attachment:image.png)"
   ]
  },
  {
   "cell_type": "code",
   "execution_count": 86,
   "id": "f1ea4bc3",
   "metadata": {},
   "outputs": [],
   "source": [
    "wifi_and_loc_file1 = '../data/Processed/wifi_data_and_location_1.csv'\n",
    "wifi_and_loc_file2 = '../data/Processed/wifi_data_and_location_2.csv'\n",
    "wifi_and_loc_file3 = '../data/Processed/wifi_data_and_location_3.csv'\n",
    "wifi_and_loc_file4 = '../data/Processed/wifi_data_and_location_4.csv'\n",
    "wifi_and_loc_file5 = '../data/Processed/wifi_data_and_location_5.csv'\n",
    "wifi_and_loc_file6 = '../data/Processed/wifi_data_and_location_6.csv'\n",
    "wifi_and_loc_file7 = '../data/Processed/wifi_data_and_location_7.csv'\n",
    "wifi_and_loc_file8 = '../data/Processed/wifi_data_and_location_8.csv'\n",
    "\n",
    "df_wifi_and_loc_file1 = pd.read_csv(wifi_and_loc_file1, index_col=0)\n",
    "df_wifi_and_loc_file2 = pd.read_csv(wifi_and_loc_file2, index_col=0)\n",
    "df_wifi_and_loc_file3 = pd.read_csv(wifi_and_loc_file3, index_col=0)\n",
    "df_wifi_and_loc_file4 = pd.read_csv(wifi_and_loc_file4, index_col=0)\n",
    "df_wifi_and_loc_file5 = pd.read_csv(wifi_and_loc_file5, index_col=0)\n",
    "df_wifi_and_loc_file6 = pd.read_csv(wifi_and_loc_file6, index_col=0)\n",
    "df_wifi_and_loc_file7 = pd.read_csv(wifi_and_loc_file7, index_col=0)\n",
    "df_wifi_and_loc_file8 = pd.read_csv(wifi_and_loc_file8, index_col=0)"
   ]
  },
  {
   "cell_type": "code",
   "execution_count": 87,
   "id": "20e4e158",
   "metadata": {},
   "outputs": [
    {
     "data": {
      "text/plain": [
       "Text(0.5, 0, 'Latitude')"
      ]
     },
     "execution_count": 87,
     "metadata": {},
     "output_type": "execute_result"
    },
    {
     "data": {
      "image/png": "[encoded data removed]",
      "text/plain": [
       "<Figure size 576x576 with 1 Axes>"
      ]
     },
     "metadata": {
      "needs_background": "light"
     },
     "output_type": "display_data"
    }
   ],
   "source": [
    "ax = df_wifi_and_loc_file1.plot(x='long', y='lat', figsize=(8, 8))\n",
    "df_wifi_and_loc_file2.plot(ax=ax, x='long', y='lat')\n",
    "df_wifi_and_loc_file3.plot(ax=ax, x='long', y='lat')\n",
    "df_wifi_and_loc_file4.plot(ax=ax, x='long', y='lat')\n",
    "df_wifi_and_loc_file5.plot(ax=ax, x='long', y='lat')\n",
    "df_wifi_and_loc_file6.plot(ax=ax, x='long', y='lat')\n",
    "df_wifi_and_loc_file7.plot(ax=ax, x='long', y='lat')\n",
    "df_wifi_and_loc_file8.plot(ax=ax, x='long', y='lat')\n",
    "\n",
    "plt.xlabel('Longitude')\n",
    "plt.xlabel('Latitude')\n",
    "\n",
    "# The first file is different than the rest, too many outliers, we eliminate it"
   ]
  },
  {
   "cell_type": "markdown",
   "id": "60eeb264",
   "metadata": {},
   "source": [
    "## 2.3. Normalizing lat and longitude"
   ]
  },
  {
   "cell_type": "code",
   "execution_count": 88,
   "id": "353177c7",
   "metadata": {},
   "outputs": [],
   "source": [
    "# Function to normalize a column using Min-Max normalization\n",
    "def normalize(column):\n",
    "    min_val = column.min()\n",
    "    max_val = column.max()\n",
    "    normalized = (column - min_val) / (max_val - min_val)\n",
    "    return normalized"
   ]
  },
  {
   "cell_type": "code",
   "execution_count": 89,
   "id": "fefb1ad2",
   "metadata": {},
   "outputs": [],
   "source": [
    "max_lat = df_wifi_and_loc_file['lat'].max()\n",
    "min_lat = df_wifi_and_loc_file['lat'].min()\n",
    "max_long = df_wifi_and_loc_file['long'].max()\n",
    "min_long = df_wifi_and_loc_file['long'].min()\n",
    "df_wifi_and_loc_file['normalized_lat'] = normalize(df_wifi_and_loc_file['lat'])\n",
    "df_wifi_and_loc_file['normalized_long'] = normalize(df_wifi_and_loc_file['long'])"
   ]
  },
  {
   "cell_type": "markdown",
   "id": "50932e91",
   "metadata": {},
   "source": [
    "## 2.4. Vizualizing normalized lat and longitude"
   ]
  },
  {
   "cell_type": "code",
   "execution_count": 90,
   "id": "dbcbb1f7",
   "metadata": {},
   "outputs": [
    {
     "data": {
      "image/png": "[encoded data removed]",
      "text/plain": [
       "<Figure size 720x720 with 1 Axes>"
      ]
     },
     "metadata": {
      "needs_background": "light"
     },
     "output_type": "display_data"
    }
   ],
   "source": [
    "markers = ('s', 'X', 'o')\n",
    "colors = ('blue', 'yellow', 'lightgreen')\n",
    "cmap = ListedColormap(colors[:1])\n",
    "\n",
    "\n",
    "fig = plt.figure(figsize=(10,10))\n",
    "plt.scatter(x=df_wifi_and_loc_file['normalized_long'], \n",
    "            y=df_wifi_and_loc_file['normalized_lat'],\n",
    "            alpha=0.6, \n",
    "            c=[cmap(1)],\n",
    "            edgecolor='black',\n",
    "            marker=markers[1], \n",
    "            label='data')\n",
    "\n",
    "plt.xlabel('Longitude')\n",
    "plt.ylabel('Latitude')\n",
    "plt.legend(loc='upper right')\n",
    "plt.tight_layout()"
   ]
  },
  {
   "cell_type": "markdown",
   "id": "4a0bbb3b",
   "metadata": {},
   "source": [
    "## 2.4. Filling the NaN values with -100 db"
   ]
  },
  {
   "cell_type": "code",
   "execution_count": 91,
   "id": "84b83c31",
   "metadata": {
    "scrolled": false
   },
   "outputs": [],
   "source": [
    "df_wifi_and_loc_file.fillna(-100, inplace=True)"
   ]
  },
  {
   "cell_type": "markdown",
   "id": "7b6767a8",
   "metadata": {},
   "source": [
    "## 2.5. Attributing the values to rooms"
   ]
  },
  {
   "cell_type": "code",
   "execution_count": 92,
   "id": "573e1d06",
   "metadata": {
    "scrolled": true
   },
   "outputs": [
    {
     "data": {
      "text/html": [
       "<div>\n",
       "<style scoped>\n",
       "    .dataframe tbody tr th:only-of-type {\n",
       "        vertical-align: middle;\n",
       "    }\n",
       "\n",
       "    .dataframe tbody tr th {\n",
       "        vertical-align: top;\n",
       "    }\n",
       "\n",
       "    .dataframe thead th {\n",
       "        text-align: right;\n",
       "    }\n",
       "</style>\n",
       "<table border=\"1\" class=\"dataframe\">\n",
       "  <thead>\n",
       "    <tr style=\"text-align: right;\">\n",
       "      <th></th>\n",
       "      <th>32:cd:a7:a0:6d:d8</th>\n",
       "      <th>84:b2:61:56:8a:01</th>\n",
       "      <th>84:b2:61:56:8a:02</th>\n",
       "      <th>84:b2:61:56:8a:00</th>\n",
       "      <th>84:b2:61:6d:3d:22</th>\n",
       "      <th>84:b2:61:6d:3d:21</th>\n",
       "      <th>84:b2:61:6d:3d:20</th>\n",
       "      <th>84:b2:61:5e:44:22</th>\n",
       "      <th>84:b2:61:5e:44:21</th>\n",
       "      <th>84:b2:61:5e:44:20</th>\n",
       "      <th>...</th>\n",
       "      <th>84:b2:61:6d:52:af</th>\n",
       "      <th>84:b2:61:40:75:f1</th>\n",
       "      <th>84:b2:61:40:75:f2</th>\n",
       "      <th>84:b2:61:40:75:f0</th>\n",
       "      <th>c4:71:54:39:70:e4</th>\n",
       "      <th>lat</th>\n",
       "      <th>long</th>\n",
       "      <th>normalized_lat</th>\n",
       "      <th>normalized_long</th>\n",
       "      <th>room</th>\n",
       "    </tr>\n",
       "  </thead>\n",
       "  <tbody>\n",
       "    <tr>\n",
       "      <th>12:15:53:00</th>\n",
       "      <td>-39.0</td>\n",
       "      <td>-58.0</td>\n",
       "      <td>-58.0</td>\n",
       "      <td>-58.0</td>\n",
       "      <td>-70.0</td>\n",
       "      <td>-70.0</td>\n",
       "      <td>-70.0</td>\n",
       "      <td>-73.0</td>\n",
       "      <td>-73.0</td>\n",
       "      <td>-72.0</td>\n",
       "      <td>...</td>\n",
       "      <td>-100.0</td>\n",
       "      <td>-100.0</td>\n",
       "      <td>-100.0</td>\n",
       "      <td>-100.0</td>\n",
       "      <td>-100.0</td>\n",
       "      <td>44.434937</td>\n",
       "      <td>26.047613</td>\n",
       "      <td>0.933334</td>\n",
       "      <td>0.032408</td>\n",
       "      <td>0.0</td>\n",
       "    </tr>\n",
       "    <tr>\n",
       "      <th>12:15:54:00</th>\n",
       "      <td>-48.0</td>\n",
       "      <td>-51.0</td>\n",
       "      <td>-52.0</td>\n",
       "      <td>-52.0</td>\n",
       "      <td>-69.0</td>\n",
       "      <td>-71.0</td>\n",
       "      <td>-71.0</td>\n",
       "      <td>-74.0</td>\n",
       "      <td>-74.0</td>\n",
       "      <td>-74.0</td>\n",
       "      <td>...</td>\n",
       "      <td>-100.0</td>\n",
       "      <td>-100.0</td>\n",
       "      <td>-100.0</td>\n",
       "      <td>-100.0</td>\n",
       "      <td>-100.0</td>\n",
       "      <td>44.434937</td>\n",
       "      <td>26.047624</td>\n",
       "      <td>0.933334</td>\n",
       "      <td>0.066667</td>\n",
       "      <td>0.0</td>\n",
       "    </tr>\n",
       "    <tr>\n",
       "      <th>12:15:55:00</th>\n",
       "      <td>-45.0</td>\n",
       "      <td>-52.0</td>\n",
       "      <td>-52.0</td>\n",
       "      <td>-52.0</td>\n",
       "      <td>-72.0</td>\n",
       "      <td>-71.0</td>\n",
       "      <td>-71.0</td>\n",
       "      <td>-73.0</td>\n",
       "      <td>-73.0</td>\n",
       "      <td>-73.0</td>\n",
       "      <td>...</td>\n",
       "      <td>-100.0</td>\n",
       "      <td>-100.0</td>\n",
       "      <td>-100.0</td>\n",
       "      <td>-100.0</td>\n",
       "      <td>-100.0</td>\n",
       "      <td>44.434937</td>\n",
       "      <td>26.047637</td>\n",
       "      <td>0.933334</td>\n",
       "      <td>0.103704</td>\n",
       "      <td>0.0</td>\n",
       "    </tr>\n",
       "    <tr>\n",
       "      <th>12:15:56:00</th>\n",
       "      <td>-51.0</td>\n",
       "      <td>-42.0</td>\n",
       "      <td>-42.0</td>\n",
       "      <td>-42.0</td>\n",
       "      <td>-75.0</td>\n",
       "      <td>-72.0</td>\n",
       "      <td>-75.0</td>\n",
       "      <td>-79.0</td>\n",
       "      <td>-77.0</td>\n",
       "      <td>-79.0</td>\n",
       "      <td>...</td>\n",
       "      <td>-100.0</td>\n",
       "      <td>-100.0</td>\n",
       "      <td>-100.0</td>\n",
       "      <td>-100.0</td>\n",
       "      <td>-100.0</td>\n",
       "      <td>44.434937</td>\n",
       "      <td>26.047652</td>\n",
       "      <td>0.933334</td>\n",
       "      <td>0.148148</td>\n",
       "      <td>0.0</td>\n",
       "    </tr>\n",
       "    <tr>\n",
       "      <th>12:15:59:00</th>\n",
       "      <td>-50.0</td>\n",
       "      <td>-38.0</td>\n",
       "      <td>-37.0</td>\n",
       "      <td>-38.0</td>\n",
       "      <td>-100.0</td>\n",
       "      <td>-100.0</td>\n",
       "      <td>-100.0</td>\n",
       "      <td>-61.0</td>\n",
       "      <td>-61.0</td>\n",
       "      <td>-62.0</td>\n",
       "      <td>...</td>\n",
       "      <td>-100.0</td>\n",
       "      <td>-100.0</td>\n",
       "      <td>-100.0</td>\n",
       "      <td>-100.0</td>\n",
       "      <td>-100.0</td>\n",
       "      <td>44.434937</td>\n",
       "      <td>26.047674</td>\n",
       "      <td>0.933334</td>\n",
       "      <td>0.212005</td>\n",
       "      <td>1.0</td>\n",
       "    </tr>\n",
       "    <tr>\n",
       "      <th>...</th>\n",
       "      <td>...</td>\n",
       "      <td>...</td>\n",
       "      <td>...</td>\n",
       "      <td>...</td>\n",
       "      <td>...</td>\n",
       "      <td>...</td>\n",
       "      <td>...</td>\n",
       "      <td>...</td>\n",
       "      <td>...</td>\n",
       "      <td>...</td>\n",
       "      <td>...</td>\n",
       "      <td>...</td>\n",
       "      <td>...</td>\n",
       "      <td>...</td>\n",
       "      <td>...</td>\n",
       "      <td>...</td>\n",
       "      <td>...</td>\n",
       "      <td>...</td>\n",
       "      <td>...</td>\n",
       "      <td>...</td>\n",
       "      <td>...</td>\n",
       "    </tr>\n",
       "    <tr>\n",
       "      <th>19:09:23:00</th>\n",
       "      <td>-56.0</td>\n",
       "      <td>-55.0</td>\n",
       "      <td>-54.0</td>\n",
       "      <td>-55.0</td>\n",
       "      <td>-72.0</td>\n",
       "      <td>-72.0</td>\n",
       "      <td>-73.0</td>\n",
       "      <td>-71.0</td>\n",
       "      <td>-71.0</td>\n",
       "      <td>-71.0</td>\n",
       "      <td>...</td>\n",
       "      <td>-100.0</td>\n",
       "      <td>-100.0</td>\n",
       "      <td>-100.0</td>\n",
       "      <td>-100.0</td>\n",
       "      <td>-96.0</td>\n",
       "      <td>44.434937</td>\n",
       "      <td>26.047657</td>\n",
       "      <td>0.933333</td>\n",
       "      <td>0.162963</td>\n",
       "      <td>0.0</td>\n",
       "    </tr>\n",
       "    <tr>\n",
       "      <th>19:09:24:00</th>\n",
       "      <td>-49.0</td>\n",
       "      <td>-49.0</td>\n",
       "      <td>-49.0</td>\n",
       "      <td>-49.0</td>\n",
       "      <td>-74.0</td>\n",
       "      <td>-74.0</td>\n",
       "      <td>-74.0</td>\n",
       "      <td>-78.0</td>\n",
       "      <td>-77.0</td>\n",
       "      <td>-78.0</td>\n",
       "      <td>...</td>\n",
       "      <td>-100.0</td>\n",
       "      <td>-100.0</td>\n",
       "      <td>-100.0</td>\n",
       "      <td>-100.0</td>\n",
       "      <td>-100.0</td>\n",
       "      <td>44.434937</td>\n",
       "      <td>26.047642</td>\n",
       "      <td>0.933333</td>\n",
       "      <td>0.120370</td>\n",
       "      <td>0.0</td>\n",
       "    </tr>\n",
       "    <tr>\n",
       "      <th>19:09:25:00</th>\n",
       "      <td>-49.0</td>\n",
       "      <td>-55.0</td>\n",
       "      <td>-54.0</td>\n",
       "      <td>-54.0</td>\n",
       "      <td>-80.0</td>\n",
       "      <td>-80.0</td>\n",
       "      <td>-79.0</td>\n",
       "      <td>-79.0</td>\n",
       "      <td>-80.0</td>\n",
       "      <td>-79.0</td>\n",
       "      <td>...</td>\n",
       "      <td>-100.0</td>\n",
       "      <td>-100.0</td>\n",
       "      <td>-100.0</td>\n",
       "      <td>-100.0</td>\n",
       "      <td>-100.0</td>\n",
       "      <td>44.434937</td>\n",
       "      <td>26.047628</td>\n",
       "      <td>0.933333</td>\n",
       "      <td>0.078189</td>\n",
       "      <td>0.0</td>\n",
       "    </tr>\n",
       "    <tr>\n",
       "      <th>19:09:26:00</th>\n",
       "      <td>-46.0</td>\n",
       "      <td>-61.0</td>\n",
       "      <td>-61.0</td>\n",
       "      <td>-61.0</td>\n",
       "      <td>-72.0</td>\n",
       "      <td>-72.0</td>\n",
       "      <td>-72.0</td>\n",
       "      <td>-74.0</td>\n",
       "      <td>-74.0</td>\n",
       "      <td>-74.0</td>\n",
       "      <td>...</td>\n",
       "      <td>-100.0</td>\n",
       "      <td>-100.0</td>\n",
       "      <td>-100.0</td>\n",
       "      <td>-100.0</td>\n",
       "      <td>-100.0</td>\n",
       "      <td>44.434937</td>\n",
       "      <td>26.047614</td>\n",
       "      <td>0.933333</td>\n",
       "      <td>0.037037</td>\n",
       "      <td>0.0</td>\n",
       "    </tr>\n",
       "    <tr>\n",
       "      <th>19:09:27:00</th>\n",
       "      <td>-46.0</td>\n",
       "      <td>-61.0</td>\n",
       "      <td>-61.0</td>\n",
       "      <td>-61.0</td>\n",
       "      <td>-72.0</td>\n",
       "      <td>-72.0</td>\n",
       "      <td>-72.0</td>\n",
       "      <td>-74.0</td>\n",
       "      <td>-74.0</td>\n",
       "      <td>-74.0</td>\n",
       "      <td>...</td>\n",
       "      <td>-100.0</td>\n",
       "      <td>-100.0</td>\n",
       "      <td>-100.0</td>\n",
       "      <td>-100.0</td>\n",
       "      <td>-100.0</td>\n",
       "      <td>44.434937</td>\n",
       "      <td>26.047602</td>\n",
       "      <td>0.933333</td>\n",
       "      <td>0.000367</td>\n",
       "      <td>0.0</td>\n",
       "    </tr>\n",
       "  </tbody>\n",
       "</table>\n",
       "<p>530 rows × 46 columns</p>\n",
       "</div>"
      ],
      "text/plain": [
       "             32:cd:a7:a0:6d:d8  84:b2:61:56:8a:01  84:b2:61:56:8a:02  \\\n",
       "12:15:53:00              -39.0              -58.0              -58.0   \n",
       "12:15:54:00              -48.0              -51.0              -52.0   \n",
       "12:15:55:00              -45.0              -52.0              -52.0   \n",
       "12:15:56:00              -51.0              -42.0              -42.0   \n",
       "12:15:59:00              -50.0              -38.0              -37.0   \n",
       "...                        ...                ...                ...   \n",
       "19:09:23:00              -56.0              -55.0              -54.0   \n",
       "19:09:24:00              -49.0              -49.0              -49.0   \n",
       "19:09:25:00              -49.0              -55.0              -54.0   \n",
       "19:09:26:00              -46.0              -61.0              -61.0   \n",
       "19:09:27:00              -46.0              -61.0              -61.0   \n",
       "\n",
       "             84:b2:61:56:8a:00  84:b2:61:6d:3d:22  84:b2:61:6d:3d:21  \\\n",
       "12:15:53:00              -58.0              -70.0              -70.0   \n",
       "12:15:54:00              -52.0              -69.0              -71.0   \n",
       "12:15:55:00              -52.0              -72.0              -71.0   \n",
       "12:15:56:00              -42.0              -75.0              -72.0   \n",
       "12:15:59:00              -38.0             -100.0             -100.0   \n",
       "...                        ...                ...                ...   \n",
       "19:09:23:00              -55.0              -72.0              -72.0   \n",
       "19:09:24:00              -49.0              -74.0              -74.0   \n",
       "19:09:25:00              -54.0              -80.0              -80.0   \n",
       "19:09:26:00              -61.0              -72.0              -72.0   \n",
       "19:09:27:00              -61.0              -72.0              -72.0   \n",
       "\n",
       "             84:b2:61:6d:3d:20  84:b2:61:5e:44:22  84:b2:61:5e:44:21  \\\n",
       "12:15:53:00              -70.0              -73.0              -73.0   \n",
       "12:15:54:00              -71.0              -74.0              -74.0   \n",
       "12:15:55:00              -71.0              -73.0              -73.0   \n",
       "12:15:56:00              -75.0              -79.0              -77.0   \n",
       "12:15:59:00             -100.0              -61.0              -61.0   \n",
       "...                        ...                ...                ...   \n",
       "19:09:23:00              -73.0              -71.0              -71.0   \n",
       "19:09:24:00              -74.0              -78.0              -77.0   \n",
       "19:09:25:00              -79.0              -79.0              -80.0   \n",
       "19:09:26:00              -72.0              -74.0              -74.0   \n",
       "19:09:27:00              -72.0              -74.0              -74.0   \n",
       "\n",
       "             84:b2:61:5e:44:20  ...  84:b2:61:6d:52:af  84:b2:61:40:75:f1  \\\n",
       "12:15:53:00              -72.0  ...             -100.0             -100.0   \n",
       "12:15:54:00              -74.0  ...             -100.0             -100.0   \n",
       "12:15:55:00              -73.0  ...             -100.0             -100.0   \n",
       "12:15:56:00              -79.0  ...             -100.0             -100.0   \n",
       "12:15:59:00              -62.0  ...             -100.0             -100.0   \n",
       "...                        ...  ...                ...                ...   \n",
       "19:09:23:00              -71.0  ...             -100.0             -100.0   \n",
       "19:09:24:00              -78.0  ...             -100.0             -100.0   \n",
       "19:09:25:00              -79.0  ...             -100.0             -100.0   \n",
       "19:09:26:00              -74.0  ...             -100.0             -100.0   \n",
       "19:09:27:00              -74.0  ...             -100.0             -100.0   \n",
       "\n",
       "             84:b2:61:40:75:f2  84:b2:61:40:75:f0  c4:71:54:39:70:e4  \\\n",
       "12:15:53:00             -100.0             -100.0             -100.0   \n",
       "12:15:54:00             -100.0             -100.0             -100.0   \n",
       "12:15:55:00             -100.0             -100.0             -100.0   \n",
       "12:15:56:00             -100.0             -100.0             -100.0   \n",
       "12:15:59:00             -100.0             -100.0             -100.0   \n",
       "...                        ...                ...                ...   \n",
       "19:09:23:00             -100.0             -100.0              -96.0   \n",
       "19:09:24:00             -100.0             -100.0             -100.0   \n",
       "19:09:25:00             -100.0             -100.0             -100.0   \n",
       "19:09:26:00             -100.0             -100.0             -100.0   \n",
       "19:09:27:00             -100.0             -100.0             -100.0   \n",
       "\n",
       "                   lat       long  normalized_lat  normalized_long  room  \n",
       "12:15:53:00  44.434937  26.047613        0.933334         0.032408   0.0  \n",
       "12:15:54:00  44.434937  26.047624        0.933334         0.066667   0.0  \n",
       "12:15:55:00  44.434937  26.047637        0.933334         0.103704   0.0  \n",
       "12:15:56:00  44.434937  26.047652        0.933334         0.148148   0.0  \n",
       "12:15:59:00  44.434937  26.047674        0.933334         0.212005   1.0  \n",
       "...                ...        ...             ...              ...   ...  \n",
       "19:09:23:00  44.434937  26.047657        0.933333         0.162963   0.0  \n",
       "19:09:24:00  44.434937  26.047642        0.933333         0.120370   0.0  \n",
       "19:09:25:00  44.434937  26.047628        0.933333         0.078189   0.0  \n",
       "19:09:26:00  44.434937  26.047614        0.933333         0.037037   0.0  \n",
       "19:09:27:00  44.434937  26.047602        0.933333         0.000367   0.0  \n",
       "\n",
       "[530 rows x 46 columns]"
      ]
     },
     "execution_count": 92,
     "metadata": {},
     "output_type": "execute_result"
    }
   ],
   "source": [
    "df_wifi_and_loc_file['room'] = np.nan\n",
    "\n",
    "df_wifi_and_loc_file.loc[(df_wifi_and_loc_file['normalized_long'] <= 0.2), 'room'] = 0\n",
    "df_wifi_and_loc_file.loc[(df_wifi_and_loc_file['normalized_long'] > 0.2) &\n",
    "                         (df_wifi_and_loc_file['normalized_long'] <= 0.3), 'room'] = 1\n",
    "df_wifi_and_loc_file.loc[(df_wifi_and_loc_file['normalized_long'] > 0.3) &\n",
    "                         (df_wifi_and_loc_file['normalized_long'] < 0.85), 'room'] = 2\n",
    "df_wifi_and_loc_file.loc[(df_wifi_and_loc_file['normalized_long'] >= 0.85), 'room'] = 3\n",
    "df_wifi_and_loc_file"
   ]
  },
  {
   "cell_type": "code",
   "execution_count": 144,
   "id": "037e103d",
   "metadata": {
    "scrolled": false
   },
   "outputs": [
    {
     "name": "stderr",
     "output_type": "stream",
     "text": [
      "C:\\Users\\Enachele\\AppData\\Local\\Temp\\ipykernel_10220\\480135349.py:8: UserWarning: You passed a edgecolor/edgecolors ('black') for an unfilled marker ('x').  Matplotlib is ignoring the edgecolor in favor of the facecolor.  This behavior may change in the future.\n",
      "  plt.scatter(x=df_wifi_and_loc_file.loc[df_wifi_and_loc_file.room== cl]['normalized_long'],\n"
     ]
    },
    {
     "data": {
      "image/png": "[encoded data removed]",
      "text/plain": [
       "<Figure size 720x720 with 1 Axes>"
      ]
     },
     "metadata": {
      "needs_background": "light"
     },
     "output_type": "display_data"
    }
   ],
   "source": [
    "markers = ('s', 'X', 'o', 'x')\n",
    "colors = ('red', 'yellow', 'blue', 'green')\n",
    "cmap = ListedColormap(colors[:len(np.unique(df_wifi_and_loc_file['room']))])\n",
    "\n",
    "\n",
    "fig = plt.figure(figsize=(10,10))\n",
    "for idx, cl in enumerate(np.unique(df_wifi_and_loc_file['room'])):\n",
    "        plt.scatter(x=df_wifi_and_loc_file.loc[df_wifi_and_loc_file.room== cl]['normalized_long'], \n",
    "                    y=df_wifi_and_loc_file.loc[df_wifi_and_loc_file.room== cl]['normalized_lat'],\n",
    "                    alpha=0.6, \n",
    "                    c=[cmap(idx)],\n",
    "                    edgecolor='black',\n",
    "                    marker=markers[idx], \n",
    "                    label=cl)\n",
    "\n",
    "plt.xlabel('Longitude')\n",
    "plt.ylabel('Latitude')\n",
    "plt.legend(loc='upper right')\n",
    "plt.tight_layout()"
   ]
  },
  {
   "cell_type": "markdown",
   "id": "0e2e9434",
   "metadata": {},
   "source": [
    "# 3. Data preprocessing"
   ]
  },
  {
   "cell_type": "markdown",
   "id": "db9b6b16",
   "metadata": {},
   "source": [
    "## 3.1. Splitting data in labels and target for the first DNN (Step 1)"
   ]
  },
  {
   "cell_type": "code",
   "execution_count": 94,
   "id": "e8efff58",
   "metadata": {},
   "outputs": [
    {
     "data": {
      "text/plain": [
       "(array([[ -39.,  -58.,  -58., ..., -100., -100., -100.],\n",
       "        [ -48.,  -51.,  -52., ..., -100., -100., -100.],\n",
       "        [ -45.,  -52.,  -52., ..., -100., -100., -100.],\n",
       "        ...,\n",
       "        [ -49.,  -55.,  -54., ..., -100., -100., -100.],\n",
       "        [ -46.,  -61.,  -61., ..., -100., -100., -100.],\n",
       "        [ -46.,  -61.,  -61., ..., -100., -100., -100.]]),\n",
       " array([0., 0., 0., 0., 1., 1., 1., 1., 1., 1., 1., 1., 1., 1., 1., 1., 1.,\n",
       "        1., 1., 2., 2., 2., 2., 2., 2., 2., 2., 2., 2., 2., 2., 2., 3., 3.,\n",
       "        3., 3., 3., 3., 3., 3., 3., 3., 3., 3., 3., 3., 3., 3., 3., 3., 3.,\n",
       "        3., 2., 2., 2., 2., 2., 2., 2., 2., 2., 2., 2., 2., 2., 2., 1., 1.,\n",
       "        1., 0., 0., 0., 0., 0., 0., 0., 0., 0., 1., 1., 1., 1., 1., 1., 1.,\n",
       "        1., 1., 1., 1., 1., 1., 1., 1., 2., 2., 2., 2., 2., 2., 2., 2., 2.,\n",
       "        2., 2., 2., 2., 3., 3., 3., 3., 3., 3., 3., 3., 3., 3., 3., 3., 3.,\n",
       "        3., 3., 3., 3., 3., 3., 3., 2., 2., 2., 2., 2., 2., 2., 2., 2., 2.,\n",
       "        2., 2., 2., 1., 1., 1., 0., 0., 0., 0., 0., 0., 0., 0., 0., 0., 1.,\n",
       "        1., 1., 1., 1., 1., 1., 1., 1., 1., 1., 1., 1., 1., 1., 2., 2., 2.,\n",
       "        2., 2., 2., 2., 2., 2., 2., 2., 2., 2., 3., 3., 3., 3., 3., 3., 3.,\n",
       "        3., 3., 3., 3., 3., 3., 3., 3., 3., 3., 3., 3., 3., 2., 2., 2., 2.,\n",
       "        2., 2., 2., 2., 2., 2., 2., 2., 2., 1., 1., 1., 1., 0., 0., 0., 0.,\n",
       "        0., 0., 0., 0., 0., 0., 1., 1., 1., 1., 1., 1., 1., 1., 1., 1., 1.,\n",
       "        1., 1., 1., 1., 1., 2., 2., 2., 2., 2., 2., 2., 2., 2., 2., 2., 2.,\n",
       "        2., 2., 2., 3., 3., 3., 3., 3., 3., 3., 3., 3., 3., 3., 3., 3., 3.,\n",
       "        3., 3., 3., 3., 3., 3., 3., 2., 2., 2., 2., 2., 2., 2., 2., 2., 2.,\n",
       "        2., 2., 2., 2., 2., 1., 1., 1., 0., 0., 0., 0., 0., 0., 0., 0., 0.,\n",
       "        0., 1., 1., 1., 1., 1., 1., 1., 1., 1., 1., 1., 1., 1., 1., 2., 2.,\n",
       "        2., 2., 2., 2., 2., 2., 2., 2., 2., 2., 3., 3., 3., 3., 3., 3., 3.,\n",
       "        3., 3., 3., 3., 3., 3., 3., 3., 3., 3., 3., 3., 3., 2., 2., 2., 2.,\n",
       "        2., 2., 2., 2., 2., 2., 2., 2., 2., 1., 1., 1., 1., 0., 0., 0., 0.,\n",
       "        0., 0., 0., 0., 0., 0., 0., 1., 1., 1., 1., 1., 1., 1., 1., 1., 1.,\n",
       "        1., 1., 1., 1., 1., 1., 2., 2., 2., 2., 2., 2., 2., 2., 2., 2., 2.,\n",
       "        2., 2., 3., 3., 3., 3., 3., 3., 3., 3., 3., 3., 3., 3., 3., 3., 3.,\n",
       "        3., 3., 3., 3., 3., 2., 2., 2., 2., 2., 2., 2., 2., 2., 2., 2., 2.,\n",
       "        2., 2., 2., 1., 1., 1., 0., 0., 0., 0., 0., 0., 0., 0., 0., 1., 1.,\n",
       "        1., 1., 1., 1., 1., 1., 1., 1., 1., 1., 1., 1., 1., 1., 2., 2., 2.,\n",
       "        2., 2., 2., 2., 2., 2., 2., 2., 2., 3., 3., 3., 3., 3., 3., 3., 3.,\n",
       "        3., 3., 3., 3., 3., 3., 3., 3., 3., 3., 3., 3., 3., 3., 2., 2., 2.,\n",
       "        2., 2., 2., 2., 2., 2., 2., 2., 2., 2., 2., 1., 1., 1., 0., 0., 0.,\n",
       "        0., 0., 0.]))"
      ]
     },
     "execution_count": 94,
     "metadata": {},
     "output_type": "execute_result"
    }
   ],
   "source": [
    "X = df_wifi_and_loc_file.iloc[:, :41].values\n",
    "y = df_wifi_and_loc_file['room'].values\n",
    "X, y"
   ]
  },
  {
   "cell_type": "markdown",
   "id": "35e7a5a6",
   "metadata": {},
   "source": [
    "## 3.2. Splitting the dataset in Training and Test set"
   ]
  },
  {
   "cell_type": "code",
   "execution_count": 95,
   "id": "e3a98d4b",
   "metadata": {},
   "outputs": [
    {
     "data": {
      "text/plain": [
       "((333, 41), (144, 41), (53, 41), (333,), (144,), (53,))"
      ]
     },
     "execution_count": 95,
     "metadata": {},
     "output_type": "execute_result"
    }
   ],
   "source": [
    "val_limit = int(len(df_wifi_and_loc_file)*0.9)\n",
    "\n",
    "X_val = X[val_limit:, :]\n",
    "y_val = y[val_limit:]\n",
    "\n",
    "X = X[:val_limit, :]\n",
    "y = y[:val_limit]\n",
    "X_train, X_test, y_train, y_test = train_test_split(X, y, test_size = 0.3, random_state = 0)\n",
    "X_train.shape, X_test.shape, X_val.shape, y_train.shape, y_test.shape, y_val.shape"
   ]
  },
  {
   "cell_type": "code",
   "execution_count": 96,
   "id": "ba485e79",
   "metadata": {},
   "outputs": [
    {
     "name": "stdout",
     "output_type": "stream",
     "text": [
      "[[ -68.  -49.  -49. ... -100. -100. -100.]\n",
      " [ -61.  -46.  -46. ... -100. -100. -100.]\n",
      " [ -84.  -80.  -79. ... -100. -100. -100.]\n",
      " ...\n",
      " [ -85.  -81.  -80. ... -100. -100. -100.]\n",
      " [ -70.  -66.  -66. ... -100. -100. -100.]\n",
      " [ -77.  -80.  -80. ... -100. -100. -100.]]\n",
      "X_train number of values:  333\n"
     ]
    }
   ],
   "source": [
    "print(X_train)\n",
    "print('X_train number of values: ', len(X_train))"
   ]
  },
  {
   "cell_type": "markdown",
   "id": "4e012dbd",
   "metadata": {},
   "source": [
    "## 3.3. Features scaling"
   ]
  },
  {
   "cell_type": "code",
   "execution_count": 97,
   "id": "a11be4d8",
   "metadata": {},
   "outputs": [
    {
     "data": {
      "text/plain": [
       "(array([[-0.18074807,  0.90458361,  0.90867257, ..., -0.06211824,\n",
       "         -0.06211824, -0.09361297],\n",
       "        [ 0.38101693,  1.12932348,  1.13431609, ..., -0.06211824,\n",
       "         -0.06211824, -0.09361297],\n",
       "        [-1.46478236, -1.4177284 , -1.34776267, ..., -0.06211824,\n",
       "         -0.06211824, -0.09361297],\n",
       "        ...,\n",
       "        [-1.54503451, -1.49264169, -1.42297718, ..., -0.06211824,\n",
       "         -0.06211824, -0.09361297],\n",
       "        [-0.34125236, -0.36894233, -0.36997407, ..., -0.06211824,\n",
       "         -0.06211824, -0.09361297],\n",
       "        [-0.90301736, -1.4177284 , -1.42297718, ..., -0.06211824,\n",
       "         -0.06211824, -0.09361297]]),\n",
       " array([[ 1.02303408,  0.38019057,  0.38217101, ..., -0.06211824,\n",
       "         -0.06211824, -0.09361297],\n",
       "        [ 0.62177336,  1.12932348,  1.13431609, ..., -0.06211824,\n",
       "         -0.06211824, -0.09361297],\n",
       "        [-0.50175664, -0.06928917, -0.21954505, ..., 10.28056905,\n",
       "         10.28056905, -0.09361297],\n",
       "        ...,\n",
       "        [ 0.1402605 ,  0.53001715,  0.53260003, ..., -0.06211824,\n",
       "         -0.06211824, -0.09361297],\n",
       "        [ 0.70202551,  1.35406335,  1.35995962, ..., -0.06211824,\n",
       "         -0.06211824, -0.09361297],\n",
       "        [ 1.34404265,  0.23036399,  0.231742  , ..., -0.06211824,\n",
       "         -0.06211824, -0.09361297]]),\n",
       " array([[-1.14377379, -1.64246827, -1.6486207 , ..., -0.06211824,\n",
       "         -0.06211824, -0.09361297],\n",
       "        [-1.62528665, -1.49264169, -1.57340619, ..., -0.06211824,\n",
       "         -0.06211824, -0.09361297],\n",
       "        [-1.70553879, -1.56755498, -1.57340619, ..., -0.06211824,\n",
       "         -0.06211824, -0.09361297],\n",
       "        ...,\n",
       "        [ 1.34404265,  0.45510386,  0.53260003, ..., -0.06211824,\n",
       "         -0.06211824, -0.09361297],\n",
       "        [ 1.58479908,  0.00562412,  0.00609847, ..., -0.06211824,\n",
       "         -0.06211824, -0.09361297],\n",
       "        [ 1.58479908,  0.00562412,  0.00609847, ..., -0.06211824,\n",
       "         -0.06211824, -0.09361297]]))"
      ]
     },
     "execution_count": 97,
     "metadata": {},
     "output_type": "execute_result"
    }
   ],
   "source": [
    "sc = StandardScaler()\n",
    "X_train = sc.fit_transform(X_train)\n",
    "X_test = sc.transform(X_test) \n",
    "X_val = sc.transform(X_val)\n",
    "X_train, X_test, X_val"
   ]
  },
  {
   "cell_type": "code",
   "execution_count": 98,
   "id": "7fe783cd",
   "metadata": {},
   "outputs": [
    {
     "data": {
      "text/plain": [
       "(333, 41)"
      ]
     },
     "execution_count": 98,
     "metadata": {},
     "output_type": "execute_result"
    }
   ],
   "source": [
    "X_train.shape"
   ]
  },
  {
   "cell_type": "code",
   "execution_count": 99,
   "id": "0ea871b6",
   "metadata": {},
   "outputs": [
    {
     "data": {
      "text/plain": [
       "(333,)"
      ]
     },
     "execution_count": 99,
     "metadata": {},
     "output_type": "execute_result"
    }
   ],
   "source": [
    "y_train.shape"
   ]
  },
  {
   "cell_type": "markdown",
   "id": "26981ef8",
   "metadata": {},
   "source": [
    "# 4. Building the first DNN model"
   ]
  },
  {
   "cell_type": "markdown",
   "id": "fd052112",
   "metadata": {},
   "source": [
    "### 4.1. Initializing the NN"
   ]
  },
  {
   "cell_type": "code",
   "execution_count": 100,
   "id": "9fcea68d",
   "metadata": {},
   "outputs": [],
   "source": [
    "nn = Sequential()"
   ]
  },
  {
   "cell_type": "markdown",
   "id": "f883bf63",
   "metadata": {},
   "source": [
    "### 4.2. Adding the input layer and the first hidden layer"
   ]
  },
  {
   "cell_type": "code",
   "execution_count": 101,
   "id": "59e478e4",
   "metadata": {},
   "outputs": [],
   "source": [
    "# Adding a fully-connected layer (it automatically create the input layer)\n",
    "# num of neurons = num of features (41 APs)\n",
    "input_size = 41\n",
    "nn.add(Dense(input_dim=input_size, units=256, activation='relu'))"
   ]
  },
  {
   "cell_type": "markdown",
   "id": "751b178c",
   "metadata": {},
   "source": [
    "### 4.3. Adding the second layer"
   ]
  },
  {
   "cell_type": "code",
   "execution_count": 102,
   "id": "539e5cea",
   "metadata": {},
   "outputs": [],
   "source": [
    "# Adding a layer with 128 neurons\n",
    "nn.add(Dense(units=128, activation='relu'))"
   ]
  },
  {
   "cell_type": "markdown",
   "id": "44b42fcb",
   "metadata": {},
   "source": [
    "### 4.4. Adding the output layer"
   ]
  },
  {
   "cell_type": "code",
   "execution_count": 103,
   "id": "58c76990",
   "metadata": {},
   "outputs": [],
   "source": [
    "# sotmax for > 2 categories\n",
    "classes = 4 # number of rooms\n",
    "nn.add(Dense(units=classes, activation='softmax'))"
   ]
  },
  {
   "cell_type": "markdown",
   "id": "b53321c1",
   "metadata": {},
   "source": [
    "# 5. Training the DNN"
   ]
  },
  {
   "cell_type": "markdown",
   "id": "bbb7ef68",
   "metadata": {},
   "source": [
    "### 5.1. Compiling the DNN"
   ]
  },
  {
   "cell_type": "code",
   "execution_count": 104,
   "id": "f4e18f95",
   "metadata": {},
   "outputs": [],
   "source": [
    "class PlotLearning(keras.callbacks.Callback):\n",
    "    \"\"\"\n",
    "    Callback to plot the learning curves of the model during training.\n",
    "    \"\"\"\n",
    "    def on_train_begin(self, logs={}):\n",
    "        self.metrics = {}\n",
    "        for metric in logs:\n",
    "            self.metrics[metric] = []\n",
    "            \n",
    "\n",
    "    def on_epoch_end(self, epoch, logs={}):\n",
    "        # Storing metrics\n",
    "        for metric in logs:\n",
    "            if metric in self.metrics:\n",
    "                self.metrics[metric].append(logs.get(metric))\n",
    "            else:\n",
    "                self.metrics[metric] = [logs.get(metric)]\n",
    "        \n",
    "        # Plotting\n",
    "        metrics = [x for x in logs if 'val' not in x]\n",
    "        \n",
    "        f, axs = plt.subplots(1, len(metrics), figsize=(15,5))\n",
    "        clear_output(wait=True)\n",
    "\n",
    "        for i, metric in enumerate(metrics):\n",
    "            axs[i].plot(range(1, epoch + 2), \n",
    "                        self.metrics[metric], \n",
    "                        label=metric)\n",
    "            if logs['val_' + metric]:\n",
    "                axs[i].plot(range(1, epoch + 2), \n",
    "                            self.metrics['val_' + metric], \n",
    "                            label='val_' + metric)\n",
    "                \n",
    "            axs[i].legend()\n",
    "            axs[i].grid()\n",
    "\n",
    "        plt.tight_layout()\n",
    "        plt.show()"
   ]
  },
  {
   "cell_type": "code",
   "execution_count": 105,
   "id": "e515e533",
   "metadata": {},
   "outputs": [],
   "source": [
    "# Optimizer = Adam ==> Stochastic Gradient Descent\n",
    "nn.compile(optimizer = 'adam',\n",
    "           loss = 'sparse_categorical_crossentropy',\n",
    "           metrics = ['accuracy'])"
   ]
  },
  {
   "cell_type": "markdown",
   "id": "9f095534",
   "metadata": {},
   "source": [
    "### 5.2. Training the NN on the Training set"
   ]
  },
  {
   "cell_type": "code",
   "execution_count": 106,
   "id": "f2bcc02c",
   "metadata": {},
   "outputs": [
    {
     "data": {
      "image/png": "[encoded data removed]",
      "text/plain": [
       "<Figure size 1080x360 with 2 Axes>"
      ]
     },
     "metadata": {
      "needs_background": "light"
     },
     "output_type": "display_data"
    },
    {
     "name": "stdout",
     "output_type": "stream",
     "text": [
      "\b\b\b\b\b\b\b\b\b\b\b\b\b\b\b\b\b\b\b\b\b\b\b\b\b\b\b\b\b\b\b\b\b\b\b\b\b\b\b\b\b\b\b\b\b\b\b\b\b\b\b\b\b\b\b\b\b\b\b\b\b\b\b\b\b\b\b\b\b\b\b\b\b\b\b\b\b\b\b\b\b\b\r",
      "10/10 [==============================] - 0s 35ms/step - loss: 0.0356 - accuracy: 0.9833 - val_loss: 0.2485 - val_accuracy: 0.8824\n"
     ]
    },
    {
     "data": {
      "text/plain": [
       "<keras.callbacks.History at 0x20f34f22520>"
      ]
     },
     "execution_count": 106,
     "metadata": {},
     "output_type": "execute_result"
    }
   ],
   "source": [
    "nn.fit(X_train, \n",
    "       y_train, \n",
    "       batch_size=32, \n",
    "       epochs=30, \n",
    "       validation_split=0.1, \n",
    "       callbacks=[PlotLearning()])"
   ]
  },
  {
   "cell_type": "markdown",
   "id": "feaff4fb",
   "metadata": {},
   "source": [
    "# 6. Making predictions and evaluating the model"
   ]
  },
  {
   "cell_type": "markdown",
   "id": "6d722471",
   "metadata": {},
   "source": [
    "### 6.1. Predicting the test results"
   ]
  },
  {
   "cell_type": "code",
   "execution_count": 107,
   "id": "c0680387",
   "metadata": {},
   "outputs": [
    {
     "name": "stdout",
     "output_type": "stream",
     "text": [
      "5/5 [==============================] - 0s 1ms/step\n"
     ]
    }
   ],
   "source": [
    "y_pred = nn.predict(X_test)"
   ]
  },
  {
   "cell_type": "code",
   "execution_count": 108,
   "id": "cc41cb76",
   "metadata": {
    "scrolled": true
   },
   "outputs": [
    {
     "data": {
      "text/plain": [
       "array([[1.13686883e-05, 9.99494433e-01, 4.93918371e-04, 1.98177773e-07],\n",
       "       [2.49095261e-02, 9.70604181e-01, 4.48615989e-03, 1.61719981e-07],\n",
       "       [2.34264535e-11, 1.28497832e-05, 9.99987125e-01, 1.42287224e-10],\n",
       "       [1.15582543e-05, 7.94120933e-05, 5.60222485e-04, 9.99348700e-01],\n",
       "       [2.11333577e-03, 9.42745924e-01, 5.50585985e-02, 8.21956055e-05],\n",
       "       [5.54232111e-06, 9.99994040e-01, 4.53594510e-07, 8.89654149e-12],\n",
       "       [2.61465175e-07, 1.73144399e-05, 2.20623679e-05, 9.99960423e-01],\n",
       "       [2.95738596e-03, 2.74648368e-01, 7.22379088e-01, 1.50403521e-05],\n",
       "       [1.77158890e-05, 8.49927237e-05, 5.44476835e-03, 9.94452536e-01],\n",
       "       [5.66051858e-05, 1.78568283e-04, 9.99329209e-01, 4.35613241e-04],\n",
       "       [9.96363103e-01, 3.40860290e-03, 2.24043819e-04, 4.25043709e-06],\n",
       "       [3.17273923e-04, 9.99661565e-01, 2.12087889e-05, 1.44031898e-09],\n",
       "       [9.98706579e-01, 4.38706891e-04, 8.53198871e-04, 1.56044769e-06],\n",
       "       [7.81682729e-07, 9.99953508e-01, 4.57274909e-05, 4.47036399e-08],\n",
       "       [3.55973461e-05, 1.45517697e-04, 9.99577463e-01, 2.41399612e-04],\n",
       "       [2.69503187e-04, 9.99710023e-01, 4.60625415e-06, 1.58434341e-05],\n",
       "       [3.49583935e-08, 7.37407481e-06, 5.77783612e-06, 9.99986768e-01],\n",
       "       [7.31971720e-03, 2.11116839e-02, 9.71567512e-01, 1.07059191e-06],\n",
       "       [9.73886430e-01, 2.54024435e-02, 6.05375215e-04, 1.05736945e-04],\n",
       "       [1.91454874e-05, 2.58620767e-05, 9.46923811e-03, 9.90485728e-01],\n",
       "       [9.99733508e-01, 1.53569890e-05, 2.49691424e-04, 1.47092896e-06],\n",
       "       [4.02244841e-05, 2.47329008e-05, 9.80377614e-01, 1.95574183e-02],\n",
       "       [1.72754262e-05, 9.86147463e-01, 1.38353286e-02, 2.97426546e-08],\n",
       "       [1.60786203e-06, 1.71588072e-05, 5.95567573e-04, 9.99385595e-01],\n",
       "       [5.80952037e-05, 1.07056723e-04, 8.87947142e-01, 1.11887693e-01],\n",
       "       [1.43407131e-04, 2.33715677e-04, 9.99252737e-01, 3.70160822e-04],\n",
       "       [1.05947338e-03, 9.98910904e-01, 2.93979629e-05, 2.34627862e-07],\n",
       "       [1.32656971e-03, 2.46129278e-02, 9.74059582e-01, 1.00226782e-06],\n",
       "       [5.89930378e-02, 9.40889955e-01, 1.14900911e-04, 2.09048949e-06],\n",
       "       [4.14725264e-07, 9.92506206e-01, 7.49334833e-03, 1.21870460e-08],\n",
       "       [9.84445632e-01, 1.55233098e-02, 3.09858151e-05, 1.17837970e-08],\n",
       "       [3.09091397e-02, 9.64171469e-01, 4.91604535e-03, 3.30442094e-06],\n",
       "       [1.11986599e-04, 9.99885917e-01, 2.13903991e-06, 3.82713878e-08],\n",
       "       [5.81343847e-05, 1.14993076e-04, 9.85312641e-01, 1.45142060e-02],\n",
       "       [1.75705994e-04, 8.01646820e-05, 9.99425530e-01, 3.18573526e-04],\n",
       "       [2.74437698e-05, 3.38038371e-05, 9.62405931e-03, 9.90314782e-01],\n",
       "       [1.34152922e-09, 7.34982848e-07, 9.99999166e-01, 6.05469239e-08],\n",
       "       [1.53580615e-02, 9.79639590e-01, 5.00041805e-03, 1.88903391e-06],\n",
       "       [1.65335201e-02, 9.75156009e-01, 8.30865465e-03, 1.87393641e-06],\n",
       "       [1.54894242e-05, 9.42930455e-06, 2.33826805e-02, 9.76592362e-01],\n",
       "       [2.45734607e-03, 9.97488618e-01, 5.17993867e-05, 2.28397289e-06],\n",
       "       [2.01579110e-06, 1.68042516e-06, 9.99028921e-01, 9.67364816e-04],\n",
       "       [4.63608233e-03, 8.83130908e-01, 1.12232901e-01, 7.24031395e-08],\n",
       "       [1.17673599e-05, 2.92412034e-04, 9.51408409e-04, 9.98744369e-01],\n",
       "       [1.27365156e-05, 1.72973432e-05, 2.37527117e-02, 9.76217210e-01],\n",
       "       [9.99444067e-01, 4.00906356e-05, 5.15597931e-04, 2.29851025e-07],\n",
       "       [2.05841843e-06, 1.58295006e-06, 5.12817442e-01, 4.87178862e-01],\n",
       "       [5.43971593e-03, 9.54358101e-01, 4.02021036e-02, 1.09743148e-07],\n",
       "       [1.43599394e-07, 9.87878084e-01, 1.21217500e-02, 4.58360816e-09],\n",
       "       [1.04443609e-06, 3.00486481e-05, 2.90556019e-03, 9.97063339e-01],\n",
       "       [8.52944322e-06, 2.21192422e-05, 1.36908457e-01, 8.63060832e-01],\n",
       "       [4.92337313e-06, 9.99582350e-01, 4.12373920e-04, 3.47794355e-07],\n",
       "       [4.34287983e-07, 1.17326399e-05, 9.99987721e-01, 1.08332090e-08],\n",
       "       [1.82081916e-04, 9.99800265e-01, 7.57302587e-06, 1.01485775e-05],\n",
       "       [3.85201583e-03, 4.14790392e-01, 5.81357002e-01, 6.33159004e-07],\n",
       "       [2.13871291e-03, 2.63994443e-04, 8.26181054e-01, 1.71416298e-01],\n",
       "       [1.41193213e-05, 7.97394841e-06, 1.40415803e-02, 9.85936284e-01],\n",
       "       [9.85430717e-01, 1.42719168e-02, 2.94258643e-04, 3.04832724e-06],\n",
       "       [1.52898848e-01, 8.47087622e-01, 7.79522270e-06, 5.74687192e-06],\n",
       "       [1.89549522e-04, 8.50663346e-05, 6.83542252e-01, 3.16183180e-01],\n",
       "       [6.16653097e-07, 4.52050386e-04, 3.31178962e-05, 9.99514222e-01],\n",
       "       [1.03320787e-07, 2.06387031e-05, 5.05765956e-06, 9.99974251e-01],\n",
       "       [3.90049900e-06, 9.99916792e-01, 7.93427462e-05, 1.15630527e-08],\n",
       "       [1.43669354e-06, 2.27196884e-04, 5.87320246e-05, 9.99712646e-01],\n",
       "       [2.22589351e-05, 2.13358653e-04, 1.91768317e-03, 9.97846603e-01],\n",
       "       [2.74012864e-01, 7.25953102e-01, 2.58568707e-05, 8.21553749e-06],\n",
       "       [9.99673367e-01, 7.63516218e-05, 2.49521225e-04, 7.06061712e-07],\n",
       "       [3.64584537e-07, 1.21785588e-05, 9.32119727e-01, 6.78677857e-02],\n",
       "       [9.11083771e-05, 2.53818464e-04, 9.98881280e-01, 7.73769745e-04],\n",
       "       [1.96822546e-02, 9.80312109e-01, 5.30558964e-06, 3.58056440e-07],\n",
       "       [1.23677682e-06, 5.12109818e-06, 9.99949098e-01, 4.45681908e-05],\n",
       "       [4.29223219e-05, 4.54931323e-05, 1.98954046e-02, 9.80016291e-01],\n",
       "       [4.74195913e-05, 2.72410671e-05, 9.93463159e-01, 6.46227319e-03],\n",
       "       [9.16931299e-07, 1.23925483e-05, 4.59159892e-05, 9.99940753e-01],\n",
       "       [2.18711692e-04, 1.39715688e-04, 9.99158382e-01, 4.83250100e-04],\n",
       "       [5.79155108e-04, 5.95708727e-04, 9.96316671e-01, 2.50846287e-03],\n",
       "       [2.70219898e-04, 3.95581825e-04, 9.97445226e-01, 1.88894477e-03],\n",
       "       [9.99703944e-01, 3.35277473e-05, 2.57780164e-04, 4.74541503e-06],\n",
       "       [6.75579577e-05, 9.45618260e-04, 9.98956323e-01, 3.04613877e-05],\n",
       "       [1.32640110e-07, 3.44246437e-05, 9.04965447e-04, 9.99060452e-01],\n",
       "       [9.99011993e-01, 9.44030064e-04, 4.36044902e-05, 3.57590181e-07],\n",
       "       [2.41415287e-21, 1.07861842e-09, 1.00000000e+00, 7.71263139e-20],\n",
       "       [3.16031976e-03, 9.06022549e-01, 9.08171833e-02, 3.38767876e-08],\n",
       "       [3.15473117e-05, 8.86153721e-05, 3.29536498e-01, 6.70343399e-01],\n",
       "       [2.16332567e-03, 4.13813023e-03, 9.93644357e-01, 5.41723421e-05],\n",
       "       [9.73215792e-03, 5.03429305e-03, 9.85211015e-01, 2.24256055e-05],\n",
       "       [1.41081284e-06, 1.42277327e-06, 5.92794299e-01, 4.07202840e-01],\n",
       "       [1.31656259e-06, 9.92039084e-01, 7.95963872e-03, 3.39575230e-08],\n",
       "       [6.93798174e-09, 1.00000000e+00, 3.35527051e-09, 8.48980382e-16],\n",
       "       [4.30973683e-04, 9.99561369e-01, 6.53795450e-06, 1.02996569e-06],\n",
       "       [2.64582036e-06, 9.99687076e-01, 3.10135016e-04, 6.49938485e-08],\n",
       "       [3.69367315e-09, 1.44672558e-05, 1.98146196e-07, 9.99985337e-01],\n",
       "       [1.64015233e-07, 2.44826624e-05, 6.85698469e-04, 9.99289513e-01],\n",
       "       [2.26901102e-04, 2.41378380e-04, 9.99527693e-01, 4.04621869e-06],\n",
       "       [2.27458790e-04, 7.36187139e-05, 6.89718544e-01, 3.09980363e-01],\n",
       "       [1.46666265e-04, 2.33699539e-04, 9.98416901e-01, 1.20270508e-03],\n",
       "       [2.63556809e-04, 4.63688135e-04, 9.99259055e-01, 1.36279796e-05],\n",
       "       [1.42740741e-04, 1.05937512e-03, 9.98752594e-01, 4.52726090e-05],\n",
       "       [9.46692467e-01, 5.20510674e-02, 1.09230971e-03, 1.64174213e-04],\n",
       "       [4.89547499e-04, 9.99508739e-01, 1.09205575e-06, 5.58188958e-07],\n",
       "       [1.54729339e-03, 4.20382231e-01, 5.78070283e-01, 2.50567211e-07],\n",
       "       [3.40462808e-04, 4.72184765e-04, 9.98170614e-01, 1.01676094e-03],\n",
       "       [1.89480605e-04, 9.99793351e-01, 9.80709319e-06, 7.44164254e-06],\n",
       "       [9.95282590e-01, 4.63373587e-03, 7.50563195e-05, 8.60137334e-06],\n",
       "       [6.14677660e-08, 2.52625905e-05, 2.81231337e-06, 9.99971867e-01],\n",
       "       [7.08366279e-04, 9.99286234e-01, 4.56532598e-06, 8.22850666e-07],\n",
       "       [6.20972163e-09, 1.58913038e-03, 9.98410821e-01, 2.41426057e-09],\n",
       "       [1.72259934e-05, 3.47374844e-05, 9.84435797e-01, 1.55121675e-02],\n",
       "       [1.46797627e-01, 8.53192389e-01, 5.66392828e-06, 4.23790925e-06],\n",
       "       [1.79319372e-07, 6.46983040e-07, 9.99045074e-01, 9.54072573e-04],\n",
       "       [4.78282709e-05, 1.11847206e-04, 9.98429000e-01, 1.41127722e-03],\n",
       "       [5.88385483e-05, 1.90112189e-06, 9.94856477e-01, 5.08278515e-03],\n",
       "       [1.96320773e-03, 1.40536949e-03, 9.96532917e-01, 9.84822400e-05],\n",
       "       [3.01639138e-05, 6.59238285e-05, 9.84261513e-01, 1.56424474e-02],\n",
       "       [4.93951421e-03, 9.61889982e-01, 3.31689380e-02, 1.55057751e-06],\n",
       "       [9.99804676e-01, 1.28640328e-04, 6.66367923e-05, 7.95300750e-08],\n",
       "       [1.14441773e-05, 3.07491209e-05, 9.78736639e-01, 2.12211926e-02],\n",
       "       [3.37175361e-19, 9.40990930e-09, 1.00000000e+00, 6.48031448e-18],\n",
       "       [2.14080838e-03, 9.20273125e-01, 7.75843933e-02, 1.59467822e-06],\n",
       "       [4.50111620e-05, 9.96171892e-01, 3.78293009e-03, 2.51097731e-07],\n",
       "       [1.67266644e-05, 9.12390897e-06, 9.83197987e-03, 9.90142286e-01],\n",
       "       [1.90112405e-02, 9.80847478e-01, 1.41306140e-04, 3.63821773e-09],\n",
       "       [4.24650389e-05, 3.92931834e-05, 1.29012419e-02, 9.87016976e-01],\n",
       "       [9.94582951e-01, 5.17391087e-03, 2.35383952e-04, 7.80285154e-06],\n",
       "       [8.24378512e-05, 4.33448186e-05, 8.61522436e-01, 1.38351679e-01],\n",
       "       [9.99289393e-01, 6.96451461e-04, 1.30851040e-05, 1.01638477e-06],\n",
       "       [3.29862974e-06, 1.10072517e-06, 3.10175508e-01, 6.89820111e-01],\n",
       "       [2.33994160e-06, 2.86108007e-05, 1.23635487e-04, 9.99845386e-01],\n",
       "       [2.69298500e-04, 9.99723613e-01, 6.32241290e-06, 7.63564742e-07],\n",
       "       [1.00862021e-08, 9.99924064e-01, 7.59463219e-05, 1.53681767e-09],\n",
       "       [9.99445617e-01, 4.61032905e-04, 9.32583862e-05, 7.27139451e-08],\n",
       "       [1.02103115e-07, 9.99999881e-01, 3.19742419e-08, 3.09305228e-14],\n",
       "       [3.46987089e-03, 8.43493521e-01, 1.53036639e-01, 2.75315024e-08],\n",
       "       [7.89170463e-06, 1.93106121e-06, 9.98794556e-01, 1.19563134e-03],\n",
       "       [1.02333888e-05, 2.35454263e-05, 4.54992168e-02, 9.54466999e-01],\n",
       "       [3.09156720e-04, 1.10359237e-04, 9.77446258e-01, 2.21342947e-02],\n",
       "       [9.99753296e-01, 3.16310361e-05, 2.12012194e-04, 3.06691572e-06],\n",
       "       [3.14671057e-03, 6.37146935e-04, 9.95813310e-01, 4.02763748e-04],\n",
       "       [9.96399522e-01, 3.55552393e-03, 4.04470884e-05, 4.44427542e-06],\n",
       "       [1.06975425e-03, 9.98902798e-01, 2.69699485e-05, 4.86652198e-07],\n",
       "       [1.30871410e-06, 2.66422048e-05, 1.07018473e-04, 9.99864936e-01],\n",
       "       [6.56222437e-06, 2.51466299e-05, 9.99914408e-01, 5.38833847e-05],\n",
       "       [3.52628849e-04, 6.74654245e-02, 9.32181358e-01, 5.39525161e-07],\n",
       "       [2.55483091e-01, 7.44474113e-01, 3.53214455e-05, 7.45330408e-06]],\n",
       "      dtype=float32)"
      ]
     },
     "execution_count": 108,
     "metadata": {},
     "output_type": "execute_result"
    }
   ],
   "source": [
    "y_pred"
   ]
  },
  {
   "cell_type": "code",
   "execution_count": 109,
   "id": "60dd6056",
   "metadata": {},
   "outputs": [
    {
     "data": {
      "text/plain": [
       "(144, 4)"
      ]
     },
     "execution_count": 109,
     "metadata": {},
     "output_type": "execute_result"
    }
   ],
   "source": [
    "y_pred.shape"
   ]
  },
  {
   "cell_type": "markdown",
   "id": "a84b266d",
   "metadata": {},
   "source": [
    "#### 6.1.1. Transforming the encoded data back to room number"
   ]
  },
  {
   "cell_type": "code",
   "execution_count": 110,
   "id": "d83cecef",
   "metadata": {},
   "outputs": [],
   "source": [
    "# tf argmax returns the index of the largest value in the tensor\n",
    "room_pred = tf.argmax(y_pred, axis=1)\n",
    "# This connects to keras backend -- why is here though?\n",
    "# room_pred = tf.keras.backend.eval(room_pred)\n",
    "# print(room_pred)"
   ]
  },
  {
   "cell_type": "code",
   "execution_count": 111,
   "id": "b3d7664d",
   "metadata": {},
   "outputs": [
    {
     "data": {
      "text/plain": [
       "<tf.Tensor: shape=(144,), dtype=int64, numpy=\n",
       "array([1, 1, 2, 3, 1, 1, 3, 2, 3, 2, 0, 1, 0, 1, 2, 1, 3, 2, 0, 3, 0, 2,\n",
       "       1, 3, 2, 2, 1, 2, 1, 1, 0, 1, 1, 2, 2, 3, 2, 1, 1, 3, 1, 2, 1, 3,\n",
       "       3, 0, 2, 1, 1, 3, 3, 1, 2, 1, 2, 2, 3, 0, 1, 2, 3, 3, 1, 3, 3, 1,\n",
       "       0, 2, 2, 1, 2, 3, 2, 3, 2, 2, 2, 0, 2, 3, 0, 2, 1, 3, 2, 2, 2, 1,\n",
       "       1, 1, 1, 3, 3, 2, 2, 2, 2, 2, 0, 1, 2, 2, 1, 0, 3, 1, 2, 2, 1, 2,\n",
       "       2, 2, 2, 2, 1, 0, 2, 2, 1, 1, 3, 1, 3, 0, 2, 0, 3, 3, 1, 1, 0, 1,\n",
       "       1, 2, 3, 2, 0, 2, 0, 1, 3, 2, 2, 1], dtype=int64)>"
      ]
     },
     "execution_count": 111,
     "metadata": {},
     "output_type": "execute_result"
    }
   ],
   "source": [
    "room_pred"
   ]
  },
  {
   "cell_type": "markdown",
   "id": "614629e0",
   "metadata": {},
   "source": [
    "### 6.2. Making the confusion matrix and calculating Accuracy "
   ]
  },
  {
   "cell_type": "code",
   "execution_count": 112,
   "id": "12ecbdf4",
   "metadata": {},
   "outputs": [
    {
     "name": "stdout",
     "output_type": "stream",
     "text": [
      "[[17  0  0  0]\n",
      " [ 1 44  1  0]\n",
      " [ 0  0 50  2]\n",
      " [ 0  0  1 28]]\n",
      "Accuracy:  0.9652777777777778\n"
     ]
    }
   ],
   "source": [
    "cm = confusion_matrix(y_test, room_pred)\n",
    "print(cm)\n",
    "accuracy = accuracy_score(y_test, room_pred)\n",
    "print('Accuracy: ', accuracy)"
   ]
  },
  {
   "cell_type": "code",
   "execution_count": 113,
   "id": "d235f58c",
   "metadata": {},
   "outputs": [
    {
     "name": "stdout",
     "output_type": "stream",
     "text": [
      "              precision    recall  f1-score   support\n",
      "\n",
      "         0.0       0.94      1.00      0.97        17\n",
      "         1.0       1.00      0.96      0.98        46\n",
      "         2.0       0.96      0.96      0.96        52\n",
      "         3.0       0.93      0.97      0.95        29\n",
      "\n",
      "    accuracy                           0.97       144\n",
      "   macro avg       0.96      0.97      0.96       144\n",
      "weighted avg       0.97      0.97      0.97       144\n",
      "\n"
     ]
    }
   ],
   "source": [
    "print(classification_report(y_test, room_pred))"
   ]
  },
  {
   "cell_type": "markdown",
   "id": "ab89f2c1",
   "metadata": {},
   "source": [
    "### 6.3. Predicting with the Validation set"
   ]
  },
  {
   "cell_type": "code",
   "execution_count": 114,
   "id": "bee14b58",
   "metadata": {},
   "outputs": [],
   "source": [
    "X_val = sc.fit_transform(X_val)"
   ]
  },
  {
   "cell_type": "code",
   "execution_count": 115,
   "id": "e031c5ff",
   "metadata": {},
   "outputs": [
    {
     "name": "stdout",
     "output_type": "stream",
     "text": [
      "2/2 [==============================] - 0s 5ms/step\n"
     ]
    },
    {
     "data": {
      "text/plain": [
       "array([[4.95167842e-06, 1.58010953e-05, 9.99466121e-01, 5.13115141e-04],\n",
       "       [1.62657022e-06, 1.39726890e-05, 9.97468114e-01, 2.51620077e-03],\n",
       "       [9.38216272e-06, 4.84999782e-06, 9.10645723e-01, 8.93401057e-02],\n",
       "       [5.95809288e-05, 2.31636746e-04, 9.97808158e-01, 1.90063519e-03],\n",
       "       [5.56155877e-09, 2.02769411e-06, 9.99997854e-01, 1.48441899e-07],\n",
       "       [2.09830570e-04, 5.28830162e-04, 9.96458113e-01, 2.80321599e-03],\n",
       "       [3.12928642e-05, 8.21847716e-05, 9.99393940e-01, 4.92474879e-04],\n",
       "       [3.12278164e-04, 8.96881567e-04, 8.65304887e-01, 1.33486003e-01],\n",
       "       [3.12278164e-04, 8.96881567e-04, 8.65304887e-01, 1.33486003e-01],\n",
       "       [3.42499581e-04, 2.48449302e-04, 8.03427324e-02, 9.19066250e-01],\n",
       "       [4.68018370e-05, 2.52137217e-03, 1.03338994e-02, 9.87097919e-01],\n",
       "       [3.03975248e-04, 1.59717398e-04, 4.24077697e-02, 9.57128465e-01],\n",
       "       [2.67326486e-05, 1.10821554e-03, 9.09693481e-04, 9.97955441e-01],\n",
       "       [1.04282430e-04, 4.56491020e-03, 5.09447604e-03, 9.90236342e-01],\n",
       "       [1.77286438e-07, 3.00124520e-04, 4.69925624e-07, 9.99699354e-01],\n",
       "       [4.95757376e-06, 1.96867017e-03, 2.26809279e-05, 9.98003781e-01],\n",
       "       [1.36189046e-05, 1.99741079e-03, 3.46807949e-02, 9.63308156e-01],\n",
       "       [1.28771411e-04, 4.68857400e-02, 3.53468553e-04, 9.52632010e-01],\n",
       "       [1.52354274e-04, 5.34914583e-02, 1.61337685e-02, 9.30222392e-01],\n",
       "       [9.68060976e-06, 1.15348480e-03, 3.31543088e-05, 9.98803616e-01],\n",
       "       [3.31368733e-06, 7.19778007e-04, 2.41259555e-03, 9.96864259e-01],\n",
       "       [3.79099379e-06, 8.21299109e-05, 1.28538173e-04, 9.99785602e-01],\n",
       "       [9.05001070e-04, 3.11613940e-02, 6.48818724e-03, 9.61445391e-01],\n",
       "       [2.05760789e-05, 5.39479253e-04, 1.58406096e-04, 9.99281585e-01],\n",
       "       [2.05760789e-05, 5.39479253e-04, 1.58406096e-04, 9.99281585e-01],\n",
       "       [7.84345437e-04, 1.52107922e-03, 3.01890850e-01, 6.95803761e-01],\n",
       "       [7.55848479e-04, 1.06042135e-03, 4.88172397e-02, 9.49366510e-01],\n",
       "       [7.55848479e-04, 1.06042135e-03, 4.88172397e-02, 9.49366510e-01],\n",
       "       [6.48250512e-04, 1.01785129e-03, 1.25466049e-01, 8.72867823e-01],\n",
       "       [6.48250512e-04, 1.01785129e-03, 1.25466049e-01, 8.72867823e-01],\n",
       "       [2.62020272e-04, 1.80646181e-04, 9.89650011e-01, 9.90726519e-03],\n",
       "       [8.60671935e-05, 6.37304678e-04, 9.99221921e-01, 5.45849070e-05],\n",
       "       [4.39653650e-06, 2.61584628e-05, 9.99962211e-01, 7.21237848e-06],\n",
       "       [1.72022701e-04, 5.77777682e-04, 9.99028444e-01, 2.21789174e-04],\n",
       "       [8.81985994e-04, 1.53838401e-03, 9.97177601e-01, 4.02028149e-04],\n",
       "       [6.93999464e-04, 1.28278299e-03, 9.97808397e-01, 2.14866785e-04],\n",
       "       [1.23818219e-03, 7.90680700e-04, 9.97854531e-01, 1.16530347e-04],\n",
       "       [1.23818219e-03, 7.90680700e-04, 9.97854531e-01, 1.16530347e-04],\n",
       "       [1.67589739e-03, 1.11529650e-02, 9.87165570e-01, 5.62939749e-06],\n",
       "       [8.77200142e-02, 3.00734453e-02, 8.82193506e-01, 1.29653936e-05],\n",
       "       [9.96153876e-02, 4.64405119e-01, 4.35979396e-01, 1.33250467e-07],\n",
       "       [9.11804854e-09, 1.00000000e+00, 3.44812234e-10, 1.01256094e-13],\n",
       "       [1.17346480e-10, 1.04034603e-01, 8.95965397e-01, 3.09672427e-11],\n",
       "       [1.06954575e-02, 7.04849839e-01, 2.84454614e-01, 7.60271988e-08],\n",
       "       [2.51713095e-09, 1.00000000e+00, 2.44140486e-09, 1.40811028e-12],\n",
       "       [5.59772459e-08, 9.99999881e-01, 3.47099629e-08, 1.43729438e-11],\n",
       "       [4.35975846e-03, 9.95640159e-01, 4.17170085e-08, 6.94964919e-10],\n",
       "       [9.99994397e-01, 3.53309588e-06, 2.05498236e-06, 5.17234033e-09],\n",
       "       [9.98374581e-01, 1.62317290e-03, 2.20745369e-06, 1.40675704e-09],\n",
       "       [9.99786556e-01, 2.08736776e-04, 4.79550226e-06, 8.44229242e-10],\n",
       "       [9.94066954e-01, 5.93204750e-03, 9.86736381e-07, 4.29697788e-09],\n",
       "       [9.78811562e-01, 2.11775117e-02, 1.07877240e-05, 1.69723933e-07],\n",
       "       [9.78811562e-01, 2.11775117e-02, 1.07877240e-05, 1.69723933e-07]],\n",
       "      dtype=float32)"
      ]
     },
     "execution_count": 115,
     "metadata": {},
     "output_type": "execute_result"
    }
   ],
   "source": [
    "y_pred_val = nn.predict(X_val)\n",
    "y_pred_val"
   ]
  },
  {
   "cell_type": "code",
   "execution_count": 116,
   "id": "2d1e4d0b",
   "metadata": {},
   "outputs": [
    {
     "data": {
      "text/plain": [
       "(53, 4)"
      ]
     },
     "execution_count": 116,
     "metadata": {},
     "output_type": "execute_result"
    }
   ],
   "source": [
    "y_pred_val.shape"
   ]
  },
  {
   "cell_type": "code",
   "execution_count": 117,
   "id": "f5ce2f60",
   "metadata": {},
   "outputs": [],
   "source": [
    "room_pred_val = tf.argmax(y_pred_val, axis=1)\n",
    "room_pred_val = tf.keras.backend.eval(room_pred_val)"
   ]
  },
  {
   "cell_type": "code",
   "execution_count": 118,
   "id": "d7d8dc34",
   "metadata": {},
   "outputs": [
    {
     "data": {
      "text/plain": [
       "array([2, 2, 2, 2, 2, 2, 2, 2, 2, 3, 3, 3, 3, 3, 3, 3, 3, 3, 3, 3, 3, 3,\n",
       "       3, 3, 3, 3, 3, 3, 3, 3, 2, 2, 2, 2, 2, 2, 2, 2, 2, 2, 1, 1, 2, 1,\n",
       "       1, 1, 1, 0, 0, 0, 0, 0, 0], dtype=int64)"
      ]
     },
     "execution_count": 118,
     "metadata": {},
     "output_type": "execute_result"
    }
   ],
   "source": [
    "room_pred_val"
   ]
  },
  {
   "cell_type": "code",
   "execution_count": 119,
   "id": "a228988e",
   "metadata": {},
   "outputs": [
    {
     "name": "stdout",
     "output_type": "stream",
     "text": [
      "[[ 6  0  0  0]\n",
      " [ 0  3  0  0]\n",
      " [ 0  3 19  0]\n",
      " [ 0  0  1 21]]\n",
      "Accuracy:  0.9245283018867925\n"
     ]
    }
   ],
   "source": [
    "cm = confusion_matrix(y_val, room_pred_val)\n",
    "print(cm)\n",
    "accuracy = accuracy_score(y_val, room_pred_val)\n",
    "print('Accuracy: ', accuracy)"
   ]
  },
  {
   "cell_type": "code",
   "execution_count": 120,
   "id": "dea1e957",
   "metadata": {},
   "outputs": [
    {
     "name": "stdout",
     "output_type": "stream",
     "text": [
      "              precision    recall  f1-score   support\n",
      "\n",
      "         0.0       1.00      1.00      1.00         6\n",
      "         1.0       0.50      1.00      0.67         3\n",
      "         2.0       0.95      0.86      0.90        22\n",
      "         3.0       1.00      0.95      0.98        22\n",
      "\n",
      "    accuracy                           0.92        53\n",
      "   macro avg       0.86      0.95      0.89        53\n",
      "weighted avg       0.95      0.92      0.93        53\n",
      "\n"
     ]
    }
   ],
   "source": [
    "print(classification_report(y_val, room_pred_val))"
   ]
  },
  {
   "cell_type": "markdown",
   "id": "e8c6edff",
   "metadata": {},
   "source": [
    "## 7. Building the KNN regressor"
   ]
  },
  {
   "cell_type": "markdown",
   "id": "76420cb9",
   "metadata": {},
   "source": [
    "### 7.1. Creating the second training dataset"
   ]
  },
  {
   "cell_type": "markdown",
   "id": "8e306eb3",
   "metadata": {},
   "source": [
    "#### 7.1.1. Selecting the cluster to which out values correspond to (the room)"
   ]
  },
  {
   "cell_type": "code",
   "execution_count": 121,
   "id": "b8b5af9b",
   "metadata": {},
   "outputs": [],
   "source": [
    "room = 3\n",
    "# floor = floor_pred_valid[0] # TODO: verify how can we change this so it gets the room by default\n",
    "mask = df_wifi_and_loc_file['room'] == room"
   ]
  },
  {
   "cell_type": "code",
   "execution_count": 122,
   "id": "51bef3f7",
   "metadata": {
    "scrolled": true
   },
   "outputs": [
    {
     "data": {
      "text/plain": [
       "(12:16:33:01    3.0\n",
       " 12:16:34:00    3.0\n",
       " 12:16:36:00    3.0\n",
       " 12:16:37:00    3.0\n",
       " 12:16:38:00    3.0\n",
       "               ... \n",
       " 19:08:54:01    3.0\n",
       " 19:08:55:00    3.0\n",
       " 19:08:56:00    3.0\n",
       " 19:08:57:00    3.0\n",
       " 19:08:58:00    3.0\n",
       " Name: room, Length: 143, dtype: float64,\n",
       "              32:cd:a7:a0:6d:d8  84:b2:61:56:8a:01  84:b2:61:56:8a:02  \\\n",
       " 12:16:33:01              -72.0              -62.0              -62.0   \n",
       " 12:16:34:00              -70.0              -70.0              -72.0   \n",
       " 12:16:36:00              -76.0              -69.0              -66.0   \n",
       " 12:16:37:00              -74.0              -67.0              -69.0   \n",
       " 12:16:38:00              -76.0              -76.0              -76.0   \n",
       " ...                        ...                ...                ...   \n",
       " 19:08:54:01              -81.0              -82.0              -81.0   \n",
       " 19:08:55:00              -74.0              -65.0              -64.0   \n",
       " 19:08:56:00              -74.0              -65.0              -64.0   \n",
       " 19:08:57:00              -66.0              -60.0              -60.0   \n",
       " 19:08:58:00              -66.0              -60.0              -60.0   \n",
       " \n",
       "              84:b2:61:56:8a:00  84:b2:61:6d:3d:22  84:b2:61:6d:3d:21  \\\n",
       " 12:16:33:01              -62.0              -91.0              -90.0   \n",
       " 12:16:34:00              -72.0              -88.0              -88.0   \n",
       " 12:16:36:00              -70.0             -100.0             -100.0   \n",
       " 12:16:37:00              -69.0              -89.0              -89.0   \n",
       " 12:16:38:00              -76.0              -88.0              -87.0   \n",
       " ...                        ...                ...                ...   \n",
       " 19:08:54:01              -81.0              -92.0              -92.0   \n",
       " 19:08:55:00              -64.0              -91.0              -93.0   \n",
       " 19:08:56:00              -64.0              -91.0              -93.0   \n",
       " 19:08:57:00              -60.0              -87.0              -89.0   \n",
       " 19:08:58:00              -60.0              -87.0              -89.0   \n",
       " \n",
       "              84:b2:61:6d:3d:20  84:b2:61:5e:44:22  84:b2:61:5e:44:21  \\\n",
       " 12:16:33:01              -89.0              -49.0              -49.0   \n",
       " 12:16:34:00              -83.0              -51.0              -51.0   \n",
       " 12:16:36:00             -100.0              -58.0              -57.0   \n",
       " 12:16:37:00              -89.0              -61.0              -61.0   \n",
       " 12:16:38:00              -87.0              -59.0              -59.0   \n",
       " ...                        ...                ...                ...   \n",
       " 19:08:54:01              -94.0              -61.0              -61.0   \n",
       " 19:08:55:00              -91.0              -56.0              -56.0   \n",
       " 19:08:56:00              -91.0              -56.0              -56.0   \n",
       " 19:08:57:00              -89.0              -51.0              -50.0   \n",
       " 19:08:58:00              -89.0              -51.0              -50.0   \n",
       " \n",
       "              84:b2:61:5e:44:20  ...  84:b2:61:47:e2:ce  84:b2:61:47:e2:cd  \\\n",
       " 12:16:33:01              -49.0  ...             -100.0             -100.0   \n",
       " 12:16:34:00              -51.0  ...             -100.0             -100.0   \n",
       " 12:16:36:00              -57.0  ...             -100.0             -100.0   \n",
       " 12:16:37:00              -61.0  ...             -100.0             -100.0   \n",
       " 12:16:38:00              -59.0  ...             -100.0             -100.0   \n",
       " ...                        ...  ...                ...                ...   \n",
       " 19:08:54:01              -62.0  ...             -100.0             -100.0   \n",
       " 19:08:55:00              -56.0  ...             -100.0             -100.0   \n",
       " 19:08:56:00              -56.0  ...             -100.0             -100.0   \n",
       " 19:08:57:00              -50.0  ...             -100.0             -100.0   \n",
       " 19:08:58:00              -50.0  ...             -100.0             -100.0   \n",
       " \n",
       "              84:b2:61:6d:52:a1  84:b2:61:6d:52:a0  84:b2:61:6d:52:a2  \\\n",
       " 12:16:33:01              -81.0              -82.0              -82.0   \n",
       " 12:16:34:00              -85.0              -82.0              -83.0   \n",
       " 12:16:36:00             -100.0             -100.0             -100.0   \n",
       " 12:16:37:00              -89.0              -87.0              -88.0   \n",
       " 12:16:38:00              -91.0              -88.0              -90.0   \n",
       " ...                        ...                ...                ...   \n",
       " 19:08:54:01             -100.0             -100.0             -100.0   \n",
       " 19:08:55:00              -89.0              -89.0              -90.0   \n",
       " 19:08:56:00              -89.0              -89.0              -90.0   \n",
       " 19:08:57:00              -85.0              -84.0              -82.0   \n",
       " 19:08:58:00              -85.0              -84.0              -82.0   \n",
       " \n",
       "              84:b2:61:6d:52:af  84:b2:61:40:75:f1  84:b2:61:40:75:f2  \\\n",
       " 12:16:33:01             -100.0             -100.0             -100.0   \n",
       " 12:16:34:00             -100.0             -100.0             -100.0   \n",
       " 12:16:36:00             -100.0             -100.0             -100.0   \n",
       " 12:16:37:00             -100.0             -100.0             -100.0   \n",
       " 12:16:38:00             -100.0             -100.0             -100.0   \n",
       " ...                        ...                ...                ...   \n",
       " 19:08:54:01             -100.0             -100.0             -100.0   \n",
       " 19:08:55:00             -100.0             -100.0             -100.0   \n",
       " 19:08:56:00             -100.0             -100.0             -100.0   \n",
       " 19:08:57:00             -100.0             -100.0             -100.0   \n",
       " 19:08:58:00             -100.0             -100.0             -100.0   \n",
       " \n",
       "              84:b2:61:40:75:f0  c4:71:54:39:70:e4  \n",
       " 12:16:33:01             -100.0             -100.0  \n",
       " 12:16:34:00             -100.0             -100.0  \n",
       " 12:16:36:00             -100.0             -100.0  \n",
       " 12:16:37:00             -100.0             -100.0  \n",
       " 12:16:38:00             -100.0             -100.0  \n",
       " ...                        ...                ...  \n",
       " 19:08:54:01             -100.0             -100.0  \n",
       " 19:08:55:00             -100.0             -100.0  \n",
       " 19:08:56:00             -100.0             -100.0  \n",
       " 19:08:57:00             -100.0             -100.0  \n",
       " 19:08:58:00             -100.0             -100.0  \n",
       " \n",
       " [143 rows x 41 columns])"
      ]
     },
     "execution_count": 122,
     "metadata": {},
     "output_type": "execute_result"
    }
   ],
   "source": [
    "df_ap = df_wifi_and_loc_file.iloc[:, :41][mask]\n",
    "df_floor = df_wifi_and_loc_file['room'][mask]\n",
    "df_floor, df_ap"
   ]
  },
  {
   "cell_type": "code",
   "execution_count": 123,
   "id": "d0906a2a",
   "metadata": {},
   "outputs": [],
   "source": [
    "X_step_2 = pd.concat([df_ap, df_floor], axis=1).values\n",
    "y_step_2 = df_wifi_and_loc_file[['lat', 'long']][mask].values"
   ]
  },
  {
   "cell_type": "code",
   "execution_count": 124,
   "id": "3d2305ef",
   "metadata": {},
   "outputs": [
    {
     "data": {
      "text/plain": [
       "array([[ -72.,  -62.,  -62., ..., -100., -100.,    3.],\n",
       "       [ -70.,  -70.,  -72., ..., -100., -100.,    3.],\n",
       "       [ -76.,  -69.,  -66., ..., -100., -100.,    3.],\n",
       "       ...,\n",
       "       [ -74.,  -65.,  -64., ..., -100., -100.,    3.],\n",
       "       [ -66.,  -60.,  -60., ..., -100., -100.,    3.],\n",
       "       [ -66.,  -60.,  -60., ..., -100., -100.,    3.]])"
      ]
     },
     "execution_count": 124,
     "metadata": {},
     "output_type": "execute_result"
    }
   ],
   "source": [
    "X_step_2"
   ]
  },
  {
   "cell_type": "code",
   "execution_count": 125,
   "id": "626c86c0",
   "metadata": {},
   "outputs": [
    {
     "data": {
      "text/plain": [
       "array([[44.4349375 , 26.04789753],\n",
       "       [44.4349375 , 26.0479032 ],\n",
       "       [44.43493007, 26.04790377],\n",
       "       [44.4349208 , 26.04790377],\n",
       "       [44.43491052, 26.04790377],\n",
       "       [44.43489953, 26.04790377],\n",
       "       [44.43488916, 26.04790377],\n",
       "       [44.43487854, 26.04790377],\n",
       "       [44.43487455, 26.04791457],\n",
       "       [44.43487455, 26.0479277 ],\n",
       "       [44.43487455, 26.0479403 ],\n",
       "       [44.43488599, 26.04794156],\n",
       "       [44.43489453, 26.04794156],\n",
       "       [44.4349049 , 26.04794156],\n",
       "       [44.43491614, 26.04794156],\n",
       "       [44.43492738, 26.04794156],\n",
       "       [44.4349375 , 26.04794143],\n",
       "       [44.4349375 , 26.04792826],\n",
       "       [44.4349375 , 26.04791322],\n",
       "       [44.4349375 , 26.04789748],\n",
       "       [44.4349375 , 26.04789468],\n",
       "       [44.4349375 , 26.04790377],\n",
       "       [44.43493001, 26.04790377],\n",
       "       [44.43492251, 26.04790377],\n",
       "       [44.43491252, 26.04790377],\n",
       "       [44.43490153, 26.04790377],\n",
       "       [44.43489253, 26.04790377],\n",
       "       [44.43488254, 26.04790377],\n",
       "       [44.43487455, 26.04790797],\n",
       "       [44.43487455, 26.04792476],\n",
       "       [44.43487455, 26.04793698],\n",
       "       [44.43488226, 26.04794156],\n",
       "       [44.43489163, 26.04794156],\n",
       "       [44.43490153, 26.04794156],\n",
       "       [44.43491277, 26.04794156],\n",
       "       [44.43492351, 26.04794156],\n",
       "       [44.43493413, 26.04794156],\n",
       "       [44.4349375 , 26.04793369],\n",
       "       [44.4349375 , 26.04791847],\n",
       "       [44.4349375 , 26.04790503],\n",
       "       [44.4349375 , 26.04789636],\n",
       "       [44.4349375 , 26.04790195],\n",
       "       [44.43492913, 26.04790377],\n",
       "       [44.43492131, 26.04790377],\n",
       "       [44.43491052, 26.04790377],\n",
       "       [44.43489853, 26.04790377],\n",
       "       [44.43488854, 26.04790377],\n",
       "       [44.43487712, 26.04790377],\n",
       "       [44.43487455, 26.04791637],\n",
       "       [44.43487455, 26.04793148],\n",
       "       [44.4348768 , 26.04794156],\n",
       "       [44.43488804, 26.04794156],\n",
       "       [44.43489928, 26.04794156],\n",
       "       [44.43491052, 26.04794156],\n",
       "       [44.43492289, 26.04794156],\n",
       "       [44.434933  , 26.04794156],\n",
       "       [44.4349375 , 26.04793526],\n",
       "       [44.4349375 , 26.04791794],\n",
       "       [44.4349375 , 26.04790613],\n",
       "       [44.4349375 , 26.0479001 ],\n",
       "       [44.4349375 , 26.04789534],\n",
       "       [44.4349375 , 26.04790299],\n",
       "       [44.43493046, 26.04790377],\n",
       "       [44.43492401, 26.04790377],\n",
       "       [44.43491389, 26.04790377],\n",
       "       [44.43490265, 26.04790377],\n",
       "       [44.43489253, 26.04790377],\n",
       "       [44.43487455, 26.04790377],\n",
       "       [44.43487455, 26.04791777],\n",
       "       [44.43487455, 26.04793176],\n",
       "       [44.434877  , 26.04794156],\n",
       "       [44.43488611, 26.04794156],\n",
       "       [44.43489753, 26.04794156],\n",
       "       [44.43490752, 26.04794156],\n",
       "       [44.43491752, 26.04794156],\n",
       "       [44.43492851, 26.04794156],\n",
       "       [44.4349375 , 26.04794156],\n",
       "       [44.4349375 , 26.04793166],\n",
       "       [44.4349375 , 26.04791637],\n",
       "       [44.4349375 , 26.04790721],\n",
       "       [44.4349375 , 26.04790062],\n",
       "       [44.4349375 , 26.04789686],\n",
       "       [44.4349375 , 26.04790083],\n",
       "       [44.43493037, 26.04790377],\n",
       "       [44.43492401, 26.04790377],\n",
       "       [44.43491277, 26.04790377],\n",
       "       [44.43490153, 26.04790377],\n",
       "       [44.43489029, 26.04790377],\n",
       "       [44.43487954, 26.04790377],\n",
       "       [44.43487455, 26.04791427],\n",
       "       [44.43487455, 26.0479277 ],\n",
       "       [44.43487455, 26.04794156],\n",
       "       [44.43488579, 26.04794156],\n",
       "       [44.43489767, 26.04794156],\n",
       "       [44.43491063, 26.04794156],\n",
       "       [44.43492176, 26.04794156],\n",
       "       [44.434933  , 26.04794156],\n",
       "       [44.4349375 , 26.04793369],\n",
       "       [44.4349375 , 26.04791889],\n",
       "       [44.4349375 , 26.04790797],\n",
       "       [44.4349375 , 26.04790055],\n",
       "       [44.4349375 , 26.04789676],\n",
       "       [44.4349375 , 26.04790206],\n",
       "       [44.43493085, 26.04790377],\n",
       "       [44.43492401, 26.04790377],\n",
       "       [44.43491453, 26.04790377],\n",
       "       [44.4349049 , 26.04790377],\n",
       "       [44.43489453, 26.04790377],\n",
       "       [44.43488264, 26.04790377],\n",
       "       [44.43487455, 26.04790535],\n",
       "       [44.43487455, 26.04792109],\n",
       "       [44.43487954, 26.04793596],\n",
       "       [44.43488954, 26.04794156],\n",
       "       [44.43489953, 26.04794156],\n",
       "       [44.43491052, 26.04794156],\n",
       "       [44.43492051, 26.04794156],\n",
       "       [44.43493031, 26.04794156],\n",
       "       [44.4349375 , 26.04793946],\n",
       "       [44.4349375 , 26.0479277 ],\n",
       "       [44.4349375 , 26.04791322],\n",
       "       [44.4349375 , 26.04789748],\n",
       "       [44.4349375 , 26.04789666],\n",
       "       [44.4349375 , 26.04790251],\n",
       "       [44.43493046, 26.04790377],\n",
       "       [44.43492351, 26.04790377],\n",
       "       [44.43491277, 26.04790377],\n",
       "       [44.4349004 , 26.04790377],\n",
       "       [44.43488984, 26.04790377],\n",
       "       [44.43488054, 26.04790377],\n",
       "       [44.43487455, 26.04790881],\n",
       "       [44.43487455, 26.04792267],\n",
       "       [44.43487455, 26.04793652],\n",
       "       [44.43487945, 26.04794156],\n",
       "       [44.43488854, 26.04794156],\n",
       "       [44.43489928, 26.04794156],\n",
       "       [44.43490952, 26.04794156],\n",
       "       [44.43492115, 26.04794156],\n",
       "       [44.4349375 , 26.04794156],\n",
       "       [44.4349375 , 26.04794147],\n",
       "       [44.4349375 , 26.04793183],\n",
       "       [44.4349375 , 26.04791987],\n",
       "       [44.4349375 , 26.04790692],\n",
       "       [44.4349375 , 26.04790062]])"
      ]
     },
     "execution_count": 125,
     "metadata": {},
     "output_type": "execute_result"
    }
   ],
   "source": [
    "y_step_2"
   ]
  },
  {
   "cell_type": "markdown",
   "id": "bd738782",
   "metadata": {},
   "source": [
    "### 7.2. Splitting the data in Train and Test"
   ]
  },
  {
   "cell_type": "code",
   "execution_count": 126,
   "id": "3c888d3d",
   "metadata": {},
   "outputs": [],
   "source": [
    "X_train_step_2, X_test_step_2, y_train_step_2, y_test_step_2 = train_test_split(X_step_2,\n",
    "                                                                                y_step_2, \n",
    "                                                                                test_size = 0.2, \n",
    "                                                                                random_state = 0)"
   ]
  },
  {
   "cell_type": "code",
   "execution_count": 127,
   "id": "cfce4965",
   "metadata": {},
   "outputs": [
    {
     "data": {
      "text/plain": [
       "array([[ -80., -100., -100., ..., -100., -100.,    3.],\n",
       "       [ -76.,  -69.,  -66., ..., -100., -100.,    3.],\n",
       "       [ -85.,  -76.,  -76., ..., -100., -100.,    3.],\n",
       "       ...,\n",
       "       [ -85.,  -72.,  -72., ..., -100., -100.,    3.],\n",
       "       [ -86.,  -87.,  -86., ..., -100., -100.,    3.],\n",
       "       [ -79.,  -71.,  -71., ..., -100., -100.,    3.]])"
      ]
     },
     "execution_count": 127,
     "metadata": {},
     "output_type": "execute_result"
    }
   ],
   "source": [
    "X_train_step_2"
   ]
  },
  {
   "cell_type": "code",
   "execution_count": 128,
   "id": "d590a201",
   "metadata": {},
   "outputs": [
    {
     "data": {
      "text/plain": [
       "114"
      ]
     },
     "execution_count": 128,
     "metadata": {},
     "output_type": "execute_result"
    }
   ],
   "source": [
    "len(X_train_step_2)"
   ]
  },
  {
   "cell_type": "markdown",
   "id": "312f85fb",
   "metadata": {},
   "source": [
    "### 7.3. Building the model"
   ]
  },
  {
   "cell_type": "code",
   "execution_count": 129,
   "id": "f5a08b73",
   "metadata": {},
   "outputs": [
    {
     "data": {
      "text/html": [
       "<style>#sk-container-id-2 {color: black;background-color: white;}#sk-container-id-2 pre{padding: 0;}#sk-container-id-2 div.sk-toggleable {background-color: white;}#sk-container-id-2 label.sk-toggleable__label {cursor: pointer;display: block;width: 100%;margin-bottom: 0;padding: 0.3em;box-sizing: border-box;text-align: center;}#sk-container-id-2 label.sk-toggleable__label-arrow:before {content: \"▸\";float: left;margin-right: 0.25em;color: #696969;}#sk-container-id-2 label.sk-toggleable__label-arrow:hover:before {color: black;}#sk-container-id-2 div.sk-estimator:hover label.sk-toggleable__label-arrow:before {color: black;}#sk-container-id-2 div.sk-toggleable__content {max-height: 0;max-width: 0;overflow: hidden;text-align: left;background-color: #f0f8ff;}#sk-container-id-2 div.sk-toggleable__content pre {margin: 0.2em;color: black;border-radius: 0.25em;background-color: #f0f8ff;}#sk-container-id-2 input.sk-toggleable__control:checked~div.sk-toggleable__content {max-height: 200px;max-width: 100%;overflow: auto;}#sk-container-id-2 input.sk-toggleable__control:checked~label.sk-toggleable__label-arrow:before {content: \"▾\";}#sk-container-id-2 div.sk-estimator input.sk-toggleable__control:checked~label.sk-toggleable__label {background-color: #d4ebff;}#sk-container-id-2 div.sk-label input.sk-toggleable__control:checked~label.sk-toggleable__label {background-color: #d4ebff;}#sk-container-id-2 input.sk-hidden--visually {border: 0;clip: rect(1px 1px 1px 1px);clip: rect(1px, 1px, 1px, 1px);height: 1px;margin: -1px;overflow: hidden;padding: 0;position: absolute;width: 1px;}#sk-container-id-2 div.sk-estimator {font-family: monospace;background-color: #f0f8ff;border: 1px dotted black;border-radius: 0.25em;box-sizing: border-box;margin-bottom: 0.5em;}#sk-container-id-2 div.sk-estimator:hover {background-color: #d4ebff;}#sk-container-id-2 div.sk-parallel-item::after {content: \"\";width: 100%;border-bottom: 1px solid gray;flex-grow: 1;}#sk-container-id-2 div.sk-label:hover label.sk-toggleable__label {background-color: #d4ebff;}#sk-container-id-2 div.sk-serial::before {content: \"\";position: absolute;border-left: 1px solid gray;box-sizing: border-box;top: 0;bottom: 0;left: 50%;z-index: 0;}#sk-container-id-2 div.sk-serial {display: flex;flex-direction: column;align-items: center;background-color: white;padding-right: 0.2em;padding-left: 0.2em;position: relative;}#sk-container-id-2 div.sk-item {position: relative;z-index: 1;}#sk-container-id-2 div.sk-parallel {display: flex;align-items: stretch;justify-content: center;background-color: white;position: relative;}#sk-container-id-2 div.sk-item::before, #sk-container-id-2 div.sk-parallel-item::before {content: \"\";position: absolute;border-left: 1px solid gray;box-sizing: border-box;top: 0;bottom: 0;left: 50%;z-index: -1;}#sk-container-id-2 div.sk-parallel-item {display: flex;flex-direction: column;z-index: 1;position: relative;background-color: white;}#sk-container-id-2 div.sk-parallel-item:first-child::after {align-self: flex-end;width: 50%;}#sk-container-id-2 div.sk-parallel-item:last-child::after {align-self: flex-start;width: 50%;}#sk-container-id-2 div.sk-parallel-item:only-child::after {width: 0;}#sk-container-id-2 div.sk-dashed-wrapped {border: 1px dashed gray;margin: 0 0.4em 0.5em 0.4em;box-sizing: border-box;padding-bottom: 0.4em;background-color: white;}#sk-container-id-2 div.sk-label label {font-family: monospace;font-weight: bold;display: inline-block;line-height: 1.2em;}#sk-container-id-2 div.sk-label-container {text-align: center;}#sk-container-id-2 div.sk-container {/* jupyter's `normalize.less` sets `[hidden] { display: none; }` but bootstrap.min.css set `[hidden] { display: none !important; }` so we also need the `!important` here to be able to override the default hidden behavior on the sphinx rendered scikit-learn.org. See: https://github.com/scikit-learn/scikit-learn/issues/21755 */display: inline-block !important;position: relative;}#sk-container-id-2 div.sk-text-repr-fallback {display: none;}</style><div id=\"sk-container-id-2\" class=\"sk-top-container\"><div class=\"sk-text-repr-fallback\"><pre>KNeighborsRegressor(n_neighbors=3, weights=&#x27;distance&#x27;)</pre><b>In a Jupyter environment, please rerun this cell to show the HTML representation or trust the notebook. <br />On GitHub, the HTML representation is unable to render, please try loading this page with nbviewer.org.</b></div><div class=\"sk-container\" hidden><div class=\"sk-item\"><div class=\"sk-estimator sk-toggleable\"><input class=\"sk-toggleable__control sk-hidden--visually\" id=\"sk-estimator-id-2\" type=\"checkbox\" checked><label for=\"sk-estimator-id-2\" class=\"sk-toggleable__label sk-toggleable__label-arrow\">KNeighborsRegressor</label><div class=\"sk-toggleable__content\"><pre>KNeighborsRegressor(n_neighbors=3, weights=&#x27;distance&#x27;)</pre></div></div></div></div></div>"
      ],
      "text/plain": [
       "KNeighborsRegressor(n_neighbors=3, weights='distance')"
      ]
     },
     "execution_count": 129,
     "metadata": {},
     "output_type": "execute_result"
    }
   ],
   "source": [
    "knn_regressor = KNeighborsRegressor(n_neighbors=3, weights='distance')\n",
    "knn_regressor.fit(X_train_step_2, y_train_step_2)"
   ]
  },
  {
   "cell_type": "markdown",
   "id": "f7d03f36",
   "metadata": {},
   "source": [
    "### 7.4. Making predictions and evaluating the model"
   ]
  },
  {
   "cell_type": "code",
   "execution_count": 130,
   "id": "c99876f3",
   "metadata": {},
   "outputs": [
    {
     "data": {
      "text/plain": [
       "array([[44.43489687, 26.04790437],\n",
       "       [44.4349375 , 26.04792793],\n",
       "       [44.43493713, 26.04794152],\n",
       "       [44.4349375 , 26.04791794],\n",
       "       [44.43493054, 26.04790377],\n",
       "       [44.4348794 , 26.04790377],\n",
       "       [44.43488159, 26.04791315],\n",
       "       [44.43489602, 26.04794156],\n",
       "       [44.43487455, 26.04792501],\n",
       "       [44.4349375 , 26.04790002],\n",
       "       [44.43491062, 26.04794156],\n",
       "       [44.43488931, 26.04790377],\n",
       "       [44.43487455, 26.04790979],\n",
       "       [44.43493568, 26.04794113],\n",
       "       [44.4349375 , 26.04793183],\n",
       "       [44.43487864, 26.04794156],\n",
       "       [44.43492308, 26.04790377],\n",
       "       [44.4349375 , 26.04790461],\n",
       "       [44.4349375 , 26.04790461],\n",
       "       [44.43490912, 26.04790377],\n",
       "       [44.43492158, 26.04790377],\n",
       "       [44.43489642, 26.04790377],\n",
       "       [44.4349375 , 26.04789684],\n",
       "       [44.43489508, 26.04790377],\n",
       "       [44.43492974, 26.04790377],\n",
       "       [44.4349375 , 26.04789748],\n",
       "       [44.4348876 , 26.04793984],\n",
       "       [44.4349027 , 26.04790377],\n",
       "       [44.43490655, 26.04790377]])"
      ]
     },
     "execution_count": 130,
     "metadata": {},
     "output_type": "execute_result"
    }
   ],
   "source": [
    "y_pred_step_2 = knn_regressor.predict(X_test_step_2)\n",
    "y_pred_step_2"
   ]
  },
  {
   "cell_type": "code",
   "execution_count": 131,
   "id": "a09e8faf",
   "metadata": {},
   "outputs": [
    {
     "data": {
      "text/plain": [
       "array([[44.43489853, 26.04790377],\n",
       "       [44.4349375 , 26.0479277 ],\n",
       "       [44.4349375 , 26.04794143],\n",
       "       [44.4349375 , 26.04793526],\n",
       "       [44.43493001, 26.04790377],\n",
       "       [44.43487854, 26.04790377],\n",
       "       [44.43488264, 26.04790377],\n",
       "       [44.43489928, 26.04794156],\n",
       "       [44.43487455, 26.04792267],\n",
       "       [44.4349375 , 26.04789676],\n",
       "       [44.43491063, 26.04794156],\n",
       "       [44.43488984, 26.04790377],\n",
       "       [44.43487455, 26.04791457],\n",
       "       [44.434933  , 26.04794156],\n",
       "       [44.4349375 , 26.04791987],\n",
       "       [44.43490153, 26.04794156],\n",
       "       [44.43492401, 26.04790377],\n",
       "       [44.4349375 , 26.04789748],\n",
       "       [44.4349375 , 26.04791322],\n",
       "       [44.43491252, 26.04790377],\n",
       "       [44.43492401, 26.04790377],\n",
       "       [44.43490153, 26.04790377],\n",
       "       [44.4349375 , 26.04789534],\n",
       "       [44.43489253, 26.04790377],\n",
       "       [44.43493046, 26.04790377],\n",
       "       [44.4349375 , 26.04791322],\n",
       "       [44.43489953, 26.04794156],\n",
       "       [44.4349049 , 26.04790377],\n",
       "       [44.43491052, 26.04790377]])"
      ]
     },
     "execution_count": 131,
     "metadata": {},
     "output_type": "execute_result"
    }
   ],
   "source": [
    "y_test_step_2"
   ]
  },
  {
   "cell_type": "code",
   "execution_count": 132,
   "id": "596e95d2",
   "metadata": {},
   "outputs": [
    {
     "data": {
      "text/plain": [
       "((29, 2), (29, 2))"
      ]
     },
     "execution_count": 132,
     "metadata": {},
     "output_type": "execute_result"
    }
   ],
   "source": [
    "y_pred_step_2.shape, y_test_step_2.shape"
   ]
  },
  {
   "cell_type": "code",
   "execution_count": 133,
   "id": "ab72bc69",
   "metadata": {},
   "outputs": [
    {
     "name": "stdout",
     "output_type": "stream",
     "text": [
      "2.947909014333602e-11\n"
     ]
    }
   ],
   "source": [
    "print(mean_squared_error(y_test_step_2, y_pred_step_2))"
   ]
  },
  {
   "cell_type": "code",
   "execution_count": 134,
   "id": "38f37d4a",
   "metadata": {},
   "outputs": [
    {
     "name": "stdout",
     "output_type": "stream",
     "text": [
      "[2.62518611e-11 3.27063192e-11]\n"
     ]
    }
   ],
   "source": [
    "print(mean_squared_error(y_test_step_2, y_pred_step_2, multioutput='raw_values'))"
   ]
  },
  {
   "cell_type": "code",
   "execution_count": 135,
   "id": "8458c13c",
   "metadata": {},
   "outputs": [
    {
     "data": {
      "text/plain": [
       "0    0.000005\n",
       "dtype: float64"
      ]
     },
     "execution_count": 135,
     "metadata": {},
     "output_type": "execute_result"
    }
   ],
   "source": [
    "y_pred_step_2 = pd.DataFrame(y_pred_step_2, columns=['lat1', 'long1'])\n",
    "y_test_step_2 = pd.DataFrame(y_test_step_2, columns=['lat2', 'long2'])\n",
    "\n",
    "# alculating the Euclidian distance between points\n",
    "distance_df = pd.DataFrame((y_test_step_2['lat2']-y_pred_step_2['lat1'])**2 + \n",
    "                           (y_test_step_2['long2']-y_pred_step_2['long1'])**2)**(1/2)\n",
    "sum_dist = distance_df.sum()\n",
    "mean_error = sum_dist/len(distance_df)\n",
    "mean_error"
   ]
  },
  {
   "cell_type": "code",
   "execution_count": 136,
   "id": "bb756f69",
   "metadata": {},
   "outputs": [],
   "source": [
    "from math import radians, cos, sin, asin, acos, sqrt, pi\n",
    "import geopy.distance\n",
    "\n",
    "def calculate_spherical_distance(row):\n",
    "    \" Calculates the distance in km with the haversine method, which assumes the earth is sphere\"\n",
    "    lat1 = row['lat1']\n",
    "    lon1 = row['long1']\n",
    "    lat2 = row['lat2']\n",
    "    lon2 = row['long2']\n",
    "    r=6371\n",
    "    # Convert degrees to radians\n",
    "    coordinates = lat1, lon1, lat2, lon2\n",
    "    phi1, lambda1, phi2, lambda2 = [\n",
    "        radians(c) for c in coordinates\n",
    "    ]\n",
    "    \n",
    "    # Apply the haversine formula\n",
    "    d = r*acos(cos(phi2-phi1) - cos(phi1) * cos(phi2) *\n",
    "              (1-cos(lambda2-lambda1)))\n",
    "    return d\n",
    "\n",
    "def calculate_vincenty_distance(row):\n",
    "    coords_1 = (row['lat1'], row['long1'])\n",
    "    coords_2 = (row['lat2'], row['long2'])\n",
    "    \n",
    "    return geopy.distance.geodesic(coords_1, coords_2).km"
   ]
  },
  {
   "cell_type": "code",
   "execution_count": 137,
   "id": "52562406",
   "metadata": {},
   "outputs": [
    {
     "name": "stdout",
     "output_type": "stream",
     "text": [
      "Mean Squared error for Haversine is: 0.5317499371937411 m\n",
      "Mean Squared error for Vincenty is: 0.531479219370009 m\n"
     ]
    },
    {
     "data": {
      "text/html": [
       "<div>\n",
       "<style scoped>\n",
       "    .dataframe tbody tr th:only-of-type {\n",
       "        vertical-align: middle;\n",
       "    }\n",
       "\n",
       "    .dataframe tbody tr th {\n",
       "        vertical-align: top;\n",
       "    }\n",
       "\n",
       "    .dataframe thead th {\n",
       "        text-align: right;\n",
       "    }\n",
       "</style>\n",
       "<table border=\"1\" class=\"dataframe\">\n",
       "  <thead>\n",
       "    <tr style=\"text-align: right;\">\n",
       "      <th></th>\n",
       "      <th>lat1</th>\n",
       "      <th>long1</th>\n",
       "      <th>lat2</th>\n",
       "      <th>long2</th>\n",
       "      <th>km_difference_haversine</th>\n",
       "      <th>m_difference_haversine</th>\n",
       "      <th>km_difference_vincenty</th>\n",
       "      <th>m_difference_vincenty</th>\n",
       "    </tr>\n",
       "  </thead>\n",
       "  <tbody>\n",
       "    <tr>\n",
       "      <th>0</th>\n",
       "      <td>44.434897</td>\n",
       "      <td>26.047904</td>\n",
       "      <td>44.434899</td>\n",
       "      <td>26.047904</td>\n",
       "      <td>0.000190</td>\n",
       "      <td>0.189871</td>\n",
       "      <td>1.908508e-04</td>\n",
       "      <td>0.190851</td>\n",
       "    </tr>\n",
       "    <tr>\n",
       "      <th>1</th>\n",
       "      <td>44.434937</td>\n",
       "      <td>26.047928</td>\n",
       "      <td>44.434937</td>\n",
       "      <td>26.047928</td>\n",
       "      <td>0.000000</td>\n",
       "      <td>0.000000</td>\n",
       "      <td>1.811613e-05</td>\n",
       "      <td>0.018116</td>\n",
       "    </tr>\n",
       "    <tr>\n",
       "      <th>2</th>\n",
       "      <td>44.434937</td>\n",
       "      <td>26.047942</td>\n",
       "      <td>44.434937</td>\n",
       "      <td>26.047941</td>\n",
       "      <td>0.000000</td>\n",
       "      <td>0.000000</td>\n",
       "      <td>4.203668e-05</td>\n",
       "      <td>0.042037</td>\n",
       "    </tr>\n",
       "    <tr>\n",
       "      <th>3</th>\n",
       "      <td>44.434937</td>\n",
       "      <td>26.047918</td>\n",
       "      <td>44.434937</td>\n",
       "      <td>26.047935</td>\n",
       "      <td>0.001376</td>\n",
       "      <td>1.375743</td>\n",
       "      <td>1.378804e-03</td>\n",
       "      <td>1.378804</td>\n",
       "    </tr>\n",
       "    <tr>\n",
       "      <th>4</th>\n",
       "      <td>44.434931</td>\n",
       "      <td>26.047904</td>\n",
       "      <td>44.434930</td>\n",
       "      <td>26.047904</td>\n",
       "      <td>0.000000</td>\n",
       "      <td>0.000000</td>\n",
       "      <td>5.939214e-05</td>\n",
       "      <td>0.059392</td>\n",
       "    </tr>\n",
       "    <tr>\n",
       "      <th>5</th>\n",
       "      <td>44.434879</td>\n",
       "      <td>26.047904</td>\n",
       "      <td>44.434879</td>\n",
       "      <td>26.047904</td>\n",
       "      <td>0.000095</td>\n",
       "      <td>0.094935</td>\n",
       "      <td>9.496980e-05</td>\n",
       "      <td>0.094970</td>\n",
       "    </tr>\n",
       "    <tr>\n",
       "      <th>6</th>\n",
       "      <td>44.434882</td>\n",
       "      <td>26.047913</td>\n",
       "      <td>44.434883</td>\n",
       "      <td>26.047904</td>\n",
       "      <td>0.000759</td>\n",
       "      <td>0.759482</td>\n",
       "      <td>7.557050e-04</td>\n",
       "      <td>0.755705</td>\n",
       "    </tr>\n",
       "    <tr>\n",
       "      <th>7</th>\n",
       "      <td>44.434896</td>\n",
       "      <td>26.047942</td>\n",
       "      <td>44.434899</td>\n",
       "      <td>26.047942</td>\n",
       "      <td>0.000368</td>\n",
       "      <td>0.367683</td>\n",
       "      <td>3.619337e-04</td>\n",
       "      <td>0.361934</td>\n",
       "    </tr>\n",
       "    <tr>\n",
       "      <th>8</th>\n",
       "      <td>44.434875</td>\n",
       "      <td>26.047925</td>\n",
       "      <td>44.434875</td>\n",
       "      <td>26.047923</td>\n",
       "      <td>0.000190</td>\n",
       "      <td>0.189871</td>\n",
       "      <td>1.867336e-04</td>\n",
       "      <td>0.186734</td>\n",
       "    </tr>\n",
       "    <tr>\n",
       "      <th>9</th>\n",
       "      <td>44.434937</td>\n",
       "      <td>26.047900</td>\n",
       "      <td>44.434937</td>\n",
       "      <td>26.047897</td>\n",
       "      <td>0.000269</td>\n",
       "      <td>0.268518</td>\n",
       "      <td>2.596590e-04</td>\n",
       "      <td>0.259659</td>\n",
       "    </tr>\n",
       "    <tr>\n",
       "      <th>10</th>\n",
       "      <td>44.434911</td>\n",
       "      <td>26.047942</td>\n",
       "      <td>44.434911</td>\n",
       "      <td>26.047942</td>\n",
       "      <td>0.000000</td>\n",
       "      <td>0.000000</td>\n",
       "      <td>9.194289e-07</td>\n",
       "      <td>0.000919</td>\n",
       "    </tr>\n",
       "    <tr>\n",
       "      <th>11</th>\n",
       "      <td>44.434889</td>\n",
       "      <td>26.047904</td>\n",
       "      <td>44.434890</td>\n",
       "      <td>26.047904</td>\n",
       "      <td>0.000000</td>\n",
       "      <td>0.000000</td>\n",
       "      <td>5.838727e-05</td>\n",
       "      <td>0.058387</td>\n",
       "    </tr>\n",
       "    <tr>\n",
       "      <th>12</th>\n",
       "      <td>44.434875</td>\n",
       "      <td>26.047910</td>\n",
       "      <td>44.434875</td>\n",
       "      <td>26.047915</td>\n",
       "      <td>0.000380</td>\n",
       "      <td>0.379741</td>\n",
       "      <td>3.801902e-04</td>\n",
       "      <td>0.380190</td>\n",
       "    </tr>\n",
       "    <tr>\n",
       "      <th>13</th>\n",
       "      <td>44.434936</td>\n",
       "      <td>26.047941</td>\n",
       "      <td>44.434933</td>\n",
       "      <td>26.047942</td>\n",
       "      <td>0.000300</td>\n",
       "      <td>0.300212</td>\n",
       "      <td>2.991131e-04</td>\n",
       "      <td>0.299113</td>\n",
       "    </tr>\n",
       "    <tr>\n",
       "      <th>14</th>\n",
       "      <td>44.434937</td>\n",
       "      <td>26.047932</td>\n",
       "      <td>44.434937</td>\n",
       "      <td>26.047920</td>\n",
       "      <td>0.000949</td>\n",
       "      <td>0.949353</td>\n",
       "      <td>9.521219e-04</td>\n",
       "      <td>0.952122</td>\n",
       "    </tr>\n",
       "    <tr>\n",
       "      <th>15</th>\n",
       "      <td>44.434879</td>\n",
       "      <td>26.047942</td>\n",
       "      <td>44.434902</td>\n",
       "      <td>26.047942</td>\n",
       "      <td>0.002546</td>\n",
       "      <td>2.545612</td>\n",
       "      <td>2.543691e-03</td>\n",
       "      <td>2.543691</td>\n",
       "    </tr>\n",
       "    <tr>\n",
       "      <th>16</th>\n",
       "      <td>44.434923</td>\n",
       "      <td>26.047904</td>\n",
       "      <td>44.434924</td>\n",
       "      <td>26.047904</td>\n",
       "      <td>0.000095</td>\n",
       "      <td>0.094935</td>\n",
       "      <td>1.029997e-04</td>\n",
       "      <td>0.103000</td>\n",
       "    </tr>\n",
       "    <tr>\n",
       "      <th>17</th>\n",
       "      <td>44.434937</td>\n",
       "      <td>26.047905</td>\n",
       "      <td>44.434937</td>\n",
       "      <td>26.047897</td>\n",
       "      <td>0.000570</td>\n",
       "      <td>0.569612</td>\n",
       "      <td>5.676545e-04</td>\n",
       "      <td>0.567654</td>\n",
       "    </tr>\n",
       "    <tr>\n",
       "      <th>18</th>\n",
       "      <td>44.434937</td>\n",
       "      <td>26.047905</td>\n",
       "      <td>44.434937</td>\n",
       "      <td>26.047913</td>\n",
       "      <td>0.000685</td>\n",
       "      <td>0.684588</td>\n",
       "      <td>6.858039e-04</td>\n",
       "      <td>0.685804</td>\n",
       "    </tr>\n",
       "    <tr>\n",
       "      <th>19</th>\n",
       "      <td>44.434909</td>\n",
       "      <td>26.047904</td>\n",
       "      <td>44.434913</td>\n",
       "      <td>26.047904</td>\n",
       "      <td>0.000380</td>\n",
       "      <td>0.379741</td>\n",
       "      <td>3.771624e-04</td>\n",
       "      <td>0.377162</td>\n",
       "    </tr>\n",
       "    <tr>\n",
       "      <th>20</th>\n",
       "      <td>44.434922</td>\n",
       "      <td>26.047904</td>\n",
       "      <td>44.434924</td>\n",
       "      <td>26.047904</td>\n",
       "      <td>0.000269</td>\n",
       "      <td>0.268518</td>\n",
       "      <td>2.704515e-04</td>\n",
       "      <td>0.270452</td>\n",
       "    </tr>\n",
       "    <tr>\n",
       "      <th>21</th>\n",
       "      <td>44.434896</td>\n",
       "      <td>26.047904</td>\n",
       "      <td>44.434902</td>\n",
       "      <td>26.047904</td>\n",
       "      <td>0.000570</td>\n",
       "      <td>0.569612</td>\n",
       "      <td>5.676021e-04</td>\n",
       "      <td>0.567602</td>\n",
       "    </tr>\n",
       "    <tr>\n",
       "      <th>22</th>\n",
       "      <td>44.434937</td>\n",
       "      <td>26.047897</td>\n",
       "      <td>44.434937</td>\n",
       "      <td>26.047895</td>\n",
       "      <td>0.000134</td>\n",
       "      <td>0.134259</td>\n",
       "      <td>1.198509e-04</td>\n",
       "      <td>0.119851</td>\n",
       "    </tr>\n",
       "    <tr>\n",
       "      <th>23</th>\n",
       "      <td>44.434895</td>\n",
       "      <td>26.047904</td>\n",
       "      <td>44.434893</td>\n",
       "      <td>26.047904</td>\n",
       "      <td>0.000285</td>\n",
       "      <td>0.284806</td>\n",
       "      <td>2.826318e-04</td>\n",
       "      <td>0.282632</td>\n",
       "    </tr>\n",
       "    <tr>\n",
       "      <th>24</th>\n",
       "      <td>44.434930</td>\n",
       "      <td>26.047904</td>\n",
       "      <td>44.434930</td>\n",
       "      <td>26.047904</td>\n",
       "      <td>0.000095</td>\n",
       "      <td>0.094935</td>\n",
       "      <td>8.002283e-05</td>\n",
       "      <td>0.080023</td>\n",
       "    </tr>\n",
       "    <tr>\n",
       "      <th>25</th>\n",
       "      <td>44.434937</td>\n",
       "      <td>26.047897</td>\n",
       "      <td>44.434937</td>\n",
       "      <td>26.047913</td>\n",
       "      <td>0.001249</td>\n",
       "      <td>1.248679</td>\n",
       "      <td>1.253458e-03</td>\n",
       "      <td>1.253458</td>\n",
       "    </tr>\n",
       "    <tr>\n",
       "      <th>26</th>\n",
       "      <td>44.434888</td>\n",
       "      <td>26.047940</td>\n",
       "      <td>44.434900</td>\n",
       "      <td>26.047942</td>\n",
       "      <td>0.001332</td>\n",
       "      <td>1.332480</td>\n",
       "      <td>1.332339e-03</td>\n",
       "      <td>1.332339</td>\n",
       "    </tr>\n",
       "    <tr>\n",
       "      <th>27</th>\n",
       "      <td>44.434903</td>\n",
       "      <td>26.047904</td>\n",
       "      <td>44.434905</td>\n",
       "      <td>26.047904</td>\n",
       "      <td>0.000251</td>\n",
       "      <td>0.251175</td>\n",
       "      <td>2.447137e-04</td>\n",
       "      <td>0.244714</td>\n",
       "    </tr>\n",
       "    <tr>\n",
       "      <th>28</th>\n",
       "      <td>44.434907</td>\n",
       "      <td>26.047904</td>\n",
       "      <td>44.434911</td>\n",
       "      <td>26.047904</td>\n",
       "      <td>0.000445</td>\n",
       "      <td>0.445286</td>\n",
       "      <td>4.409924e-04</td>\n",
       "      <td>0.440992</td>\n",
       "    </tr>\n",
       "  </tbody>\n",
       "</table>\n",
       "</div>"
      ],
      "text/plain": [
       "         lat1      long1       lat2      long2  km_difference_haversine  \\\n",
       "0   44.434897  26.047904  44.434899  26.047904                 0.000190   \n",
       "1   44.434937  26.047928  44.434937  26.047928                 0.000000   \n",
       "2   44.434937  26.047942  44.434937  26.047941                 0.000000   \n",
       "3   44.434937  26.047918  44.434937  26.047935                 0.001376   \n",
       "4   44.434931  26.047904  44.434930  26.047904                 0.000000   \n",
       "5   44.434879  26.047904  44.434879  26.047904                 0.000095   \n",
       "6   44.434882  26.047913  44.434883  26.047904                 0.000759   \n",
       "7   44.434896  26.047942  44.434899  26.047942                 0.000368   \n",
       "8   44.434875  26.047925  44.434875  26.047923                 0.000190   \n",
       "9   44.434937  26.047900  44.434937  26.047897                 0.000269   \n",
       "10  44.434911  26.047942  44.434911  26.047942                 0.000000   \n",
       "11  44.434889  26.047904  44.434890  26.047904                 0.000000   \n",
       "12  44.434875  26.047910  44.434875  26.047915                 0.000380   \n",
       "13  44.434936  26.047941  44.434933  26.047942                 0.000300   \n",
       "14  44.434937  26.047932  44.434937  26.047920                 0.000949   \n",
       "15  44.434879  26.047942  44.434902  26.047942                 0.002546   \n",
       "16  44.434923  26.047904  44.434924  26.047904                 0.000095   \n",
       "17  44.434937  26.047905  44.434937  26.047897                 0.000570   \n",
       "18  44.434937  26.047905  44.434937  26.047913                 0.000685   \n",
       "19  44.434909  26.047904  44.434913  26.047904                 0.000380   \n",
       "20  44.434922  26.047904  44.434924  26.047904                 0.000269   \n",
       "21  44.434896  26.047904  44.434902  26.047904                 0.000570   \n",
       "22  44.434937  26.047897  44.434937  26.047895                 0.000134   \n",
       "23  44.434895  26.047904  44.434893  26.047904                 0.000285   \n",
       "24  44.434930  26.047904  44.434930  26.047904                 0.000095   \n",
       "25  44.434937  26.047897  44.434937  26.047913                 0.001249   \n",
       "26  44.434888  26.047940  44.434900  26.047942                 0.001332   \n",
       "27  44.434903  26.047904  44.434905  26.047904                 0.000251   \n",
       "28  44.434907  26.047904  44.434911  26.047904                 0.000445   \n",
       "\n",
       "    m_difference_haversine  km_difference_vincenty  m_difference_vincenty  \n",
       "0                 0.189871            1.908508e-04               0.190851  \n",
       "1                 0.000000            1.811613e-05               0.018116  \n",
       "2                 0.000000            4.203668e-05               0.042037  \n",
       "3                 1.375743            1.378804e-03               1.378804  \n",
       "4                 0.000000            5.939214e-05               0.059392  \n",
       "5                 0.094935            9.496980e-05               0.094970  \n",
       "6                 0.759482            7.557050e-04               0.755705  \n",
       "7                 0.367683            3.619337e-04               0.361934  \n",
       "8                 0.189871            1.867336e-04               0.186734  \n",
       "9                 0.268518            2.596590e-04               0.259659  \n",
       "10                0.000000            9.194289e-07               0.000919  \n",
       "11                0.000000            5.838727e-05               0.058387  \n",
       "12                0.379741            3.801902e-04               0.380190  \n",
       "13                0.300212            2.991131e-04               0.299113  \n",
       "14                0.949353            9.521219e-04               0.952122  \n",
       "15                2.545612            2.543691e-03               2.543691  \n",
       "16                0.094935            1.029997e-04               0.103000  \n",
       "17                0.569612            5.676545e-04               0.567654  \n",
       "18                0.684588            6.858039e-04               0.685804  \n",
       "19                0.379741            3.771624e-04               0.377162  \n",
       "20                0.268518            2.704515e-04               0.270452  \n",
       "21                0.569612            5.676021e-04               0.567602  \n",
       "22                0.134259            1.198509e-04               0.119851  \n",
       "23                0.284806            2.826318e-04               0.282632  \n",
       "24                0.094935            8.002283e-05               0.080023  \n",
       "25                1.248679            1.253458e-03               1.253458  \n",
       "26                1.332480            1.332339e-03               1.332339  \n",
       "27                0.251175            2.447137e-04               0.244714  \n",
       "28                0.445286            4.409924e-04               0.440992  "
      ]
     },
     "execution_count": 137,
     "metadata": {},
     "output_type": "execute_result"
    }
   ],
   "source": [
    "df_final = pd.DataFrame()\n",
    "df_final = pd.concat([y_pred_step_2, y_test_step_2], axis=1)\n",
    "\n",
    "df_final['km_difference_haversine'] = df_final.apply(calculate_spherical_distance, axis=1)\n",
    "df_final['m_difference_haversine'] = df_final['km_difference_haversine']*1000\n",
    "\n",
    "df_final['km_difference_vincenty'] = df_final.apply(calculate_vincenty_distance, axis=1)\n",
    "df_final['m_difference_vincenty'] = df_final['km_difference_vincenty']*1000\n",
    "\n",
    "# Mean Squared Error Haversine\n",
    "mse_h = (df_final['m_difference_haversine']*df_final['m_difference_haversine']).sum()/len(df_final)\n",
    "print(f'Mean Squared error for Haversine is: {mse_h} m')\n",
    "\n",
    "# Mean Squared Error Vincenty\n",
    "mse_v = (df_final['m_difference_vincenty']*df_final['m_difference_vincenty']).sum()/len(df_final)\n",
    "print(f'Mean Squared error for Vincenty is: {mse_v} m')\n",
    "\n",
    "df_final"
   ]
  },
  {
   "cell_type": "code",
   "execution_count": 142,
   "id": "f59c2fab",
   "metadata": {},
   "outputs": [
    {
     "data": {
      "image/png": "[encoded data removed]",
      "text/plain": [
       "<Figure size 720x720 with 1 Axes>"
      ]
     },
     "metadata": {
      "needs_background": "light"
     },
     "output_type": "display_data"
    }
   ],
   "source": [
    "font = {'family' : 'normal',\n",
    "        'size'   : 20}\n",
    "matplotlib.rc('font', **font)\n",
    "# plt.figure(figsize=(10,10))\n",
    "# plt.scatter(df_final['long1'], df_final['lat1'], color='red')\n",
    "# plt.scatter(df_final['long2'], df_final['lat2'], color='green', alpha=0.4)\n",
    "\n",
    "marker = 'o'\n",
    "colors = ('red', 'green')\n",
    "cmap = ListedColormap(colors[:2])\n",
    "\n",
    "\n",
    "fig = plt.figure(figsize=(10,10))\n",
    "\n",
    "plt.scatter(x=df_final[f'long1'], \n",
    "            y=df_final[f'lat1'],\n",
    "            alpha=0.6, \n",
    "            c=[cmap(0)],\n",
    "            marker=marker, \n",
    "            label='Predicted')\n",
    "\n",
    "plt.scatter(x=df_final[f'long2'], \n",
    "            y=df_final[f'lat2'],\n",
    "            alpha=0.6, \n",
    "            c=[cmap(1)],\n",
    "            marker=marker, \n",
    "            label='Real')\n",
    "\n",
    "\n",
    "plt.xlabel('Longitude')\n",
    "plt.ylabel('Latitude')\n",
    "plt.legend(loc='upper right')\n",
    "plt.tight_layout()"
   ]
  },
  {
   "cell_type": "code",
   "execution_count": null,
   "id": "6fd2af08",
   "metadata": {},
   "outputs": [],
   "source": []
  }
 ],
 "metadata": {
  "kernelspec": {
   "display_name": "Python 3 (ipykernel)",
   "language": "python",
   "name": "python3"
  },
  "language_info": {
   "codemirror_mode": {
    "name": "ipython",
    "version": 3
   },
   "file_extension": ".py",
   "mimetype": "text/x-python",
   "name": "python",
   "nbconvert_exporter": "python",
   "pygments_lexer": "ipython3",
   "version": "3.9.2"
  }
 },
 "nbformat": 4,
 "nbformat_minor": 5
}
