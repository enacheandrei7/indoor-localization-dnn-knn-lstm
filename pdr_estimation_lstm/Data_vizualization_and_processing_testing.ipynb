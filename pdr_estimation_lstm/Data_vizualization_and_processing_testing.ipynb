{
 "cells": [
  {
   "cell_type": "code",
   "execution_count": 39,
   "id": "48adb1ed",
   "metadata": {},
   "outputs": [],
   "source": [
    "import numpy as np\n",
    "import matplotlib.pyplot as plt\n",
    "import pandas as pd\n",
    "import plotly.express as px\n",
    "\n",
    "from sklearn.preprocessing import MinMaxScaler\n",
    "\n",
    "import tensorflow as tf\n",
    "from keras import optimizers\n",
    "from keras.models import Sequential\n",
    "from keras.layers import LSTM, Dropout, Dense, TimeDistributed, Input, Activation, concatenate\n",
    "from keras.callbacks import History\n",
    "from keras.models import Model\n",
    "\n",
    "# The values have around 15 decimals, so for more clarity in reading we're increasing the number of displayed values\n",
    "pd.set_option('display.float_format', '{:.15f}'.format)"
   ]
  },
  {
   "cell_type": "markdown",
   "id": "bc9af83b",
   "metadata": {},
   "source": [
    "# 1. Importing the sensor and location data"
   ]
  },
  {
   "cell_type": "markdown",
   "id": "011f1269",
   "metadata": {},
   "source": [
    "## Full sensor data and location"
   ]
  },
  {
   "cell_type": "code",
   "execution_count": 40,
   "id": "8b7060c0",
   "metadata": {},
   "outputs": [],
   "source": [
    "full_sensor_and_loc_file = '../data/Processed/full_sensor_data_and_location.csv'"
   ]
  },
  {
   "cell_type": "code",
   "execution_count": 41,
   "id": "e6c5bbe0",
   "metadata": {
    "scrolled": false
   },
   "outputs": [
    {
     "data": {
      "text/html": [
       "<div>\n",
       "<style scoped>\n",
       "    .dataframe tbody tr th:only-of-type {\n",
       "        vertical-align: middle;\n",
       "    }\n",
       "\n",
       "    .dataframe tbody tr th {\n",
       "        vertical-align: top;\n",
       "    }\n",
       "\n",
       "    .dataframe thead th {\n",
       "        text-align: right;\n",
       "    }\n",
       "</style>\n",
       "<table border=\"1\" class=\"dataframe\">\n",
       "  <thead>\n",
       "    <tr style=\"text-align: right;\">\n",
       "      <th></th>\n",
       "      <th>ax</th>\n",
       "      <th>ay</th>\n",
       "      <th>az</th>\n",
       "      <th>gx</th>\n",
       "      <th>gy</th>\n",
       "      <th>gz</th>\n",
       "      <th>mx</th>\n",
       "      <th>my</th>\n",
       "      <th>mz</th>\n",
       "      <th>a_total</th>\n",
       "      <th>g_total</th>\n",
       "      <th>m_total</th>\n",
       "      <th>lat</th>\n",
       "      <th>long</th>\n",
       "    </tr>\n",
       "  </thead>\n",
       "  <tbody>\n",
       "    <tr>\n",
       "      <th>11:05:09:00</th>\n",
       "      <td>0.917251600000000</td>\n",
       "      <td>0.223266600000000</td>\n",
       "      <td>9.617767000000001</td>\n",
       "      <td>-0.033401490000000</td>\n",
       "      <td>0.057952880000000</td>\n",
       "      <td>0.003723144500000</td>\n",
       "      <td>51.450348499999997</td>\n",
       "      <td>-49.124908499999997</td>\n",
       "      <td>-263.400264999999990</td>\n",
       "      <td>9.663986782827630</td>\n",
       "      <td>0.066992967089706</td>\n",
       "      <td>272.838632163932175</td>\n",
       "      <td>44.434918000000003</td>\n",
       "      <td>26.047605999999998</td>\n",
       "    </tr>\n",
       "    <tr>\n",
       "      <th>11:05:09:01</th>\n",
       "      <td>0.799926760000000</td>\n",
       "      <td>0.194534300000000</td>\n",
       "      <td>9.680023000000000</td>\n",
       "      <td>-0.052566530000000</td>\n",
       "      <td>0.046249390000000</td>\n",
       "      <td>-0.004806518600000</td>\n",
       "      <td>52.200316999999998</td>\n",
       "      <td>-48.599243000000001</td>\n",
       "      <td>-263.549800000000005</td>\n",
       "      <td>9.714966376461094</td>\n",
       "      <td>0.070180829096450</td>\n",
       "      <td>273.029772360293236</td>\n",
       "      <td>44.434918000000003</td>\n",
       "      <td>26.047606078717038</td>\n",
       "    </tr>\n",
       "    <tr>\n",
       "      <th>11:05:09:02</th>\n",
       "      <td>0.658676150000000</td>\n",
       "      <td>0.101165770000000</td>\n",
       "      <td>9.876343000000000</td>\n",
       "      <td>-0.057891846000000</td>\n",
       "      <td>0.024932861000000</td>\n",
       "      <td>-0.003738403300000</td>\n",
       "      <td>52.349853500000002</td>\n",
       "      <td>-49.124908499999997</td>\n",
       "      <td>-263.175200000000018</td>\n",
       "      <td>9.898799919043093</td>\n",
       "      <td>0.063143400685792</td>\n",
       "      <td>272.791737487752755</td>\n",
       "      <td>44.434918000000003</td>\n",
       "      <td>26.047606157434078</td>\n",
       "    </tr>\n",
       "    <tr>\n",
       "      <th>11:05:09:03</th>\n",
       "      <td>0.594024660000000</td>\n",
       "      <td>0.072433470000000</td>\n",
       "      <td>10.029572000000000</td>\n",
       "      <td>-0.036590576000000</td>\n",
       "      <td>0.002563476600000</td>\n",
       "      <td>0.007980347000000</td>\n",
       "      <td>52.499389999999998</td>\n",
       "      <td>-49.650573999999999</td>\n",
       "      <td>-262.800599999999974</td>\n",
       "      <td>10.047408939992856</td>\n",
       "      <td>0.037538348425722</td>\n",
       "      <td>272.553702615212273</td>\n",
       "      <td>44.434917999999989</td>\n",
       "      <td>26.047606236151118</td>\n",
       "    </tr>\n",
       "    <tr>\n",
       "      <th>11:05:09:04</th>\n",
       "      <td>0.634735100000000</td>\n",
       "      <td>0.041305542000000</td>\n",
       "      <td>10.098998999999999</td>\n",
       "      <td>-0.012084961000000</td>\n",
       "      <td>-0.029388428000000</td>\n",
       "      <td>0.015441894500000</td>\n",
       "      <td>50.999450000000003</td>\n",
       "      <td>-50.025176999999999</td>\n",
       "      <td>-262.274935000000028</td>\n",
       "      <td>10.119010603659476</td>\n",
       "      <td>0.035329563943415</td>\n",
       "      <td>271.834052942028165</td>\n",
       "      <td>44.434917999999989</td>\n",
       "      <td>26.047606314868165</td>\n",
       "    </tr>\n",
       "    <tr>\n",
       "      <th>...</th>\n",
       "      <td>...</td>\n",
       "      <td>...</td>\n",
       "      <td>...</td>\n",
       "      <td>...</td>\n",
       "      <td>...</td>\n",
       "      <td>...</td>\n",
       "      <td>...</td>\n",
       "      <td>...</td>\n",
       "      <td>...</td>\n",
       "      <td>...</td>\n",
       "      <td>...</td>\n",
       "      <td>...</td>\n",
       "      <td>...</td>\n",
       "      <td>...</td>\n",
       "    </tr>\n",
       "    <tr>\n",
       "      <th>19:09:27:16</th>\n",
       "      <td>1.302719100000000</td>\n",
       "      <td>0.520156860000000</td>\n",
       "      <td>7.142166000000000</td>\n",
       "      <td>-0.118621826000000</td>\n",
       "      <td>-0.505569460000000</td>\n",
       "      <td>0.092132570000000</td>\n",
       "      <td>22.650145999999999</td>\n",
       "      <td>-15.150451500000001</td>\n",
       "      <td>-262.875364999999988</td>\n",
       "      <td>7.278610814164050</td>\n",
       "      <td>0.527408785424618</td>\n",
       "      <td>264.286459212824525</td>\n",
       "      <td>44.434937499964583</td>\n",
       "      <td>26.047601919741037</td>\n",
       "    </tr>\n",
       "    <tr>\n",
       "      <th>19:09:27:17</th>\n",
       "      <td>2.049713100000000</td>\n",
       "      <td>0.280731200000000</td>\n",
       "      <td>8.202788999999999</td>\n",
       "      <td>-0.301849370000000</td>\n",
       "      <td>-0.332992550000000</td>\n",
       "      <td>0.140075680000000</td>\n",
       "      <td>23.100280000000001</td>\n",
       "      <td>-16.200256000000000</td>\n",
       "      <td>-262.800599999999974</td>\n",
       "      <td>8.459662001373697</td>\n",
       "      <td>0.470763503951147</td>\n",
       "      <td>264.310852200404213</td>\n",
       "      <td>44.434937499964576</td>\n",
       "      <td>26.047601814784940</td>\n",
       "    </tr>\n",
       "    <tr>\n",
       "      <th>19:09:27:18</th>\n",
       "      <td>2.140686000000000</td>\n",
       "      <td>0.043701172000000</td>\n",
       "      <td>9.170044000000001</td>\n",
       "      <td>-0.590530400000000</td>\n",
       "      <td>0.304031370000000</td>\n",
       "      <td>0.046325684000000</td>\n",
       "      <td>23.100280000000001</td>\n",
       "      <td>-13.949585000000001</td>\n",
       "      <td>-261.749270000000024</td>\n",
       "      <td>9.416695455676912</td>\n",
       "      <td>0.665813259304968</td>\n",
       "      <td>263.136645496752351</td>\n",
       "      <td>44.434937499964576</td>\n",
       "      <td>26.047601709828850</td>\n",
       "    </tr>\n",
       "    <tr>\n",
       "      <th>19:09:27:19</th>\n",
       "      <td>1.896484400000000</td>\n",
       "      <td>-0.226837160000000</td>\n",
       "      <td>9.799728000000000</td>\n",
       "      <td>-0.686401370000000</td>\n",
       "      <td>0.651306150000000</td>\n",
       "      <td>-0.067657470000000</td>\n",
       "      <td>24.050394333333333</td>\n",
       "      <td>-13.749694999999999</td>\n",
       "      <td>-262.549340000000029</td>\n",
       "      <td>9.984126253738191</td>\n",
       "      <td>0.948643281224560</td>\n",
       "      <td>264.009983987171552</td>\n",
       "      <td>44.434937499964569</td>\n",
       "      <td>26.047601604872760</td>\n",
       "    </tr>\n",
       "    <tr>\n",
       "      <th>19:09:27:20</th>\n",
       "      <td>1.659454300000000</td>\n",
       "      <td>-0.241210940000000</td>\n",
       "      <td>9.857193000000001</td>\n",
       "      <td>-0.760971070000000</td>\n",
       "      <td>0.844131470000000</td>\n",
       "      <td>-0.144348140000000</td>\n",
       "      <td>25.000508666666668</td>\n",
       "      <td>-13.549804999999999</td>\n",
       "      <td>-263.349409999999978</td>\n",
       "      <td>9.998811185866709</td>\n",
       "      <td>1.145631395145387</td>\n",
       "      <td>264.883322477590696</td>\n",
       "      <td>44.434937499964562</td>\n",
       "      <td>26.047601499916670</td>\n",
       "    </tr>\n",
       "  </tbody>\n",
       "</table>\n",
       "<p>72318 rows × 14 columns</p>\n",
       "</div>"
      ],
      "text/plain": [
       "                           ax                 ay                 az  \\\n",
       "11:05:09:00 0.917251600000000  0.223266600000000  9.617767000000001   \n",
       "11:05:09:01 0.799926760000000  0.194534300000000  9.680023000000000   \n",
       "11:05:09:02 0.658676150000000  0.101165770000000  9.876343000000000   \n",
       "11:05:09:03 0.594024660000000  0.072433470000000 10.029572000000000   \n",
       "11:05:09:04 0.634735100000000  0.041305542000000 10.098998999999999   \n",
       "...                       ...                ...                ...   \n",
       "19:09:27:16 1.302719100000000  0.520156860000000  7.142166000000000   \n",
       "19:09:27:17 2.049713100000000  0.280731200000000  8.202788999999999   \n",
       "19:09:27:18 2.140686000000000  0.043701172000000  9.170044000000001   \n",
       "19:09:27:19 1.896484400000000 -0.226837160000000  9.799728000000000   \n",
       "19:09:27:20 1.659454300000000 -0.241210940000000  9.857193000000001   \n",
       "\n",
       "                            gx                 gy                 gz  \\\n",
       "11:05:09:00 -0.033401490000000  0.057952880000000  0.003723144500000   \n",
       "11:05:09:01 -0.052566530000000  0.046249390000000 -0.004806518600000   \n",
       "11:05:09:02 -0.057891846000000  0.024932861000000 -0.003738403300000   \n",
       "11:05:09:03 -0.036590576000000  0.002563476600000  0.007980347000000   \n",
       "11:05:09:04 -0.012084961000000 -0.029388428000000  0.015441894500000   \n",
       "...                        ...                ...                ...   \n",
       "19:09:27:16 -0.118621826000000 -0.505569460000000  0.092132570000000   \n",
       "19:09:27:17 -0.301849370000000 -0.332992550000000  0.140075680000000   \n",
       "19:09:27:18 -0.590530400000000  0.304031370000000  0.046325684000000   \n",
       "19:09:27:19 -0.686401370000000  0.651306150000000 -0.067657470000000   \n",
       "19:09:27:20 -0.760971070000000  0.844131470000000 -0.144348140000000   \n",
       "\n",
       "                            mx                  my                   mz  \\\n",
       "11:05:09:00 51.450348499999997 -49.124908499999997 -263.400264999999990   \n",
       "11:05:09:01 52.200316999999998 -48.599243000000001 -263.549800000000005   \n",
       "11:05:09:02 52.349853500000002 -49.124908499999997 -263.175200000000018   \n",
       "11:05:09:03 52.499389999999998 -49.650573999999999 -262.800599999999974   \n",
       "11:05:09:04 50.999450000000003 -50.025176999999999 -262.274935000000028   \n",
       "...                        ...                 ...                  ...   \n",
       "19:09:27:16 22.650145999999999 -15.150451500000001 -262.875364999999988   \n",
       "19:09:27:17 23.100280000000001 -16.200256000000000 -262.800599999999974   \n",
       "19:09:27:18 23.100280000000001 -13.949585000000001 -261.749270000000024   \n",
       "19:09:27:19 24.050394333333333 -13.749694999999999 -262.549340000000029   \n",
       "19:09:27:20 25.000508666666668 -13.549804999999999 -263.349409999999978   \n",
       "\n",
       "                       a_total           g_total             m_total  \\\n",
       "11:05:09:00  9.663986782827630 0.066992967089706 272.838632163932175   \n",
       "11:05:09:01  9.714966376461094 0.070180829096450 273.029772360293236   \n",
       "11:05:09:02  9.898799919043093 0.063143400685792 272.791737487752755   \n",
       "11:05:09:03 10.047408939992856 0.037538348425722 272.553702615212273   \n",
       "11:05:09:04 10.119010603659476 0.035329563943415 271.834052942028165   \n",
       "...                        ...               ...                 ...   \n",
       "19:09:27:16  7.278610814164050 0.527408785424618 264.286459212824525   \n",
       "19:09:27:17  8.459662001373697 0.470763503951147 264.310852200404213   \n",
       "19:09:27:18  9.416695455676912 0.665813259304968 263.136645496752351   \n",
       "19:09:27:19  9.984126253738191 0.948643281224560 264.009983987171552   \n",
       "19:09:27:20  9.998811185866709 1.145631395145387 264.883322477590696   \n",
       "\n",
       "                           lat               long  \n",
       "11:05:09:00 44.434918000000003 26.047605999999998  \n",
       "11:05:09:01 44.434918000000003 26.047606078717038  \n",
       "11:05:09:02 44.434918000000003 26.047606157434078  \n",
       "11:05:09:03 44.434917999999989 26.047606236151118  \n",
       "11:05:09:04 44.434917999999989 26.047606314868165  \n",
       "...                        ...                ...  \n",
       "19:09:27:16 44.434937499964583 26.047601919741037  \n",
       "19:09:27:17 44.434937499964576 26.047601814784940  \n",
       "19:09:27:18 44.434937499964576 26.047601709828850  \n",
       "19:09:27:19 44.434937499964569 26.047601604872760  \n",
       "19:09:27:20 44.434937499964562 26.047601499916670  \n",
       "\n",
       "[72318 rows x 14 columns]"
      ]
     },
     "execution_count": 41,
     "metadata": {},
     "output_type": "execute_result"
    }
   ],
   "source": [
    "df_full_sensor_and_loc = pd.read_csv(full_sensor_and_loc_file, index_col=0)\n",
    "df_full_sensor_and_loc"
   ]
  },
  {
   "cell_type": "markdown",
   "id": "ebee0147",
   "metadata": {},
   "source": [
    "## 1.1. Full sensor data, no downsampling (so each 10ms)"
   ]
  },
  {
   "cell_type": "code",
   "execution_count": 83,
   "id": "1f415a75",
   "metadata": {},
   "outputs": [
    {
     "data": {
      "text/html": [
       "<div>\n",
       "<style scoped>\n",
       "    .dataframe tbody tr th:only-of-type {\n",
       "        vertical-align: middle;\n",
       "    }\n",
       "\n",
       "    .dataframe tbody tr th {\n",
       "        vertical-align: top;\n",
       "    }\n",
       "\n",
       "    .dataframe thead th {\n",
       "        text-align: right;\n",
       "    }\n",
       "</style>\n",
       "<table border=\"1\" class=\"dataframe\">\n",
       "  <thead>\n",
       "    <tr style=\"text-align: right;\">\n",
       "      <th></th>\n",
       "      <th>ax</th>\n",
       "      <th>ay</th>\n",
       "      <th>az</th>\n",
       "      <th>gx</th>\n",
       "      <th>gy</th>\n",
       "      <th>gz</th>\n",
       "      <th>mx</th>\n",
       "      <th>my</th>\n",
       "      <th>mz</th>\n",
       "      <th>a_total</th>\n",
       "      <th>g_total</th>\n",
       "      <th>m_total</th>\n",
       "      <th>lat</th>\n",
       "      <th>long</th>\n",
       "    </tr>\n",
       "  </thead>\n",
       "  <tbody>\n",
       "    <tr>\n",
       "      <th>11:05:09:00</th>\n",
       "      <td>0.917251600000000</td>\n",
       "      <td>0.223266600000000</td>\n",
       "      <td>9.617767000000001</td>\n",
       "      <td>-0.033401490000000</td>\n",
       "      <td>0.057952880000000</td>\n",
       "      <td>0.003723144500000</td>\n",
       "      <td>51.450348499999997</td>\n",
       "      <td>-49.124908499999997</td>\n",
       "      <td>-263.400264999999990</td>\n",
       "      <td>9.663986782827630</td>\n",
       "      <td>0.066992967089706</td>\n",
       "      <td>272.838632163932175</td>\n",
       "      <td>44.434918000000003</td>\n",
       "      <td>26.047605999999998</td>\n",
       "    </tr>\n",
       "    <tr>\n",
       "      <th>11:05:09:01</th>\n",
       "      <td>0.799926760000000</td>\n",
       "      <td>0.194534300000000</td>\n",
       "      <td>9.680023000000000</td>\n",
       "      <td>-0.052566530000000</td>\n",
       "      <td>0.046249390000000</td>\n",
       "      <td>-0.004806518600000</td>\n",
       "      <td>52.200316999999998</td>\n",
       "      <td>-48.599243000000001</td>\n",
       "      <td>-263.549800000000005</td>\n",
       "      <td>9.714966376461094</td>\n",
       "      <td>0.070180829096450</td>\n",
       "      <td>273.029772360293236</td>\n",
       "      <td>44.434918000000003</td>\n",
       "      <td>26.047606078717038</td>\n",
       "    </tr>\n",
       "    <tr>\n",
       "      <th>11:05:09:02</th>\n",
       "      <td>0.658676150000000</td>\n",
       "      <td>0.101165770000000</td>\n",
       "      <td>9.876343000000000</td>\n",
       "      <td>-0.057891846000000</td>\n",
       "      <td>0.024932861000000</td>\n",
       "      <td>-0.003738403300000</td>\n",
       "      <td>52.349853500000002</td>\n",
       "      <td>-49.124908499999997</td>\n",
       "      <td>-263.175200000000018</td>\n",
       "      <td>9.898799919043093</td>\n",
       "      <td>0.063143400685792</td>\n",
       "      <td>272.791737487752755</td>\n",
       "      <td>44.434918000000003</td>\n",
       "      <td>26.047606157434078</td>\n",
       "    </tr>\n",
       "    <tr>\n",
       "      <th>11:05:09:03</th>\n",
       "      <td>0.594024660000000</td>\n",
       "      <td>0.072433470000000</td>\n",
       "      <td>10.029572000000000</td>\n",
       "      <td>-0.036590576000000</td>\n",
       "      <td>0.002563476600000</td>\n",
       "      <td>0.007980347000000</td>\n",
       "      <td>52.499389999999998</td>\n",
       "      <td>-49.650573999999999</td>\n",
       "      <td>-262.800599999999974</td>\n",
       "      <td>10.047408939992856</td>\n",
       "      <td>0.037538348425722</td>\n",
       "      <td>272.553702615212273</td>\n",
       "      <td>44.434917999999989</td>\n",
       "      <td>26.047606236151118</td>\n",
       "    </tr>\n",
       "    <tr>\n",
       "      <th>11:05:09:04</th>\n",
       "      <td>0.634735100000000</td>\n",
       "      <td>0.041305542000000</td>\n",
       "      <td>10.098998999999999</td>\n",
       "      <td>-0.012084961000000</td>\n",
       "      <td>-0.029388428000000</td>\n",
       "      <td>0.015441894500000</td>\n",
       "      <td>50.999450000000003</td>\n",
       "      <td>-50.025176999999999</td>\n",
       "      <td>-262.274935000000028</td>\n",
       "      <td>10.119010603659476</td>\n",
       "      <td>0.035329563943415</td>\n",
       "      <td>271.834052942028165</td>\n",
       "      <td>44.434917999999989</td>\n",
       "      <td>26.047606314868165</td>\n",
       "    </tr>\n",
       "  </tbody>\n",
       "</table>\n",
       "</div>"
      ],
      "text/plain": [
       "                           ax                ay                 az  \\\n",
       "11:05:09:00 0.917251600000000 0.223266600000000  9.617767000000001   \n",
       "11:05:09:01 0.799926760000000 0.194534300000000  9.680023000000000   \n",
       "11:05:09:02 0.658676150000000 0.101165770000000  9.876343000000000   \n",
       "11:05:09:03 0.594024660000000 0.072433470000000 10.029572000000000   \n",
       "11:05:09:04 0.634735100000000 0.041305542000000 10.098998999999999   \n",
       "\n",
       "                            gx                 gy                 gz  \\\n",
       "11:05:09:00 -0.033401490000000  0.057952880000000  0.003723144500000   \n",
       "11:05:09:01 -0.052566530000000  0.046249390000000 -0.004806518600000   \n",
       "11:05:09:02 -0.057891846000000  0.024932861000000 -0.003738403300000   \n",
       "11:05:09:03 -0.036590576000000  0.002563476600000  0.007980347000000   \n",
       "11:05:09:04 -0.012084961000000 -0.029388428000000  0.015441894500000   \n",
       "\n",
       "                            mx                  my                   mz  \\\n",
       "11:05:09:00 51.450348499999997 -49.124908499999997 -263.400264999999990   \n",
       "11:05:09:01 52.200316999999998 -48.599243000000001 -263.549800000000005   \n",
       "11:05:09:02 52.349853500000002 -49.124908499999997 -263.175200000000018   \n",
       "11:05:09:03 52.499389999999998 -49.650573999999999 -262.800599999999974   \n",
       "11:05:09:04 50.999450000000003 -50.025176999999999 -262.274935000000028   \n",
       "\n",
       "                       a_total           g_total             m_total  \\\n",
       "11:05:09:00  9.663986782827630 0.066992967089706 272.838632163932175   \n",
       "11:05:09:01  9.714966376461094 0.070180829096450 273.029772360293236   \n",
       "11:05:09:02  9.898799919043093 0.063143400685792 272.791737487752755   \n",
       "11:05:09:03 10.047408939992856 0.037538348425722 272.553702615212273   \n",
       "11:05:09:04 10.119010603659476 0.035329563943415 271.834052942028165   \n",
       "\n",
       "                           lat               long  \n",
       "11:05:09:00 44.434918000000003 26.047605999999998  \n",
       "11:05:09:01 44.434918000000003 26.047606078717038  \n",
       "11:05:09:02 44.434918000000003 26.047606157434078  \n",
       "11:05:09:03 44.434917999999989 26.047606236151118  \n",
       "11:05:09:04 44.434917999999989 26.047606314868165  "
      ]
     },
     "execution_count": 83,
     "metadata": {},
     "output_type": "execute_result"
    }
   ],
   "source": [
    "full_data_no_downsample = df_sensor_and_loc.copy(deep=True)\n",
    "# full_data_no_downsample.reset_index(inplace=True)\n",
    "# full_data_no_downsample.drop(['index'], axis=1, inplace=True)\n",
    "full_data_no_downsample.head()"
   ]
  },
  {
   "cell_type": "code",
   "execution_count": 84,
   "id": "81a80d8c",
   "metadata": {},
   "outputs": [],
   "source": [
    "# fig = px.scatter_geo(full_data_no_downsample,lat=full_data_no_downsample['lat'],lon=full_data_no_downsample['long'], hover_name=full_data_no_downsample.index)\n",
    "# fig.update_layout(title = 'World map', title_x=0.5, geo = dict(projection_scale=800000, center=dict(lat=full_data_no_downsample['lat'][0], lon=full_data_no_downsample['long'][0])))\n",
    "# fig.show()"
   ]
  },
  {
   "cell_type": "code",
   "execution_count": 85,
   "id": "ded82223",
   "metadata": {},
   "outputs": [
    {
     "data": {
      "text/plain": [
       "11:05:09:00    9.663986782827630\n",
       "11:05:09:01    9.714966376461094\n",
       "11:05:09:02    9.898799919043093\n",
       "11:05:09:03   10.047408939992856\n",
       "11:05:09:04   10.119010603659476\n",
       "                     ...        \n",
       "11:05:18:95    9.014608908572036\n",
       "11:05:18:96    8.773951386186262\n",
       "11:05:18:97    8.593369936547457\n",
       "11:05:18:98    8.545187432425262\n",
       "11:05:18:99    8.519133994949202\n",
       "Name: a_total, Length: 1000, dtype: float64"
      ]
     },
     "execution_count": 85,
     "metadata": {},
     "output_type": "execute_result"
    }
   ],
   "source": [
    "full_data_no_downsample['a_total'][:1000]"
   ]
  },
  {
   "cell_type": "code",
   "execution_count": 101,
   "id": "fe8cd347",
   "metadata": {},
   "outputs": [
    {
     "data": {
      "text/plain": [
       "[<matplotlib.lines.Line2D at 0x28c5767a370>]"
      ]
     },
     "execution_count": 101,
     "metadata": {},
     "output_type": "execute_result"
    },
    {
     "data": {
      "image/png": "[encoded data removed]",
      "text/plain": [
       "<Figure size 432x288 with 1 Axes>"
      ]
     },
     "metadata": {
      "needs_background": "light"
     },
     "output_type": "display_data"
    }
   ],
   "source": [
    "# [:1000] = first 1000 values, so 10 sec (10ms intervals * 1000 values)\n",
    "plt.plot(full_data_no_downsample['a_total'][:1000])"
   ]
  },
  {
   "cell_type": "code",
   "execution_count": 102,
   "id": "e94fc5ea",
   "metadata": {},
   "outputs": [
    {
     "data": {
      "text/plain": [
       "[<matplotlib.lines.Line2D at 0x28c59184df0>]"
      ]
     },
     "execution_count": 102,
     "metadata": {},
     "output_type": "execute_result"
    },
    {
     "data": {
      "image/png": "[encoded data removed]",
      "text/plain": [
       "<Figure size 432x288 with 1 Axes>"
      ]
     },
     "metadata": {
      "needs_background": "light"
     },
     "output_type": "display_data"
    }
   ],
   "source": [
    "plt.plot(full_data_no_downsample['m_total'][:1000])"
   ]
  },
  {
   "cell_type": "code",
   "execution_count": 93,
   "id": "1be6bdb9",
   "metadata": {},
   "outputs": [
    {
     "data": {
      "text/plain": [
       "11:05:09:00    9.663986782827630\n",
       "11:05:09:01    9.714966376461094\n",
       "11:05:09:02    9.898799919043093\n",
       "11:05:09:03   10.047408939992856\n",
       "11:05:09:04   10.119010603659476\n",
       "                     ...        \n",
       "11:05:09:95    9.483281208402502\n",
       "11:05:09:96    9.390579060259046\n",
       "11:05:09:97    9.327960061715832\n",
       "11:05:09:98    9.384314969691712\n",
       "11:05:09:99    9.440669877667588\n",
       "Name: a_total, Length: 100, dtype: float64"
      ]
     },
     "execution_count": 93,
     "metadata": {},
     "output_type": "execute_result"
    }
   ],
   "source": [
    "full_data_no_downsample['a_total'][:100]"
   ]
  },
  {
   "cell_type": "code",
   "execution_count": 97,
   "id": "e66cc5d3",
   "metadata": {},
   "outputs": [
    {
     "data": {
      "text/plain": [
       "[<matplotlib.lines.Line2D at 0x28c51c27e80>]"
      ]
     },
     "execution_count": 97,
     "metadata": {},
     "output_type": "execute_result"
    },
    {
     "data": {
      "image/png": "[encoded data removed]",
      "text/plain": [
       "<Figure size 432x288 with 1 Axes>"
      ]
     },
     "metadata": {
      "needs_background": "light"
     },
     "output_type": "display_data"
    }
   ],
   "source": [
    "# [:100] = first 100 values, so 1 sec (10ms intervals * 100 values)\n",
    "plt.plot(full_data_no_downsample['a_total'][900:1000])"
   ]
  },
  {
   "cell_type": "markdown",
   "id": "03841f92",
   "metadata": {},
   "source": [
    "## 1.2. Full sensor data, downsampled by 10 (so each 100ms)"
   ]
  },
  {
   "cell_type": "code",
   "execution_count": 88,
   "id": "03af7f06",
   "metadata": {
    "scrolled": true
   },
   "outputs": [
    {
     "data": {
      "text/html": [
       "<div>\n",
       "<style scoped>\n",
       "    .dataframe tbody tr th:only-of-type {\n",
       "        vertical-align: middle;\n",
       "    }\n",
       "\n",
       "    .dataframe tbody tr th {\n",
       "        vertical-align: top;\n",
       "    }\n",
       "\n",
       "    .dataframe thead th {\n",
       "        text-align: right;\n",
       "    }\n",
       "</style>\n",
       "<table border=\"1\" class=\"dataframe\">\n",
       "  <thead>\n",
       "    <tr style=\"text-align: right;\">\n",
       "      <th></th>\n",
       "      <th>ax</th>\n",
       "      <th>ay</th>\n",
       "      <th>az</th>\n",
       "      <th>gx</th>\n",
       "      <th>gy</th>\n",
       "      <th>gz</th>\n",
       "      <th>mx</th>\n",
       "      <th>my</th>\n",
       "      <th>mz</th>\n",
       "      <th>a_total</th>\n",
       "      <th>g_total</th>\n",
       "      <th>m_total</th>\n",
       "      <th>lat</th>\n",
       "      <th>long</th>\n",
       "    </tr>\n",
       "  </thead>\n",
       "  <tbody>\n",
       "    <tr>\n",
       "      <th>11:05:09:00</th>\n",
       "      <td>0.917251600000000</td>\n",
       "      <td>0.223266600000000</td>\n",
       "      <td>9.617767000000001</td>\n",
       "      <td>-0.033401490000000</td>\n",
       "      <td>0.057952880000000</td>\n",
       "      <td>0.003723144500000</td>\n",
       "      <td>51.450348499999997</td>\n",
       "      <td>-49.124908499999997</td>\n",
       "      <td>-263.400264999999990</td>\n",
       "      <td>9.663986782827630</td>\n",
       "      <td>0.066992967089706</td>\n",
       "      <td>272.838632163932175</td>\n",
       "      <td>44.434918000000003</td>\n",
       "      <td>26.047605999999998</td>\n",
       "    </tr>\n",
       "    <tr>\n",
       "      <th>11:05:09:10</th>\n",
       "      <td>0.826263400000000</td>\n",
       "      <td>0.127502440000000</td>\n",
       "      <td>9.809296000000000</td>\n",
       "      <td>-0.027008057000000</td>\n",
       "      <td>0.016418457000000</td>\n",
       "      <td>0.011169434000000</td>\n",
       "      <td>51.899719000000005</td>\n",
       "      <td>-49.724578500000000</td>\n",
       "      <td>-263.099670000000003</td>\n",
       "      <td>9.844859374008424</td>\n",
       "      <td>0.033522486916344</td>\n",
       "      <td>272.741548127234410</td>\n",
       "      <td>44.434917999999961</td>\n",
       "      <td>26.047606787170416</td>\n",
       "    </tr>\n",
       "    <tr>\n",
       "      <th>11:05:09:20</th>\n",
       "      <td>0.905273440000000</td>\n",
       "      <td>0.247207640000000</td>\n",
       "      <td>10.063095000000001</td>\n",
       "      <td>-0.022750854000000</td>\n",
       "      <td>-0.048568726000000</td>\n",
       "      <td>-0.026107788000000</td>\n",
       "      <td>51.899719500000003</td>\n",
       "      <td>-49.725341999999998</td>\n",
       "      <td>-261.675259999999980</td>\n",
       "      <td>10.106755789939164</td>\n",
       "      <td>0.059650139121760</td>\n",
       "      <td>271.367338695894091</td>\n",
       "      <td>44.434917999999918</td>\n",
       "      <td>26.047607574340830</td>\n",
       "    </tr>\n",
       "    <tr>\n",
       "      <th>11:05:09:30</th>\n",
       "      <td>0.562912000000000</td>\n",
       "      <td>0.101165770000000</td>\n",
       "      <td>9.850006000000000</td>\n",
       "      <td>0.012405395500000</td>\n",
       "      <td>-0.046432495000000</td>\n",
       "      <td>-0.019714355000000</td>\n",
       "      <td>51.849873666666667</td>\n",
       "      <td>-50.150553333333335</td>\n",
       "      <td>-262.650553333333335</td>\n",
       "      <td>9.866596304339186</td>\n",
       "      <td>0.051947340860745</td>\n",
       "      <td>272.376289894453294</td>\n",
       "      <td>44.434917999999882</td>\n",
       "      <td>26.047608361511248</td>\n",
       "    </tr>\n",
       "    <tr>\n",
       "      <th>11:05:09:40</th>\n",
       "      <td>0.713745100000000</td>\n",
       "      <td>0.151443480000000</td>\n",
       "      <td>9.658462999999999</td>\n",
       "      <td>-0.009963989000000</td>\n",
       "      <td>-0.092239380000000</td>\n",
       "      <td>0.001586914100000</td>\n",
       "      <td>51.300049000000001</td>\n",
       "      <td>-48.974608500000002</td>\n",
       "      <td>-262.574770000000001</td>\n",
       "      <td>9.685983415109565</td>\n",
       "      <td>0.092789560813366</td>\n",
       "      <td>271.985441627272223</td>\n",
       "      <td>44.434917999999833</td>\n",
       "      <td>26.047609148681666</td>\n",
       "    </tr>\n",
       "  </tbody>\n",
       "</table>\n",
       "</div>"
      ],
      "text/plain": [
       "                           ax                ay                 az  \\\n",
       "11:05:09:00 0.917251600000000 0.223266600000000  9.617767000000001   \n",
       "11:05:09:10 0.826263400000000 0.127502440000000  9.809296000000000   \n",
       "11:05:09:20 0.905273440000000 0.247207640000000 10.063095000000001   \n",
       "11:05:09:30 0.562912000000000 0.101165770000000  9.850006000000000   \n",
       "11:05:09:40 0.713745100000000 0.151443480000000  9.658462999999999   \n",
       "\n",
       "                            gx                 gy                 gz  \\\n",
       "11:05:09:00 -0.033401490000000  0.057952880000000  0.003723144500000   \n",
       "11:05:09:10 -0.027008057000000  0.016418457000000  0.011169434000000   \n",
       "11:05:09:20 -0.022750854000000 -0.048568726000000 -0.026107788000000   \n",
       "11:05:09:30  0.012405395500000 -0.046432495000000 -0.019714355000000   \n",
       "11:05:09:40 -0.009963989000000 -0.092239380000000  0.001586914100000   \n",
       "\n",
       "                            mx                  my                   mz  \\\n",
       "11:05:09:00 51.450348499999997 -49.124908499999997 -263.400264999999990   \n",
       "11:05:09:10 51.899719000000005 -49.724578500000000 -263.099670000000003   \n",
       "11:05:09:20 51.899719500000003 -49.725341999999998 -261.675259999999980   \n",
       "11:05:09:30 51.849873666666667 -50.150553333333335 -262.650553333333335   \n",
       "11:05:09:40 51.300049000000001 -48.974608500000002 -262.574770000000001   \n",
       "\n",
       "                       a_total           g_total             m_total  \\\n",
       "11:05:09:00  9.663986782827630 0.066992967089706 272.838632163932175   \n",
       "11:05:09:10  9.844859374008424 0.033522486916344 272.741548127234410   \n",
       "11:05:09:20 10.106755789939164 0.059650139121760 271.367338695894091   \n",
       "11:05:09:30  9.866596304339186 0.051947340860745 272.376289894453294   \n",
       "11:05:09:40  9.685983415109565 0.092789560813366 271.985441627272223   \n",
       "\n",
       "                           lat               long  \n",
       "11:05:09:00 44.434918000000003 26.047605999999998  \n",
       "11:05:09:10 44.434917999999961 26.047606787170416  \n",
       "11:05:09:20 44.434917999999918 26.047607574340830  \n",
       "11:05:09:30 44.434917999999882 26.047608361511248  \n",
       "11:05:09:40 44.434917999999833 26.047609148681666  "
      ]
     },
     "execution_count": 88,
     "metadata": {},
     "output_type": "execute_result"
    }
   ],
   "source": [
    "full_data_downsample_10 = df_sensor_and_loc.copy(deep=True)[::10]\n",
    "full_data_downsample_10.head()"
   ]
  },
  {
   "cell_type": "code",
   "execution_count": 89,
   "id": "5338aacd",
   "metadata": {},
   "outputs": [],
   "source": [
    "# fig = px.scatter_geo(full_data_downsample_10,lat=full_data_downsample_10['lat'],lon=full_data_downsample_10['long'], hover_name=full_data_downsample_10.index)\n",
    "# fig.update_layout(title = 'World map', title_x=0.5, geo = dict(projection_scale=800000, center=dict(lat=full_data_downsample_10['lat'][0], lon=full_data_downsample_10['long'][0])))\n",
    "# fig.show()"
   ]
  },
  {
   "cell_type": "markdown",
   "id": "41854f9c",
   "metadata": {},
   "source": [
    "### Plot 10 sec"
   ]
  },
  {
   "cell_type": "code",
   "execution_count": 90,
   "id": "6cf63bfc",
   "metadata": {
    "scrolled": true
   },
   "outputs": [
    {
     "data": {
      "text/plain": [
       "11:05:09:00    9.663986782827630\n",
       "11:05:09:10    9.844859374008424\n",
       "11:05:09:20   10.106755789939164\n",
       "11:05:09:30    9.866596304339186\n",
       "11:05:09:40    9.685983415109565\n",
       "                     ...        \n",
       "11:05:18:50   11.049043723777812\n",
       "11:05:18:60   10.324244091724973\n",
       "11:05:18:70   10.105134920776774\n",
       "11:05:18:80   10.023585475657224\n",
       "11:05:18:90   10.912412224992751\n",
       "Name: a_total, Length: 100, dtype: float64"
      ]
     },
     "execution_count": 90,
     "metadata": {},
     "output_type": "execute_result"
    }
   ],
   "source": [
    "full_data_downsample_10['a_total'][:100]"
   ]
  },
  {
   "cell_type": "code",
   "execution_count": 91,
   "id": "d4e23ef1",
   "metadata": {},
   "outputs": [
    {
     "data": {
      "text/plain": [
       "[<matplotlib.lines.Line2D at 0x28c50a4db50>]"
      ]
     },
     "execution_count": 91,
     "metadata": {},
     "output_type": "execute_result"
    },
    {
     "data": {
      "image/png": "[encoded data removed]",
      "text/plain": [
       "<Figure size 432x288 with 1 Axes>"
      ]
     },
     "metadata": {
      "needs_background": "light"
     },
     "output_type": "display_data"
    }
   ],
   "source": [
    "# [:100] = first 100 values, so 10 sec (100ms intervals * 100 values)\n",
    "plt.plot(full_data_downsample_10['a_total'][:100])"
   ]
  },
  {
   "cell_type": "code",
   "execution_count": 103,
   "id": "6fe81488",
   "metadata": {},
   "outputs": [
    {
     "data": {
      "text/plain": [
       "[<matplotlib.lines.Line2D at 0x28c5996ffd0>]"
      ]
     },
     "execution_count": 103,
     "metadata": {},
     "output_type": "execute_result"
    },
    {
     "data": {
      "image/png": "[encoded data removed]",
      "text/plain": [
       "<Figure size 432x288 with 1 Axes>"
      ]
     },
     "metadata": {
      "needs_background": "light"
     },
     "output_type": "display_data"
    }
   ],
   "source": [
    "plt.plot(full_data_downsample_10['m_total'][:100])"
   ]
  },
  {
   "cell_type": "markdown",
   "id": "ac531012",
   "metadata": {},
   "source": [
    "### Plot for 1 sec"
   ]
  },
  {
   "cell_type": "code",
   "execution_count": 98,
   "id": "e49b9175",
   "metadata": {},
   "outputs": [
    {
     "data": {
      "text/plain": [
       "11:05:18:00   11.439533842186588\n",
       "11:05:18:10   10.557910167612071\n",
       "11:05:18:20   12.002812507011091\n",
       "11:05:18:30    8.414656088386627\n",
       "11:05:18:40    8.199172290844604\n",
       "11:05:18:50   11.049043723777812\n",
       "11:05:18:60   10.324244091724973\n",
       "11:05:18:70   10.105134920776774\n",
       "11:05:18:80   10.023585475657224\n",
       "11:05:18:90   10.912412224992751\n",
       "Name: a_total, dtype: float64"
      ]
     },
     "execution_count": 98,
     "metadata": {},
     "output_type": "execute_result"
    }
   ],
   "source": [
    "full_data_downsample_10['a_total'][:10]"
   ]
  },
  {
   "cell_type": "code",
   "execution_count": 99,
   "id": "de4fb84a",
   "metadata": {},
   "outputs": [
    {
     "data": {
      "text/plain": [
       "[<matplotlib.lines.Line2D at 0x28c51da2970>]"
      ]
     },
     "execution_count": 99,
     "metadata": {},
     "output_type": "execute_result"
    },
    {
     "data": {
      "image/png": "[encoded data removed]",
      "text/plain": [
       "<Figure size 432x288 with 1 Axes>"
      ]
     },
     "metadata": {
      "needs_background": "light"
     },
     "output_type": "display_data"
    }
   ],
   "source": [
    "# [:10] = first 10 values, so 1 sec (100ms intervals * 10 values)\n",
    "plt.plot(full_data_downsample_10['a_total'][90:100])"
   ]
  },
  {
   "cell_type": "markdown",
   "id": "4e2192d3",
   "metadata": {},
   "source": [
    "## 1.3. Full sensor data, downsampled by 50 (so each 500ms)"
   ]
  },
  {
   "cell_type": "code",
   "execution_count": 74,
   "id": "ef0138f8",
   "metadata": {
    "scrolled": true
   },
   "outputs": [
    {
     "data": {
      "text/html": [
       "<div>\n",
       "<style scoped>\n",
       "    .dataframe tbody tr th:only-of-type {\n",
       "        vertical-align: middle;\n",
       "    }\n",
       "\n",
       "    .dataframe tbody tr th {\n",
       "        vertical-align: top;\n",
       "    }\n",
       "\n",
       "    .dataframe thead th {\n",
       "        text-align: right;\n",
       "    }\n",
       "</style>\n",
       "<table border=\"1\" class=\"dataframe\">\n",
       "  <thead>\n",
       "    <tr style=\"text-align: right;\">\n",
       "      <th></th>\n",
       "      <th>ax</th>\n",
       "      <th>ay</th>\n",
       "      <th>az</th>\n",
       "      <th>gx</th>\n",
       "      <th>gy</th>\n",
       "      <th>gz</th>\n",
       "      <th>mx</th>\n",
       "      <th>my</th>\n",
       "      <th>mz</th>\n",
       "      <th>a_total</th>\n",
       "      <th>g_total</th>\n",
       "      <th>m_total</th>\n",
       "      <th>lat</th>\n",
       "      <th>long</th>\n",
       "    </tr>\n",
       "  </thead>\n",
       "  <tbody>\n",
       "    <tr>\n",
       "      <th>11:05:09:00</th>\n",
       "      <td>0.917251600000000</td>\n",
       "      <td>0.223266600000000</td>\n",
       "      <td>9.617767000000001</td>\n",
       "      <td>-0.033401490000000</td>\n",
       "      <td>0.057952880000000</td>\n",
       "      <td>0.003723144500000</td>\n",
       "      <td>51.450348499999997</td>\n",
       "      <td>-49.124908499999997</td>\n",
       "      <td>-263.400264999999990</td>\n",
       "      <td>9.663986782827630</td>\n",
       "      <td>0.066992967089706</td>\n",
       "      <td>272.838632163932175</td>\n",
       "      <td>44.434918000000003</td>\n",
       "      <td>26.047605999999998</td>\n",
       "    </tr>\n",
       "    <tr>\n",
       "      <th>11:05:09:50</th>\n",
       "      <td>0.632339500000000</td>\n",
       "      <td>0.077224730000000</td>\n",
       "      <td>9.823669000000001</td>\n",
       "      <td>-0.016357422000000</td>\n",
       "      <td>-0.090118410000000</td>\n",
       "      <td>-0.002670288000000</td>\n",
       "      <td>51.824950999999999</td>\n",
       "      <td>-49.800109999999997</td>\n",
       "      <td>-262.500000000000000</td>\n",
       "      <td>9.844302388881848</td>\n",
       "      <td>0.091629817818312</td>\n",
       "      <td>272.162018343783700</td>\n",
       "      <td>44.434917999999783</td>\n",
       "      <td>26.047609935852080</td>\n",
       "    </tr>\n",
       "    <tr>\n",
       "      <th>11:05:10:00</th>\n",
       "      <td>0.718536400000000</td>\n",
       "      <td>0.630279540000000</td>\n",
       "      <td>9.529175000000000</td>\n",
       "      <td>-0.252838130000000</td>\n",
       "      <td>-0.019805908000000</td>\n",
       "      <td>-0.194427490000000</td>\n",
       "      <td>53.849792000000001</td>\n",
       "      <td>-47.999572999999998</td>\n",
       "      <td>-263.400269999999978</td>\n",
       "      <td>9.576989247007257</td>\n",
       "      <td>0.319564458038283</td>\n",
       "      <td>273.099727833439033</td>\n",
       "      <td>44.434917999999570</td>\n",
       "      <td>26.047613871704161</td>\n",
       "    </tr>\n",
       "    <tr>\n",
       "      <th>11:05:10:50</th>\n",
       "      <td>0.766418460000000</td>\n",
       "      <td>0.364532470000000</td>\n",
       "      <td>12.016754000000001</td>\n",
       "      <td>0.914688100000000</td>\n",
       "      <td>-0.188110350000000</td>\n",
       "      <td>0.071899414000000</td>\n",
       "      <td>57.150269999999999</td>\n",
       "      <td>-47.850037000000000</td>\n",
       "      <td>-259.500119999999981</td>\n",
       "      <td>12.046686593168641</td>\n",
       "      <td>0.936594549307370</td>\n",
       "      <td>269.992762277044505</td>\n",
       "      <td>44.434917999999350</td>\n",
       "      <td>26.047617807556239</td>\n",
       "    </tr>\n",
       "    <tr>\n",
       "      <th>11:05:11:00</th>\n",
       "      <td>1.475097700000000</td>\n",
       "      <td>0.795486450000000</td>\n",
       "      <td>10.228287000000000</td>\n",
       "      <td>-0.375350950000000</td>\n",
       "      <td>-0.174270630000000</td>\n",
       "      <td>-0.034637450000000</td>\n",
       "      <td>56.849670000000003</td>\n",
       "      <td>-47.700499999999998</td>\n",
       "      <td>-256.050099999999986</td>\n",
       "      <td>10.364678811764882</td>\n",
       "      <td>0.415281038682242</td>\n",
       "      <td>266.587464801646092</td>\n",
       "      <td>44.434917999999030</td>\n",
       "      <td>26.047623632617320</td>\n",
       "    </tr>\n",
       "  </tbody>\n",
       "</table>\n",
       "</div>"
      ],
      "text/plain": [
       "                           ax                ay                 az  \\\n",
       "11:05:09:00 0.917251600000000 0.223266600000000  9.617767000000001   \n",
       "11:05:09:50 0.632339500000000 0.077224730000000  9.823669000000001   \n",
       "11:05:10:00 0.718536400000000 0.630279540000000  9.529175000000000   \n",
       "11:05:10:50 0.766418460000000 0.364532470000000 12.016754000000001   \n",
       "11:05:11:00 1.475097700000000 0.795486450000000 10.228287000000000   \n",
       "\n",
       "                            gx                 gy                 gz  \\\n",
       "11:05:09:00 -0.033401490000000  0.057952880000000  0.003723144500000   \n",
       "11:05:09:50 -0.016357422000000 -0.090118410000000 -0.002670288000000   \n",
       "11:05:10:00 -0.252838130000000 -0.019805908000000 -0.194427490000000   \n",
       "11:05:10:50  0.914688100000000 -0.188110350000000  0.071899414000000   \n",
       "11:05:11:00 -0.375350950000000 -0.174270630000000 -0.034637450000000   \n",
       "\n",
       "                            mx                  my                   mz  \\\n",
       "11:05:09:00 51.450348499999997 -49.124908499999997 -263.400264999999990   \n",
       "11:05:09:50 51.824950999999999 -49.800109999999997 -262.500000000000000   \n",
       "11:05:10:00 53.849792000000001 -47.999572999999998 -263.400269999999978   \n",
       "11:05:10:50 57.150269999999999 -47.850037000000000 -259.500119999999981   \n",
       "11:05:11:00 56.849670000000003 -47.700499999999998 -256.050099999999986   \n",
       "\n",
       "                       a_total           g_total             m_total  \\\n",
       "11:05:09:00  9.663986782827630 0.066992967089706 272.838632163932175   \n",
       "11:05:09:50  9.844302388881848 0.091629817818312 272.162018343783700   \n",
       "11:05:10:00  9.576989247007257 0.319564458038283 273.099727833439033   \n",
       "11:05:10:50 12.046686593168641 0.936594549307370 269.992762277044505   \n",
       "11:05:11:00 10.364678811764882 0.415281038682242 266.587464801646092   \n",
       "\n",
       "                           lat               long  \n",
       "11:05:09:00 44.434918000000003 26.047605999999998  \n",
       "11:05:09:50 44.434917999999783 26.047609935852080  \n",
       "11:05:10:00 44.434917999999570 26.047613871704161  \n",
       "11:05:10:50 44.434917999999350 26.047617807556239  \n",
       "11:05:11:00 44.434917999999030 26.047623632617320  "
      ]
     },
     "execution_count": 74,
     "metadata": {},
     "output_type": "execute_result"
    }
   ],
   "source": [
    "full_data_downsample_50 = df_sensor_and_loc.copy(deep=True)[::50]\n",
    "full_data_downsample_50.head()"
   ]
  },
  {
   "cell_type": "code",
   "execution_count": 75,
   "id": "93fff916",
   "metadata": {},
   "outputs": [],
   "source": [
    "# fig = px.scatter_geo(full_data_downsample_50,lat=full_data_downsample_50['lat'],lon=full_data_downsample_50['long'], hover_name=full_data_downsample_50.index)\n",
    "# fig.update_layout(title = 'World map', title_x=0.5, geo = dict(projection_scale=800000, center=dict(lat=full_data_downsample_50['lat'][0], lon=full_data_downsample_50['long'][0])))\n",
    "# fig.show()"
   ]
  },
  {
   "cell_type": "markdown",
   "id": "b3d97621",
   "metadata": {},
   "source": [
    "### Plot 10 sec"
   ]
  },
  {
   "cell_type": "code",
   "execution_count": 76,
   "id": "896d4c73",
   "metadata": {},
   "outputs": [
    {
     "data": {
      "text/plain": [
       "11:05:09:00    9.663986782827630\n",
       "11:05:09:50    9.844302388881848\n",
       "11:05:10:00    9.576989247007257\n",
       "11:05:10:50   12.046686593168641\n",
       "11:05:11:00   10.364678811764882\n",
       "11:05:11:50    8.132844504773423\n",
       "11:05:12:00    8.008924150278327\n",
       "11:05:12:50   11.415285914004770\n",
       "11:05:13:00   11.937892069839142\n",
       "11:05:13:50    9.615699966550720\n",
       "11:05:14:00    7.450883493371057\n",
       "11:05:14:50   11.445280502483371\n",
       "11:05:15:00   10.500801043444881\n",
       "11:05:15:50   10.176348318761811\n",
       "11:05:16:00   11.119017010602676\n",
       "11:05:16:50   10.393170361853514\n",
       "11:05:17:00    9.448729162617306\n",
       "11:05:17:50   10.923125522177129\n",
       "11:05:18:00   11.439533842186588\n",
       "11:05:18:50   11.049043723777812\n",
       "Name: a_total, dtype: float64"
      ]
     },
     "execution_count": 76,
     "metadata": {},
     "output_type": "execute_result"
    }
   ],
   "source": [
    "full_data_downsample_50['a_total'][:20]"
   ]
  },
  {
   "cell_type": "code",
   "execution_count": 77,
   "id": "74cc136b",
   "metadata": {},
   "outputs": [
    {
     "data": {
      "text/plain": [
       "[<matplotlib.lines.Line2D at 0x28c4d42fca0>]"
      ]
     },
     "execution_count": 77,
     "metadata": {},
     "output_type": "execute_result"
    },
    {
     "data": {
      "image/png": "[encoded data removed]",
      "text/plain": [
       "<Figure size 432x288 with 1 Axes>"
      ]
     },
     "metadata": {
      "needs_background": "light"
     },
     "output_type": "display_data"
    }
   ],
   "source": [
    "# [:20] = first 20 values, so 10 sec (500ms intervals * 20 values)\n",
    "plt.plot(full_data_downsample_50['a_total'][:20])"
   ]
  },
  {
   "cell_type": "code",
   "execution_count": 104,
   "id": "fc5bf694",
   "metadata": {},
   "outputs": [
    {
     "data": {
      "text/plain": [
       "[<matplotlib.lines.Line2D at 0x28c5acd29a0>]"
      ]
     },
     "execution_count": 104,
     "metadata": {},
     "output_type": "execute_result"
    },
    {
     "data": {
      "image/png": "[encoded data removed]",
      "text/plain": [
       "<Figure size 432x288 with 1 Axes>"
      ]
     },
     "metadata": {
      "needs_background": "light"
     },
     "output_type": "display_data"
    }
   ],
   "source": [
    "plt.plot(full_data_downsample_50['m_total'][:20])"
   ]
  },
  {
   "cell_type": "markdown",
   "id": "69cf31e3",
   "metadata": {},
   "source": [
    "### Plot 1 sec"
   ]
  },
  {
   "cell_type": "code",
   "execution_count": 95,
   "id": "18398840",
   "metadata": {},
   "outputs": [
    {
     "data": {
      "text/plain": [
       "11:05:09:00   9.663986782827630\n",
       "11:05:09:50   9.844302388881848\n",
       "Name: a_total, dtype: float64"
      ]
     },
     "execution_count": 95,
     "metadata": {},
     "output_type": "execute_result"
    }
   ],
   "source": [
    "full_data_downsample_50['a_total'][:2]"
   ]
  },
  {
   "cell_type": "code",
   "execution_count": 96,
   "id": "18e90951",
   "metadata": {},
   "outputs": [
    {
     "data": {
      "text/plain": [
       "[<matplotlib.lines.Line2D at 0x28c51be47f0>]"
      ]
     },
     "execution_count": 96,
     "metadata": {},
     "output_type": "execute_result"
    },
    {
     "data": {
      "image/png": "[encoded data removed]",
      "text/plain": [
       "<Figure size 432x288 with 1 Axes>"
      ]
     },
     "metadata": {
      "needs_background": "light"
     },
     "output_type": "display_data"
    }
   ],
   "source": [
    "plt.plot(full_data_downsample_50['a_total'][:2])"
   ]
  },
  {
   "cell_type": "markdown",
   "id": "4d215754",
   "metadata": {},
   "source": [
    "## 1.4. Full sensor data, downsampled by 100 (so each 1000ms)"
   ]
  },
  {
   "cell_type": "code",
   "execution_count": 49,
   "id": "17dd9161",
   "metadata": {
    "scrolled": true
   },
   "outputs": [
    {
     "data": {
      "text/html": [
       "<div>\n",
       "<style scoped>\n",
       "    .dataframe tbody tr th:only-of-type {\n",
       "        vertical-align: middle;\n",
       "    }\n",
       "\n",
       "    .dataframe tbody tr th {\n",
       "        vertical-align: top;\n",
       "    }\n",
       "\n",
       "    .dataframe thead th {\n",
       "        text-align: right;\n",
       "    }\n",
       "</style>\n",
       "<table border=\"1\" class=\"dataframe\">\n",
       "  <thead>\n",
       "    <tr style=\"text-align: right;\">\n",
       "      <th></th>\n",
       "      <th>ax</th>\n",
       "      <th>ay</th>\n",
       "      <th>az</th>\n",
       "      <th>gx</th>\n",
       "      <th>gy</th>\n",
       "      <th>gz</th>\n",
       "      <th>mx</th>\n",
       "      <th>my</th>\n",
       "      <th>mz</th>\n",
       "      <th>a_total</th>\n",
       "      <th>g_total</th>\n",
       "      <th>m_total</th>\n",
       "      <th>lat</th>\n",
       "      <th>long</th>\n",
       "    </tr>\n",
       "  </thead>\n",
       "  <tbody>\n",
       "    <tr>\n",
       "      <th>11:05:09:00</th>\n",
       "      <td>0.917251600000000</td>\n",
       "      <td>0.223266600000000</td>\n",
       "      <td>9.617767000000001</td>\n",
       "      <td>-0.033401490000000</td>\n",
       "      <td>0.057952880000000</td>\n",
       "      <td>0.003723144500000</td>\n",
       "      <td>51.450348499999997</td>\n",
       "      <td>-49.124908499999997</td>\n",
       "      <td>-263.400264999999990</td>\n",
       "      <td>9.663986782827630</td>\n",
       "      <td>0.066992967089706</td>\n",
       "      <td>272.838632163932175</td>\n",
       "      <td>44.434918000000003</td>\n",
       "      <td>26.047605999999998</td>\n",
       "    </tr>\n",
       "    <tr>\n",
       "      <th>11:05:10:00</th>\n",
       "      <td>0.718536400000000</td>\n",
       "      <td>0.630279540000000</td>\n",
       "      <td>9.529175000000000</td>\n",
       "      <td>-0.252838130000000</td>\n",
       "      <td>-0.019805908000000</td>\n",
       "      <td>-0.194427490000000</td>\n",
       "      <td>53.849792000000001</td>\n",
       "      <td>-47.999572999999998</td>\n",
       "      <td>-263.400269999999978</td>\n",
       "      <td>9.576989247007257</td>\n",
       "      <td>0.319564458038283</td>\n",
       "      <td>273.099727833439033</td>\n",
       "      <td>44.434917999999570</td>\n",
       "      <td>26.047613871704161</td>\n",
       "    </tr>\n",
       "    <tr>\n",
       "      <th>11:05:11:00</th>\n",
       "      <td>1.475097700000000</td>\n",
       "      <td>0.795486450000000</td>\n",
       "      <td>10.228287000000000</td>\n",
       "      <td>-0.375350950000000</td>\n",
       "      <td>-0.174270630000000</td>\n",
       "      <td>-0.034637450000000</td>\n",
       "      <td>56.849670000000003</td>\n",
       "      <td>-47.700499999999998</td>\n",
       "      <td>-256.050099999999986</td>\n",
       "      <td>10.364678811764882</td>\n",
       "      <td>0.415281038682242</td>\n",
       "      <td>266.587464801646092</td>\n",
       "      <td>44.434917999999030</td>\n",
       "      <td>26.047623632617320</td>\n",
       "    </tr>\n",
       "    <tr>\n",
       "      <th>11:05:12:00</th>\n",
       "      <td>1.403274500000000</td>\n",
       "      <td>-0.894821170000000</td>\n",
       "      <td>7.834091000000000</td>\n",
       "      <td>0.079528810000000</td>\n",
       "      <td>0.103759766000000</td>\n",
       "      <td>0.291336060000000</td>\n",
       "      <td>53.549956999999999</td>\n",
       "      <td>-30.750274000000001</td>\n",
       "      <td>-240.674595000000011</td>\n",
       "      <td>8.008924150278327</td>\n",
       "      <td>0.319323692382376</td>\n",
       "      <td>248.472678615840010</td>\n",
       "      <td>44.434917999998270</td>\n",
       "      <td>26.047637486816647</td>\n",
       "    </tr>\n",
       "    <tr>\n",
       "      <th>11:05:13:00</th>\n",
       "      <td>0.076889040000000</td>\n",
       "      <td>1.262359600000000</td>\n",
       "      <td>11.870711999999999</td>\n",
       "      <td>0.044372560000000</td>\n",
       "      <td>0.038787840000000</td>\n",
       "      <td>0.319030760000000</td>\n",
       "      <td>30.900573999999999</td>\n",
       "      <td>-11.849976000000000</td>\n",
       "      <td>-245.700070000000011</td>\n",
       "      <td>11.937892069839142</td>\n",
       "      <td>0.324428800261316</td>\n",
       "      <td>247.918921832793870</td>\n",
       "      <td>44.434917999997403</td>\n",
       "      <td>26.047653230224970</td>\n",
       "    </tr>\n",
       "  </tbody>\n",
       "</table>\n",
       "</div>"
      ],
      "text/plain": [
       "                           ax                 ay                 az  \\\n",
       "11:05:09:00 0.917251600000000  0.223266600000000  9.617767000000001   \n",
       "11:05:10:00 0.718536400000000  0.630279540000000  9.529175000000000   \n",
       "11:05:11:00 1.475097700000000  0.795486450000000 10.228287000000000   \n",
       "11:05:12:00 1.403274500000000 -0.894821170000000  7.834091000000000   \n",
       "11:05:13:00 0.076889040000000  1.262359600000000 11.870711999999999   \n",
       "\n",
       "                            gx                 gy                 gz  \\\n",
       "11:05:09:00 -0.033401490000000  0.057952880000000  0.003723144500000   \n",
       "11:05:10:00 -0.252838130000000 -0.019805908000000 -0.194427490000000   \n",
       "11:05:11:00 -0.375350950000000 -0.174270630000000 -0.034637450000000   \n",
       "11:05:12:00  0.079528810000000  0.103759766000000  0.291336060000000   \n",
       "11:05:13:00  0.044372560000000  0.038787840000000  0.319030760000000   \n",
       "\n",
       "                            mx                  my                   mz  \\\n",
       "11:05:09:00 51.450348499999997 -49.124908499999997 -263.400264999999990   \n",
       "11:05:10:00 53.849792000000001 -47.999572999999998 -263.400269999999978   \n",
       "11:05:11:00 56.849670000000003 -47.700499999999998 -256.050099999999986   \n",
       "11:05:12:00 53.549956999999999 -30.750274000000001 -240.674595000000011   \n",
       "11:05:13:00 30.900573999999999 -11.849976000000000 -245.700070000000011   \n",
       "\n",
       "                       a_total           g_total             m_total  \\\n",
       "11:05:09:00  9.663986782827630 0.066992967089706 272.838632163932175   \n",
       "11:05:10:00  9.576989247007257 0.319564458038283 273.099727833439033   \n",
       "11:05:11:00 10.364678811764882 0.415281038682242 266.587464801646092   \n",
       "11:05:12:00  8.008924150278327 0.319323692382376 248.472678615840010   \n",
       "11:05:13:00 11.937892069839142 0.324428800261316 247.918921832793870   \n",
       "\n",
       "                           lat               long  \n",
       "11:05:09:00 44.434918000000003 26.047605999999998  \n",
       "11:05:10:00 44.434917999999570 26.047613871704161  \n",
       "11:05:11:00 44.434917999999030 26.047623632617320  \n",
       "11:05:12:00 44.434917999998270 26.047637486816647  \n",
       "11:05:13:00 44.434917999997403 26.047653230224970  "
      ]
     },
     "execution_count": 49,
     "metadata": {},
     "output_type": "execute_result"
    }
   ],
   "source": [
    "full_data_downsample_100 = df_sensor_and_loc.copy(deep=True)[::100]\n",
    "full_data_downsample_100.head()"
   ]
  },
  {
   "cell_type": "code",
   "execution_count": 50,
   "id": "3e17ef93",
   "metadata": {
    "scrolled": false
   },
   "outputs": [],
   "source": [
    "# fig = px.scatter_geo(full_data_downsample_100,lat=full_data_downsample_100['lat'],lon=full_data_downsample_100['long'], hover_name=full_data_downsample_100.index)\n",
    "# fig.update_layout(title = 'World map', title_x=0.5, geo = dict(projection_scale=800000, center=dict(lat=full_data_downsample_100['lat'][0], lon=full_data_downsample_100['long'][0])))\n",
    "# fig.show()"
   ]
  },
  {
   "cell_type": "code",
   "execution_count": 79,
   "id": "cadab0f5",
   "metadata": {},
   "outputs": [
    {
     "data": {
      "text/plain": [
       "11:05:09:00    9.663986782827630\n",
       "11:05:10:00    9.576989247007257\n",
       "11:05:11:00   10.364678811764882\n",
       "11:05:12:00    8.008924150278327\n",
       "11:05:13:00   11.937892069839142\n",
       "11:05:14:00    7.450883493371057\n",
       "11:05:15:00   10.500801043444881\n",
       "11:05:16:00   11.119017010602676\n",
       "11:05:17:00    9.448729162617306\n",
       "11:05:18:00   11.439533842186588\n",
       "Name: a_total, dtype: float64"
      ]
     },
     "execution_count": 79,
     "metadata": {},
     "output_type": "execute_result"
    }
   ],
   "source": [
    "full_data_downsample_100['a_total'][:10]"
   ]
  },
  {
   "cell_type": "code",
   "execution_count": 80,
   "id": "dd70ca47",
   "metadata": {},
   "outputs": [
    {
     "data": {
      "text/plain": [
       "[<matplotlib.lines.Line2D at 0x28c4dc82340>]"
      ]
     },
     "execution_count": 80,
     "metadata": {},
     "output_type": "execute_result"
    },
    {
     "data": {
      "image/png": "[encoded data removed]",
      "text/plain": [
       "<Figure size 432x288 with 1 Axes>"
      ]
     },
     "metadata": {
      "needs_background": "light"
     },
     "output_type": "display_data"
    }
   ],
   "source": [
    "# [:10] = first 10 values, so 10 sec (1000ms intervals * 10 values)\n",
    "plt.plot(full_data_downsample_50['a_total'][:20])"
   ]
  },
  {
   "cell_type": "markdown",
   "id": "653cf0c2",
   "metadata": {},
   "source": [
    "## 1.5. Full sensor data, downsampled by 200 (so each 2000ms)"
   ]
  },
  {
   "cell_type": "code",
   "execution_count": 51,
   "id": "6fa81f9f",
   "metadata": {},
   "outputs": [
    {
     "data": {
      "text/html": [
       "<div>\n",
       "<style scoped>\n",
       "    .dataframe tbody tr th:only-of-type {\n",
       "        vertical-align: middle;\n",
       "    }\n",
       "\n",
       "    .dataframe tbody tr th {\n",
       "        vertical-align: top;\n",
       "    }\n",
       "\n",
       "    .dataframe thead th {\n",
       "        text-align: right;\n",
       "    }\n",
       "</style>\n",
       "<table border=\"1\" class=\"dataframe\">\n",
       "  <thead>\n",
       "    <tr style=\"text-align: right;\">\n",
       "      <th></th>\n",
       "      <th>ax</th>\n",
       "      <th>ay</th>\n",
       "      <th>az</th>\n",
       "      <th>gx</th>\n",
       "      <th>gy</th>\n",
       "      <th>gz</th>\n",
       "      <th>mx</th>\n",
       "      <th>my</th>\n",
       "      <th>mz</th>\n",
       "      <th>a_total</th>\n",
       "      <th>g_total</th>\n",
       "      <th>m_total</th>\n",
       "      <th>lat</th>\n",
       "      <th>long</th>\n",
       "    </tr>\n",
       "  </thead>\n",
       "  <tbody>\n",
       "    <tr>\n",
       "      <th>11:05:09:00</th>\n",
       "      <td>0.917251600000000</td>\n",
       "      <td>0.223266600000000</td>\n",
       "      <td>9.617767000000001</td>\n",
       "      <td>-0.033401490000000</td>\n",
       "      <td>0.057952880000000</td>\n",
       "      <td>0.003723144500000</td>\n",
       "      <td>51.450348499999997</td>\n",
       "      <td>-49.124908499999997</td>\n",
       "      <td>-263.400264999999990</td>\n",
       "      <td>9.663986782827630</td>\n",
       "      <td>0.066992967089706</td>\n",
       "      <td>272.838632163932175</td>\n",
       "      <td>44.434918000000003</td>\n",
       "      <td>26.047605999999998</td>\n",
       "    </tr>\n",
       "    <tr>\n",
       "      <th>11:05:11:00</th>\n",
       "      <td>1.475097700000000</td>\n",
       "      <td>0.795486450000000</td>\n",
       "      <td>10.228287000000000</td>\n",
       "      <td>-0.375350950000000</td>\n",
       "      <td>-0.174270630000000</td>\n",
       "      <td>-0.034637450000000</td>\n",
       "      <td>56.849670000000003</td>\n",
       "      <td>-47.700499999999998</td>\n",
       "      <td>-256.050099999999986</td>\n",
       "      <td>10.364678811764882</td>\n",
       "      <td>0.415281038682242</td>\n",
       "      <td>266.587464801646092</td>\n",
       "      <td>44.434917999999030</td>\n",
       "      <td>26.047623632617320</td>\n",
       "    </tr>\n",
       "    <tr>\n",
       "      <th>11:05:13:00</th>\n",
       "      <td>0.076889040000000</td>\n",
       "      <td>1.262359600000000</td>\n",
       "      <td>11.870711999999999</td>\n",
       "      <td>0.044372560000000</td>\n",
       "      <td>0.038787840000000</td>\n",
       "      <td>0.319030760000000</td>\n",
       "      <td>30.900573999999999</td>\n",
       "      <td>-11.849976000000000</td>\n",
       "      <td>-245.700070000000011</td>\n",
       "      <td>11.937892069839142</td>\n",
       "      <td>0.324428800261316</td>\n",
       "      <td>247.918921832793870</td>\n",
       "      <td>44.434917999997403</td>\n",
       "      <td>26.047653230224970</td>\n",
       "    </tr>\n",
       "    <tr>\n",
       "      <th>11:05:15:00</th>\n",
       "      <td>1.139907800000000</td>\n",
       "      <td>-0.212478640000000</td>\n",
       "      <td>10.436584000000000</td>\n",
       "      <td>-0.526611300000000</td>\n",
       "      <td>-0.224334720000000</td>\n",
       "      <td>-1.338516200000000</td>\n",
       "      <td>19.500731999999999</td>\n",
       "      <td>-42.449950000000001</td>\n",
       "      <td>-268.949900000000014</td>\n",
       "      <td>10.500801043444881</td>\n",
       "      <td>1.455771666693513</td>\n",
       "      <td>272.976785667844524</td>\n",
       "      <td>44.434917999996337</td>\n",
       "      <td>26.047672307531528</td>\n",
       "    </tr>\n",
       "    <tr>\n",
       "      <th>11:05:17:00</th>\n",
       "      <td>-0.040435790000000</td>\n",
       "      <td>-0.684127800000000</td>\n",
       "      <td>9.423843000000000</td>\n",
       "      <td>0.134918210000000</td>\n",
       "      <td>-0.216873170000000</td>\n",
       "      <td>0.421295170000000</td>\n",
       "      <td>17.700195000000001</td>\n",
       "      <td>-34.799956999999999</td>\n",
       "      <td>-270.899965000000009</td>\n",
       "      <td>9.448729162617306</td>\n",
       "      <td>0.492672828072324</td>\n",
       "      <td>273.699657822658537</td>\n",
       "      <td>44.434917999995939</td>\n",
       "      <td>26.047679716194267</td>\n",
       "    </tr>\n",
       "  </tbody>\n",
       "</table>\n",
       "</div>"
      ],
      "text/plain": [
       "                            ax                 ay                 az  \\\n",
       "11:05:09:00  0.917251600000000  0.223266600000000  9.617767000000001   \n",
       "11:05:11:00  1.475097700000000  0.795486450000000 10.228287000000000   \n",
       "11:05:13:00  0.076889040000000  1.262359600000000 11.870711999999999   \n",
       "11:05:15:00  1.139907800000000 -0.212478640000000 10.436584000000000   \n",
       "11:05:17:00 -0.040435790000000 -0.684127800000000  9.423843000000000   \n",
       "\n",
       "                            gx                 gy                 gz  \\\n",
       "11:05:09:00 -0.033401490000000  0.057952880000000  0.003723144500000   \n",
       "11:05:11:00 -0.375350950000000 -0.174270630000000 -0.034637450000000   \n",
       "11:05:13:00  0.044372560000000  0.038787840000000  0.319030760000000   \n",
       "11:05:15:00 -0.526611300000000 -0.224334720000000 -1.338516200000000   \n",
       "11:05:17:00  0.134918210000000 -0.216873170000000  0.421295170000000   \n",
       "\n",
       "                            mx                  my                   mz  \\\n",
       "11:05:09:00 51.450348499999997 -49.124908499999997 -263.400264999999990   \n",
       "11:05:11:00 56.849670000000003 -47.700499999999998 -256.050099999999986   \n",
       "11:05:13:00 30.900573999999999 -11.849976000000000 -245.700070000000011   \n",
       "11:05:15:00 19.500731999999999 -42.449950000000001 -268.949900000000014   \n",
       "11:05:17:00 17.700195000000001 -34.799956999999999 -270.899965000000009   \n",
       "\n",
       "                       a_total           g_total             m_total  \\\n",
       "11:05:09:00  9.663986782827630 0.066992967089706 272.838632163932175   \n",
       "11:05:11:00 10.364678811764882 0.415281038682242 266.587464801646092   \n",
       "11:05:13:00 11.937892069839142 0.324428800261316 247.918921832793870   \n",
       "11:05:15:00 10.500801043444881 1.455771666693513 272.976785667844524   \n",
       "11:05:17:00  9.448729162617306 0.492672828072324 273.699657822658537   \n",
       "\n",
       "                           lat               long  \n",
       "11:05:09:00 44.434918000000003 26.047605999999998  \n",
       "11:05:11:00 44.434917999999030 26.047623632617320  \n",
       "11:05:13:00 44.434917999997403 26.047653230224970  \n",
       "11:05:15:00 44.434917999996337 26.047672307531528  \n",
       "11:05:17:00 44.434917999995939 26.047679716194267  "
      ]
     },
     "execution_count": 51,
     "metadata": {},
     "output_type": "execute_result"
    }
   ],
   "source": [
    "full_data_downsample_200 = df_sensor_and_loc.copy(deep=True)[::200]\n",
    "full_data_downsample_200.head()"
   ]
  },
  {
   "cell_type": "code",
   "execution_count": 52,
   "id": "0d305f07",
   "metadata": {},
   "outputs": [],
   "source": [
    "# fig = px.scatter_geo(full_data_downsample_200,lat=full_data_downsample_200['lat'],lon=full_data_downsample_200['long'], hover_name=full_data_downsample_200.index)\n",
    "# fig.update_layout(title = 'World map', title_x=0.5, geo = dict(projection_scale=800000, center=dict(lat=full_data_downsample_200['lat'][0], lon=full_data_downsample_200['long'][0])))\n",
    "# fig.show()"
   ]
  },
  {
   "cell_type": "markdown",
   "id": "f3282e0d",
   "metadata": {},
   "source": [
    "# 2. Importing the ground truth data"
   ]
  },
  {
   "cell_type": "code",
   "execution_count": 53,
   "id": "80dd4c94",
   "metadata": {},
   "outputs": [
    {
     "data": {
      "text/html": [
       "<div>\n",
       "<style scoped>\n",
       "    .dataframe tbody tr th:only-of-type {\n",
       "        vertical-align: middle;\n",
       "    }\n",
       "\n",
       "    .dataframe tbody tr th {\n",
       "        vertical-align: top;\n",
       "    }\n",
       "\n",
       "    .dataframe thead th {\n",
       "        text-align: right;\n",
       "    }\n",
       "</style>\n",
       "<table border=\"1\" class=\"dataframe\">\n",
       "  <thead>\n",
       "    <tr style=\"text-align: right;\">\n",
       "      <th></th>\n",
       "      <th>lat</th>\n",
       "      <th>long</th>\n",
       "    </tr>\n",
       "  </thead>\n",
       "  <tbody>\n",
       "    <tr>\n",
       "      <th>11:05:09:00</th>\n",
       "      <td>44.434918000000003</td>\n",
       "      <td>26.047605999999998</td>\n",
       "    </tr>\n",
       "    <tr>\n",
       "      <th>11:05:10:60</th>\n",
       "      <td>44.434917999999307</td>\n",
       "      <td>26.047618594726657</td>\n",
       "    </tr>\n",
       "    <tr>\n",
       "      <th>11:05:11:60</th>\n",
       "      <td>44.434917999998618</td>\n",
       "      <td>26.047631189453320</td>\n",
       "    </tr>\n",
       "    <tr>\n",
       "      <th>11:05:12:40</th>\n",
       "      <td>44.434917999997921</td>\n",
       "      <td>26.047643784179972</td>\n",
       "    </tr>\n",
       "    <tr>\n",
       "      <th>11:05:13:20</th>\n",
       "      <td>44.434917999997225</td>\n",
       "      <td>26.047656378906638</td>\n",
       "    </tr>\n",
       "    <tr>\n",
       "      <th>...</th>\n",
       "      <td>...</td>\n",
       "      <td>...</td>\n",
       "    </tr>\n",
       "    <tr>\n",
       "      <th>13:04:50:40</th>\n",
       "      <td>44.434937499967326</td>\n",
       "      <td>26.047651878840107</td>\n",
       "    </tr>\n",
       "    <tr>\n",
       "      <th>13:04:51:20</th>\n",
       "      <td>44.434937499966637</td>\n",
       "      <td>26.047639284109248</td>\n",
       "    </tr>\n",
       "    <tr>\n",
       "      <th>13:04:52:20</th>\n",
       "      <td>44.434937499965947</td>\n",
       "      <td>26.047626689378390</td>\n",
       "    </tr>\n",
       "    <tr>\n",
       "      <th>13:04:53:20</th>\n",
       "      <td>44.434937499965251</td>\n",
       "      <td>26.047614094647528</td>\n",
       "    </tr>\n",
       "    <tr>\n",
       "      <th>13:04:54:20</th>\n",
       "      <td>44.434937499964562</td>\n",
       "      <td>26.047601499916670</td>\n",
       "    </tr>\n",
       "  </tbody>\n",
       "</table>\n",
       "<p>276 rows × 2 columns</p>\n",
       "</div>"
      ],
      "text/plain": [
       "                           lat               long\n",
       "11:05:09:00 44.434918000000003 26.047605999999998\n",
       "11:05:10:60 44.434917999999307 26.047618594726657\n",
       "11:05:11:60 44.434917999998618 26.047631189453320\n",
       "11:05:12:40 44.434917999997921 26.047643784179972\n",
       "11:05:13:20 44.434917999997225 26.047656378906638\n",
       "...                        ...                ...\n",
       "13:04:50:40 44.434937499967326 26.047651878840107\n",
       "13:04:51:20 44.434937499966637 26.047639284109248\n",
       "13:04:52:20 44.434937499965947 26.047626689378390\n",
       "13:04:53:20 44.434937499965251 26.047614094647528\n",
       "13:04:54:20 44.434937499964562 26.047601499916670\n",
       "\n",
       "[276 rows x 2 columns]"
      ]
     },
     "execution_count": 53,
     "metadata": {},
     "output_type": "execute_result"
    }
   ],
   "source": [
    "position_file = '../data/Processed/partial_4_ground_truth.csv'\n",
    "position_df = pd.read_csv(position_file, index_col=0)\n",
    "position_df"
   ]
  },
  {
   "cell_type": "code",
   "execution_count": 54,
   "id": "4a4da2bd",
   "metadata": {},
   "outputs": [],
   "source": [
    "# fig = px.scatter_geo(position_df,lat=position_df['lat'],lon=position_df['long'], hover_name=position_df.index)\n",
    "# fig.update_layout(title = 'World map', title_x=0.5, geo = dict(projection_scale=800000, center=dict(lat=position_df['lat'][0], lon=position_df['long'][0])))\n",
    "# fig.show()"
   ]
  },
  {
   "cell_type": "code",
   "execution_count": 105,
   "id": "b1b9987e",
   "metadata": {},
   "outputs": [],
   "source": [
    "data = {'c1': [1, 2, 3, 4], 'c2': [6, 10, 11, 22]}\n",
    "df1 = pd.DataFrame(data)"
   ]
  },
  {
   "cell_type": "code",
   "execution_count": 106,
   "id": "5e86a068",
   "metadata": {},
   "outputs": [],
   "source": [
    "sc = MinMaxScaler(feature_range=(0, 1))\n",
    "data1_scaled = sc.fit_transform(df1)"
   ]
  },
  {
   "cell_type": "code",
   "execution_count": 107,
   "id": "69b4e61c",
   "metadata": {},
   "outputs": [
    {
     "data": {
      "text/plain": [
       "array([[0.        , 0.        ],\n",
       "       [0.33333333, 0.25      ],\n",
       "       [0.66666667, 0.3125    ],\n",
       "       [1.        , 1.        ]])"
      ]
     },
     "execution_count": 107,
     "metadata": {},
     "output_type": "execute_result"
    }
   ],
   "source": [
    "data1_scaled"
   ]
  },
  {
   "cell_type": "code",
   "execution_count": 108,
   "id": "48b0406d",
   "metadata": {},
   "outputs": [],
   "source": [
    "data1_descaled = sc.inverse_transform(data1_scaled)"
   ]
  },
  {
   "cell_type": "code",
   "execution_count": 109,
   "id": "dc5c61b3",
   "metadata": {},
   "outputs": [
    {
     "data": {
      "text/plain": [
       "array([[ 1.,  6.],\n",
       "       [ 2., 10.],\n",
       "       [ 3., 11.],\n",
       "       [ 4., 22.]])"
      ]
     },
     "execution_count": 109,
     "metadata": {},
     "output_type": "execute_result"
    }
   ],
   "source": [
    "data1_descaled"
   ]
  },
  {
   "cell_type": "code",
   "execution_count": null,
   "id": "f4f8eeeb",
   "metadata": {},
   "outputs": [],
   "source": []
  }
 ],
 "metadata": {
  "kernelspec": {
   "display_name": "Python 3 (ipykernel)",
   "language": "python",
   "name": "python3"
  },
  "language_info": {
   "codemirror_mode": {
    "name": "ipython",
    "version": 3
   },
   "file_extension": ".py",
   "mimetype": "text/x-python",
   "name": "python",
   "nbconvert_exporter": "python",
   "pygments_lexer": "ipython3",
   "version": "3.9.2"
  }
 },
 "nbformat": 4,
 "nbformat_minor": 5
}
